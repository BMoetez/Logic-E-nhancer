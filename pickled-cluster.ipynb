{
 "cells": [
  {
   "cell_type": "code",
   "execution_count": 1,
   "id": "8123d556",
   "metadata": {
    "_cell_guid": "b1076dfc-b9ad-4769-8c92-a6c4dae69d19",
    "_uuid": "8f2839f25d086af736a60e9eeb907d3b93b6e0e5",
    "execution": {
     "iopub.execute_input": "2022-06-23T12:03:59.496374Z",
     "iopub.status.busy": "2022-06-23T12:03:59.495453Z",
     "iopub.status.idle": "2022-06-23T12:04:12.761100Z",
     "shell.execute_reply": "2022-06-23T12:04:12.759852Z"
    },
    "papermill": {
     "duration": 13.274523,
     "end_time": "2022-06-23T12:04:12.763928",
     "exception": false,
     "start_time": "2022-06-23T12:03:59.489405",
     "status": "completed"
    },
    "tags": []
   },
   "outputs": [],
   "source": [
    "import numpy as np\n",
    "import pandas as pd \n",
    "import seaborn as sns\n",
    "import matplotlib.pyplot as plt \n",
    "import matplotlib.style as stl \n",
    "from tensorflow import keras \n",
    "from keras.preprocessing.text import Tokenizer\n",
    "from nltk.corpus import stopwords\n",
    "import string\n",
    "from tensorflow.keras.models import Sequential,Model\n",
    "from tensorflow.keras.layers import Dense, LSTM, Embedding,Dropout,SpatialDropout1D,Conv1D,MaxPooling1D,GRU,BatchNormalization\n",
    "import warnings\n",
    "warnings.filterwarnings('ignore')\n",
    "stl.use('ggplot')\n",
    "from tqdm import tqdm\n",
    "import string\n",
    "from nltk.corpus import stopwords\n",
    "from nltk.tokenize import word_tokenize\n",
    "from nltk.stem import WordNetLemmatizer\n",
    "from nltk.stem.snowball import SnowballStemmer\n",
    "import regex as re\n",
    "import time\n",
    "import pickle"
   ]
  },
  {
   "cell_type": "code",
   "execution_count": 2,
   "id": "d25eebcf",
   "metadata": {
    "execution": {
     "iopub.execute_input": "2022-06-23T12:04:12.771409Z",
     "iopub.status.busy": "2022-06-23T12:04:12.770729Z",
     "iopub.status.idle": "2022-06-23T12:04:12.813020Z",
     "shell.execute_reply": "2022-06-23T12:04:12.811688Z"
    },
    "papermill": {
     "duration": 0.049142,
     "end_time": "2022-06-23T12:04:12.815954",
     "exception": false,
     "start_time": "2022-06-23T12:04:12.766812",
     "status": "completed"
    },
    "tags": []
   },
   "outputs": [],
   "source": [
    "with open('../input/dicttt/dic15distance.pkl', 'rb') as f:\n",
    "    dic1 = pickle.load(f)\n",
    "with open('../input/dicttt/dic3distance.pkl', 'rb') as f:\n",
    "    dic2 = pickle.load(f)\n",
    "with open('../input/dicttt/dic35distance.pkl', 'rb') as f:\n",
    "    dic3 = pickle.load(f)\n",
    "with open('../input/dicttt/dic4distance.pkl', 'rb') as f:\n",
    "    dic4 = pickle.load(f)\n",
    "with open('../input/dicttt/dic5distance.pkl', 'rb') as f:\n",
    "    dic5 = pickle.load(f)\n",
    "with open('../input/dicttt/dic7distance.pkl', 'rb') as f:\n",
    "    dic6 = pickle.load(f)"
   ]
  },
  {
   "cell_type": "code",
   "execution_count": 3,
   "id": "4d10a009",
   "metadata": {
    "execution": {
     "iopub.execute_input": "2022-06-23T12:04:12.823537Z",
     "iopub.status.busy": "2022-06-23T12:04:12.823113Z",
     "iopub.status.idle": "2022-06-23T12:04:12.833116Z",
     "shell.execute_reply": "2022-06-23T12:04:12.831954Z"
    },
    "papermill": {
     "duration": 0.017516,
     "end_time": "2022-06-23T12:04:12.836364",
     "exception": false,
     "start_time": "2022-06-23T12:04:12.818848",
     "status": "completed"
    },
    "tags": []
   },
   "outputs": [
    {
     "data": {
      "text/plain": [
       "(2170, 407, 309, 237, 146, 82)"
      ]
     },
     "execution_count": 3,
     "metadata": {},
     "output_type": "execute_result"
    }
   ],
   "source": [
    "len(dic1),len(dic2) ,len(dic3) ,len(dic4), len(dic5) , len(dic6)"
   ]
  },
  {
   "cell_type": "code",
   "execution_count": null,
   "id": "3dd06c64",
   "metadata": {
    "papermill": {
     "duration": 0.002652,
     "end_time": "2022-06-23T12:04:12.842193",
     "exception": false,
     "start_time": "2022-06-23T12:04:12.839541",
     "status": "completed"
    },
    "tags": []
   },
   "outputs": [],
   "source": []
  },
  {
   "cell_type": "code",
   "execution_count": null,
   "id": "3695997c",
   "metadata": {
    "papermill": {
     "duration": 0.002562,
     "end_time": "2022-06-23T12:04:12.847837",
     "exception": false,
     "start_time": "2022-06-23T12:04:12.845275",
     "status": "completed"
    },
    "tags": []
   },
   "outputs": [],
   "source": []
  },
  {
   "cell_type": "code",
   "execution_count": null,
   "id": "cc1aba9c",
   "metadata": {
    "papermill": {
     "duration": 0.002479,
     "end_time": "2022-06-23T12:04:12.853086",
     "exception": false,
     "start_time": "2022-06-23T12:04:12.850607",
     "status": "completed"
    },
    "tags": []
   },
   "outputs": [],
   "source": []
  },
  {
   "cell_type": "code",
   "execution_count": null,
   "id": "ba116348",
   "metadata": {
    "papermill": {
     "duration": 0.002423,
     "end_time": "2022-06-23T12:04:12.858240",
     "exception": false,
     "start_time": "2022-06-23T12:04:12.855817",
     "status": "completed"
    },
    "tags": []
   },
   "outputs": [],
   "source": []
  }
 ],
 "metadata": {
  "kernelspec": {
   "display_name": "Python 3",
   "language": "python",
   "name": "python3"
  },
  "language_info": {
   "codemirror_mode": {
    "name": "ipython",
    "version": 3
   },
   "file_extension": ".py",
   "mimetype": "text/x-python",
   "name": "python",
   "nbconvert_exporter": "python",
   "pygments_lexer": "ipython3",
   "version": "3.7.12"
  },
  "papermill": {
   "default_parameters": {},
   "duration": 26.788749,
   "end_time": "2022-06-23T12:04:15.531575",
   "environment_variables": {},
   "exception": null,
   "input_path": "__notebook__.ipynb",
   "output_path": "__notebook__.ipynb",
   "parameters": {},
   "start_time": "2022-06-23T12:03:48.742826",
   "version": "2.3.4"
  }
 },
 "nbformat": 4,
 "nbformat_minor": 5
}
