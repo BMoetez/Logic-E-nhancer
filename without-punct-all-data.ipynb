{
 "cells": [
  {
   "cell_type": "code",
   "execution_count": 1,
   "id": "1834df14",
   "metadata": {
    "_cell_guid": "b1076dfc-b9ad-4769-8c92-a6c4dae69d19",
    "_uuid": "8f2839f25d086af736a60e9eeb907d3b93b6e0e5",
    "execution": {
     "iopub.execute_input": "2022-06-09T18:26:25.092619Z",
     "iopub.status.busy": "2022-06-09T18:26:25.092103Z",
     "iopub.status.idle": "2022-06-09T18:26:31.465710Z",
     "shell.execute_reply": "2022-06-09T18:26:31.464888Z"
    },
    "papermill": {
     "duration": 6.393259,
     "end_time": "2022-06-09T18:26:31.468240",
     "exception": false,
     "start_time": "2022-06-09T18:26:25.074981",
     "status": "completed"
    },
    "tags": []
   },
   "outputs": [],
   "source": [
    "import numpy as np\n",
    "import pandas as pd \n",
    "import seaborn as sns\n",
    "import matplotlib.pyplot as plt \n",
    "import matplotlib.style as stl \n",
    "from tensorflow import keras \n",
    "from keras.preprocessing.text import Tokenizer\n",
    "from nltk.corpus import stopwords\n",
    "import string\n",
    "from tensorflow.keras.models import Sequential,Model\n",
    "from tensorflow.keras.layers import Dense, LSTM, Embedding,Dropout,SpatialDropout1D,Conv1D,MaxPooling1D,GRU,BatchNormalization\n",
    "import warnings\n",
    "warnings.filterwarnings('ignore')\n",
    "stl.use('ggplot')\n",
    "from tqdm import tqdm\n",
    "import string\n",
    "from nltk.corpus import stopwords\n",
    "from nltk.tokenize import word_tokenize\n",
    "from nltk.stem import WordNetLemmatizer\n",
    "from nltk.stem.snowball import SnowballStemmer\n",
    "import regex as re"
   ]
  },
  {
   "cell_type": "code",
   "execution_count": 2,
   "id": "28df46e6",
   "metadata": {
    "execution": {
     "iopub.execute_input": "2022-06-09T18:26:31.498546Z",
     "iopub.status.busy": "2022-06-09T18:26:31.497984Z",
     "iopub.status.idle": "2022-06-09T18:26:31.574391Z",
     "shell.execute_reply": "2022-06-09T18:26:31.573461Z"
    },
    "papermill": {
     "duration": 0.093329,
     "end_time": "2022-06-09T18:26:31.576684",
     "exception": false,
     "start_time": "2022-06-09T18:26:31.483355",
     "status": "completed"
    },
    "tags": []
   },
   "outputs": [],
   "source": [
    "newdata=pd.read_csv(\"../input/oathss/oaths.csv\")"
   ]
  },
  {
   "cell_type": "code",
   "execution_count": null,
   "id": "6aab85b4",
   "metadata": {
    "papermill": {
     "duration": 0.013784,
     "end_time": "2022-06-09T18:26:31.606052",
     "exception": false,
     "start_time": "2022-06-09T18:26:31.592268",
     "status": "completed"
    },
    "tags": []
   },
   "outputs": [],
   "source": []
  },
  {
   "cell_type": "markdown",
   "id": "d45b46dd",
   "metadata": {
    "papermill": {
     "duration": 0.013758,
     "end_time": "2022-06-09T18:26:31.633376",
     "exception": false,
     "start_time": "2022-06-09T18:26:31.619618",
     "status": "completed"
    },
    "tags": []
   },
   "source": [
    "# Preprocessing"
   ]
  },
  {
   "cell_type": "code",
   "execution_count": 3,
   "id": "3b255def",
   "metadata": {
    "execution": {
     "iopub.execute_input": "2022-06-09T18:26:31.662793Z",
     "iopub.status.busy": "2022-06-09T18:26:31.662506Z",
     "iopub.status.idle": "2022-06-09T18:26:31.669222Z",
     "shell.execute_reply": "2022-06-09T18:26:31.668432Z"
    },
    "papermill": {
     "duration": 0.023571,
     "end_time": "2022-06-09T18:26:31.670785",
     "exception": false,
     "start_time": "2022-06-09T18:26:31.647214",
     "status": "completed"
    },
    "tags": []
   },
   "outputs": [],
   "source": [
    "all_text=newdata[\"transcription_text\"]"
   ]
  },
  {
   "cell_type": "code",
   "execution_count": 4,
   "id": "fcedfd70",
   "metadata": {
    "execution": {
     "iopub.execute_input": "2022-06-09T18:26:31.699433Z",
     "iopub.status.busy": "2022-06-09T18:26:31.698832Z",
     "iopub.status.idle": "2022-06-09T18:26:31.705765Z",
     "shell.execute_reply": "2022-06-09T18:26:31.705094Z"
    },
    "papermill": {
     "duration": 0.023497,
     "end_time": "2022-06-09T18:26:31.708030",
     "exception": false,
     "start_time": "2022-06-09T18:26:31.684533",
     "status": "completed"
    },
    "tags": []
   },
   "outputs": [
    {
     "data": {
      "text/plain": [
       "'[M177 ENCL]\\r\\n[[pre-printed]] I, [[handwritten]] I C Meekins [[/handwritten]], of [[handwritten]] Currituck [[/handwritten]] County, State of North Carolina, do solemnly swear or affirm, in presence of Almighty God, that I will henceforth faithfully support, protect and defend the Constitution of the United States and the Union of the States thereunder; and that I will, in like manner, abide by and faithfully support all laws and proclamations which have been made during the existing rebellion with reference to the emancipation of slaves.  So help me God. \\r\\n\\r\\n[[handwritten]] Isaac C. Meekins [[/handwritten]]\\r\\n\\r\\nSworn and subscribed to this the [[handwritten]] 16 [[/handwritten]] day of [[handwritten]] Sept [[/handwritten]] A.D., 1865, before \\r\\n[[handwritten]] E H Walker [[/handwritten]], J.P.\\r\\nIt is hereby certified that the above is a true copy of the original oath taken and subscribed by [[handwritten]] I C Meekins\\r\\nE H Walker, J.P.\\r\\nJohn B Etheridge, J.P.\\r\\n[[\\\\handwritten]] [[/pre-printed]]'"
      ]
     },
     "execution_count": 4,
     "metadata": {},
     "output_type": "execute_result"
    }
   ],
   "source": [
    "all_text[0]"
   ]
  },
  {
   "cell_type": "code",
   "execution_count": 5,
   "id": "b156bd25",
   "metadata": {
    "execution": {
     "iopub.execute_input": "2022-06-09T18:26:31.736947Z",
     "iopub.status.busy": "2022-06-09T18:26:31.736431Z",
     "iopub.status.idle": "2022-06-09T18:26:31.741018Z",
     "shell.execute_reply": "2022-06-09T18:26:31.740347Z"
    },
    "papermill": {
     "duration": 0.020971,
     "end_time": "2022-06-09T18:26:31.742959",
     "exception": false,
     "start_time": "2022-06-09T18:26:31.721988",
     "status": "completed"
    },
    "tags": []
   },
   "outputs": [
    {
     "data": {
      "text/plain": [
       "'[M177 ENCL]\\r\\n[[pre-printed]] I, [[handwritten]] I C Meekins [[/handwritten]], of [[handwritten]] Currituck [[/handwritten]] County, State of North Carolina, do solemnly swear or affirm, in presence of Almighty God, that I will henceforth faithfully support, protect and defend the Constitution of the United States and the Union of the States thereunder; and that I will, in like manner, abide by and faithfully support all laws and proclamations which have been made during the existing rebellion with reference to the emancipation of slaves.  So help me God. \\r\\n\\r\\n[[handwritten]] Isaac C. Meekins [[/handwritten]]\\r\\n\\r\\nSworn and subscribed to this the [[handwritten]] 16 [[/handwritten]] day of [[handwritten]] Sept [[/handwritten]] A.D., 1865, before \\r\\n[[handwritten]] E H Walker [[/handwritten]], J.P.\\r\\nIt is hereby certified that the above is a true copy of the original oath taken and subscribed by [[handwritten]] I C Meekins\\r\\nE H Walker, J.P.\\r\\nJohn B Etheridge, J.P.\\r\\n[[\\\\handwritten]] [[/pre-printed]]'"
      ]
     },
     "execution_count": 5,
     "metadata": {},
     "output_type": "execute_result"
    }
   ],
   "source": [
    "all_text[0]"
   ]
  },
  {
   "cell_type": "code",
   "execution_count": 6,
   "id": "2921787e",
   "metadata": {
    "execution": {
     "iopub.execute_input": "2022-06-09T18:26:31.771947Z",
     "iopub.status.busy": "2022-06-09T18:26:31.771430Z",
     "iopub.status.idle": "2022-06-09T18:26:31.775823Z",
     "shell.execute_reply": "2022-06-09T18:26:31.775185Z"
    },
    "papermill": {
     "duration": 0.02091,
     "end_time": "2022-06-09T18:26:31.777660",
     "exception": false,
     "start_time": "2022-06-09T18:26:31.756750",
     "status": "completed"
    },
    "tags": []
   },
   "outputs": [
    {
     "data": {
      "text/plain": [
       "'^[[ [M177 ENCL] ]]\\r\\nDepartment of Virginia and North Carolina, ^[[Feb 23]]\\r\\n^[[Newbern Dec 30th]] 1864.\\r\\n^[[No 1735]]\\r\\n^[[I. C. [[Meekins]] ]] has taken and subscribed the OATH and PAROLE required by  General Orders No. 49, for a Loyal Citizen of the United States, residing in a State ever in rebellion, or who has sympathized with the seceding States. \\r\\n^[[W. C. Hunt]]\\r\\n^[[Lt & Dept Pro Marshall]]'"
      ]
     },
     "execution_count": 6,
     "metadata": {},
     "output_type": "execute_result"
    }
   ],
   "source": [
    "all_text[1]"
   ]
  },
  {
   "cell_type": "code",
   "execution_count": 7,
   "id": "05bb4363",
   "metadata": {
    "execution": {
     "iopub.execute_input": "2022-06-09T18:26:31.807454Z",
     "iopub.status.busy": "2022-06-09T18:26:31.806987Z",
     "iopub.status.idle": "2022-06-09T18:26:31.811547Z",
     "shell.execute_reply": "2022-06-09T18:26:31.810861Z"
    },
    "papermill": {
     "duration": 0.021248,
     "end_time": "2022-06-09T18:26:31.813213",
     "exception": false,
     "start_time": "2022-06-09T18:26:31.791965",
     "status": "completed"
    },
    "tags": []
   },
   "outputs": [
    {
     "data": {
      "text/plain": [
       "'[P 64 ENCL]\\r\\n[[Preprinted]]I,[[/Preprinted]] W. H. Pearce, [[Preprinted]]of[[/Preprinted]] Craven [[Preprinted]]County, State of North-Carolina, do solemnly swear or affirm, in presence of Almighty God, that I will henceforth faithfully support, protect and defend the Constitution of\\r\\nthe United States and the Union of the States thereunder; and that I will, in like manner, abide by and faithfully support all laws and proclamations which have been made during the existing rebellion with reference to the emancipation of slaves. So help me God.[[/Preprinted]]\\r\\n\\r\\nW. H. Pearce\\r\\n\\r\\n[[Preprinted]]Sworn and subscribed to this[[/Preprinted]] 3rd [[Preprinted]]day of[[/Preprinted]] October,\\r\\n[[Preprinted]]A.D., 1865, before[[/Preprinted]]\\r\\nJm. E. Ampetts[?] [[Preprinted]], J. P.\\r\\nIt is hereby certified that the above is a true copy of the original oath taken and subscribed by[[/Preprinted]] W. H. Pearce.\\r\\n\\r\\nJm. E. Ampetts[?], J.P.\\r\\nA. B. Watson[?], J.P.\\r\\n_______________, J.P.'"
      ]
     },
     "execution_count": 7,
     "metadata": {},
     "output_type": "execute_result"
    }
   ],
   "source": [
    "all_text[2]"
   ]
  },
  {
   "cell_type": "code",
   "execution_count": 8,
   "id": "1adfe950",
   "metadata": {
    "execution": {
     "iopub.execute_input": "2022-06-09T18:26:31.844181Z",
     "iopub.status.busy": "2022-06-09T18:26:31.843644Z",
     "iopub.status.idle": "2022-06-09T18:26:31.848251Z",
     "shell.execute_reply": "2022-06-09T18:26:31.847563Z"
    },
    "papermill": {
     "duration": 0.021247,
     "end_time": "2022-06-09T18:26:31.849952",
     "exception": false,
     "start_time": "2022-06-09T18:26:31.828705",
     "status": "completed"
    },
    "tags": []
   },
   "outputs": [
    {
     "data": {
      "text/plain": [
       "'State of North Carolina,}\\r\\n________ County.                       }\\r\\nI, ________, do solemnly swear that I have never voluntarily borne arms against the United States since I have been a citizen thereof; that I have voluntarily given no aid, countenance, counsel, or encouragement to persons engaged in armed hostility thereto; that I have neither sought nor accepted, nor attempted to exercise the functions of any office whatever under any authority, or pretended authority, in hostility to the United States; that I have not yielded a voluntary support to any pretended government, authority, power or constitution within the United States, hostile or inimical thereto. And I do further swear, that, to the best of my knowledge and ability, I will support and defend the Constitution of the United States against all enemies, foreign, and domestic; that I will bear true faith and allegiance to the same, while I hold affair thirein that I take this obligation freely, without any mental reservation or purpose of evasion; and that I will well and faithfully discharge the duties of the office on which I am about to enter, so help my God.\\r\\n\\r\\n____________\\r\\nSworn and subscribed before me, this ______ day of ____________, 1866.\\r\\n____________ '"
      ]
     },
     "execution_count": 8,
     "metadata": {},
     "output_type": "execute_result"
    }
   ],
   "source": [
    "all_text[3]"
   ]
  },
  {
   "cell_type": "code",
   "execution_count": 9,
   "id": "01f9e7f7",
   "metadata": {
    "execution": {
     "iopub.execute_input": "2022-06-09T18:26:31.879374Z",
     "iopub.status.busy": "2022-06-09T18:26:31.878989Z",
     "iopub.status.idle": "2022-06-09T18:26:31.883803Z",
     "shell.execute_reply": "2022-06-09T18:26:31.883141Z"
    },
    "papermill": {
     "duration": 0.02122,
     "end_time": "2022-06-09T18:26:31.885427",
     "exception": false,
     "start_time": "2022-06-09T18:26:31.864207",
     "status": "completed"
    },
    "tags": []
   },
   "outputs": [
    {
     "data": {
      "text/plain": [
       "'State of North Carolina, \\r\\nWake]] County. \\r\\n\\r\\nI, S.E. Allen, do solemnly swear that I have never voluntarily borne arms against the United States since I have been a citizen thereof; that I have voluntarily given no aid, countenance, counsel, or encouragement to persons engaged in armed hostility thereto; that I have neither sought nor accepted, nor attempted to exercise the functions of any office whatever under any authority, or pretended authority, in hostility to the United States; that I have not yielded a voluntary support to any pretended government, authority, power or constitution within the United States, hostile or inimical thereto. And I do further swear, that, to the best of my knowledge and ability, I will support and defend the Constitution of the United States against all enemies, foreign and domestic; that I will bear true faith and allegiance to the same; that I take this obligation freely, without any mental reservation or purpose of evasion; and that I will well and faithfully discharge the duties of the office on which I am about to enter, so help me God.\\r\\n\\r\\nS.E. Allen\\r\\n\\r\\nSworn and subscribed before me, this 31st day of May, 1867.\\r\\n \\r\\nT.D. McAlpine \\r\\nLieut. Vet. Res. Corp '"
      ]
     },
     "execution_count": 9,
     "metadata": {},
     "output_type": "execute_result"
    }
   ],
   "source": [
    "all_text[4]"
   ]
  },
  {
   "cell_type": "code",
   "execution_count": 10,
   "id": "1d151dde",
   "metadata": {
    "execution": {
     "iopub.execute_input": "2022-06-09T18:26:31.915642Z",
     "iopub.status.busy": "2022-06-09T18:26:31.915035Z",
     "iopub.status.idle": "2022-06-09T18:26:31.919830Z",
     "shell.execute_reply": "2022-06-09T18:26:31.919162Z"
    },
    "papermill": {
     "duration": 0.021656,
     "end_time": "2022-06-09T18:26:31.921492",
     "exception": false,
     "start_time": "2022-06-09T18:26:31.899836",
     "status": "completed"
    },
    "tags": []
   },
   "outputs": [
    {
     "data": {
      "text/plain": [
       "'I Sarah E Dough, of Currituck county, State of North  Carolina do solemnly swear or affirm in presence of Almighty God, that I will hence forth faithfully support, protect and defend the Constitution of the United States and the Union of the States thereunder; and that I will, in like manner, abide by and faithfully support all laws and proclamations which have been made during the existing rebellion with reference to the emancipation of slave. So help me God\\r\\n\\r\\nSarah. E. Dough\\r\\nsworn and subscribed to this the 1^st day of {Dec.\\r\\nA.D. 1866, before\\r\\n\\r\\nIsaac C. Merkins, J.P.'"
      ]
     },
     "execution_count": 10,
     "metadata": {},
     "output_type": "execute_result"
    }
   ],
   "source": [
    "all_text[5]"
   ]
  },
  {
   "cell_type": "code",
   "execution_count": 11,
   "id": "4aec737c",
   "metadata": {
    "execution": {
     "iopub.execute_input": "2022-06-09T18:26:31.952520Z",
     "iopub.status.busy": "2022-06-09T18:26:31.952250Z",
     "iopub.status.idle": "2022-06-09T18:26:31.957124Z",
     "shell.execute_reply": "2022-06-09T18:26:31.956425Z"
    },
    "papermill": {
     "duration": 0.022452,
     "end_time": "2022-06-09T18:26:31.958844",
     "exception": false,
     "start_time": "2022-06-09T18:26:31.936392",
     "status": "completed"
    },
    "tags": []
   },
   "outputs": [
    {
     "data": {
      "text/plain": [
       "'[[preprinted]]\\r\\nState of North Carolina, }\\r\\n^[[Randolph]] County. }\\r\\n\\r\\nI, ^[[W R Frazier]], do solemnly swear that I have never voluntarily borne arms against the United States since I have been a citizen thereof; that I have voluntarily given no aid, countenance, counsel, or encouragement to persons engaged in armed hostility thereto; that I have neither sought nor accepted, nor attempted to exercise the functions of any office whatever under any authority, or pretended authority, in hostility to the United States; that I have not yielded a voluntary support to any pretended government, authority, power or constitution within the United States, hostile or inimical thereto. And I do further swear, that, to the best of my knowledge and ability, I will support and defend the Constitution of the United States against all enemies, foreign and domestic; that I will bear true faith and allegiance to the same; that I take this obligation freely, without any mental reservation or purpose of evasion; and that I will well and faithfully discharge the duties of the office on which I am about to enter, so help me God.\\r\\n\\r\\n[[signature]] W R Frazer[[/signature]]\\r\\nSworn and subscribed before me, this ^[[6th]] day of ^[[Septr]], 1866.\\r\\n[[/preprinted]]\\r\\n[[signature]] W M Wilson [[/signature]] JP \\r\\n'"
      ]
     },
     "execution_count": 11,
     "metadata": {},
     "output_type": "execute_result"
    }
   ],
   "source": [
    "all_text[100]  "
   ]
  },
  {
   "cell_type": "code",
   "execution_count": 12,
   "id": "44f85bb1",
   "metadata": {
    "execution": {
     "iopub.execute_input": "2022-06-09T18:26:31.989691Z",
     "iopub.status.busy": "2022-06-09T18:26:31.989012Z",
     "iopub.status.idle": "2022-06-09T18:26:31.994380Z",
     "shell.execute_reply": "2022-06-09T18:26:31.993582Z"
    },
    "papermill": {
     "duration": 0.022299,
     "end_time": "2022-06-09T18:26:31.996037",
     "exception": false,
     "start_time": "2022-06-09T18:26:31.973738",
     "status": "completed"
    },
    "tags": []
   },
   "outputs": [
    {
     "data": {
      "text/plain": [
       "'[[preprinted]]\\r\\nState of North Carolina, }\\r\\n^[[Randolph]] County. }\\r\\n\\r\\nI, ^[[W R Frazier]], do solemnly swear that I have never voluntarily borne arms against the United States since I have been a citizen thereof; that I have voluntarily given no aid, countenance, counsel, or encouragement to persons engaged in armed hostility thereto; that I have neither sought nor accepted, nor attempted to exercise the functions of any office whatever under any authority, or pretended authority, in hostility to the United States; that I have not yielded a voluntary support to any pretended government, authority, power or constitution within the United States, hostile or inimical thereto. And I do further swear, that, to the best of my knowledge and ability, I will support and defend the Constitution of the United States against all enemies, foreign and domestic; that I will bear true faith and allegiance to the same; that I take this obligation freely, without any mental reservation or purpose of evasion; and that I will well and faithfully discharge the duties of the office on which I am about to enter, so help me God.\\r\\n\\r\\n[[signature]] W R Frazer[[/signature]]\\r\\nSworn and subscribed before me, this ^[[6th]] day of ^[[Septr]], 1866.\\r\\n[[/preprinted]]\\r\\n[[signature]] W M Wilson [[/signature]] JP \\r\\n'"
      ]
     },
     "execution_count": 12,
     "metadata": {},
     "output_type": "execute_result"
    }
   ],
   "source": [
    "all_text[100]"
   ]
  },
  {
   "cell_type": "code",
   "execution_count": 13,
   "id": "a157bdfe",
   "metadata": {
    "execution": {
     "iopub.execute_input": "2022-06-09T18:26:32.026611Z",
     "iopub.status.busy": "2022-06-09T18:26:32.026338Z",
     "iopub.status.idle": "2022-06-09T18:26:32.030951Z",
     "shell.execute_reply": "2022-06-09T18:26:32.030266Z"
    },
    "papermill": {
     "duration": 0.021914,
     "end_time": "2022-06-09T18:26:32.032701",
     "exception": false,
     "start_time": "2022-06-09T18:26:32.010787",
     "status": "completed"
    },
    "tags": []
   },
   "outputs": [
    {
     "data": {
      "text/plain": [
       "'[[preprinted]]\\r\\nState of North Carolina, }\\r\\n^[[Randolph]] County. }\\r\\n\\r\\nI, ^[[W R Frazier]], do solemnly swear that I have never voluntarily borne arms against the United States since I have been a citizen thereof; that I have voluntarily given no aid, countenance, counsel, or encouragement to persons engaged in armed hostility thereto; that I have neither sought nor accepted, nor attempted to exercise the functions of any office whatever under any authority, or pretended authority, in hostility to the United States; that I have not yielded a voluntary support to any pretended government, authority, power or constitution within the United States, hostile or inimical thereto. And I do further swear, that, to the best of my knowledge and ability, I will support and defend the Constitution of the United States against all enemies, foreign and domestic; that I will bear true faith and allegiance to the same; that I take this obligation freely, without any mental reservation or purpose of evasion; and that I will well and faithfully discharge the duties of the office on which I am about to enter, so help me God.\\r\\n\\r\\n[[signature]] W R Frazer[[/signature]]\\r\\nSworn and subscribed before me, this ^[[6th]] day of ^[[Septr]], 1866.\\r\\n[[/preprinted]]\\r\\n[[signature]] W M Wilson [[/signature]] JP \\r\\n'"
      ]
     },
     "execution_count": 13,
     "metadata": {},
     "output_type": "execute_result"
    }
   ],
   "source": [
    "all_text[100]"
   ]
  },
  {
   "cell_type": "code",
   "execution_count": 14,
   "id": "c653d061",
   "metadata": {
    "execution": {
     "iopub.execute_input": "2022-06-09T18:26:32.064096Z",
     "iopub.status.busy": "2022-06-09T18:26:32.063325Z",
     "iopub.status.idle": "2022-06-09T18:26:32.068905Z",
     "shell.execute_reply": "2022-06-09T18:26:32.068153Z"
    },
    "papermill": {
     "duration": 0.023206,
     "end_time": "2022-06-09T18:26:32.070824",
     "exception": false,
     "start_time": "2022-06-09T18:26:32.047618",
     "status": "completed"
    },
    "tags": []
   },
   "outputs": [
    {
     "data": {
      "text/plain": [
       "'Copy  G6\\r\\nI, James L. Gantt solemnly swear that I have carefully read the Amnesty Proclamation issued by Andrew Johnson, President of the United States of America, on May 29th, 1865, and that I am not excepted from the benefits of that Proclamation by any one of the fourteen exceptions therein made.  /signed/ Jas L. Gantt\\r\\nSworn to and subscribed before me at Charleston, S.C. this 31 day of August 1865.\\r\\n/signed/ Levi Stuber\\r\\nMaj 47 Pa Vols\\r\\nPro Marshal\\r\\n\\r\\nNo 992\\r\\nUnites States of America\\r\\nI, James L Gantt of the City of Charleston, State of South Carolina do solemnly swear in the presence of Almighty God that I will henceforth faithfully support and defend the Constitution of the United States, and the Union of the States thereunder, and that I will in like manner, abide by and faithfully support all laws and proclamations which have been made during the existing rebellion with reference to the Emancipation of Slaves, so help me God. / signed/Jas L. Gantt\\r\\nSworn to and subscribed before me at Charleston, SC this 31 day of August 1865\\r\\n/signed/Levi Stuber\\r\\nMj 47 Pa Vols\\r\\nPM Pro Marshal\\r\\nA true copy\\r\\nJ. Milton Thompson\\r\\nCapt 33 NJV \\r\\nA A D C J & Pro Marshall\\r\\n[[left margin]] Duplicate [[\\\\left margin]]'"
      ]
     },
     "execution_count": 14,
     "metadata": {},
     "output_type": "execute_result"
    }
   ],
   "source": [
    "all_text[1200]"
   ]
  },
  {
   "cell_type": "code",
   "execution_count": 15,
   "id": "32d0dfae",
   "metadata": {
    "execution": {
     "iopub.execute_input": "2022-06-09T18:26:32.102872Z",
     "iopub.status.busy": "2022-06-09T18:26:32.102226Z",
     "iopub.status.idle": "2022-06-09T18:26:32.107103Z",
     "shell.execute_reply": "2022-06-09T18:26:32.106413Z"
    },
    "papermill": {
     "duration": 0.022864,
     "end_time": "2022-06-09T18:26:32.108888",
     "exception": false,
     "start_time": "2022-06-09T18:26:32.086024",
     "status": "completed"
    },
    "tags": []
   },
   "outputs": [
    {
     "data": {
      "text/plain": [
       "'Copy  G6\\r\\nI, James L. Gantt solemnly swear that I have carefully read the Amnesty Proclamation issued by Andrew Johnson, President of the United States of America, on May 29th, 1865, and that I am not excepted from the benefits of that Proclamation by any one of the fourteen exceptions therein made.  /signed/ Jas L. Gantt\\r\\nSworn to and subscribed before me at Charleston, S.C. this 31 day of August 1865.\\r\\n/signed/ Levi Stuber\\r\\nMaj 47 Pa Vols\\r\\nPro Marshal\\r\\n\\r\\nNo 992\\r\\nUnites States of America\\r\\nI, James L Gantt of the City of Charleston, State of South Carolina do solemnly swear in the presence of Almighty God that I will henceforth faithfully support and defend the Constitution of the United States, and the Union of the States thereunder, and that I will in like manner, abide by and faithfully support all laws and proclamations which have been made during the existing rebellion with reference to the Emancipation of Slaves, so help me God. / signed/Jas L. Gantt\\r\\nSworn to and subscribed before me at Charleston, SC this 31 day of August 1865\\r\\n/signed/Levi Stuber\\r\\nMj 47 Pa Vols\\r\\nPM Pro Marshal\\r\\nA true copy\\r\\nJ. Milton Thompson\\r\\nCapt 33 NJV \\r\\nA A D C J & Pro Marshall\\r\\n[[left margin]] Duplicate [[\\\\left margin]]'"
      ]
     },
     "execution_count": 15,
     "metadata": {},
     "output_type": "execute_result"
    }
   ],
   "source": [
    "all_text[1200]"
   ]
  },
  {
   "cell_type": "code",
   "execution_count": 16,
   "id": "8b98d8b4",
   "metadata": {
    "execution": {
     "iopub.execute_input": "2022-06-09T18:26:32.140091Z",
     "iopub.status.busy": "2022-06-09T18:26:32.139518Z",
     "iopub.status.idle": "2022-06-09T18:26:32.144498Z",
     "shell.execute_reply": "2022-06-09T18:26:32.143804Z"
    },
    "papermill": {
     "duration": 0.022134,
     "end_time": "2022-06-09T18:26:32.146095",
     "exception": false,
     "start_time": "2022-06-09T18:26:32.123961",
     "status": "completed"
    },
    "tags": []
   },
   "outputs": [
    {
     "data": {
      "text/plain": [
       "'against the said property, but was unable to do so by reason of the absence of the Tax collector. Your petitioner therefore requests that an order be granted to her to enable her to regain possession of her premises aforesaid. (Known as No. 58 Cannon Street and held by Richard Roper as Trustee for the benefit of herself and daughters.) so that she can continue to realize an income by renting the same of which she is greatly in need.\\r\\n\\r\\nAs an evidence of loyalty your petitioner has taken the oath of allegiance, a copy of which is herein enclosed.\\r\\n\\r\\nAnd your Petitioner will ever pray: and so forth. \\r\\n\\r\\nAnne W. Gibbes\\r\\n\\r\\nCheraw So. Ca.\\r\\nSeptember 11th 1865\\r\\n\\r\\n\\r\\nDuplicate\\r\\n\\r\\n[Copy.]  \\r\\nHEADQUARTERS UNITED STATES FORCES.\\r\\nNO. 604 PROVOST MARSHAL\\'S OFFICE.\\r\\nCheraw S.C. 11th Sept 1865.\\r\\n\\r\\nI A.W. Gibs, do solemnly sear, in presence of Almighty God, that I will henceforth faithfully support and defend the Constitution of the United States and the Union of the States thereunder, and that I will in like manner, abide by and faithfully support all Laws and Proclamations which have been made during the existing Rebellion with reference to Emancipation of Slave -- \"SO HELP ME GOD.\"\\r\\n\\r\\nSworn to and subscribed before me at Cheraw S.C., this 11th day of Sept 1865.\\r\\n\\r\\nAnne W. Gibbes\\r\\nA. Austin Sperry Asst Provost Marshal.   '"
      ]
     },
     "execution_count": 16,
     "metadata": {},
     "output_type": "execute_result"
    }
   ],
   "source": [
    "all_text[1203]"
   ]
  },
  {
   "cell_type": "code",
   "execution_count": 17,
   "id": "53aeadb7",
   "metadata": {
    "execution": {
     "iopub.execute_input": "2022-06-09T18:26:32.177821Z",
     "iopub.status.busy": "2022-06-09T18:26:32.177565Z",
     "iopub.status.idle": "2022-06-09T18:26:32.183058Z",
     "shell.execute_reply": "2022-06-09T18:26:32.182283Z"
    },
    "papermill": {
     "duration": 0.023599,
     "end_time": "2022-06-09T18:26:32.184676",
     "exception": false,
     "start_time": "2022-06-09T18:26:32.161077",
     "status": "completed"
    },
    "tags": []
   },
   "outputs": [
    {
     "data": {
      "text/plain": [
       "'I, P.T. Gervais solemnly swear that I have carefully read the Amnesty Proclamation issued by ANDREW JOHNSON, President of the United States of America, on May 29th, 1865, and that I am not excepted from the benefits of that Proclamation by any one of the fourteen exceptions therein made, [[strikethrough]] except [[/strikethrough]]\\r\\n\\r\\nPaul T. Gervais\\r\\n\\r\\nSworn to and subscribed before me at Charleston SC this 1st day of oct 1865.\\r\\nJ Miller Thompson\\r\\nCp & 33 U.S.C.T. & P. M.\\r\\nNo. 1621\\r\\n\\r\\nUnited States of America\\r\\n\\r\\nPT Garvais [[Gervais]] of the [[strikethrough]] County [[/strikethrough]] Dist of Charleston State of South CA do solemnly swear in the presence of Almighty God, that I will henceforth faithfully support and defend the Constitution of the United States, and the Union of the States thereunder that I will, in like manner, abid by and faithfully support all laws and proclamations which have been made during the existing rebellion with reference to the Emancipation of Slaves---SO HELP ME GOD.\\r\\n\\r\\nPaul T. Gervais. \\r\\nSworn to and subscribed before me at Charleston SC this [[?]] day of Oct 1865.\\r\\nJ Miller Thompson\\r\\nCp & 33 USCT & P.M.\\r\\n\\r\\nThe above has Dark complexion Dark hair, and Hazel eyes; is 5 feet 4 inches high, and 41 years; by profession a Painter\\r\\n\\r\\n(The original Oaths will be transmitted, by the officer administering them, to the Department of State, through intermediate channels, and a certified copy thereof will be furnished to the applicant for pardon, to accompany his petition.)'"
      ]
     },
     "execution_count": 17,
     "metadata": {},
     "output_type": "execute_result"
    }
   ],
   "source": [
    "all_text[1201]"
   ]
  },
  {
   "cell_type": "code",
   "execution_count": 18,
   "id": "3f939b41",
   "metadata": {
    "execution": {
     "iopub.execute_input": "2022-06-09T18:26:32.216210Z",
     "iopub.status.busy": "2022-06-09T18:26:32.215630Z",
     "iopub.status.idle": "2022-06-09T18:26:32.225435Z",
     "shell.execute_reply": "2022-06-09T18:26:32.224792Z"
    },
    "papermill": {
     "duration": 0.027343,
     "end_time": "2022-06-09T18:26:32.227107",
     "exception": false,
     "start_time": "2022-06-09T18:26:32.199764",
     "status": "completed"
    },
    "tags": []
   },
   "outputs": [],
   "source": [
    "stop_words = set(stopwords.words('english'))\n",
    "punctuation = string.punctuation\n",
    "stemmer = SnowballStemmer(language=\"english\")\n",
    "lemmatizer = WordNetLemmatizer()"
   ]
  },
  {
   "cell_type": "code",
   "execution_count": 19,
   "id": "ab00789a",
   "metadata": {
    "execution": {
     "iopub.execute_input": "2022-06-09T18:26:32.259303Z",
     "iopub.status.busy": "2022-06-09T18:26:32.258860Z",
     "iopub.status.idle": "2022-06-09T18:26:32.263674Z",
     "shell.execute_reply": "2022-06-09T18:26:32.263003Z"
    },
    "papermill": {
     "duration": 0.022687,
     "end_time": "2022-06-09T18:26:32.265289",
     "exception": false,
     "start_time": "2022-06-09T18:26:32.242602",
     "status": "completed"
    },
    "tags": []
   },
   "outputs": [
    {
     "data": {
      "text/plain": [
       "'!\"#$%&\\'()*+,-./:;<=>?@[\\\\]^_`{|}~'"
      ]
     },
     "execution_count": 19,
     "metadata": {},
     "output_type": "execute_result"
    }
   ],
   "source": [
    "stop_words.remove(\"of\")\n",
    "punctuation"
   ]
  },
  {
   "cell_type": "markdown",
   "id": "410c54de",
   "metadata": {
    "papermill": {
     "duration": 0.015186,
     "end_time": "2022-06-09T18:26:32.295558",
     "exception": false,
     "start_time": "2022-06-09T18:26:32.280372",
     "status": "completed"
    },
    "tags": []
   },
   "source": [
    "# without punctuation"
   ]
  },
  {
   "cell_type": "code",
   "execution_count": 20,
   "id": "fd2f2264",
   "metadata": {
    "execution": {
     "iopub.execute_input": "2022-06-09T18:26:32.327433Z",
     "iopub.status.busy": "2022-06-09T18:26:32.326854Z",
     "iopub.status.idle": "2022-06-09T18:26:32.331310Z",
     "shell.execute_reply": "2022-06-09T18:26:32.330605Z"
    },
    "papermill": {
     "duration": 0.021991,
     "end_time": "2022-06-09T18:26:32.332912",
     "exception": false,
     "start_time": "2022-06-09T18:26:32.310921",
     "status": "completed"
    },
    "tags": []
   },
   "outputs": [],
   "source": [
    "def process(s):\n",
    "    s= re.sub(\"([\\(\\[]).*?([\\)\\]])\",\" \",s)\n",
    "    s = word_tokenize(s)\n",
    "    s = [w for w in s if not w in stop_words] #optional\n",
    "    s = [lemmatizer.lemmatize(word) for word in s]\n",
    "    return s"
   ]
  },
  {
   "cell_type": "code",
   "execution_count": 21,
   "id": "ae9d2649",
   "metadata": {
    "execution": {
     "iopub.execute_input": "2022-06-09T18:26:32.364716Z",
     "iopub.status.busy": "2022-06-09T18:26:32.364207Z",
     "iopub.status.idle": "2022-06-09T18:26:40.943604Z",
     "shell.execute_reply": "2022-06-09T18:26:40.942690Z"
    },
    "papermill": {
     "duration": 8.598756,
     "end_time": "2022-06-09T18:26:40.946960",
     "exception": false,
     "start_time": "2022-06-09T18:26:32.348204",
     "status": "completed"
    },
    "tags": []
   },
   "outputs": [
    {
     "name": "stderr",
     "output_type": "stream",
     "text": [
      "100%|██████████| 2136/2136 [00:08<00:00, 249.20it/s]\n"
     ]
    }
   ],
   "source": [
    "for i in tqdm(range(newdata.shape[0])):\n",
    "    all_text[i] = process(all_text[i])"
   ]
  },
  {
   "cell_type": "code",
   "execution_count": 22,
   "id": "45e2d2f2",
   "metadata": {
    "execution": {
     "iopub.execute_input": "2022-06-09T18:26:40.989063Z",
     "iopub.status.busy": "2022-06-09T18:26:40.988770Z",
     "iopub.status.idle": "2022-06-09T18:26:41.650901Z",
     "shell.execute_reply": "2022-06-09T18:26:41.649954Z"
    },
    "papermill": {
     "duration": 0.68484,
     "end_time": "2022-06-09T18:26:41.653369",
     "exception": false,
     "start_time": "2022-06-09T18:26:40.968529",
     "status": "completed"
    },
    "tags": []
   },
   "outputs": [
    {
     "name": "stderr",
     "output_type": "stream",
     "text": [
      "100%|██████████| 2136/2136 [00:00<00:00, 3264.61it/s]\n"
     ]
    }
   ],
   "source": [
    "for i in tqdm(range(newdata.shape[0])):\n",
    "    all_text[i] = \" \".join(all_text[i])"
   ]
  },
  {
   "cell_type": "code",
   "execution_count": 23,
   "id": "02c03e61",
   "metadata": {
    "execution": {
     "iopub.execute_input": "2022-06-09T18:26:41.695834Z",
     "iopub.status.busy": "2022-06-09T18:26:41.695175Z",
     "iopub.status.idle": "2022-06-09T18:26:41.702280Z",
     "shell.execute_reply": "2022-06-09T18:26:41.701529Z"
    },
    "papermill": {
     "duration": 0.029225,
     "end_time": "2022-06-09T18:26:41.703881",
     "exception": false,
     "start_time": "2022-06-09T18:26:41.674656",
     "status": "completed"
    },
    "tags": []
   },
   "outputs": [
    {
     "data": {
      "text/plain": [
       "0       ] I , ] I C Meekins ] , of ] Currituck ] Count...\n",
       "1       ^ ] ] Department of Virginia North Carolina , ...\n",
       "2       ] I , ] W. H. Pearce , ] of ] Craven ] County ...\n",
       "3       State of North Carolina , } ________ County . ...\n",
       "4       State of North Carolina , Wake ] ] County . I ...\n",
       "                              ...                        \n",
       "2131    Office Provost Marshal Raleigh , N.C. May 26 '...\n",
       "2132    July 30th 1867 Birnie Wm Agent Bu R F & A L Oa...\n",
       "2133    State of North Carolina , } Robeson County . I...\n",
       "2134    NARA 449 102 We whose name written well person...\n",
       "2135    NARA 450 404 Office Provost Marshall City of W...\n",
       "Name: transcription_text, Length: 2136, dtype: object"
      ]
     },
     "execution_count": 23,
     "metadata": {},
     "output_type": "execute_result"
    }
   ],
   "source": [
    "all_text"
   ]
  },
  {
   "cell_type": "code",
   "execution_count": 24,
   "id": "decef57d",
   "metadata": {
    "execution": {
     "iopub.execute_input": "2022-06-09T18:26:41.744105Z",
     "iopub.status.busy": "2022-06-09T18:26:41.743853Z",
     "iopub.status.idle": "2022-06-09T18:26:41.750458Z",
     "shell.execute_reply": "2022-06-09T18:26:41.749788Z"
    },
    "papermill": {
     "duration": 0.028524,
     "end_time": "2022-06-09T18:26:41.752063",
     "exception": false,
     "start_time": "2022-06-09T18:26:41.723539",
     "status": "completed"
    },
    "tags": []
   },
   "outputs": [
    {
     "data": {
      "text/plain": [
       "'] I , ] I C Meekins ] , of ] Currituck ] County , State of North Carolina , solemnly swear affirm , presence of Almighty God , I henceforth faithfully support , protect defend Constitution of United States Union of States thereunder ; I , like manner , abide faithfully support law proclamation made existing rebellion reference emancipation of slave . So help God. ] Isaac C. Meekins ] Sworn subscribed ] 16 ] day of ] Sept ] A.D. , 1865 , ] E H Walker ] , J.P . It hereby certified true copy of original oath taken subscribed ] I C Meekins E H Walker , J.P. John B Etheridge , J.P. ] ]'"
      ]
     },
     "execution_count": 24,
     "metadata": {},
     "output_type": "execute_result"
    }
   ],
   "source": [
    "all_text[0]"
   ]
  },
  {
   "cell_type": "code",
   "execution_count": null,
   "id": "a660a093",
   "metadata": {
    "papermill": {
     "duration": 0.019542,
     "end_time": "2022-06-09T18:26:41.792241",
     "exception": false,
     "start_time": "2022-06-09T18:26:41.772699",
     "status": "completed"
    },
    "tags": []
   },
   "outputs": [],
   "source": []
  },
  {
   "cell_type": "code",
   "execution_count": null,
   "id": "db99e1bc",
   "metadata": {
    "papermill": {
     "duration": 0.019612,
     "end_time": "2022-06-09T18:26:41.832701",
     "exception": false,
     "start_time": "2022-06-09T18:26:41.813089",
     "status": "completed"
    },
    "tags": []
   },
   "outputs": [],
   "source": []
  },
  {
   "cell_type": "code",
   "execution_count": null,
   "id": "ade91a97",
   "metadata": {
    "papermill": {
     "duration": 0.020268,
     "end_time": "2022-06-09T18:26:41.873657",
     "exception": false,
     "start_time": "2022-06-09T18:26:41.853389",
     "status": "completed"
    },
    "tags": []
   },
   "outputs": [],
   "source": []
  },
  {
   "cell_type": "code",
   "execution_count": null,
   "id": "30386a51",
   "metadata": {
    "papermill": {
     "duration": 0.019757,
     "end_time": "2022-06-09T18:26:41.913172",
     "exception": false,
     "start_time": "2022-06-09T18:26:41.893415",
     "status": "completed"
    },
    "tags": []
   },
   "outputs": [],
   "source": []
  },
  {
   "cell_type": "code",
   "execution_count": null,
   "id": "62e0b27b",
   "metadata": {
    "papermill": {
     "duration": 0.020022,
     "end_time": "2022-06-09T18:26:41.953066",
     "exception": false,
     "start_time": "2022-06-09T18:26:41.933044",
     "status": "completed"
    },
    "tags": []
   },
   "outputs": [],
   "source": []
  },
  {
   "cell_type": "markdown",
   "id": "49604cb4",
   "metadata": {
    "papermill": {
     "duration": 0.020156,
     "end_time": "2022-06-09T18:26:41.994549",
     "exception": false,
     "start_time": "2022-06-09T18:26:41.974393",
     "status": "completed"
    },
    "tags": []
   },
   "source": [
    "# Flair"
   ]
  },
  {
   "cell_type": "code",
   "execution_count": 25,
   "id": "8696c5bc",
   "metadata": {
    "execution": {
     "iopub.execute_input": "2022-06-09T18:26:42.036011Z",
     "iopub.status.busy": "2022-06-09T18:26:42.035684Z",
     "iopub.status.idle": "2022-06-09T18:27:42.477822Z",
     "shell.execute_reply": "2022-06-09T18:27:42.476859Z"
    },
    "papermill": {
     "duration": 60.465194,
     "end_time": "2022-06-09T18:27:42.480054",
     "exception": false,
     "start_time": "2022-06-09T18:26:42.014860",
     "status": "completed"
    },
    "tags": []
   },
   "outputs": [
    {
     "name": "stdout",
     "output_type": "stream",
     "text": [
      "Requirement already satisfied: Cython in /opt/conda/lib/python3.7/site-packages (0.29.30)\r\n",
      "\u001b[33mWARNING: Running pip as the 'root' user can result in broken permissions and conflicting behaviour with the system package manager. It is recommended to use a virtual environment instead: https://pip.pypa.io/warnings/venv\u001b[0m\u001b[33m\r\n",
      "\u001b[0mRequirement already satisfied: transformers in /opt/conda/lib/python3.7/site-packages (4.18.0)\r\n",
      "Requirement already satisfied: huggingface-hub<1.0,>=0.1.0 in /opt/conda/lib/python3.7/site-packages (from transformers) (0.5.1)\r\n",
      "Requirement already satisfied: filelock in /opt/conda/lib/python3.7/site-packages (from transformers) (3.6.0)\r\n",
      "Requirement already satisfied: tokenizers!=0.11.3,<0.13,>=0.11.1 in /opt/conda/lib/python3.7/site-packages (from transformers) (0.12.1)\r\n",
      "Requirement already satisfied: regex!=2019.12.17 in /opt/conda/lib/python3.7/site-packages (from transformers) (2021.11.10)\r\n",
      "Requirement already satisfied: packaging>=20.0 in /opt/conda/lib/python3.7/site-packages (from transformers) (21.3)\r\n",
      "Requirement already satisfied: tqdm>=4.27 in /opt/conda/lib/python3.7/site-packages (from transformers) (4.64.0)\r\n",
      "Requirement already satisfied: importlib-metadata in /opt/conda/lib/python3.7/site-packages (from transformers) (4.11.4)\r\n",
      "Requirement already satisfied: numpy>=1.17 in /opt/conda/lib/python3.7/site-packages (from transformers) (1.21.6)\r\n",
      "Requirement already satisfied: pyyaml>=5.1 in /opt/conda/lib/python3.7/site-packages (from transformers) (6.0)\r\n",
      "Requirement already satisfied: requests in /opt/conda/lib/python3.7/site-packages (from transformers) (2.27.1)\r\n",
      "Requirement already satisfied: sacremoses in /opt/conda/lib/python3.7/site-packages (from transformers) (0.0.53)\r\n",
      "Requirement already satisfied: typing-extensions>=3.7.4.3 in /opt/conda/lib/python3.7/site-packages (from huggingface-hub<1.0,>=0.1.0->transformers) (4.2.0)\r\n",
      "Requirement already satisfied: pyparsing!=3.0.5,>=2.0.2 in /opt/conda/lib/python3.7/site-packages (from packaging>=20.0->transformers) (3.0.9)\r\n",
      "Requirement already satisfied: zipp>=0.5 in /opt/conda/lib/python3.7/site-packages (from importlib-metadata->transformers) (3.8.0)\r\n",
      "Requirement already satisfied: charset-normalizer~=2.0.0 in /opt/conda/lib/python3.7/site-packages (from requests->transformers) (2.0.12)\r\n",
      "Requirement already satisfied: idna<4,>=2.5 in /opt/conda/lib/python3.7/site-packages (from requests->transformers) (3.3)\r\n",
      "Requirement already satisfied: urllib3<1.27,>=1.21.1 in /opt/conda/lib/python3.7/site-packages (from requests->transformers) (1.26.9)\r\n",
      "Requirement already satisfied: certifi>=2017.4.17 in /opt/conda/lib/python3.7/site-packages (from requests->transformers) (2022.5.18.1)\r\n",
      "Requirement already satisfied: six in /opt/conda/lib/python3.7/site-packages (from sacremoses->transformers) (1.16.0)\r\n",
      "Requirement already satisfied: joblib in /opt/conda/lib/python3.7/site-packages (from sacremoses->transformers) (1.1.0)\r\n",
      "Requirement already satisfied: click in /opt/conda/lib/python3.7/site-packages (from sacremoses->transformers) (8.0.4)\r\n",
      "\u001b[33mWARNING: Running pip as the 'root' user can result in broken permissions and conflicting behaviour with the system package manager. It is recommended to use a virtual environment instead: https://pip.pypa.io/warnings/venv\u001b[0m\u001b[33m\r\n",
      "\u001b[0mCollecting flair\r\n",
      "  Downloading flair-0.11.3-py3-none-any.whl (401 kB)\r\n",
      "\u001b[2K     \u001b[90m━━━━━━━━━━━━━━━━━━━━━━━━━━━━━━━━━━━━━━━\u001b[0m \u001b[32m401.9/401.9 kB\u001b[0m \u001b[31m1.3 MB/s\u001b[0m eta \u001b[36m0:00:00\u001b[0m\r\n",
      "\u001b[?25hCollecting deprecated>=1.2.4\r\n",
      "  Downloading Deprecated-1.2.13-py2.py3-none-any.whl (9.6 kB)\r\n",
      "Requirement already satisfied: matplotlib>=2.2.3 in /opt/conda/lib/python3.7/site-packages (from flair) (3.5.2)\r\n",
      "Requirement already satisfied: hyperopt>=0.2.7 in /opt/conda/lib/python3.7/site-packages (from flair) (0.2.7)\r\n",
      "Requirement already satisfied: python-dateutil>=2.6.1 in /opt/conda/lib/python3.7/site-packages (from flair) (2.8.2)\r\n",
      "Collecting conllu>=4.0\r\n",
      "  Downloading conllu-4.4.2-py2.py3-none-any.whl (15 kB)\r\n",
      "Collecting mpld3==0.3\r\n",
      "  Downloading mpld3-0.3.tar.gz (788 kB)\r\n",
      "\u001b[2K     \u001b[90m━━━━━━━━━━━━━━━━━━━━━━━━━━━━━━━━━━━━━━━\u001b[0m \u001b[32m788.5/788.5 kB\u001b[0m \u001b[31m6.4 MB/s\u001b[0m eta \u001b[36m0:00:00\u001b[0m\r\n",
      "\u001b[?25h  Preparing metadata (setup.py) ... \u001b[?25l-\b \bdone\r\n",
      "\u001b[?25hRequirement already satisfied: lxml in /opt/conda/lib/python3.7/site-packages (from flair) (4.8.0)\r\n",
      "Requirement already satisfied: janome in /opt/conda/lib/python3.7/site-packages (from flair) (0.4.2)\r\n",
      "Requirement already satisfied: more-itertools in /opt/conda/lib/python3.7/site-packages (from flair) (8.13.0)\r\n",
      "Collecting pptree\r\n",
      "  Downloading pptree-3.1.tar.gz (3.0 kB)\r\n",
      "  Preparing metadata (setup.py) ... \u001b[?25l-\b \bdone\r\n",
      "\u001b[?25hCollecting segtok>=1.5.7\r\n",
      "  Downloading segtok-1.5.11-py3-none-any.whl (24 kB)\r\n",
      "Collecting sentencepiece==0.1.95\r\n",
      "  Downloading sentencepiece-0.1.95-cp37-cp37m-manylinux2014_x86_64.whl (1.2 MB)\r\n",
      "\u001b[2K     \u001b[90m━━━━━━━━━━━━━━━━━━━━━━━━━━━━━━━━━━━━━━━━\u001b[0m \u001b[32m1.2/1.2 MB\u001b[0m \u001b[31m12.1 MB/s\u001b[0m eta \u001b[36m0:00:00\u001b[0m\r\n",
      "\u001b[?25hRequirement already satisfied: huggingface-hub in /opt/conda/lib/python3.7/site-packages (from flair) (0.5.1)\r\n",
      "Collecting wikipedia-api\r\n",
      "  Downloading Wikipedia-API-0.5.4.tar.gz (18 kB)\r\n",
      "  Preparing metadata (setup.py) ... \u001b[?25l-\b \bdone\r\n",
      "\u001b[?25hRequirement already satisfied: torch!=1.8,>=1.5.0 in /opt/conda/lib/python3.7/site-packages (from flair) (1.11.0)\r\n",
      "Requirement already satisfied: tqdm>=4.26.0 in /opt/conda/lib/python3.7/site-packages (from flair) (4.64.0)\r\n",
      "Collecting ftfy\r\n",
      "  Downloading ftfy-6.1.1-py3-none-any.whl (53 kB)\r\n",
      "\u001b[2K     \u001b[90m━━━━━━━━━━━━━━━━━━━━━━━━━━━━━━━━━━━━━━━━\u001b[0m \u001b[32m53.1/53.1 kB\u001b[0m \u001b[31m6.0 MB/s\u001b[0m eta \u001b[36m0:00:00\u001b[0m\r\n",
      "\u001b[?25hRequirement already satisfied: scikit-learn>=0.21.3 in /opt/conda/lib/python3.7/site-packages (from flair) (1.0.2)\r\n",
      "Collecting sqlitedict>=1.6.0\r\n",
      "  Downloading sqlitedict-2.0.0.tar.gz (46 kB)\r\n",
      "\u001b[2K     \u001b[90m━━━━━━━━━━━━━━━━━━━━━━━━━━━━━━━━━━━━━━━━\u001b[0m \u001b[32m46.3/46.3 kB\u001b[0m \u001b[31m5.4 MB/s\u001b[0m eta \u001b[36m0:00:00\u001b[0m\r\n",
      "\u001b[?25h  Preparing metadata (setup.py) ... \u001b[?25l-\b \bdone\r\n",
      "\u001b[?25hCollecting langdetect\r\n",
      "  Downloading langdetect-1.0.9.tar.gz (981 kB)\r\n",
      "\u001b[2K     \u001b[90m━━━━━━━━━━━━━━━━━━━━━━━━━━━━━━━━━━━━━━\u001b[0m \u001b[32m981.5/981.5 kB\u001b[0m \u001b[31m35.6 MB/s\u001b[0m eta \u001b[36m0:00:00\u001b[0m\r\n",
      "\u001b[?25h  Preparing metadata (setup.py) ... \u001b[?25l-\b \bdone\r\n",
      "\u001b[?25hRequirement already satisfied: gensim>=3.4.0 in /opt/conda/lib/python3.7/site-packages (from flair) (4.0.1)\r\n",
      "Requirement already satisfied: transformers>=4.0.0 in /opt/conda/lib/python3.7/site-packages (from flair) (4.18.0)\r\n",
      "Collecting gdown==4.4.0\r\n",
      "  Downloading gdown-4.4.0.tar.gz (14 kB)\r\n",
      "  Installing build dependencies ... \u001b[?25l-\b \b\\\b \b|\b \b/\b \b-\b \b\\\b \bdone\r\n",
      "\u001b[?25h  Getting requirements to build wheel ... \u001b[?25l-\b \b\\\b \b|\b \b/\b \b-\b \bdone\r\n",
      "\u001b[?25h  Preparing metadata (pyproject.toml) ... \u001b[?25l-\b \b\\\b \b|\b \b/\b \b-\b \bdone\r\n",
      "\u001b[?25hRequirement already satisfied: tabulate in /opt/conda/lib/python3.7/site-packages (from flair) (0.8.9)\r\n",
      "Collecting bpemb>=0.3.2\r\n",
      "  Downloading bpemb-0.3.3-py3-none-any.whl (19 kB)\r\n",
      "Collecting konoha<5.0.0,>=4.0.0\r\n",
      "  Downloading konoha-4.6.5-py3-none-any.whl (20 kB)\r\n",
      "Requirement already satisfied: regex in /opt/conda/lib/python3.7/site-packages (from flair) (2021.11.10)\r\n",
      "Requirement already satisfied: filelock in /opt/conda/lib/python3.7/site-packages (from gdown==4.4.0->flair) (3.6.0)\r\n",
      "Requirement already satisfied: requests[socks] in /opt/conda/lib/python3.7/site-packages (from gdown==4.4.0->flair) (2.27.1)\r\n",
      "Requirement already satisfied: beautifulsoup4 in /opt/conda/lib/python3.7/site-packages (from gdown==4.4.0->flair) (4.11.1)\r\n",
      "Requirement already satisfied: six in /opt/conda/lib/python3.7/site-packages (from gdown==4.4.0->flair) (1.16.0)\r\n",
      "Requirement already satisfied: numpy in /opt/conda/lib/python3.7/site-packages (from bpemb>=0.3.2->flair) (1.21.6)\r\n",
      "Requirement already satisfied: wrapt<2,>=1.10 in /opt/conda/lib/python3.7/site-packages (from deprecated>=1.2.4->flair) (1.14.1)\r\n",
      "Requirement already satisfied: smart-open>=1.8.1 in /opt/conda/lib/python3.7/site-packages (from gensim>=3.4.0->flair) (5.2.1)\r\n",
      "Requirement already satisfied: scipy>=0.18.1 in /opt/conda/lib/python3.7/site-packages (from gensim>=3.4.0->flair) (1.7.3)\r\n",
      "Requirement already satisfied: py4j in /opt/conda/lib/python3.7/site-packages (from hyperopt>=0.2.7->flair) (0.10.9.5)\r\n",
      "Requirement already satisfied: cloudpickle in /opt/conda/lib/python3.7/site-packages (from hyperopt>=0.2.7->flair) (2.0.0)\r\n",
      "Requirement already satisfied: networkx>=2.2 in /opt/conda/lib/python3.7/site-packages (from hyperopt>=0.2.7->flair) (2.5)\r\n",
      "Requirement already satisfied: future in /opt/conda/lib/python3.7/site-packages (from hyperopt>=0.2.7->flair) (0.18.2)\r\n",
      "Collecting overrides<4.0.0,>=3.0.0\r\n",
      "  Downloading overrides-3.1.0.tar.gz (11 kB)\r\n",
      "  Preparing metadata (setup.py) ... \u001b[?25l-\b \bdone\r\n",
      "\u001b[?25hCollecting importlib-metadata<4.0.0,>=3.7.0\r\n",
      "  Downloading importlib_metadata-3.10.1-py3-none-any.whl (14 kB)\r\n",
      "Requirement already satisfied: fonttools>=4.22.0 in /opt/conda/lib/python3.7/site-packages (from matplotlib>=2.2.3->flair) (4.33.3)\r\n",
      "Requirement already satisfied: packaging>=20.0 in /opt/conda/lib/python3.7/site-packages (from matplotlib>=2.2.3->flair) (21.3)\r\n",
      "Requirement already satisfied: kiwisolver>=1.0.1 in /opt/conda/lib/python3.7/site-packages (from matplotlib>=2.2.3->flair) (1.4.2)\r\n",
      "Requirement already satisfied: pyparsing>=2.2.1 in /opt/conda/lib/python3.7/site-packages (from matplotlib>=2.2.3->flair) (3.0.9)\r\n",
      "Requirement already satisfied: cycler>=0.10 in /opt/conda/lib/python3.7/site-packages (from matplotlib>=2.2.3->flair) (0.11.0)\r\n",
      "Requirement already satisfied: pillow>=6.2.0 in /opt/conda/lib/python3.7/site-packages (from matplotlib>=2.2.3->flair) (9.1.0)\r\n",
      "Requirement already satisfied: threadpoolctl>=2.0.0 in /opt/conda/lib/python3.7/site-packages (from scikit-learn>=0.21.3->flair) (3.1.0)\r\n",
      "Requirement already satisfied: joblib>=0.11 in /opt/conda/lib/python3.7/site-packages (from scikit-learn>=0.21.3->flair) (1.1.0)\r\n",
      "Requirement already satisfied: typing-extensions in /opt/conda/lib/python3.7/site-packages (from torch!=1.8,>=1.5.0->flair) (4.2.0)\r\n",
      "Requirement already satisfied: sacremoses in /opt/conda/lib/python3.7/site-packages (from transformers>=4.0.0->flair) (0.0.53)\r\n",
      "Requirement already satisfied: pyyaml>=5.1 in /opt/conda/lib/python3.7/site-packages (from transformers>=4.0.0->flair) (6.0)\r\n",
      "Requirement already satisfied: tokenizers!=0.11.3,<0.13,>=0.11.1 in /opt/conda/lib/python3.7/site-packages (from transformers>=4.0.0->flair) (0.12.1)\r\n",
      "Requirement already satisfied: wcwidth>=0.2.5 in /opt/conda/lib/python3.7/site-packages (from ftfy->flair) (0.2.5)\r\n",
      "Requirement already satisfied: zipp>=0.5 in /opt/conda/lib/python3.7/site-packages (from importlib-metadata<4.0.0,>=3.7.0->konoha<5.0.0,>=4.0.0->flair) (3.8.0)\r\n",
      "Requirement already satisfied: decorator>=4.3.0 in /opt/conda/lib/python3.7/site-packages (from networkx>=2.2->hyperopt>=0.2.7->flair) (5.1.1)\r\n",
      "Requirement already satisfied: certifi>=2017.4.17 in /opt/conda/lib/python3.7/site-packages (from requests[socks]->gdown==4.4.0->flair) (2022.5.18.1)\r\n",
      "Requirement already satisfied: urllib3<1.27,>=1.21.1 in /opt/conda/lib/python3.7/site-packages (from requests[socks]->gdown==4.4.0->flair) (1.26.9)\r\n",
      "Requirement already satisfied: idna<4,>=2.5 in /opt/conda/lib/python3.7/site-packages (from requests[socks]->gdown==4.4.0->flair) (3.3)\r\n",
      "Requirement already satisfied: charset-normalizer~=2.0.0 in /opt/conda/lib/python3.7/site-packages (from requests[socks]->gdown==4.4.0->flair) (2.0.12)\r\n",
      "Requirement already satisfied: soupsieve>1.2 in /opt/conda/lib/python3.7/site-packages (from beautifulsoup4->gdown==4.4.0->flair) (2.3.1)\r\n",
      "Requirement already satisfied: PySocks!=1.5.7,>=1.5.6 in /opt/conda/lib/python3.7/site-packages (from requests[socks]->gdown==4.4.0->flair) (1.7.1)\r\n",
      "Requirement already satisfied: click in /opt/conda/lib/python3.7/site-packages (from sacremoses->transformers>=4.0.0->flair) (8.0.4)\r\n",
      "Building wheels for collected packages: gdown, mpld3, sqlitedict, langdetect, pptree, wikipedia-api, overrides\r\n",
      "  Building wheel for gdown (pyproject.toml) ... \u001b[?25l-\b \b\\\b \b|\b \b/\b \b-\b \b\\\b \b|\b \bdone\r\n",
      "\u001b[?25h  Created wheel for gdown: filename=gdown-4.4.0-py3-none-any.whl size=14759 sha256=22ee4f474c41a7c824a6f917814bdc902cf921d08dcfa8899b0d067b42d6e467\r\n",
      "  Stored in directory: /root/.cache/pip/wheels/fb/c3/0e/c4d8ff8bfcb0461afff199471449f642179b74968c15b7a69c\r\n",
      "  Building wheel for mpld3 (setup.py) ... \u001b[?25l-\b \b\\\b \bdone\r\n",
      "\u001b[?25h  Created wheel for mpld3: filename=mpld3-0.3-py3-none-any.whl size=116702 sha256=88a9069d33e4b51d113dd90c60630e923d3859f527cf8f8bbac9b374bd4dd401\r\n",
      "  Stored in directory: /root/.cache/pip/wheels/26/70/6a/1c79e59951a41b4045497da187b2724f5659ca64033cf4548e\r\n",
      "  Building wheel for sqlitedict (setup.py) ... \u001b[?25l-\b \bdone\r\n",
      "\u001b[?25h  Created wheel for sqlitedict: filename=sqlitedict-2.0.0-py3-none-any.whl size=15736 sha256=84eece787b59ad3e1471ddaf0228c48c25c84914caceff164b3af23ddd257cb5\r\n",
      "  Stored in directory: /root/.cache/pip/wheels/96/dd/2e/0ed4a25cb73fc30c7ea8d10b50acb7226175736067e40a7ea3\r\n",
      "  Building wheel for langdetect (setup.py) ... \u001b[?25l-\b \b\\\b \b|\b \b/\b \bdone\r\n",
      "\u001b[?25h  Created wheel for langdetect: filename=langdetect-1.0.9-py3-none-any.whl size=993242 sha256=d0762d822e786ccba2b5b3705722299a4769f1b14e2c73dbe7ae035c9c580e57\r\n",
      "  Stored in directory: /root/.cache/pip/wheels/c5/96/8a/f90c59ed25d75e50a8c10a1b1c2d4c402e4dacfa87f3aff36a\r\n",
      "  Building wheel for pptree (setup.py) ... \u001b[?25l-\b \bdone\r\n",
      "\u001b[?25h  Created wheel for pptree: filename=pptree-3.1-py3-none-any.whl size=4629 sha256=cd2f19fdeda61d6a5e763819efb8113cf8088b316b33041c21020024bb2c069d\r\n",
      "  Stored in directory: /root/.cache/pip/wheels/9e/e8/7d/a9c3c19b4722608a0d8b05a38c36bc3f230c43becd2a46794b\r\n",
      "  Building wheel for wikipedia-api (setup.py) ... \u001b[?25l-\b \bdone\r\n",
      "\u001b[?25h  Created wheel for wikipedia-api: filename=Wikipedia_API-0.5.4-py3-none-any.whl size=13477 sha256=311d020150b0a1712b7ef35c1cd8d03623b01bb028cbd6e6786507adcfdb1e6b\r\n",
      "  Stored in directory: /root/.cache/pip/wheels/d3/24/56/58ba93cf78be162451144e7a9889603f437976ef1ae7013d04\r\n",
      "  Building wheel for overrides (setup.py) ... \u001b[?25l-\b \bdone\r\n",
      "\u001b[?25h  Created wheel for overrides: filename=overrides-3.1.0-py3-none-any.whl size=10187 sha256=94dc80616860eec20a02cb195b459154ea0fd56b26166bfddcc551e67756b7fd\r\n",
      "  Stored in directory: /root/.cache/pip/wheels/3a/0d/38/01a9bc6e20dcfaf0a6a7b552d03137558ba1c38aea47644682\r\n",
      "Successfully built gdown mpld3 sqlitedict langdetect pptree wikipedia-api overrides\r\n",
      "Installing collected packages: sqlitedict, sentencepiece, pptree, overrides, mpld3, segtok, langdetect, importlib-metadata, ftfy, deprecated, conllu, wikipedia-api, konoha, gdown, bpemb, flair\r\n",
      "  Attempting uninstall: sentencepiece\r\n",
      "    Found existing installation: sentencepiece 0.1.96\r\n",
      "    Uninstalling sentencepiece-0.1.96:\r\n",
      "      Successfully uninstalled sentencepiece-0.1.96\r\n",
      "  Attempting uninstall: overrides\r\n",
      "    Found existing installation: overrides 6.1.0\r\n",
      "    Uninstalling overrides-6.1.0:\r\n",
      "      Successfully uninstalled overrides-6.1.0\r\n",
      "  Attempting uninstall: mpld3\r\n",
      "    Found existing installation: mpld3 0.5.7\r\n",
      "    Uninstalling mpld3-0.5.7:\r\n",
      "      Successfully uninstalled mpld3-0.5.7\r\n",
      "  Attempting uninstall: importlib-metadata\r\n",
      "    Found existing installation: importlib-metadata 4.11.4\r\n",
      "    Uninstalling importlib-metadata-4.11.4:\r\n",
      "      Successfully uninstalled importlib-metadata-4.11.4\r\n",
      "\u001b[31mERROR: pip's dependency resolver does not currently take into account all the packages that are installed. This behaviour is the source of the following dependency conflicts.\r\n",
      "markdown 3.3.7 requires importlib-metadata>=4.4; python_version < \"3.10\", but you have importlib-metadata 3.10.1 which is incompatible.\r\n",
      "ibis-framework 2.1.1 requires importlib-metadata<5,>=4; python_version < \"3.8\", but you have importlib-metadata 3.10.1 which is incompatible.\r\n",
      "gym 0.23.1 requires importlib-metadata>=4.10.0; python_version < \"3.10\", but you have importlib-metadata 3.10.1 which is incompatible.\r\n",
      "google-cloud-pubsublite 1.4.2 requires overrides<7.0.0,>=6.0.1, but you have overrides 3.1.0 which is incompatible.\u001b[0m\u001b[31m\r\n",
      "\u001b[0mSuccessfully installed bpemb-0.3.3 conllu-4.4.2 deprecated-1.2.13 flair-0.11.3 ftfy-6.1.1 gdown-4.4.0 importlib-metadata-3.10.1 konoha-4.6.5 langdetect-1.0.9 mpld3-0.3 overrides-3.1.0 pptree-3.1 segtok-1.5.11 sentencepiece-0.1.95 sqlitedict-2.0.0 wikipedia-api-0.5.4\r\n",
      "\u001b[33mWARNING: Running pip as the 'root' user can result in broken permissions and conflicting behaviour with the system package manager. It is recommended to use a virtual environment instead: https://pip.pypa.io/warnings/venv\u001b[0m\u001b[33m\r\n",
      "\u001b[0m"
     ]
    }
   ],
   "source": [
    "!pip3 install Cython\n",
    "!pip install transformers\n",
    "!pip install flair"
   ]
  },
  {
   "cell_type": "markdown",
   "id": "0cece48c",
   "metadata": {
    "papermill": {
     "duration": 0.026595,
     "end_time": "2022-06-09T18:27:42.534091",
     "exception": false,
     "start_time": "2022-06-09T18:27:42.507496",
     "status": "completed"
    },
    "tags": []
   },
   "source": [
    "# Hugging face  : Flair"
   ]
  },
  {
   "cell_type": "markdown",
   "id": "30fbdbc5",
   "metadata": {
    "papermill": {
     "duration": 0.02765,
     "end_time": "2022-06-09T18:27:42.588663",
     "exception": false,
     "start_time": "2022-06-09T18:27:42.561013",
     "status": "completed"
    },
    "tags": []
   },
   "source": [
    "**ner-english** "
   ]
  },
  {
   "cell_type": "code",
   "execution_count": 26,
   "id": "88cea040",
   "metadata": {
    "execution": {
     "iopub.execute_input": "2022-06-09T18:27:42.643853Z",
     "iopub.status.busy": "2022-06-09T18:27:42.643507Z",
     "iopub.status.idle": "2022-06-09T18:27:44.933792Z",
     "shell.execute_reply": "2022-06-09T18:27:44.932726Z"
    },
    "papermill": {
     "duration": 2.321353,
     "end_time": "2022-06-09T18:27:44.936885",
     "exception": false,
     "start_time": "2022-06-09T18:27:42.615532",
     "status": "completed"
    },
    "tags": []
   },
   "outputs": [
    {
     "name": "stdout",
     "output_type": "stream",
     "text": [
      "git: 'lfs' is not a git command. See 'git --help'.\r\n",
      "\r\n",
      "The most similar command is\r\n",
      "\tlog\r\n",
      "Cloning into 'ner-english-large'...\r\n",
      "remote: Enumerating objects: 25, done.\u001b[K\r\n",
      "remote: Counting objects: 100% (25/25), done.\u001b[K\r\n",
      "remote: Compressing objects: 100% (24/24), done.\u001b[K\r\n",
      "remote: Total 25 (delta 10), reused 0 (delta 0), pack-reused 0\u001b[K\r\n",
      "Unpacking objects: 100% (25/25), 11.03 KiB | 1.22 MiB/s, done.\r\n"
     ]
    }
   ],
   "source": [
    "!git lfs install\n",
    "!git clone https://huggingface.co/flair/ner-english-large"
   ]
  },
  {
   "cell_type": "code",
   "execution_count": 27,
   "id": "e2505d00",
   "metadata": {
    "execution": {
     "iopub.execute_input": "2022-06-09T18:27:45.035498Z",
     "iopub.status.busy": "2022-06-09T18:27:45.034617Z",
     "iopub.status.idle": "2022-06-09T18:29:05.493892Z",
     "shell.execute_reply": "2022-06-09T18:29:05.492794Z"
    },
    "papermill": {
     "duration": 80.508745,
     "end_time": "2022-06-09T18:29:05.496288",
     "exception": false,
     "start_time": "2022-06-09T18:27:44.987543",
     "status": "completed"
    },
    "tags": []
   },
   "outputs": [
    {
     "data": {
      "application/vnd.jupyter.widget-view+json": {
       "model_id": "560016c8c0d549b08dbd8396b6a2bc6d",
       "version_major": 2,
       "version_minor": 0
      },
      "text/plain": [
       "Downloading:   0%|          | 0.00/2.24G [00:00<?, ?B/s]"
      ]
     },
     "metadata": {},
     "output_type": "display_data"
    },
    {
     "name": "stdout",
     "output_type": "stream",
     "text": [
      "2022-06-09 18:28:37,165 loading file /root/.flair/models/ner-english-ontonotes-large/2da6c2cdd76e59113033adf670340bfd820f0301ae2e39204d67ba2dc276cc28.ec1bdb304b6c66111532c3b1fc6e522460ae73f1901848a4d0362cdf9760edb1\n"
     ]
    },
    {
     "data": {
      "application/vnd.jupyter.widget-view+json": {
       "model_id": "0409c879958949ccb081c7aefeec6c6a",
       "version_major": 2,
       "version_minor": 0
      },
      "text/plain": [
       "Downloading:   0%|          | 0.00/616 [00:00<?, ?B/s]"
      ]
     },
     "metadata": {},
     "output_type": "display_data"
    },
    {
     "data": {
      "application/vnd.jupyter.widget-view+json": {
       "model_id": "1118aedd23744917a5bb69c5b688a1e2",
       "version_major": 2,
       "version_minor": 0
      },
      "text/plain": [
       "Downloading:   0%|          | 0.00/4.83M [00:00<?, ?B/s]"
      ]
     },
     "metadata": {},
     "output_type": "display_data"
    },
    {
     "data": {
      "application/vnd.jupyter.widget-view+json": {
       "model_id": "5d671514d4db4a9c9643a5c578327618",
       "version_major": 2,
       "version_minor": 0
      },
      "text/plain": [
       "Downloading:   0%|          | 0.00/8.68M [00:00<?, ?B/s]"
      ]
     },
     "metadata": {},
     "output_type": "display_data"
    },
    {
     "name": "stdout",
     "output_type": "stream",
     "text": [
      "2022-06-09 18:29:04,873 SequenceTagger predicts: Dictionary with 76 tags: <unk>, O, B-CARDINAL, E-CARDINAL, S-PERSON, S-CARDINAL, S-PRODUCT, B-PRODUCT, I-PRODUCT, E-PRODUCT, B-WORK_OF_ART, I-WORK_OF_ART, E-WORK_OF_ART, B-PERSON, E-PERSON, S-GPE, B-DATE, I-DATE, E-DATE, S-ORDINAL, S-LANGUAGE, I-PERSON, S-EVENT, S-DATE, B-QUANTITY, E-QUANTITY, S-TIME, B-TIME, I-TIME, E-TIME, B-GPE, E-GPE, S-ORG, I-GPE, S-NORP, B-FAC, I-FAC, E-FAC, B-NORP, E-NORP, S-PERCENT, B-ORG, E-ORG, B-LANGUAGE, E-LANGUAGE, I-CARDINAL, I-ORG, S-WORK_OF_ART, I-QUANTITY, B-MONEY\n"
     ]
    }
   ],
   "source": [
    "from flair.models import SequenceTagger\n",
    "\n",
    "tagger = SequenceTagger.load(\"flair/ner-english-ontonotes-large\")"
   ]
  },
  {
   "cell_type": "code",
   "execution_count": 28,
   "id": "e765e42b",
   "metadata": {
    "execution": {
     "iopub.execute_input": "2022-06-09T18:29:05.554886Z",
     "iopub.status.busy": "2022-06-09T18:29:05.554193Z",
     "iopub.status.idle": "2022-06-09T18:29:17.891005Z",
     "shell.execute_reply": "2022-06-09T18:29:17.890167Z"
    },
    "papermill": {
     "duration": 12.36841,
     "end_time": "2022-06-09T18:29:17.893300",
     "exception": false,
     "start_time": "2022-06-09T18:29:05.524890",
     "status": "completed"
    },
    "tags": []
   },
   "outputs": [
    {
     "data": {
      "application/vnd.jupyter.widget-view+json": {
       "model_id": "c6d8028d19044fdaa9c3ccf4b307e0ad",
       "version_major": 2,
       "version_minor": 0
      },
      "text/plain": [
       "Downloading:   0%|          | 0.00/432M [00:00<?, ?B/s]"
      ]
     },
     "metadata": {},
     "output_type": "display_data"
    },
    {
     "name": "stdout",
     "output_type": "stream",
     "text": [
      "2022-06-09 18:29:15,073 loading file /root/.flair/models/ner-english/4f4cdab26f24cb98b732b389e6cebc646c36f54cfd6e0b7d3b90b25656e4262f.8baa8ae8795f4df80b28e7f7b61d788ecbb057d1dc85aacb316f1bd02837a4a4\n",
      "2022-06-09 18:29:16,930 SequenceTagger predicts: Dictionary with 20 tags: <unk>, O, S-ORG, S-MISC, B-PER, E-PER, S-LOC, B-ORG, E-ORG, I-PER, S-PER, B-MISC, I-MISC, E-MISC, I-ORG, B-LOC, E-LOC, I-LOC, <START>, <STOP>\n"
     ]
    }
   ],
   "source": [
    "from flair.models import SequenceTagger\n",
    "\n",
    "tagger1 = SequenceTagger.load(\"flair/ner-english\")"
   ]
  },
  {
   "cell_type": "code",
   "execution_count": 29,
   "id": "0a06c50f",
   "metadata": {
    "execution": {
     "iopub.execute_input": "2022-06-09T18:29:17.952098Z",
     "iopub.status.busy": "2022-06-09T18:29:17.951402Z",
     "iopub.status.idle": "2022-06-09T18:30:27.109688Z",
     "shell.execute_reply": "2022-06-09T18:30:27.108811Z"
    },
    "papermill": {
     "duration": 69.189494,
     "end_time": "2022-06-09T18:30:27.111736",
     "exception": false,
     "start_time": "2022-06-09T18:29:17.922242",
     "status": "completed"
    },
    "tags": []
   },
   "outputs": [
    {
     "data": {
      "application/vnd.jupyter.widget-view+json": {
       "model_id": "fd3813c0a06d4567a211948160817b56",
       "version_major": 2,
       "version_minor": 0
      },
      "text/plain": [
       "Downloading:   0%|          | 0.00/2.24G [00:00<?, ?B/s]"
      ]
     },
     "metadata": {},
     "output_type": "display_data"
    },
    {
     "name": "stdout",
     "output_type": "stream",
     "text": [
      "2022-06-09 18:30:08,748 loading file /root/.flair/models/ner-english-large/07301f59bb8cb113803be316267f06ddf9243cdbba92a4c8067ef92442d2c574.554244d3476d97501a766a98078421817b14654496b86f2f7bd139dc502a4f29\n",
      "2022-06-09 18:30:26,480 SequenceTagger predicts: Dictionary with 20 tags: <unk>, O, S-ORG, S-MISC, B-PER, E-PER, S-LOC, B-ORG, E-ORG, I-PER, S-PER, B-MISC, I-MISC, E-MISC, I-ORG, B-LOC, E-LOC, I-LOC, <START>, <STOP>\n"
     ]
    }
   ],
   "source": [
    "from flair.models import SequenceTagger\n",
    "\n",
    "tagger2 = SequenceTagger.load(\"flair/ner-english-large\")"
   ]
  },
  {
   "cell_type": "markdown",
   "id": "31949f79",
   "metadata": {
    "papermill": {
     "duration": 0.028833,
     "end_time": "2022-06-09T18:30:27.170587",
     "exception": false,
     "start_time": "2022-06-09T18:30:27.141754",
     "status": "completed"
    },
    "tags": []
   },
   "source": [
    "tagger3 nerenglishlarge"
   ]
  },
  {
   "cell_type": "code",
   "execution_count": 30,
   "id": "fd7aa875",
   "metadata": {
    "execution": {
     "iopub.execute_input": "2022-06-09T18:30:27.229803Z",
     "iopub.status.busy": "2022-06-09T18:30:27.229438Z",
     "iopub.status.idle": "2022-06-09T18:32:28.702409Z",
     "shell.execute_reply": "2022-06-09T18:32:28.701498Z"
    },
    "papermill": {
     "duration": 121.50549,
     "end_time": "2022-06-09T18:32:28.704828",
     "exception": false,
     "start_time": "2022-06-09T18:30:27.199338",
     "status": "completed"
    },
    "tags": []
   },
   "outputs": [],
   "source": [
    "listenglarge=[]\n",
    "label=[]\n",
    "Per=[]\n",
    "ORG=[]\n",
    "LOC=[]\n",
    "from flair.data import Sentence\n",
    "\n",
    "dflarge=pd.DataFrame({\"text\":\"\", \"PERSON-nerenglarge\":[], \"LOC-nerenglarge\":\"\",\"ORG-nerenglarge\":\"\"})\n",
    "for i in range(2136):\n",
    "        sentencess =Sentence(all_text[i])\n",
    "        dflarge.loc[i,\"text\"]=all_text[i]\n",
    "        tagger2.predict(sentencess)\n",
    "        dc={}\n",
    "        P=[]\n",
    "        L=[]\n",
    "        G=[]\n",
    "        O=[]\n",
    "        for entity in sentencess.get_spans('ner'):\n",
    "                     \n",
    "                     if (entity.get_label(\"ner\").score > 0.90) & (entity.get_label(\"ner\").value != \"CARDINAL\") & (entity.get_label(\"ner\").value != \"LAW\")& (entity.get_label(\"ner\").value != \"QUANTITY\") & (entity.get_label(\"ner\").value != \"WORK_OF_ART\") & (entity.get_label(\"ner\").value != \"LAW\")& (entity.get_label(\"ner\").value != \"QUANTITY\") & (entity.get_label(\"ner\").value != \"EVENT\")  :\n",
    "                        dc[entity.text]= entity.get_label(\"ner\").value \n",
    "                        listenglarge.append(entity)\n",
    "        \n",
    "        \n",
    "        for j in dc :\n",
    "                if dc[j]==\"PER\":\n",
    "                      P.append(j)\n",
    "                elif (dc[j]==\"ORG\") | (dc[j]==\"MISC\") :\n",
    "                      O.append(j)\n",
    "                elif dc[j]==\"LOC\":\n",
    "                      L.append(j)\n",
    "               \n",
    "        Per.append(P)\n",
    "        ORG.append(O)\n",
    "        LOC.append(L)\n",
    "            \n",
    "\n",
    "dflarge[\"PERSON-nerenglarge\"]=Per\n",
    "dflarge[\"LOC-nerenglarge\"]=LOC\n",
    "dflarge[\"ORG-nerenglarge\"]=ORG                        "
   ]
  },
  {
   "cell_type": "code",
   "execution_count": 31,
   "id": "8272d3a7",
   "metadata": {
    "execution": {
     "iopub.execute_input": "2022-06-09T18:32:28.764538Z",
     "iopub.status.busy": "2022-06-09T18:32:28.764227Z",
     "iopub.status.idle": "2022-06-09T18:32:28.791841Z",
     "shell.execute_reply": "2022-06-09T18:32:28.790974Z"
    },
    "papermill": {
     "duration": 0.059549,
     "end_time": "2022-06-09T18:32:28.793907",
     "exception": false,
     "start_time": "2022-06-09T18:32:28.734358",
     "status": "completed"
    },
    "tags": []
   },
   "outputs": [
    {
     "data": {
      "text/html": [
       "<div>\n",
       "<style scoped>\n",
       "    .dataframe tbody tr th:only-of-type {\n",
       "        vertical-align: middle;\n",
       "    }\n",
       "\n",
       "    .dataframe tbody tr th {\n",
       "        vertical-align: top;\n",
       "    }\n",
       "\n",
       "    .dataframe thead th {\n",
       "        text-align: right;\n",
       "    }\n",
       "</style>\n",
       "<table border=\"1\" class=\"dataframe\">\n",
       "  <thead>\n",
       "    <tr style=\"text-align: right;\">\n",
       "      <th></th>\n",
       "      <th>text</th>\n",
       "      <th>PERSON-nerenglarge</th>\n",
       "      <th>LOC-nerenglarge</th>\n",
       "      <th>ORG-nerenglarge</th>\n",
       "    </tr>\n",
       "  </thead>\n",
       "  <tbody>\n",
       "    <tr>\n",
       "      <th>0</th>\n",
       "      <td>] I , ] I C Meekins ] , of ] Currituck ] Count...</td>\n",
       "      <td>[I C Meekins, Almighty, God, Isaac C. Meekins,...</td>\n",
       "      <td>[Currituck, State of North Carolina, United St...</td>\n",
       "      <td>[Constitution]</td>\n",
       "    </tr>\n",
       "    <tr>\n",
       "      <th>1</th>\n",
       "      <td>^ ] ] Department of Virginia North Carolina , ...</td>\n",
       "      <td>[]</td>\n",
       "      <td>[North Carolina, United States, States]</td>\n",
       "      <td>[OATH PAROLE]</td>\n",
       "    </tr>\n",
       "    <tr>\n",
       "      <th>2</th>\n",
       "      <td>] I , ] W. H. Pearce , ] of ] Craven ] County ...</td>\n",
       "      <td>[W . H. Pearce, Almighty, God, Jm . E. Ampetts...</td>\n",
       "      <td>[Craven, County, State of North-Carolina, Unit...</td>\n",
       "      <td>[]</td>\n",
       "    </tr>\n",
       "    <tr>\n",
       "      <th>3</th>\n",
       "      <td>State of North Carolina , } ________ County . ...</td>\n",
       "      <td>[God]</td>\n",
       "      <td>[State of North Carolina, United States]</td>\n",
       "      <td>[Constitution]</td>\n",
       "    </tr>\n",
       "    <tr>\n",
       "      <th>4</th>\n",
       "      <td>State of North Carolina , Wake ] ] County . I ...</td>\n",
       "      <td>[S.E, Allen, God, T.D, McAlpine]</td>\n",
       "      <td>[State of North Carolina, Wake, County, United...</td>\n",
       "      <td>[Constitution, Res . Corp]</td>\n",
       "    </tr>\n",
       "    <tr>\n",
       "      <th>...</th>\n",
       "      <td>...</td>\n",
       "      <td>...</td>\n",
       "      <td>...</td>\n",
       "      <td>...</td>\n",
       "    </tr>\n",
       "    <tr>\n",
       "      <th>2131</th>\n",
       "      <td>Office Provost Marshal Raleigh , N.C. May 26 '...</td>\n",
       "      <td>[Geo . B. Ayer, Hugo Hillebrandt]</td>\n",
       "      <td>[Raleigh, N.C., Wake County, United States, No...</td>\n",
       "      <td>[]</td>\n",
       "    </tr>\n",
       "    <tr>\n",
       "      <th>2132</th>\n",
       "      <td>July 30th 1867 Birnie Wm Agent Bu R F &amp; A L Oa...</td>\n",
       "      <td>[]</td>\n",
       "      <td>[]</td>\n",
       "      <td>[Birnie Wm]</td>\n",
       "    </tr>\n",
       "    <tr>\n",
       "      <th>2133</th>\n",
       "      <td>State of North Carolina , } Robeson County . I...</td>\n",
       "      <td>[William Birnie, God, Wm Birnie, Dick J.P]</td>\n",
       "      <td>[State of North Carolina, Robeson County, Unit...</td>\n",
       "      <td>[Constitution]</td>\n",
       "    </tr>\n",
       "    <tr>\n",
       "      <th>2134</th>\n",
       "      <td>NARA 449 102 We whose name written well person...</td>\n",
       "      <td>[Price, James Fulton, Sgd W . N. Peden, Miles ...</td>\n",
       "      <td>[State of North Carolina, New Hanover County, ...</td>\n",
       "      <td>[Fulton &amp; Price, Confederate Government, Court...</td>\n",
       "    </tr>\n",
       "    <tr>\n",
       "      <th>2135</th>\n",
       "      <td>NARA 450 404 Office Provost Marshall City of W...</td>\n",
       "      <td>[James Fulton, God, Wm A. Cutler, I, Geo W. Po...</td>\n",
       "      <td>[City of Wilmington, N.C, United States, North...</td>\n",
       "      <td>[NARA, Constitution of, Slaves, Fulton &amp; Price]</td>\n",
       "    </tr>\n",
       "  </tbody>\n",
       "</table>\n",
       "<p>2136 rows × 4 columns</p>\n",
       "</div>"
      ],
      "text/plain": [
       "                                                   text  \\\n",
       "0     ] I , ] I C Meekins ] , of ] Currituck ] Count...   \n",
       "1     ^ ] ] Department of Virginia North Carolina , ...   \n",
       "2     ] I , ] W. H. Pearce , ] of ] Craven ] County ...   \n",
       "3     State of North Carolina , } ________ County . ...   \n",
       "4     State of North Carolina , Wake ] ] County . I ...   \n",
       "...                                                 ...   \n",
       "2131  Office Provost Marshal Raleigh , N.C. May 26 '...   \n",
       "2132  July 30th 1867 Birnie Wm Agent Bu R F & A L Oa...   \n",
       "2133  State of North Carolina , } Robeson County . I...   \n",
       "2134  NARA 449 102 We whose name written well person...   \n",
       "2135  NARA 450 404 Office Provost Marshall City of W...   \n",
       "\n",
       "                                     PERSON-nerenglarge  \\\n",
       "0     [I C Meekins, Almighty, God, Isaac C. Meekins,...   \n",
       "1                                                    []   \n",
       "2     [W . H. Pearce, Almighty, God, Jm . E. Ampetts...   \n",
       "3                                                 [God]   \n",
       "4                      [S.E, Allen, God, T.D, McAlpine]   \n",
       "...                                                 ...   \n",
       "2131                  [Geo . B. Ayer, Hugo Hillebrandt]   \n",
       "2132                                                 []   \n",
       "2133         [William Birnie, God, Wm Birnie, Dick J.P]   \n",
       "2134  [Price, James Fulton, Sgd W . N. Peden, Miles ...   \n",
       "2135  [James Fulton, God, Wm A. Cutler, I, Geo W. Po...   \n",
       "\n",
       "                                        LOC-nerenglarge  \\\n",
       "0     [Currituck, State of North Carolina, United St...   \n",
       "1               [North Carolina, United States, States]   \n",
       "2     [Craven, County, State of North-Carolina, Unit...   \n",
       "3              [State of North Carolina, United States]   \n",
       "4     [State of North Carolina, Wake, County, United...   \n",
       "...                                                 ...   \n",
       "2131  [Raleigh, N.C., Wake County, United States, No...   \n",
       "2132                                                 []   \n",
       "2133  [State of North Carolina, Robeson County, Unit...   \n",
       "2134  [State of North Carolina, New Hanover County, ...   \n",
       "2135  [City of Wilmington, N.C, United States, North...   \n",
       "\n",
       "                                        ORG-nerenglarge  \n",
       "0                                        [Constitution]  \n",
       "1                                         [OATH PAROLE]  \n",
       "2                                                    []  \n",
       "3                                        [Constitution]  \n",
       "4                            [Constitution, Res . Corp]  \n",
       "...                                                 ...  \n",
       "2131                                                 []  \n",
       "2132                                        [Birnie Wm]  \n",
       "2133                                     [Constitution]  \n",
       "2134  [Fulton & Price, Confederate Government, Court...  \n",
       "2135    [NARA, Constitution of, Slaves, Fulton & Price]  \n",
       "\n",
       "[2136 rows x 4 columns]"
      ]
     },
     "execution_count": 31,
     "metadata": {},
     "output_type": "execute_result"
    }
   ],
   "source": [
    "dflarge"
   ]
  },
  {
   "cell_type": "markdown",
   "id": "66f84345",
   "metadata": {
    "papermill": {
     "duration": 0.028793,
     "end_time": "2022-06-09T18:32:28.865751",
     "exception": false,
     "start_time": "2022-06-09T18:32:28.836958",
     "status": "completed"
    },
    "tags": []
   },
   "source": [
    "tagger1 ner english"
   ]
  },
  {
   "cell_type": "code",
   "execution_count": 32,
   "id": "24640547",
   "metadata": {
    "execution": {
     "iopub.execute_input": "2022-06-09T18:32:28.925632Z",
     "iopub.status.busy": "2022-06-09T18:32:28.925281Z",
     "iopub.status.idle": "2022-06-09T18:41:14.644879Z",
     "shell.execute_reply": "2022-06-09T18:41:14.644088Z"
    },
    "papermill": {
     "duration": 525.751679,
     "end_time": "2022-06-09T18:41:14.647039",
     "exception": false,
     "start_time": "2022-06-09T18:32:28.895360",
     "status": "completed"
    },
    "tags": []
   },
   "outputs": [],
   "source": [
    "listeng=[]\n",
    "label=[]\n",
    "Per=[]\n",
    "ORG=[]\n",
    "LOC=[]\n",
    "from flair.data import Sentence\n",
    "\n",
    "dfner=pd.DataFrame({\"text\":\"\", \"PERSON-nerenglish\":\"\",\"LOC-nerenglish\":\"\",\"ORG-nerenglish\":[]})\n",
    "for i in range(2136):\n",
    "        sentencess =Sentence(all_text[i])\n",
    "        dfner.loc[i,\"text\"]=all_text[i]\n",
    "        tagger1.predict(sentencess)\n",
    "        dc={}\n",
    "        P=[]\n",
    "        L=[]\n",
    "        O=[]\n",
    "        for entity in sentencess.get_spans('ner'):\n",
    "                     \n",
    "                     if (entity.get_label(\"ner\").score > 0.90) & (entity.get_label(\"ner\").value != \"CARDINAL\") & (entity.get_label(\"ner\").value != \"LAW\")& (entity.get_label(\"ner\").value != \"QUANTITY\") & (entity.get_label(\"ner\").value != \"WORK_OF_ART\") & (entity.get_label(\"ner\").value != \"LAW\")& (entity.get_label(\"ner\").value != \"QUANTITY\") & (entity.get_label(\"ner\").value != \"EVENT\")  :\n",
    "                        dc[entity.text]= entity.get_label(\"ner\").value \n",
    "                        listeng.append(entity)\n",
    "        \n",
    "        \n",
    "        for j in dc :\n",
    "                if dc[j]==\"PER\":\n",
    "                      P.append(j)\n",
    "                elif (dc[j]==\"ORG\") | (dc[j]==\"MISC\") :\n",
    "                      O.append(j)\n",
    "                elif dc[j]==\"LOC\":\n",
    "                      L.append(j)\n",
    "               \n",
    "        Per.append(P)\n",
    "        ORG.append(O)\n",
    "        LOC.append(L)\n",
    "            \n",
    "\n",
    "dfner[\"PERSON-nerenglish\"]=Per\n",
    "dfner[\"LOC-nerenglish\"]=LOC\n",
    "dfner[\"ORG-nerenglish\"]=ORG                        "
   ]
  },
  {
   "cell_type": "code",
   "execution_count": 33,
   "id": "947f320e",
   "metadata": {
    "execution": {
     "iopub.execute_input": "2022-06-09T18:41:14.708220Z",
     "iopub.status.busy": "2022-06-09T18:41:14.707901Z",
     "iopub.status.idle": "2022-06-09T18:41:14.721718Z",
     "shell.execute_reply": "2022-06-09T18:41:14.720988Z"
    },
    "papermill": {
     "duration": 0.046061,
     "end_time": "2022-06-09T18:41:14.723414",
     "exception": false,
     "start_time": "2022-06-09T18:41:14.677353",
     "status": "completed"
    },
    "tags": []
   },
   "outputs": [
    {
     "data": {
      "text/html": [
       "<div>\n",
       "<style scoped>\n",
       "    .dataframe tbody tr th:only-of-type {\n",
       "        vertical-align: middle;\n",
       "    }\n",
       "\n",
       "    .dataframe tbody tr th {\n",
       "        vertical-align: top;\n",
       "    }\n",
       "\n",
       "    .dataframe thead th {\n",
       "        text-align: right;\n",
       "    }\n",
       "</style>\n",
       "<table border=\"1\" class=\"dataframe\">\n",
       "  <thead>\n",
       "    <tr style=\"text-align: right;\">\n",
       "      <th></th>\n",
       "      <th>text</th>\n",
       "      <th>PERSON-nerenglish</th>\n",
       "      <th>LOC-nerenglish</th>\n",
       "      <th>ORG-nerenglish</th>\n",
       "    </tr>\n",
       "  </thead>\n",
       "  <tbody>\n",
       "    <tr>\n",
       "      <th>0</th>\n",
       "      <td>] I , ] I C Meekins ] , of ] Currituck ] Count...</td>\n",
       "      <td>[God, Isaac C. Meekins, I C Meekins E H Walker...</td>\n",
       "      <td>[Currituck ] County]</td>\n",
       "      <td>[]</td>\n",
       "    </tr>\n",
       "    <tr>\n",
       "      <th>1</th>\n",
       "      <td>^ ] ] Department of Virginia North Carolina , ...</td>\n",
       "      <td>[]</td>\n",
       "      <td>[United States]</td>\n",
       "      <td>[]</td>\n",
       "    </tr>\n",
       "    <tr>\n",
       "      <th>2</th>\n",
       "      <td>] I , ] W. H. Pearce , ] of ] Craven ] County ...</td>\n",
       "      <td>[H. Pearce, God, E. Ampetts, B. Watson]</td>\n",
       "      <td>[Craven ] County, State of North-Carolina]</td>\n",
       "      <td>[]</td>\n",
       "    </tr>\n",
       "    <tr>\n",
       "      <th>3</th>\n",
       "      <td>State of North Carolina , } ________ County . ...</td>\n",
       "      <td>[God, Sworn]</td>\n",
       "      <td>[United States]</td>\n",
       "      <td>[]</td>\n",
       "    </tr>\n",
       "    <tr>\n",
       "      <th>4</th>\n",
       "      <td>State of North Carolina , Wake ] ] County . I ...</td>\n",
       "      <td>[Allen, God, Allen Sworn]</td>\n",
       "      <td>[United States]</td>\n",
       "      <td>[]</td>\n",
       "    </tr>\n",
       "  </tbody>\n",
       "</table>\n",
       "</div>"
      ],
      "text/plain": [
       "                                                text  \\\n",
       "0  ] I , ] I C Meekins ] , of ] Currituck ] Count...   \n",
       "1  ^ ] ] Department of Virginia North Carolina , ...   \n",
       "2  ] I , ] W. H. Pearce , ] of ] Craven ] County ...   \n",
       "3  State of North Carolina , } ________ County . ...   \n",
       "4  State of North Carolina , Wake ] ] County . I ...   \n",
       "\n",
       "                                   PERSON-nerenglish  \\\n",
       "0  [God, Isaac C. Meekins, I C Meekins E H Walker...   \n",
       "1                                                 []   \n",
       "2            [H. Pearce, God, E. Ampetts, B. Watson]   \n",
       "3                                       [God, Sworn]   \n",
       "4                          [Allen, God, Allen Sworn]   \n",
       "\n",
       "                               LOC-nerenglish ORG-nerenglish  \n",
       "0                        [Currituck ] County]             []  \n",
       "1                             [United States]             []  \n",
       "2  [Craven ] County, State of North-Carolina]             []  \n",
       "3                             [United States]             []  \n",
       "4                             [United States]             []  "
      ]
     },
     "execution_count": 33,
     "metadata": {},
     "output_type": "execute_result"
    }
   ],
   "source": [
    "dfner.head()"
   ]
  },
  {
   "cell_type": "markdown",
   "id": "5058c1d0",
   "metadata": {
    "papermill": {
     "duration": 0.028646,
     "end_time": "2022-06-09T18:41:14.781882",
     "exception": false,
     "start_time": "2022-06-09T18:41:14.753236",
     "status": "completed"
    },
    "tags": []
   },
   "source": [
    "tagger 2 ontonotes"
   ]
  },
  {
   "cell_type": "code",
   "execution_count": 34,
   "id": "eb507b7a",
   "metadata": {
    "execution": {
     "iopub.execute_input": "2022-06-09T18:41:14.841372Z",
     "iopub.status.busy": "2022-06-09T18:41:14.841061Z",
     "iopub.status.idle": "2022-06-09T18:43:14.756493Z",
     "shell.execute_reply": "2022-06-09T18:43:14.755554Z"
    },
    "papermill": {
     "duration": 119.948058,
     "end_time": "2022-06-09T18:43:14.758958",
     "exception": false,
     "start_time": "2022-06-09T18:41:14.810900",
     "status": "completed"
    },
    "tags": []
   },
   "outputs": [],
   "source": [
    "listoto=[]\n",
    "label=[]\n",
    "Per=[]\n",
    "Date=[]\n",
    "GPE=[]\n",
    "ORG=[]\n",
    "from flair.data import Sentence\n",
    "\n",
    "aldf=pd.DataFrame({\"text\":\"\", \"PERSON-ontonotes\":[], \"GPE-ontonotes\":\"\",\"ORG-ontonotes\":\"\", \"Date-ontonotes\":\"\"})\n",
    "for i in range(2136):\n",
    "        sentencess =Sentence(all_text[i])\n",
    "        aldf.loc[i,\"text\"]=all_text[i]\n",
    "        tagger.predict(sentencess)\n",
    "        dc={}\n",
    "        P=[]\n",
    "        D=[]\n",
    "        G=[]\n",
    "        O=[]\n",
    "        for entity in sentencess.get_spans('ner'):\n",
    "                     \n",
    "                     if (entity.get_label(\"ner\").score > 0.98) & (entity.get_label(\"ner\").value != \"CARDINAL\") & (entity.get_label(\"ner\").value != \"LAW\")& (entity.get_label(\"ner\").value != \"QUANTITY\") & (entity.get_label(\"ner\").value != \"WORK_OF_ART\") & (entity.get_label(\"ner\").value != \"LAW\")& (entity.get_label(\"ner\").value != \"QUANTITY\") & (entity.get_label(\"ner\").value != \"EVENT\")  :\n",
    "                        dc[entity.text]= entity.get_label(\"ner\").value \n",
    "                        listoto.append(entity)\n",
    "        \n",
    "        \n",
    "        for j in dc :\n",
    "                if dc[j]==\"PERSON\":\n",
    "                      P.append(j)\n",
    "                elif dc[j]==\"ORG\":\n",
    "                      O.append(j)\n",
    "                elif dc[j]==\"DATE\":\n",
    "                      D.append(j)\n",
    "                elif dc[j]==\"GPE\":\n",
    "                      G.append(j)\n",
    "        Per.append(P)\n",
    "        Date.append(D)\n",
    "        ORG.append(O)\n",
    "        GPE.append(G)\n",
    "            \n",
    "aldf[\"Date-ontonotes\"]=Date\n",
    "aldf[\"PERSON-ontonotes\"]=Per\n",
    "aldf[\"GPE-ontonotes\"]=GPE\n",
    "aldf[\"ORG-ontonotes\"]=ORG    "
   ]
  },
  {
   "cell_type": "code",
   "execution_count": 35,
   "id": "72f53fc6",
   "metadata": {
    "execution": {
     "iopub.execute_input": "2022-06-09T18:43:14.819358Z",
     "iopub.status.busy": "2022-06-09T18:43:14.819028Z",
     "iopub.status.idle": "2022-06-09T18:43:14.823974Z",
     "shell.execute_reply": "2022-06-09T18:43:14.823252Z"
    },
    "papermill": {
     "duration": 0.03682,
     "end_time": "2022-06-09T18:43:14.825755",
     "exception": false,
     "start_time": "2022-06-09T18:43:14.788935",
     "status": "completed"
    },
    "tags": []
   },
   "outputs": [
    {
     "data": {
      "text/plain": [
       "(2136, 5)"
      ]
     },
     "execution_count": 35,
     "metadata": {},
     "output_type": "execute_result"
    }
   ],
   "source": [
    "aldf.shape"
   ]
  },
  {
   "cell_type": "code",
   "execution_count": 36,
   "id": "3b1b0a38",
   "metadata": {
    "execution": {
     "iopub.execute_input": "2022-06-09T18:43:14.885857Z",
     "iopub.status.busy": "2022-06-09T18:43:14.885261Z",
     "iopub.status.idle": "2022-06-09T18:43:14.900856Z",
     "shell.execute_reply": "2022-06-09T18:43:14.900153Z"
    },
    "papermill": {
     "duration": 0.047777,
     "end_time": "2022-06-09T18:43:14.902873",
     "exception": false,
     "start_time": "2022-06-09T18:43:14.855096",
     "status": "completed"
    },
    "tags": []
   },
   "outputs": [
    {
     "data": {
      "text/html": [
       "<div>\n",
       "<style scoped>\n",
       "    .dataframe tbody tr th:only-of-type {\n",
       "        vertical-align: middle;\n",
       "    }\n",
       "\n",
       "    .dataframe tbody tr th {\n",
       "        vertical-align: top;\n",
       "    }\n",
       "\n",
       "    .dataframe thead th {\n",
       "        text-align: right;\n",
       "    }\n",
       "</style>\n",
       "<table border=\"1\" class=\"dataframe\">\n",
       "  <thead>\n",
       "    <tr style=\"text-align: right;\">\n",
       "      <th></th>\n",
       "      <th>text</th>\n",
       "      <th>PERSON-ontonotes</th>\n",
       "      <th>GPE-ontonotes</th>\n",
       "      <th>ORG-ontonotes</th>\n",
       "      <th>Date-ontonotes</th>\n",
       "    </tr>\n",
       "  </thead>\n",
       "  <tbody>\n",
       "    <tr>\n",
       "      <th>0</th>\n",
       "      <td>] I , ] I C Meekins ] , of ] Currituck ] Count...</td>\n",
       "      <td>[I C Meekins, Isaac C. Meekins, E H Walker]</td>\n",
       "      <td>[North Carolina]</td>\n",
       "      <td>[]</td>\n",
       "      <td>[16 ] day of ] Sept ] A.D . , 1865]</td>\n",
       "    </tr>\n",
       "    <tr>\n",
       "      <th>1</th>\n",
       "      <td>^ ] ] Department of Virginia North Carolina , ...</td>\n",
       "      <td>[]</td>\n",
       "      <td>[North Carolina, United States]</td>\n",
       "      <td>[Department of Virginia]</td>\n",
       "      <td>[1864]</td>\n",
       "    </tr>\n",
       "    <tr>\n",
       "      <th>2</th>\n",
       "      <td>] I , ] W. H. Pearce , ] of ] Craven ] County ...</td>\n",
       "      <td>[W . H. Pearce]</td>\n",
       "      <td>[]</td>\n",
       "      <td>[]</td>\n",
       "      <td>[3rd ] day of ] October , ] A.D . , 1865]</td>\n",
       "    </tr>\n",
       "    <tr>\n",
       "      <th>3</th>\n",
       "      <td>State of North Carolina , } ________ County . ...</td>\n",
       "      <td>[]</td>\n",
       "      <td>[North Carolina, United States]</td>\n",
       "      <td>[]</td>\n",
       "      <td>[______ day of ____________ , 1866]</td>\n",
       "    </tr>\n",
       "    <tr>\n",
       "      <th>4</th>\n",
       "      <td>State of North Carolina , Wake ] ] County . I ...</td>\n",
       "      <td>[S.E . Allen]</td>\n",
       "      <td>[North Carolina, United States]</td>\n",
       "      <td>[]</td>\n",
       "      <td>[31st day of May , 1867]</td>\n",
       "    </tr>\n",
       "  </tbody>\n",
       "</table>\n",
       "</div>"
      ],
      "text/plain": [
       "                                                text  \\\n",
       "0  ] I , ] I C Meekins ] , of ] Currituck ] Count...   \n",
       "1  ^ ] ] Department of Virginia North Carolina , ...   \n",
       "2  ] I , ] W. H. Pearce , ] of ] Craven ] County ...   \n",
       "3  State of North Carolina , } ________ County . ...   \n",
       "4  State of North Carolina , Wake ] ] County . I ...   \n",
       "\n",
       "                              PERSON-ontonotes  \\\n",
       "0  [I C Meekins, Isaac C. Meekins, E H Walker]   \n",
       "1                                           []   \n",
       "2                              [W . H. Pearce]   \n",
       "3                                           []   \n",
       "4                                [S.E . Allen]   \n",
       "\n",
       "                     GPE-ontonotes             ORG-ontonotes  \\\n",
       "0                 [North Carolina]                        []   \n",
       "1  [North Carolina, United States]  [Department of Virginia]   \n",
       "2                               []                        []   \n",
       "3  [North Carolina, United States]                        []   \n",
       "4  [North Carolina, United States]                        []   \n",
       "\n",
       "                              Date-ontonotes  \n",
       "0        [16 ] day of ] Sept ] A.D . , 1865]  \n",
       "1                                     [1864]  \n",
       "2  [3rd ] day of ] October , ] A.D . , 1865]  \n",
       "3        [______ day of ____________ , 1866]  \n",
       "4                   [31st day of May , 1867]  "
      ]
     },
     "execution_count": 36,
     "metadata": {},
     "output_type": "execute_result"
    }
   ],
   "source": [
    "aldf.head()"
   ]
  },
  {
   "cell_type": "code",
   "execution_count": 37,
   "id": "f4b24aae",
   "metadata": {
    "execution": {
     "iopub.execute_input": "2022-06-09T18:43:14.964517Z",
     "iopub.status.busy": "2022-06-09T18:43:14.964232Z",
     "iopub.status.idle": "2022-06-09T18:43:14.969370Z",
     "shell.execute_reply": "2022-06-09T18:43:14.968643Z"
    },
    "papermill": {
     "duration": 0.037808,
     "end_time": "2022-06-09T18:43:14.971228",
     "exception": false,
     "start_time": "2022-06-09T18:43:14.933420",
     "status": "completed"
    },
    "tags": []
   },
   "outputs": [
    {
     "data": {
      "text/plain": [
       "(2136, 5)"
      ]
     },
     "execution_count": 37,
     "metadata": {},
     "output_type": "execute_result"
    }
   ],
   "source": [
    "aldf.shape"
   ]
  },
  {
   "cell_type": "markdown",
   "id": "c2989c98",
   "metadata": {
    "papermill": {
     "duration": 0.030104,
     "end_time": "2022-06-09T18:43:15.031574",
     "exception": false,
     "start_time": "2022-06-09T18:43:15.001470",
     "status": "completed"
    },
    "tags": []
   },
   "source": [
    "# Post processing"
   ]
  },
  {
   "cell_type": "markdown",
   "id": "3bb01341",
   "metadata": {
    "papermill": {
     "duration": 0.029516,
     "end_time": "2022-06-09T18:43:15.091087",
     "exception": false,
     "start_time": "2022-06-09T18:43:15.061571",
     "status": "completed"
    },
    "tags": []
   },
   "source": [
    "**For dates**"
   ]
  },
  {
   "cell_type": "code",
   "execution_count": 38,
   "id": "ee072fcb",
   "metadata": {
    "execution": {
     "iopub.execute_input": "2022-06-09T18:43:15.151284Z",
     "iopub.status.busy": "2022-06-09T18:43:15.151003Z",
     "iopub.status.idle": "2022-06-09T18:43:15.213012Z",
     "shell.execute_reply": "2022-06-09T18:43:15.212350Z"
    },
    "papermill": {
     "duration": 0.094087,
     "end_time": "2022-06-09T18:43:15.214788",
     "exception": false,
     "start_time": "2022-06-09T18:43:15.120701",
     "status": "completed"
    },
    "tags": []
   },
   "outputs": [],
   "source": [
    "G=[]\n",
    "for i in aldf[\"Date-ontonotes\"]:\n",
    "    M=[]\n",
    "    for j in i:\n",
    "        date=re.search(r'^\\d\\.*.*\\d\\d$' ,j)\n",
    "        date2=re.search(r'^[A-ZZa-z]\\.*.*\\d\\.*.*\\d\\d$' ,j)\n",
    "        M.append(date)\n",
    "        M.append(date2)\n",
    "    G.append(M)\n",
    "    \n",
    "\n",
    "GF=[]\n",
    "for i in G:\n",
    "    Final_date=[]\n",
    "    for j in i:\n",
    "        if j!=None:\n",
    "            Final_date.append(j.group())\n",
    "    GF.append(Final_date)\n",
    "\n",
    "    \n",
    "aldf[\"postDate-ontonotes\"]=GF\n",
    "            \n",
    "            \n",
    "        "
   ]
  },
  {
   "cell_type": "markdown",
   "id": "1c929a1f",
   "metadata": {
    "papermill": {
     "duration": 0.029661,
     "end_time": "2022-06-09T18:43:15.274685",
     "exception": false,
     "start_time": "2022-06-09T18:43:15.245024",
     "status": "completed"
    },
    "tags": []
   },
   "source": [
    "# Run this to see the extracted dates before filtring them "
   ]
  },
  {
   "cell_type": "code",
   "execution_count": 39,
   "id": "f950556d",
   "metadata": {
    "execution": {
     "iopub.execute_input": "2022-06-09T18:43:15.336561Z",
     "iopub.status.busy": "2022-06-09T18:43:15.336243Z",
     "iopub.status.idle": "2022-06-09T18:43:15.339782Z",
     "shell.execute_reply": "2022-06-09T18:43:15.338949Z"
    },
    "papermill": {
     "duration": 0.035812,
     "end_time": "2022-06-09T18:43:15.341439",
     "exception": false,
     "start_time": "2022-06-09T18:43:15.305627",
     "status": "completed"
    },
    "tags": []
   },
   "outputs": [],
   "source": [
    "#GF"
   ]
  },
  {
   "cell_type": "code",
   "execution_count": 40,
   "id": "b0e1b013",
   "metadata": {
    "execution": {
     "iopub.execute_input": "2022-06-09T18:43:15.402381Z",
     "iopub.status.busy": "2022-06-09T18:43:15.402066Z",
     "iopub.status.idle": "2022-06-09T18:43:15.533605Z",
     "shell.execute_reply": "2022-06-09T18:43:15.532905Z"
    },
    "papermill": {
     "duration": 0.164244,
     "end_time": "2022-06-09T18:43:15.535330",
     "exception": false,
     "start_time": "2022-06-09T18:43:15.371086",
     "status": "completed"
    },
    "tags": []
   },
   "outputs": [],
   "source": [
    "G=[]\n",
    "for i in aldf[\"postDate-ontonotes\"]:\n",
    "    M=[]\n",
    "    for j in i:\n",
    "        Final_date1=re.sub(r'([0-9]{1,2})\\.*.*\\s([A-Z][a-z]\\S*)\\.*.*\\s([0-9]{2,4})',r'\\1-\\2-\\3' ,j)\n",
    "        Final_date2=re.sub(r'([A-Z]\\.*.*)\\s([0-9]{1,2})\\.*.*\\s([0-9]{2,4})',r'\\2-\\1-\\3' ,j)\n",
    "        final_date3=re.sub(r'([A-Z][a-z]\\S*)\\.*.*\\s([A-Z][a-z]\\S*)\\.*.*\\s([0-9]{2,4})',r'\\1-\\2-\\3' ,j)\n",
    "        final_date4=re.sub(r'(^[A-Za-z]\\S*.*.)day\\.*.*\\s([A-Z][a-z]\\S*)\\.*.*\\s([0-9]{2,4})',r'\\1-\\2-\\3' ,j)\n",
    "        if Final_date1 != j:   \n",
    "            M.append(Final_date1)\n",
    "        if Final_date2 != j :\n",
    "            M.append(Final_date2)\n",
    "        if final_date3 != j :\n",
    "            M.append(final_date3)\n",
    "        if final_date4 != j :\n",
    "            M.append(final_date4)\n",
    "    G.append(M)\n",
    "    \n",
    "\n",
    "aldf[\"postDate-ontonotes\"]=G"
   ]
  },
  {
   "cell_type": "markdown",
   "id": "06009606",
   "metadata": {
    "papermill": {
     "duration": 0.029637,
     "end_time": "2022-06-09T18:43:15.595843",
     "exception": false,
     "start_time": "2022-06-09T18:43:15.566206",
     "status": "completed"
    },
    "tags": []
   },
   "source": [
    "**great !**"
   ]
  },
  {
   "cell_type": "markdown",
   "id": "e5c70329",
   "metadata": {
    "papermill": {
     "duration": 0.029445,
     "end_time": "2022-06-09T18:43:15.655265",
     "exception": false,
     "start_time": "2022-06-09T18:43:15.625820",
     "status": "completed"
    },
    "tags": []
   },
   "source": [
    "****"
   ]
  },
  {
   "cell_type": "markdown",
   "id": "739837fa",
   "metadata": {
    "papermill": {
     "duration": 0.029604,
     "end_time": "2022-06-09T18:43:15.715631",
     "exception": false,
     "start_time": "2022-06-09T18:43:15.686027",
     "status": "completed"
    },
    "tags": []
   },
   "source": [
    "****"
   ]
  },
  {
   "cell_type": "code",
   "execution_count": 41,
   "id": "c35da019",
   "metadata": {
    "execution": {
     "iopub.execute_input": "2022-06-09T18:43:15.796700Z",
     "iopub.status.busy": "2022-06-09T18:43:15.796199Z",
     "iopub.status.idle": "2022-06-09T18:43:15.816180Z",
     "shell.execute_reply": "2022-06-09T18:43:15.814927Z"
    },
    "papermill": {
     "duration": 0.073912,
     "end_time": "2022-06-09T18:43:15.819520",
     "exception": false,
     "start_time": "2022-06-09T18:43:15.745608",
     "status": "completed"
    },
    "tags": []
   },
   "outputs": [
    {
     "data": {
      "text/html": [
       "<div>\n",
       "<style scoped>\n",
       "    .dataframe tbody tr th:only-of-type {\n",
       "        vertical-align: middle;\n",
       "    }\n",
       "\n",
       "    .dataframe tbody tr th {\n",
       "        vertical-align: top;\n",
       "    }\n",
       "\n",
       "    .dataframe thead th {\n",
       "        text-align: right;\n",
       "    }\n",
       "</style>\n",
       "<table border=\"1\" class=\"dataframe\">\n",
       "  <thead>\n",
       "    <tr style=\"text-align: right;\">\n",
       "      <th></th>\n",
       "      <th>text</th>\n",
       "      <th>PERSON-nerenglarge</th>\n",
       "      <th>LOC-nerenglarge</th>\n",
       "      <th>ORG-nerenglarge</th>\n",
       "    </tr>\n",
       "  </thead>\n",
       "  <tbody>\n",
       "    <tr>\n",
       "      <th>0</th>\n",
       "      <td>] I , ] I C Meekins ] , of ] Currituck ] Count...</td>\n",
       "      <td>[I C Meekins, Almighty, God, Isaac C. Meekins,...</td>\n",
       "      <td>[Currituck, State of North Carolina, United St...</td>\n",
       "      <td>[Constitution]</td>\n",
       "    </tr>\n",
       "    <tr>\n",
       "      <th>1</th>\n",
       "      <td>^ ] ] Department of Virginia North Carolina , ...</td>\n",
       "      <td>[]</td>\n",
       "      <td>[North Carolina, United States, States]</td>\n",
       "      <td>[OATH PAROLE]</td>\n",
       "    </tr>\n",
       "    <tr>\n",
       "      <th>2</th>\n",
       "      <td>] I , ] W. H. Pearce , ] of ] Craven ] County ...</td>\n",
       "      <td>[W . H. Pearce, Almighty, God, Jm . E. Ampetts...</td>\n",
       "      <td>[Craven, County, State of North-Carolina, Unit...</td>\n",
       "      <td>[]</td>\n",
       "    </tr>\n",
       "    <tr>\n",
       "      <th>3</th>\n",
       "      <td>State of North Carolina , } ________ County . ...</td>\n",
       "      <td>[God]</td>\n",
       "      <td>[State of North Carolina, United States]</td>\n",
       "      <td>[Constitution]</td>\n",
       "    </tr>\n",
       "    <tr>\n",
       "      <th>4</th>\n",
       "      <td>State of North Carolina , Wake ] ] County . I ...</td>\n",
       "      <td>[S.E, Allen, God, T.D, McAlpine]</td>\n",
       "      <td>[State of North Carolina, Wake, County, United...</td>\n",
       "      <td>[Constitution, Res . Corp]</td>\n",
       "    </tr>\n",
       "  </tbody>\n",
       "</table>\n",
       "</div>"
      ],
      "text/plain": [
       "                                                text  \\\n",
       "0  ] I , ] I C Meekins ] , of ] Currituck ] Count...   \n",
       "1  ^ ] ] Department of Virginia North Carolina , ...   \n",
       "2  ] I , ] W. H. Pearce , ] of ] Craven ] County ...   \n",
       "3  State of North Carolina , } ________ County . ...   \n",
       "4  State of North Carolina , Wake ] ] County . I ...   \n",
       "\n",
       "                                  PERSON-nerenglarge  \\\n",
       "0  [I C Meekins, Almighty, God, Isaac C. Meekins,...   \n",
       "1                                                 []   \n",
       "2  [W . H. Pearce, Almighty, God, Jm . E. Ampetts...   \n",
       "3                                              [God]   \n",
       "4                   [S.E, Allen, God, T.D, McAlpine]   \n",
       "\n",
       "                                     LOC-nerenglarge  \\\n",
       "0  [Currituck, State of North Carolina, United St...   \n",
       "1            [North Carolina, United States, States]   \n",
       "2  [Craven, County, State of North-Carolina, Unit...   \n",
       "3           [State of North Carolina, United States]   \n",
       "4  [State of North Carolina, Wake, County, United...   \n",
       "\n",
       "              ORG-nerenglarge  \n",
       "0              [Constitution]  \n",
       "1               [OATH PAROLE]  \n",
       "2                          []  \n",
       "3              [Constitution]  \n",
       "4  [Constitution, Res . Corp]  "
      ]
     },
     "execution_count": 41,
     "metadata": {},
     "output_type": "execute_result"
    }
   ],
   "source": [
    "dflarge.head()"
   ]
  },
  {
   "cell_type": "code",
   "execution_count": 42,
   "id": "643f2930",
   "metadata": {
    "execution": {
     "iopub.execute_input": "2022-06-09T18:43:15.886226Z",
     "iopub.status.busy": "2022-06-09T18:43:15.885906Z",
     "iopub.status.idle": "2022-06-09T18:43:15.900896Z",
     "shell.execute_reply": "2022-06-09T18:43:15.900176Z"
    },
    "papermill": {
     "duration": 0.047766,
     "end_time": "2022-06-09T18:43:15.902703",
     "exception": false,
     "start_time": "2022-06-09T18:43:15.854937",
     "status": "completed"
    },
    "tags": []
   },
   "outputs": [
    {
     "data": {
      "text/html": [
       "<div>\n",
       "<style scoped>\n",
       "    .dataframe tbody tr th:only-of-type {\n",
       "        vertical-align: middle;\n",
       "    }\n",
       "\n",
       "    .dataframe tbody tr th {\n",
       "        vertical-align: top;\n",
       "    }\n",
       "\n",
       "    .dataframe thead th {\n",
       "        text-align: right;\n",
       "    }\n",
       "</style>\n",
       "<table border=\"1\" class=\"dataframe\">\n",
       "  <thead>\n",
       "    <tr style=\"text-align: right;\">\n",
       "      <th></th>\n",
       "      <th>text</th>\n",
       "      <th>PERSON-nerenglish</th>\n",
       "      <th>LOC-nerenglish</th>\n",
       "      <th>ORG-nerenglish</th>\n",
       "    </tr>\n",
       "  </thead>\n",
       "  <tbody>\n",
       "    <tr>\n",
       "      <th>0</th>\n",
       "      <td>] I , ] I C Meekins ] , of ] Currituck ] Count...</td>\n",
       "      <td>[God, Isaac C. Meekins, I C Meekins E H Walker...</td>\n",
       "      <td>[Currituck ] County]</td>\n",
       "      <td>[]</td>\n",
       "    </tr>\n",
       "    <tr>\n",
       "      <th>1</th>\n",
       "      <td>^ ] ] Department of Virginia North Carolina , ...</td>\n",
       "      <td>[]</td>\n",
       "      <td>[United States]</td>\n",
       "      <td>[]</td>\n",
       "    </tr>\n",
       "    <tr>\n",
       "      <th>2</th>\n",
       "      <td>] I , ] W. H. Pearce , ] of ] Craven ] County ...</td>\n",
       "      <td>[H. Pearce, God, E. Ampetts, B. Watson]</td>\n",
       "      <td>[Craven ] County, State of North-Carolina]</td>\n",
       "      <td>[]</td>\n",
       "    </tr>\n",
       "    <tr>\n",
       "      <th>3</th>\n",
       "      <td>State of North Carolina , } ________ County . ...</td>\n",
       "      <td>[God, Sworn]</td>\n",
       "      <td>[United States]</td>\n",
       "      <td>[]</td>\n",
       "    </tr>\n",
       "    <tr>\n",
       "      <th>4</th>\n",
       "      <td>State of North Carolina , Wake ] ] County . I ...</td>\n",
       "      <td>[Allen, God, Allen Sworn]</td>\n",
       "      <td>[United States]</td>\n",
       "      <td>[]</td>\n",
       "    </tr>\n",
       "  </tbody>\n",
       "</table>\n",
       "</div>"
      ],
      "text/plain": [
       "                                                text  \\\n",
       "0  ] I , ] I C Meekins ] , of ] Currituck ] Count...   \n",
       "1  ^ ] ] Department of Virginia North Carolina , ...   \n",
       "2  ] I , ] W. H. Pearce , ] of ] Craven ] County ...   \n",
       "3  State of North Carolina , } ________ County . ...   \n",
       "4  State of North Carolina , Wake ] ] County . I ...   \n",
       "\n",
       "                                   PERSON-nerenglish  \\\n",
       "0  [God, Isaac C. Meekins, I C Meekins E H Walker...   \n",
       "1                                                 []   \n",
       "2            [H. Pearce, God, E. Ampetts, B. Watson]   \n",
       "3                                       [God, Sworn]   \n",
       "4                          [Allen, God, Allen Sworn]   \n",
       "\n",
       "                               LOC-nerenglish ORG-nerenglish  \n",
       "0                        [Currituck ] County]             []  \n",
       "1                             [United States]             []  \n",
       "2  [Craven ] County, State of North-Carolina]             []  \n",
       "3                             [United States]             []  \n",
       "4                             [United States]             []  "
      ]
     },
     "execution_count": 42,
     "metadata": {},
     "output_type": "execute_result"
    }
   ],
   "source": [
    "dfner.head()"
   ]
  },
  {
   "cell_type": "code",
   "execution_count": 43,
   "id": "a2186b66",
   "metadata": {
    "execution": {
     "iopub.execute_input": "2022-06-09T18:43:15.966560Z",
     "iopub.status.busy": "2022-06-09T18:43:15.966282Z",
     "iopub.status.idle": "2022-06-09T18:43:15.975770Z",
     "shell.execute_reply": "2022-06-09T18:43:15.974957Z"
    },
    "papermill": {
     "duration": 0.044449,
     "end_time": "2022-06-09T18:43:15.977735",
     "exception": false,
     "start_time": "2022-06-09T18:43:15.933286",
     "status": "completed"
    },
    "tags": []
   },
   "outputs": [],
   "source": [
    "aldf[\"Person-NerEngLarge\"]=dflarge[\"PERSON-nerenglarge\"]\n",
    "aldf[\"LOC-NerEngLarge\"]=dflarge[\"LOC-nerenglarge\"]\n",
    "aldf[\"ORG-NerEngLarge\"]=dflarge[\"ORG-nerenglarge\"]\n",
    "aldf[\"Person-NerEng\"]=dfner[\"PERSON-nerenglish\"]\n",
    "aldf[\"LOC-NerEng\"]=dfner[\"LOC-nerenglish\"]\n",
    "aldf[\"ORG-NerEng\"]=dfner[\"ORG-nerenglish\"]"
   ]
  },
  {
   "cell_type": "code",
   "execution_count": 44,
   "id": "71b93aaf",
   "metadata": {
    "execution": {
     "iopub.execute_input": "2022-06-09T18:43:16.040690Z",
     "iopub.status.busy": "2022-06-09T18:43:16.040400Z",
     "iopub.status.idle": "2022-06-09T18:43:16.070543Z",
     "shell.execute_reply": "2022-06-09T18:43:16.069704Z"
    },
    "papermill": {
     "duration": 0.064369,
     "end_time": "2022-06-09T18:43:16.073165",
     "exception": false,
     "start_time": "2022-06-09T18:43:16.008796",
     "status": "completed"
    },
    "tags": []
   },
   "outputs": [
    {
     "data": {
      "text/html": [
       "<div>\n",
       "<style scoped>\n",
       "    .dataframe tbody tr th:only-of-type {\n",
       "        vertical-align: middle;\n",
       "    }\n",
       "\n",
       "    .dataframe tbody tr th {\n",
       "        vertical-align: top;\n",
       "    }\n",
       "\n",
       "    .dataframe thead th {\n",
       "        text-align: right;\n",
       "    }\n",
       "</style>\n",
       "<table border=\"1\" class=\"dataframe\">\n",
       "  <thead>\n",
       "    <tr style=\"text-align: right;\">\n",
       "      <th></th>\n",
       "      <th>text</th>\n",
       "      <th>PERSON-ontonotes</th>\n",
       "      <th>GPE-ontonotes</th>\n",
       "      <th>ORG-ontonotes</th>\n",
       "      <th>Date-ontonotes</th>\n",
       "      <th>postDate-ontonotes</th>\n",
       "      <th>Person-NerEngLarge</th>\n",
       "      <th>LOC-NerEngLarge</th>\n",
       "      <th>ORG-NerEngLarge</th>\n",
       "      <th>Person-NerEng</th>\n",
       "      <th>LOC-NerEng</th>\n",
       "      <th>ORG-NerEng</th>\n",
       "    </tr>\n",
       "  </thead>\n",
       "  <tbody>\n",
       "    <tr>\n",
       "      <th>0</th>\n",
       "      <td>] I , ] I C Meekins ] , of ] Currituck ] Count...</td>\n",
       "      <td>[I C Meekins, Isaac C. Meekins, E H Walker]</td>\n",
       "      <td>[North Carolina]</td>\n",
       "      <td>[]</td>\n",
       "      <td>[16 ] day of ] Sept ] A.D . , 1865]</td>\n",
       "      <td>[16-Sept-1865]</td>\n",
       "      <td>[I C Meekins, Almighty, God, Isaac C. Meekins,...</td>\n",
       "      <td>[Currituck, State of North Carolina, United St...</td>\n",
       "      <td>[Constitution]</td>\n",
       "      <td>[God, Isaac C. Meekins, I C Meekins E H Walker...</td>\n",
       "      <td>[Currituck ] County]</td>\n",
       "      <td>[]</td>\n",
       "    </tr>\n",
       "    <tr>\n",
       "      <th>1</th>\n",
       "      <td>^ ] ] Department of Virginia North Carolina , ...</td>\n",
       "      <td>[]</td>\n",
       "      <td>[North Carolina, United States]</td>\n",
       "      <td>[Department of Virginia]</td>\n",
       "      <td>[1864]</td>\n",
       "      <td>[]</td>\n",
       "      <td>[]</td>\n",
       "      <td>[North Carolina, United States, States]</td>\n",
       "      <td>[OATH PAROLE]</td>\n",
       "      <td>[]</td>\n",
       "      <td>[United States]</td>\n",
       "      <td>[]</td>\n",
       "    </tr>\n",
       "    <tr>\n",
       "      <th>2</th>\n",
       "      <td>] I , ] W. H. Pearce , ] of ] Craven ] County ...</td>\n",
       "      <td>[W . H. Pearce]</td>\n",
       "      <td>[]</td>\n",
       "      <td>[]</td>\n",
       "      <td>[3rd ] day of ] October , ] A.D . , 1865]</td>\n",
       "      <td>[3-October-1865]</td>\n",
       "      <td>[W . H. Pearce, Almighty, God, Jm . E. Ampetts...</td>\n",
       "      <td>[Craven, County, State of North-Carolina, Unit...</td>\n",
       "      <td>[]</td>\n",
       "      <td>[H. Pearce, God, E. Ampetts, B. Watson]</td>\n",
       "      <td>[Craven ] County, State of North-Carolina]</td>\n",
       "      <td>[]</td>\n",
       "    </tr>\n",
       "    <tr>\n",
       "      <th>3</th>\n",
       "      <td>State of North Carolina , } ________ County . ...</td>\n",
       "      <td>[]</td>\n",
       "      <td>[North Carolina, United States]</td>\n",
       "      <td>[]</td>\n",
       "      <td>[______ day of ____________ , 1866]</td>\n",
       "      <td>[]</td>\n",
       "      <td>[God]</td>\n",
       "      <td>[State of North Carolina, United States]</td>\n",
       "      <td>[Constitution]</td>\n",
       "      <td>[God, Sworn]</td>\n",
       "      <td>[United States]</td>\n",
       "      <td>[]</td>\n",
       "    </tr>\n",
       "    <tr>\n",
       "      <th>4</th>\n",
       "      <td>State of North Carolina , Wake ] ] County . I ...</td>\n",
       "      <td>[S.E . Allen]</td>\n",
       "      <td>[North Carolina, United States]</td>\n",
       "      <td>[]</td>\n",
       "      <td>[31st day of May , 1867]</td>\n",
       "      <td>[31-May-1867]</td>\n",
       "      <td>[S.E, Allen, God, T.D, McAlpine]</td>\n",
       "      <td>[State of North Carolina, Wake, County, United...</td>\n",
       "      <td>[Constitution, Res . Corp]</td>\n",
       "      <td>[Allen, God, Allen Sworn]</td>\n",
       "      <td>[United States]</td>\n",
       "      <td>[]</td>\n",
       "    </tr>\n",
       "  </tbody>\n",
       "</table>\n",
       "</div>"
      ],
      "text/plain": [
       "                                                text  \\\n",
       "0  ] I , ] I C Meekins ] , of ] Currituck ] Count...   \n",
       "1  ^ ] ] Department of Virginia North Carolina , ...   \n",
       "2  ] I , ] W. H. Pearce , ] of ] Craven ] County ...   \n",
       "3  State of North Carolina , } ________ County . ...   \n",
       "4  State of North Carolina , Wake ] ] County . I ...   \n",
       "\n",
       "                              PERSON-ontonotes  \\\n",
       "0  [I C Meekins, Isaac C. Meekins, E H Walker]   \n",
       "1                                           []   \n",
       "2                              [W . H. Pearce]   \n",
       "3                                           []   \n",
       "4                                [S.E . Allen]   \n",
       "\n",
       "                     GPE-ontonotes             ORG-ontonotes  \\\n",
       "0                 [North Carolina]                        []   \n",
       "1  [North Carolina, United States]  [Department of Virginia]   \n",
       "2                               []                        []   \n",
       "3  [North Carolina, United States]                        []   \n",
       "4  [North Carolina, United States]                        []   \n",
       "\n",
       "                              Date-ontonotes postDate-ontonotes  \\\n",
       "0        [16 ] day of ] Sept ] A.D . , 1865]     [16-Sept-1865]   \n",
       "1                                     [1864]                 []   \n",
       "2  [3rd ] day of ] October , ] A.D . , 1865]   [3-October-1865]   \n",
       "3        [______ day of ____________ , 1866]                 []   \n",
       "4                   [31st day of May , 1867]      [31-May-1867]   \n",
       "\n",
       "                                  Person-NerEngLarge  \\\n",
       "0  [I C Meekins, Almighty, God, Isaac C. Meekins,...   \n",
       "1                                                 []   \n",
       "2  [W . H. Pearce, Almighty, God, Jm . E. Ampetts...   \n",
       "3                                              [God]   \n",
       "4                   [S.E, Allen, God, T.D, McAlpine]   \n",
       "\n",
       "                                     LOC-NerEngLarge  \\\n",
       "0  [Currituck, State of North Carolina, United St...   \n",
       "1            [North Carolina, United States, States]   \n",
       "2  [Craven, County, State of North-Carolina, Unit...   \n",
       "3           [State of North Carolina, United States]   \n",
       "4  [State of North Carolina, Wake, County, United...   \n",
       "\n",
       "              ORG-NerEngLarge  \\\n",
       "0              [Constitution]   \n",
       "1               [OATH PAROLE]   \n",
       "2                          []   \n",
       "3              [Constitution]   \n",
       "4  [Constitution, Res . Corp]   \n",
       "\n",
       "                                       Person-NerEng  \\\n",
       "0  [God, Isaac C. Meekins, I C Meekins E H Walker...   \n",
       "1                                                 []   \n",
       "2            [H. Pearce, God, E. Ampetts, B. Watson]   \n",
       "3                                       [God, Sworn]   \n",
       "4                          [Allen, God, Allen Sworn]   \n",
       "\n",
       "                                   LOC-NerEng ORG-NerEng  \n",
       "0                        [Currituck ] County]         []  \n",
       "1                             [United States]         []  \n",
       "2  [Craven ] County, State of North-Carolina]         []  \n",
       "3                             [United States]         []  \n",
       "4                             [United States]         []  "
      ]
     },
     "execution_count": 44,
     "metadata": {},
     "output_type": "execute_result"
    }
   ],
   "source": [
    "aldf.head()"
   ]
  },
  {
   "cell_type": "code",
   "execution_count": 45,
   "id": "f50b33ad",
   "metadata": {
    "execution": {
     "iopub.execute_input": "2022-06-09T18:43:16.137541Z",
     "iopub.status.busy": "2022-06-09T18:43:16.137239Z",
     "iopub.status.idle": "2022-06-09T18:43:16.313170Z",
     "shell.execute_reply": "2022-06-09T18:43:16.312161Z"
    },
    "papermill": {
     "duration": 0.217058,
     "end_time": "2022-06-09T18:43:16.321055",
     "exception": false,
     "start_time": "2022-06-09T18:43:16.103997",
     "status": "completed"
    },
    "tags": []
   },
   "outputs": [],
   "source": [
    "aldf.to_csv(\"result.csv\", index=False)"
   ]
  },
  {
   "cell_type": "code",
   "execution_count": 46,
   "id": "356839cf",
   "metadata": {
    "execution": {
     "iopub.execute_input": "2022-06-09T18:43:16.434735Z",
     "iopub.status.busy": "2022-06-09T18:43:16.434228Z",
     "iopub.status.idle": "2022-06-09T18:43:16.455917Z",
     "shell.execute_reply": "2022-06-09T18:43:16.455166Z"
    },
    "papermill": {
     "duration": 0.078171,
     "end_time": "2022-06-09T18:43:16.461809",
     "exception": false,
     "start_time": "2022-06-09T18:43:16.383638",
     "status": "completed"
    },
    "tags": []
   },
   "outputs": [],
   "source": [
    "allPerson=[]\n",
    "for i in aldf[\"PERSON-ontonotes\"]:\n",
    "            allPerson.append(i)\n",
    "allDatess=[]\n",
    "for i in aldf[\"Date-ontonotes\"]:\n",
    "            allDatess.append(i)\n",
    "allpostdates=[]\n",
    "for i in aldf[\"postDate-ontonotes\"]:\n",
    "            allpostdates.append(i)\n",
    "allGPE=[]\n",
    "for i in aldf[\"GPE-ontonotes\"]:\n",
    "            allGPE.append(i)\n",
    "alORGl=[]\n",
    "for i in aldf[\"ORG-ontonotes\"]:\n",
    "            alORGl.append(i)"
   ]
  },
  {
   "cell_type": "markdown",
   "id": "ebdaa4fb",
   "metadata": {
    "papermill": {
     "duration": 0.049219,
     "end_time": "2022-06-09T18:43:16.569323",
     "exception": false,
     "start_time": "2022-06-09T18:43:16.520104",
     "status": "completed"
    },
    "tags": []
   },
   "source": [
    "****"
   ]
  },
  {
   "cell_type": "code",
   "execution_count": 47,
   "id": "950f181d",
   "metadata": {
    "execution": {
     "iopub.execute_input": "2022-06-09T18:43:16.668775Z",
     "iopub.status.busy": "2022-06-09T18:43:16.668407Z",
     "iopub.status.idle": "2022-06-09T18:43:16.683895Z",
     "shell.execute_reply": "2022-06-09T18:43:16.683166Z"
    },
    "papermill": {
     "duration": 0.068319,
     "end_time": "2022-06-09T18:43:16.686082",
     "exception": false,
     "start_time": "2022-06-09T18:43:16.617763",
     "status": "completed"
    },
    "tags": []
   },
   "outputs": [],
   "source": [
    "Personlarge=[]\n",
    "for i in dflarge[\"PERSON-nerenglarge\"]:\n",
    "            Personlarge.append(i)\n",
    "ORGlarge=[]\n",
    "for i in dflarge[\"ORG-nerenglarge\"]:\n",
    "            ORGlarge.append(i) \n",
    "LOClarge=[]\n",
    "for i in dflarge[\"LOC-nerenglarge\"]:\n",
    "            LOClarge.append(i)"
   ]
  },
  {
   "cell_type": "markdown",
   "id": "d6416893",
   "metadata": {
    "papermill": {
     "duration": 0.054186,
     "end_time": "2022-06-09T18:43:16.796362",
     "exception": false,
     "start_time": "2022-06-09T18:43:16.742176",
     "status": "completed"
    },
    "tags": []
   },
   "source": [
    "* as usual , ner English Large is better in extracting Person \n",
    "* ontonotes is thes best in extracting dates after good postprocessing and filtring almost all pattern \n",
    "* ner Engish Large  also better in Location and Oranization "
   ]
  },
  {
   "cell_type": "markdown",
   "id": "19f7c4cd",
   "metadata": {
    "papermill": {
     "duration": 0.051908,
     "end_time": "2022-06-09T18:43:16.901233",
     "exception": false,
     "start_time": "2022-06-09T18:43:16.849325",
     "status": "completed"
    },
    "tags": []
   },
   "source": [
    "# dates"
   ]
  },
  {
   "cell_type": "markdown",
   "id": "57e8f017",
   "metadata": {
    "papermill": {
     "duration": 0.053578,
     "end_time": "2022-06-09T18:43:17.007309",
     "exception": false,
     "start_time": "2022-06-09T18:43:16.953731",
     "status": "completed"
    },
    "tags": []
   },
   "source": [
    "**run those cells to take a look at the result more clearly**"
   ]
  },
  {
   "cell_type": "code",
   "execution_count": 48,
   "id": "73980cfe",
   "metadata": {
    "execution": {
     "iopub.execute_input": "2022-06-09T18:43:17.113975Z",
     "iopub.status.busy": "2022-06-09T18:43:17.113550Z",
     "iopub.status.idle": "2022-06-09T18:43:17.117228Z",
     "shell.execute_reply": "2022-06-09T18:43:17.116508Z"
    },
    "papermill": {
     "duration": 0.061686,
     "end_time": "2022-06-09T18:43:17.121375",
     "exception": false,
     "start_time": "2022-06-09T18:43:17.059689",
     "status": "completed"
    },
    "tags": []
   },
   "outputs": [],
   "source": [
    "#G"
   ]
  },
  {
   "cell_type": "markdown",
   "id": "3e809c14",
   "metadata": {
    "papermill": {
     "duration": 0.05229,
     "end_time": "2022-06-09T18:43:17.225637",
     "exception": false,
     "start_time": "2022-06-09T18:43:17.173347",
     "status": "completed"
    },
    "tags": []
   },
   "source": [
    "# Person"
   ]
  },
  {
   "cell_type": "code",
   "execution_count": 49,
   "id": "01814797",
   "metadata": {
    "execution": {
     "iopub.execute_input": "2022-06-09T18:43:17.330883Z",
     "iopub.status.busy": "2022-06-09T18:43:17.330524Z",
     "iopub.status.idle": "2022-06-09T18:43:17.341739Z",
     "shell.execute_reply": "2022-06-09T18:43:17.340934Z"
    },
    "papermill": {
     "duration": 0.066924,
     "end_time": "2022-06-09T18:43:17.344065",
     "exception": false,
     "start_time": "2022-06-09T18:43:17.277141",
     "status": "completed"
    },
    "tags": []
   },
   "outputs": [
    {
     "data": {
      "text/plain": [
       "[['I C Meekins', 'Isaac C. Meekins', 'E H Walker'],\n",
       " [],\n",
       " ['W . H. Pearce'],\n",
       " [],\n",
       " ['S.E . Allen'],\n",
       " ['Sarah E Dough', 'Sarah', 'E. Dough'],\n",
       " ['Sarah E. Dough', 'J.M . Wilson'],\n",
       " ['W T Dough'],\n",
       " ['Jesse E Dough',\n",
       "  'Isaac C. Meekins J.P',\n",
       "  'Jesse E. Dough',\n",
       "  'Isaac . C. Meekins J.P'],\n",
       " ['T A Dough', 'John B Etheridge']]"
      ]
     },
     "execution_count": 49,
     "metadata": {},
     "output_type": "execute_result"
    }
   ],
   "source": [
    "allPerson[:10]"
   ]
  },
  {
   "cell_type": "code",
   "execution_count": 50,
   "id": "63442219",
   "metadata": {
    "execution": {
     "iopub.execute_input": "2022-06-09T18:43:17.449099Z",
     "iopub.status.busy": "2022-06-09T18:43:17.448750Z",
     "iopub.status.idle": "2022-06-09T18:43:17.458258Z",
     "shell.execute_reply": "2022-06-09T18:43:17.457576Z"
    },
    "papermill": {
     "duration": 0.064822,
     "end_time": "2022-06-09T18:43:17.460455",
     "exception": false,
     "start_time": "2022-06-09T18:43:17.395633",
     "status": "completed"
    },
    "tags": []
   },
   "outputs": [
    {
     "data": {
      "text/plain": [
       "[['I C Meekins',\n",
       "  'Almighty',\n",
       "  'God',\n",
       "  'Isaac C. Meekins',\n",
       "  'E H Walker',\n",
       "  'J.P. John B Etheridge'],\n",
       " [],\n",
       " ['W . H. Pearce',\n",
       "  'Almighty',\n",
       "  'God',\n",
       "  'Jm . E. Ampetts',\n",
       "  'J. P.',\n",
       "  'J.P. A',\n",
       "  'B. Watson'],\n",
       " ['God'],\n",
       " ['S.E', 'Allen', 'God', 'T.D', 'McAlpine'],\n",
       " ['Sarah E Dough', 'God', 'Isaac C. Merkins'],\n",
       " ['Sarah E. Dough', 'J.M . Wilson'],\n",
       " ['W T Dough',\n",
       "  'Almighty',\n",
       "  'God',\n",
       "  'W. T. Dough',\n",
       "  'E H Walker',\n",
       "  'J. P.',\n",
       "  'J. P. John B Etheridge',\n",
       "  'J. P'],\n",
       " ['Jesse E Dough',\n",
       "  'God',\n",
       "  'Jesse E. Dough',\n",
       "  'Isaac C. Meekins J.P',\n",
       "  'A. D. Etheridge'],\n",
       " ['T A Dough',\n",
       "  'Almighty',\n",
       "  'God',\n",
       "  'Thos A Dough',\n",
       "  'John B Etheridge',\n",
       "  'J. P.',\n",
       "  'J. P. E H Walker',\n",
       "  'J. P']]"
      ]
     },
     "execution_count": 50,
     "metadata": {},
     "output_type": "execute_result"
    }
   ],
   "source": [
    "Personlarge[:10]"
   ]
  },
  {
   "cell_type": "markdown",
   "id": "5121b613",
   "metadata": {
    "papermill": {
     "duration": 0.031733,
     "end_time": "2022-06-09T18:43:17.533641",
     "exception": false,
     "start_time": "2022-06-09T18:43:17.501908",
     "status": "completed"
    },
    "tags": []
   },
   "source": [
    "# LOC and ORG "
   ]
  },
  {
   "cell_type": "code",
   "execution_count": 51,
   "id": "68fd1c29",
   "metadata": {
    "execution": {
     "iopub.execute_input": "2022-06-09T18:43:17.601072Z",
     "iopub.status.busy": "2022-06-09T18:43:17.600652Z",
     "iopub.status.idle": "2022-06-09T18:43:17.604464Z",
     "shell.execute_reply": "2022-06-09T18:43:17.603655Z"
    },
    "papermill": {
     "duration": 0.040501,
     "end_time": "2022-06-09T18:43:17.606211",
     "exception": false,
     "start_time": "2022-06-09T18:43:17.565710",
     "status": "completed"
    },
    "tags": []
   },
   "outputs": [],
   "source": [
    "#LOClarge"
   ]
  },
  {
   "cell_type": "code",
   "execution_count": 52,
   "id": "3e787965",
   "metadata": {
    "execution": {
     "iopub.execute_input": "2022-06-09T18:43:17.671470Z",
     "iopub.status.busy": "2022-06-09T18:43:17.671197Z",
     "iopub.status.idle": "2022-06-09T18:43:17.674555Z",
     "shell.execute_reply": "2022-06-09T18:43:17.673775Z"
    },
    "papermill": {
     "duration": 0.038142,
     "end_time": "2022-06-09T18:43:17.676208",
     "exception": false,
     "start_time": "2022-06-09T18:43:17.638066",
     "status": "completed"
    },
    "tags": []
   },
   "outputs": [],
   "source": [
    "#ORGlarge"
   ]
  },
  {
   "cell_type": "markdown",
   "id": "40b61af7",
   "metadata": {
    "papermill": {
     "duration": 0.031176,
     "end_time": "2022-06-09T18:43:17.795078",
     "exception": false,
     "start_time": "2022-06-09T18:43:17.763902",
     "status": "completed"
    },
    "tags": []
   },
   "source": [
    "# the final dataset :"
   ]
  },
  {
   "cell_type": "code",
   "execution_count": 53,
   "id": "85ebf462",
   "metadata": {
    "execution": {
     "iopub.execute_input": "2022-06-09T18:43:17.859915Z",
     "iopub.status.busy": "2022-06-09T18:43:17.858796Z",
     "iopub.status.idle": "2022-06-09T18:43:17.888609Z",
     "shell.execute_reply": "2022-06-09T18:43:17.887712Z"
    },
    "papermill": {
     "duration": 0.064141,
     "end_time": "2022-06-09T18:43:17.890704",
     "exception": false,
     "start_time": "2022-06-09T18:43:17.826563",
     "status": "completed"
    },
    "tags": []
   },
   "outputs": [
    {
     "data": {
      "text/html": [
       "<div>\n",
       "<style scoped>\n",
       "    .dataframe tbody tr th:only-of-type {\n",
       "        vertical-align: middle;\n",
       "    }\n",
       "\n",
       "    .dataframe tbody tr th {\n",
       "        vertical-align: top;\n",
       "    }\n",
       "\n",
       "    .dataframe thead th {\n",
       "        text-align: right;\n",
       "    }\n",
       "</style>\n",
       "<table border=\"1\" class=\"dataframe\">\n",
       "  <thead>\n",
       "    <tr style=\"text-align: right;\">\n",
       "      <th></th>\n",
       "      <th>text</th>\n",
       "      <th>PERSON-ontonotes</th>\n",
       "      <th>GPE-ontonotes</th>\n",
       "      <th>ORG-ontonotes</th>\n",
       "      <th>Date-ontonotes</th>\n",
       "      <th>postDate-ontonotes</th>\n",
       "      <th>Person-NerEngLarge</th>\n",
       "      <th>LOC-NerEngLarge</th>\n",
       "      <th>ORG-NerEngLarge</th>\n",
       "      <th>Person-NerEng</th>\n",
       "      <th>LOC-NerEng</th>\n",
       "      <th>ORG-NerEng</th>\n",
       "    </tr>\n",
       "  </thead>\n",
       "  <tbody>\n",
       "    <tr>\n",
       "      <th>0</th>\n",
       "      <td>] I , ] I C Meekins ] , of ] Currituck ] Count...</td>\n",
       "      <td>[I C Meekins, Isaac C. Meekins, E H Walker]</td>\n",
       "      <td>[North Carolina]</td>\n",
       "      <td>[]</td>\n",
       "      <td>[16 ] day of ] Sept ] A.D . , 1865]</td>\n",
       "      <td>[16-Sept-1865]</td>\n",
       "      <td>[I C Meekins, Almighty, God, Isaac C. Meekins,...</td>\n",
       "      <td>[Currituck, State of North Carolina, United St...</td>\n",
       "      <td>[Constitution]</td>\n",
       "      <td>[God, Isaac C. Meekins, I C Meekins E H Walker...</td>\n",
       "      <td>[Currituck ] County]</td>\n",
       "      <td>[]</td>\n",
       "    </tr>\n",
       "    <tr>\n",
       "      <th>1</th>\n",
       "      <td>^ ] ] Department of Virginia North Carolina , ...</td>\n",
       "      <td>[]</td>\n",
       "      <td>[North Carolina, United States]</td>\n",
       "      <td>[Department of Virginia]</td>\n",
       "      <td>[1864]</td>\n",
       "      <td>[]</td>\n",
       "      <td>[]</td>\n",
       "      <td>[North Carolina, United States, States]</td>\n",
       "      <td>[OATH PAROLE]</td>\n",
       "      <td>[]</td>\n",
       "      <td>[United States]</td>\n",
       "      <td>[]</td>\n",
       "    </tr>\n",
       "    <tr>\n",
       "      <th>2</th>\n",
       "      <td>] I , ] W. H. Pearce , ] of ] Craven ] County ...</td>\n",
       "      <td>[W . H. Pearce]</td>\n",
       "      <td>[]</td>\n",
       "      <td>[]</td>\n",
       "      <td>[3rd ] day of ] October , ] A.D . , 1865]</td>\n",
       "      <td>[3-October-1865]</td>\n",
       "      <td>[W . H. Pearce, Almighty, God, Jm . E. Ampetts...</td>\n",
       "      <td>[Craven, County, State of North-Carolina, Unit...</td>\n",
       "      <td>[]</td>\n",
       "      <td>[H. Pearce, God, E. Ampetts, B. Watson]</td>\n",
       "      <td>[Craven ] County, State of North-Carolina]</td>\n",
       "      <td>[]</td>\n",
       "    </tr>\n",
       "    <tr>\n",
       "      <th>3</th>\n",
       "      <td>State of North Carolina , } ________ County . ...</td>\n",
       "      <td>[]</td>\n",
       "      <td>[North Carolina, United States]</td>\n",
       "      <td>[]</td>\n",
       "      <td>[______ day of ____________ , 1866]</td>\n",
       "      <td>[]</td>\n",
       "      <td>[God]</td>\n",
       "      <td>[State of North Carolina, United States]</td>\n",
       "      <td>[Constitution]</td>\n",
       "      <td>[God, Sworn]</td>\n",
       "      <td>[United States]</td>\n",
       "      <td>[]</td>\n",
       "    </tr>\n",
       "    <tr>\n",
       "      <th>4</th>\n",
       "      <td>State of North Carolina , Wake ] ] County . I ...</td>\n",
       "      <td>[S.E . Allen]</td>\n",
       "      <td>[North Carolina, United States]</td>\n",
       "      <td>[]</td>\n",
       "      <td>[31st day of May , 1867]</td>\n",
       "      <td>[31-May-1867]</td>\n",
       "      <td>[S.E, Allen, God, T.D, McAlpine]</td>\n",
       "      <td>[State of North Carolina, Wake, County, United...</td>\n",
       "      <td>[Constitution, Res . Corp]</td>\n",
       "      <td>[Allen, God, Allen Sworn]</td>\n",
       "      <td>[United States]</td>\n",
       "      <td>[]</td>\n",
       "    </tr>\n",
       "  </tbody>\n",
       "</table>\n",
       "</div>"
      ],
      "text/plain": [
       "                                                text  \\\n",
       "0  ] I , ] I C Meekins ] , of ] Currituck ] Count...   \n",
       "1  ^ ] ] Department of Virginia North Carolina , ...   \n",
       "2  ] I , ] W. H. Pearce , ] of ] Craven ] County ...   \n",
       "3  State of North Carolina , } ________ County . ...   \n",
       "4  State of North Carolina , Wake ] ] County . I ...   \n",
       "\n",
       "                              PERSON-ontonotes  \\\n",
       "0  [I C Meekins, Isaac C. Meekins, E H Walker]   \n",
       "1                                           []   \n",
       "2                              [W . H. Pearce]   \n",
       "3                                           []   \n",
       "4                                [S.E . Allen]   \n",
       "\n",
       "                     GPE-ontonotes             ORG-ontonotes  \\\n",
       "0                 [North Carolina]                        []   \n",
       "1  [North Carolina, United States]  [Department of Virginia]   \n",
       "2                               []                        []   \n",
       "3  [North Carolina, United States]                        []   \n",
       "4  [North Carolina, United States]                        []   \n",
       "\n",
       "                              Date-ontonotes postDate-ontonotes  \\\n",
       "0        [16 ] day of ] Sept ] A.D . , 1865]     [16-Sept-1865]   \n",
       "1                                     [1864]                 []   \n",
       "2  [3rd ] day of ] October , ] A.D . , 1865]   [3-October-1865]   \n",
       "3        [______ day of ____________ , 1866]                 []   \n",
       "4                   [31st day of May , 1867]      [31-May-1867]   \n",
       "\n",
       "                                  Person-NerEngLarge  \\\n",
       "0  [I C Meekins, Almighty, God, Isaac C. Meekins,...   \n",
       "1                                                 []   \n",
       "2  [W . H. Pearce, Almighty, God, Jm . E. Ampetts...   \n",
       "3                                              [God]   \n",
       "4                   [S.E, Allen, God, T.D, McAlpine]   \n",
       "\n",
       "                                     LOC-NerEngLarge  \\\n",
       "0  [Currituck, State of North Carolina, United St...   \n",
       "1            [North Carolina, United States, States]   \n",
       "2  [Craven, County, State of North-Carolina, Unit...   \n",
       "3           [State of North Carolina, United States]   \n",
       "4  [State of North Carolina, Wake, County, United...   \n",
       "\n",
       "              ORG-NerEngLarge  \\\n",
       "0              [Constitution]   \n",
       "1               [OATH PAROLE]   \n",
       "2                          []   \n",
       "3              [Constitution]   \n",
       "4  [Constitution, Res . Corp]   \n",
       "\n",
       "                                       Person-NerEng  \\\n",
       "0  [God, Isaac C. Meekins, I C Meekins E H Walker...   \n",
       "1                                                 []   \n",
       "2            [H. Pearce, God, E. Ampetts, B. Watson]   \n",
       "3                                       [God, Sworn]   \n",
       "4                          [Allen, God, Allen Sworn]   \n",
       "\n",
       "                                   LOC-NerEng ORG-NerEng  \n",
       "0                        [Currituck ] County]         []  \n",
       "1                             [United States]         []  \n",
       "2  [Craven ] County, State of North-Carolina]         []  \n",
       "3                             [United States]         []  \n",
       "4                             [United States]         []  "
      ]
     },
     "execution_count": 53,
     "metadata": {},
     "output_type": "execute_result"
    }
   ],
   "source": [
    "aldf.head()"
   ]
  },
  {
   "cell_type": "markdown",
   "id": "959bbe22",
   "metadata": {
    "papermill": {
     "duration": 0.031564,
     "end_time": "2022-06-09T18:43:17.954814",
     "exception": false,
     "start_time": "2022-06-09T18:43:17.923250",
     "status": "completed"
    },
    "tags": []
   },
   "source": [
    "****"
   ]
  },
  {
   "cell_type": "code",
   "execution_count": 54,
   "id": "53c6a284",
   "metadata": {
    "execution": {
     "iopub.execute_input": "2022-06-09T18:43:18.022467Z",
     "iopub.status.busy": "2022-06-09T18:43:18.021736Z",
     "iopub.status.idle": "2022-06-09T18:43:18.027273Z",
     "shell.execute_reply": "2022-06-09T18:43:18.026508Z"
    },
    "papermill": {
     "duration": 0.040864,
     "end_time": "2022-06-09T18:43:18.028882",
     "exception": false,
     "start_time": "2022-06-09T18:43:17.988018",
     "status": "completed"
    },
    "tags": []
   },
   "outputs": [
    {
     "data": {
      "text/plain": [
       "['Janry 15 , 1868']"
      ]
     },
     "execution_count": 54,
     "metadata": {},
     "output_type": "execute_result"
    }
   ],
   "source": [
    "GF[26]"
   ]
  },
  {
   "cell_type": "code",
   "execution_count": 55,
   "id": "3dc21337",
   "metadata": {
    "execution": {
     "iopub.execute_input": "2022-06-09T18:43:18.094482Z",
     "iopub.status.busy": "2022-06-09T18:43:18.094183Z",
     "iopub.status.idle": "2022-06-09T18:43:18.099186Z",
     "shell.execute_reply": "2022-06-09T18:43:18.098473Z"
    },
    "papermill": {
     "duration": 0.039862,
     "end_time": "2022-06-09T18:43:18.100846",
     "exception": false,
     "start_time": "2022-06-09T18:43:18.060984",
     "status": "completed"
    },
    "tags": []
   },
   "outputs": [
    {
     "data": {
      "text/plain": [
       "['15-Janry-1868']"
      ]
     },
     "execution_count": 55,
     "metadata": {},
     "output_type": "execute_result"
    }
   ],
   "source": [
    "G[26]"
   ]
  },
  {
   "cell_type": "code",
   "execution_count": null,
   "id": "4091cc82",
   "metadata": {
    "papermill": {
     "duration": 0.031561,
     "end_time": "2022-06-09T18:43:18.165016",
     "exception": false,
     "start_time": "2022-06-09T18:43:18.133455",
     "status": "completed"
    },
    "tags": []
   },
   "outputs": [],
   "source": []
  }
 ],
 "metadata": {
  "kernelspec": {
   "display_name": "Python 3",
   "language": "python",
   "name": "python3"
  },
  "language_info": {
   "codemirror_mode": {
    "name": "ipython",
    "version": 3
   },
   "file_extension": ".py",
   "mimetype": "text/x-python",
   "name": "python",
   "nbconvert_exporter": "python",
   "pygments_lexer": "ipython3",
   "version": "3.7.12"
  },
  "papermill": {
   "default_parameters": {},
   "duration": 1024.731627,
   "end_time": "2022-06-09T18:43:21.988507",
   "environment_variables": {},
   "exception": null,
   "input_path": "__notebook__.ipynb",
   "output_path": "__notebook__.ipynb",
   "parameters": {},
   "start_time": "2022-06-09T18:26:17.256880",
   "version": "2.3.4"
  },
  "widgets": {
   "application/vnd.jupyter.widget-state+json": {
    "state": {
     "014fef9d877c493bb372169dff5fbd52": {
      "model_module": "@jupyter-widgets/base",
      "model_module_version": "1.2.0",
      "model_name": "LayoutModel",
      "state": {
       "_model_module": "@jupyter-widgets/base",
       "_model_module_version": "1.2.0",
       "_model_name": "LayoutModel",
       "_view_count": null,
       "_view_module": "@jupyter-widgets/base",
       "_view_module_version": "1.2.0",
       "_view_name": "LayoutView",
       "align_content": null,
       "align_items": null,
       "align_self": null,
       "border": null,
       "bottom": null,
       "display": null,
       "flex": null,
       "flex_flow": null,
       "grid_area": null,
       "grid_auto_columns": null,
       "grid_auto_flow": null,
       "grid_auto_rows": null,
       "grid_column": null,
       "grid_gap": null,
       "grid_row": null,
       "grid_template_areas": null,
       "grid_template_columns": null,
       "grid_template_rows": null,
       "height": null,
       "justify_content": null,
       "justify_items": null,
       "left": null,
       "margin": null,
       "max_height": null,
       "max_width": null,
       "min_height": null,
       "min_width": null,
       "object_fit": null,
       "object_position": null,
       "order": null,
       "overflow": null,
       "overflow_x": null,
       "overflow_y": null,
       "padding": null,
       "right": null,
       "top": null,
       "visibility": null,
       "width": null
      }
     },
     "03e4de0b06e640eca9c5637e3b472089": {
      "model_module": "@jupyter-widgets/controls",
      "model_module_version": "1.5.0",
      "model_name": "DescriptionStyleModel",
      "state": {
       "_model_module": "@jupyter-widgets/controls",
       "_model_module_version": "1.5.0",
       "_model_name": "DescriptionStyleModel",
       "_view_count": null,
       "_view_module": "@jupyter-widgets/base",
       "_view_module_version": "1.2.0",
       "_view_name": "StyleView",
       "description_width": ""
      }
     },
     "0409c879958949ccb081c7aefeec6c6a": {
      "model_module": "@jupyter-widgets/controls",
      "model_module_version": "1.5.0",
      "model_name": "HBoxModel",
      "state": {
       "_dom_classes": [],
       "_model_module": "@jupyter-widgets/controls",
       "_model_module_version": "1.5.0",
       "_model_name": "HBoxModel",
       "_view_count": null,
       "_view_module": "@jupyter-widgets/controls",
       "_view_module_version": "1.5.0",
       "_view_name": "HBoxView",
       "box_style": "",
       "children": [
        "IPY_MODEL_06b9ee95ced043f79a67c5b2717fd501",
        "IPY_MODEL_caf32c3d751b4c6ba7ba6d9bd118a552",
        "IPY_MODEL_5713054b639f42b081e9612c23aea02a"
       ],
       "layout": "IPY_MODEL_6c1551a7c3094d25b59282df1e146860"
      }
     },
     "06b9ee95ced043f79a67c5b2717fd501": {
      "model_module": "@jupyter-widgets/controls",
      "model_module_version": "1.5.0",
      "model_name": "HTMLModel",
      "state": {
       "_dom_classes": [],
       "_model_module": "@jupyter-widgets/controls",
       "_model_module_version": "1.5.0",
       "_model_name": "HTMLModel",
       "_view_count": null,
       "_view_module": "@jupyter-widgets/controls",
       "_view_module_version": "1.5.0",
       "_view_name": "HTMLView",
       "description": "",
       "description_tooltip": null,
       "layout": "IPY_MODEL_a533a2c2310b4f6997821421ac82f1f0",
       "placeholder": "​",
       "style": "IPY_MODEL_56af0ab999be406f97fe986b2e72c408",
       "value": "Downloading: 100%"
      }
     },
     "09277976a18e4e57841fcd155925166b": {
      "model_module": "@jupyter-widgets/controls",
      "model_module_version": "1.5.0",
      "model_name": "DescriptionStyleModel",
      "state": {
       "_model_module": "@jupyter-widgets/controls",
       "_model_module_version": "1.5.0",
       "_model_name": "DescriptionStyleModel",
       "_view_count": null,
       "_view_module": "@jupyter-widgets/base",
       "_view_module_version": "1.2.0",
       "_view_name": "StyleView",
       "description_width": ""
      }
     },
     "0c9579ae7d994c2ca28da21c3b4814eb": {
      "model_module": "@jupyter-widgets/controls",
      "model_module_version": "1.5.0",
      "model_name": "ProgressStyleModel",
      "state": {
       "_model_module": "@jupyter-widgets/controls",
       "_model_module_version": "1.5.0",
       "_model_name": "ProgressStyleModel",
       "_view_count": null,
       "_view_module": "@jupyter-widgets/base",
       "_view_module_version": "1.2.0",
       "_view_name": "StyleView",
       "bar_color": null,
       "description_width": ""
      }
     },
     "0f16df7c31144f69a8c9ba09cb4ca964": {
      "model_module": "@jupyter-widgets/controls",
      "model_module_version": "1.5.0",
      "model_name": "HTMLModel",
      "state": {
       "_dom_classes": [],
       "_model_module": "@jupyter-widgets/controls",
       "_model_module_version": "1.5.0",
       "_model_name": "HTMLModel",
       "_view_count": null,
       "_view_module": "@jupyter-widgets/controls",
       "_view_module_version": "1.5.0",
       "_view_name": "HTMLView",
       "description": "",
       "description_tooltip": null,
       "layout": "IPY_MODEL_af091f7c464144c09ef95456da99527f",
       "placeholder": "​",
       "style": "IPY_MODEL_78793b4a64cf4ef3a086d1ba34da08d1",
       "value": "Downloading: 100%"
      }
     },
     "0fdfbdfcad754037aaf5bfa8f4a081a0": {
      "model_module": "@jupyter-widgets/base",
      "model_module_version": "1.2.0",
      "model_name": "LayoutModel",
      "state": {
       "_model_module": "@jupyter-widgets/base",
       "_model_module_version": "1.2.0",
       "_model_name": "LayoutModel",
       "_view_count": null,
       "_view_module": "@jupyter-widgets/base",
       "_view_module_version": "1.2.0",
       "_view_name": "LayoutView",
       "align_content": null,
       "align_items": null,
       "align_self": null,
       "border": null,
       "bottom": null,
       "display": null,
       "flex": null,
       "flex_flow": null,
       "grid_area": null,
       "grid_auto_columns": null,
       "grid_auto_flow": null,
       "grid_auto_rows": null,
       "grid_column": null,
       "grid_gap": null,
       "grid_row": null,
       "grid_template_areas": null,
       "grid_template_columns": null,
       "grid_template_rows": null,
       "height": null,
       "justify_content": null,
       "justify_items": null,
       "left": null,
       "margin": null,
       "max_height": null,
       "max_width": null,
       "min_height": null,
       "min_width": null,
       "object_fit": null,
       "object_position": null,
       "order": null,
       "overflow": null,
       "overflow_x": null,
       "overflow_y": null,
       "padding": null,
       "right": null,
       "top": null,
       "visibility": null,
       "width": null
      }
     },
     "1118aedd23744917a5bb69c5b688a1e2": {
      "model_module": "@jupyter-widgets/controls",
      "model_module_version": "1.5.0",
      "model_name": "HBoxModel",
      "state": {
       "_dom_classes": [],
       "_model_module": "@jupyter-widgets/controls",
       "_model_module_version": "1.5.0",
       "_model_name": "HBoxModel",
       "_view_count": null,
       "_view_module": "@jupyter-widgets/controls",
       "_view_module_version": "1.5.0",
       "_view_name": "HBoxView",
       "box_style": "",
       "children": [
        "IPY_MODEL_0f16df7c31144f69a8c9ba09cb4ca964",
        "IPY_MODEL_3f925cf5b8814ef4820cd3e3fc7513d8",
        "IPY_MODEL_7f4d80f0e7554d438492731678704ed7"
       ],
       "layout": "IPY_MODEL_b34aa33cb1244aba90cfd28a5e077e27"
      }
     },
     "118c0f99e455405d88a7bd89c763fc55": {
      "model_module": "@jupyter-widgets/controls",
      "model_module_version": "1.5.0",
      "model_name": "ProgressStyleModel",
      "state": {
       "_model_module": "@jupyter-widgets/controls",
       "_model_module_version": "1.5.0",
       "_model_name": "ProgressStyleModel",
       "_view_count": null,
       "_view_module": "@jupyter-widgets/base",
       "_view_module_version": "1.2.0",
       "_view_name": "StyleView",
       "bar_color": null,
       "description_width": ""
      }
     },
     "1a07021c6bdc4a9398e311a0679cf3e7": {
      "model_module": "@jupyter-widgets/base",
      "model_module_version": "1.2.0",
      "model_name": "LayoutModel",
      "state": {
       "_model_module": "@jupyter-widgets/base",
       "_model_module_version": "1.2.0",
       "_model_name": "LayoutModel",
       "_view_count": null,
       "_view_module": "@jupyter-widgets/base",
       "_view_module_version": "1.2.0",
       "_view_name": "LayoutView",
       "align_content": null,
       "align_items": null,
       "align_self": null,
       "border": null,
       "bottom": null,
       "display": null,
       "flex": null,
       "flex_flow": null,
       "grid_area": null,
       "grid_auto_columns": null,
       "grid_auto_flow": null,
       "grid_auto_rows": null,
       "grid_column": null,
       "grid_gap": null,
       "grid_row": null,
       "grid_template_areas": null,
       "grid_template_columns": null,
       "grid_template_rows": null,
       "height": null,
       "justify_content": null,
       "justify_items": null,
       "left": null,
       "margin": null,
       "max_height": null,
       "max_width": null,
       "min_height": null,
       "min_width": null,
       "object_fit": null,
       "object_position": null,
       "order": null,
       "overflow": null,
       "overflow_x": null,
       "overflow_y": null,
       "padding": null,
       "right": null,
       "top": null,
       "visibility": null,
       "width": null
      }
     },
     "26cbbb8399174d728e0e7f87e70376d2": {
      "model_module": "@jupyter-widgets/base",
      "model_module_version": "1.2.0",
      "model_name": "LayoutModel",
      "state": {
       "_model_module": "@jupyter-widgets/base",
       "_model_module_version": "1.2.0",
       "_model_name": "LayoutModel",
       "_view_count": null,
       "_view_module": "@jupyter-widgets/base",
       "_view_module_version": "1.2.0",
       "_view_name": "LayoutView",
       "align_content": null,
       "align_items": null,
       "align_self": null,
       "border": null,
       "bottom": null,
       "display": null,
       "flex": null,
       "flex_flow": null,
       "grid_area": null,
       "grid_auto_columns": null,
       "grid_auto_flow": null,
       "grid_auto_rows": null,
       "grid_column": null,
       "grid_gap": null,
       "grid_row": null,
       "grid_template_areas": null,
       "grid_template_columns": null,
       "grid_template_rows": null,
       "height": null,
       "justify_content": null,
       "justify_items": null,
       "left": null,
       "margin": null,
       "max_height": null,
       "max_width": null,
       "min_height": null,
       "min_width": null,
       "object_fit": null,
       "object_position": null,
       "order": null,
       "overflow": null,
       "overflow_x": null,
       "overflow_y": null,
       "padding": null,
       "right": null,
       "top": null,
       "visibility": null,
       "width": null
      }
     },
     "2d6282e8ee324e03ad01733dfa4acd55": {
      "model_module": "@jupyter-widgets/base",
      "model_module_version": "1.2.0",
      "model_name": "LayoutModel",
      "state": {
       "_model_module": "@jupyter-widgets/base",
       "_model_module_version": "1.2.0",
       "_model_name": "LayoutModel",
       "_view_count": null,
       "_view_module": "@jupyter-widgets/base",
       "_view_module_version": "1.2.0",
       "_view_name": "LayoutView",
       "align_content": null,
       "align_items": null,
       "align_self": null,
       "border": null,
       "bottom": null,
       "display": null,
       "flex": null,
       "flex_flow": null,
       "grid_area": null,
       "grid_auto_columns": null,
       "grid_auto_flow": null,
       "grid_auto_rows": null,
       "grid_column": null,
       "grid_gap": null,
       "grid_row": null,
       "grid_template_areas": null,
       "grid_template_columns": null,
       "grid_template_rows": null,
       "height": null,
       "justify_content": null,
       "justify_items": null,
       "left": null,
       "margin": null,
       "max_height": null,
       "max_width": null,
       "min_height": null,
       "min_width": null,
       "object_fit": null,
       "object_position": null,
       "order": null,
       "overflow": null,
       "overflow_x": null,
       "overflow_y": null,
       "padding": null,
       "right": null,
       "top": null,
       "visibility": null,
       "width": null
      }
     },
     "34e2f190ec2f47d5a72c49ebaff8fa34": {
      "model_module": "@jupyter-widgets/base",
      "model_module_version": "1.2.0",
      "model_name": "LayoutModel",
      "state": {
       "_model_module": "@jupyter-widgets/base",
       "_model_module_version": "1.2.0",
       "_model_name": "LayoutModel",
       "_view_count": null,
       "_view_module": "@jupyter-widgets/base",
       "_view_module_version": "1.2.0",
       "_view_name": "LayoutView",
       "align_content": null,
       "align_items": null,
       "align_self": null,
       "border": null,
       "bottom": null,
       "display": null,
       "flex": null,
       "flex_flow": null,
       "grid_area": null,
       "grid_auto_columns": null,
       "grid_auto_flow": null,
       "grid_auto_rows": null,
       "grid_column": null,
       "grid_gap": null,
       "grid_row": null,
       "grid_template_areas": null,
       "grid_template_columns": null,
       "grid_template_rows": null,
       "height": null,
       "justify_content": null,
       "justify_items": null,
       "left": null,
       "margin": null,
       "max_height": null,
       "max_width": null,
       "min_height": null,
       "min_width": null,
       "object_fit": null,
       "object_position": null,
       "order": null,
       "overflow": null,
       "overflow_x": null,
       "overflow_y": null,
       "padding": null,
       "right": null,
       "top": null,
       "visibility": null,
       "width": null
      }
     },
     "367014d9bb6c4dbd8a8c11cd86ab0035": {
      "model_module": "@jupyter-widgets/controls",
      "model_module_version": "1.5.0",
      "model_name": "DescriptionStyleModel",
      "state": {
       "_model_module": "@jupyter-widgets/controls",
       "_model_module_version": "1.5.0",
       "_model_name": "DescriptionStyleModel",
       "_view_count": null,
       "_view_module": "@jupyter-widgets/base",
       "_view_module_version": "1.2.0",
       "_view_name": "StyleView",
       "description_width": ""
      }
     },
     "37b439ae892a40b6aaef11f1979c2b64": {
      "model_module": "@jupyter-widgets/controls",
      "model_module_version": "1.5.0",
      "model_name": "HTMLModel",
      "state": {
       "_dom_classes": [],
       "_model_module": "@jupyter-widgets/controls",
       "_model_module_version": "1.5.0",
       "_model_name": "HTMLModel",
       "_view_count": null,
       "_view_module": "@jupyter-widgets/controls",
       "_view_module_version": "1.5.0",
       "_view_name": "HTMLView",
       "description": "",
       "description_tooltip": null,
       "layout": "IPY_MODEL_4944c05d26f3484887cde0d7bf9da74d",
       "placeholder": "​",
       "style": "IPY_MODEL_d41b1b98f420401494598fda4d77cd0a",
       "value": " 8.68M/8.68M [00:00&lt;00:00, 15.2MB/s]"
      }
     },
     "38ad12a34b384461bff276f6a4f02145": {
      "model_module": "@jupyter-widgets/base",
      "model_module_version": "1.2.0",
      "model_name": "LayoutModel",
      "state": {
       "_model_module": "@jupyter-widgets/base",
       "_model_module_version": "1.2.0",
       "_model_name": "LayoutModel",
       "_view_count": null,
       "_view_module": "@jupyter-widgets/base",
       "_view_module_version": "1.2.0",
       "_view_name": "LayoutView",
       "align_content": null,
       "align_items": null,
       "align_self": null,
       "border": null,
       "bottom": null,
       "display": null,
       "flex": null,
       "flex_flow": null,
       "grid_area": null,
       "grid_auto_columns": null,
       "grid_auto_flow": null,
       "grid_auto_rows": null,
       "grid_column": null,
       "grid_gap": null,
       "grid_row": null,
       "grid_template_areas": null,
       "grid_template_columns": null,
       "grid_template_rows": null,
       "height": null,
       "justify_content": null,
       "justify_items": null,
       "left": null,
       "margin": null,
       "max_height": null,
       "max_width": null,
       "min_height": null,
       "min_width": null,
       "object_fit": null,
       "object_position": null,
       "order": null,
       "overflow": null,
       "overflow_x": null,
       "overflow_y": null,
       "padding": null,
       "right": null,
       "top": null,
       "visibility": null,
       "width": null
      }
     },
     "3938676285224aadb4f10683768625b8": {
      "model_module": "@jupyter-widgets/controls",
      "model_module_version": "1.5.0",
      "model_name": "ProgressStyleModel",
      "state": {
       "_model_module": "@jupyter-widgets/controls",
       "_model_module_version": "1.5.0",
       "_model_name": "ProgressStyleModel",
       "_view_count": null,
       "_view_module": "@jupyter-widgets/base",
       "_view_module_version": "1.2.0",
       "_view_name": "StyleView",
       "bar_color": null,
       "description_width": ""
      }
     },
     "3992efc5dbcb4e8ca585c55dbd3c11c6": {
      "model_module": "@jupyter-widgets/controls",
      "model_module_version": "1.5.0",
      "model_name": "HTMLModel",
      "state": {
       "_dom_classes": [],
       "_model_module": "@jupyter-widgets/controls",
       "_model_module_version": "1.5.0",
       "_model_name": "HTMLModel",
       "_view_count": null,
       "_view_module": "@jupyter-widgets/controls",
       "_view_module_version": "1.5.0",
       "_view_name": "HTMLView",
       "description": "",
       "description_tooltip": null,
       "layout": "IPY_MODEL_c98c4af356d742c8862d5ad460c5d64b",
       "placeholder": "​",
       "style": "IPY_MODEL_367014d9bb6c4dbd8a8c11cd86ab0035",
       "value": "Downloading: 100%"
      }
     },
     "3f925cf5b8814ef4820cd3e3fc7513d8": {
      "model_module": "@jupyter-widgets/controls",
      "model_module_version": "1.5.0",
      "model_name": "FloatProgressModel",
      "state": {
       "_dom_classes": [],
       "_model_module": "@jupyter-widgets/controls",
       "_model_module_version": "1.5.0",
       "_model_name": "FloatProgressModel",
       "_view_count": null,
       "_view_module": "@jupyter-widgets/controls",
       "_view_module_version": "1.5.0",
       "_view_name": "ProgressView",
       "bar_style": "success",
       "description": "",
       "description_tooltip": null,
       "layout": "IPY_MODEL_62134ed068504cc2aa0999be8414793a",
       "max": 5069051.0,
       "min": 0.0,
       "orientation": "horizontal",
       "style": "IPY_MODEL_118c0f99e455405d88a7bd89c763fc55",
       "value": 5069051.0
      }
     },
     "40b098db687647c38b0c5579bb2f7009": {
      "model_module": "@jupyter-widgets/base",
      "model_module_version": "1.2.0",
      "model_name": "LayoutModel",
      "state": {
       "_model_module": "@jupyter-widgets/base",
       "_model_module_version": "1.2.0",
       "_model_name": "LayoutModel",
       "_view_count": null,
       "_view_module": "@jupyter-widgets/base",
       "_view_module_version": "1.2.0",
       "_view_name": "LayoutView",
       "align_content": null,
       "align_items": null,
       "align_self": null,
       "border": null,
       "bottom": null,
       "display": null,
       "flex": null,
       "flex_flow": null,
       "grid_area": null,
       "grid_auto_columns": null,
       "grid_auto_flow": null,
       "grid_auto_rows": null,
       "grid_column": null,
       "grid_gap": null,
       "grid_row": null,
       "grid_template_areas": null,
       "grid_template_columns": null,
       "grid_template_rows": null,
       "height": null,
       "justify_content": null,
       "justify_items": null,
       "left": null,
       "margin": null,
       "max_height": null,
       "max_width": null,
       "min_height": null,
       "min_width": null,
       "object_fit": null,
       "object_position": null,
       "order": null,
       "overflow": null,
       "overflow_x": null,
       "overflow_y": null,
       "padding": null,
       "right": null,
       "top": null,
       "visibility": null,
       "width": null
      }
     },
     "489936485e89433e8627a88b615c894f": {
      "model_module": "@jupyter-widgets/controls",
      "model_module_version": "1.5.0",
      "model_name": "ProgressStyleModel",
      "state": {
       "_model_module": "@jupyter-widgets/controls",
       "_model_module_version": "1.5.0",
       "_model_name": "ProgressStyleModel",
       "_view_count": null,
       "_view_module": "@jupyter-widgets/base",
       "_view_module_version": "1.2.0",
       "_view_name": "StyleView",
       "bar_color": null,
       "description_width": ""
      }
     },
     "48a3f70f22674c8db8f0b2f600ef7ffc": {
      "model_module": "@jupyter-widgets/controls",
      "model_module_version": "1.5.0",
      "model_name": "DescriptionStyleModel",
      "state": {
       "_model_module": "@jupyter-widgets/controls",
       "_model_module_version": "1.5.0",
       "_model_name": "DescriptionStyleModel",
       "_view_count": null,
       "_view_module": "@jupyter-widgets/base",
       "_view_module_version": "1.2.0",
       "_view_name": "StyleView",
       "description_width": ""
      }
     },
     "4944c05d26f3484887cde0d7bf9da74d": {
      "model_module": "@jupyter-widgets/base",
      "model_module_version": "1.2.0",
      "model_name": "LayoutModel",
      "state": {
       "_model_module": "@jupyter-widgets/base",
       "_model_module_version": "1.2.0",
       "_model_name": "LayoutModel",
       "_view_count": null,
       "_view_module": "@jupyter-widgets/base",
       "_view_module_version": "1.2.0",
       "_view_name": "LayoutView",
       "align_content": null,
       "align_items": null,
       "align_self": null,
       "border": null,
       "bottom": null,
       "display": null,
       "flex": null,
       "flex_flow": null,
       "grid_area": null,
       "grid_auto_columns": null,
       "grid_auto_flow": null,
       "grid_auto_rows": null,
       "grid_column": null,
       "grid_gap": null,
       "grid_row": null,
       "grid_template_areas": null,
       "grid_template_columns": null,
       "grid_template_rows": null,
       "height": null,
       "justify_content": null,
       "justify_items": null,
       "left": null,
       "margin": null,
       "max_height": null,
       "max_width": null,
       "min_height": null,
       "min_width": null,
       "object_fit": null,
       "object_position": null,
       "order": null,
       "overflow": null,
       "overflow_x": null,
       "overflow_y": null,
       "padding": null,
       "right": null,
       "top": null,
       "visibility": null,
       "width": null
      }
     },
     "4972e302d1b44772a2667fb0987c3691": {
      "model_module": "@jupyter-widgets/controls",
      "model_module_version": "1.5.0",
      "model_name": "HTMLModel",
      "state": {
       "_dom_classes": [],
       "_model_module": "@jupyter-widgets/controls",
       "_model_module_version": "1.5.0",
       "_model_name": "HTMLModel",
       "_view_count": null,
       "_view_module": "@jupyter-widgets/controls",
       "_view_module_version": "1.5.0",
       "_view_name": "HTMLView",
       "description": "",
       "description_tooltip": null,
       "layout": "IPY_MODEL_86e637d044f3489bacfb857692db8e3b",
       "placeholder": "​",
       "style": "IPY_MODEL_eda67b1ccce5438da03e5f4845f81788",
       "value": "Downloading: 100%"
      }
     },
     "50926b4a257747e285be9f6d852d99f0": {
      "model_module": "@jupyter-widgets/controls",
      "model_module_version": "1.5.0",
      "model_name": "HTMLModel",
      "state": {
       "_dom_classes": [],
       "_model_module": "@jupyter-widgets/controls",
       "_model_module_version": "1.5.0",
       "_model_name": "HTMLModel",
       "_view_count": null,
       "_view_module": "@jupyter-widgets/controls",
       "_view_module_version": "1.5.0",
       "_view_name": "HTMLView",
       "description": "",
       "description_tooltip": null,
       "layout": "IPY_MODEL_c47b973d9b494a0dbd5eb4243c51a48b",
       "placeholder": "​",
       "style": "IPY_MODEL_09277976a18e4e57841fcd155925166b",
       "value": " 432M/432M [00:08&lt;00:00, 49.6MB/s]"
      }
     },
     "560016c8c0d549b08dbd8396b6a2bc6d": {
      "model_module": "@jupyter-widgets/controls",
      "model_module_version": "1.5.0",
      "model_name": "HBoxModel",
      "state": {
       "_dom_classes": [],
       "_model_module": "@jupyter-widgets/controls",
       "_model_module_version": "1.5.0",
       "_model_name": "HBoxModel",
       "_view_count": null,
       "_view_module": "@jupyter-widgets/controls",
       "_view_module_version": "1.5.0",
       "_view_name": "HBoxView",
       "box_style": "",
       "children": [
        "IPY_MODEL_3992efc5dbcb4e8ca585c55dbd3c11c6",
        "IPY_MODEL_fc33ffaa7a0940c08ee21f6942a72112",
        "IPY_MODEL_616b8b9546224c988d579b9323eb3d59"
       ],
       "layout": "IPY_MODEL_f7ea4b7f84c04f0a8f34579605d984ab"
      }
     },
     "56af0ab999be406f97fe986b2e72c408": {
      "model_module": "@jupyter-widgets/controls",
      "model_module_version": "1.5.0",
      "model_name": "DescriptionStyleModel",
      "state": {
       "_model_module": "@jupyter-widgets/controls",
       "_model_module_version": "1.5.0",
       "_model_name": "DescriptionStyleModel",
       "_view_count": null,
       "_view_module": "@jupyter-widgets/base",
       "_view_module_version": "1.2.0",
       "_view_name": "StyleView",
       "description_width": ""
      }
     },
     "5713054b639f42b081e9612c23aea02a": {
      "model_module": "@jupyter-widgets/controls",
      "model_module_version": "1.5.0",
      "model_name": "HTMLModel",
      "state": {
       "_dom_classes": [],
       "_model_module": "@jupyter-widgets/controls",
       "_model_module_version": "1.5.0",
       "_model_name": "HTMLModel",
       "_view_count": null,
       "_view_module": "@jupyter-widgets/controls",
       "_view_module_version": "1.5.0",
       "_view_name": "HTMLView",
       "description": "",
       "description_tooltip": null,
       "layout": "IPY_MODEL_0fdfbdfcad754037aaf5bfa8f4a081a0",
       "placeholder": "​",
       "style": "IPY_MODEL_d10b284bf2f1467e80f01df99709333b",
       "value": " 616/616 [00:00&lt;00:00, 24.6kB/s]"
      }
     },
     "5d671514d4db4a9c9643a5c578327618": {
      "model_module": "@jupyter-widgets/controls",
      "model_module_version": "1.5.0",
      "model_name": "HBoxModel",
      "state": {
       "_dom_classes": [],
       "_model_module": "@jupyter-widgets/controls",
       "_model_module_version": "1.5.0",
       "_model_name": "HBoxModel",
       "_view_count": null,
       "_view_module": "@jupyter-widgets/controls",
       "_view_module_version": "1.5.0",
       "_view_name": "HBoxView",
       "box_style": "",
       "children": [
        "IPY_MODEL_e4d739c2b0134043a1051d21bfbc021f",
        "IPY_MODEL_ec715abf0d37451a87f0c25095c9d080",
        "IPY_MODEL_37b439ae892a40b6aaef11f1979c2b64"
       ],
       "layout": "IPY_MODEL_014fef9d877c493bb372169dff5fbd52"
      }
     },
     "602dd7dd62a3490187c87da7835cdcd9": {
      "model_module": "@jupyter-widgets/base",
      "model_module_version": "1.2.0",
      "model_name": "LayoutModel",
      "state": {
       "_model_module": "@jupyter-widgets/base",
       "_model_module_version": "1.2.0",
       "_model_name": "LayoutModel",
       "_view_count": null,
       "_view_module": "@jupyter-widgets/base",
       "_view_module_version": "1.2.0",
       "_view_name": "LayoutView",
       "align_content": null,
       "align_items": null,
       "align_self": null,
       "border": null,
       "bottom": null,
       "display": null,
       "flex": null,
       "flex_flow": null,
       "grid_area": null,
       "grid_auto_columns": null,
       "grid_auto_flow": null,
       "grid_auto_rows": null,
       "grid_column": null,
       "grid_gap": null,
       "grid_row": null,
       "grid_template_areas": null,
       "grid_template_columns": null,
       "grid_template_rows": null,
       "height": null,
       "justify_content": null,
       "justify_items": null,
       "left": null,
       "margin": null,
       "max_height": null,
       "max_width": null,
       "min_height": null,
       "min_width": null,
       "object_fit": null,
       "object_position": null,
       "order": null,
       "overflow": null,
       "overflow_x": null,
       "overflow_y": null,
       "padding": null,
       "right": null,
       "top": null,
       "visibility": null,
       "width": null
      }
     },
     "616b8b9546224c988d579b9323eb3d59": {
      "model_module": "@jupyter-widgets/controls",
      "model_module_version": "1.5.0",
      "model_name": "HTMLModel",
      "state": {
       "_dom_classes": [],
       "_model_module": "@jupyter-widgets/controls",
       "_model_module_version": "1.5.0",
       "_model_name": "HTMLModel",
       "_view_count": null,
       "_view_module": "@jupyter-widgets/controls",
       "_view_module_version": "1.5.0",
       "_view_name": "HTMLView",
       "description": "",
       "description_tooltip": null,
       "layout": "IPY_MODEL_65f62ccdea4c40c88a9f96fe66574960",
       "placeholder": "​",
       "style": "IPY_MODEL_a5bc1abdf26944f9b7a4f90bbe799061",
       "value": " 2.24G/2.24G [00:48&lt;00:00, 48.2MB/s]"
      }
     },
     "62134ed068504cc2aa0999be8414793a": {
      "model_module": "@jupyter-widgets/base",
      "model_module_version": "1.2.0",
      "model_name": "LayoutModel",
      "state": {
       "_model_module": "@jupyter-widgets/base",
       "_model_module_version": "1.2.0",
       "_model_name": "LayoutModel",
       "_view_count": null,
       "_view_module": "@jupyter-widgets/base",
       "_view_module_version": "1.2.0",
       "_view_name": "LayoutView",
       "align_content": null,
       "align_items": null,
       "align_self": null,
       "border": null,
       "bottom": null,
       "display": null,
       "flex": null,
       "flex_flow": null,
       "grid_area": null,
       "grid_auto_columns": null,
       "grid_auto_flow": null,
       "grid_auto_rows": null,
       "grid_column": null,
       "grid_gap": null,
       "grid_row": null,
       "grid_template_areas": null,
       "grid_template_columns": null,
       "grid_template_rows": null,
       "height": null,
       "justify_content": null,
       "justify_items": null,
       "left": null,
       "margin": null,
       "max_height": null,
       "max_width": null,
       "min_height": null,
       "min_width": null,
       "object_fit": null,
       "object_position": null,
       "order": null,
       "overflow": null,
       "overflow_x": null,
       "overflow_y": null,
       "padding": null,
       "right": null,
       "top": null,
       "visibility": null,
       "width": null
      }
     },
     "65f62ccdea4c40c88a9f96fe66574960": {
      "model_module": "@jupyter-widgets/base",
      "model_module_version": "1.2.0",
      "model_name": "LayoutModel",
      "state": {
       "_model_module": "@jupyter-widgets/base",
       "_model_module_version": "1.2.0",
       "_model_name": "LayoutModel",
       "_view_count": null,
       "_view_module": "@jupyter-widgets/base",
       "_view_module_version": "1.2.0",
       "_view_name": "LayoutView",
       "align_content": null,
       "align_items": null,
       "align_self": null,
       "border": null,
       "bottom": null,
       "display": null,
       "flex": null,
       "flex_flow": null,
       "grid_area": null,
       "grid_auto_columns": null,
       "grid_auto_flow": null,
       "grid_auto_rows": null,
       "grid_column": null,
       "grid_gap": null,
       "grid_row": null,
       "grid_template_areas": null,
       "grid_template_columns": null,
       "grid_template_rows": null,
       "height": null,
       "justify_content": null,
       "justify_items": null,
       "left": null,
       "margin": null,
       "max_height": null,
       "max_width": null,
       "min_height": null,
       "min_width": null,
       "object_fit": null,
       "object_position": null,
       "order": null,
       "overflow": null,
       "overflow_x": null,
       "overflow_y": null,
       "padding": null,
       "right": null,
       "top": null,
       "visibility": null,
       "width": null
      }
     },
     "6c1551a7c3094d25b59282df1e146860": {
      "model_module": "@jupyter-widgets/base",
      "model_module_version": "1.2.0",
      "model_name": "LayoutModel",
      "state": {
       "_model_module": "@jupyter-widgets/base",
       "_model_module_version": "1.2.0",
       "_model_name": "LayoutModel",
       "_view_count": null,
       "_view_module": "@jupyter-widgets/base",
       "_view_module_version": "1.2.0",
       "_view_name": "LayoutView",
       "align_content": null,
       "align_items": null,
       "align_self": null,
       "border": null,
       "bottom": null,
       "display": null,
       "flex": null,
       "flex_flow": null,
       "grid_area": null,
       "grid_auto_columns": null,
       "grid_auto_flow": null,
       "grid_auto_rows": null,
       "grid_column": null,
       "grid_gap": null,
       "grid_row": null,
       "grid_template_areas": null,
       "grid_template_columns": null,
       "grid_template_rows": null,
       "height": null,
       "justify_content": null,
       "justify_items": null,
       "left": null,
       "margin": null,
       "max_height": null,
       "max_width": null,
       "min_height": null,
       "min_width": null,
       "object_fit": null,
       "object_position": null,
       "order": null,
       "overflow": null,
       "overflow_x": null,
       "overflow_y": null,
       "padding": null,
       "right": null,
       "top": null,
       "visibility": null,
       "width": null
      }
     },
     "7693ce1dc6a342d48be51c06b03a20d9": {
      "model_module": "@jupyter-widgets/controls",
      "model_module_version": "1.5.0",
      "model_name": "ProgressStyleModel",
      "state": {
       "_model_module": "@jupyter-widgets/controls",
       "_model_module_version": "1.5.0",
       "_model_name": "ProgressStyleModel",
       "_view_count": null,
       "_view_module": "@jupyter-widgets/base",
       "_view_module_version": "1.2.0",
       "_view_name": "StyleView",
       "bar_color": null,
       "description_width": ""
      }
     },
     "78793b4a64cf4ef3a086d1ba34da08d1": {
      "model_module": "@jupyter-widgets/controls",
      "model_module_version": "1.5.0",
      "model_name": "DescriptionStyleModel",
      "state": {
       "_model_module": "@jupyter-widgets/controls",
       "_model_module_version": "1.5.0",
       "_model_name": "DescriptionStyleModel",
       "_view_count": null,
       "_view_module": "@jupyter-widgets/base",
       "_view_module_version": "1.2.0",
       "_view_name": "StyleView",
       "description_width": ""
      }
     },
     "78a2711e728b4ba8af322c103fb8bc0f": {
      "model_module": "@jupyter-widgets/controls",
      "model_module_version": "1.5.0",
      "model_name": "ProgressStyleModel",
      "state": {
       "_model_module": "@jupyter-widgets/controls",
       "_model_module_version": "1.5.0",
       "_model_name": "ProgressStyleModel",
       "_view_count": null,
       "_view_module": "@jupyter-widgets/base",
       "_view_module_version": "1.2.0",
       "_view_name": "StyleView",
       "bar_color": null,
       "description_width": ""
      }
     },
     "7f4d80f0e7554d438492731678704ed7": {
      "model_module": "@jupyter-widgets/controls",
      "model_module_version": "1.5.0",
      "model_name": "HTMLModel",
      "state": {
       "_dom_classes": [],
       "_model_module": "@jupyter-widgets/controls",
       "_model_module_version": "1.5.0",
       "_model_name": "HTMLModel",
       "_view_count": null,
       "_view_module": "@jupyter-widgets/controls",
       "_view_module_version": "1.5.0",
       "_view_name": "HTMLView",
       "description": "",
       "description_tooltip": null,
       "layout": "IPY_MODEL_40b098db687647c38b0c5579bb2f7009",
       "placeholder": "​",
       "style": "IPY_MODEL_9d9aa0453ac94da6a021949bd883e331",
       "value": " 4.83M/4.83M [00:00&lt;00:00, 10.3MB/s]"
      }
     },
     "86e637d044f3489bacfb857692db8e3b": {
      "model_module": "@jupyter-widgets/base",
      "model_module_version": "1.2.0",
      "model_name": "LayoutModel",
      "state": {
       "_model_module": "@jupyter-widgets/base",
       "_model_module_version": "1.2.0",
       "_model_name": "LayoutModel",
       "_view_count": null,
       "_view_module": "@jupyter-widgets/base",
       "_view_module_version": "1.2.0",
       "_view_name": "LayoutView",
       "align_content": null,
       "align_items": null,
       "align_self": null,
       "border": null,
       "bottom": null,
       "display": null,
       "flex": null,
       "flex_flow": null,
       "grid_area": null,
       "grid_auto_columns": null,
       "grid_auto_flow": null,
       "grid_auto_rows": null,
       "grid_column": null,
       "grid_gap": null,
       "grid_row": null,
       "grid_template_areas": null,
       "grid_template_columns": null,
       "grid_template_rows": null,
       "height": null,
       "justify_content": null,
       "justify_items": null,
       "left": null,
       "margin": null,
       "max_height": null,
       "max_width": null,
       "min_height": null,
       "min_width": null,
       "object_fit": null,
       "object_position": null,
       "order": null,
       "overflow": null,
       "overflow_x": null,
       "overflow_y": null,
       "padding": null,
       "right": null,
       "top": null,
       "visibility": null,
       "width": null
      }
     },
     "96b9b022daab4a309c2e73d3d59fc9dc": {
      "model_module": "@jupyter-widgets/base",
      "model_module_version": "1.2.0",
      "model_name": "LayoutModel",
      "state": {
       "_model_module": "@jupyter-widgets/base",
       "_model_module_version": "1.2.0",
       "_model_name": "LayoutModel",
       "_view_count": null,
       "_view_module": "@jupyter-widgets/base",
       "_view_module_version": "1.2.0",
       "_view_name": "LayoutView",
       "align_content": null,
       "align_items": null,
       "align_self": null,
       "border": null,
       "bottom": null,
       "display": null,
       "flex": null,
       "flex_flow": null,
       "grid_area": null,
       "grid_auto_columns": null,
       "grid_auto_flow": null,
       "grid_auto_rows": null,
       "grid_column": null,
       "grid_gap": null,
       "grid_row": null,
       "grid_template_areas": null,
       "grid_template_columns": null,
       "grid_template_rows": null,
       "height": null,
       "justify_content": null,
       "justify_items": null,
       "left": null,
       "margin": null,
       "max_height": null,
       "max_width": null,
       "min_height": null,
       "min_width": null,
       "object_fit": null,
       "object_position": null,
       "order": null,
       "overflow": null,
       "overflow_x": null,
       "overflow_y": null,
       "padding": null,
       "right": null,
       "top": null,
       "visibility": null,
       "width": null
      }
     },
     "9d9aa0453ac94da6a021949bd883e331": {
      "model_module": "@jupyter-widgets/controls",
      "model_module_version": "1.5.0",
      "model_name": "DescriptionStyleModel",
      "state": {
       "_model_module": "@jupyter-widgets/controls",
       "_model_module_version": "1.5.0",
       "_model_name": "DescriptionStyleModel",
       "_view_count": null,
       "_view_module": "@jupyter-widgets/base",
       "_view_module_version": "1.2.0",
       "_view_name": "StyleView",
       "description_width": ""
      }
     },
     "a010b2f120f0489b848532c72cf897ce": {
      "model_module": "@jupyter-widgets/controls",
      "model_module_version": "1.5.0",
      "model_name": "HTMLModel",
      "state": {
       "_dom_classes": [],
       "_model_module": "@jupyter-widgets/controls",
       "_model_module_version": "1.5.0",
       "_model_name": "HTMLModel",
       "_view_count": null,
       "_view_module": "@jupyter-widgets/controls",
       "_view_module_version": "1.5.0",
       "_view_name": "HTMLView",
       "description": "",
       "description_tooltip": null,
       "layout": "IPY_MODEL_1a07021c6bdc4a9398e311a0679cf3e7",
       "placeholder": "​",
       "style": "IPY_MODEL_48a3f70f22674c8db8f0b2f600ef7ffc",
       "value": "Downloading: 100%"
      }
     },
     "a13a97a289454891a1aae69ecdba1557": {
      "model_module": "@jupyter-widgets/base",
      "model_module_version": "1.2.0",
      "model_name": "LayoutModel",
      "state": {
       "_model_module": "@jupyter-widgets/base",
       "_model_module_version": "1.2.0",
       "_model_name": "LayoutModel",
       "_view_count": null,
       "_view_module": "@jupyter-widgets/base",
       "_view_module_version": "1.2.0",
       "_view_name": "LayoutView",
       "align_content": null,
       "align_items": null,
       "align_self": null,
       "border": null,
       "bottom": null,
       "display": null,
       "flex": null,
       "flex_flow": null,
       "grid_area": null,
       "grid_auto_columns": null,
       "grid_auto_flow": null,
       "grid_auto_rows": null,
       "grid_column": null,
       "grid_gap": null,
       "grid_row": null,
       "grid_template_areas": null,
       "grid_template_columns": null,
       "grid_template_rows": null,
       "height": null,
       "justify_content": null,
       "justify_items": null,
       "left": null,
       "margin": null,
       "max_height": null,
       "max_width": null,
       "min_height": null,
       "min_width": null,
       "object_fit": null,
       "object_position": null,
       "order": null,
       "overflow": null,
       "overflow_x": null,
       "overflow_y": null,
       "padding": null,
       "right": null,
       "top": null,
       "visibility": null,
       "width": null
      }
     },
     "a533a2c2310b4f6997821421ac82f1f0": {
      "model_module": "@jupyter-widgets/base",
      "model_module_version": "1.2.0",
      "model_name": "LayoutModel",
      "state": {
       "_model_module": "@jupyter-widgets/base",
       "_model_module_version": "1.2.0",
       "_model_name": "LayoutModel",
       "_view_count": null,
       "_view_module": "@jupyter-widgets/base",
       "_view_module_version": "1.2.0",
       "_view_name": "LayoutView",
       "align_content": null,
       "align_items": null,
       "align_self": null,
       "border": null,
       "bottom": null,
       "display": null,
       "flex": null,
       "flex_flow": null,
       "grid_area": null,
       "grid_auto_columns": null,
       "grid_auto_flow": null,
       "grid_auto_rows": null,
       "grid_column": null,
       "grid_gap": null,
       "grid_row": null,
       "grid_template_areas": null,
       "grid_template_columns": null,
       "grid_template_rows": null,
       "height": null,
       "justify_content": null,
       "justify_items": null,
       "left": null,
       "margin": null,
       "max_height": null,
       "max_width": null,
       "min_height": null,
       "min_width": null,
       "object_fit": null,
       "object_position": null,
       "order": null,
       "overflow": null,
       "overflow_x": null,
       "overflow_y": null,
       "padding": null,
       "right": null,
       "top": null,
       "visibility": null,
       "width": null
      }
     },
     "a5bc1abdf26944f9b7a4f90bbe799061": {
      "model_module": "@jupyter-widgets/controls",
      "model_module_version": "1.5.0",
      "model_name": "DescriptionStyleModel",
      "state": {
       "_model_module": "@jupyter-widgets/controls",
       "_model_module_version": "1.5.0",
       "_model_name": "DescriptionStyleModel",
       "_view_count": null,
       "_view_module": "@jupyter-widgets/base",
       "_view_module_version": "1.2.0",
       "_view_name": "StyleView",
       "description_width": ""
      }
     },
     "a66f8d1f071d4d3bafb6ac6d246b30c5": {
      "model_module": "@jupyter-widgets/base",
      "model_module_version": "1.2.0",
      "model_name": "LayoutModel",
      "state": {
       "_model_module": "@jupyter-widgets/base",
       "_model_module_version": "1.2.0",
       "_model_name": "LayoutModel",
       "_view_count": null,
       "_view_module": "@jupyter-widgets/base",
       "_view_module_version": "1.2.0",
       "_view_name": "LayoutView",
       "align_content": null,
       "align_items": null,
       "align_self": null,
       "border": null,
       "bottom": null,
       "display": null,
       "flex": null,
       "flex_flow": null,
       "grid_area": null,
       "grid_auto_columns": null,
       "grid_auto_flow": null,
       "grid_auto_rows": null,
       "grid_column": null,
       "grid_gap": null,
       "grid_row": null,
       "grid_template_areas": null,
       "grid_template_columns": null,
       "grid_template_rows": null,
       "height": null,
       "justify_content": null,
       "justify_items": null,
       "left": null,
       "margin": null,
       "max_height": null,
       "max_width": null,
       "min_height": null,
       "min_width": null,
       "object_fit": null,
       "object_position": null,
       "order": null,
       "overflow": null,
       "overflow_x": null,
       "overflow_y": null,
       "padding": null,
       "right": null,
       "top": null,
       "visibility": null,
       "width": null
      }
     },
     "af091f7c464144c09ef95456da99527f": {
      "model_module": "@jupyter-widgets/base",
      "model_module_version": "1.2.0",
      "model_name": "LayoutModel",
      "state": {
       "_model_module": "@jupyter-widgets/base",
       "_model_module_version": "1.2.0",
       "_model_name": "LayoutModel",
       "_view_count": null,
       "_view_module": "@jupyter-widgets/base",
       "_view_module_version": "1.2.0",
       "_view_name": "LayoutView",
       "align_content": null,
       "align_items": null,
       "align_self": null,
       "border": null,
       "bottom": null,
       "display": null,
       "flex": null,
       "flex_flow": null,
       "grid_area": null,
       "grid_auto_columns": null,
       "grid_auto_flow": null,
       "grid_auto_rows": null,
       "grid_column": null,
       "grid_gap": null,
       "grid_row": null,
       "grid_template_areas": null,
       "grid_template_columns": null,
       "grid_template_rows": null,
       "height": null,
       "justify_content": null,
       "justify_items": null,
       "left": null,
       "margin": null,
       "max_height": null,
       "max_width": null,
       "min_height": null,
       "min_width": null,
       "object_fit": null,
       "object_position": null,
       "order": null,
       "overflow": null,
       "overflow_x": null,
       "overflow_y": null,
       "padding": null,
       "right": null,
       "top": null,
       "visibility": null,
       "width": null
      }
     },
     "b34aa33cb1244aba90cfd28a5e077e27": {
      "model_module": "@jupyter-widgets/base",
      "model_module_version": "1.2.0",
      "model_name": "LayoutModel",
      "state": {
       "_model_module": "@jupyter-widgets/base",
       "_model_module_version": "1.2.0",
       "_model_name": "LayoutModel",
       "_view_count": null,
       "_view_module": "@jupyter-widgets/base",
       "_view_module_version": "1.2.0",
       "_view_name": "LayoutView",
       "align_content": null,
       "align_items": null,
       "align_self": null,
       "border": null,
       "bottom": null,
       "display": null,
       "flex": null,
       "flex_flow": null,
       "grid_area": null,
       "grid_auto_columns": null,
       "grid_auto_flow": null,
       "grid_auto_rows": null,
       "grid_column": null,
       "grid_gap": null,
       "grid_row": null,
       "grid_template_areas": null,
       "grid_template_columns": null,
       "grid_template_rows": null,
       "height": null,
       "justify_content": null,
       "justify_items": null,
       "left": null,
       "margin": null,
       "max_height": null,
       "max_width": null,
       "min_height": null,
       "min_width": null,
       "object_fit": null,
       "object_position": null,
       "order": null,
       "overflow": null,
       "overflow_x": null,
       "overflow_y": null,
       "padding": null,
       "right": null,
       "top": null,
       "visibility": null,
       "width": null
      }
     },
     "b4ed6e68314b41c8b2209698e246a378": {
      "model_module": "@jupyter-widgets/controls",
      "model_module_version": "1.5.0",
      "model_name": "DescriptionStyleModel",
      "state": {
       "_model_module": "@jupyter-widgets/controls",
       "_model_module_version": "1.5.0",
       "_model_name": "DescriptionStyleModel",
       "_view_count": null,
       "_view_module": "@jupyter-widgets/base",
       "_view_module_version": "1.2.0",
       "_view_name": "StyleView",
       "description_width": ""
      }
     },
     "c47b973d9b494a0dbd5eb4243c51a48b": {
      "model_module": "@jupyter-widgets/base",
      "model_module_version": "1.2.0",
      "model_name": "LayoutModel",
      "state": {
       "_model_module": "@jupyter-widgets/base",
       "_model_module_version": "1.2.0",
       "_model_name": "LayoutModel",
       "_view_count": null,
       "_view_module": "@jupyter-widgets/base",
       "_view_module_version": "1.2.0",
       "_view_name": "LayoutView",
       "align_content": null,
       "align_items": null,
       "align_self": null,
       "border": null,
       "bottom": null,
       "display": null,
       "flex": null,
       "flex_flow": null,
       "grid_area": null,
       "grid_auto_columns": null,
       "grid_auto_flow": null,
       "grid_auto_rows": null,
       "grid_column": null,
       "grid_gap": null,
       "grid_row": null,
       "grid_template_areas": null,
       "grid_template_columns": null,
       "grid_template_rows": null,
       "height": null,
       "justify_content": null,
       "justify_items": null,
       "left": null,
       "margin": null,
       "max_height": null,
       "max_width": null,
       "min_height": null,
       "min_width": null,
       "object_fit": null,
       "object_position": null,
       "order": null,
       "overflow": null,
       "overflow_x": null,
       "overflow_y": null,
       "padding": null,
       "right": null,
       "top": null,
       "visibility": null,
       "width": null
      }
     },
     "c6d8028d19044fdaa9c3ccf4b307e0ad": {
      "model_module": "@jupyter-widgets/controls",
      "model_module_version": "1.5.0",
      "model_name": "HBoxModel",
      "state": {
       "_dom_classes": [],
       "_model_module": "@jupyter-widgets/controls",
       "_model_module_version": "1.5.0",
       "_model_name": "HBoxModel",
       "_view_count": null,
       "_view_module": "@jupyter-widgets/controls",
       "_view_module_version": "1.5.0",
       "_view_name": "HBoxView",
       "box_style": "",
       "children": [
        "IPY_MODEL_a010b2f120f0489b848532c72cf897ce",
        "IPY_MODEL_f7e8231e3e1e4cde9e55a89e39f1f37c",
        "IPY_MODEL_50926b4a257747e285be9f6d852d99f0"
       ],
       "layout": "IPY_MODEL_2d6282e8ee324e03ad01733dfa4acd55"
      }
     },
     "c764bf69b81649bfb442a7c88d45320a": {
      "model_module": "@jupyter-widgets/controls",
      "model_module_version": "1.5.0",
      "model_name": "HTMLModel",
      "state": {
       "_dom_classes": [],
       "_model_module": "@jupyter-widgets/controls",
       "_model_module_version": "1.5.0",
       "_model_name": "HTMLModel",
       "_view_count": null,
       "_view_module": "@jupyter-widgets/controls",
       "_view_module_version": "1.5.0",
       "_view_name": "HTMLView",
       "description": "",
       "description_tooltip": null,
       "layout": "IPY_MODEL_96b9b022daab4a309c2e73d3d59fc9dc",
       "placeholder": "​",
       "style": "IPY_MODEL_03e4de0b06e640eca9c5637e3b472089",
       "value": " 2.24G/2.24G [00:50&lt;00:00, 42.3MB/s]"
      }
     },
     "c98c4af356d742c8862d5ad460c5d64b": {
      "model_module": "@jupyter-widgets/base",
      "model_module_version": "1.2.0",
      "model_name": "LayoutModel",
      "state": {
       "_model_module": "@jupyter-widgets/base",
       "_model_module_version": "1.2.0",
       "_model_name": "LayoutModel",
       "_view_count": null,
       "_view_module": "@jupyter-widgets/base",
       "_view_module_version": "1.2.0",
       "_view_name": "LayoutView",
       "align_content": null,
       "align_items": null,
       "align_self": null,
       "border": null,
       "bottom": null,
       "display": null,
       "flex": null,
       "flex_flow": null,
       "grid_area": null,
       "grid_auto_columns": null,
       "grid_auto_flow": null,
       "grid_auto_rows": null,
       "grid_column": null,
       "grid_gap": null,
       "grid_row": null,
       "grid_template_areas": null,
       "grid_template_columns": null,
       "grid_template_rows": null,
       "height": null,
       "justify_content": null,
       "justify_items": null,
       "left": null,
       "margin": null,
       "max_height": null,
       "max_width": null,
       "min_height": null,
       "min_width": null,
       "object_fit": null,
       "object_position": null,
       "order": null,
       "overflow": null,
       "overflow_x": null,
       "overflow_y": null,
       "padding": null,
       "right": null,
       "top": null,
       "visibility": null,
       "width": null
      }
     },
     "caf32c3d751b4c6ba7ba6d9bd118a552": {
      "model_module": "@jupyter-widgets/controls",
      "model_module_version": "1.5.0",
      "model_name": "FloatProgressModel",
      "state": {
       "_dom_classes": [],
       "_model_module": "@jupyter-widgets/controls",
       "_model_module_version": "1.5.0",
       "_model_name": "FloatProgressModel",
       "_view_count": null,
       "_view_module": "@jupyter-widgets/controls",
       "_view_module_version": "1.5.0",
       "_view_name": "ProgressView",
       "bar_style": "success",
       "description": "",
       "description_tooltip": null,
       "layout": "IPY_MODEL_602dd7dd62a3490187c87da7835cdcd9",
       "max": 616.0,
       "min": 0.0,
       "orientation": "horizontal",
       "style": "IPY_MODEL_3938676285224aadb4f10683768625b8",
       "value": 616.0
      }
     },
     "d10b284bf2f1467e80f01df99709333b": {
      "model_module": "@jupyter-widgets/controls",
      "model_module_version": "1.5.0",
      "model_name": "DescriptionStyleModel",
      "state": {
       "_model_module": "@jupyter-widgets/controls",
       "_model_module_version": "1.5.0",
       "_model_name": "DescriptionStyleModel",
       "_view_count": null,
       "_view_module": "@jupyter-widgets/base",
       "_view_module_version": "1.2.0",
       "_view_name": "StyleView",
       "description_width": ""
      }
     },
     "d41b1b98f420401494598fda4d77cd0a": {
      "model_module": "@jupyter-widgets/controls",
      "model_module_version": "1.5.0",
      "model_name": "DescriptionStyleModel",
      "state": {
       "_model_module": "@jupyter-widgets/controls",
       "_model_module_version": "1.5.0",
       "_model_name": "DescriptionStyleModel",
       "_view_count": null,
       "_view_module": "@jupyter-widgets/base",
       "_view_module_version": "1.2.0",
       "_view_name": "StyleView",
       "description_width": ""
      }
     },
     "e4d739c2b0134043a1051d21bfbc021f": {
      "model_module": "@jupyter-widgets/controls",
      "model_module_version": "1.5.0",
      "model_name": "HTMLModel",
      "state": {
       "_dom_classes": [],
       "_model_module": "@jupyter-widgets/controls",
       "_model_module_version": "1.5.0",
       "_model_name": "HTMLModel",
       "_view_count": null,
       "_view_module": "@jupyter-widgets/controls",
       "_view_module_version": "1.5.0",
       "_view_name": "HTMLView",
       "description": "",
       "description_tooltip": null,
       "layout": "IPY_MODEL_34e2f190ec2f47d5a72c49ebaff8fa34",
       "placeholder": "​",
       "style": "IPY_MODEL_b4ed6e68314b41c8b2209698e246a378",
       "value": "Downloading: 100%"
      }
     },
     "e84ed6d769274dd88f2586a7a63394a0": {
      "model_module": "@jupyter-widgets/controls",
      "model_module_version": "1.5.0",
      "model_name": "FloatProgressModel",
      "state": {
       "_dom_classes": [],
       "_model_module": "@jupyter-widgets/controls",
       "_model_module_version": "1.5.0",
       "_model_name": "FloatProgressModel",
       "_view_count": null,
       "_view_module": "@jupyter-widgets/controls",
       "_view_module_version": "1.5.0",
       "_view_name": "ProgressView",
       "bar_style": "success",
       "description": "",
       "description_tooltip": null,
       "layout": "IPY_MODEL_38ad12a34b384461bff276f6a4f02145",
       "max": 2239866761.0,
       "min": 0.0,
       "orientation": "horizontal",
       "style": "IPY_MODEL_78a2711e728b4ba8af322c103fb8bc0f",
       "value": 2239866761.0
      }
     },
     "ec715abf0d37451a87f0c25095c9d080": {
      "model_module": "@jupyter-widgets/controls",
      "model_module_version": "1.5.0",
      "model_name": "FloatProgressModel",
      "state": {
       "_dom_classes": [],
       "_model_module": "@jupyter-widgets/controls",
       "_model_module_version": "1.5.0",
       "_model_name": "FloatProgressModel",
       "_view_count": null,
       "_view_module": "@jupyter-widgets/controls",
       "_view_module_version": "1.5.0",
       "_view_name": "ProgressView",
       "bar_style": "success",
       "description": "",
       "description_tooltip": null,
       "layout": "IPY_MODEL_a13a97a289454891a1aae69ecdba1557",
       "max": 9096718.0,
       "min": 0.0,
       "orientation": "horizontal",
       "style": "IPY_MODEL_0c9579ae7d994c2ca28da21c3b4814eb",
       "value": 9096718.0
      }
     },
     "eda67b1ccce5438da03e5f4845f81788": {
      "model_module": "@jupyter-widgets/controls",
      "model_module_version": "1.5.0",
      "model_name": "DescriptionStyleModel",
      "state": {
       "_model_module": "@jupyter-widgets/controls",
       "_model_module_version": "1.5.0",
       "_model_name": "DescriptionStyleModel",
       "_view_count": null,
       "_view_module": "@jupyter-widgets/base",
       "_view_module_version": "1.2.0",
       "_view_name": "StyleView",
       "description_width": ""
      }
     },
     "f184d6c9f0414b1a961683b2a2c705c6": {
      "model_module": "@jupyter-widgets/base",
      "model_module_version": "1.2.0",
      "model_name": "LayoutModel",
      "state": {
       "_model_module": "@jupyter-widgets/base",
       "_model_module_version": "1.2.0",
       "_model_name": "LayoutModel",
       "_view_count": null,
       "_view_module": "@jupyter-widgets/base",
       "_view_module_version": "1.2.0",
       "_view_name": "LayoutView",
       "align_content": null,
       "align_items": null,
       "align_self": null,
       "border": null,
       "bottom": null,
       "display": null,
       "flex": null,
       "flex_flow": null,
       "grid_area": null,
       "grid_auto_columns": null,
       "grid_auto_flow": null,
       "grid_auto_rows": null,
       "grid_column": null,
       "grid_gap": null,
       "grid_row": null,
       "grid_template_areas": null,
       "grid_template_columns": null,
       "grid_template_rows": null,
       "height": null,
       "justify_content": null,
       "justify_items": null,
       "left": null,
       "margin": null,
       "max_height": null,
       "max_width": null,
       "min_height": null,
       "min_width": null,
       "object_fit": null,
       "object_position": null,
       "order": null,
       "overflow": null,
       "overflow_x": null,
       "overflow_y": null,
       "padding": null,
       "right": null,
       "top": null,
       "visibility": null,
       "width": null
      }
     },
     "f7e8231e3e1e4cde9e55a89e39f1f37c": {
      "model_module": "@jupyter-widgets/controls",
      "model_module_version": "1.5.0",
      "model_name": "FloatProgressModel",
      "state": {
       "_dom_classes": [],
       "_model_module": "@jupyter-widgets/controls",
       "_model_module_version": "1.5.0",
       "_model_name": "FloatProgressModel",
       "_view_count": null,
       "_view_module": "@jupyter-widgets/controls",
       "_view_module_version": "1.5.0",
       "_view_name": "ProgressView",
       "bar_style": "success",
       "description": "",
       "description_tooltip": null,
       "layout": "IPY_MODEL_f184d6c9f0414b1a961683b2a2c705c6",
       "max": 432176557.0,
       "min": 0.0,
       "orientation": "horizontal",
       "style": "IPY_MODEL_489936485e89433e8627a88b615c894f",
       "value": 432176557.0
      }
     },
     "f7ea4b7f84c04f0a8f34579605d984ab": {
      "model_module": "@jupyter-widgets/base",
      "model_module_version": "1.2.0",
      "model_name": "LayoutModel",
      "state": {
       "_model_module": "@jupyter-widgets/base",
       "_model_module_version": "1.2.0",
       "_model_name": "LayoutModel",
       "_view_count": null,
       "_view_module": "@jupyter-widgets/base",
       "_view_module_version": "1.2.0",
       "_view_name": "LayoutView",
       "align_content": null,
       "align_items": null,
       "align_self": null,
       "border": null,
       "bottom": null,
       "display": null,
       "flex": null,
       "flex_flow": null,
       "grid_area": null,
       "grid_auto_columns": null,
       "grid_auto_flow": null,
       "grid_auto_rows": null,
       "grid_column": null,
       "grid_gap": null,
       "grid_row": null,
       "grid_template_areas": null,
       "grid_template_columns": null,
       "grid_template_rows": null,
       "height": null,
       "justify_content": null,
       "justify_items": null,
       "left": null,
       "margin": null,
       "max_height": null,
       "max_width": null,
       "min_height": null,
       "min_width": null,
       "object_fit": null,
       "object_position": null,
       "order": null,
       "overflow": null,
       "overflow_x": null,
       "overflow_y": null,
       "padding": null,
       "right": null,
       "top": null,
       "visibility": null,
       "width": null
      }
     },
     "fc33ffaa7a0940c08ee21f6942a72112": {
      "model_module": "@jupyter-widgets/controls",
      "model_module_version": "1.5.0",
      "model_name": "FloatProgressModel",
      "state": {
       "_dom_classes": [],
       "_model_module": "@jupyter-widgets/controls",
       "_model_module_version": "1.5.0",
       "_model_name": "FloatProgressModel",
       "_view_count": null,
       "_view_module": "@jupyter-widgets/controls",
       "_view_module_version": "1.5.0",
       "_view_name": "ProgressView",
       "bar_style": "success",
       "description": "",
       "description_tooltip": null,
       "layout": "IPY_MODEL_a66f8d1f071d4d3bafb6ac6d246b30c5",
       "max": 2240097289.0,
       "min": 0.0,
       "orientation": "horizontal",
       "style": "IPY_MODEL_7693ce1dc6a342d48be51c06b03a20d9",
       "value": 2240097289.0
      }
     },
     "fd3813c0a06d4567a211948160817b56": {
      "model_module": "@jupyter-widgets/controls",
      "model_module_version": "1.5.0",
      "model_name": "HBoxModel",
      "state": {
       "_dom_classes": [],
       "_model_module": "@jupyter-widgets/controls",
       "_model_module_version": "1.5.0",
       "_model_name": "HBoxModel",
       "_view_count": null,
       "_view_module": "@jupyter-widgets/controls",
       "_view_module_version": "1.5.0",
       "_view_name": "HBoxView",
       "box_style": "",
       "children": [
        "IPY_MODEL_4972e302d1b44772a2667fb0987c3691",
        "IPY_MODEL_e84ed6d769274dd88f2586a7a63394a0",
        "IPY_MODEL_c764bf69b81649bfb442a7c88d45320a"
       ],
       "layout": "IPY_MODEL_26cbbb8399174d728e0e7f87e70376d2"
      }
     }
    },
    "version_major": 2,
    "version_minor": 0
   }
  }
 },
 "nbformat": 4,
 "nbformat_minor": 5
}
