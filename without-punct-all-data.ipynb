{
 "cells": [
  {
   "cell_type": "code",
   "execution_count": 1,
   "id": "f712e592",
   "metadata": {
    "_cell_guid": "b1076dfc-b9ad-4769-8c92-a6c4dae69d19",
    "_uuid": "8f2839f25d086af736a60e9eeb907d3b93b6e0e5",
    "execution": {
     "iopub.execute_input": "2022-06-10T08:08:05.149825Z",
     "iopub.status.busy": "2022-06-10T08:08:05.149348Z",
     "iopub.status.idle": "2022-06-10T08:08:11.346105Z",
     "shell.execute_reply": "2022-06-10T08:08:11.345243Z"
    },
    "papermill": {
     "duration": 6.21809,
     "end_time": "2022-06-10T08:08:11.348605",
     "exception": false,
     "start_time": "2022-06-10T08:08:05.130515",
     "status": "completed"
    },
    "tags": []
   },
   "outputs": [],
   "source": [
    "import numpy as np\n",
    "import pandas as pd \n",
    "import seaborn as sns\n",
    "import matplotlib.pyplot as plt \n",
    "import matplotlib.style as stl \n",
    "from tensorflow import keras \n",
    "from keras.preprocessing.text import Tokenizer\n",
    "from nltk.corpus import stopwords\n",
    "import string\n",
    "from tensorflow.keras.models import Sequential,Model\n",
    "from tensorflow.keras.layers import Dense, LSTM, Embedding,Dropout,SpatialDropout1D,Conv1D,MaxPooling1D,GRU,BatchNormalization\n",
    "import warnings\n",
    "warnings.filterwarnings('ignore')\n",
    "stl.use('ggplot')\n",
    "from tqdm import tqdm\n",
    "import string\n",
    "from nltk.corpus import stopwords\n",
    "from nltk.tokenize import word_tokenize\n",
    "from nltk.stem import WordNetLemmatizer\n",
    "from nltk.stem.snowball import SnowballStemmer\n",
    "import regex as re"
   ]
  },
  {
   "cell_type": "code",
   "execution_count": 2,
   "id": "56966594",
   "metadata": {
    "execution": {
     "iopub.execute_input": "2022-06-10T08:08:11.382911Z",
     "iopub.status.busy": "2022-06-10T08:08:11.382357Z",
     "iopub.status.idle": "2022-06-10T08:08:11.485521Z",
     "shell.execute_reply": "2022-06-10T08:08:11.484732Z"
    },
    "papermill": {
     "duration": 0.122606,
     "end_time": "2022-06-10T08:08:11.487683",
     "exception": false,
     "start_time": "2022-06-10T08:08:11.365077",
     "status": "completed"
    },
    "tags": []
   },
   "outputs": [],
   "source": [
    "newdata=pd.read_csv(\"../input/oathss/oaths.csv\")"
   ]
  },
  {
   "cell_type": "code",
   "execution_count": null,
   "id": "7a44b501",
   "metadata": {
    "papermill": {
     "duration": 0.015753,
     "end_time": "2022-06-10T08:08:11.520428",
     "exception": false,
     "start_time": "2022-06-10T08:08:11.504675",
     "status": "completed"
    },
    "tags": []
   },
   "outputs": [],
   "source": []
  },
  {
   "cell_type": "markdown",
   "id": "2a956d61",
   "metadata": {
    "papermill": {
     "duration": 0.015503,
     "end_time": "2022-06-10T08:08:11.551693",
     "exception": false,
     "start_time": "2022-06-10T08:08:11.536190",
     "status": "completed"
    },
    "tags": []
   },
   "source": [
    "# Preprocessing"
   ]
  },
  {
   "cell_type": "code",
   "execution_count": 3,
   "id": "6a699a60",
   "metadata": {
    "execution": {
     "iopub.execute_input": "2022-06-10T08:08:11.584885Z",
     "iopub.status.busy": "2022-06-10T08:08:11.584100Z",
     "iopub.status.idle": "2022-06-10T08:08:11.591943Z",
     "shell.execute_reply": "2022-06-10T08:08:11.591185Z"
    },
    "papermill": {
     "duration": 0.025735,
     "end_time": "2022-06-10T08:08:11.593569",
     "exception": false,
     "start_time": "2022-06-10T08:08:11.567834",
     "status": "completed"
    },
    "tags": []
   },
   "outputs": [],
   "source": [
    "all_text=newdata[\"transcription_text\"]"
   ]
  },
  {
   "cell_type": "code",
   "execution_count": 4,
   "id": "0f98acd6",
   "metadata": {
    "execution": {
     "iopub.execute_input": "2022-06-10T08:08:11.626071Z",
     "iopub.status.busy": "2022-06-10T08:08:11.625363Z",
     "iopub.status.idle": "2022-06-10T08:08:11.632810Z",
     "shell.execute_reply": "2022-06-10T08:08:11.632151Z"
    },
    "papermill": {
     "duration": 0.025402,
     "end_time": "2022-06-10T08:08:11.634733",
     "exception": false,
     "start_time": "2022-06-10T08:08:11.609331",
     "status": "completed"
    },
    "tags": []
   },
   "outputs": [
    {
     "data": {
      "text/plain": [
       "'[M177 ENCL]\\r\\n[[pre-printed]] I, [[handwritten]] I C Meekins [[/handwritten]], of [[handwritten]] Currituck [[/handwritten]] County, State of North Carolina, do solemnly swear or affirm, in presence of Almighty God, that I will henceforth faithfully support, protect and defend the Constitution of the United States and the Union of the States thereunder; and that I will, in like manner, abide by and faithfully support all laws and proclamations which have been made during the existing rebellion with reference to the emancipation of slaves.  So help me God. \\r\\n\\r\\n[[handwritten]] Isaac C. Meekins [[/handwritten]]\\r\\n\\r\\nSworn and subscribed to this the [[handwritten]] 16 [[/handwritten]] day of [[handwritten]] Sept [[/handwritten]] A.D., 1865, before \\r\\n[[handwritten]] E H Walker [[/handwritten]], J.P.\\r\\nIt is hereby certified that the above is a true copy of the original oath taken and subscribed by [[handwritten]] I C Meekins\\r\\nE H Walker, J.P.\\r\\nJohn B Etheridge, J.P.\\r\\n[[\\\\handwritten]] [[/pre-printed]]'"
      ]
     },
     "execution_count": 4,
     "metadata": {},
     "output_type": "execute_result"
    }
   ],
   "source": [
    "all_text[0]"
   ]
  },
  {
   "cell_type": "code",
   "execution_count": 5,
   "id": "46c9c04f",
   "metadata": {
    "execution": {
     "iopub.execute_input": "2022-06-10T08:08:11.667121Z",
     "iopub.status.busy": "2022-06-10T08:08:11.666739Z",
     "iopub.status.idle": "2022-06-10T08:08:11.671560Z",
     "shell.execute_reply": "2022-06-10T08:08:11.670898Z"
    },
    "papermill": {
     "duration": 0.022836,
     "end_time": "2022-06-10T08:08:11.673315",
     "exception": false,
     "start_time": "2022-06-10T08:08:11.650479",
     "status": "completed"
    },
    "tags": []
   },
   "outputs": [
    {
     "data": {
      "text/plain": [
       "'[M177 ENCL]\\r\\n[[pre-printed]] I, [[handwritten]] I C Meekins [[/handwritten]], of [[handwritten]] Currituck [[/handwritten]] County, State of North Carolina, do solemnly swear or affirm, in presence of Almighty God, that I will henceforth faithfully support, protect and defend the Constitution of the United States and the Union of the States thereunder; and that I will, in like manner, abide by and faithfully support all laws and proclamations which have been made during the existing rebellion with reference to the emancipation of slaves.  So help me God. \\r\\n\\r\\n[[handwritten]] Isaac C. Meekins [[/handwritten]]\\r\\n\\r\\nSworn and subscribed to this the [[handwritten]] 16 [[/handwritten]] day of [[handwritten]] Sept [[/handwritten]] A.D., 1865, before \\r\\n[[handwritten]] E H Walker [[/handwritten]], J.P.\\r\\nIt is hereby certified that the above is a true copy of the original oath taken and subscribed by [[handwritten]] I C Meekins\\r\\nE H Walker, J.P.\\r\\nJohn B Etheridge, J.P.\\r\\n[[\\\\handwritten]] [[/pre-printed]]'"
      ]
     },
     "execution_count": 5,
     "metadata": {},
     "output_type": "execute_result"
    }
   ],
   "source": [
    "all_text[0]"
   ]
  },
  {
   "cell_type": "code",
   "execution_count": 6,
   "id": "5c639ff6",
   "metadata": {
    "execution": {
     "iopub.execute_input": "2022-06-10T08:08:11.706294Z",
     "iopub.status.busy": "2022-06-10T08:08:11.705831Z",
     "iopub.status.idle": "2022-06-10T08:08:11.710630Z",
     "shell.execute_reply": "2022-06-10T08:08:11.709963Z"
    },
    "papermill": {
     "duration": 0.022569,
     "end_time": "2022-06-10T08:08:11.712198",
     "exception": false,
     "start_time": "2022-06-10T08:08:11.689629",
     "status": "completed"
    },
    "tags": []
   },
   "outputs": [
    {
     "data": {
      "text/plain": [
       "'^[[ [M177 ENCL] ]]\\r\\nDepartment of Virginia and North Carolina, ^[[Feb 23]]\\r\\n^[[Newbern Dec 30th]] 1864.\\r\\n^[[No 1735]]\\r\\n^[[I. C. [[Meekins]] ]] has taken and subscribed the OATH and PAROLE required by  General Orders No. 49, for a Loyal Citizen of the United States, residing in a State ever in rebellion, or who has sympathized with the seceding States. \\r\\n^[[W. C. Hunt]]\\r\\n^[[Lt & Dept Pro Marshall]]'"
      ]
     },
     "execution_count": 6,
     "metadata": {},
     "output_type": "execute_result"
    }
   ],
   "source": [
    "all_text[1]"
   ]
  },
  {
   "cell_type": "code",
   "execution_count": 7,
   "id": "9e5ed8d5",
   "metadata": {
    "execution": {
     "iopub.execute_input": "2022-06-10T08:08:11.745184Z",
     "iopub.status.busy": "2022-06-10T08:08:11.744536Z",
     "iopub.status.idle": "2022-06-10T08:08:11.749474Z",
     "shell.execute_reply": "2022-06-10T08:08:11.748803Z"
    },
    "papermill": {
     "duration": 0.023236,
     "end_time": "2022-06-10T08:08:11.751221",
     "exception": false,
     "start_time": "2022-06-10T08:08:11.727985",
     "status": "completed"
    },
    "tags": []
   },
   "outputs": [
    {
     "data": {
      "text/plain": [
       "'[P 64 ENCL]\\r\\n[[Preprinted]]I,[[/Preprinted]] W. H. Pearce, [[Preprinted]]of[[/Preprinted]] Craven [[Preprinted]]County, State of North-Carolina, do solemnly swear or affirm, in presence of Almighty God, that I will henceforth faithfully support, protect and defend the Constitution of\\r\\nthe United States and the Union of the States thereunder; and that I will, in like manner, abide by and faithfully support all laws and proclamations which have been made during the existing rebellion with reference to the emancipation of slaves. So help me God.[[/Preprinted]]\\r\\n\\r\\nW. H. Pearce\\r\\n\\r\\n[[Preprinted]]Sworn and subscribed to this[[/Preprinted]] 3rd [[Preprinted]]day of[[/Preprinted]] October,\\r\\n[[Preprinted]]A.D., 1865, before[[/Preprinted]]\\r\\nJm. E. Ampetts[?] [[Preprinted]], J. P.\\r\\nIt is hereby certified that the above is a true copy of the original oath taken and subscribed by[[/Preprinted]] W. H. Pearce.\\r\\n\\r\\nJm. E. Ampetts[?], J.P.\\r\\nA. B. Watson[?], J.P.\\r\\n_______________, J.P.'"
      ]
     },
     "execution_count": 7,
     "metadata": {},
     "output_type": "execute_result"
    }
   ],
   "source": [
    "all_text[2]"
   ]
  },
  {
   "cell_type": "code",
   "execution_count": 8,
   "id": "f55c2fde",
   "metadata": {
    "execution": {
     "iopub.execute_input": "2022-06-10T08:08:11.785040Z",
     "iopub.status.busy": "2022-06-10T08:08:11.784439Z",
     "iopub.status.idle": "2022-06-10T08:08:11.789274Z",
     "shell.execute_reply": "2022-06-10T08:08:11.788597Z"
    },
    "papermill": {
     "duration": 0.022832,
     "end_time": "2022-06-10T08:08:11.790824",
     "exception": false,
     "start_time": "2022-06-10T08:08:11.767992",
     "status": "completed"
    },
    "tags": []
   },
   "outputs": [
    {
     "data": {
      "text/plain": [
       "'State of North Carolina,}\\r\\n________ County.                       }\\r\\nI, ________, do solemnly swear that I have never voluntarily borne arms against the United States since I have been a citizen thereof; that I have voluntarily given no aid, countenance, counsel, or encouragement to persons engaged in armed hostility thereto; that I have neither sought nor accepted, nor attempted to exercise the functions of any office whatever under any authority, or pretended authority, in hostility to the United States; that I have not yielded a voluntary support to any pretended government, authority, power or constitution within the United States, hostile or inimical thereto. And I do further swear, that, to the best of my knowledge and ability, I will support and defend the Constitution of the United States against all enemies, foreign, and domestic; that I will bear true faith and allegiance to the same, while I hold affair thirein that I take this obligation freely, without any mental reservation or purpose of evasion; and that I will well and faithfully discharge the duties of the office on which I am about to enter, so help my God.\\r\\n\\r\\n____________\\r\\nSworn and subscribed before me, this ______ day of ____________, 1866.\\r\\n____________ '"
      ]
     },
     "execution_count": 8,
     "metadata": {},
     "output_type": "execute_result"
    }
   ],
   "source": [
    "all_text[3]"
   ]
  },
  {
   "cell_type": "code",
   "execution_count": 9,
   "id": "e5389760",
   "metadata": {
    "execution": {
     "iopub.execute_input": "2022-06-10T08:08:11.824252Z",
     "iopub.status.busy": "2022-06-10T08:08:11.824007Z",
     "iopub.status.idle": "2022-06-10T08:08:11.828617Z",
     "shell.execute_reply": "2022-06-10T08:08:11.827958Z"
    },
    "papermill": {
     "duration": 0.02315,
     "end_time": "2022-06-10T08:08:11.830186",
     "exception": false,
     "start_time": "2022-06-10T08:08:11.807036",
     "status": "completed"
    },
    "tags": []
   },
   "outputs": [
    {
     "data": {
      "text/plain": [
       "'State of North Carolina, \\r\\nWake]] County. \\r\\n\\r\\nI, S.E. Allen, do solemnly swear that I have never voluntarily borne arms against the United States since I have been a citizen thereof; that I have voluntarily given no aid, countenance, counsel, or encouragement to persons engaged in armed hostility thereto; that I have neither sought nor accepted, nor attempted to exercise the functions of any office whatever under any authority, or pretended authority, in hostility to the United States; that I have not yielded a voluntary support to any pretended government, authority, power or constitution within the United States, hostile or inimical thereto. And I do further swear, that, to the best of my knowledge and ability, I will support and defend the Constitution of the United States against all enemies, foreign and domestic; that I will bear true faith and allegiance to the same; that I take this obligation freely, without any mental reservation or purpose of evasion; and that I will well and faithfully discharge the duties of the office on which I am about to enter, so help me God.\\r\\n\\r\\nS.E. Allen\\r\\n\\r\\nSworn and subscribed before me, this 31st day of May, 1867.\\r\\n \\r\\nT.D. McAlpine \\r\\nLieut. Vet. Res. Corp '"
      ]
     },
     "execution_count": 9,
     "metadata": {},
     "output_type": "execute_result"
    }
   ],
   "source": [
    "all_text[4]"
   ]
  },
  {
   "cell_type": "code",
   "execution_count": 10,
   "id": "90a30de6",
   "metadata": {
    "execution": {
     "iopub.execute_input": "2022-06-10T08:08:11.864378Z",
     "iopub.status.busy": "2022-06-10T08:08:11.864101Z",
     "iopub.status.idle": "2022-06-10T08:08:11.869207Z",
     "shell.execute_reply": "2022-06-10T08:08:11.868503Z"
    },
    "papermill": {
     "duration": 0.024516,
     "end_time": "2022-06-10T08:08:11.870950",
     "exception": false,
     "start_time": "2022-06-10T08:08:11.846434",
     "status": "completed"
    },
    "tags": []
   },
   "outputs": [
    {
     "data": {
      "text/plain": [
       "'I Sarah E Dough, of Currituck county, State of North  Carolina do solemnly swear or affirm in presence of Almighty God, that I will hence forth faithfully support, protect and defend the Constitution of the United States and the Union of the States thereunder; and that I will, in like manner, abide by and faithfully support all laws and proclamations which have been made during the existing rebellion with reference to the emancipation of slave. So help me God\\r\\n\\r\\nSarah. E. Dough\\r\\nsworn and subscribed to this the 1^st day of {Dec.\\r\\nA.D. 1866, before\\r\\n\\r\\nIsaac C. Merkins, J.P.'"
      ]
     },
     "execution_count": 10,
     "metadata": {},
     "output_type": "execute_result"
    }
   ],
   "source": [
    "all_text[5]"
   ]
  },
  {
   "cell_type": "code",
   "execution_count": 11,
   "id": "bea0caba",
   "metadata": {
    "execution": {
     "iopub.execute_input": "2022-06-10T08:08:11.905789Z",
     "iopub.status.busy": "2022-06-10T08:08:11.905156Z",
     "iopub.status.idle": "2022-06-10T08:08:11.910115Z",
     "shell.execute_reply": "2022-06-10T08:08:11.909408Z"
    },
    "papermill": {
     "duration": 0.024476,
     "end_time": "2022-06-10T08:08:11.911805",
     "exception": false,
     "start_time": "2022-06-10T08:08:11.887329",
     "status": "completed"
    },
    "tags": []
   },
   "outputs": [
    {
     "data": {
      "text/plain": [
       "'[[preprinted]]\\r\\nState of North Carolina, }\\r\\n^[[Randolph]] County. }\\r\\n\\r\\nI, ^[[W R Frazier]], do solemnly swear that I have never voluntarily borne arms against the United States since I have been a citizen thereof; that I have voluntarily given no aid, countenance, counsel, or encouragement to persons engaged in armed hostility thereto; that I have neither sought nor accepted, nor attempted to exercise the functions of any office whatever under any authority, or pretended authority, in hostility to the United States; that I have not yielded a voluntary support to any pretended government, authority, power or constitution within the United States, hostile or inimical thereto. And I do further swear, that, to the best of my knowledge and ability, I will support and defend the Constitution of the United States against all enemies, foreign and domestic; that I will bear true faith and allegiance to the same; that I take this obligation freely, without any mental reservation or purpose of evasion; and that I will well and faithfully discharge the duties of the office on which I am about to enter, so help me God.\\r\\n\\r\\n[[signature]] W R Frazer[[/signature]]\\r\\nSworn and subscribed before me, this ^[[6th]] day of ^[[Septr]], 1866.\\r\\n[[/preprinted]]\\r\\n[[signature]] W M Wilson [[/signature]] JP \\r\\n'"
      ]
     },
     "execution_count": 11,
     "metadata": {},
     "output_type": "execute_result"
    }
   ],
   "source": [
    "all_text[100]  "
   ]
  },
  {
   "cell_type": "code",
   "execution_count": 12,
   "id": "333240fd",
   "metadata": {
    "execution": {
     "iopub.execute_input": "2022-06-10T08:08:11.945902Z",
     "iopub.status.busy": "2022-06-10T08:08:11.945625Z",
     "iopub.status.idle": "2022-06-10T08:08:11.950774Z",
     "shell.execute_reply": "2022-06-10T08:08:11.949969Z"
    },
    "papermill": {
     "duration": 0.02477,
     "end_time": "2022-06-10T08:08:11.953393",
     "exception": false,
     "start_time": "2022-06-10T08:08:11.928623",
     "status": "completed"
    },
    "tags": []
   },
   "outputs": [
    {
     "data": {
      "text/plain": [
       "'[[preprinted]]\\r\\nState of North Carolina, }\\r\\n^[[Randolph]] County. }\\r\\n\\r\\nI, ^[[W R Frazier]], do solemnly swear that I have never voluntarily borne arms against the United States since I have been a citizen thereof; that I have voluntarily given no aid, countenance, counsel, or encouragement to persons engaged in armed hostility thereto; that I have neither sought nor accepted, nor attempted to exercise the functions of any office whatever under any authority, or pretended authority, in hostility to the United States; that I have not yielded a voluntary support to any pretended government, authority, power or constitution within the United States, hostile or inimical thereto. And I do further swear, that, to the best of my knowledge and ability, I will support and defend the Constitution of the United States against all enemies, foreign and domestic; that I will bear true faith and allegiance to the same; that I take this obligation freely, without any mental reservation or purpose of evasion; and that I will well and faithfully discharge the duties of the office on which I am about to enter, so help me God.\\r\\n\\r\\n[[signature]] W R Frazer[[/signature]]\\r\\nSworn and subscribed before me, this ^[[6th]] day of ^[[Septr]], 1866.\\r\\n[[/preprinted]]\\r\\n[[signature]] W M Wilson [[/signature]] JP \\r\\n'"
      ]
     },
     "execution_count": 12,
     "metadata": {},
     "output_type": "execute_result"
    }
   ],
   "source": [
    "all_text[100]"
   ]
  },
  {
   "cell_type": "code",
   "execution_count": 13,
   "id": "825d032e",
   "metadata": {
    "execution": {
     "iopub.execute_input": "2022-06-10T08:08:11.988029Z",
     "iopub.status.busy": "2022-06-10T08:08:11.987740Z",
     "iopub.status.idle": "2022-06-10T08:08:11.993251Z",
     "shell.execute_reply": "2022-06-10T08:08:11.992497Z"
    },
    "papermill": {
     "duration": 0.024698,
     "end_time": "2022-06-10T08:08:11.994909",
     "exception": false,
     "start_time": "2022-06-10T08:08:11.970211",
     "status": "completed"
    },
    "tags": []
   },
   "outputs": [
    {
     "data": {
      "text/plain": [
       "'[[preprinted]]\\r\\nState of North Carolina, }\\r\\n^[[Randolph]] County. }\\r\\n\\r\\nI, ^[[W R Frazier]], do solemnly swear that I have never voluntarily borne arms against the United States since I have been a citizen thereof; that I have voluntarily given no aid, countenance, counsel, or encouragement to persons engaged in armed hostility thereto; that I have neither sought nor accepted, nor attempted to exercise the functions of any office whatever under any authority, or pretended authority, in hostility to the United States; that I have not yielded a voluntary support to any pretended government, authority, power or constitution within the United States, hostile or inimical thereto. And I do further swear, that, to the best of my knowledge and ability, I will support and defend the Constitution of the United States against all enemies, foreign and domestic; that I will bear true faith and allegiance to the same; that I take this obligation freely, without any mental reservation or purpose of evasion; and that I will well and faithfully discharge the duties of the office on which I am about to enter, so help me God.\\r\\n\\r\\n[[signature]] W R Frazer[[/signature]]\\r\\nSworn and subscribed before me, this ^[[6th]] day of ^[[Septr]], 1866.\\r\\n[[/preprinted]]\\r\\n[[signature]] W M Wilson [[/signature]] JP \\r\\n'"
      ]
     },
     "execution_count": 13,
     "metadata": {},
     "output_type": "execute_result"
    }
   ],
   "source": [
    "all_text[100]"
   ]
  },
  {
   "cell_type": "code",
   "execution_count": 14,
   "id": "bc269b10",
   "metadata": {
    "execution": {
     "iopub.execute_input": "2022-06-10T08:08:12.030635Z",
     "iopub.status.busy": "2022-06-10T08:08:12.030349Z",
     "iopub.status.idle": "2022-06-10T08:08:12.035164Z",
     "shell.execute_reply": "2022-06-10T08:08:12.034432Z"
    },
    "papermill": {
     "duration": 0.024058,
     "end_time": "2022-06-10T08:08:12.036746",
     "exception": false,
     "start_time": "2022-06-10T08:08:12.012688",
     "status": "completed"
    },
    "tags": []
   },
   "outputs": [
    {
     "data": {
      "text/plain": [
       "'Copy  G6\\r\\nI, James L. Gantt solemnly swear that I have carefully read the Amnesty Proclamation issued by Andrew Johnson, President of the United States of America, on May 29th, 1865, and that I am not excepted from the benefits of that Proclamation by any one of the fourteen exceptions therein made.  /signed/ Jas L. Gantt\\r\\nSworn to and subscribed before me at Charleston, S.C. this 31 day of August 1865.\\r\\n/signed/ Levi Stuber\\r\\nMaj 47 Pa Vols\\r\\nPro Marshal\\r\\n\\r\\nNo 992\\r\\nUnites States of America\\r\\nI, James L Gantt of the City of Charleston, State of South Carolina do solemnly swear in the presence of Almighty God that I will henceforth faithfully support and defend the Constitution of the United States, and the Union of the States thereunder, and that I will in like manner, abide by and faithfully support all laws and proclamations which have been made during the existing rebellion with reference to the Emancipation of Slaves, so help me God. / signed/Jas L. Gantt\\r\\nSworn to and subscribed before me at Charleston, SC this 31 day of August 1865\\r\\n/signed/Levi Stuber\\r\\nMj 47 Pa Vols\\r\\nPM Pro Marshal\\r\\nA true copy\\r\\nJ. Milton Thompson\\r\\nCapt 33 NJV \\r\\nA A D C J & Pro Marshall\\r\\n[[left margin]] Duplicate [[\\\\left margin]]'"
      ]
     },
     "execution_count": 14,
     "metadata": {},
     "output_type": "execute_result"
    }
   ],
   "source": [
    "all_text[1200]"
   ]
  },
  {
   "cell_type": "code",
   "execution_count": 15,
   "id": "4cb1fbc7",
   "metadata": {
    "execution": {
     "iopub.execute_input": "2022-06-10T08:08:12.072158Z",
     "iopub.status.busy": "2022-06-10T08:08:12.071766Z",
     "iopub.status.idle": "2022-06-10T08:08:12.077629Z",
     "shell.execute_reply": "2022-06-10T08:08:12.076777Z"
    },
    "papermill": {
     "duration": 0.025329,
     "end_time": "2022-06-10T08:08:12.079457",
     "exception": false,
     "start_time": "2022-06-10T08:08:12.054128",
     "status": "completed"
    },
    "tags": []
   },
   "outputs": [
    {
     "data": {
      "text/plain": [
       "'Copy  G6\\r\\nI, James L. Gantt solemnly swear that I have carefully read the Amnesty Proclamation issued by Andrew Johnson, President of the United States of America, on May 29th, 1865, and that I am not excepted from the benefits of that Proclamation by any one of the fourteen exceptions therein made.  /signed/ Jas L. Gantt\\r\\nSworn to and subscribed before me at Charleston, S.C. this 31 day of August 1865.\\r\\n/signed/ Levi Stuber\\r\\nMaj 47 Pa Vols\\r\\nPro Marshal\\r\\n\\r\\nNo 992\\r\\nUnites States of America\\r\\nI, James L Gantt of the City of Charleston, State of South Carolina do solemnly swear in the presence of Almighty God that I will henceforth faithfully support and defend the Constitution of the United States, and the Union of the States thereunder, and that I will in like manner, abide by and faithfully support all laws and proclamations which have been made during the existing rebellion with reference to the Emancipation of Slaves, so help me God. / signed/Jas L. Gantt\\r\\nSworn to and subscribed before me at Charleston, SC this 31 day of August 1865\\r\\n/signed/Levi Stuber\\r\\nMj 47 Pa Vols\\r\\nPM Pro Marshal\\r\\nA true copy\\r\\nJ. Milton Thompson\\r\\nCapt 33 NJV \\r\\nA A D C J & Pro Marshall\\r\\n[[left margin]] Duplicate [[\\\\left margin]]'"
      ]
     },
     "execution_count": 15,
     "metadata": {},
     "output_type": "execute_result"
    }
   ],
   "source": [
    "all_text[1200]"
   ]
  },
  {
   "cell_type": "code",
   "execution_count": 16,
   "id": "a8c740b2",
   "metadata": {
    "execution": {
     "iopub.execute_input": "2022-06-10T08:08:12.114622Z",
     "iopub.status.busy": "2022-06-10T08:08:12.114344Z",
     "iopub.status.idle": "2022-06-10T08:08:12.119194Z",
     "shell.execute_reply": "2022-06-10T08:08:12.118494Z"
    },
    "papermill": {
     "duration": 0.02439,
     "end_time": "2022-06-10T08:08:12.120869",
     "exception": false,
     "start_time": "2022-06-10T08:08:12.096479",
     "status": "completed"
    },
    "tags": []
   },
   "outputs": [
    {
     "data": {
      "text/plain": [
       "'against the said property, but was unable to do so by reason of the absence of the Tax collector. Your petitioner therefore requests that an order be granted to her to enable her to regain possession of her premises aforesaid. (Known as No. 58 Cannon Street and held by Richard Roper as Trustee for the benefit of herself and daughters.) so that she can continue to realize an income by renting the same of which she is greatly in need.\\r\\n\\r\\nAs an evidence of loyalty your petitioner has taken the oath of allegiance, a copy of which is herein enclosed.\\r\\n\\r\\nAnd your Petitioner will ever pray: and so forth. \\r\\n\\r\\nAnne W. Gibbes\\r\\n\\r\\nCheraw So. Ca.\\r\\nSeptember 11th 1865\\r\\n\\r\\n\\r\\nDuplicate\\r\\n\\r\\n[Copy.]  \\r\\nHEADQUARTERS UNITED STATES FORCES.\\r\\nNO. 604 PROVOST MARSHAL\\'S OFFICE.\\r\\nCheraw S.C. 11th Sept 1865.\\r\\n\\r\\nI A.W. Gibs, do solemnly sear, in presence of Almighty God, that I will henceforth faithfully support and defend the Constitution of the United States and the Union of the States thereunder, and that I will in like manner, abide by and faithfully support all Laws and Proclamations which have been made during the existing Rebellion with reference to Emancipation of Slave -- \"SO HELP ME GOD.\"\\r\\n\\r\\nSworn to and subscribed before me at Cheraw S.C., this 11th day of Sept 1865.\\r\\n\\r\\nAnne W. Gibbes\\r\\nA. Austin Sperry Asst Provost Marshal.   '"
      ]
     },
     "execution_count": 16,
     "metadata": {},
     "output_type": "execute_result"
    }
   ],
   "source": [
    "all_text[1203]"
   ]
  },
  {
   "cell_type": "code",
   "execution_count": 17,
   "id": "0a3277a2",
   "metadata": {
    "execution": {
     "iopub.execute_input": "2022-06-10T08:08:12.156776Z",
     "iopub.status.busy": "2022-06-10T08:08:12.156262Z",
     "iopub.status.idle": "2022-06-10T08:08:12.161227Z",
     "shell.execute_reply": "2022-06-10T08:08:12.160427Z"
    },
    "papermill": {
     "duration": 0.025848,
     "end_time": "2022-06-10T08:08:12.164067",
     "exception": false,
     "start_time": "2022-06-10T08:08:12.138219",
     "status": "completed"
    },
    "tags": []
   },
   "outputs": [
    {
     "data": {
      "text/plain": [
       "'I, P.T. Gervais solemnly swear that I have carefully read the Amnesty Proclamation issued by ANDREW JOHNSON, President of the United States of America, on May 29th, 1865, and that I am not excepted from the benefits of that Proclamation by any one of the fourteen exceptions therein made, [[strikethrough]] except [[/strikethrough]]\\r\\n\\r\\nPaul T. Gervais\\r\\n\\r\\nSworn to and subscribed before me at Charleston SC this 1st day of oct 1865.\\r\\nJ Miller Thompson\\r\\nCp & 33 U.S.C.T. & P. M.\\r\\nNo. 1621\\r\\n\\r\\nUnited States of America\\r\\n\\r\\nPT Garvais [[Gervais]] of the [[strikethrough]] County [[/strikethrough]] Dist of Charleston State of South CA do solemnly swear in the presence of Almighty God, that I will henceforth faithfully support and defend the Constitution of the United States, and the Union of the States thereunder that I will, in like manner, abid by and faithfully support all laws and proclamations which have been made during the existing rebellion with reference to the Emancipation of Slaves---SO HELP ME GOD.\\r\\n\\r\\nPaul T. Gervais. \\r\\nSworn to and subscribed before me at Charleston SC this [[?]] day of Oct 1865.\\r\\nJ Miller Thompson\\r\\nCp & 33 USCT & P.M.\\r\\n\\r\\nThe above has Dark complexion Dark hair, and Hazel eyes; is 5 feet 4 inches high, and 41 years; by profession a Painter\\r\\n\\r\\n(The original Oaths will be transmitted, by the officer administering them, to the Department of State, through intermediate channels, and a certified copy thereof will be furnished to the applicant for pardon, to accompany his petition.)'"
      ]
     },
     "execution_count": 17,
     "metadata": {},
     "output_type": "execute_result"
    }
   ],
   "source": [
    "all_text[1201]"
   ]
  },
  {
   "cell_type": "code",
   "execution_count": 18,
   "id": "53597d5a",
   "metadata": {
    "execution": {
     "iopub.execute_input": "2022-06-10T08:08:12.199761Z",
     "iopub.status.busy": "2022-06-10T08:08:12.199483Z",
     "iopub.status.idle": "2022-06-10T08:08:12.209818Z",
     "shell.execute_reply": "2022-06-10T08:08:12.209126Z"
    },
    "papermill": {
     "duration": 0.030128,
     "end_time": "2022-06-10T08:08:12.211550",
     "exception": false,
     "start_time": "2022-06-10T08:08:12.181422",
     "status": "completed"
    },
    "tags": []
   },
   "outputs": [],
   "source": [
    "stop_words = set(stopwords.words('english'))\n",
    "punctuation = string.punctuation\n",
    "stemmer = SnowballStemmer(language=\"english\")\n",
    "lemmatizer = WordNetLemmatizer()"
   ]
  },
  {
   "cell_type": "code",
   "execution_count": 19,
   "id": "5019b0db",
   "metadata": {
    "execution": {
     "iopub.execute_input": "2022-06-10T08:08:12.247743Z",
     "iopub.status.busy": "2022-06-10T08:08:12.247425Z",
     "iopub.status.idle": "2022-06-10T08:08:12.252159Z",
     "shell.execute_reply": "2022-06-10T08:08:12.251471Z"
    },
    "papermill": {
     "duration": 0.024212,
     "end_time": "2022-06-10T08:08:12.253762",
     "exception": false,
     "start_time": "2022-06-10T08:08:12.229550",
     "status": "completed"
    },
    "tags": []
   },
   "outputs": [
    {
     "data": {
      "text/plain": [
       "'!\"#$%&\\'()*+,-./:;<=>?@[\\\\]^_`{|}~'"
      ]
     },
     "execution_count": 19,
     "metadata": {},
     "output_type": "execute_result"
    }
   ],
   "source": [
    "stop_words.remove(\"of\")\n",
    "punctuation"
   ]
  },
  {
   "cell_type": "markdown",
   "id": "38a724fa",
   "metadata": {
    "papermill": {
     "duration": 0.01705,
     "end_time": "2022-06-10T08:08:12.288162",
     "exception": false,
     "start_time": "2022-06-10T08:08:12.271112",
     "status": "completed"
    },
    "tags": []
   },
   "source": [
    "# without punctuation"
   ]
  },
  {
   "cell_type": "code",
   "execution_count": 20,
   "id": "3eaf11c9",
   "metadata": {
    "execution": {
     "iopub.execute_input": "2022-06-10T08:08:12.323590Z",
     "iopub.status.busy": "2022-06-10T08:08:12.323057Z",
     "iopub.status.idle": "2022-06-10T08:08:12.328438Z",
     "shell.execute_reply": "2022-06-10T08:08:12.327597Z"
    },
    "papermill": {
     "duration": 0.024916,
     "end_time": "2022-06-10T08:08:12.330089",
     "exception": false,
     "start_time": "2022-06-10T08:08:12.305173",
     "status": "completed"
    },
    "tags": []
   },
   "outputs": [],
   "source": [
    "def process(s):\n",
    "    s= re.sub(\"([\\(\\[]).*?([\\)\\]])\",\" \",s)\n",
    "    s = word_tokenize(s)\n",
    "    s = [w for w in s if not w in stop_words] #optional\n",
    "    s = [lemmatizer.lemmatize(word) for word in s]\n",
    "    return s"
   ]
  },
  {
   "cell_type": "code",
   "execution_count": 21,
   "id": "97822437",
   "metadata": {
    "execution": {
     "iopub.execute_input": "2022-06-10T08:08:12.365971Z",
     "iopub.status.busy": "2022-06-10T08:08:12.365679Z",
     "iopub.status.idle": "2022-06-10T08:08:20.493717Z",
     "shell.execute_reply": "2022-06-10T08:08:20.492973Z"
    },
    "papermill": {
     "duration": 8.148125,
     "end_time": "2022-06-10T08:08:20.495988",
     "exception": false,
     "start_time": "2022-06-10T08:08:12.347863",
     "status": "completed"
    },
    "tags": []
   },
   "outputs": [
    {
     "name": "stderr",
     "output_type": "stream",
     "text": [
      "100%|██████████| 2136/2136 [00:08<00:00, 263.22it/s]\n"
     ]
    }
   ],
   "source": [
    "for i in tqdm(range(newdata.shape[0])):\n",
    "    all_text[i] = process(all_text[i])"
   ]
  },
  {
   "cell_type": "code",
   "execution_count": 22,
   "id": "9d649be4",
   "metadata": {
    "execution": {
     "iopub.execute_input": "2022-06-10T08:08:20.567047Z",
     "iopub.status.busy": "2022-06-10T08:08:20.566488Z",
     "iopub.status.idle": "2022-06-10T08:08:21.276706Z",
     "shell.execute_reply": "2022-06-10T08:08:21.275727Z"
    },
    "papermill": {
     "duration": 0.747695,
     "end_time": "2022-06-10T08:08:21.278672",
     "exception": false,
     "start_time": "2022-06-10T08:08:20.530977",
     "status": "completed"
    },
    "tags": []
   },
   "outputs": [
    {
     "name": "stderr",
     "output_type": "stream",
     "text": [
      "100%|██████████| 2136/2136 [00:00<00:00, 3041.84it/s]\n"
     ]
    }
   ],
   "source": [
    "for i in tqdm(range(newdata.shape[0])):\n",
    "    all_text[i] = \" \".join(all_text[i])"
   ]
  },
  {
   "cell_type": "code",
   "execution_count": 23,
   "id": "3d33de47",
   "metadata": {
    "execution": {
     "iopub.execute_input": "2022-06-10T08:08:21.322982Z",
     "iopub.status.busy": "2022-06-10T08:08:21.322652Z",
     "iopub.status.idle": "2022-06-10T08:08:21.330742Z",
     "shell.execute_reply": "2022-06-10T08:08:21.329948Z"
    },
    "papermill": {
     "duration": 0.032114,
     "end_time": "2022-06-10T08:08:21.332493",
     "exception": false,
     "start_time": "2022-06-10T08:08:21.300379",
     "status": "completed"
    },
    "tags": []
   },
   "outputs": [
    {
     "data": {
      "text/plain": [
       "0       ] I , ] I C Meekins ] , of ] Currituck ] Count...\n",
       "1       ^ ] ] Department of Virginia North Carolina , ...\n",
       "2       ] I , ] W. H. Pearce , ] of ] Craven ] County ...\n",
       "3       State of North Carolina , } ________ County . ...\n",
       "4       State of North Carolina , Wake ] ] County . I ...\n",
       "                              ...                        \n",
       "2131    Office Provost Marshal Raleigh , N.C. May 26 '...\n",
       "2132    July 30th 1867 Birnie Wm Agent Bu R F & A L Oa...\n",
       "2133    State of North Carolina , } Robeson County . I...\n",
       "2134    NARA 449 102 We whose name written well person...\n",
       "2135    NARA 450 404 Office Provost Marshall City of W...\n",
       "Name: transcription_text, Length: 2136, dtype: object"
      ]
     },
     "execution_count": 23,
     "metadata": {},
     "output_type": "execute_result"
    }
   ],
   "source": [
    "all_text"
   ]
  },
  {
   "cell_type": "code",
   "execution_count": 24,
   "id": "f5105cc7",
   "metadata": {
    "execution": {
     "iopub.execute_input": "2022-06-10T08:08:21.376610Z",
     "iopub.status.busy": "2022-06-10T08:08:21.376319Z",
     "iopub.status.idle": "2022-06-10T08:08:21.381293Z",
     "shell.execute_reply": "2022-06-10T08:08:21.380554Z"
    },
    "papermill": {
     "duration": 0.028767,
     "end_time": "2022-06-10T08:08:21.382881",
     "exception": false,
     "start_time": "2022-06-10T08:08:21.354114",
     "status": "completed"
    },
    "tags": []
   },
   "outputs": [
    {
     "data": {
      "text/plain": [
       "'] I , ] I C Meekins ] , of ] Currituck ] County , State of North Carolina , solemnly swear affirm , presence of Almighty God , I henceforth faithfully support , protect defend Constitution of United States Union of States thereunder ; I , like manner , abide faithfully support law proclamation made existing rebellion reference emancipation of slave . So help God. ] Isaac C. Meekins ] Sworn subscribed ] 16 ] day of ] Sept ] A.D. , 1865 , ] E H Walker ] , J.P . It hereby certified true copy of original oath taken subscribed ] I C Meekins E H Walker , J.P. John B Etheridge , J.P. ] ]'"
      ]
     },
     "execution_count": 24,
     "metadata": {},
     "output_type": "execute_result"
    }
   ],
   "source": [
    "all_text[0]"
   ]
  },
  {
   "cell_type": "code",
   "execution_count": null,
   "id": "1e4b2a7b",
   "metadata": {
    "papermill": {
     "duration": 0.021113,
     "end_time": "2022-06-10T08:08:21.425473",
     "exception": false,
     "start_time": "2022-06-10T08:08:21.404360",
     "status": "completed"
    },
    "tags": []
   },
   "outputs": [],
   "source": []
  },
  {
   "cell_type": "code",
   "execution_count": null,
   "id": "a8400279",
   "metadata": {
    "papermill": {
     "duration": 0.021431,
     "end_time": "2022-06-10T08:08:21.469257",
     "exception": false,
     "start_time": "2022-06-10T08:08:21.447826",
     "status": "completed"
    },
    "tags": []
   },
   "outputs": [],
   "source": []
  },
  {
   "cell_type": "code",
   "execution_count": null,
   "id": "5a30e12a",
   "metadata": {
    "papermill": {
     "duration": 0.021068,
     "end_time": "2022-06-10T08:08:21.511766",
     "exception": false,
     "start_time": "2022-06-10T08:08:21.490698",
     "status": "completed"
    },
    "tags": []
   },
   "outputs": [],
   "source": []
  },
  {
   "cell_type": "code",
   "execution_count": null,
   "id": "23e2b4c3",
   "metadata": {
    "papermill": {
     "duration": 0.021237,
     "end_time": "2022-06-10T08:08:21.555076",
     "exception": false,
     "start_time": "2022-06-10T08:08:21.533839",
     "status": "completed"
    },
    "tags": []
   },
   "outputs": [],
   "source": []
  },
  {
   "cell_type": "code",
   "execution_count": null,
   "id": "f8b24634",
   "metadata": {
    "papermill": {
     "duration": 0.021692,
     "end_time": "2022-06-10T08:08:21.598354",
     "exception": false,
     "start_time": "2022-06-10T08:08:21.576662",
     "status": "completed"
    },
    "tags": []
   },
   "outputs": [],
   "source": []
  },
  {
   "cell_type": "markdown",
   "id": "deaca0fe",
   "metadata": {
    "papermill": {
     "duration": 0.021068,
     "end_time": "2022-06-10T08:08:21.640857",
     "exception": false,
     "start_time": "2022-06-10T08:08:21.619789",
     "status": "completed"
    },
    "tags": []
   },
   "source": [
    "# Flair"
   ]
  },
  {
   "cell_type": "code",
   "execution_count": 25,
   "id": "56aed12d",
   "metadata": {
    "execution": {
     "iopub.execute_input": "2022-06-10T08:08:21.684909Z",
     "iopub.status.busy": "2022-06-10T08:08:21.684137Z",
     "iopub.status.idle": "2022-06-10T08:09:29.813767Z",
     "shell.execute_reply": "2022-06-10T08:09:29.812633Z"
    },
    "papermill": {
     "duration": 68.154005,
     "end_time": "2022-06-10T08:09:29.816011",
     "exception": false,
     "start_time": "2022-06-10T08:08:21.662006",
     "status": "completed"
    },
    "tags": []
   },
   "outputs": [
    {
     "name": "stdout",
     "output_type": "stream",
     "text": [
      "Requirement already satisfied: Cython in /opt/conda/lib/python3.7/site-packages (0.29.30)\r\n",
      "\u001b[33mWARNING: Running pip as the 'root' user can result in broken permissions and conflicting behaviour with the system package manager. It is recommended to use a virtual environment instead: https://pip.pypa.io/warnings/venv\u001b[0m\u001b[33m\r\n",
      "\u001b[0mRequirement already satisfied: transformers in /opt/conda/lib/python3.7/site-packages (4.18.0)\r\n",
      "Requirement already satisfied: numpy>=1.17 in /opt/conda/lib/python3.7/site-packages (from transformers) (1.21.6)\r\n",
      "Requirement already satisfied: filelock in /opt/conda/lib/python3.7/site-packages (from transformers) (3.6.0)\r\n",
      "Requirement already satisfied: tokenizers!=0.11.3,<0.13,>=0.11.1 in /opt/conda/lib/python3.7/site-packages (from transformers) (0.12.1)\r\n",
      "Requirement already satisfied: pyyaml>=5.1 in /opt/conda/lib/python3.7/site-packages (from transformers) (6.0)\r\n",
      "Requirement already satisfied: importlib-metadata in /opt/conda/lib/python3.7/site-packages (from transformers) (4.11.4)\r\n",
      "Requirement already satisfied: tqdm>=4.27 in /opt/conda/lib/python3.7/site-packages (from transformers) (4.64.0)\r\n",
      "Requirement already satisfied: requests in /opt/conda/lib/python3.7/site-packages (from transformers) (2.27.1)\r\n",
      "Requirement already satisfied: sacremoses in /opt/conda/lib/python3.7/site-packages (from transformers) (0.0.53)\r\n",
      "Requirement already satisfied: huggingface-hub<1.0,>=0.1.0 in /opt/conda/lib/python3.7/site-packages (from transformers) (0.5.1)\r\n",
      "Requirement already satisfied: regex!=2019.12.17 in /opt/conda/lib/python3.7/site-packages (from transformers) (2021.11.10)\r\n",
      "Requirement already satisfied: packaging>=20.0 in /opt/conda/lib/python3.7/site-packages (from transformers) (21.3)\r\n",
      "Requirement already satisfied: typing-extensions>=3.7.4.3 in /opt/conda/lib/python3.7/site-packages (from huggingface-hub<1.0,>=0.1.0->transformers) (4.2.0)\r\n",
      "Requirement already satisfied: pyparsing!=3.0.5,>=2.0.2 in /opt/conda/lib/python3.7/site-packages (from packaging>=20.0->transformers) (3.0.9)\r\n",
      "Requirement already satisfied: zipp>=0.5 in /opt/conda/lib/python3.7/site-packages (from importlib-metadata->transformers) (3.8.0)\r\n",
      "Requirement already satisfied: idna<4,>=2.5 in /opt/conda/lib/python3.7/site-packages (from requests->transformers) (3.3)\r\n",
      "Requirement already satisfied: charset-normalizer~=2.0.0 in /opt/conda/lib/python3.7/site-packages (from requests->transformers) (2.0.12)\r\n",
      "Requirement already satisfied: certifi>=2017.4.17 in /opt/conda/lib/python3.7/site-packages (from requests->transformers) (2022.5.18.1)\r\n",
      "Requirement already satisfied: urllib3<1.27,>=1.21.1 in /opt/conda/lib/python3.7/site-packages (from requests->transformers) (1.26.9)\r\n",
      "Requirement already satisfied: six in /opt/conda/lib/python3.7/site-packages (from sacremoses->transformers) (1.16.0)\r\n",
      "Requirement already satisfied: click in /opt/conda/lib/python3.7/site-packages (from sacremoses->transformers) (8.0.4)\r\n",
      "Requirement already satisfied: joblib in /opt/conda/lib/python3.7/site-packages (from sacremoses->transformers) (1.1.0)\r\n",
      "\u001b[33mWARNING: Running pip as the 'root' user can result in broken permissions and conflicting behaviour with the system package manager. It is recommended to use a virtual environment instead: https://pip.pypa.io/warnings/venv\u001b[0m\u001b[33m\r\n",
      "\u001b[0mCollecting flair\r\n",
      "  Downloading flair-0.11.3-py3-none-any.whl (401 kB)\r\n",
      "\u001b[2K     \u001b[90m━━━━━━━━━━━━━━━━━━━━━━━━━━━━━━━━━━━━━\u001b[0m \u001b[32m401.9/401.9 kB\u001b[0m \u001b[31m597.0 kB/s\u001b[0m eta \u001b[36m0:00:00\u001b[0m\r\n",
      "\u001b[?25hCollecting langdetect\r\n",
      "  Downloading langdetect-1.0.9.tar.gz (981 kB)\r\n",
      "\u001b[2K     \u001b[90m━━━━━━━━━━━━━━━━━━━━━━━━━━━━━━━━━━━━━━━\u001b[0m \u001b[32m981.5/981.5 kB\u001b[0m \u001b[31m3.4 MB/s\u001b[0m eta \u001b[36m0:00:00\u001b[0m\r\n",
      "\u001b[?25h  Preparing metadata (setup.py) ... \u001b[?25l-\b \bdone\r\n",
      "\u001b[?25hCollecting ftfy\r\n",
      "  Downloading ftfy-6.1.1-py3-none-any.whl (53 kB)\r\n",
      "\u001b[2K     \u001b[90m━━━━━━━━━━━━━━━━━━━━━━━━━━━━━━━━━━━━━━━━\u001b[0m \u001b[32m53.1/53.1 kB\u001b[0m \u001b[31m4.6 MB/s\u001b[0m eta \u001b[36m0:00:00\u001b[0m\r\n",
      "\u001b[?25hCollecting sqlitedict>=1.6.0\r\n",
      "  Downloading sqlitedict-2.0.0.tar.gz (46 kB)\r\n",
      "\u001b[2K     \u001b[90m━━━━━━━━━━━━━━━━━━━━━━━━━━━━━━━━━━━━━━━━\u001b[0m \u001b[32m46.3/46.3 kB\u001b[0m \u001b[31m4.6 MB/s\u001b[0m eta \u001b[36m0:00:00\u001b[0m\r\n",
      "\u001b[?25h  Preparing metadata (setup.py) ... \u001b[?25l-\b \bdone\r\n",
      "\u001b[?25hRequirement already satisfied: tqdm>=4.26.0 in /opt/conda/lib/python3.7/site-packages (from flair) (4.64.0)\r\n",
      "Requirement already satisfied: scikit-learn>=0.21.3 in /opt/conda/lib/python3.7/site-packages (from flair) (1.0.2)\r\n",
      "Requirement already satisfied: transformers>=4.0.0 in /opt/conda/lib/python3.7/site-packages (from flair) (4.18.0)\r\n",
      "Collecting deprecated>=1.2.4\r\n",
      "  Downloading Deprecated-1.2.13-py2.py3-none-any.whl (9.6 kB)\r\n",
      "Requirement already satisfied: hyperopt>=0.2.7 in /opt/conda/lib/python3.7/site-packages (from flair) (0.2.7)\r\n",
      "Requirement already satisfied: huggingface-hub in /opt/conda/lib/python3.7/site-packages (from flair) (0.5.1)\r\n",
      "Collecting pptree\r\n",
      "  Downloading pptree-3.1.tar.gz (3.0 kB)\r\n",
      "  Preparing metadata (setup.py) ... \u001b[?25l-\b \bdone\r\n",
      "\u001b[?25hCollecting bpemb>=0.3.2\r\n",
      "  Downloading bpemb-0.3.3-py3-none-any.whl (19 kB)\r\n",
      "Requirement already satisfied: tabulate in /opt/conda/lib/python3.7/site-packages (from flair) (0.8.9)\r\n",
      "Requirement already satisfied: torch!=1.8,>=1.5.0 in /opt/conda/lib/python3.7/site-packages (from flair) (1.11.0)\r\n",
      "Collecting sentencepiece==0.1.95\r\n",
      "  Downloading sentencepiece-0.1.95-cp37-cp37m-manylinux2014_x86_64.whl (1.2 MB)\r\n",
      "\u001b[2K     \u001b[90m━━━━━━━━━━━━━━━━━━━━━━━━━━━━━━━━━━━━━━━━\u001b[0m \u001b[32m1.2/1.2 MB\u001b[0m \u001b[31m11.2 MB/s\u001b[0m eta \u001b[36m0:00:00\u001b[0m\r\n",
      "\u001b[?25hRequirement already satisfied: lxml in /opt/conda/lib/python3.7/site-packages (from flair) (4.8.0)\r\n",
      "Collecting konoha<5.0.0,>=4.0.0\r\n",
      "  Downloading konoha-4.6.5-py3-none-any.whl (20 kB)\r\n",
      "Collecting segtok>=1.5.7\r\n",
      "  Downloading segtok-1.5.11-py3-none-any.whl (24 kB)\r\n",
      "Requirement already satisfied: regex in /opt/conda/lib/python3.7/site-packages (from flair) (2021.11.10)\r\n",
      "Requirement already satisfied: janome in /opt/conda/lib/python3.7/site-packages (from flair) (0.4.2)\r\n",
      "Collecting mpld3==0.3\r\n",
      "  Downloading mpld3-0.3.tar.gz (788 kB)\r\n",
      "\u001b[2K     \u001b[90m━━━━━━━━━━━━━━━━━━━━━━━━━━━━━━━━━━━━━━\u001b[0m \u001b[32m788.5/788.5 kB\u001b[0m \u001b[31m19.1 MB/s\u001b[0m eta \u001b[36m0:00:00\u001b[0m\r\n",
      "\u001b[?25h  Preparing metadata (setup.py) ... \u001b[?25l-\b \bdone\r\n",
      "\u001b[?25hCollecting conllu>=4.0\r\n",
      "  Downloading conllu-4.4.2-py2.py3-none-any.whl (15 kB)\r\n",
      "Collecting wikipedia-api\r\n",
      "  Downloading Wikipedia-API-0.5.4.tar.gz (18 kB)\r\n",
      "  Preparing metadata (setup.py) ... \u001b[?25l-\b \bdone\r\n",
      "\u001b[?25hCollecting gdown==4.4.0\r\n",
      "  Downloading gdown-4.4.0.tar.gz (14 kB)\r\n",
      "  Installing build dependencies ... \u001b[?25l-\b \b\\\b \b|\b \b/\b \b-\b \b\\\b \bdone\r\n",
      "\u001b[?25h  Getting requirements to build wheel ... \u001b[?25l-\b \b\\\b \b|\b \b/\b \b-\b \bdone\r\n",
      "\u001b[?25h  Preparing metadata (pyproject.toml) ... \u001b[?25l-\b \b\\\b \b|\b \b/\b \b-\b \bdone\r\n",
      "\u001b[?25hRequirement already satisfied: matplotlib>=2.2.3 in /opt/conda/lib/python3.7/site-packages (from flair) (3.5.2)\r\n",
      "Requirement already satisfied: python-dateutil>=2.6.1 in /opt/conda/lib/python3.7/site-packages (from flair) (2.8.2)\r\n",
      "Requirement already satisfied: more-itertools in /opt/conda/lib/python3.7/site-packages (from flair) (8.13.0)\r\n",
      "Requirement already satisfied: gensim>=3.4.0 in /opt/conda/lib/python3.7/site-packages (from flair) (4.0.1)\r\n",
      "Requirement already satisfied: filelock in /opt/conda/lib/python3.7/site-packages (from gdown==4.4.0->flair) (3.6.0)\r\n",
      "Requirement already satisfied: requests[socks] in /opt/conda/lib/python3.7/site-packages (from gdown==4.4.0->flair) (2.27.1)\r\n",
      "Requirement already satisfied: six in /opt/conda/lib/python3.7/site-packages (from gdown==4.4.0->flair) (1.16.0)\r\n",
      "Requirement already satisfied: beautifulsoup4 in /opt/conda/lib/python3.7/site-packages (from gdown==4.4.0->flair) (4.11.1)\r\n",
      "Requirement already satisfied: numpy in /opt/conda/lib/python3.7/site-packages (from bpemb>=0.3.2->flair) (1.21.6)\r\n",
      "Requirement already satisfied: wrapt<2,>=1.10 in /opt/conda/lib/python3.7/site-packages (from deprecated>=1.2.4->flair) (1.14.1)\r\n",
      "Requirement already satisfied: smart-open>=1.8.1 in /opt/conda/lib/python3.7/site-packages (from gensim>=3.4.0->flair) (5.2.1)\r\n",
      "Requirement already satisfied: scipy>=0.18.1 in /opt/conda/lib/python3.7/site-packages (from gensim>=3.4.0->flair) (1.7.3)\r\n",
      "Requirement already satisfied: networkx>=2.2 in /opt/conda/lib/python3.7/site-packages (from hyperopt>=0.2.7->flair) (2.5)\r\n",
      "Requirement already satisfied: cloudpickle in /opt/conda/lib/python3.7/site-packages (from hyperopt>=0.2.7->flair) (2.0.0)\r\n",
      "Requirement already satisfied: py4j in /opt/conda/lib/python3.7/site-packages (from hyperopt>=0.2.7->flair) (0.10.9.5)\r\n",
      "Requirement already satisfied: future in /opt/conda/lib/python3.7/site-packages (from hyperopt>=0.2.7->flair) (0.18.2)\r\n",
      "Collecting importlib-metadata<4.0.0,>=3.7.0\r\n",
      "  Downloading importlib_metadata-3.10.1-py3-none-any.whl (14 kB)\r\n",
      "Collecting overrides<4.0.0,>=3.0.0\r\n",
      "  Downloading overrides-3.1.0.tar.gz (11 kB)\r\n",
      "  Preparing metadata (setup.py) ... \u001b[?25l-\b \bdone\r\n",
      "\u001b[?25hRequirement already satisfied: fonttools>=4.22.0 in /opt/conda/lib/python3.7/site-packages (from matplotlib>=2.2.3->flair) (4.33.3)\r\n",
      "Requirement already satisfied: cycler>=0.10 in /opt/conda/lib/python3.7/site-packages (from matplotlib>=2.2.3->flair) (0.11.0)\r\n",
      "Requirement already satisfied: pyparsing>=2.2.1 in /opt/conda/lib/python3.7/site-packages (from matplotlib>=2.2.3->flair) (3.0.9)\r\n",
      "Requirement already satisfied: kiwisolver>=1.0.1 in /opt/conda/lib/python3.7/site-packages (from matplotlib>=2.2.3->flair) (1.4.2)\r\n",
      "Requirement already satisfied: packaging>=20.0 in /opt/conda/lib/python3.7/site-packages (from matplotlib>=2.2.3->flair) (21.3)\r\n",
      "Requirement already satisfied: pillow>=6.2.0 in /opt/conda/lib/python3.7/site-packages (from matplotlib>=2.2.3->flair) (9.1.0)\r\n",
      "Requirement already satisfied: joblib>=0.11 in /opt/conda/lib/python3.7/site-packages (from scikit-learn>=0.21.3->flair) (1.1.0)\r\n",
      "Requirement already satisfied: threadpoolctl>=2.0.0 in /opt/conda/lib/python3.7/site-packages (from scikit-learn>=0.21.3->flair) (3.1.0)\r\n",
      "Requirement already satisfied: typing-extensions in /opt/conda/lib/python3.7/site-packages (from torch!=1.8,>=1.5.0->flair) (4.2.0)\r\n",
      "Requirement already satisfied: pyyaml>=5.1 in /opt/conda/lib/python3.7/site-packages (from transformers>=4.0.0->flair) (6.0)\r\n",
      "Requirement already satisfied: sacremoses in /opt/conda/lib/python3.7/site-packages (from transformers>=4.0.0->flair) (0.0.53)\r\n",
      "Requirement already satisfied: tokenizers!=0.11.3,<0.13,>=0.11.1 in /opt/conda/lib/python3.7/site-packages (from transformers>=4.0.0->flair) (0.12.1)\r\n",
      "Requirement already satisfied: wcwidth>=0.2.5 in /opt/conda/lib/python3.7/site-packages (from ftfy->flair) (0.2.5)\r\n",
      "Requirement already satisfied: zipp>=0.5 in /opt/conda/lib/python3.7/site-packages (from importlib-metadata<4.0.0,>=3.7.0->konoha<5.0.0,>=4.0.0->flair) (3.8.0)\r\n",
      "Requirement already satisfied: decorator>=4.3.0 in /opt/conda/lib/python3.7/site-packages (from networkx>=2.2->hyperopt>=0.2.7->flair) (5.1.1)\r\n",
      "Requirement already satisfied: urllib3<1.27,>=1.21.1 in /opt/conda/lib/python3.7/site-packages (from requests[socks]->gdown==4.4.0->flair) (1.26.9)\r\n",
      "Requirement already satisfied: charset-normalizer~=2.0.0 in /opt/conda/lib/python3.7/site-packages (from requests[socks]->gdown==4.4.0->flair) (2.0.12)\r\n",
      "Requirement already satisfied: idna<4,>=2.5 in /opt/conda/lib/python3.7/site-packages (from requests[socks]->gdown==4.4.0->flair) (3.3)\r\n",
      "Requirement already satisfied: certifi>=2017.4.17 in /opt/conda/lib/python3.7/site-packages (from requests[socks]->gdown==4.4.0->flair) (2022.5.18.1)\r\n",
      "Requirement already satisfied: soupsieve>1.2 in /opt/conda/lib/python3.7/site-packages (from beautifulsoup4->gdown==4.4.0->flair) (2.3.1)\r\n",
      "Requirement already satisfied: PySocks!=1.5.7,>=1.5.6 in /opt/conda/lib/python3.7/site-packages (from requests[socks]->gdown==4.4.0->flair) (1.7.1)\r\n",
      "Requirement already satisfied: click in /opt/conda/lib/python3.7/site-packages (from sacremoses->transformers>=4.0.0->flair) (8.0.4)\r\n",
      "Building wheels for collected packages: gdown, mpld3, sqlitedict, langdetect, pptree, wikipedia-api, overrides\r\n",
      "  Building wheel for gdown (pyproject.toml) ... \u001b[?25l-\b \b\\\b \b|\b \b/\b \b-\b \b\\\b \b|\b \b/\b \b-\b \bdone\r\n",
      "\u001b[?25h  Created wheel for gdown: filename=gdown-4.4.0-py3-none-any.whl size=14759 sha256=c0d8bf32e6e10cc8a878fc3a4e5aa798123be26f0045178d6f57d907b632dcfd\r\n",
      "  Stored in directory: /root/.cache/pip/wheels/fb/c3/0e/c4d8ff8bfcb0461afff199471449f642179b74968c15b7a69c\r\n",
      "  Building wheel for mpld3 (setup.py) ... \u001b[?25l-\b \b\\\b \bdone\r\n",
      "\u001b[?25h  Created wheel for mpld3: filename=mpld3-0.3-py3-none-any.whl size=116702 sha256=f0a509ae4e5e06986bb77854126e5455711980f2d464175a5a1443e392cbe4ea\r\n",
      "  Stored in directory: /root/.cache/pip/wheels/26/70/6a/1c79e59951a41b4045497da187b2724f5659ca64033cf4548e\r\n",
      "  Building wheel for sqlitedict (setup.py) ... \u001b[?25l-\b \bdone\r\n",
      "\u001b[?25h  Created wheel for sqlitedict: filename=sqlitedict-2.0.0-py3-none-any.whl size=15736 sha256=ea6f71f43bf47ac6dd4818718741681a6b5134a34e75014873515bfa9101a881\r\n",
      "  Stored in directory: /root/.cache/pip/wheels/96/dd/2e/0ed4a25cb73fc30c7ea8d10b50acb7226175736067e40a7ea3\r\n",
      "  Building wheel for langdetect (setup.py) ... \u001b[?25l-\b \b\\\b \b|\b \b/\b \bdone\r\n",
      "\u001b[?25h  Created wheel for langdetect: filename=langdetect-1.0.9-py3-none-any.whl size=993242 sha256=49f577a569de540146b133ff7f2f8a30eac3d55c946f172e0138fcd34fb933c9\r\n",
      "  Stored in directory: /root/.cache/pip/wheels/c5/96/8a/f90c59ed25d75e50a8c10a1b1c2d4c402e4dacfa87f3aff36a\r\n",
      "  Building wheel for pptree (setup.py) ... \u001b[?25l-\b \bdone\r\n",
      "\u001b[?25h  Created wheel for pptree: filename=pptree-3.1-py3-none-any.whl size=4629 sha256=e4976fff9e3092d6868ee8c9b521929d7e9f28a4a406c7ec951516d17befc035\r\n",
      "  Stored in directory: /root/.cache/pip/wheels/9e/e8/7d/a9c3c19b4722608a0d8b05a38c36bc3f230c43becd2a46794b\r\n",
      "  Building wheel for wikipedia-api (setup.py) ... \u001b[?25l-\b \bdone\r\n",
      "\u001b[?25h  Created wheel for wikipedia-api: filename=Wikipedia_API-0.5.4-py3-none-any.whl size=13477 sha256=e79c04bfd4069a7c743ad218a61bce843bd4a731c361ab3e64833d2e3828c3af\r\n",
      "  Stored in directory: /root/.cache/pip/wheels/d3/24/56/58ba93cf78be162451144e7a9889603f437976ef1ae7013d04\r\n",
      "  Building wheel for overrides (setup.py) ... \u001b[?25l-\b \bdone\r\n",
      "\u001b[?25h  Created wheel for overrides: filename=overrides-3.1.0-py3-none-any.whl size=10187 sha256=2c7c0bbd716da5206b36d742412eb772ae94507fc4b3a6a56d7c0819daea5386\r\n",
      "  Stored in directory: /root/.cache/pip/wheels/3a/0d/38/01a9bc6e20dcfaf0a6a7b552d03137558ba1c38aea47644682\r\n",
      "Successfully built gdown mpld3 sqlitedict langdetect pptree wikipedia-api overrides\r\n",
      "Installing collected packages: sqlitedict, sentencepiece, pptree, overrides, mpld3, segtok, langdetect, importlib-metadata, ftfy, deprecated, conllu, wikipedia-api, konoha, gdown, bpemb, flair\r\n",
      "  Attempting uninstall: sentencepiece\r\n",
      "    Found existing installation: sentencepiece 0.1.96\r\n",
      "    Uninstalling sentencepiece-0.1.96:\r\n",
      "      Successfully uninstalled sentencepiece-0.1.96\r\n",
      "  Attempting uninstall: overrides\r\n",
      "    Found existing installation: overrides 6.1.0\r\n",
      "    Uninstalling overrides-6.1.0:\r\n",
      "      Successfully uninstalled overrides-6.1.0\r\n",
      "  Attempting uninstall: mpld3\r\n",
      "    Found existing installation: mpld3 0.5.7\r\n",
      "    Uninstalling mpld3-0.5.7:\r\n",
      "      Successfully uninstalled mpld3-0.5.7\r\n",
      "  Attempting uninstall: importlib-metadata\r\n",
      "    Found existing installation: importlib-metadata 4.11.4\r\n",
      "    Uninstalling importlib-metadata-4.11.4:\r\n",
      "      Successfully uninstalled importlib-metadata-4.11.4\r\n",
      "\u001b[31mERROR: pip's dependency resolver does not currently take into account all the packages that are installed. This behaviour is the source of the following dependency conflicts.\r\n",
      "markdown 3.3.7 requires importlib-metadata>=4.4; python_version < \"3.10\", but you have importlib-metadata 3.10.1 which is incompatible.\r\n",
      "ibis-framework 2.1.1 requires importlib-metadata<5,>=4; python_version < \"3.8\", but you have importlib-metadata 3.10.1 which is incompatible.\r\n",
      "gym 0.23.1 requires importlib-metadata>=4.10.0; python_version < \"3.10\", but you have importlib-metadata 3.10.1 which is incompatible.\r\n",
      "google-cloud-pubsublite 1.4.2 requires overrides<7.0.0,>=6.0.1, but you have overrides 3.1.0 which is incompatible.\u001b[0m\u001b[31m\r\n",
      "\u001b[0mSuccessfully installed bpemb-0.3.3 conllu-4.4.2 deprecated-1.2.13 flair-0.11.3 ftfy-6.1.1 gdown-4.4.0 importlib-metadata-3.10.1 konoha-4.6.5 langdetect-1.0.9 mpld3-0.3 overrides-3.1.0 pptree-3.1 segtok-1.5.11 sentencepiece-0.1.95 sqlitedict-2.0.0 wikipedia-api-0.5.4\r\n",
      "\u001b[33mWARNING: Running pip as the 'root' user can result in broken permissions and conflicting behaviour with the system package manager. It is recommended to use a virtual environment instead: https://pip.pypa.io/warnings/venv\u001b[0m\u001b[33m\r\n",
      "\u001b[0m"
     ]
    }
   ],
   "source": [
    "!pip3 install Cython\n",
    "!pip install transformers\n",
    "!pip install flair"
   ]
  },
  {
   "cell_type": "markdown",
   "id": "e603719c",
   "metadata": {
    "papermill": {
     "duration": 0.031728,
     "end_time": "2022-06-10T08:09:29.878771",
     "exception": false,
     "start_time": "2022-06-10T08:09:29.847043",
     "status": "completed"
    },
    "tags": []
   },
   "source": [
    "# Hugging face  : Flair"
   ]
  },
  {
   "cell_type": "markdown",
   "id": "c03740a3",
   "metadata": {
    "papermill": {
     "duration": 0.030399,
     "end_time": "2022-06-10T08:09:29.939743",
     "exception": false,
     "start_time": "2022-06-10T08:09:29.909344",
     "status": "completed"
    },
    "tags": []
   },
   "source": [
    "**ner-english** "
   ]
  },
  {
   "cell_type": "code",
   "execution_count": 26,
   "id": "235e9c3c",
   "metadata": {
    "execution": {
     "iopub.execute_input": "2022-06-10T08:09:30.002542Z",
     "iopub.status.busy": "2022-06-10T08:09:30.002188Z",
     "iopub.status.idle": "2022-06-10T08:09:33.136945Z",
     "shell.execute_reply": "2022-06-10T08:09:33.135841Z"
    },
    "papermill": {
     "duration": 3.169647,
     "end_time": "2022-06-10T08:09:33.139301",
     "exception": false,
     "start_time": "2022-06-10T08:09:29.969654",
     "status": "completed"
    },
    "tags": []
   },
   "outputs": [
    {
     "name": "stdout",
     "output_type": "stream",
     "text": [
      "git: 'lfs' is not a git command. See 'git --help'.\r\n",
      "\r\n",
      "The most similar command is\r\n",
      "\tlog\r\n",
      "Cloning into 'ner-english-large'...\r\n",
      "remote: Enumerating objects: 25, done.\u001b[K\r\n",
      "remote: Counting objects: 100% (25/25), done.\u001b[K\r\n",
      "remote: Compressing objects: 100% (24/24), done.\u001b[K\r\n",
      "remote: Total 25 (delta 10), reused 0 (delta 0), pack-reused 0\r\n",
      "Unpacking objects: 100% (25/25), 11.03 KiB | 1.22 MiB/s, done.\r\n"
     ]
    }
   ],
   "source": [
    "!git lfs install\n",
    "!git clone https://huggingface.co/flair/ner-english-large"
   ]
  },
  {
   "cell_type": "code",
   "execution_count": 27,
   "id": "e2c0c199",
   "metadata": {
    "execution": {
     "iopub.execute_input": "2022-06-10T08:09:33.209657Z",
     "iopub.status.busy": "2022-06-10T08:09:33.208718Z",
     "iopub.status.idle": "2022-06-10T08:13:32.378315Z",
     "shell.execute_reply": "2022-06-10T08:13:32.377213Z"
    },
    "papermill": {
     "duration": 239.20853,
     "end_time": "2022-06-10T08:13:32.382205",
     "exception": false,
     "start_time": "2022-06-10T08:09:33.173675",
     "status": "completed"
    },
    "tags": []
   },
   "outputs": [
    {
     "data": {
      "application/vnd.jupyter.widget-view+json": {
       "model_id": "cb2e58f5cc9d46b88848c12508e27e70",
       "version_major": 2,
       "version_minor": 0
      },
      "text/plain": [
       "Downloading:   0%|          | 0.00/2.24G [00:00<?, ?B/s]"
      ]
     },
     "metadata": {},
     "output_type": "display_data"
    },
    {
     "name": "stdout",
     "output_type": "stream",
     "text": [
      "2022-06-10 08:12:56,058 loading file /root/.flair/models/ner-english-ontonotes-large/2da6c2cdd76e59113033adf670340bfd820f0301ae2e39204d67ba2dc276cc28.ec1bdb304b6c66111532c3b1fc6e522460ae73f1901848a4d0362cdf9760edb1\n"
     ]
    },
    {
     "data": {
      "application/vnd.jupyter.widget-view+json": {
       "model_id": "4a0a9739a409465b8f27aca1d777827a",
       "version_major": 2,
       "version_minor": 0
      },
      "text/plain": [
       "Downloading:   0%|          | 0.00/616 [00:00<?, ?B/s]"
      ]
     },
     "metadata": {},
     "output_type": "display_data"
    },
    {
     "data": {
      "application/vnd.jupyter.widget-view+json": {
       "model_id": "e90610480d894bfabbabc37140e0c862",
       "version_major": 2,
       "version_minor": 0
      },
      "text/plain": [
       "Downloading:   0%|          | 0.00/4.83M [00:00<?, ?B/s]"
      ]
     },
     "metadata": {},
     "output_type": "display_data"
    },
    {
     "data": {
      "application/vnd.jupyter.widget-view+json": {
       "model_id": "df4da9af8b8b4562bb651fb8a68acd74",
       "version_major": 2,
       "version_minor": 0
      },
      "text/plain": [
       "Downloading:   0%|          | 0.00/8.68M [00:00<?, ?B/s]"
      ]
     },
     "metadata": {},
     "output_type": "display_data"
    },
    {
     "name": "stdout",
     "output_type": "stream",
     "text": [
      "2022-06-10 08:13:31,733 SequenceTagger predicts: Dictionary with 76 tags: <unk>, O, B-CARDINAL, E-CARDINAL, S-PERSON, S-CARDINAL, S-PRODUCT, B-PRODUCT, I-PRODUCT, E-PRODUCT, B-WORK_OF_ART, I-WORK_OF_ART, E-WORK_OF_ART, B-PERSON, E-PERSON, S-GPE, B-DATE, I-DATE, E-DATE, S-ORDINAL, S-LANGUAGE, I-PERSON, S-EVENT, S-DATE, B-QUANTITY, E-QUANTITY, S-TIME, B-TIME, I-TIME, E-TIME, B-GPE, E-GPE, S-ORG, I-GPE, S-NORP, B-FAC, I-FAC, E-FAC, B-NORP, E-NORP, S-PERCENT, B-ORG, E-ORG, B-LANGUAGE, E-LANGUAGE, I-CARDINAL, I-ORG, S-WORK_OF_ART, I-QUANTITY, B-MONEY\n"
     ]
    }
   ],
   "source": [
    "from flair.models import SequenceTagger\n",
    "\n",
    "tagger = SequenceTagger.load(\"flair/ner-english-ontonotes-large\")"
   ]
  },
  {
   "cell_type": "code",
   "execution_count": 28,
   "id": "99da2da8",
   "metadata": {
    "execution": {
     "iopub.execute_input": "2022-06-10T08:13:32.496434Z",
     "iopub.status.busy": "2022-06-10T08:13:32.495865Z",
     "iopub.status.idle": "2022-06-10T08:14:16.358824Z",
     "shell.execute_reply": "2022-06-10T08:14:16.357972Z"
    },
    "papermill": {
     "duration": 43.916358,
     "end_time": "2022-06-10T08:14:16.361312",
     "exception": false,
     "start_time": "2022-06-10T08:13:32.444954",
     "status": "completed"
    },
    "tags": []
   },
   "outputs": [
    {
     "data": {
      "application/vnd.jupyter.widget-view+json": {
       "model_id": "c04cca97da324d9ab5adb6072143a4c3",
       "version_major": 2,
       "version_minor": 0
      },
      "text/plain": [
       "Downloading:   0%|          | 0.00/432M [00:00<?, ?B/s]"
      ]
     },
     "metadata": {},
     "output_type": "display_data"
    },
    {
     "name": "stdout",
     "output_type": "stream",
     "text": [
      "2022-06-10 08:14:13,621 loading file /root/.flair/models/ner-english/4f4cdab26f24cb98b732b389e6cebc646c36f54cfd6e0b7d3b90b25656e4262f.8baa8ae8795f4df80b28e7f7b61d788ecbb057d1dc85aacb316f1bd02837a4a4\n",
      "2022-06-10 08:14:15,460 SequenceTagger predicts: Dictionary with 20 tags: <unk>, O, S-ORG, S-MISC, B-PER, E-PER, S-LOC, B-ORG, E-ORG, I-PER, S-PER, B-MISC, I-MISC, E-MISC, I-ORG, B-LOC, E-LOC, I-LOC, <START>, <STOP>\n"
     ]
    }
   ],
   "source": [
    "from flair.models import SequenceTagger\n",
    "\n",
    "tagger1 = SequenceTagger.load(\"flair/ner-english\")"
   ]
  },
  {
   "cell_type": "code",
   "execution_count": 29,
   "id": "db5920be",
   "metadata": {
    "execution": {
     "iopub.execute_input": "2022-06-10T08:14:16.425123Z",
     "iopub.status.busy": "2022-06-10T08:14:16.424795Z",
     "iopub.status.idle": "2022-06-10T08:18:01.555456Z",
     "shell.execute_reply": "2022-06-10T08:18:01.554579Z"
    },
    "papermill": {
     "duration": 225.164676,
     "end_time": "2022-06-10T08:18:01.557719",
     "exception": false,
     "start_time": "2022-06-10T08:14:16.393043",
     "status": "completed"
    },
    "tags": []
   },
   "outputs": [
    {
     "data": {
      "application/vnd.jupyter.widget-view+json": {
       "model_id": "33ebbd0129a846ef861f571c8084db29",
       "version_major": 2,
       "version_minor": 0
      },
      "text/plain": [
       "Downloading:   0%|          | 0.00/2.24G [00:00<?, ?B/s]"
      ]
     },
     "metadata": {},
     "output_type": "display_data"
    },
    {
     "name": "stdout",
     "output_type": "stream",
     "text": [
      "2022-06-10 08:17:37,245 loading file /root/.flair/models/ner-english-large/07301f59bb8cb113803be316267f06ddf9243cdbba92a4c8067ef92442d2c574.554244d3476d97501a766a98078421817b14654496b86f2f7bd139dc502a4f29\n",
      "2022-06-10 08:18:00,910 SequenceTagger predicts: Dictionary with 20 tags: <unk>, O, S-ORG, S-MISC, B-PER, E-PER, S-LOC, B-ORG, E-ORG, I-PER, S-PER, B-MISC, I-MISC, E-MISC, I-ORG, B-LOC, E-LOC, I-LOC, <START>, <STOP>\n"
     ]
    }
   ],
   "source": [
    "from flair.models import SequenceTagger\n",
    "\n",
    "tagger2 = SequenceTagger.load(\"flair/ner-english-large\")"
   ]
  },
  {
   "cell_type": "markdown",
   "id": "c85c524e",
   "metadata": {
    "papermill": {
     "duration": 0.030745,
     "end_time": "2022-06-10T08:18:01.619595",
     "exception": false,
     "start_time": "2022-06-10T08:18:01.588850",
     "status": "completed"
    },
    "tags": []
   },
   "source": [
    "tagger3 nerenglishlarge"
   ]
  },
  {
   "cell_type": "code",
   "execution_count": 30,
   "id": "a9a01859",
   "metadata": {
    "execution": {
     "iopub.execute_input": "2022-06-10T08:18:01.682887Z",
     "iopub.status.busy": "2022-06-10T08:18:01.682069Z",
     "iopub.status.idle": "2022-06-10T08:20:02.178366Z",
     "shell.execute_reply": "2022-06-10T08:20:02.177560Z"
    },
    "papermill": {
     "duration": 120.530407,
     "end_time": "2022-06-10T08:20:02.180612",
     "exception": false,
     "start_time": "2022-06-10T08:18:01.650205",
     "status": "completed"
    },
    "tags": []
   },
   "outputs": [],
   "source": [
    "listenglarge=[]\n",
    "label=[]\n",
    "Per=[]\n",
    "ORG=[]\n",
    "LOC=[]\n",
    "from flair.data import Sentence\n",
    "\n",
    "dflarge=pd.DataFrame({\"text\":\"\", \"PERSON-nerenglarge\":[], \"LOC-nerenglarge\":\"\",\"ORG-nerenglarge\":\"\"})\n",
    "for i in range(2136):\n",
    "        sentencess =Sentence(all_text[i])\n",
    "        dflarge.loc[i,\"text\"]=all_text[i]\n",
    "        tagger2.predict(sentencess)\n",
    "        dc={}\n",
    "        P=[]\n",
    "        L=[]\n",
    "        G=[]\n",
    "        O=[]\n",
    "        for entity in sentencess.get_spans('ner'):\n",
    "                     \n",
    "                     if (entity.get_label(\"ner\").score > 0.90) & (entity.get_label(\"ner\").value != \"CARDINAL\") & (entity.get_label(\"ner\").value != \"LAW\")& (entity.get_label(\"ner\").value != \"QUANTITY\") & (entity.get_label(\"ner\").value != \"WORK_OF_ART\") & (entity.get_label(\"ner\").value != \"LAW\")& (entity.get_label(\"ner\").value != \"QUANTITY\") & (entity.get_label(\"ner\").value != \"EVENT\")  :\n",
    "                        dc[entity.text]= entity.get_label(\"ner\").value \n",
    "                        listenglarge.append(entity)\n",
    "        \n",
    "        \n",
    "        for j in dc :\n",
    "                if dc[j]==\"PER\":\n",
    "                      P.append(j)\n",
    "                elif (dc[j]==\"ORG\") | (dc[j]==\"MISC\") :\n",
    "                      O.append(j)\n",
    "                elif dc[j]==\"LOC\":\n",
    "                      L.append(j)\n",
    "               \n",
    "        Per.append(P)\n",
    "        ORG.append(O)\n",
    "        LOC.append(L)\n",
    "            \n",
    "\n",
    "dflarge[\"PERSON-nerenglarge\"]=Per\n",
    "dflarge[\"LOC-nerenglarge\"]=LOC\n",
    "dflarge[\"ORG-nerenglarge\"]=ORG                        "
   ]
  },
  {
   "cell_type": "code",
   "execution_count": 31,
   "id": "51b7554f",
   "metadata": {
    "execution": {
     "iopub.execute_input": "2022-06-10T08:20:02.244991Z",
     "iopub.status.busy": "2022-06-10T08:20:02.244673Z",
     "iopub.status.idle": "2022-06-10T08:20:02.272532Z",
     "shell.execute_reply": "2022-06-10T08:20:02.271814Z"
    },
    "papermill": {
     "duration": 0.061846,
     "end_time": "2022-06-10T08:20:02.274423",
     "exception": false,
     "start_time": "2022-06-10T08:20:02.212577",
     "status": "completed"
    },
    "tags": []
   },
   "outputs": [
    {
     "data": {
      "text/html": [
       "<div>\n",
       "<style scoped>\n",
       "    .dataframe tbody tr th:only-of-type {\n",
       "        vertical-align: middle;\n",
       "    }\n",
       "\n",
       "    .dataframe tbody tr th {\n",
       "        vertical-align: top;\n",
       "    }\n",
       "\n",
       "    .dataframe thead th {\n",
       "        text-align: right;\n",
       "    }\n",
       "</style>\n",
       "<table border=\"1\" class=\"dataframe\">\n",
       "  <thead>\n",
       "    <tr style=\"text-align: right;\">\n",
       "      <th></th>\n",
       "      <th>text</th>\n",
       "      <th>PERSON-nerenglarge</th>\n",
       "      <th>LOC-nerenglarge</th>\n",
       "      <th>ORG-nerenglarge</th>\n",
       "    </tr>\n",
       "  </thead>\n",
       "  <tbody>\n",
       "    <tr>\n",
       "      <th>0</th>\n",
       "      <td>] I , ] I C Meekins ] , of ] Currituck ] Count...</td>\n",
       "      <td>[I C Meekins, Almighty, God, Isaac C. Meekins,...</td>\n",
       "      <td>[Currituck, State of North Carolina, United St...</td>\n",
       "      <td>[Constitution]</td>\n",
       "    </tr>\n",
       "    <tr>\n",
       "      <th>1</th>\n",
       "      <td>^ ] ] Department of Virginia North Carolina , ...</td>\n",
       "      <td>[]</td>\n",
       "      <td>[North Carolina, United States, States]</td>\n",
       "      <td>[OATH PAROLE]</td>\n",
       "    </tr>\n",
       "    <tr>\n",
       "      <th>2</th>\n",
       "      <td>] I , ] W. H. Pearce , ] of ] Craven ] County ...</td>\n",
       "      <td>[W . H. Pearce, Almighty, God, Jm . E. Ampetts...</td>\n",
       "      <td>[Craven, County, State of North-Carolina, Unit...</td>\n",
       "      <td>[]</td>\n",
       "    </tr>\n",
       "    <tr>\n",
       "      <th>3</th>\n",
       "      <td>State of North Carolina , } ________ County . ...</td>\n",
       "      <td>[God]</td>\n",
       "      <td>[State of North Carolina, United States]</td>\n",
       "      <td>[Constitution]</td>\n",
       "    </tr>\n",
       "    <tr>\n",
       "      <th>4</th>\n",
       "      <td>State of North Carolina , Wake ] ] County . I ...</td>\n",
       "      <td>[S.E, Allen, God, T.D, McAlpine]</td>\n",
       "      <td>[State of North Carolina, Wake, County, United...</td>\n",
       "      <td>[Constitution, Res . Corp]</td>\n",
       "    </tr>\n",
       "    <tr>\n",
       "      <th>...</th>\n",
       "      <td>...</td>\n",
       "      <td>...</td>\n",
       "      <td>...</td>\n",
       "      <td>...</td>\n",
       "    </tr>\n",
       "    <tr>\n",
       "      <th>2131</th>\n",
       "      <td>Office Provost Marshal Raleigh , N.C. May 26 '...</td>\n",
       "      <td>[Geo . B. Ayer, Hugo Hillebrandt]</td>\n",
       "      <td>[Raleigh, N.C., Wake County, United States, No...</td>\n",
       "      <td>[]</td>\n",
       "    </tr>\n",
       "    <tr>\n",
       "      <th>2132</th>\n",
       "      <td>July 30th 1867 Birnie Wm Agent Bu R F &amp; A L Oa...</td>\n",
       "      <td>[]</td>\n",
       "      <td>[]</td>\n",
       "      <td>[Birnie Wm]</td>\n",
       "    </tr>\n",
       "    <tr>\n",
       "      <th>2133</th>\n",
       "      <td>State of North Carolina , } Robeson County . I...</td>\n",
       "      <td>[William Birnie, God, Wm Birnie, Dick J.P]</td>\n",
       "      <td>[State of North Carolina, Robeson County, Unit...</td>\n",
       "      <td>[Constitution]</td>\n",
       "    </tr>\n",
       "    <tr>\n",
       "      <th>2134</th>\n",
       "      <td>NARA 449 102 We whose name written well person...</td>\n",
       "      <td>[Price, James Fulton, Sgd W . N. Peden, Miles ...</td>\n",
       "      <td>[State of North Carolina, New Hanover County, ...</td>\n",
       "      <td>[Fulton &amp; Price, Confederate Government, Court...</td>\n",
       "    </tr>\n",
       "    <tr>\n",
       "      <th>2135</th>\n",
       "      <td>NARA 450 404 Office Provost Marshall City of W...</td>\n",
       "      <td>[James Fulton, God, Wm A. Cutler, I, Geo W. Po...</td>\n",
       "      <td>[City of Wilmington, N.C, United States, North...</td>\n",
       "      <td>[NARA, Constitution of, Slaves, Fulton &amp; Price]</td>\n",
       "    </tr>\n",
       "  </tbody>\n",
       "</table>\n",
       "<p>2136 rows × 4 columns</p>\n",
       "</div>"
      ],
      "text/plain": [
       "                                                   text  \\\n",
       "0     ] I , ] I C Meekins ] , of ] Currituck ] Count...   \n",
       "1     ^ ] ] Department of Virginia North Carolina , ...   \n",
       "2     ] I , ] W. H. Pearce , ] of ] Craven ] County ...   \n",
       "3     State of North Carolina , } ________ County . ...   \n",
       "4     State of North Carolina , Wake ] ] County . I ...   \n",
       "...                                                 ...   \n",
       "2131  Office Provost Marshal Raleigh , N.C. May 26 '...   \n",
       "2132  July 30th 1867 Birnie Wm Agent Bu R F & A L Oa...   \n",
       "2133  State of North Carolina , } Robeson County . I...   \n",
       "2134  NARA 449 102 We whose name written well person...   \n",
       "2135  NARA 450 404 Office Provost Marshall City of W...   \n",
       "\n",
       "                                     PERSON-nerenglarge  \\\n",
       "0     [I C Meekins, Almighty, God, Isaac C. Meekins,...   \n",
       "1                                                    []   \n",
       "2     [W . H. Pearce, Almighty, God, Jm . E. Ampetts...   \n",
       "3                                                 [God]   \n",
       "4                      [S.E, Allen, God, T.D, McAlpine]   \n",
       "...                                                 ...   \n",
       "2131                  [Geo . B. Ayer, Hugo Hillebrandt]   \n",
       "2132                                                 []   \n",
       "2133         [William Birnie, God, Wm Birnie, Dick J.P]   \n",
       "2134  [Price, James Fulton, Sgd W . N. Peden, Miles ...   \n",
       "2135  [James Fulton, God, Wm A. Cutler, I, Geo W. Po...   \n",
       "\n",
       "                                        LOC-nerenglarge  \\\n",
       "0     [Currituck, State of North Carolina, United St...   \n",
       "1               [North Carolina, United States, States]   \n",
       "2     [Craven, County, State of North-Carolina, Unit...   \n",
       "3              [State of North Carolina, United States]   \n",
       "4     [State of North Carolina, Wake, County, United...   \n",
       "...                                                 ...   \n",
       "2131  [Raleigh, N.C., Wake County, United States, No...   \n",
       "2132                                                 []   \n",
       "2133  [State of North Carolina, Robeson County, Unit...   \n",
       "2134  [State of North Carolina, New Hanover County, ...   \n",
       "2135  [City of Wilmington, N.C, United States, North...   \n",
       "\n",
       "                                        ORG-nerenglarge  \n",
       "0                                        [Constitution]  \n",
       "1                                         [OATH PAROLE]  \n",
       "2                                                    []  \n",
       "3                                        [Constitution]  \n",
       "4                            [Constitution, Res . Corp]  \n",
       "...                                                 ...  \n",
       "2131                                                 []  \n",
       "2132                                        [Birnie Wm]  \n",
       "2133                                     [Constitution]  \n",
       "2134  [Fulton & Price, Confederate Government, Court...  \n",
       "2135    [NARA, Constitution of, Slaves, Fulton & Price]  \n",
       "\n",
       "[2136 rows x 4 columns]"
      ]
     },
     "execution_count": 31,
     "metadata": {},
     "output_type": "execute_result"
    }
   ],
   "source": [
    "dflarge"
   ]
  },
  {
   "cell_type": "markdown",
   "id": "77a84dbc",
   "metadata": {
    "papermill": {
     "duration": 0.031783,
     "end_time": "2022-06-10T08:20:02.337490",
     "exception": false,
     "start_time": "2022-06-10T08:20:02.305707",
     "status": "completed"
    },
    "tags": []
   },
   "source": [
    "tagger1 ner english"
   ]
  },
  {
   "cell_type": "code",
   "execution_count": 32,
   "id": "588640ed",
   "metadata": {
    "execution": {
     "iopub.execute_input": "2022-06-10T08:20:02.402477Z",
     "iopub.status.busy": "2022-06-10T08:20:02.402143Z",
     "iopub.status.idle": "2022-06-10T08:28:44.286846Z",
     "shell.execute_reply": "2022-06-10T08:28:44.285983Z"
    },
    "papermill": {
     "duration": 521.919516,
     "end_time": "2022-06-10T08:28:44.289052",
     "exception": false,
     "start_time": "2022-06-10T08:20:02.369536",
     "status": "completed"
    },
    "tags": []
   },
   "outputs": [],
   "source": [
    "listeng=[]\n",
    "label=[]\n",
    "Per=[]\n",
    "ORG=[]\n",
    "LOC=[]\n",
    "from flair.data import Sentence\n",
    "\n",
    "dfner=pd.DataFrame({\"text\":\"\", \"PERSON-nerenglish\":\"\",\"LOC-nerenglish\":\"\",\"ORG-nerenglish\":[]})\n",
    "for i in range(2136):\n",
    "        sentencess =Sentence(all_text[i])\n",
    "        dfner.loc[i,\"text\"]=all_text[i]\n",
    "        tagger1.predict(sentencess)\n",
    "        dc={}\n",
    "        P=[]\n",
    "        L=[]\n",
    "        O=[]\n",
    "        for entity in sentencess.get_spans('ner'):\n",
    "                     \n",
    "                     if (entity.get_label(\"ner\").score > 0.90) & (entity.get_label(\"ner\").value != \"CARDINAL\") & (entity.get_label(\"ner\").value != \"LAW\")& (entity.get_label(\"ner\").value != \"QUANTITY\") & (entity.get_label(\"ner\").value != \"WORK_OF_ART\") & (entity.get_label(\"ner\").value != \"LAW\")& (entity.get_label(\"ner\").value != \"QUANTITY\") & (entity.get_label(\"ner\").value != \"EVENT\")  :\n",
    "                        dc[entity.text]= entity.get_label(\"ner\").value \n",
    "                        listeng.append(entity)\n",
    "        \n",
    "        \n",
    "        for j in dc :\n",
    "                if dc[j]==\"PER\":\n",
    "                      P.append(j)\n",
    "                elif (dc[j]==\"ORG\") | (dc[j]==\"MISC\") :\n",
    "                      O.append(j)\n",
    "                elif dc[j]==\"LOC\":\n",
    "                      L.append(j)\n",
    "               \n",
    "        Per.append(P)\n",
    "        ORG.append(O)\n",
    "        LOC.append(L)\n",
    "            \n",
    "\n",
    "dfner[\"PERSON-nerenglish\"]=Per\n",
    "dfner[\"LOC-nerenglish\"]=LOC\n",
    "dfner[\"ORG-nerenglish\"]=ORG                        "
   ]
  },
  {
   "cell_type": "code",
   "execution_count": 33,
   "id": "ad6a9264",
   "metadata": {
    "execution": {
     "iopub.execute_input": "2022-06-10T08:28:44.353675Z",
     "iopub.status.busy": "2022-06-10T08:28:44.352987Z",
     "iopub.status.idle": "2022-06-10T08:28:44.367041Z",
     "shell.execute_reply": "2022-06-10T08:28:44.366181Z"
    },
    "papermill": {
     "duration": 0.04832,
     "end_time": "2022-06-10T08:28:44.369672",
     "exception": false,
     "start_time": "2022-06-10T08:28:44.321352",
     "status": "completed"
    },
    "tags": []
   },
   "outputs": [
    {
     "data": {
      "text/html": [
       "<div>\n",
       "<style scoped>\n",
       "    .dataframe tbody tr th:only-of-type {\n",
       "        vertical-align: middle;\n",
       "    }\n",
       "\n",
       "    .dataframe tbody tr th {\n",
       "        vertical-align: top;\n",
       "    }\n",
       "\n",
       "    .dataframe thead th {\n",
       "        text-align: right;\n",
       "    }\n",
       "</style>\n",
       "<table border=\"1\" class=\"dataframe\">\n",
       "  <thead>\n",
       "    <tr style=\"text-align: right;\">\n",
       "      <th></th>\n",
       "      <th>text</th>\n",
       "      <th>PERSON-nerenglish</th>\n",
       "      <th>LOC-nerenglish</th>\n",
       "      <th>ORG-nerenglish</th>\n",
       "    </tr>\n",
       "  </thead>\n",
       "  <tbody>\n",
       "    <tr>\n",
       "      <th>0</th>\n",
       "      <td>] I , ] I C Meekins ] , of ] Currituck ] Count...</td>\n",
       "      <td>[God, Isaac C. Meekins, I C Meekins E H Walker...</td>\n",
       "      <td>[Currituck ] County]</td>\n",
       "      <td>[]</td>\n",
       "    </tr>\n",
       "    <tr>\n",
       "      <th>1</th>\n",
       "      <td>^ ] ] Department of Virginia North Carolina , ...</td>\n",
       "      <td>[]</td>\n",
       "      <td>[United States]</td>\n",
       "      <td>[]</td>\n",
       "    </tr>\n",
       "    <tr>\n",
       "      <th>2</th>\n",
       "      <td>] I , ] W. H. Pearce , ] of ] Craven ] County ...</td>\n",
       "      <td>[H. Pearce, God, E. Ampetts, B. Watson]</td>\n",
       "      <td>[Craven ] County, State of North-Carolina]</td>\n",
       "      <td>[]</td>\n",
       "    </tr>\n",
       "    <tr>\n",
       "      <th>3</th>\n",
       "      <td>State of North Carolina , } ________ County . ...</td>\n",
       "      <td>[God, Sworn]</td>\n",
       "      <td>[United States]</td>\n",
       "      <td>[]</td>\n",
       "    </tr>\n",
       "    <tr>\n",
       "      <th>4</th>\n",
       "      <td>State of North Carolina , Wake ] ] County . I ...</td>\n",
       "      <td>[Allen, God, Allen Sworn]</td>\n",
       "      <td>[United States]</td>\n",
       "      <td>[]</td>\n",
       "    </tr>\n",
       "  </tbody>\n",
       "</table>\n",
       "</div>"
      ],
      "text/plain": [
       "                                                text  \\\n",
       "0  ] I , ] I C Meekins ] , of ] Currituck ] Count...   \n",
       "1  ^ ] ] Department of Virginia North Carolina , ...   \n",
       "2  ] I , ] W. H. Pearce , ] of ] Craven ] County ...   \n",
       "3  State of North Carolina , } ________ County . ...   \n",
       "4  State of North Carolina , Wake ] ] County . I ...   \n",
       "\n",
       "                                   PERSON-nerenglish  \\\n",
       "0  [God, Isaac C. Meekins, I C Meekins E H Walker...   \n",
       "1                                                 []   \n",
       "2            [H. Pearce, God, E. Ampetts, B. Watson]   \n",
       "3                                       [God, Sworn]   \n",
       "4                          [Allen, God, Allen Sworn]   \n",
       "\n",
       "                               LOC-nerenglish ORG-nerenglish  \n",
       "0                        [Currituck ] County]             []  \n",
       "1                             [United States]             []  \n",
       "2  [Craven ] County, State of North-Carolina]             []  \n",
       "3                             [United States]             []  \n",
       "4                             [United States]             []  "
      ]
     },
     "execution_count": 33,
     "metadata": {},
     "output_type": "execute_result"
    }
   ],
   "source": [
    "dfner.head()"
   ]
  },
  {
   "cell_type": "markdown",
   "id": "bf78b82f",
   "metadata": {
    "papermill": {
     "duration": 0.030801,
     "end_time": "2022-06-10T08:28:44.432327",
     "exception": false,
     "start_time": "2022-06-10T08:28:44.401526",
     "status": "completed"
    },
    "tags": []
   },
   "source": [
    "tagger 2 ontonotes"
   ]
  },
  {
   "cell_type": "code",
   "execution_count": 34,
   "id": "1722951d",
   "metadata": {
    "execution": {
     "iopub.execute_input": "2022-06-10T08:28:44.495502Z",
     "iopub.status.busy": "2022-06-10T08:28:44.494888Z",
     "iopub.status.idle": "2022-06-10T08:30:42.685643Z",
     "shell.execute_reply": "2022-06-10T08:30:42.684798Z"
    },
    "papermill": {
     "duration": 118.224902,
     "end_time": "2022-06-10T08:30:42.688136",
     "exception": false,
     "start_time": "2022-06-10T08:28:44.463234",
     "status": "completed"
    },
    "tags": []
   },
   "outputs": [],
   "source": [
    "listoto=[]\n",
    "label=[]\n",
    "Per=[]\n",
    "Date=[]\n",
    "GPE=[]\n",
    "ORG=[]\n",
    "from flair.data import Sentence\n",
    "\n",
    "aldf=pd.DataFrame({\"text\":\"\", \"PERSON-ontonotes\":[], \"GPE-ontonotes\":\"\",\"ORG-ontonotes\":\"\", \"Date-ontonotes\":\"\"})\n",
    "for i in range(2136):\n",
    "        sentencess =Sentence(all_text[i])\n",
    "        aldf.loc[i,\"text\"]=all_text[i]\n",
    "        tagger.predict(sentencess)\n",
    "        dc={}\n",
    "        P=[]\n",
    "        D=[]\n",
    "        G=[]\n",
    "        O=[]\n",
    "        for entity in sentencess.get_spans('ner'):\n",
    "                     \n",
    "                     if (entity.get_label(\"ner\").score > 0.98) & (entity.get_label(\"ner\").value != \"CARDINAL\") & (entity.get_label(\"ner\").value != \"LAW\")& (entity.get_label(\"ner\").value != \"QUANTITY\") & (entity.get_label(\"ner\").value != \"WORK_OF_ART\") & (entity.get_label(\"ner\").value != \"LAW\")& (entity.get_label(\"ner\").value != \"QUANTITY\") & (entity.get_label(\"ner\").value != \"EVENT\")  :\n",
    "                        dc[entity.text]= entity.get_label(\"ner\").value \n",
    "                        listoto.append(entity)\n",
    "        \n",
    "        \n",
    "        for j in dc :\n",
    "                if dc[j]==\"PERSON\":\n",
    "                      P.append(j)\n",
    "                elif dc[j]==\"ORG\":\n",
    "                      O.append(j)\n",
    "                elif dc[j]==\"DATE\":\n",
    "                      D.append(j)\n",
    "                elif dc[j]==\"GPE\":\n",
    "                      G.append(j)\n",
    "        Per.append(P)\n",
    "        Date.append(D)\n",
    "        ORG.append(O)\n",
    "        GPE.append(G)\n",
    "            \n",
    "aldf[\"Date-ontonotes\"]=Date\n",
    "aldf[\"PERSON-ontonotes\"]=Per\n",
    "aldf[\"GPE-ontonotes\"]=GPE\n",
    "aldf[\"ORG-ontonotes\"]=ORG    "
   ]
  },
  {
   "cell_type": "code",
   "execution_count": 35,
   "id": "d8b2ccca",
   "metadata": {
    "execution": {
     "iopub.execute_input": "2022-06-10T08:30:42.793534Z",
     "iopub.status.busy": "2022-06-10T08:30:42.792790Z",
     "iopub.status.idle": "2022-06-10T08:30:42.799293Z",
     "shell.execute_reply": "2022-06-10T08:30:42.798574Z"
    },
    "papermill": {
     "duration": 0.060236,
     "end_time": "2022-06-10T08:30:42.801235",
     "exception": false,
     "start_time": "2022-06-10T08:30:42.740999",
     "status": "completed"
    },
    "tags": []
   },
   "outputs": [
    {
     "data": {
      "text/plain": [
       "(2136, 5)"
      ]
     },
     "execution_count": 35,
     "metadata": {},
     "output_type": "execute_result"
    }
   ],
   "source": [
    "aldf.shape"
   ]
  },
  {
   "cell_type": "code",
   "execution_count": 36,
   "id": "7cee651d",
   "metadata": {
    "execution": {
     "iopub.execute_input": "2022-06-10T08:30:42.865906Z",
     "iopub.status.busy": "2022-06-10T08:30:42.865346Z",
     "iopub.status.idle": "2022-06-10T08:30:42.880821Z",
     "shell.execute_reply": "2022-06-10T08:30:42.879994Z"
    },
    "papermill": {
     "duration": 0.050888,
     "end_time": "2022-06-10T08:30:42.883446",
     "exception": false,
     "start_time": "2022-06-10T08:30:42.832558",
     "status": "completed"
    },
    "tags": []
   },
   "outputs": [
    {
     "data": {
      "text/html": [
       "<div>\n",
       "<style scoped>\n",
       "    .dataframe tbody tr th:only-of-type {\n",
       "        vertical-align: middle;\n",
       "    }\n",
       "\n",
       "    .dataframe tbody tr th {\n",
       "        vertical-align: top;\n",
       "    }\n",
       "\n",
       "    .dataframe thead th {\n",
       "        text-align: right;\n",
       "    }\n",
       "</style>\n",
       "<table border=\"1\" class=\"dataframe\">\n",
       "  <thead>\n",
       "    <tr style=\"text-align: right;\">\n",
       "      <th></th>\n",
       "      <th>text</th>\n",
       "      <th>PERSON-ontonotes</th>\n",
       "      <th>GPE-ontonotes</th>\n",
       "      <th>ORG-ontonotes</th>\n",
       "      <th>Date-ontonotes</th>\n",
       "    </tr>\n",
       "  </thead>\n",
       "  <tbody>\n",
       "    <tr>\n",
       "      <th>0</th>\n",
       "      <td>] I , ] I C Meekins ] , of ] Currituck ] Count...</td>\n",
       "      <td>[I C Meekins, Isaac C. Meekins, E H Walker]</td>\n",
       "      <td>[North Carolina]</td>\n",
       "      <td>[]</td>\n",
       "      <td>[16 ] day of ] Sept ] A.D . , 1865]</td>\n",
       "    </tr>\n",
       "    <tr>\n",
       "      <th>1</th>\n",
       "      <td>^ ] ] Department of Virginia North Carolina , ...</td>\n",
       "      <td>[]</td>\n",
       "      <td>[North Carolina, United States]</td>\n",
       "      <td>[Department of Virginia]</td>\n",
       "      <td>[1864]</td>\n",
       "    </tr>\n",
       "    <tr>\n",
       "      <th>2</th>\n",
       "      <td>] I , ] W. H. Pearce , ] of ] Craven ] County ...</td>\n",
       "      <td>[W . H. Pearce]</td>\n",
       "      <td>[]</td>\n",
       "      <td>[]</td>\n",
       "      <td>[3rd ] day of ] October , ] A.D . , 1865]</td>\n",
       "    </tr>\n",
       "    <tr>\n",
       "      <th>3</th>\n",
       "      <td>State of North Carolina , } ________ County . ...</td>\n",
       "      <td>[]</td>\n",
       "      <td>[North Carolina, United States]</td>\n",
       "      <td>[]</td>\n",
       "      <td>[______ day of ____________ , 1866]</td>\n",
       "    </tr>\n",
       "    <tr>\n",
       "      <th>4</th>\n",
       "      <td>State of North Carolina , Wake ] ] County . I ...</td>\n",
       "      <td>[S.E . Allen]</td>\n",
       "      <td>[North Carolina, United States]</td>\n",
       "      <td>[]</td>\n",
       "      <td>[31st day of May , 1867]</td>\n",
       "    </tr>\n",
       "  </tbody>\n",
       "</table>\n",
       "</div>"
      ],
      "text/plain": [
       "                                                text  \\\n",
       "0  ] I , ] I C Meekins ] , of ] Currituck ] Count...   \n",
       "1  ^ ] ] Department of Virginia North Carolina , ...   \n",
       "2  ] I , ] W. H. Pearce , ] of ] Craven ] County ...   \n",
       "3  State of North Carolina , } ________ County . ...   \n",
       "4  State of North Carolina , Wake ] ] County . I ...   \n",
       "\n",
       "                              PERSON-ontonotes  \\\n",
       "0  [I C Meekins, Isaac C. Meekins, E H Walker]   \n",
       "1                                           []   \n",
       "2                              [W . H. Pearce]   \n",
       "3                                           []   \n",
       "4                                [S.E . Allen]   \n",
       "\n",
       "                     GPE-ontonotes             ORG-ontonotes  \\\n",
       "0                 [North Carolina]                        []   \n",
       "1  [North Carolina, United States]  [Department of Virginia]   \n",
       "2                               []                        []   \n",
       "3  [North Carolina, United States]                        []   \n",
       "4  [North Carolina, United States]                        []   \n",
       "\n",
       "                              Date-ontonotes  \n",
       "0        [16 ] day of ] Sept ] A.D . , 1865]  \n",
       "1                                     [1864]  \n",
       "2  [3rd ] day of ] October , ] A.D . , 1865]  \n",
       "3        [______ day of ____________ , 1866]  \n",
       "4                   [31st day of May , 1867]  "
      ]
     },
     "execution_count": 36,
     "metadata": {},
     "output_type": "execute_result"
    }
   ],
   "source": [
    "aldf.head()"
   ]
  },
  {
   "cell_type": "code",
   "execution_count": 37,
   "id": "d4399ce0",
   "metadata": {
    "execution": {
     "iopub.execute_input": "2022-06-10T08:30:42.948323Z",
     "iopub.status.busy": "2022-06-10T08:30:42.948016Z",
     "iopub.status.idle": "2022-06-10T08:30:42.953233Z",
     "shell.execute_reply": "2022-06-10T08:30:42.952404Z"
    },
    "papermill": {
     "duration": 0.040379,
     "end_time": "2022-06-10T08:30:42.955710",
     "exception": false,
     "start_time": "2022-06-10T08:30:42.915331",
     "status": "completed"
    },
    "tags": []
   },
   "outputs": [
    {
     "data": {
      "text/plain": [
       "(2136, 5)"
      ]
     },
     "execution_count": 37,
     "metadata": {},
     "output_type": "execute_result"
    }
   ],
   "source": [
    "aldf.shape"
   ]
  },
  {
   "cell_type": "markdown",
   "id": "56a971e4",
   "metadata": {
    "papermill": {
     "duration": 0.032158,
     "end_time": "2022-06-10T08:30:43.019902",
     "exception": false,
     "start_time": "2022-06-10T08:30:42.987744",
     "status": "completed"
    },
    "tags": []
   },
   "source": [
    "# Post processing"
   ]
  },
  {
   "cell_type": "markdown",
   "id": "0eaf364c",
   "metadata": {
    "papermill": {
     "duration": 0.031122,
     "end_time": "2022-06-10T08:30:43.083034",
     "exception": false,
     "start_time": "2022-06-10T08:30:43.051912",
     "status": "completed"
    },
    "tags": []
   },
   "source": [
    "**For dates**"
   ]
  },
  {
   "cell_type": "code",
   "execution_count": 38,
   "id": "0ae745fc",
   "metadata": {
    "execution": {
     "iopub.execute_input": "2022-06-10T08:30:43.147512Z",
     "iopub.status.busy": "2022-06-10T08:30:43.147245Z",
     "iopub.status.idle": "2022-06-10T08:30:43.209904Z",
     "shell.execute_reply": "2022-06-10T08:30:43.209223Z"
    },
    "papermill": {
     "duration": 0.096574,
     "end_time": "2022-06-10T08:30:43.211544",
     "exception": false,
     "start_time": "2022-06-10T08:30:43.114970",
     "status": "completed"
    },
    "tags": []
   },
   "outputs": [],
   "source": [
    "G=[]\n",
    "for i in aldf[\"Date-ontonotes\"]:\n",
    "    M=[]\n",
    "    for j in i:\n",
    "        date=re.search(r'^\\d\\.*.*\\d\\d$' ,j)\n",
    "        date2=re.search(r'^[A-ZZa-z]\\.*.*\\d\\.*.*\\d\\d$' ,j)\n",
    "        M.append(date)\n",
    "        M.append(date2)\n",
    "    G.append(M)\n",
    "    \n",
    "\n",
    "GF=[]\n",
    "for i in G:\n",
    "    Final_date=[]\n",
    "    for j in i:\n",
    "        if j!=None:\n",
    "            Final_date.append(j.group())\n",
    "    GF.append(Final_date)\n",
    "\n",
    "    \n",
    "aldf[\"postDate-ontonotes\"]=GF\n",
    "            \n",
    "            \n",
    "        "
   ]
  },
  {
   "cell_type": "markdown",
   "id": "5d8bb124",
   "metadata": {
    "papermill": {
     "duration": 0.031562,
     "end_time": "2022-06-10T08:30:43.274650",
     "exception": false,
     "start_time": "2022-06-10T08:30:43.243088",
     "status": "completed"
    },
    "tags": []
   },
   "source": [
    "# Run this to see the extracted dates before filtring them "
   ]
  },
  {
   "cell_type": "code",
   "execution_count": 39,
   "id": "567ce749",
   "metadata": {
    "execution": {
     "iopub.execute_input": "2022-06-10T08:30:43.340159Z",
     "iopub.status.busy": "2022-06-10T08:30:43.339680Z",
     "iopub.status.idle": "2022-06-10T08:30:43.343076Z",
     "shell.execute_reply": "2022-06-10T08:30:43.342329Z"
    },
    "papermill": {
     "duration": 0.037676,
     "end_time": "2022-06-10T08:30:43.344709",
     "exception": false,
     "start_time": "2022-06-10T08:30:43.307033",
     "status": "completed"
    },
    "tags": []
   },
   "outputs": [],
   "source": [
    "#GF"
   ]
  },
  {
   "cell_type": "code",
   "execution_count": 40,
   "id": "1b4df375",
   "metadata": {
    "execution": {
     "iopub.execute_input": "2022-06-10T08:30:43.460325Z",
     "iopub.status.busy": "2022-06-10T08:30:43.459659Z",
     "iopub.status.idle": "2022-06-10T08:30:43.591637Z",
     "shell.execute_reply": "2022-06-10T08:30:43.590930Z"
    },
    "papermill": {
     "duration": 0.166802,
     "end_time": "2022-06-10T08:30:43.593591",
     "exception": false,
     "start_time": "2022-06-10T08:30:43.426789",
     "status": "completed"
    },
    "tags": []
   },
   "outputs": [],
   "source": [
    "G=[]\n",
    "for i in aldf[\"postDate-ontonotes\"]:\n",
    "    M=[]\n",
    "    for j in i:\n",
    "        Final_date1=re.sub(r'([0-9]{1,2})\\.*.*\\s([A-Z][a-z]\\S*)\\.*.*\\s([0-9]{2,4})',r'\\1-\\2-\\3' ,j)\n",
    "        Final_date2=re.sub(r'([A-Z]\\.*.*)\\s([0-9]{1,2})\\.*.*\\s([0-9]{2,4})',r'\\2-\\1-\\3' ,j)\n",
    "        final_date3=re.sub(r'([A-Z][a-z]\\S*)\\.*.*\\s([A-Z][a-z]\\S*)\\.*.*\\s([0-9]{2,4})',r'\\1-\\2-\\3' ,j)\n",
    "        final_date4=re.sub(r'(^[A-Za-z]\\S*.*.)day\\.*.*\\s([A-Z][a-z]\\S*)\\.*.*\\s([0-9]{2,4})',r'\\1-\\2-\\3' ,j)\n",
    "        if Final_date1 != j:   \n",
    "            M.append(Final_date1)\n",
    "        if Final_date2 != j :\n",
    "            M.append(Final_date2)\n",
    "        if final_date3 != j :\n",
    "            M.append(final_date3)\n",
    "        if final_date4 != j :\n",
    "            M.append(final_date4)\n",
    "    G.append(M)\n",
    "    \n",
    "\n",
    "aldf[\"postDate-ontonotes\"]=G"
   ]
  },
  {
   "cell_type": "markdown",
   "id": "f7ad7a5d",
   "metadata": {
    "papermill": {
     "duration": 0.031724,
     "end_time": "2022-06-10T08:30:43.657231",
     "exception": false,
     "start_time": "2022-06-10T08:30:43.625507",
     "status": "completed"
    },
    "tags": []
   },
   "source": [
    "**great !**"
   ]
  },
  {
   "cell_type": "markdown",
   "id": "11c9c3e1",
   "metadata": {
    "papermill": {
     "duration": 0.031295,
     "end_time": "2022-06-10T08:30:43.719821",
     "exception": false,
     "start_time": "2022-06-10T08:30:43.688526",
     "status": "completed"
    },
    "tags": []
   },
   "source": [
    "****"
   ]
  },
  {
   "cell_type": "markdown",
   "id": "f7669e4b",
   "metadata": {
    "papermill": {
     "duration": 0.03119,
     "end_time": "2022-06-10T08:30:43.782730",
     "exception": false,
     "start_time": "2022-06-10T08:30:43.751540",
     "status": "completed"
    },
    "tags": []
   },
   "source": [
    "****"
   ]
  },
  {
   "cell_type": "code",
   "execution_count": 41,
   "id": "bbb69813",
   "metadata": {
    "execution": {
     "iopub.execute_input": "2022-06-10T08:30:43.847512Z",
     "iopub.status.busy": "2022-06-10T08:30:43.846889Z",
     "iopub.status.idle": "2022-06-10T08:30:43.861359Z",
     "shell.execute_reply": "2022-06-10T08:30:43.860525Z"
    },
    "papermill": {
     "duration": 0.050085,
     "end_time": "2022-06-10T08:30:43.864389",
     "exception": false,
     "start_time": "2022-06-10T08:30:43.814304",
     "status": "completed"
    },
    "tags": []
   },
   "outputs": [
    {
     "data": {
      "text/html": [
       "<div>\n",
       "<style scoped>\n",
       "    .dataframe tbody tr th:only-of-type {\n",
       "        vertical-align: middle;\n",
       "    }\n",
       "\n",
       "    .dataframe tbody tr th {\n",
       "        vertical-align: top;\n",
       "    }\n",
       "\n",
       "    .dataframe thead th {\n",
       "        text-align: right;\n",
       "    }\n",
       "</style>\n",
       "<table border=\"1\" class=\"dataframe\">\n",
       "  <thead>\n",
       "    <tr style=\"text-align: right;\">\n",
       "      <th></th>\n",
       "      <th>text</th>\n",
       "      <th>PERSON-nerenglarge</th>\n",
       "      <th>LOC-nerenglarge</th>\n",
       "      <th>ORG-nerenglarge</th>\n",
       "    </tr>\n",
       "  </thead>\n",
       "  <tbody>\n",
       "    <tr>\n",
       "      <th>0</th>\n",
       "      <td>] I , ] I C Meekins ] , of ] Currituck ] Count...</td>\n",
       "      <td>[I C Meekins, Almighty, God, Isaac C. Meekins,...</td>\n",
       "      <td>[Currituck, State of North Carolina, United St...</td>\n",
       "      <td>[Constitution]</td>\n",
       "    </tr>\n",
       "    <tr>\n",
       "      <th>1</th>\n",
       "      <td>^ ] ] Department of Virginia North Carolina , ...</td>\n",
       "      <td>[]</td>\n",
       "      <td>[North Carolina, United States, States]</td>\n",
       "      <td>[OATH PAROLE]</td>\n",
       "    </tr>\n",
       "    <tr>\n",
       "      <th>2</th>\n",
       "      <td>] I , ] W. H. Pearce , ] of ] Craven ] County ...</td>\n",
       "      <td>[W . H. Pearce, Almighty, God, Jm . E. Ampetts...</td>\n",
       "      <td>[Craven, County, State of North-Carolina, Unit...</td>\n",
       "      <td>[]</td>\n",
       "    </tr>\n",
       "    <tr>\n",
       "      <th>3</th>\n",
       "      <td>State of North Carolina , } ________ County . ...</td>\n",
       "      <td>[God]</td>\n",
       "      <td>[State of North Carolina, United States]</td>\n",
       "      <td>[Constitution]</td>\n",
       "    </tr>\n",
       "    <tr>\n",
       "      <th>4</th>\n",
       "      <td>State of North Carolina , Wake ] ] County . I ...</td>\n",
       "      <td>[S.E, Allen, God, T.D, McAlpine]</td>\n",
       "      <td>[State of North Carolina, Wake, County, United...</td>\n",
       "      <td>[Constitution, Res . Corp]</td>\n",
       "    </tr>\n",
       "  </tbody>\n",
       "</table>\n",
       "</div>"
      ],
      "text/plain": [
       "                                                text  \\\n",
       "0  ] I , ] I C Meekins ] , of ] Currituck ] Count...   \n",
       "1  ^ ] ] Department of Virginia North Carolina , ...   \n",
       "2  ] I , ] W. H. Pearce , ] of ] Craven ] County ...   \n",
       "3  State of North Carolina , } ________ County . ...   \n",
       "4  State of North Carolina , Wake ] ] County . I ...   \n",
       "\n",
       "                                  PERSON-nerenglarge  \\\n",
       "0  [I C Meekins, Almighty, God, Isaac C. Meekins,...   \n",
       "1                                                 []   \n",
       "2  [W . H. Pearce, Almighty, God, Jm . E. Ampetts...   \n",
       "3                                              [God]   \n",
       "4                   [S.E, Allen, God, T.D, McAlpine]   \n",
       "\n",
       "                                     LOC-nerenglarge  \\\n",
       "0  [Currituck, State of North Carolina, United St...   \n",
       "1            [North Carolina, United States, States]   \n",
       "2  [Craven, County, State of North-Carolina, Unit...   \n",
       "3           [State of North Carolina, United States]   \n",
       "4  [State of North Carolina, Wake, County, United...   \n",
       "\n",
       "              ORG-nerenglarge  \n",
       "0              [Constitution]  \n",
       "1               [OATH PAROLE]  \n",
       "2                          []  \n",
       "3              [Constitution]  \n",
       "4  [Constitution, Res . Corp]  "
      ]
     },
     "execution_count": 41,
     "metadata": {},
     "output_type": "execute_result"
    }
   ],
   "source": [
    "dflarge.head()"
   ]
  },
  {
   "cell_type": "code",
   "execution_count": 42,
   "id": "6827a0f8",
   "metadata": {
    "execution": {
     "iopub.execute_input": "2022-06-10T08:30:43.928910Z",
     "iopub.status.busy": "2022-06-10T08:30:43.928652Z",
     "iopub.status.idle": "2022-06-10T08:30:43.941884Z",
     "shell.execute_reply": "2022-06-10T08:30:43.941067Z"
    },
    "papermill": {
     "duration": 0.048787,
     "end_time": "2022-06-10T08:30:43.944747",
     "exception": false,
     "start_time": "2022-06-10T08:30:43.895960",
     "status": "completed"
    },
    "tags": []
   },
   "outputs": [
    {
     "data": {
      "text/html": [
       "<div>\n",
       "<style scoped>\n",
       "    .dataframe tbody tr th:only-of-type {\n",
       "        vertical-align: middle;\n",
       "    }\n",
       "\n",
       "    .dataframe tbody tr th {\n",
       "        vertical-align: top;\n",
       "    }\n",
       "\n",
       "    .dataframe thead th {\n",
       "        text-align: right;\n",
       "    }\n",
       "</style>\n",
       "<table border=\"1\" class=\"dataframe\">\n",
       "  <thead>\n",
       "    <tr style=\"text-align: right;\">\n",
       "      <th></th>\n",
       "      <th>text</th>\n",
       "      <th>PERSON-nerenglish</th>\n",
       "      <th>LOC-nerenglish</th>\n",
       "      <th>ORG-nerenglish</th>\n",
       "    </tr>\n",
       "  </thead>\n",
       "  <tbody>\n",
       "    <tr>\n",
       "      <th>0</th>\n",
       "      <td>] I , ] I C Meekins ] , of ] Currituck ] Count...</td>\n",
       "      <td>[God, Isaac C. Meekins, I C Meekins E H Walker...</td>\n",
       "      <td>[Currituck ] County]</td>\n",
       "      <td>[]</td>\n",
       "    </tr>\n",
       "    <tr>\n",
       "      <th>1</th>\n",
       "      <td>^ ] ] Department of Virginia North Carolina , ...</td>\n",
       "      <td>[]</td>\n",
       "      <td>[United States]</td>\n",
       "      <td>[]</td>\n",
       "    </tr>\n",
       "    <tr>\n",
       "      <th>2</th>\n",
       "      <td>] I , ] W. H. Pearce , ] of ] Craven ] County ...</td>\n",
       "      <td>[H. Pearce, God, E. Ampetts, B. Watson]</td>\n",
       "      <td>[Craven ] County, State of North-Carolina]</td>\n",
       "      <td>[]</td>\n",
       "    </tr>\n",
       "    <tr>\n",
       "      <th>3</th>\n",
       "      <td>State of North Carolina , } ________ County . ...</td>\n",
       "      <td>[God, Sworn]</td>\n",
       "      <td>[United States]</td>\n",
       "      <td>[]</td>\n",
       "    </tr>\n",
       "    <tr>\n",
       "      <th>4</th>\n",
       "      <td>State of North Carolina , Wake ] ] County . I ...</td>\n",
       "      <td>[Allen, God, Allen Sworn]</td>\n",
       "      <td>[United States]</td>\n",
       "      <td>[]</td>\n",
       "    </tr>\n",
       "  </tbody>\n",
       "</table>\n",
       "</div>"
      ],
      "text/plain": [
       "                                                text  \\\n",
       "0  ] I , ] I C Meekins ] , of ] Currituck ] Count...   \n",
       "1  ^ ] ] Department of Virginia North Carolina , ...   \n",
       "2  ] I , ] W. H. Pearce , ] of ] Craven ] County ...   \n",
       "3  State of North Carolina , } ________ County . ...   \n",
       "4  State of North Carolina , Wake ] ] County . I ...   \n",
       "\n",
       "                                   PERSON-nerenglish  \\\n",
       "0  [God, Isaac C. Meekins, I C Meekins E H Walker...   \n",
       "1                                                 []   \n",
       "2            [H. Pearce, God, E. Ampetts, B. Watson]   \n",
       "3                                       [God, Sworn]   \n",
       "4                          [Allen, God, Allen Sworn]   \n",
       "\n",
       "                               LOC-nerenglish ORG-nerenglish  \n",
       "0                        [Currituck ] County]             []  \n",
       "1                             [United States]             []  \n",
       "2  [Craven ] County, State of North-Carolina]             []  \n",
       "3                             [United States]             []  \n",
       "4                             [United States]             []  "
      ]
     },
     "execution_count": 42,
     "metadata": {},
     "output_type": "execute_result"
    }
   ],
   "source": [
    "dfner.head()"
   ]
  },
  {
   "cell_type": "code",
   "execution_count": 43,
   "id": "aa15c886",
   "metadata": {
    "execution": {
     "iopub.execute_input": "2022-06-10T08:30:44.010892Z",
     "iopub.status.busy": "2022-06-10T08:30:44.010643Z",
     "iopub.status.idle": "2022-06-10T08:30:44.020056Z",
     "shell.execute_reply": "2022-06-10T08:30:44.019401Z"
    },
    "papermill": {
     "duration": 0.044732,
     "end_time": "2022-06-10T08:30:44.021678",
     "exception": false,
     "start_time": "2022-06-10T08:30:43.976946",
     "status": "completed"
    },
    "tags": []
   },
   "outputs": [],
   "source": [
    "aldf[\"Person-NerEngLarge\"]=dflarge[\"PERSON-nerenglarge\"]\n",
    "aldf[\"LOC-NerEngLarge\"]=dflarge[\"LOC-nerenglarge\"]\n",
    "aldf[\"ORG-NerEngLarge\"]=dflarge[\"ORG-nerenglarge\"]\n",
    "aldf[\"Person-NerEng\"]=dfner[\"PERSON-nerenglish\"]\n",
    "aldf[\"LOC-NerEng\"]=dfner[\"LOC-nerenglish\"]\n",
    "aldf[\"ORG-NerEng\"]=dfner[\"ORG-nerenglish\"]"
   ]
  },
  {
   "cell_type": "code",
   "execution_count": 44,
   "id": "46ddb413",
   "metadata": {
    "execution": {
     "iopub.execute_input": "2022-06-10T08:30:44.086309Z",
     "iopub.status.busy": "2022-06-10T08:30:44.086066Z",
     "iopub.status.idle": "2022-06-10T08:30:44.115498Z",
     "shell.execute_reply": "2022-06-10T08:30:44.114672Z"
    },
    "papermill": {
     "duration": 0.064444,
     "end_time": "2022-06-10T08:30:44.118145",
     "exception": false,
     "start_time": "2022-06-10T08:30:44.053701",
     "status": "completed"
    },
    "tags": []
   },
   "outputs": [
    {
     "data": {
      "text/html": [
       "<div>\n",
       "<style scoped>\n",
       "    .dataframe tbody tr th:only-of-type {\n",
       "        vertical-align: middle;\n",
       "    }\n",
       "\n",
       "    .dataframe tbody tr th {\n",
       "        vertical-align: top;\n",
       "    }\n",
       "\n",
       "    .dataframe thead th {\n",
       "        text-align: right;\n",
       "    }\n",
       "</style>\n",
       "<table border=\"1\" class=\"dataframe\">\n",
       "  <thead>\n",
       "    <tr style=\"text-align: right;\">\n",
       "      <th></th>\n",
       "      <th>text</th>\n",
       "      <th>PERSON-ontonotes</th>\n",
       "      <th>GPE-ontonotes</th>\n",
       "      <th>ORG-ontonotes</th>\n",
       "      <th>Date-ontonotes</th>\n",
       "      <th>postDate-ontonotes</th>\n",
       "      <th>Person-NerEngLarge</th>\n",
       "      <th>LOC-NerEngLarge</th>\n",
       "      <th>ORG-NerEngLarge</th>\n",
       "      <th>Person-NerEng</th>\n",
       "      <th>LOC-NerEng</th>\n",
       "      <th>ORG-NerEng</th>\n",
       "    </tr>\n",
       "  </thead>\n",
       "  <tbody>\n",
       "    <tr>\n",
       "      <th>0</th>\n",
       "      <td>] I , ] I C Meekins ] , of ] Currituck ] Count...</td>\n",
       "      <td>[I C Meekins, Isaac C. Meekins, E H Walker]</td>\n",
       "      <td>[North Carolina]</td>\n",
       "      <td>[]</td>\n",
       "      <td>[16 ] day of ] Sept ] A.D . , 1865]</td>\n",
       "      <td>[16-Sept-1865]</td>\n",
       "      <td>[I C Meekins, Almighty, God, Isaac C. Meekins,...</td>\n",
       "      <td>[Currituck, State of North Carolina, United St...</td>\n",
       "      <td>[Constitution]</td>\n",
       "      <td>[God, Isaac C. Meekins, I C Meekins E H Walker...</td>\n",
       "      <td>[Currituck ] County]</td>\n",
       "      <td>[]</td>\n",
       "    </tr>\n",
       "    <tr>\n",
       "      <th>1</th>\n",
       "      <td>^ ] ] Department of Virginia North Carolina , ...</td>\n",
       "      <td>[]</td>\n",
       "      <td>[North Carolina, United States]</td>\n",
       "      <td>[Department of Virginia]</td>\n",
       "      <td>[1864]</td>\n",
       "      <td>[]</td>\n",
       "      <td>[]</td>\n",
       "      <td>[North Carolina, United States, States]</td>\n",
       "      <td>[OATH PAROLE]</td>\n",
       "      <td>[]</td>\n",
       "      <td>[United States]</td>\n",
       "      <td>[]</td>\n",
       "    </tr>\n",
       "    <tr>\n",
       "      <th>2</th>\n",
       "      <td>] I , ] W. H. Pearce , ] of ] Craven ] County ...</td>\n",
       "      <td>[W . H. Pearce]</td>\n",
       "      <td>[]</td>\n",
       "      <td>[]</td>\n",
       "      <td>[3rd ] day of ] October , ] A.D . , 1865]</td>\n",
       "      <td>[3-October-1865]</td>\n",
       "      <td>[W . H. Pearce, Almighty, God, Jm . E. Ampetts...</td>\n",
       "      <td>[Craven, County, State of North-Carolina, Unit...</td>\n",
       "      <td>[]</td>\n",
       "      <td>[H. Pearce, God, E. Ampetts, B. Watson]</td>\n",
       "      <td>[Craven ] County, State of North-Carolina]</td>\n",
       "      <td>[]</td>\n",
       "    </tr>\n",
       "    <tr>\n",
       "      <th>3</th>\n",
       "      <td>State of North Carolina , } ________ County . ...</td>\n",
       "      <td>[]</td>\n",
       "      <td>[North Carolina, United States]</td>\n",
       "      <td>[]</td>\n",
       "      <td>[______ day of ____________ , 1866]</td>\n",
       "      <td>[]</td>\n",
       "      <td>[God]</td>\n",
       "      <td>[State of North Carolina, United States]</td>\n",
       "      <td>[Constitution]</td>\n",
       "      <td>[God, Sworn]</td>\n",
       "      <td>[United States]</td>\n",
       "      <td>[]</td>\n",
       "    </tr>\n",
       "    <tr>\n",
       "      <th>4</th>\n",
       "      <td>State of North Carolina , Wake ] ] County . I ...</td>\n",
       "      <td>[S.E . Allen]</td>\n",
       "      <td>[North Carolina, United States]</td>\n",
       "      <td>[]</td>\n",
       "      <td>[31st day of May , 1867]</td>\n",
       "      <td>[31-May-1867]</td>\n",
       "      <td>[S.E, Allen, God, T.D, McAlpine]</td>\n",
       "      <td>[State of North Carolina, Wake, County, United...</td>\n",
       "      <td>[Constitution, Res . Corp]</td>\n",
       "      <td>[Allen, God, Allen Sworn]</td>\n",
       "      <td>[United States]</td>\n",
       "      <td>[]</td>\n",
       "    </tr>\n",
       "  </tbody>\n",
       "</table>\n",
       "</div>"
      ],
      "text/plain": [
       "                                                text  \\\n",
       "0  ] I , ] I C Meekins ] , of ] Currituck ] Count...   \n",
       "1  ^ ] ] Department of Virginia North Carolina , ...   \n",
       "2  ] I , ] W. H. Pearce , ] of ] Craven ] County ...   \n",
       "3  State of North Carolina , } ________ County . ...   \n",
       "4  State of North Carolina , Wake ] ] County . I ...   \n",
       "\n",
       "                              PERSON-ontonotes  \\\n",
       "0  [I C Meekins, Isaac C. Meekins, E H Walker]   \n",
       "1                                           []   \n",
       "2                              [W . H. Pearce]   \n",
       "3                                           []   \n",
       "4                                [S.E . Allen]   \n",
       "\n",
       "                     GPE-ontonotes             ORG-ontonotes  \\\n",
       "0                 [North Carolina]                        []   \n",
       "1  [North Carolina, United States]  [Department of Virginia]   \n",
       "2                               []                        []   \n",
       "3  [North Carolina, United States]                        []   \n",
       "4  [North Carolina, United States]                        []   \n",
       "\n",
       "                              Date-ontonotes postDate-ontonotes  \\\n",
       "0        [16 ] day of ] Sept ] A.D . , 1865]     [16-Sept-1865]   \n",
       "1                                     [1864]                 []   \n",
       "2  [3rd ] day of ] October , ] A.D . , 1865]   [3-October-1865]   \n",
       "3        [______ day of ____________ , 1866]                 []   \n",
       "4                   [31st day of May , 1867]      [31-May-1867]   \n",
       "\n",
       "                                  Person-NerEngLarge  \\\n",
       "0  [I C Meekins, Almighty, God, Isaac C. Meekins,...   \n",
       "1                                                 []   \n",
       "2  [W . H. Pearce, Almighty, God, Jm . E. Ampetts...   \n",
       "3                                              [God]   \n",
       "4                   [S.E, Allen, God, T.D, McAlpine]   \n",
       "\n",
       "                                     LOC-NerEngLarge  \\\n",
       "0  [Currituck, State of North Carolina, United St...   \n",
       "1            [North Carolina, United States, States]   \n",
       "2  [Craven, County, State of North-Carolina, Unit...   \n",
       "3           [State of North Carolina, United States]   \n",
       "4  [State of North Carolina, Wake, County, United...   \n",
       "\n",
       "              ORG-NerEngLarge  \\\n",
       "0              [Constitution]   \n",
       "1               [OATH PAROLE]   \n",
       "2                          []   \n",
       "3              [Constitution]   \n",
       "4  [Constitution, Res . Corp]   \n",
       "\n",
       "                                       Person-NerEng  \\\n",
       "0  [God, Isaac C. Meekins, I C Meekins E H Walker...   \n",
       "1                                                 []   \n",
       "2            [H. Pearce, God, E. Ampetts, B. Watson]   \n",
       "3                                       [God, Sworn]   \n",
       "4                          [Allen, God, Allen Sworn]   \n",
       "\n",
       "                                   LOC-NerEng ORG-NerEng  \n",
       "0                        [Currituck ] County]         []  \n",
       "1                             [United States]         []  \n",
       "2  [Craven ] County, State of North-Carolina]         []  \n",
       "3                             [United States]         []  \n",
       "4                             [United States]         []  "
      ]
     },
     "execution_count": 44,
     "metadata": {},
     "output_type": "execute_result"
    }
   ],
   "source": [
    "aldf.head()"
   ]
  },
  {
   "cell_type": "code",
   "execution_count": 45,
   "id": "6c5a4d21",
   "metadata": {
    "execution": {
     "iopub.execute_input": "2022-06-10T08:30:44.183225Z",
     "iopub.status.busy": "2022-06-10T08:30:44.182970Z",
     "iopub.status.idle": "2022-06-10T08:30:44.339748Z",
     "shell.execute_reply": "2022-06-10T08:30:44.338913Z"
    },
    "papermill": {
     "duration": 0.19194,
     "end_time": "2022-06-10T08:30:44.342191",
     "exception": false,
     "start_time": "2022-06-10T08:30:44.150251",
     "status": "completed"
    },
    "tags": []
   },
   "outputs": [],
   "source": [
    "aldf.to_csv(\"result.csv\", index=False)"
   ]
  },
  {
   "cell_type": "code",
   "execution_count": 46,
   "id": "c531522d",
   "metadata": {
    "execution": {
     "iopub.execute_input": "2022-06-10T08:30:44.455181Z",
     "iopub.status.busy": "2022-06-10T08:30:44.454777Z",
     "iopub.status.idle": "2022-06-10T08:30:44.471605Z",
     "shell.execute_reply": "2022-06-10T08:30:44.470909Z"
    },
    "papermill": {
     "duration": 0.07744,
     "end_time": "2022-06-10T08:30:44.473332",
     "exception": false,
     "start_time": "2022-06-10T08:30:44.395892",
     "status": "completed"
    },
    "tags": []
   },
   "outputs": [],
   "source": [
    "allPerson=[]\n",
    "for i in aldf[\"PERSON-ontonotes\"]:\n",
    "            allPerson.append(i)\n",
    "allDatess=[]\n",
    "for i in aldf[\"Date-ontonotes\"]:\n",
    "            allDatess.append(i)\n",
    "allpostdates=[]\n",
    "for i in aldf[\"postDate-ontonotes\"]:\n",
    "            allpostdates.append(i)\n",
    "allGPE=[]\n",
    "for i in aldf[\"GPE-ontonotes\"]:\n",
    "            allGPE.append(i)\n",
    "alORGl=[]\n",
    "for i in aldf[\"ORG-ontonotes\"]:\n",
    "            alORGl.append(i)"
   ]
  },
  {
   "cell_type": "markdown",
   "id": "2acc3a26",
   "metadata": {
    "papermill": {
     "duration": 0.054791,
     "end_time": "2022-06-10T08:30:44.587113",
     "exception": false,
     "start_time": "2022-06-10T08:30:44.532322",
     "status": "completed"
    },
    "tags": []
   },
   "source": [
    "****"
   ]
  },
  {
   "cell_type": "code",
   "execution_count": 47,
   "id": "1723294a",
   "metadata": {
    "execution": {
     "iopub.execute_input": "2022-06-10T08:30:44.693449Z",
     "iopub.status.busy": "2022-06-10T08:30:44.692900Z",
     "iopub.status.idle": "2022-06-10T08:30:44.702400Z",
     "shell.execute_reply": "2022-06-10T08:30:44.701730Z"
    },
    "papermill": {
     "duration": 0.061619,
     "end_time": "2022-06-10T08:30:44.704096",
     "exception": false,
     "start_time": "2022-06-10T08:30:44.642477",
     "status": "completed"
    },
    "tags": []
   },
   "outputs": [],
   "source": [
    "Personlarge=[]\n",
    "for i in dflarge[\"PERSON-nerenglarge\"]:\n",
    "            Personlarge.append(i)\n",
    "ORGlarge=[]\n",
    "for i in dflarge[\"ORG-nerenglarge\"]:\n",
    "            ORGlarge.append(i) \n",
    "LOClarge=[]\n",
    "for i in dflarge[\"LOC-nerenglarge\"]:\n",
    "            LOClarge.append(i)"
   ]
  },
  {
   "cell_type": "markdown",
   "id": "a36e6589",
   "metadata": {
    "papermill": {
     "duration": 0.05229,
     "end_time": "2022-06-10T08:30:44.807973",
     "exception": false,
     "start_time": "2022-06-10T08:30:44.755683",
     "status": "completed"
    },
    "tags": []
   },
   "source": [
    "* as usual , ner English Large is better in extracting Person \n",
    "* ontonotes is thes best in extracting dates after good postprocessing and filtring almost all pattern \n",
    "* ner Engish Large  also better in Location and Oranization "
   ]
  },
  {
   "cell_type": "markdown",
   "id": "4e072be2",
   "metadata": {
    "papermill": {
     "duration": 0.054028,
     "end_time": "2022-06-10T08:30:44.916696",
     "exception": false,
     "start_time": "2022-06-10T08:30:44.862668",
     "status": "completed"
    },
    "tags": []
   },
   "source": [
    "# dates"
   ]
  },
  {
   "cell_type": "markdown",
   "id": "3f3a438a",
   "metadata": {
    "papermill": {
     "duration": 0.055898,
     "end_time": "2022-06-10T08:30:45.027198",
     "exception": false,
     "start_time": "2022-06-10T08:30:44.971300",
     "status": "completed"
    },
    "tags": []
   },
   "source": [
    "**run those cells to take a look at the result more clearly**"
   ]
  },
  {
   "cell_type": "code",
   "execution_count": 48,
   "id": "e922478b",
   "metadata": {
    "execution": {
     "iopub.execute_input": "2022-06-10T08:30:45.137727Z",
     "iopub.status.busy": "2022-06-10T08:30:45.137307Z",
     "iopub.status.idle": "2022-06-10T08:30:45.141058Z",
     "shell.execute_reply": "2022-06-10T08:30:45.140231Z"
    },
    "papermill": {
     "duration": 0.062991,
     "end_time": "2022-06-10T08:30:45.144605",
     "exception": false,
     "start_time": "2022-06-10T08:30:45.081614",
     "status": "completed"
    },
    "tags": []
   },
   "outputs": [],
   "source": [
    "#G"
   ]
  },
  {
   "cell_type": "markdown",
   "id": "8fc02fa3",
   "metadata": {
    "papermill": {
     "duration": 0.054168,
     "end_time": "2022-06-10T08:30:45.253220",
     "exception": false,
     "start_time": "2022-06-10T08:30:45.199052",
     "status": "completed"
    },
    "tags": []
   },
   "source": [
    "# Person"
   ]
  },
  {
   "cell_type": "code",
   "execution_count": 49,
   "id": "67d20d82",
   "metadata": {
    "execution": {
     "iopub.execute_input": "2022-06-10T08:30:45.368046Z",
     "iopub.status.busy": "2022-06-10T08:30:45.367679Z",
     "iopub.status.idle": "2022-06-10T08:30:45.378587Z",
     "shell.execute_reply": "2022-06-10T08:30:45.377977Z"
    },
    "papermill": {
     "duration": 0.067501,
     "end_time": "2022-06-10T08:30:45.380798",
     "exception": false,
     "start_time": "2022-06-10T08:30:45.313297",
     "status": "completed"
    },
    "tags": []
   },
   "outputs": [
    {
     "data": {
      "text/plain": [
       "[['I C Meekins', 'Isaac C. Meekins', 'E H Walker'],\n",
       " [],\n",
       " ['W . H. Pearce'],\n",
       " [],\n",
       " ['S.E . Allen'],\n",
       " ['Sarah E Dough', 'Sarah', 'E. Dough'],\n",
       " ['Sarah E. Dough', 'J.M . Wilson'],\n",
       " ['W T Dough'],\n",
       " ['Jesse E Dough',\n",
       "  'Isaac C. Meekins J.P',\n",
       "  'Jesse E. Dough',\n",
       "  'Isaac . C. Meekins J.P'],\n",
       " ['T A Dough', 'John B Etheridge']]"
      ]
     },
     "execution_count": 49,
     "metadata": {},
     "output_type": "execute_result"
    }
   ],
   "source": [
    "allPerson[:10]"
   ]
  },
  {
   "cell_type": "code",
   "execution_count": 50,
   "id": "124aa9f4",
   "metadata": {
    "execution": {
     "iopub.execute_input": "2022-06-10T08:30:45.491317Z",
     "iopub.status.busy": "2022-06-10T08:30:45.490989Z",
     "iopub.status.idle": "2022-06-10T08:30:45.500245Z",
     "shell.execute_reply": "2022-06-10T08:30:45.499592Z"
    },
    "papermill": {
     "duration": 0.066904,
     "end_time": "2022-06-10T08:30:45.502647",
     "exception": false,
     "start_time": "2022-06-10T08:30:45.435743",
     "status": "completed"
    },
    "tags": []
   },
   "outputs": [
    {
     "data": {
      "text/plain": [
       "[['I C Meekins',\n",
       "  'Almighty',\n",
       "  'God',\n",
       "  'Isaac C. Meekins',\n",
       "  'E H Walker',\n",
       "  'J.P. John B Etheridge'],\n",
       " [],\n",
       " ['W . H. Pearce',\n",
       "  'Almighty',\n",
       "  'God',\n",
       "  'Jm . E. Ampetts',\n",
       "  'J. P.',\n",
       "  'J.P. A',\n",
       "  'B. Watson'],\n",
       " ['God'],\n",
       " ['S.E', 'Allen', 'God', 'T.D', 'McAlpine'],\n",
       " ['Sarah E Dough', 'God', 'Isaac C. Merkins'],\n",
       " ['Sarah E. Dough', 'J.M . Wilson'],\n",
       " ['W T Dough',\n",
       "  'Almighty',\n",
       "  'God',\n",
       "  'W. T. Dough',\n",
       "  'E H Walker',\n",
       "  'J. P.',\n",
       "  'J. P. John B Etheridge',\n",
       "  'J. P'],\n",
       " ['Jesse E Dough',\n",
       "  'God',\n",
       "  'Jesse E. Dough',\n",
       "  'Isaac C. Meekins J.P',\n",
       "  'A. D. Etheridge'],\n",
       " ['T A Dough',\n",
       "  'Almighty',\n",
       "  'God',\n",
       "  'Thos A Dough',\n",
       "  'John B Etheridge',\n",
       "  'J. P.',\n",
       "  'J. P. E H Walker',\n",
       "  'J. P']]"
      ]
     },
     "execution_count": 50,
     "metadata": {},
     "output_type": "execute_result"
    }
   ],
   "source": [
    "Personlarge[:10]"
   ]
  },
  {
   "cell_type": "markdown",
   "id": "9f18826a",
   "metadata": {
    "papermill": {
     "duration": 0.03271,
     "end_time": "2022-06-10T08:30:45.581312",
     "exception": false,
     "start_time": "2022-06-10T08:30:45.548602",
     "status": "completed"
    },
    "tags": []
   },
   "source": [
    "# LOC and ORG "
   ]
  },
  {
   "cell_type": "code",
   "execution_count": 51,
   "id": "8263d264",
   "metadata": {
    "execution": {
     "iopub.execute_input": "2022-06-10T08:30:45.646613Z",
     "iopub.status.busy": "2022-06-10T08:30:45.646316Z",
     "iopub.status.idle": "2022-06-10T08:30:45.649816Z",
     "shell.execute_reply": "2022-06-10T08:30:45.648996Z"
    },
    "papermill": {
     "duration": 0.038266,
     "end_time": "2022-06-10T08:30:45.651675",
     "exception": false,
     "start_time": "2022-06-10T08:30:45.613409",
     "status": "completed"
    },
    "tags": []
   },
   "outputs": [],
   "source": [
    "#LOClarge"
   ]
  },
  {
   "cell_type": "code",
   "execution_count": 52,
   "id": "a5ef861a",
   "metadata": {
    "execution": {
     "iopub.execute_input": "2022-06-10T08:30:45.717510Z",
     "iopub.status.busy": "2022-06-10T08:30:45.717260Z",
     "iopub.status.idle": "2022-06-10T08:30:45.721530Z",
     "shell.execute_reply": "2022-06-10T08:30:45.720802Z"
    },
    "papermill": {
     "duration": 0.039457,
     "end_time": "2022-06-10T08:30:45.723214",
     "exception": false,
     "start_time": "2022-06-10T08:30:45.683757",
     "status": "completed"
    },
    "tags": []
   },
   "outputs": [],
   "source": [
    "#ORGlarge"
   ]
  },
  {
   "cell_type": "markdown",
   "id": "7373ab16",
   "metadata": {
    "papermill": {
     "duration": 0.032659,
     "end_time": "2022-06-10T08:30:45.788444",
     "exception": false,
     "start_time": "2022-06-10T08:30:45.755785",
     "status": "completed"
    },
    "tags": []
   },
   "source": [
    "# the final dataset :"
   ]
  },
  {
   "cell_type": "code",
   "execution_count": 53,
   "id": "14a9f78a",
   "metadata": {
    "execution": {
     "iopub.execute_input": "2022-06-10T08:30:45.855058Z",
     "iopub.status.busy": "2022-06-10T08:30:45.854730Z",
     "iopub.status.idle": "2022-06-10T08:30:45.884339Z",
     "shell.execute_reply": "2022-06-10T08:30:45.883523Z"
    },
    "papermill": {
     "duration": 0.065361,
     "end_time": "2022-06-10T08:30:45.887039",
     "exception": false,
     "start_time": "2022-06-10T08:30:45.821678",
     "status": "completed"
    },
    "tags": []
   },
   "outputs": [
    {
     "data": {
      "text/html": [
       "<div>\n",
       "<style scoped>\n",
       "    .dataframe tbody tr th:only-of-type {\n",
       "        vertical-align: middle;\n",
       "    }\n",
       "\n",
       "    .dataframe tbody tr th {\n",
       "        vertical-align: top;\n",
       "    }\n",
       "\n",
       "    .dataframe thead th {\n",
       "        text-align: right;\n",
       "    }\n",
       "</style>\n",
       "<table border=\"1\" class=\"dataframe\">\n",
       "  <thead>\n",
       "    <tr style=\"text-align: right;\">\n",
       "      <th></th>\n",
       "      <th>text</th>\n",
       "      <th>PERSON-ontonotes</th>\n",
       "      <th>GPE-ontonotes</th>\n",
       "      <th>ORG-ontonotes</th>\n",
       "      <th>Date-ontonotes</th>\n",
       "      <th>postDate-ontonotes</th>\n",
       "      <th>Person-NerEngLarge</th>\n",
       "      <th>LOC-NerEngLarge</th>\n",
       "      <th>ORG-NerEngLarge</th>\n",
       "      <th>Person-NerEng</th>\n",
       "      <th>LOC-NerEng</th>\n",
       "      <th>ORG-NerEng</th>\n",
       "    </tr>\n",
       "  </thead>\n",
       "  <tbody>\n",
       "    <tr>\n",
       "      <th>0</th>\n",
       "      <td>] I , ] I C Meekins ] , of ] Currituck ] Count...</td>\n",
       "      <td>[I C Meekins, Isaac C. Meekins, E H Walker]</td>\n",
       "      <td>[North Carolina]</td>\n",
       "      <td>[]</td>\n",
       "      <td>[16 ] day of ] Sept ] A.D . , 1865]</td>\n",
       "      <td>[16-Sept-1865]</td>\n",
       "      <td>[I C Meekins, Almighty, God, Isaac C. Meekins,...</td>\n",
       "      <td>[Currituck, State of North Carolina, United St...</td>\n",
       "      <td>[Constitution]</td>\n",
       "      <td>[God, Isaac C. Meekins, I C Meekins E H Walker...</td>\n",
       "      <td>[Currituck ] County]</td>\n",
       "      <td>[]</td>\n",
       "    </tr>\n",
       "    <tr>\n",
       "      <th>1</th>\n",
       "      <td>^ ] ] Department of Virginia North Carolina , ...</td>\n",
       "      <td>[]</td>\n",
       "      <td>[North Carolina, United States]</td>\n",
       "      <td>[Department of Virginia]</td>\n",
       "      <td>[1864]</td>\n",
       "      <td>[]</td>\n",
       "      <td>[]</td>\n",
       "      <td>[North Carolina, United States, States]</td>\n",
       "      <td>[OATH PAROLE]</td>\n",
       "      <td>[]</td>\n",
       "      <td>[United States]</td>\n",
       "      <td>[]</td>\n",
       "    </tr>\n",
       "    <tr>\n",
       "      <th>2</th>\n",
       "      <td>] I , ] W. H. Pearce , ] of ] Craven ] County ...</td>\n",
       "      <td>[W . H. Pearce]</td>\n",
       "      <td>[]</td>\n",
       "      <td>[]</td>\n",
       "      <td>[3rd ] day of ] October , ] A.D . , 1865]</td>\n",
       "      <td>[3-October-1865]</td>\n",
       "      <td>[W . H. Pearce, Almighty, God, Jm . E. Ampetts...</td>\n",
       "      <td>[Craven, County, State of North-Carolina, Unit...</td>\n",
       "      <td>[]</td>\n",
       "      <td>[H. Pearce, God, E. Ampetts, B. Watson]</td>\n",
       "      <td>[Craven ] County, State of North-Carolina]</td>\n",
       "      <td>[]</td>\n",
       "    </tr>\n",
       "    <tr>\n",
       "      <th>3</th>\n",
       "      <td>State of North Carolina , } ________ County . ...</td>\n",
       "      <td>[]</td>\n",
       "      <td>[North Carolina, United States]</td>\n",
       "      <td>[]</td>\n",
       "      <td>[______ day of ____________ , 1866]</td>\n",
       "      <td>[]</td>\n",
       "      <td>[God]</td>\n",
       "      <td>[State of North Carolina, United States]</td>\n",
       "      <td>[Constitution]</td>\n",
       "      <td>[God, Sworn]</td>\n",
       "      <td>[United States]</td>\n",
       "      <td>[]</td>\n",
       "    </tr>\n",
       "    <tr>\n",
       "      <th>4</th>\n",
       "      <td>State of North Carolina , Wake ] ] County . I ...</td>\n",
       "      <td>[S.E . Allen]</td>\n",
       "      <td>[North Carolina, United States]</td>\n",
       "      <td>[]</td>\n",
       "      <td>[31st day of May , 1867]</td>\n",
       "      <td>[31-May-1867]</td>\n",
       "      <td>[S.E, Allen, God, T.D, McAlpine]</td>\n",
       "      <td>[State of North Carolina, Wake, County, United...</td>\n",
       "      <td>[Constitution, Res . Corp]</td>\n",
       "      <td>[Allen, God, Allen Sworn]</td>\n",
       "      <td>[United States]</td>\n",
       "      <td>[]</td>\n",
       "    </tr>\n",
       "  </tbody>\n",
       "</table>\n",
       "</div>"
      ],
      "text/plain": [
       "                                                text  \\\n",
       "0  ] I , ] I C Meekins ] , of ] Currituck ] Count...   \n",
       "1  ^ ] ] Department of Virginia North Carolina , ...   \n",
       "2  ] I , ] W. H. Pearce , ] of ] Craven ] County ...   \n",
       "3  State of North Carolina , } ________ County . ...   \n",
       "4  State of North Carolina , Wake ] ] County . I ...   \n",
       "\n",
       "                              PERSON-ontonotes  \\\n",
       "0  [I C Meekins, Isaac C. Meekins, E H Walker]   \n",
       "1                                           []   \n",
       "2                              [W . H. Pearce]   \n",
       "3                                           []   \n",
       "4                                [S.E . Allen]   \n",
       "\n",
       "                     GPE-ontonotes             ORG-ontonotes  \\\n",
       "0                 [North Carolina]                        []   \n",
       "1  [North Carolina, United States]  [Department of Virginia]   \n",
       "2                               []                        []   \n",
       "3  [North Carolina, United States]                        []   \n",
       "4  [North Carolina, United States]                        []   \n",
       "\n",
       "                              Date-ontonotes postDate-ontonotes  \\\n",
       "0        [16 ] day of ] Sept ] A.D . , 1865]     [16-Sept-1865]   \n",
       "1                                     [1864]                 []   \n",
       "2  [3rd ] day of ] October , ] A.D . , 1865]   [3-October-1865]   \n",
       "3        [______ day of ____________ , 1866]                 []   \n",
       "4                   [31st day of May , 1867]      [31-May-1867]   \n",
       "\n",
       "                                  Person-NerEngLarge  \\\n",
       "0  [I C Meekins, Almighty, God, Isaac C. Meekins,...   \n",
       "1                                                 []   \n",
       "2  [W . H. Pearce, Almighty, God, Jm . E. Ampetts...   \n",
       "3                                              [God]   \n",
       "4                   [S.E, Allen, God, T.D, McAlpine]   \n",
       "\n",
       "                                     LOC-NerEngLarge  \\\n",
       "0  [Currituck, State of North Carolina, United St...   \n",
       "1            [North Carolina, United States, States]   \n",
       "2  [Craven, County, State of North-Carolina, Unit...   \n",
       "3           [State of North Carolina, United States]   \n",
       "4  [State of North Carolina, Wake, County, United...   \n",
       "\n",
       "              ORG-NerEngLarge  \\\n",
       "0              [Constitution]   \n",
       "1               [OATH PAROLE]   \n",
       "2                          []   \n",
       "3              [Constitution]   \n",
       "4  [Constitution, Res . Corp]   \n",
       "\n",
       "                                       Person-NerEng  \\\n",
       "0  [God, Isaac C. Meekins, I C Meekins E H Walker...   \n",
       "1                                                 []   \n",
       "2            [H. Pearce, God, E. Ampetts, B. Watson]   \n",
       "3                                       [God, Sworn]   \n",
       "4                          [Allen, God, Allen Sworn]   \n",
       "\n",
       "                                   LOC-NerEng ORG-NerEng  \n",
       "0                        [Currituck ] County]         []  \n",
       "1                             [United States]         []  \n",
       "2  [Craven ] County, State of North-Carolina]         []  \n",
       "3                             [United States]         []  \n",
       "4                             [United States]         []  "
      ]
     },
     "execution_count": 53,
     "metadata": {},
     "output_type": "execute_result"
    }
   ],
   "source": [
    "aldf.head()"
   ]
  },
  {
   "cell_type": "markdown",
   "id": "435be867",
   "metadata": {
    "papermill": {
     "duration": 0.033317,
     "end_time": "2022-06-10T08:30:45.953213",
     "exception": false,
     "start_time": "2022-06-10T08:30:45.919896",
     "status": "completed"
    },
    "tags": []
   },
   "source": [
    "****"
   ]
  },
  {
   "cell_type": "code",
   "execution_count": 54,
   "id": "f06f84be",
   "metadata": {
    "execution": {
     "iopub.execute_input": "2022-06-10T08:30:46.020300Z",
     "iopub.status.busy": "2022-06-10T08:30:46.020041Z",
     "iopub.status.idle": "2022-06-10T08:30:46.024850Z",
     "shell.execute_reply": "2022-06-10T08:30:46.024172Z"
    },
    "papermill": {
     "duration": 0.040731,
     "end_time": "2022-06-10T08:30:46.026559",
     "exception": false,
     "start_time": "2022-06-10T08:30:45.985828",
     "status": "completed"
    },
    "tags": []
   },
   "outputs": [
    {
     "data": {
      "text/plain": [
       "['Janry 15 , 1868']"
      ]
     },
     "execution_count": 54,
     "metadata": {},
     "output_type": "execute_result"
    }
   ],
   "source": [
    "GF[26]"
   ]
  },
  {
   "cell_type": "code",
   "execution_count": 55,
   "id": "eada1a00",
   "metadata": {
    "execution": {
     "iopub.execute_input": "2022-06-10T08:30:46.093052Z",
     "iopub.status.busy": "2022-06-10T08:30:46.092777Z",
     "iopub.status.idle": "2022-06-10T08:30:46.099355Z",
     "shell.execute_reply": "2022-06-10T08:30:46.098701Z"
    },
    "papermill": {
     "duration": 0.041665,
     "end_time": "2022-06-10T08:30:46.101049",
     "exception": false,
     "start_time": "2022-06-10T08:30:46.059384",
     "status": "completed"
    },
    "tags": []
   },
   "outputs": [
    {
     "data": {
      "text/plain": [
       "['15-Janry-1868']"
      ]
     },
     "execution_count": 55,
     "metadata": {},
     "output_type": "execute_result"
    }
   ],
   "source": [
    "G[26]"
   ]
  },
  {
   "cell_type": "code",
   "execution_count": null,
   "id": "9b1a10fe",
   "metadata": {
    "papermill": {
     "duration": 0.03312,
     "end_time": "2022-06-10T08:30:46.167025",
     "exception": false,
     "start_time": "2022-06-10T08:30:46.133905",
     "status": "completed"
    },
    "tags": []
   },
   "outputs": [],
   "source": []
  }
 ],
 "metadata": {
  "kernelspec": {
   "display_name": "Python 3",
   "language": "python",
   "name": "python3"
  },
  "language_info": {
   "codemirror_mode": {
    "name": "ipython",
    "version": 3
   },
   "file_extension": ".py",
   "mimetype": "text/x-python",
   "name": "python",
   "nbconvert_exporter": "python",
   "pygments_lexer": "ipython3",
   "version": "3.7.12"
  },
  "papermill": {
   "default_parameters": {},
   "duration": 1372.908287,
   "end_time": "2022-06-10T08:30:50.021498",
   "environment_variables": {},
   "exception": null,
   "input_path": "__notebook__.ipynb",
   "output_path": "__notebook__.ipynb",
   "parameters": {},
   "start_time": "2022-06-10T08:07:57.113211",
   "version": "2.3.4"
  },
  "widgets": {
   "application/vnd.jupyter.widget-state+json": {
    "state": {
     "063cd68a44da487ab0c408681b37b7ae": {
      "model_module": "@jupyter-widgets/controls",
      "model_module_version": "1.5.0",
      "model_name": "HTMLModel",
      "state": {
       "_dom_classes": [],
       "_model_module": "@jupyter-widgets/controls",
       "_model_module_version": "1.5.0",
       "_model_name": "HTMLModel",
       "_view_count": null,
       "_view_module": "@jupyter-widgets/controls",
       "_view_module_version": "1.5.0",
       "_view_name": "HTMLView",
       "description": "",
       "description_tooltip": null,
       "layout": "IPY_MODEL_54a5a1681f70431badb88ccdb44f5fca",
       "placeholder": "​",
       "style": "IPY_MODEL_eaa5dd2e44794e8ea59ae20e898c8a4f",
       "value": " 432M/432M [00:39&lt;00:00, 12.0MB/s]"
      }
     },
     "0c3e40de01de428598ceff62f71953b4": {
      "model_module": "@jupyter-widgets/base",
      "model_module_version": "1.2.0",
      "model_name": "LayoutModel",
      "state": {
       "_model_module": "@jupyter-widgets/base",
       "_model_module_version": "1.2.0",
       "_model_name": "LayoutModel",
       "_view_count": null,
       "_view_module": "@jupyter-widgets/base",
       "_view_module_version": "1.2.0",
       "_view_name": "LayoutView",
       "align_content": null,
       "align_items": null,
       "align_self": null,
       "border": null,
       "bottom": null,
       "display": null,
       "flex": null,
       "flex_flow": null,
       "grid_area": null,
       "grid_auto_columns": null,
       "grid_auto_flow": null,
       "grid_auto_rows": null,
       "grid_column": null,
       "grid_gap": null,
       "grid_row": null,
       "grid_template_areas": null,
       "grid_template_columns": null,
       "grid_template_rows": null,
       "height": null,
       "justify_content": null,
       "justify_items": null,
       "left": null,
       "margin": null,
       "max_height": null,
       "max_width": null,
       "min_height": null,
       "min_width": null,
       "object_fit": null,
       "object_position": null,
       "order": null,
       "overflow": null,
       "overflow_x": null,
       "overflow_y": null,
       "padding": null,
       "right": null,
       "top": null,
       "visibility": null,
       "width": null
      }
     },
     "136fbda350aa494d98197972d5e443a4": {
      "model_module": "@jupyter-widgets/controls",
      "model_module_version": "1.5.0",
      "model_name": "HTMLModel",
      "state": {
       "_dom_classes": [],
       "_model_module": "@jupyter-widgets/controls",
       "_model_module_version": "1.5.0",
       "_model_name": "HTMLModel",
       "_view_count": null,
       "_view_module": "@jupyter-widgets/controls",
       "_view_module_version": "1.5.0",
       "_view_name": "HTMLView",
       "description": "",
       "description_tooltip": null,
       "layout": "IPY_MODEL_31777119808b47f1a9148faa54992447",
       "placeholder": "​",
       "style": "IPY_MODEL_ec0892e5315e469e89d2b7c437c5bc17",
       "value": " 2.24G/2.24G [03:17&lt;00:00, 11.5MB/s]"
      }
     },
     "17dbe679da1d4341974fb7a239183348": {
      "model_module": "@jupyter-widgets/controls",
      "model_module_version": "1.5.0",
      "model_name": "DescriptionStyleModel",
      "state": {
       "_model_module": "@jupyter-widgets/controls",
       "_model_module_version": "1.5.0",
       "_model_name": "DescriptionStyleModel",
       "_view_count": null,
       "_view_module": "@jupyter-widgets/base",
       "_view_module_version": "1.2.0",
       "_view_name": "StyleView",
       "description_width": ""
      }
     },
     "183109dd891646199b7eec7ff6200746": {
      "model_module": "@jupyter-widgets/controls",
      "model_module_version": "1.5.0",
      "model_name": "HTMLModel",
      "state": {
       "_dom_classes": [],
       "_model_module": "@jupyter-widgets/controls",
       "_model_module_version": "1.5.0",
       "_model_name": "HTMLModel",
       "_view_count": null,
       "_view_module": "@jupyter-widgets/controls",
       "_view_module_version": "1.5.0",
       "_view_name": "HTMLView",
       "description": "",
       "description_tooltip": null,
       "layout": "IPY_MODEL_d1616af647e544d88e79e669281a7811",
       "placeholder": "​",
       "style": "IPY_MODEL_85e43c7cf9fd4e4a91e4a007e4049d69",
       "value": " 8.68M/8.68M [00:01&lt;00:00, 7.73MB/s]"
      }
     },
     "1ce5a0cd4af8466486ae0ccd4f80204e": {
      "model_module": "@jupyter-widgets/base",
      "model_module_version": "1.2.0",
      "model_name": "LayoutModel",
      "state": {
       "_model_module": "@jupyter-widgets/base",
       "_model_module_version": "1.2.0",
       "_model_name": "LayoutModel",
       "_view_count": null,
       "_view_module": "@jupyter-widgets/base",
       "_view_module_version": "1.2.0",
       "_view_name": "LayoutView",
       "align_content": null,
       "align_items": null,
       "align_self": null,
       "border": null,
       "bottom": null,
       "display": null,
       "flex": null,
       "flex_flow": null,
       "grid_area": null,
       "grid_auto_columns": null,
       "grid_auto_flow": null,
       "grid_auto_rows": null,
       "grid_column": null,
       "grid_gap": null,
       "grid_row": null,
       "grid_template_areas": null,
       "grid_template_columns": null,
       "grid_template_rows": null,
       "height": null,
       "justify_content": null,
       "justify_items": null,
       "left": null,
       "margin": null,
       "max_height": null,
       "max_width": null,
       "min_height": null,
       "min_width": null,
       "object_fit": null,
       "object_position": null,
       "order": null,
       "overflow": null,
       "overflow_x": null,
       "overflow_y": null,
       "padding": null,
       "right": null,
       "top": null,
       "visibility": null,
       "width": null
      }
     },
     "2295d0f4d0484c4aa51003cde4054b73": {
      "model_module": "@jupyter-widgets/controls",
      "model_module_version": "1.5.0",
      "model_name": "HTMLModel",
      "state": {
       "_dom_classes": [],
       "_model_module": "@jupyter-widgets/controls",
       "_model_module_version": "1.5.0",
       "_model_name": "HTMLModel",
       "_view_count": null,
       "_view_module": "@jupyter-widgets/controls",
       "_view_module_version": "1.5.0",
       "_view_name": "HTMLView",
       "description": "",
       "description_tooltip": null,
       "layout": "IPY_MODEL_b5fbef40f1e84bccbb3757ffd6e5235d",
       "placeholder": "​",
       "style": "IPY_MODEL_6c2757c6039240139641c010fb0b22f1",
       "value": "Downloading: 100%"
      }
     },
     "279c02c582c94078bdb979e11035537f": {
      "model_module": "@jupyter-widgets/base",
      "model_module_version": "1.2.0",
      "model_name": "LayoutModel",
      "state": {
       "_model_module": "@jupyter-widgets/base",
       "_model_module_version": "1.2.0",
       "_model_name": "LayoutModel",
       "_view_count": null,
       "_view_module": "@jupyter-widgets/base",
       "_view_module_version": "1.2.0",
       "_view_name": "LayoutView",
       "align_content": null,
       "align_items": null,
       "align_self": null,
       "border": null,
       "bottom": null,
       "display": null,
       "flex": null,
       "flex_flow": null,
       "grid_area": null,
       "grid_auto_columns": null,
       "grid_auto_flow": null,
       "grid_auto_rows": null,
       "grid_column": null,
       "grid_gap": null,
       "grid_row": null,
       "grid_template_areas": null,
       "grid_template_columns": null,
       "grid_template_rows": null,
       "height": null,
       "justify_content": null,
       "justify_items": null,
       "left": null,
       "margin": null,
       "max_height": null,
       "max_width": null,
       "min_height": null,
       "min_width": null,
       "object_fit": null,
       "object_position": null,
       "order": null,
       "overflow": null,
       "overflow_x": null,
       "overflow_y": null,
       "padding": null,
       "right": null,
       "top": null,
       "visibility": null,
       "width": null
      }
     },
     "27afc069107842adb6f9a7d102873547": {
      "model_module": "@jupyter-widgets/controls",
      "model_module_version": "1.5.0",
      "model_name": "ProgressStyleModel",
      "state": {
       "_model_module": "@jupyter-widgets/controls",
       "_model_module_version": "1.5.0",
       "_model_name": "ProgressStyleModel",
       "_view_count": null,
       "_view_module": "@jupyter-widgets/base",
       "_view_module_version": "1.2.0",
       "_view_name": "StyleView",
       "bar_color": null,
       "description_width": ""
      }
     },
     "28ed18a153784366ac61811e208339aa": {
      "model_module": "@jupyter-widgets/base",
      "model_module_version": "1.2.0",
      "model_name": "LayoutModel",
      "state": {
       "_model_module": "@jupyter-widgets/base",
       "_model_module_version": "1.2.0",
       "_model_name": "LayoutModel",
       "_view_count": null,
       "_view_module": "@jupyter-widgets/base",
       "_view_module_version": "1.2.0",
       "_view_name": "LayoutView",
       "align_content": null,
       "align_items": null,
       "align_self": null,
       "border": null,
       "bottom": null,
       "display": null,
       "flex": null,
       "flex_flow": null,
       "grid_area": null,
       "grid_auto_columns": null,
       "grid_auto_flow": null,
       "grid_auto_rows": null,
       "grid_column": null,
       "grid_gap": null,
       "grid_row": null,
       "grid_template_areas": null,
       "grid_template_columns": null,
       "grid_template_rows": null,
       "height": null,
       "justify_content": null,
       "justify_items": null,
       "left": null,
       "margin": null,
       "max_height": null,
       "max_width": null,
       "min_height": null,
       "min_width": null,
       "object_fit": null,
       "object_position": null,
       "order": null,
       "overflow": null,
       "overflow_x": null,
       "overflow_y": null,
       "padding": null,
       "right": null,
       "top": null,
       "visibility": null,
       "width": null
      }
     },
     "2a5109072ad44381a5ad92d4a91a86ae": {
      "model_module": "@jupyter-widgets/controls",
      "model_module_version": "1.5.0",
      "model_name": "DescriptionStyleModel",
      "state": {
       "_model_module": "@jupyter-widgets/controls",
       "_model_module_version": "1.5.0",
       "_model_name": "DescriptionStyleModel",
       "_view_count": null,
       "_view_module": "@jupyter-widgets/base",
       "_view_module_version": "1.2.0",
       "_view_name": "StyleView",
       "description_width": ""
      }
     },
     "2d04253a07244f16b8dcefbb8411d6d8": {
      "model_module": "@jupyter-widgets/controls",
      "model_module_version": "1.5.0",
      "model_name": "HTMLModel",
      "state": {
       "_dom_classes": [],
       "_model_module": "@jupyter-widgets/controls",
       "_model_module_version": "1.5.0",
       "_model_name": "HTMLModel",
       "_view_count": null,
       "_view_module": "@jupyter-widgets/controls",
       "_view_module_version": "1.5.0",
       "_view_name": "HTMLView",
       "description": "",
       "description_tooltip": null,
       "layout": "IPY_MODEL_5ec08c6c2b0f44e0900da4d06e6ddb86",
       "placeholder": "​",
       "style": "IPY_MODEL_76243cfe03144a9bb46c24694d09b10a",
       "value": "Downloading: 100%"
      }
     },
     "31777119808b47f1a9148faa54992447": {
      "model_module": "@jupyter-widgets/base",
      "model_module_version": "1.2.0",
      "model_name": "LayoutModel",
      "state": {
       "_model_module": "@jupyter-widgets/base",
       "_model_module_version": "1.2.0",
       "_model_name": "LayoutModel",
       "_view_count": null,
       "_view_module": "@jupyter-widgets/base",
       "_view_module_version": "1.2.0",
       "_view_name": "LayoutView",
       "align_content": null,
       "align_items": null,
       "align_self": null,
       "border": null,
       "bottom": null,
       "display": null,
       "flex": null,
       "flex_flow": null,
       "grid_area": null,
       "grid_auto_columns": null,
       "grid_auto_flow": null,
       "grid_auto_rows": null,
       "grid_column": null,
       "grid_gap": null,
       "grid_row": null,
       "grid_template_areas": null,
       "grid_template_columns": null,
       "grid_template_rows": null,
       "height": null,
       "justify_content": null,
       "justify_items": null,
       "left": null,
       "margin": null,
       "max_height": null,
       "max_width": null,
       "min_height": null,
       "min_width": null,
       "object_fit": null,
       "object_position": null,
       "order": null,
       "overflow": null,
       "overflow_x": null,
       "overflow_y": null,
       "padding": null,
       "right": null,
       "top": null,
       "visibility": null,
       "width": null
      }
     },
     "3208b81f620e43659a011b194df90f2a": {
      "model_module": "@jupyter-widgets/controls",
      "model_module_version": "1.5.0",
      "model_name": "ProgressStyleModel",
      "state": {
       "_model_module": "@jupyter-widgets/controls",
       "_model_module_version": "1.5.0",
       "_model_name": "ProgressStyleModel",
       "_view_count": null,
       "_view_module": "@jupyter-widgets/base",
       "_view_module_version": "1.2.0",
       "_view_name": "StyleView",
       "bar_color": null,
       "description_width": ""
      }
     },
     "33ebbd0129a846ef861f571c8084db29": {
      "model_module": "@jupyter-widgets/controls",
      "model_module_version": "1.5.0",
      "model_name": "HBoxModel",
      "state": {
       "_dom_classes": [],
       "_model_module": "@jupyter-widgets/controls",
       "_model_module_version": "1.5.0",
       "_model_name": "HBoxModel",
       "_view_count": null,
       "_view_module": "@jupyter-widgets/controls",
       "_view_module_version": "1.5.0",
       "_view_name": "HBoxView",
       "box_style": "",
       "children": [
        "IPY_MODEL_2d04253a07244f16b8dcefbb8411d6d8",
        "IPY_MODEL_596ee8da15d54277a262d7107c62f9a9",
        "IPY_MODEL_7076cee6bfd44322abb71c9caae36415"
       ],
       "layout": "IPY_MODEL_7d68217c53984381805c17d1fa3fa6c7"
      }
     },
     "394e10c556c64650b67b04feec0733cc": {
      "model_module": "@jupyter-widgets/base",
      "model_module_version": "1.2.0",
      "model_name": "LayoutModel",
      "state": {
       "_model_module": "@jupyter-widgets/base",
       "_model_module_version": "1.2.0",
       "_model_name": "LayoutModel",
       "_view_count": null,
       "_view_module": "@jupyter-widgets/base",
       "_view_module_version": "1.2.0",
       "_view_name": "LayoutView",
       "align_content": null,
       "align_items": null,
       "align_self": null,
       "border": null,
       "bottom": null,
       "display": null,
       "flex": null,
       "flex_flow": null,
       "grid_area": null,
       "grid_auto_columns": null,
       "grid_auto_flow": null,
       "grid_auto_rows": null,
       "grid_column": null,
       "grid_gap": null,
       "grid_row": null,
       "grid_template_areas": null,
       "grid_template_columns": null,
       "grid_template_rows": null,
       "height": null,
       "justify_content": null,
       "justify_items": null,
       "left": null,
       "margin": null,
       "max_height": null,
       "max_width": null,
       "min_height": null,
       "min_width": null,
       "object_fit": null,
       "object_position": null,
       "order": null,
       "overflow": null,
       "overflow_x": null,
       "overflow_y": null,
       "padding": null,
       "right": null,
       "top": null,
       "visibility": null,
       "width": null
      }
     },
     "3c8a524a2d6d420fb4b9ba3d370e33fd": {
      "model_module": "@jupyter-widgets/controls",
      "model_module_version": "1.5.0",
      "model_name": "ProgressStyleModel",
      "state": {
       "_model_module": "@jupyter-widgets/controls",
       "_model_module_version": "1.5.0",
       "_model_name": "ProgressStyleModel",
       "_view_count": null,
       "_view_module": "@jupyter-widgets/base",
       "_view_module_version": "1.2.0",
       "_view_name": "StyleView",
       "bar_color": null,
       "description_width": ""
      }
     },
     "3eea3428035f45ca8d8321feb66c5a44": {
      "model_module": "@jupyter-widgets/base",
      "model_module_version": "1.2.0",
      "model_name": "LayoutModel",
      "state": {
       "_model_module": "@jupyter-widgets/base",
       "_model_module_version": "1.2.0",
       "_model_name": "LayoutModel",
       "_view_count": null,
       "_view_module": "@jupyter-widgets/base",
       "_view_module_version": "1.2.0",
       "_view_name": "LayoutView",
       "align_content": null,
       "align_items": null,
       "align_self": null,
       "border": null,
       "bottom": null,
       "display": null,
       "flex": null,
       "flex_flow": null,
       "grid_area": null,
       "grid_auto_columns": null,
       "grid_auto_flow": null,
       "grid_auto_rows": null,
       "grid_column": null,
       "grid_gap": null,
       "grid_row": null,
       "grid_template_areas": null,
       "grid_template_columns": null,
       "grid_template_rows": null,
       "height": null,
       "justify_content": null,
       "justify_items": null,
       "left": null,
       "margin": null,
       "max_height": null,
       "max_width": null,
       "min_height": null,
       "min_width": null,
       "object_fit": null,
       "object_position": null,
       "order": null,
       "overflow": null,
       "overflow_x": null,
       "overflow_y": null,
       "padding": null,
       "right": null,
       "top": null,
       "visibility": null,
       "width": null
      }
     },
     "4a0a9739a409465b8f27aca1d777827a": {
      "model_module": "@jupyter-widgets/controls",
      "model_module_version": "1.5.0",
      "model_name": "HBoxModel",
      "state": {
       "_dom_classes": [],
       "_model_module": "@jupyter-widgets/controls",
       "_model_module_version": "1.5.0",
       "_model_name": "HBoxModel",
       "_view_count": null,
       "_view_module": "@jupyter-widgets/controls",
       "_view_module_version": "1.5.0",
       "_view_name": "HBoxView",
       "box_style": "",
       "children": [
        "IPY_MODEL_cfead16b267d4d8796348a12a07c9da5",
        "IPY_MODEL_8cbf3b5d78f44cfb9280310a3c78cada",
        "IPY_MODEL_90dca6aff2df40dc88bf41bc9113d23f"
       ],
       "layout": "IPY_MODEL_87a99478e49d41e7b1220428d61c7faf"
      }
     },
     "4e11ceb4141040cea5e013083a6a5b1e": {
      "model_module": "@jupyter-widgets/base",
      "model_module_version": "1.2.0",
      "model_name": "LayoutModel",
      "state": {
       "_model_module": "@jupyter-widgets/base",
       "_model_module_version": "1.2.0",
       "_model_name": "LayoutModel",
       "_view_count": null,
       "_view_module": "@jupyter-widgets/base",
       "_view_module_version": "1.2.0",
       "_view_name": "LayoutView",
       "align_content": null,
       "align_items": null,
       "align_self": null,
       "border": null,
       "bottom": null,
       "display": null,
       "flex": null,
       "flex_flow": null,
       "grid_area": null,
       "grid_auto_columns": null,
       "grid_auto_flow": null,
       "grid_auto_rows": null,
       "grid_column": null,
       "grid_gap": null,
       "grid_row": null,
       "grid_template_areas": null,
       "grid_template_columns": null,
       "grid_template_rows": null,
       "height": null,
       "justify_content": null,
       "justify_items": null,
       "left": null,
       "margin": null,
       "max_height": null,
       "max_width": null,
       "min_height": null,
       "min_width": null,
       "object_fit": null,
       "object_position": null,
       "order": null,
       "overflow": null,
       "overflow_x": null,
       "overflow_y": null,
       "padding": null,
       "right": null,
       "top": null,
       "visibility": null,
       "width": null
      }
     },
     "4e7505ad5de5459fb7fb94ffcb1f8bed": {
      "model_module": "@jupyter-widgets/controls",
      "model_module_version": "1.5.0",
      "model_name": "HTMLModel",
      "state": {
       "_dom_classes": [],
       "_model_module": "@jupyter-widgets/controls",
       "_model_module_version": "1.5.0",
       "_model_name": "HTMLModel",
       "_view_count": null,
       "_view_module": "@jupyter-widgets/controls",
       "_view_module_version": "1.5.0",
       "_view_name": "HTMLView",
       "description": "",
       "description_tooltip": null,
       "layout": "IPY_MODEL_fdbc79cb36e44262bb614c268eb9df41",
       "placeholder": "​",
       "style": "IPY_MODEL_17dbe679da1d4341974fb7a239183348",
       "value": "Downloading: 100%"
      }
     },
     "54a5a1681f70431badb88ccdb44f5fca": {
      "model_module": "@jupyter-widgets/base",
      "model_module_version": "1.2.0",
      "model_name": "LayoutModel",
      "state": {
       "_model_module": "@jupyter-widgets/base",
       "_model_module_version": "1.2.0",
       "_model_name": "LayoutModel",
       "_view_count": null,
       "_view_module": "@jupyter-widgets/base",
       "_view_module_version": "1.2.0",
       "_view_name": "LayoutView",
       "align_content": null,
       "align_items": null,
       "align_self": null,
       "border": null,
       "bottom": null,
       "display": null,
       "flex": null,
       "flex_flow": null,
       "grid_area": null,
       "grid_auto_columns": null,
       "grid_auto_flow": null,
       "grid_auto_rows": null,
       "grid_column": null,
       "grid_gap": null,
       "grid_row": null,
       "grid_template_areas": null,
       "grid_template_columns": null,
       "grid_template_rows": null,
       "height": null,
       "justify_content": null,
       "justify_items": null,
       "left": null,
       "margin": null,
       "max_height": null,
       "max_width": null,
       "min_height": null,
       "min_width": null,
       "object_fit": null,
       "object_position": null,
       "order": null,
       "overflow": null,
       "overflow_x": null,
       "overflow_y": null,
       "padding": null,
       "right": null,
       "top": null,
       "visibility": null,
       "width": null
      }
     },
     "596ee8da15d54277a262d7107c62f9a9": {
      "model_module": "@jupyter-widgets/controls",
      "model_module_version": "1.5.0",
      "model_name": "FloatProgressModel",
      "state": {
       "_dom_classes": [],
       "_model_module": "@jupyter-widgets/controls",
       "_model_module_version": "1.5.0",
       "_model_name": "FloatProgressModel",
       "_view_count": null,
       "_view_module": "@jupyter-widgets/controls",
       "_view_module_version": "1.5.0",
       "_view_name": "ProgressView",
       "bar_style": "success",
       "description": "",
       "description_tooltip": null,
       "layout": "IPY_MODEL_ef8e57a3e57b41e183e02b31db79c1f5",
       "max": 2239866761.0,
       "min": 0.0,
       "orientation": "horizontal",
       "style": "IPY_MODEL_27afc069107842adb6f9a7d102873547",
       "value": 2239866761.0
      }
     },
     "5cefbadf88654107afe712e4a1051b3a": {
      "model_module": "@jupyter-widgets/controls",
      "model_module_version": "1.5.0",
      "model_name": "FloatProgressModel",
      "state": {
       "_dom_classes": [],
       "_model_module": "@jupyter-widgets/controls",
       "_model_module_version": "1.5.0",
       "_model_name": "FloatProgressModel",
       "_view_count": null,
       "_view_module": "@jupyter-widgets/controls",
       "_view_module_version": "1.5.0",
       "_view_name": "ProgressView",
       "bar_style": "success",
       "description": "",
       "description_tooltip": null,
       "layout": "IPY_MODEL_1ce5a0cd4af8466486ae0ccd4f80204e",
       "max": 5069051.0,
       "min": 0.0,
       "orientation": "horizontal",
       "style": "IPY_MODEL_e32a3eecbd2b460aa24a961e3ea177a2",
       "value": 5069051.0
      }
     },
     "5ec08c6c2b0f44e0900da4d06e6ddb86": {
      "model_module": "@jupyter-widgets/base",
      "model_module_version": "1.2.0",
      "model_name": "LayoutModel",
      "state": {
       "_model_module": "@jupyter-widgets/base",
       "_model_module_version": "1.2.0",
       "_model_name": "LayoutModel",
       "_view_count": null,
       "_view_module": "@jupyter-widgets/base",
       "_view_module_version": "1.2.0",
       "_view_name": "LayoutView",
       "align_content": null,
       "align_items": null,
       "align_self": null,
       "border": null,
       "bottom": null,
       "display": null,
       "flex": null,
       "flex_flow": null,
       "grid_area": null,
       "grid_auto_columns": null,
       "grid_auto_flow": null,
       "grid_auto_rows": null,
       "grid_column": null,
       "grid_gap": null,
       "grid_row": null,
       "grid_template_areas": null,
       "grid_template_columns": null,
       "grid_template_rows": null,
       "height": null,
       "justify_content": null,
       "justify_items": null,
       "left": null,
       "margin": null,
       "max_height": null,
       "max_width": null,
       "min_height": null,
       "min_width": null,
       "object_fit": null,
       "object_position": null,
       "order": null,
       "overflow": null,
       "overflow_x": null,
       "overflow_y": null,
       "padding": null,
       "right": null,
       "top": null,
       "visibility": null,
       "width": null
      }
     },
     "623d711e3e294555bd1fe561ae829f38": {
      "model_module": "@jupyter-widgets/controls",
      "model_module_version": "1.5.0",
      "model_name": "DescriptionStyleModel",
      "state": {
       "_model_module": "@jupyter-widgets/controls",
       "_model_module_version": "1.5.0",
       "_model_name": "DescriptionStyleModel",
       "_view_count": null,
       "_view_module": "@jupyter-widgets/base",
       "_view_module_version": "1.2.0",
       "_view_name": "StyleView",
       "description_width": ""
      }
     },
     "6c2757c6039240139641c010fb0b22f1": {
      "model_module": "@jupyter-widgets/controls",
      "model_module_version": "1.5.0",
      "model_name": "DescriptionStyleModel",
      "state": {
       "_model_module": "@jupyter-widgets/controls",
       "_model_module_version": "1.5.0",
       "_model_name": "DescriptionStyleModel",
       "_view_count": null,
       "_view_module": "@jupyter-widgets/base",
       "_view_module_version": "1.2.0",
       "_view_name": "StyleView",
       "description_width": ""
      }
     },
     "7076cee6bfd44322abb71c9caae36415": {
      "model_module": "@jupyter-widgets/controls",
      "model_module_version": "1.5.0",
      "model_name": "HTMLModel",
      "state": {
       "_dom_classes": [],
       "_model_module": "@jupyter-widgets/controls",
       "_model_module_version": "1.5.0",
       "_model_name": "HTMLModel",
       "_view_count": null,
       "_view_module": "@jupyter-widgets/controls",
       "_view_module_version": "1.5.0",
       "_view_name": "HTMLView",
       "description": "",
       "description_tooltip": null,
       "layout": "IPY_MODEL_c552d3e06e754a778a587dd023b45726",
       "placeholder": "​",
       "style": "IPY_MODEL_de861e6953074f5ea99c164d1749acbe",
       "value": " 2.24G/2.24G [03:18&lt;00:00, 11.0MB/s]"
      }
     },
     "76243cfe03144a9bb46c24694d09b10a": {
      "model_module": "@jupyter-widgets/controls",
      "model_module_version": "1.5.0",
      "model_name": "DescriptionStyleModel",
      "state": {
       "_model_module": "@jupyter-widgets/controls",
       "_model_module_version": "1.5.0",
       "_model_name": "DescriptionStyleModel",
       "_view_count": null,
       "_view_module": "@jupyter-widgets/base",
       "_view_module_version": "1.2.0",
       "_view_name": "StyleView",
       "description_width": ""
      }
     },
     "77c6dab06e6e48bfb926fcbb76851443": {
      "model_module": "@jupyter-widgets/base",
      "model_module_version": "1.2.0",
      "model_name": "LayoutModel",
      "state": {
       "_model_module": "@jupyter-widgets/base",
       "_model_module_version": "1.2.0",
       "_model_name": "LayoutModel",
       "_view_count": null,
       "_view_module": "@jupyter-widgets/base",
       "_view_module_version": "1.2.0",
       "_view_name": "LayoutView",
       "align_content": null,
       "align_items": null,
       "align_self": null,
       "border": null,
       "bottom": null,
       "display": null,
       "flex": null,
       "flex_flow": null,
       "grid_area": null,
       "grid_auto_columns": null,
       "grid_auto_flow": null,
       "grid_auto_rows": null,
       "grid_column": null,
       "grid_gap": null,
       "grid_row": null,
       "grid_template_areas": null,
       "grid_template_columns": null,
       "grid_template_rows": null,
       "height": null,
       "justify_content": null,
       "justify_items": null,
       "left": null,
       "margin": null,
       "max_height": null,
       "max_width": null,
       "min_height": null,
       "min_width": null,
       "object_fit": null,
       "object_position": null,
       "order": null,
       "overflow": null,
       "overflow_x": null,
       "overflow_y": null,
       "padding": null,
       "right": null,
       "top": null,
       "visibility": null,
       "width": null
      }
     },
     "7d68217c53984381805c17d1fa3fa6c7": {
      "model_module": "@jupyter-widgets/base",
      "model_module_version": "1.2.0",
      "model_name": "LayoutModel",
      "state": {
       "_model_module": "@jupyter-widgets/base",
       "_model_module_version": "1.2.0",
       "_model_name": "LayoutModel",
       "_view_count": null,
       "_view_module": "@jupyter-widgets/base",
       "_view_module_version": "1.2.0",
       "_view_name": "LayoutView",
       "align_content": null,
       "align_items": null,
       "align_self": null,
       "border": null,
       "bottom": null,
       "display": null,
       "flex": null,
       "flex_flow": null,
       "grid_area": null,
       "grid_auto_columns": null,
       "grid_auto_flow": null,
       "grid_auto_rows": null,
       "grid_column": null,
       "grid_gap": null,
       "grid_row": null,
       "grid_template_areas": null,
       "grid_template_columns": null,
       "grid_template_rows": null,
       "height": null,
       "justify_content": null,
       "justify_items": null,
       "left": null,
       "margin": null,
       "max_height": null,
       "max_width": null,
       "min_height": null,
       "min_width": null,
       "object_fit": null,
       "object_position": null,
       "order": null,
       "overflow": null,
       "overflow_x": null,
       "overflow_y": null,
       "padding": null,
       "right": null,
       "top": null,
       "visibility": null,
       "width": null
      }
     },
     "81f628e5635d4450b74872c7e8d93b0d": {
      "model_module": "@jupyter-widgets/controls",
      "model_module_version": "1.5.0",
      "model_name": "ProgressStyleModel",
      "state": {
       "_model_module": "@jupyter-widgets/controls",
       "_model_module_version": "1.5.0",
       "_model_name": "ProgressStyleModel",
       "_view_count": null,
       "_view_module": "@jupyter-widgets/base",
       "_view_module_version": "1.2.0",
       "_view_name": "StyleView",
       "bar_color": null,
       "description_width": ""
      }
     },
     "85e43c7cf9fd4e4a91e4a007e4049d69": {
      "model_module": "@jupyter-widgets/controls",
      "model_module_version": "1.5.0",
      "model_name": "DescriptionStyleModel",
      "state": {
       "_model_module": "@jupyter-widgets/controls",
       "_model_module_version": "1.5.0",
       "_model_name": "DescriptionStyleModel",
       "_view_count": null,
       "_view_module": "@jupyter-widgets/base",
       "_view_module_version": "1.2.0",
       "_view_name": "StyleView",
       "description_width": ""
      }
     },
     "87a99478e49d41e7b1220428d61c7faf": {
      "model_module": "@jupyter-widgets/base",
      "model_module_version": "1.2.0",
      "model_name": "LayoutModel",
      "state": {
       "_model_module": "@jupyter-widgets/base",
       "_model_module_version": "1.2.0",
       "_model_name": "LayoutModel",
       "_view_count": null,
       "_view_module": "@jupyter-widgets/base",
       "_view_module_version": "1.2.0",
       "_view_name": "LayoutView",
       "align_content": null,
       "align_items": null,
       "align_self": null,
       "border": null,
       "bottom": null,
       "display": null,
       "flex": null,
       "flex_flow": null,
       "grid_area": null,
       "grid_auto_columns": null,
       "grid_auto_flow": null,
       "grid_auto_rows": null,
       "grid_column": null,
       "grid_gap": null,
       "grid_row": null,
       "grid_template_areas": null,
       "grid_template_columns": null,
       "grid_template_rows": null,
       "height": null,
       "justify_content": null,
       "justify_items": null,
       "left": null,
       "margin": null,
       "max_height": null,
       "max_width": null,
       "min_height": null,
       "min_width": null,
       "object_fit": null,
       "object_position": null,
       "order": null,
       "overflow": null,
       "overflow_x": null,
       "overflow_y": null,
       "padding": null,
       "right": null,
       "top": null,
       "visibility": null,
       "width": null
      }
     },
     "8cbf3b5d78f44cfb9280310a3c78cada": {
      "model_module": "@jupyter-widgets/controls",
      "model_module_version": "1.5.0",
      "model_name": "FloatProgressModel",
      "state": {
       "_dom_classes": [],
       "_model_module": "@jupyter-widgets/controls",
       "_model_module_version": "1.5.0",
       "_model_name": "FloatProgressModel",
       "_view_count": null,
       "_view_module": "@jupyter-widgets/controls",
       "_view_module_version": "1.5.0",
       "_view_name": "ProgressView",
       "bar_style": "success",
       "description": "",
       "description_tooltip": null,
       "layout": "IPY_MODEL_279c02c582c94078bdb979e11035537f",
       "max": 616.0,
       "min": 0.0,
       "orientation": "horizontal",
       "style": "IPY_MODEL_3c8a524a2d6d420fb4b9ba3d370e33fd",
       "value": 616.0
      }
     },
     "8f9f8f51f62d450b999971275e97da4a": {
      "model_module": "@jupyter-widgets/controls",
      "model_module_version": "1.5.0",
      "model_name": "DescriptionStyleModel",
      "state": {
       "_model_module": "@jupyter-widgets/controls",
       "_model_module_version": "1.5.0",
       "_model_name": "DescriptionStyleModel",
       "_view_count": null,
       "_view_module": "@jupyter-widgets/base",
       "_view_module_version": "1.2.0",
       "_view_name": "StyleView",
       "description_width": ""
      }
     },
     "90dca6aff2df40dc88bf41bc9113d23f": {
      "model_module": "@jupyter-widgets/controls",
      "model_module_version": "1.5.0",
      "model_name": "HTMLModel",
      "state": {
       "_dom_classes": [],
       "_model_module": "@jupyter-widgets/controls",
       "_model_module_version": "1.5.0",
       "_model_name": "HTMLModel",
       "_view_count": null,
       "_view_module": "@jupyter-widgets/controls",
       "_view_module_version": "1.5.0",
       "_view_name": "HTMLView",
       "description": "",
       "description_tooltip": null,
       "layout": "IPY_MODEL_a3a05bb8aac4444288ddf00ca86377e2",
       "placeholder": "​",
       "style": "IPY_MODEL_623d711e3e294555bd1fe561ae829f38",
       "value": " 616/616 [00:00&lt;00:00, 24.3kB/s]"
      }
     },
     "912e96037bae4be7885bb3f0bf558341": {
      "model_module": "@jupyter-widgets/controls",
      "model_module_version": "1.5.0",
      "model_name": "HTMLModel",
      "state": {
       "_dom_classes": [],
       "_model_module": "@jupyter-widgets/controls",
       "_model_module_version": "1.5.0",
       "_model_name": "HTMLModel",
       "_view_count": null,
       "_view_module": "@jupyter-widgets/controls",
       "_view_module_version": "1.5.0",
       "_view_name": "HTMLView",
       "description": "",
       "description_tooltip": null,
       "layout": "IPY_MODEL_77c6dab06e6e48bfb926fcbb76851443",
       "placeholder": "​",
       "style": "IPY_MODEL_d2ee0e04f8f146d785251f0d81f18a0a",
       "value": "Downloading: 100%"
      }
     },
     "96ec6691dd83407d8ae7a0d98085dbbb": {
      "model_module": "@jupyter-widgets/base",
      "model_module_version": "1.2.0",
      "model_name": "LayoutModel",
      "state": {
       "_model_module": "@jupyter-widgets/base",
       "_model_module_version": "1.2.0",
       "_model_name": "LayoutModel",
       "_view_count": null,
       "_view_module": "@jupyter-widgets/base",
       "_view_module_version": "1.2.0",
       "_view_name": "LayoutView",
       "align_content": null,
       "align_items": null,
       "align_self": null,
       "border": null,
       "bottom": null,
       "display": null,
       "flex": null,
       "flex_flow": null,
       "grid_area": null,
       "grid_auto_columns": null,
       "grid_auto_flow": null,
       "grid_auto_rows": null,
       "grid_column": null,
       "grid_gap": null,
       "grid_row": null,
       "grid_template_areas": null,
       "grid_template_columns": null,
       "grid_template_rows": null,
       "height": null,
       "justify_content": null,
       "justify_items": null,
       "left": null,
       "margin": null,
       "max_height": null,
       "max_width": null,
       "min_height": null,
       "min_width": null,
       "object_fit": null,
       "object_position": null,
       "order": null,
       "overflow": null,
       "overflow_x": null,
       "overflow_y": null,
       "padding": null,
       "right": null,
       "top": null,
       "visibility": null,
       "width": null
      }
     },
     "9762bcabed8444ce93cf3619c2934bcb": {
      "model_module": "@jupyter-widgets/controls",
      "model_module_version": "1.5.0",
      "model_name": "FloatProgressModel",
      "state": {
       "_dom_classes": [],
       "_model_module": "@jupyter-widgets/controls",
       "_model_module_version": "1.5.0",
       "_model_name": "FloatProgressModel",
       "_view_count": null,
       "_view_module": "@jupyter-widgets/controls",
       "_view_module_version": "1.5.0",
       "_view_name": "ProgressView",
       "bar_style": "success",
       "description": "",
       "description_tooltip": null,
       "layout": "IPY_MODEL_d0e5470432ab435d973ed9a1442e7aa8",
       "max": 9096718.0,
       "min": 0.0,
       "orientation": "horizontal",
       "style": "IPY_MODEL_81f628e5635d4450b74872c7e8d93b0d",
       "value": 9096718.0
      }
     },
     "a3a05bb8aac4444288ddf00ca86377e2": {
      "model_module": "@jupyter-widgets/base",
      "model_module_version": "1.2.0",
      "model_name": "LayoutModel",
      "state": {
       "_model_module": "@jupyter-widgets/base",
       "_model_module_version": "1.2.0",
       "_model_name": "LayoutModel",
       "_view_count": null,
       "_view_module": "@jupyter-widgets/base",
       "_view_module_version": "1.2.0",
       "_view_name": "LayoutView",
       "align_content": null,
       "align_items": null,
       "align_self": null,
       "border": null,
       "bottom": null,
       "display": null,
       "flex": null,
       "flex_flow": null,
       "grid_area": null,
       "grid_auto_columns": null,
       "grid_auto_flow": null,
       "grid_auto_rows": null,
       "grid_column": null,
       "grid_gap": null,
       "grid_row": null,
       "grid_template_areas": null,
       "grid_template_columns": null,
       "grid_template_rows": null,
       "height": null,
       "justify_content": null,
       "justify_items": null,
       "left": null,
       "margin": null,
       "max_height": null,
       "max_width": null,
       "min_height": null,
       "min_width": null,
       "object_fit": null,
       "object_position": null,
       "order": null,
       "overflow": null,
       "overflow_x": null,
       "overflow_y": null,
       "padding": null,
       "right": null,
       "top": null,
       "visibility": null,
       "width": null
      }
     },
     "a41e2eb9c98847f0b99f9fcdca63c717": {
      "model_module": "@jupyter-widgets/controls",
      "model_module_version": "1.5.0",
      "model_name": "ProgressStyleModel",
      "state": {
       "_model_module": "@jupyter-widgets/controls",
       "_model_module_version": "1.5.0",
       "_model_name": "ProgressStyleModel",
       "_view_count": null,
       "_view_module": "@jupyter-widgets/base",
       "_view_module_version": "1.2.0",
       "_view_name": "StyleView",
       "bar_color": null,
       "description_width": ""
      }
     },
     "a653bc3a2d91406797b97c501f32bbbe": {
      "model_module": "@jupyter-widgets/controls",
      "model_module_version": "1.5.0",
      "model_name": "DescriptionStyleModel",
      "state": {
       "_model_module": "@jupyter-widgets/controls",
       "_model_module_version": "1.5.0",
       "_model_name": "DescriptionStyleModel",
       "_view_count": null,
       "_view_module": "@jupyter-widgets/base",
       "_view_module_version": "1.2.0",
       "_view_name": "StyleView",
       "description_width": ""
      }
     },
     "b5fbef40f1e84bccbb3757ffd6e5235d": {
      "model_module": "@jupyter-widgets/base",
      "model_module_version": "1.2.0",
      "model_name": "LayoutModel",
      "state": {
       "_model_module": "@jupyter-widgets/base",
       "_model_module_version": "1.2.0",
       "_model_name": "LayoutModel",
       "_view_count": null,
       "_view_module": "@jupyter-widgets/base",
       "_view_module_version": "1.2.0",
       "_view_name": "LayoutView",
       "align_content": null,
       "align_items": null,
       "align_self": null,
       "border": null,
       "bottom": null,
       "display": null,
       "flex": null,
       "flex_flow": null,
       "grid_area": null,
       "grid_auto_columns": null,
       "grid_auto_flow": null,
       "grid_auto_rows": null,
       "grid_column": null,
       "grid_gap": null,
       "grid_row": null,
       "grid_template_areas": null,
       "grid_template_columns": null,
       "grid_template_rows": null,
       "height": null,
       "justify_content": null,
       "justify_items": null,
       "left": null,
       "margin": null,
       "max_height": null,
       "max_width": null,
       "min_height": null,
       "min_width": null,
       "object_fit": null,
       "object_position": null,
       "order": null,
       "overflow": null,
       "overflow_x": null,
       "overflow_y": null,
       "padding": null,
       "right": null,
       "top": null,
       "visibility": null,
       "width": null
      }
     },
     "c04cca97da324d9ab5adb6072143a4c3": {
      "model_module": "@jupyter-widgets/controls",
      "model_module_version": "1.5.0",
      "model_name": "HBoxModel",
      "state": {
       "_dom_classes": [],
       "_model_module": "@jupyter-widgets/controls",
       "_model_module_version": "1.5.0",
       "_model_name": "HBoxModel",
       "_view_count": null,
       "_view_module": "@jupyter-widgets/controls",
       "_view_module_version": "1.5.0",
       "_view_name": "HBoxView",
       "box_style": "",
       "children": [
        "IPY_MODEL_c221f4d5f4004bb2851836e9a624c32d",
        "IPY_MODEL_c54321e27cba4bebac12efc0c0df1999",
        "IPY_MODEL_063cd68a44da487ab0c408681b37b7ae"
       ],
       "layout": "IPY_MODEL_394e10c556c64650b67b04feec0733cc"
      }
     },
     "c221f4d5f4004bb2851836e9a624c32d": {
      "model_module": "@jupyter-widgets/controls",
      "model_module_version": "1.5.0",
      "model_name": "HTMLModel",
      "state": {
       "_dom_classes": [],
       "_model_module": "@jupyter-widgets/controls",
       "_model_module_version": "1.5.0",
       "_model_name": "HTMLModel",
       "_view_count": null,
       "_view_module": "@jupyter-widgets/controls",
       "_view_module_version": "1.5.0",
       "_view_name": "HTMLView",
       "description": "",
       "description_tooltip": null,
       "layout": "IPY_MODEL_d16261f7e5b7424e9c86e23ba5aced4d",
       "placeholder": "​",
       "style": "IPY_MODEL_2a5109072ad44381a5ad92d4a91a86ae",
       "value": "Downloading: 100%"
      }
     },
     "c54321e27cba4bebac12efc0c0df1999": {
      "model_module": "@jupyter-widgets/controls",
      "model_module_version": "1.5.0",
      "model_name": "FloatProgressModel",
      "state": {
       "_dom_classes": [],
       "_model_module": "@jupyter-widgets/controls",
       "_model_module_version": "1.5.0",
       "_model_name": "FloatProgressModel",
       "_view_count": null,
       "_view_module": "@jupyter-widgets/controls",
       "_view_module_version": "1.5.0",
       "_view_name": "ProgressView",
       "bar_style": "success",
       "description": "",
       "description_tooltip": null,
       "layout": "IPY_MODEL_3eea3428035f45ca8d8321feb66c5a44",
       "max": 432176557.0,
       "min": 0.0,
       "orientation": "horizontal",
       "style": "IPY_MODEL_3208b81f620e43659a011b194df90f2a",
       "value": 432176557.0
      }
     },
     "c552d3e06e754a778a587dd023b45726": {
      "model_module": "@jupyter-widgets/base",
      "model_module_version": "1.2.0",
      "model_name": "LayoutModel",
      "state": {
       "_model_module": "@jupyter-widgets/base",
       "_model_module_version": "1.2.0",
       "_model_name": "LayoutModel",
       "_view_count": null,
       "_view_module": "@jupyter-widgets/base",
       "_view_module_version": "1.2.0",
       "_view_name": "LayoutView",
       "align_content": null,
       "align_items": null,
       "align_self": null,
       "border": null,
       "bottom": null,
       "display": null,
       "flex": null,
       "flex_flow": null,
       "grid_area": null,
       "grid_auto_columns": null,
       "grid_auto_flow": null,
       "grid_auto_rows": null,
       "grid_column": null,
       "grid_gap": null,
       "grid_row": null,
       "grid_template_areas": null,
       "grid_template_columns": null,
       "grid_template_rows": null,
       "height": null,
       "justify_content": null,
       "justify_items": null,
       "left": null,
       "margin": null,
       "max_height": null,
       "max_width": null,
       "min_height": null,
       "min_width": null,
       "object_fit": null,
       "object_position": null,
       "order": null,
       "overflow": null,
       "overflow_x": null,
       "overflow_y": null,
       "padding": null,
       "right": null,
       "top": null,
       "visibility": null,
       "width": null
      }
     },
     "cb25e081c481417d9604022a4545c250": {
      "model_module": "@jupyter-widgets/controls",
      "model_module_version": "1.5.0",
      "model_name": "HTMLModel",
      "state": {
       "_dom_classes": [],
       "_model_module": "@jupyter-widgets/controls",
       "_model_module_version": "1.5.0",
       "_model_name": "HTMLModel",
       "_view_count": null,
       "_view_module": "@jupyter-widgets/controls",
       "_view_module_version": "1.5.0",
       "_view_name": "HTMLView",
       "description": "",
       "description_tooltip": null,
       "layout": "IPY_MODEL_cc31e081952d4bcd924c5960f014a7ec",
       "placeholder": "​",
       "style": "IPY_MODEL_8f9f8f51f62d450b999971275e97da4a",
       "value": " 4.83M/4.83M [00:01&lt;00:00, 3.35MB/s]"
      }
     },
     "cb2e58f5cc9d46b88848c12508e27e70": {
      "model_module": "@jupyter-widgets/controls",
      "model_module_version": "1.5.0",
      "model_name": "HBoxModel",
      "state": {
       "_dom_classes": [],
       "_model_module": "@jupyter-widgets/controls",
       "_model_module_version": "1.5.0",
       "_model_name": "HBoxModel",
       "_view_count": null,
       "_view_module": "@jupyter-widgets/controls",
       "_view_module_version": "1.5.0",
       "_view_name": "HBoxView",
       "box_style": "",
       "children": [
        "IPY_MODEL_2295d0f4d0484c4aa51003cde4054b73",
        "IPY_MODEL_fb90276d55a64981854f762011ba2693",
        "IPY_MODEL_136fbda350aa494d98197972d5e443a4"
       ],
       "layout": "IPY_MODEL_96ec6691dd83407d8ae7a0d98085dbbb"
      }
     },
     "cc31e081952d4bcd924c5960f014a7ec": {
      "model_module": "@jupyter-widgets/base",
      "model_module_version": "1.2.0",
      "model_name": "LayoutModel",
      "state": {
       "_model_module": "@jupyter-widgets/base",
       "_model_module_version": "1.2.0",
       "_model_name": "LayoutModel",
       "_view_count": null,
       "_view_module": "@jupyter-widgets/base",
       "_view_module_version": "1.2.0",
       "_view_name": "LayoutView",
       "align_content": null,
       "align_items": null,
       "align_self": null,
       "border": null,
       "bottom": null,
       "display": null,
       "flex": null,
       "flex_flow": null,
       "grid_area": null,
       "grid_auto_columns": null,
       "grid_auto_flow": null,
       "grid_auto_rows": null,
       "grid_column": null,
       "grid_gap": null,
       "grid_row": null,
       "grid_template_areas": null,
       "grid_template_columns": null,
       "grid_template_rows": null,
       "height": null,
       "justify_content": null,
       "justify_items": null,
       "left": null,
       "margin": null,
       "max_height": null,
       "max_width": null,
       "min_height": null,
       "min_width": null,
       "object_fit": null,
       "object_position": null,
       "order": null,
       "overflow": null,
       "overflow_x": null,
       "overflow_y": null,
       "padding": null,
       "right": null,
       "top": null,
       "visibility": null,
       "width": null
      }
     },
     "cfead16b267d4d8796348a12a07c9da5": {
      "model_module": "@jupyter-widgets/controls",
      "model_module_version": "1.5.0",
      "model_name": "HTMLModel",
      "state": {
       "_dom_classes": [],
       "_model_module": "@jupyter-widgets/controls",
       "_model_module_version": "1.5.0",
       "_model_name": "HTMLModel",
       "_view_count": null,
       "_view_module": "@jupyter-widgets/controls",
       "_view_module_version": "1.5.0",
       "_view_name": "HTMLView",
       "description": "",
       "description_tooltip": null,
       "layout": "IPY_MODEL_4e11ceb4141040cea5e013083a6a5b1e",
       "placeholder": "​",
       "style": "IPY_MODEL_a653bc3a2d91406797b97c501f32bbbe",
       "value": "Downloading: 100%"
      }
     },
     "d0e5470432ab435d973ed9a1442e7aa8": {
      "model_module": "@jupyter-widgets/base",
      "model_module_version": "1.2.0",
      "model_name": "LayoutModel",
      "state": {
       "_model_module": "@jupyter-widgets/base",
       "_model_module_version": "1.2.0",
       "_model_name": "LayoutModel",
       "_view_count": null,
       "_view_module": "@jupyter-widgets/base",
       "_view_module_version": "1.2.0",
       "_view_name": "LayoutView",
       "align_content": null,
       "align_items": null,
       "align_self": null,
       "border": null,
       "bottom": null,
       "display": null,
       "flex": null,
       "flex_flow": null,
       "grid_area": null,
       "grid_auto_columns": null,
       "grid_auto_flow": null,
       "grid_auto_rows": null,
       "grid_column": null,
       "grid_gap": null,
       "grid_row": null,
       "grid_template_areas": null,
       "grid_template_columns": null,
       "grid_template_rows": null,
       "height": null,
       "justify_content": null,
       "justify_items": null,
       "left": null,
       "margin": null,
       "max_height": null,
       "max_width": null,
       "min_height": null,
       "min_width": null,
       "object_fit": null,
       "object_position": null,
       "order": null,
       "overflow": null,
       "overflow_x": null,
       "overflow_y": null,
       "padding": null,
       "right": null,
       "top": null,
       "visibility": null,
       "width": null
      }
     },
     "d1616af647e544d88e79e669281a7811": {
      "model_module": "@jupyter-widgets/base",
      "model_module_version": "1.2.0",
      "model_name": "LayoutModel",
      "state": {
       "_model_module": "@jupyter-widgets/base",
       "_model_module_version": "1.2.0",
       "_model_name": "LayoutModel",
       "_view_count": null,
       "_view_module": "@jupyter-widgets/base",
       "_view_module_version": "1.2.0",
       "_view_name": "LayoutView",
       "align_content": null,
       "align_items": null,
       "align_self": null,
       "border": null,
       "bottom": null,
       "display": null,
       "flex": null,
       "flex_flow": null,
       "grid_area": null,
       "grid_auto_columns": null,
       "grid_auto_flow": null,
       "grid_auto_rows": null,
       "grid_column": null,
       "grid_gap": null,
       "grid_row": null,
       "grid_template_areas": null,
       "grid_template_columns": null,
       "grid_template_rows": null,
       "height": null,
       "justify_content": null,
       "justify_items": null,
       "left": null,
       "margin": null,
       "max_height": null,
       "max_width": null,
       "min_height": null,
       "min_width": null,
       "object_fit": null,
       "object_position": null,
       "order": null,
       "overflow": null,
       "overflow_x": null,
       "overflow_y": null,
       "padding": null,
       "right": null,
       "top": null,
       "visibility": null,
       "width": null
      }
     },
     "d16261f7e5b7424e9c86e23ba5aced4d": {
      "model_module": "@jupyter-widgets/base",
      "model_module_version": "1.2.0",
      "model_name": "LayoutModel",
      "state": {
       "_model_module": "@jupyter-widgets/base",
       "_model_module_version": "1.2.0",
       "_model_name": "LayoutModel",
       "_view_count": null,
       "_view_module": "@jupyter-widgets/base",
       "_view_module_version": "1.2.0",
       "_view_name": "LayoutView",
       "align_content": null,
       "align_items": null,
       "align_self": null,
       "border": null,
       "bottom": null,
       "display": null,
       "flex": null,
       "flex_flow": null,
       "grid_area": null,
       "grid_auto_columns": null,
       "grid_auto_flow": null,
       "grid_auto_rows": null,
       "grid_column": null,
       "grid_gap": null,
       "grid_row": null,
       "grid_template_areas": null,
       "grid_template_columns": null,
       "grid_template_rows": null,
       "height": null,
       "justify_content": null,
       "justify_items": null,
       "left": null,
       "margin": null,
       "max_height": null,
       "max_width": null,
       "min_height": null,
       "min_width": null,
       "object_fit": null,
       "object_position": null,
       "order": null,
       "overflow": null,
       "overflow_x": null,
       "overflow_y": null,
       "padding": null,
       "right": null,
       "top": null,
       "visibility": null,
       "width": null
      }
     },
     "d2ee0e04f8f146d785251f0d81f18a0a": {
      "model_module": "@jupyter-widgets/controls",
      "model_module_version": "1.5.0",
      "model_name": "DescriptionStyleModel",
      "state": {
       "_model_module": "@jupyter-widgets/controls",
       "_model_module_version": "1.5.0",
       "_model_name": "DescriptionStyleModel",
       "_view_count": null,
       "_view_module": "@jupyter-widgets/base",
       "_view_module_version": "1.2.0",
       "_view_name": "StyleView",
       "description_width": ""
      }
     },
     "d341f019d1f647b9b90ee673c35df894": {
      "model_module": "@jupyter-widgets/base",
      "model_module_version": "1.2.0",
      "model_name": "LayoutModel",
      "state": {
       "_model_module": "@jupyter-widgets/base",
       "_model_module_version": "1.2.0",
       "_model_name": "LayoutModel",
       "_view_count": null,
       "_view_module": "@jupyter-widgets/base",
       "_view_module_version": "1.2.0",
       "_view_name": "LayoutView",
       "align_content": null,
       "align_items": null,
       "align_self": null,
       "border": null,
       "bottom": null,
       "display": null,
       "flex": null,
       "flex_flow": null,
       "grid_area": null,
       "grid_auto_columns": null,
       "grid_auto_flow": null,
       "grid_auto_rows": null,
       "grid_column": null,
       "grid_gap": null,
       "grid_row": null,
       "grid_template_areas": null,
       "grid_template_columns": null,
       "grid_template_rows": null,
       "height": null,
       "justify_content": null,
       "justify_items": null,
       "left": null,
       "margin": null,
       "max_height": null,
       "max_width": null,
       "min_height": null,
       "min_width": null,
       "object_fit": null,
       "object_position": null,
       "order": null,
       "overflow": null,
       "overflow_x": null,
       "overflow_y": null,
       "padding": null,
       "right": null,
       "top": null,
       "visibility": null,
       "width": null
      }
     },
     "de861e6953074f5ea99c164d1749acbe": {
      "model_module": "@jupyter-widgets/controls",
      "model_module_version": "1.5.0",
      "model_name": "DescriptionStyleModel",
      "state": {
       "_model_module": "@jupyter-widgets/controls",
       "_model_module_version": "1.5.0",
       "_model_name": "DescriptionStyleModel",
       "_view_count": null,
       "_view_module": "@jupyter-widgets/base",
       "_view_module_version": "1.2.0",
       "_view_name": "StyleView",
       "description_width": ""
      }
     },
     "df4da9af8b8b4562bb651fb8a68acd74": {
      "model_module": "@jupyter-widgets/controls",
      "model_module_version": "1.5.0",
      "model_name": "HBoxModel",
      "state": {
       "_dom_classes": [],
       "_model_module": "@jupyter-widgets/controls",
       "_model_module_version": "1.5.0",
       "_model_name": "HBoxModel",
       "_view_count": null,
       "_view_module": "@jupyter-widgets/controls",
       "_view_module_version": "1.5.0",
       "_view_name": "HBoxView",
       "box_style": "",
       "children": [
        "IPY_MODEL_4e7505ad5de5459fb7fb94ffcb1f8bed",
        "IPY_MODEL_9762bcabed8444ce93cf3619c2934bcb",
        "IPY_MODEL_183109dd891646199b7eec7ff6200746"
       ],
       "layout": "IPY_MODEL_0c3e40de01de428598ceff62f71953b4"
      }
     },
     "e32a3eecbd2b460aa24a961e3ea177a2": {
      "model_module": "@jupyter-widgets/controls",
      "model_module_version": "1.5.0",
      "model_name": "ProgressStyleModel",
      "state": {
       "_model_module": "@jupyter-widgets/controls",
       "_model_module_version": "1.5.0",
       "_model_name": "ProgressStyleModel",
       "_view_count": null,
       "_view_module": "@jupyter-widgets/base",
       "_view_module_version": "1.2.0",
       "_view_name": "StyleView",
       "bar_color": null,
       "description_width": ""
      }
     },
     "e90610480d894bfabbabc37140e0c862": {
      "model_module": "@jupyter-widgets/controls",
      "model_module_version": "1.5.0",
      "model_name": "HBoxModel",
      "state": {
       "_dom_classes": [],
       "_model_module": "@jupyter-widgets/controls",
       "_model_module_version": "1.5.0",
       "_model_name": "HBoxModel",
       "_view_count": null,
       "_view_module": "@jupyter-widgets/controls",
       "_view_module_version": "1.5.0",
       "_view_name": "HBoxView",
       "box_style": "",
       "children": [
        "IPY_MODEL_912e96037bae4be7885bb3f0bf558341",
        "IPY_MODEL_5cefbadf88654107afe712e4a1051b3a",
        "IPY_MODEL_cb25e081c481417d9604022a4545c250"
       ],
       "layout": "IPY_MODEL_28ed18a153784366ac61811e208339aa"
      }
     },
     "eaa5dd2e44794e8ea59ae20e898c8a4f": {
      "model_module": "@jupyter-widgets/controls",
      "model_module_version": "1.5.0",
      "model_name": "DescriptionStyleModel",
      "state": {
       "_model_module": "@jupyter-widgets/controls",
       "_model_module_version": "1.5.0",
       "_model_name": "DescriptionStyleModel",
       "_view_count": null,
       "_view_module": "@jupyter-widgets/base",
       "_view_module_version": "1.2.0",
       "_view_name": "StyleView",
       "description_width": ""
      }
     },
     "ec0892e5315e469e89d2b7c437c5bc17": {
      "model_module": "@jupyter-widgets/controls",
      "model_module_version": "1.5.0",
      "model_name": "DescriptionStyleModel",
      "state": {
       "_model_module": "@jupyter-widgets/controls",
       "_model_module_version": "1.5.0",
       "_model_name": "DescriptionStyleModel",
       "_view_count": null,
       "_view_module": "@jupyter-widgets/base",
       "_view_module_version": "1.2.0",
       "_view_name": "StyleView",
       "description_width": ""
      }
     },
     "ef8e57a3e57b41e183e02b31db79c1f5": {
      "model_module": "@jupyter-widgets/base",
      "model_module_version": "1.2.0",
      "model_name": "LayoutModel",
      "state": {
       "_model_module": "@jupyter-widgets/base",
       "_model_module_version": "1.2.0",
       "_model_name": "LayoutModel",
       "_view_count": null,
       "_view_module": "@jupyter-widgets/base",
       "_view_module_version": "1.2.0",
       "_view_name": "LayoutView",
       "align_content": null,
       "align_items": null,
       "align_self": null,
       "border": null,
       "bottom": null,
       "display": null,
       "flex": null,
       "flex_flow": null,
       "grid_area": null,
       "grid_auto_columns": null,
       "grid_auto_flow": null,
       "grid_auto_rows": null,
       "grid_column": null,
       "grid_gap": null,
       "grid_row": null,
       "grid_template_areas": null,
       "grid_template_columns": null,
       "grid_template_rows": null,
       "height": null,
       "justify_content": null,
       "justify_items": null,
       "left": null,
       "margin": null,
       "max_height": null,
       "max_width": null,
       "min_height": null,
       "min_width": null,
       "object_fit": null,
       "object_position": null,
       "order": null,
       "overflow": null,
       "overflow_x": null,
       "overflow_y": null,
       "padding": null,
       "right": null,
       "top": null,
       "visibility": null,
       "width": null
      }
     },
     "fb90276d55a64981854f762011ba2693": {
      "model_module": "@jupyter-widgets/controls",
      "model_module_version": "1.5.0",
      "model_name": "FloatProgressModel",
      "state": {
       "_dom_classes": [],
       "_model_module": "@jupyter-widgets/controls",
       "_model_module_version": "1.5.0",
       "_model_name": "FloatProgressModel",
       "_view_count": null,
       "_view_module": "@jupyter-widgets/controls",
       "_view_module_version": "1.5.0",
       "_view_name": "ProgressView",
       "bar_style": "success",
       "description": "",
       "description_tooltip": null,
       "layout": "IPY_MODEL_d341f019d1f647b9b90ee673c35df894",
       "max": 2240097289.0,
       "min": 0.0,
       "orientation": "horizontal",
       "style": "IPY_MODEL_a41e2eb9c98847f0b99f9fcdca63c717",
       "value": 2240097289.0
      }
     },
     "fdbc79cb36e44262bb614c268eb9df41": {
      "model_module": "@jupyter-widgets/base",
      "model_module_version": "1.2.0",
      "model_name": "LayoutModel",
      "state": {
       "_model_module": "@jupyter-widgets/base",
       "_model_module_version": "1.2.0",
       "_model_name": "LayoutModel",
       "_view_count": null,
       "_view_module": "@jupyter-widgets/base",
       "_view_module_version": "1.2.0",
       "_view_name": "LayoutView",
       "align_content": null,
       "align_items": null,
       "align_self": null,
       "border": null,
       "bottom": null,
       "display": null,
       "flex": null,
       "flex_flow": null,
       "grid_area": null,
       "grid_auto_columns": null,
       "grid_auto_flow": null,
       "grid_auto_rows": null,
       "grid_column": null,
       "grid_gap": null,
       "grid_row": null,
       "grid_template_areas": null,
       "grid_template_columns": null,
       "grid_template_rows": null,
       "height": null,
       "justify_content": null,
       "justify_items": null,
       "left": null,
       "margin": null,
       "max_height": null,
       "max_width": null,
       "min_height": null,
       "min_width": null,
       "object_fit": null,
       "object_position": null,
       "order": null,
       "overflow": null,
       "overflow_x": null,
       "overflow_y": null,
       "padding": null,
       "right": null,
       "top": null,
       "visibility": null,
       "width": null
      }
     }
    },
    "version_major": 2,
    "version_minor": 0
   }
  }
 },
 "nbformat": 4,
 "nbformat_minor": 5
}
