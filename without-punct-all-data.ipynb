{
 "cells": [
  {
   "cell_type": "code",
   "execution_count": 1,
   "id": "3e4cb69a",
   "metadata": {
    "_cell_guid": "b1076dfc-b9ad-4769-8c92-a6c4dae69d19",
    "_uuid": "8f2839f25d086af736a60e9eeb907d3b93b6e0e5",
    "execution": {
     "iopub.execute_input": "2022-06-09T12:20:43.482790Z",
     "iopub.status.busy": "2022-06-09T12:20:43.482155Z",
     "iopub.status.idle": "2022-06-09T12:20:49.797115Z",
     "shell.execute_reply": "2022-06-09T12:20:49.796297Z"
    },
    "papermill": {
     "duration": 6.335203,
     "end_time": "2022-06-09T12:20:49.799283",
     "exception": false,
     "start_time": "2022-06-09T12:20:43.464080",
     "status": "completed"
    },
    "tags": []
   },
   "outputs": [],
   "source": [
    "import numpy as np\n",
    "import pandas as pd \n",
    "import seaborn as sns\n",
    "import matplotlib.pyplot as plt \n",
    "import matplotlib.style as stl \n",
    "from tensorflow import keras \n",
    "from keras.preprocessing.text import Tokenizer\n",
    "from nltk.corpus import stopwords\n",
    "import string\n",
    "from tensorflow.keras.models import Sequential,Model\n",
    "from tensorflow.keras.layers import Dense, LSTM, Embedding,Dropout,SpatialDropout1D,Conv1D,MaxPooling1D,GRU,BatchNormalization\n",
    "import warnings\n",
    "warnings.filterwarnings('ignore')\n",
    "stl.use('ggplot')\n",
    "from tqdm import tqdm\n",
    "import string\n",
    "from nltk.corpus import stopwords\n",
    "from nltk.tokenize import word_tokenize\n",
    "from nltk.stem import WordNetLemmatizer\n",
    "from nltk.stem.snowball import SnowballStemmer\n",
    "import regex as re"
   ]
  },
  {
   "cell_type": "code",
   "execution_count": 2,
   "id": "a3cb4e6e",
   "metadata": {
    "execution": {
     "iopub.execute_input": "2022-06-09T12:20:49.832046Z",
     "iopub.status.busy": "2022-06-09T12:20:49.831533Z",
     "iopub.status.idle": "2022-06-09T12:20:49.916032Z",
     "shell.execute_reply": "2022-06-09T12:20:49.915275Z"
    },
    "papermill": {
     "duration": 0.102943,
     "end_time": "2022-06-09T12:20:49.918181",
     "exception": false,
     "start_time": "2022-06-09T12:20:49.815238",
     "status": "completed"
    },
    "tags": []
   },
   "outputs": [],
   "source": [
    "newdata=pd.read_csv(\"../input/oathss/oaths.csv\")"
   ]
  },
  {
   "cell_type": "code",
   "execution_count": null,
   "id": "f9061f03",
   "metadata": {
    "papermill": {
     "duration": 0.015391,
     "end_time": "2022-06-09T12:20:49.951240",
     "exception": false,
     "start_time": "2022-06-09T12:20:49.935849",
     "status": "completed"
    },
    "tags": []
   },
   "outputs": [],
   "source": []
  },
  {
   "cell_type": "markdown",
   "id": "843ddf86",
   "metadata": {
    "papermill": {
     "duration": 0.01523,
     "end_time": "2022-06-09T12:20:49.981661",
     "exception": false,
     "start_time": "2022-06-09T12:20:49.966431",
     "status": "completed"
    },
    "tags": []
   },
   "source": [
    "# Preprocessing"
   ]
  },
  {
   "cell_type": "code",
   "execution_count": 3,
   "id": "0542dec5",
   "metadata": {
    "execution": {
     "iopub.execute_input": "2022-06-09T12:20:50.013222Z",
     "iopub.status.busy": "2022-06-09T12:20:50.012888Z",
     "iopub.status.idle": "2022-06-09T12:20:50.020133Z",
     "shell.execute_reply": "2022-06-09T12:20:50.019359Z"
    },
    "papermill": {
     "duration": 0.024997,
     "end_time": "2022-06-09T12:20:50.021839",
     "exception": false,
     "start_time": "2022-06-09T12:20:49.996842",
     "status": "completed"
    },
    "tags": []
   },
   "outputs": [],
   "source": [
    "all_text=newdata[\"transcription_text\"]"
   ]
  },
  {
   "cell_type": "code",
   "execution_count": 4,
   "id": "ce940201",
   "metadata": {
    "execution": {
     "iopub.execute_input": "2022-06-09T12:20:50.053602Z",
     "iopub.status.busy": "2022-06-09T12:20:50.053343Z",
     "iopub.status.idle": "2022-06-09T12:20:50.060173Z",
     "shell.execute_reply": "2022-06-09T12:20:50.059477Z"
    },
    "papermill": {
     "duration": 0.025389,
     "end_time": "2022-06-09T12:20:50.062598",
     "exception": false,
     "start_time": "2022-06-09T12:20:50.037209",
     "status": "completed"
    },
    "tags": []
   },
   "outputs": [
    {
     "data": {
      "text/plain": [
       "'[M177 ENCL]\\r\\n[[pre-printed]] I, [[handwritten]] I C Meekins [[/handwritten]], of [[handwritten]] Currituck [[/handwritten]] County, State of North Carolina, do solemnly swear or affirm, in presence of Almighty God, that I will henceforth faithfully support, protect and defend the Constitution of the United States and the Union of the States thereunder; and that I will, in like manner, abide by and faithfully support all laws and proclamations which have been made during the existing rebellion with reference to the emancipation of slaves.  So help me God. \\r\\n\\r\\n[[handwritten]] Isaac C. Meekins [[/handwritten]]\\r\\n\\r\\nSworn and subscribed to this the [[handwritten]] 16 [[/handwritten]] day of [[handwritten]] Sept [[/handwritten]] A.D., 1865, before \\r\\n[[handwritten]] E H Walker [[/handwritten]], J.P.\\r\\nIt is hereby certified that the above is a true copy of the original oath taken and subscribed by [[handwritten]] I C Meekins\\r\\nE H Walker, J.P.\\r\\nJohn B Etheridge, J.P.\\r\\n[[\\\\handwritten]] [[/pre-printed]]'"
      ]
     },
     "execution_count": 4,
     "metadata": {},
     "output_type": "execute_result"
    }
   ],
   "source": [
    "all_text[0]"
   ]
  },
  {
   "cell_type": "code",
   "execution_count": 5,
   "id": "f1f7e06d",
   "metadata": {
    "execution": {
     "iopub.execute_input": "2022-06-09T12:20:50.095178Z",
     "iopub.status.busy": "2022-06-09T12:20:50.094614Z",
     "iopub.status.idle": "2022-06-09T12:20:50.099400Z",
     "shell.execute_reply": "2022-06-09T12:20:50.098731Z"
    },
    "papermill": {
     "duration": 0.022548,
     "end_time": "2022-06-09T12:20:50.100967",
     "exception": false,
     "start_time": "2022-06-09T12:20:50.078419",
     "status": "completed"
    },
    "tags": []
   },
   "outputs": [
    {
     "data": {
      "text/plain": [
       "'[M177 ENCL]\\r\\n[[pre-printed]] I, [[handwritten]] I C Meekins [[/handwritten]], of [[handwritten]] Currituck [[/handwritten]] County, State of North Carolina, do solemnly swear or affirm, in presence of Almighty God, that I will henceforth faithfully support, protect and defend the Constitution of the United States and the Union of the States thereunder; and that I will, in like manner, abide by and faithfully support all laws and proclamations which have been made during the existing rebellion with reference to the emancipation of slaves.  So help me God. \\r\\n\\r\\n[[handwritten]] Isaac C. Meekins [[/handwritten]]\\r\\n\\r\\nSworn and subscribed to this the [[handwritten]] 16 [[/handwritten]] day of [[handwritten]] Sept [[/handwritten]] A.D., 1865, before \\r\\n[[handwritten]] E H Walker [[/handwritten]], J.P.\\r\\nIt is hereby certified that the above is a true copy of the original oath taken and subscribed by [[handwritten]] I C Meekins\\r\\nE H Walker, J.P.\\r\\nJohn B Etheridge, J.P.\\r\\n[[\\\\handwritten]] [[/pre-printed]]'"
      ]
     },
     "execution_count": 5,
     "metadata": {},
     "output_type": "execute_result"
    }
   ],
   "source": [
    "all_text[0]"
   ]
  },
  {
   "cell_type": "code",
   "execution_count": 6,
   "id": "b1dd94e4",
   "metadata": {
    "execution": {
     "iopub.execute_input": "2022-06-09T12:20:50.133063Z",
     "iopub.status.busy": "2022-06-09T12:20:50.132805Z",
     "iopub.status.idle": "2022-06-09T12:20:50.137422Z",
     "shell.execute_reply": "2022-06-09T12:20:50.136765Z"
    },
    "papermill": {
     "duration": 0.022579,
     "end_time": "2022-06-09T12:20:50.139011",
     "exception": false,
     "start_time": "2022-06-09T12:20:50.116432",
     "status": "completed"
    },
    "tags": []
   },
   "outputs": [
    {
     "data": {
      "text/plain": [
       "'^[[ [M177 ENCL] ]]\\r\\nDepartment of Virginia and North Carolina, ^[[Feb 23]]\\r\\n^[[Newbern Dec 30th]] 1864.\\r\\n^[[No 1735]]\\r\\n^[[I. C. [[Meekins]] ]] has taken and subscribed the OATH and PAROLE required by  General Orders No. 49, for a Loyal Citizen of the United States, residing in a State ever in rebellion, or who has sympathized with the seceding States. \\r\\n^[[W. C. Hunt]]\\r\\n^[[Lt & Dept Pro Marshall]]'"
      ]
     },
     "execution_count": 6,
     "metadata": {},
     "output_type": "execute_result"
    }
   ],
   "source": [
    "all_text[1]"
   ]
  },
  {
   "cell_type": "code",
   "execution_count": 7,
   "id": "ea503db5",
   "metadata": {
    "execution": {
     "iopub.execute_input": "2022-06-09T12:20:50.171657Z",
     "iopub.status.busy": "2022-06-09T12:20:50.171034Z",
     "iopub.status.idle": "2022-06-09T12:20:50.175805Z",
     "shell.execute_reply": "2022-06-09T12:20:50.175132Z"
    },
    "papermill": {
     "duration": 0.023035,
     "end_time": "2022-06-09T12:20:50.177584",
     "exception": false,
     "start_time": "2022-06-09T12:20:50.154549",
     "status": "completed"
    },
    "tags": []
   },
   "outputs": [
    {
     "data": {
      "text/plain": [
       "'[P 64 ENCL]\\r\\n[[Preprinted]]I,[[/Preprinted]] W. H. Pearce, [[Preprinted]]of[[/Preprinted]] Craven [[Preprinted]]County, State of North-Carolina, do solemnly swear or affirm, in presence of Almighty God, that I will henceforth faithfully support, protect and defend the Constitution of\\r\\nthe United States and the Union of the States thereunder; and that I will, in like manner, abide by and faithfully support all laws and proclamations which have been made during the existing rebellion with reference to the emancipation of slaves. So help me God.[[/Preprinted]]\\r\\n\\r\\nW. H. Pearce\\r\\n\\r\\n[[Preprinted]]Sworn and subscribed to this[[/Preprinted]] 3rd [[Preprinted]]day of[[/Preprinted]] October,\\r\\n[[Preprinted]]A.D., 1865, before[[/Preprinted]]\\r\\nJm. E. Ampetts[?] [[Preprinted]], J. P.\\r\\nIt is hereby certified that the above is a true copy of the original oath taken and subscribed by[[/Preprinted]] W. H. Pearce.\\r\\n\\r\\nJm. E. Ampetts[?], J.P.\\r\\nA. B. Watson[?], J.P.\\r\\n_______________, J.P.'"
      ]
     },
     "execution_count": 7,
     "metadata": {},
     "output_type": "execute_result"
    }
   ],
   "source": [
    "all_text[2]"
   ]
  },
  {
   "cell_type": "code",
   "execution_count": 8,
   "id": "55b2236b",
   "metadata": {
    "execution": {
     "iopub.execute_input": "2022-06-09T12:20:50.210589Z",
     "iopub.status.busy": "2022-06-09T12:20:50.209934Z",
     "iopub.status.idle": "2022-06-09T12:20:50.215078Z",
     "shell.execute_reply": "2022-06-09T12:20:50.214349Z"
    },
    "papermill": {
     "duration": 0.023558,
     "end_time": "2022-06-09T12:20:50.216801",
     "exception": false,
     "start_time": "2022-06-09T12:20:50.193243",
     "status": "completed"
    },
    "tags": []
   },
   "outputs": [
    {
     "data": {
      "text/plain": [
       "'State of North Carolina,}\\r\\n________ County.                       }\\r\\nI, ________, do solemnly swear that I have never voluntarily borne arms against the United States since I have been a citizen thereof; that I have voluntarily given no aid, countenance, counsel, or encouragement to persons engaged in armed hostility thereto; that I have neither sought nor accepted, nor attempted to exercise the functions of any office whatever under any authority, or pretended authority, in hostility to the United States; that I have not yielded a voluntary support to any pretended government, authority, power or constitution within the United States, hostile or inimical thereto. And I do further swear, that, to the best of my knowledge and ability, I will support and defend the Constitution of the United States against all enemies, foreign, and domestic; that I will bear true faith and allegiance to the same, while I hold affair thirein that I take this obligation freely, without any mental reservation or purpose of evasion; and that I will well and faithfully discharge the duties of the office on which I am about to enter, so help my God.\\r\\n\\r\\n____________\\r\\nSworn and subscribed before me, this ______ day of ____________, 1866.\\r\\n____________ '"
      ]
     },
     "execution_count": 8,
     "metadata": {},
     "output_type": "execute_result"
    }
   ],
   "source": [
    "all_text[3]"
   ]
  },
  {
   "cell_type": "code",
   "execution_count": 9,
   "id": "3372b8ce",
   "metadata": {
    "execution": {
     "iopub.execute_input": "2022-06-09T12:20:50.249494Z",
     "iopub.status.busy": "2022-06-09T12:20:50.248904Z",
     "iopub.status.idle": "2022-06-09T12:20:50.253661Z",
     "shell.execute_reply": "2022-06-09T12:20:50.252986Z"
    },
    "papermill": {
     "duration": 0.02275,
     "end_time": "2022-06-09T12:20:50.255277",
     "exception": false,
     "start_time": "2022-06-09T12:20:50.232527",
     "status": "completed"
    },
    "tags": []
   },
   "outputs": [
    {
     "data": {
      "text/plain": [
       "'State of North Carolina, \\r\\nWake]] County. \\r\\n\\r\\nI, S.E. Allen, do solemnly swear that I have never voluntarily borne arms against the United States since I have been a citizen thereof; that I have voluntarily given no aid, countenance, counsel, or encouragement to persons engaged in armed hostility thereto; that I have neither sought nor accepted, nor attempted to exercise the functions of any office whatever under any authority, or pretended authority, in hostility to the United States; that I have not yielded a voluntary support to any pretended government, authority, power or constitution within the United States, hostile or inimical thereto. And I do further swear, that, to the best of my knowledge and ability, I will support and defend the Constitution of the United States against all enemies, foreign and domestic; that I will bear true faith and allegiance to the same; that I take this obligation freely, without any mental reservation or purpose of evasion; and that I will well and faithfully discharge the duties of the office on which I am about to enter, so help me God.\\r\\n\\r\\nS.E. Allen\\r\\n\\r\\nSworn and subscribed before me, this 31st day of May, 1867.\\r\\n \\r\\nT.D. McAlpine \\r\\nLieut. Vet. Res. Corp '"
      ]
     },
     "execution_count": 9,
     "metadata": {},
     "output_type": "execute_result"
    }
   ],
   "source": [
    "all_text[4]"
   ]
  },
  {
   "cell_type": "code",
   "execution_count": 10,
   "id": "fc855c7c",
   "metadata": {
    "execution": {
     "iopub.execute_input": "2022-06-09T12:20:50.288083Z",
     "iopub.status.busy": "2022-06-09T12:20:50.287567Z",
     "iopub.status.idle": "2022-06-09T12:20:50.292068Z",
     "shell.execute_reply": "2022-06-09T12:20:50.291396Z"
    },
    "papermill": {
     "duration": 0.022719,
     "end_time": "2022-06-09T12:20:50.293770",
     "exception": false,
     "start_time": "2022-06-09T12:20:50.271051",
     "status": "completed"
    },
    "tags": []
   },
   "outputs": [
    {
     "data": {
      "text/plain": [
       "'I Sarah E Dough, of Currituck county, State of North  Carolina do solemnly swear or affirm in presence of Almighty God, that I will hence forth faithfully support, protect and defend the Constitution of the United States and the Union of the States thereunder; and that I will, in like manner, abide by and faithfully support all laws and proclamations which have been made during the existing rebellion with reference to the emancipation of slave. So help me God\\r\\n\\r\\nSarah. E. Dough\\r\\nsworn and subscribed to this the 1^st day of {Dec.\\r\\nA.D. 1866, before\\r\\n\\r\\nIsaac C. Merkins, J.P.'"
      ]
     },
     "execution_count": 10,
     "metadata": {},
     "output_type": "execute_result"
    }
   ],
   "source": [
    "all_text[5]"
   ]
  },
  {
   "cell_type": "code",
   "execution_count": 11,
   "id": "9f45eedd",
   "metadata": {
    "execution": {
     "iopub.execute_input": "2022-06-09T12:20:50.326930Z",
     "iopub.status.busy": "2022-06-09T12:20:50.326379Z",
     "iopub.status.idle": "2022-06-09T12:20:50.330998Z",
     "shell.execute_reply": "2022-06-09T12:20:50.330330Z"
    },
    "papermill": {
     "duration": 0.022991,
     "end_time": "2022-06-09T12:20:50.332734",
     "exception": false,
     "start_time": "2022-06-09T12:20:50.309743",
     "status": "completed"
    },
    "tags": []
   },
   "outputs": [
    {
     "data": {
      "text/plain": [
       "'[[preprinted]]\\r\\nState of North Carolina, }\\r\\n^[[Randolph]] County. }\\r\\n\\r\\nI, ^[[W R Frazier]], do solemnly swear that I have never voluntarily borne arms against the United States since I have been a citizen thereof; that I have voluntarily given no aid, countenance, counsel, or encouragement to persons engaged in armed hostility thereto; that I have neither sought nor accepted, nor attempted to exercise the functions of any office whatever under any authority, or pretended authority, in hostility to the United States; that I have not yielded a voluntary support to any pretended government, authority, power or constitution within the United States, hostile or inimical thereto. And I do further swear, that, to the best of my knowledge and ability, I will support and defend the Constitution of the United States against all enemies, foreign and domestic; that I will bear true faith and allegiance to the same; that I take this obligation freely, without any mental reservation or purpose of evasion; and that I will well and faithfully discharge the duties of the office on which I am about to enter, so help me God.\\r\\n\\r\\n[[signature]] W R Frazer[[/signature]]\\r\\nSworn and subscribed before me, this ^[[6th]] day of ^[[Septr]], 1866.\\r\\n[[/preprinted]]\\r\\n[[signature]] W M Wilson [[/signature]] JP \\r\\n'"
      ]
     },
     "execution_count": 11,
     "metadata": {},
     "output_type": "execute_result"
    }
   ],
   "source": [
    "all_text[100]  "
   ]
  },
  {
   "cell_type": "code",
   "execution_count": 12,
   "id": "d77abffd",
   "metadata": {
    "execution": {
     "iopub.execute_input": "2022-06-09T12:20:50.366982Z",
     "iopub.status.busy": "2022-06-09T12:20:50.366156Z",
     "iopub.status.idle": "2022-06-09T12:20:50.371767Z",
     "shell.execute_reply": "2022-06-09T12:20:50.371005Z"
    },
    "papermill": {
     "duration": 0.024368,
     "end_time": "2022-06-09T12:20:50.373378",
     "exception": false,
     "start_time": "2022-06-09T12:20:50.349010",
     "status": "completed"
    },
    "tags": []
   },
   "outputs": [
    {
     "data": {
      "text/plain": [
       "'[[preprinted]]\\r\\nState of North Carolina, }\\r\\n^[[Randolph]] County. }\\r\\n\\r\\nI, ^[[W R Frazier]], do solemnly swear that I have never voluntarily borne arms against the United States since I have been a citizen thereof; that I have voluntarily given no aid, countenance, counsel, or encouragement to persons engaged in armed hostility thereto; that I have neither sought nor accepted, nor attempted to exercise the functions of any office whatever under any authority, or pretended authority, in hostility to the United States; that I have not yielded a voluntary support to any pretended government, authority, power or constitution within the United States, hostile or inimical thereto. And I do further swear, that, to the best of my knowledge and ability, I will support and defend the Constitution of the United States against all enemies, foreign and domestic; that I will bear true faith and allegiance to the same; that I take this obligation freely, without any mental reservation or purpose of evasion; and that I will well and faithfully discharge the duties of the office on which I am about to enter, so help me God.\\r\\n\\r\\n[[signature]] W R Frazer[[/signature]]\\r\\nSworn and subscribed before me, this ^[[6th]] day of ^[[Septr]], 1866.\\r\\n[[/preprinted]]\\r\\n[[signature]] W M Wilson [[/signature]] JP \\r\\n'"
      ]
     },
     "execution_count": 12,
     "metadata": {},
     "output_type": "execute_result"
    }
   ],
   "source": [
    "all_text[100]"
   ]
  },
  {
   "cell_type": "code",
   "execution_count": 13,
   "id": "5d6fd5a0",
   "metadata": {
    "execution": {
     "iopub.execute_input": "2022-06-09T12:20:50.407061Z",
     "iopub.status.busy": "2022-06-09T12:20:50.406480Z",
     "iopub.status.idle": "2022-06-09T12:20:50.411170Z",
     "shell.execute_reply": "2022-06-09T12:20:50.410488Z"
    },
    "papermill": {
     "duration": 0.023281,
     "end_time": "2022-06-09T12:20:50.412903",
     "exception": false,
     "start_time": "2022-06-09T12:20:50.389622",
     "status": "completed"
    },
    "tags": []
   },
   "outputs": [
    {
     "data": {
      "text/plain": [
       "'[[preprinted]]\\r\\nState of North Carolina, }\\r\\n^[[Randolph]] County. }\\r\\n\\r\\nI, ^[[W R Frazier]], do solemnly swear that I have never voluntarily borne arms against the United States since I have been a citizen thereof; that I have voluntarily given no aid, countenance, counsel, or encouragement to persons engaged in armed hostility thereto; that I have neither sought nor accepted, nor attempted to exercise the functions of any office whatever under any authority, or pretended authority, in hostility to the United States; that I have not yielded a voluntary support to any pretended government, authority, power or constitution within the United States, hostile or inimical thereto. And I do further swear, that, to the best of my knowledge and ability, I will support and defend the Constitution of the United States against all enemies, foreign and domestic; that I will bear true faith and allegiance to the same; that I take this obligation freely, without any mental reservation or purpose of evasion; and that I will well and faithfully discharge the duties of the office on which I am about to enter, so help me God.\\r\\n\\r\\n[[signature]] W R Frazer[[/signature]]\\r\\nSworn and subscribed before me, this ^[[6th]] day of ^[[Septr]], 1866.\\r\\n[[/preprinted]]\\r\\n[[signature]] W M Wilson [[/signature]] JP \\r\\n'"
      ]
     },
     "execution_count": 13,
     "metadata": {},
     "output_type": "execute_result"
    }
   ],
   "source": [
    "all_text[100]"
   ]
  },
  {
   "cell_type": "code",
   "execution_count": 14,
   "id": "fb5f8026",
   "metadata": {
    "execution": {
     "iopub.execute_input": "2022-06-09T12:20:50.446716Z",
     "iopub.status.busy": "2022-06-09T12:20:50.446197Z",
     "iopub.status.idle": "2022-06-09T12:20:50.450723Z",
     "shell.execute_reply": "2022-06-09T12:20:50.450063Z"
    },
    "papermill": {
     "duration": 0.023322,
     "end_time": "2022-06-09T12:20:50.452523",
     "exception": false,
     "start_time": "2022-06-09T12:20:50.429201",
     "status": "completed"
    },
    "tags": []
   },
   "outputs": [
    {
     "data": {
      "text/plain": [
       "'Copy  G6\\r\\nI, James L. Gantt solemnly swear that I have carefully read the Amnesty Proclamation issued by Andrew Johnson, President of the United States of America, on May 29th, 1865, and that I am not excepted from the benefits of that Proclamation by any one of the fourteen exceptions therein made.  /signed/ Jas L. Gantt\\r\\nSworn to and subscribed before me at Charleston, S.C. this 31 day of August 1865.\\r\\n/signed/ Levi Stuber\\r\\nMaj 47 Pa Vols\\r\\nPro Marshal\\r\\n\\r\\nNo 992\\r\\nUnites States of America\\r\\nI, James L Gantt of the City of Charleston, State of South Carolina do solemnly swear in the presence of Almighty God that I will henceforth faithfully support and defend the Constitution of the United States, and the Union of the States thereunder, and that I will in like manner, abide by and faithfully support all laws and proclamations which have been made during the existing rebellion with reference to the Emancipation of Slaves, so help me God. / signed/Jas L. Gantt\\r\\nSworn to and subscribed before me at Charleston, SC this 31 day of August 1865\\r\\n/signed/Levi Stuber\\r\\nMj 47 Pa Vols\\r\\nPM Pro Marshal\\r\\nA true copy\\r\\nJ. Milton Thompson\\r\\nCapt 33 NJV \\r\\nA A D C J & Pro Marshall\\r\\n[[left margin]] Duplicate [[\\\\left margin]]'"
      ]
     },
     "execution_count": 14,
     "metadata": {},
     "output_type": "execute_result"
    }
   ],
   "source": [
    "all_text[1200]"
   ]
  },
  {
   "cell_type": "code",
   "execution_count": 15,
   "id": "4d92a5a6",
   "metadata": {
    "execution": {
     "iopub.execute_input": "2022-06-09T12:20:50.486794Z",
     "iopub.status.busy": "2022-06-09T12:20:50.486538Z",
     "iopub.status.idle": "2022-06-09T12:20:50.491214Z",
     "shell.execute_reply": "2022-06-09T12:20:50.490523Z"
    },
    "papermill": {
     "duration": 0.023566,
     "end_time": "2022-06-09T12:20:50.492811",
     "exception": false,
     "start_time": "2022-06-09T12:20:50.469245",
     "status": "completed"
    },
    "tags": []
   },
   "outputs": [
    {
     "data": {
      "text/plain": [
       "'Copy  G6\\r\\nI, James L. Gantt solemnly swear that I have carefully read the Amnesty Proclamation issued by Andrew Johnson, President of the United States of America, on May 29th, 1865, and that I am not excepted from the benefits of that Proclamation by any one of the fourteen exceptions therein made.  /signed/ Jas L. Gantt\\r\\nSworn to and subscribed before me at Charleston, S.C. this 31 day of August 1865.\\r\\n/signed/ Levi Stuber\\r\\nMaj 47 Pa Vols\\r\\nPro Marshal\\r\\n\\r\\nNo 992\\r\\nUnites States of America\\r\\nI, James L Gantt of the City of Charleston, State of South Carolina do solemnly swear in the presence of Almighty God that I will henceforth faithfully support and defend the Constitution of the United States, and the Union of the States thereunder, and that I will in like manner, abide by and faithfully support all laws and proclamations which have been made during the existing rebellion with reference to the Emancipation of Slaves, so help me God. / signed/Jas L. Gantt\\r\\nSworn to and subscribed before me at Charleston, SC this 31 day of August 1865\\r\\n/signed/Levi Stuber\\r\\nMj 47 Pa Vols\\r\\nPM Pro Marshal\\r\\nA true copy\\r\\nJ. Milton Thompson\\r\\nCapt 33 NJV \\r\\nA A D C J & Pro Marshall\\r\\n[[left margin]] Duplicate [[\\\\left margin]]'"
      ]
     },
     "execution_count": 15,
     "metadata": {},
     "output_type": "execute_result"
    }
   ],
   "source": [
    "all_text[1200]"
   ]
  },
  {
   "cell_type": "code",
   "execution_count": 16,
   "id": "271e8899",
   "metadata": {
    "execution": {
     "iopub.execute_input": "2022-06-09T12:20:50.527741Z",
     "iopub.status.busy": "2022-06-09T12:20:50.527205Z",
     "iopub.status.idle": "2022-06-09T12:20:50.531735Z",
     "shell.execute_reply": "2022-06-09T12:20:50.531079Z"
    },
    "papermill": {
     "duration": 0.023975,
     "end_time": "2022-06-09T12:20:50.533533",
     "exception": false,
     "start_time": "2022-06-09T12:20:50.509558",
     "status": "completed"
    },
    "tags": []
   },
   "outputs": [
    {
     "data": {
      "text/plain": [
       "'against the said property, but was unable to do so by reason of the absence of the Tax collector. Your petitioner therefore requests that an order be granted to her to enable her to regain possession of her premises aforesaid. (Known as No. 58 Cannon Street and held by Richard Roper as Trustee for the benefit of herself and daughters.) so that she can continue to realize an income by renting the same of which she is greatly in need.\\r\\n\\r\\nAs an evidence of loyalty your petitioner has taken the oath of allegiance, a copy of which is herein enclosed.\\r\\n\\r\\nAnd your Petitioner will ever pray: and so forth. \\r\\n\\r\\nAnne W. Gibbes\\r\\n\\r\\nCheraw So. Ca.\\r\\nSeptember 11th 1865\\r\\n\\r\\n\\r\\nDuplicate\\r\\n\\r\\n[Copy.]  \\r\\nHEADQUARTERS UNITED STATES FORCES.\\r\\nNO. 604 PROVOST MARSHAL\\'S OFFICE.\\r\\nCheraw S.C. 11th Sept 1865.\\r\\n\\r\\nI A.W. Gibs, do solemnly sear, in presence of Almighty God, that I will henceforth faithfully support and defend the Constitution of the United States and the Union of the States thereunder, and that I will in like manner, abide by and faithfully support all Laws and Proclamations which have been made during the existing Rebellion with reference to Emancipation of Slave -- \"SO HELP ME GOD.\"\\r\\n\\r\\nSworn to and subscribed before me at Cheraw S.C., this 11th day of Sept 1865.\\r\\n\\r\\nAnne W. Gibbes\\r\\nA. Austin Sperry Asst Provost Marshal.   '"
      ]
     },
     "execution_count": 16,
     "metadata": {},
     "output_type": "execute_result"
    }
   ],
   "source": [
    "all_text[1203]"
   ]
  },
  {
   "cell_type": "code",
   "execution_count": 17,
   "id": "7f8441c6",
   "metadata": {
    "execution": {
     "iopub.execute_input": "2022-06-09T12:20:50.568174Z",
     "iopub.status.busy": "2022-06-09T12:20:50.567610Z",
     "iopub.status.idle": "2022-06-09T12:20:50.572272Z",
     "shell.execute_reply": "2022-06-09T12:20:50.571593Z"
    },
    "papermill": {
     "duration": 0.02369,
     "end_time": "2022-06-09T12:20:50.574033",
     "exception": false,
     "start_time": "2022-06-09T12:20:50.550343",
     "status": "completed"
    },
    "tags": []
   },
   "outputs": [
    {
     "data": {
      "text/plain": [
       "'I, P.T. Gervais solemnly swear that I have carefully read the Amnesty Proclamation issued by ANDREW JOHNSON, President of the United States of America, on May 29th, 1865, and that I am not excepted from the benefits of that Proclamation by any one of the fourteen exceptions therein made, [[strikethrough]] except [[/strikethrough]]\\r\\n\\r\\nPaul T. Gervais\\r\\n\\r\\nSworn to and subscribed before me at Charleston SC this 1st day of oct 1865.\\r\\nJ Miller Thompson\\r\\nCp & 33 U.S.C.T. & P. M.\\r\\nNo. 1621\\r\\n\\r\\nUnited States of America\\r\\n\\r\\nPT Garvais [[Gervais]] of the [[strikethrough]] County [[/strikethrough]] Dist of Charleston State of South CA do solemnly swear in the presence of Almighty God, that I will henceforth faithfully support and defend the Constitution of the United States, and the Union of the States thereunder that I will, in like manner, abid by and faithfully support all laws and proclamations which have been made during the existing rebellion with reference to the Emancipation of Slaves---SO HELP ME GOD.\\r\\n\\r\\nPaul T. Gervais. \\r\\nSworn to and subscribed before me at Charleston SC this [[?]] day of Oct 1865.\\r\\nJ Miller Thompson\\r\\nCp & 33 USCT & P.M.\\r\\n\\r\\nThe above has Dark complexion Dark hair, and Hazel eyes; is 5 feet 4 inches high, and 41 years; by profession a Painter\\r\\n\\r\\n(The original Oaths will be transmitted, by the officer administering them, to the Department of State, through intermediate channels, and a certified copy thereof will be furnished to the applicant for pardon, to accompany his petition.)'"
      ]
     },
     "execution_count": 17,
     "metadata": {},
     "output_type": "execute_result"
    }
   ],
   "source": [
    "all_text[1201]"
   ]
  },
  {
   "cell_type": "code",
   "execution_count": 18,
   "id": "dc3ee72a",
   "metadata": {
    "execution": {
     "iopub.execute_input": "2022-06-09T12:20:50.608723Z",
     "iopub.status.busy": "2022-06-09T12:20:50.608201Z",
     "iopub.status.idle": "2022-06-09T12:20:50.618707Z",
     "shell.execute_reply": "2022-06-09T12:20:50.618074Z"
    },
    "papermill": {
     "duration": 0.02961,
     "end_time": "2022-06-09T12:20:50.620330",
     "exception": false,
     "start_time": "2022-06-09T12:20:50.590720",
     "status": "completed"
    },
    "tags": []
   },
   "outputs": [],
   "source": [
    "stop_words = set(stopwords.words('english'))\n",
    "punctuation = string.punctuation\n",
    "stemmer = SnowballStemmer(language=\"english\")\n",
    "lemmatizer = WordNetLemmatizer()"
   ]
  },
  {
   "cell_type": "code",
   "execution_count": 19,
   "id": "d3bcc6a9",
   "metadata": {
    "execution": {
     "iopub.execute_input": "2022-06-09T12:20:50.655849Z",
     "iopub.status.busy": "2022-06-09T12:20:50.655274Z",
     "iopub.status.idle": "2022-06-09T12:20:50.660155Z",
     "shell.execute_reply": "2022-06-09T12:20:50.659480Z"
    },
    "papermill": {
     "duration": 0.02414,
     "end_time": "2022-06-09T12:20:50.661853",
     "exception": false,
     "start_time": "2022-06-09T12:20:50.637713",
     "status": "completed"
    },
    "tags": []
   },
   "outputs": [
    {
     "data": {
      "text/plain": [
       "'!\"#$%&\\'()*+,-./:;<=>?@[\\\\]^_`{|}~'"
      ]
     },
     "execution_count": 19,
     "metadata": {},
     "output_type": "execute_result"
    }
   ],
   "source": [
    "stop_words.remove(\"of\")\n",
    "punctuation"
   ]
  },
  {
   "cell_type": "markdown",
   "id": "ebcb24a0",
   "metadata": {
    "papermill": {
     "duration": 0.017175,
     "end_time": "2022-06-09T12:20:50.695809",
     "exception": false,
     "start_time": "2022-06-09T12:20:50.678634",
     "status": "completed"
    },
    "tags": []
   },
   "source": [
    "# without punctuation"
   ]
  },
  {
   "cell_type": "code",
   "execution_count": 20,
   "id": "2ab263b6",
   "metadata": {
    "execution": {
     "iopub.execute_input": "2022-06-09T12:20:50.730643Z",
     "iopub.status.busy": "2022-06-09T12:20:50.730378Z",
     "iopub.status.idle": "2022-06-09T12:20:50.734806Z",
     "shell.execute_reply": "2022-06-09T12:20:50.734095Z"
    },
    "papermill": {
     "duration": 0.023784,
     "end_time": "2022-06-09T12:20:50.736469",
     "exception": false,
     "start_time": "2022-06-09T12:20:50.712685",
     "status": "completed"
    },
    "tags": []
   },
   "outputs": [],
   "source": [
    "def process(s):\n",
    "    s= re.sub(\"([\\(\\[]).*?([\\)\\]])\",\" \",s)\n",
    "    s = word_tokenize(s)\n",
    "    s = [w for w in s if not w in stop_words] #optional\n",
    "    s = [lemmatizer.lemmatize(word) for word in s]\n",
    "    return s"
   ]
  },
  {
   "cell_type": "code",
   "execution_count": 21,
   "id": "46d616c6",
   "metadata": {
    "execution": {
     "iopub.execute_input": "2022-06-09T12:20:50.771479Z",
     "iopub.status.busy": "2022-06-09T12:20:50.770906Z",
     "iopub.status.idle": "2022-06-09T12:20:58.882573Z",
     "shell.execute_reply": "2022-06-09T12:20:58.881561Z"
    },
    "papermill": {
     "duration": 8.131298,
     "end_time": "2022-06-09T12:20:58.884694",
     "exception": false,
     "start_time": "2022-06-09T12:20:50.753396",
     "status": "completed"
    },
    "tags": []
   },
   "outputs": [
    {
     "name": "stderr",
     "output_type": "stream",
     "text": [
      "100%|██████████| 2136/2136 [00:08<00:00, 263.63it/s]\n"
     ]
    }
   ],
   "source": [
    "for i in tqdm(range(newdata.shape[0])):\n",
    "    all_text[i] = process(all_text[i])"
   ]
  },
  {
   "cell_type": "code",
   "execution_count": 22,
   "id": "4d6c4be5",
   "metadata": {
    "execution": {
     "iopub.execute_input": "2022-06-09T12:20:58.928602Z",
     "iopub.status.busy": "2022-06-09T12:20:58.928306Z",
     "iopub.status.idle": "2022-06-09T12:20:59.665517Z",
     "shell.execute_reply": "2022-06-09T12:20:59.664537Z"
    },
    "papermill": {
     "duration": 0.760679,
     "end_time": "2022-06-09T12:20:59.667226",
     "exception": false,
     "start_time": "2022-06-09T12:20:58.906547",
     "status": "completed"
    },
    "tags": []
   },
   "outputs": [
    {
     "name": "stderr",
     "output_type": "stream",
     "text": [
      "100%|██████████| 2136/2136 [00:00<00:00, 2932.29it/s]\n"
     ]
    }
   ],
   "source": [
    "for i in tqdm(range(newdata.shape[0])):\n",
    "    all_text[i] = \" \".join(all_text[i])"
   ]
  },
  {
   "cell_type": "code",
   "execution_count": 23,
   "id": "11b9b612",
   "metadata": {
    "execution": {
     "iopub.execute_input": "2022-06-09T12:20:59.711323Z",
     "iopub.status.busy": "2022-06-09T12:20:59.711042Z",
     "iopub.status.idle": "2022-06-09T12:20:59.718371Z",
     "shell.execute_reply": "2022-06-09T12:20:59.717518Z"
    },
    "papermill": {
     "duration": 0.030737,
     "end_time": "2022-06-09T12:20:59.720081",
     "exception": false,
     "start_time": "2022-06-09T12:20:59.689344",
     "status": "completed"
    },
    "tags": []
   },
   "outputs": [
    {
     "data": {
      "text/plain": [
       "0       ] I , ] I C Meekins ] , of ] Currituck ] Count...\n",
       "1       ^ ] ] Department of Virginia North Carolina , ...\n",
       "2       ] I , ] W. H. Pearce , ] of ] Craven ] County ...\n",
       "3       State of North Carolina , } ________ County . ...\n",
       "4       State of North Carolina , Wake ] ] County . I ...\n",
       "                              ...                        \n",
       "2131    Office Provost Marshal Raleigh , N.C. May 26 '...\n",
       "2132    July 30th 1867 Birnie Wm Agent Bu R F & A L Oa...\n",
       "2133    State of North Carolina , } Robeson County . I...\n",
       "2134    NARA 449 102 We whose name written well person...\n",
       "2135    NARA 450 404 Office Provost Marshall City of W...\n",
       "Name: transcription_text, Length: 2136, dtype: object"
      ]
     },
     "execution_count": 23,
     "metadata": {},
     "output_type": "execute_result"
    }
   ],
   "source": [
    "all_text"
   ]
  },
  {
   "cell_type": "code",
   "execution_count": 24,
   "id": "9c7dcf2f",
   "metadata": {
    "execution": {
     "iopub.execute_input": "2022-06-09T12:20:59.763522Z",
     "iopub.status.busy": "2022-06-09T12:20:59.763275Z",
     "iopub.status.idle": "2022-06-09T12:20:59.768241Z",
     "shell.execute_reply": "2022-06-09T12:20:59.767429Z"
    },
    "papermill": {
     "duration": 0.029573,
     "end_time": "2022-06-09T12:20:59.770689",
     "exception": false,
     "start_time": "2022-06-09T12:20:59.741116",
     "status": "completed"
    },
    "tags": []
   },
   "outputs": [
    {
     "data": {
      "text/plain": [
       "'] I , ] I C Meekins ] , of ] Currituck ] County , State of North Carolina , solemnly swear affirm , presence of Almighty God , I henceforth faithfully support , protect defend Constitution of United States Union of States thereunder ; I , like manner , abide faithfully support law proclamation made existing rebellion reference emancipation of slave . So help God. ] Isaac C. Meekins ] Sworn subscribed ] 16 ] day of ] Sept ] A.D. , 1865 , ] E H Walker ] , J.P . It hereby certified true copy of original oath taken subscribed ] I C Meekins E H Walker , J.P. John B Etheridge , J.P. ] ]'"
      ]
     },
     "execution_count": 24,
     "metadata": {},
     "output_type": "execute_result"
    }
   ],
   "source": [
    "all_text[0]"
   ]
  },
  {
   "cell_type": "code",
   "execution_count": null,
   "id": "e04be5b2",
   "metadata": {
    "papermill": {
     "duration": 0.021148,
     "end_time": "2022-06-09T12:20:59.812771",
     "exception": false,
     "start_time": "2022-06-09T12:20:59.791623",
     "status": "completed"
    },
    "tags": []
   },
   "outputs": [],
   "source": []
  },
  {
   "cell_type": "code",
   "execution_count": null,
   "id": "beb1c528",
   "metadata": {
    "papermill": {
     "duration": 0.020727,
     "end_time": "2022-06-09T12:20:59.854688",
     "exception": false,
     "start_time": "2022-06-09T12:20:59.833961",
     "status": "completed"
    },
    "tags": []
   },
   "outputs": [],
   "source": []
  },
  {
   "cell_type": "code",
   "execution_count": null,
   "id": "8f85efe6",
   "metadata": {
    "papermill": {
     "duration": 0.020812,
     "end_time": "2022-06-09T12:20:59.896562",
     "exception": false,
     "start_time": "2022-06-09T12:20:59.875750",
     "status": "completed"
    },
    "tags": []
   },
   "outputs": [],
   "source": []
  },
  {
   "cell_type": "code",
   "execution_count": null,
   "id": "52ee60dc",
   "metadata": {
    "papermill": {
     "duration": 0.021261,
     "end_time": "2022-06-09T12:20:59.938771",
     "exception": false,
     "start_time": "2022-06-09T12:20:59.917510",
     "status": "completed"
    },
    "tags": []
   },
   "outputs": [],
   "source": []
  },
  {
   "cell_type": "code",
   "execution_count": null,
   "id": "8f57ebc8",
   "metadata": {
    "papermill": {
     "duration": 0.020851,
     "end_time": "2022-06-09T12:20:59.981721",
     "exception": false,
     "start_time": "2022-06-09T12:20:59.960870",
     "status": "completed"
    },
    "tags": []
   },
   "outputs": [],
   "source": []
  },
  {
   "cell_type": "markdown",
   "id": "030c58ad",
   "metadata": {
    "papermill": {
     "duration": 0.021252,
     "end_time": "2022-06-09T12:21:00.024125",
     "exception": false,
     "start_time": "2022-06-09T12:21:00.002873",
     "status": "completed"
    },
    "tags": []
   },
   "source": [
    "# Flair"
   ]
  },
  {
   "cell_type": "code",
   "execution_count": 25,
   "id": "7cc8b5d2",
   "metadata": {
    "execution": {
     "iopub.execute_input": "2022-06-09T12:21:00.067926Z",
     "iopub.status.busy": "2022-06-09T12:21:00.067588Z",
     "iopub.status.idle": "2022-06-09T12:22:01.524181Z",
     "shell.execute_reply": "2022-06-09T12:22:01.523191Z"
    },
    "papermill": {
     "duration": 61.480741,
     "end_time": "2022-06-09T12:22:01.526337",
     "exception": false,
     "start_time": "2022-06-09T12:21:00.045596",
     "status": "completed"
    },
    "tags": []
   },
   "outputs": [
    {
     "name": "stdout",
     "output_type": "stream",
     "text": [
      "Requirement already satisfied: Cython in /opt/conda/lib/python3.7/site-packages (0.29.30)\r\n",
      "\u001b[33mWARNING: Running pip as the 'root' user can result in broken permissions and conflicting behaviour with the system package manager. It is recommended to use a virtual environment instead: https://pip.pypa.io/warnings/venv\u001b[0m\u001b[33m\r\n",
      "\u001b[0mRequirement already satisfied: transformers in /opt/conda/lib/python3.7/site-packages (4.18.0)\r\n",
      "Requirement already satisfied: filelock in /opt/conda/lib/python3.7/site-packages (from transformers) (3.6.0)\r\n",
      "Requirement already satisfied: importlib-metadata in /opt/conda/lib/python3.7/site-packages (from transformers) (4.11.4)\r\n",
      "Requirement already satisfied: sacremoses in /opt/conda/lib/python3.7/site-packages (from transformers) (0.0.53)\r\n",
      "Requirement already satisfied: numpy>=1.17 in /opt/conda/lib/python3.7/site-packages (from transformers) (1.21.6)\r\n",
      "Requirement already satisfied: tqdm>=4.27 in /opt/conda/lib/python3.7/site-packages (from transformers) (4.64.0)\r\n",
      "Requirement already satisfied: huggingface-hub<1.0,>=0.1.0 in /opt/conda/lib/python3.7/site-packages (from transformers) (0.5.1)\r\n",
      "Requirement already satisfied: pyyaml>=5.1 in /opt/conda/lib/python3.7/site-packages (from transformers) (6.0)\r\n",
      "Requirement already satisfied: packaging>=20.0 in /opt/conda/lib/python3.7/site-packages (from transformers) (21.3)\r\n",
      "Requirement already satisfied: requests in /opt/conda/lib/python3.7/site-packages (from transformers) (2.27.1)\r\n",
      "Requirement already satisfied: tokenizers!=0.11.3,<0.13,>=0.11.1 in /opt/conda/lib/python3.7/site-packages (from transformers) (0.12.1)\r\n",
      "Requirement already satisfied: regex!=2019.12.17 in /opt/conda/lib/python3.7/site-packages (from transformers) (2021.11.10)\r\n",
      "Requirement already satisfied: typing-extensions>=3.7.4.3 in /opt/conda/lib/python3.7/site-packages (from huggingface-hub<1.0,>=0.1.0->transformers) (4.2.0)\r\n",
      "Requirement already satisfied: pyparsing!=3.0.5,>=2.0.2 in /opt/conda/lib/python3.7/site-packages (from packaging>=20.0->transformers) (3.0.9)\r\n",
      "Requirement already satisfied: zipp>=0.5 in /opt/conda/lib/python3.7/site-packages (from importlib-metadata->transformers) (3.8.0)\r\n",
      "Requirement already satisfied: certifi>=2017.4.17 in /opt/conda/lib/python3.7/site-packages (from requests->transformers) (2022.5.18.1)\r\n",
      "Requirement already satisfied: charset-normalizer~=2.0.0 in /opt/conda/lib/python3.7/site-packages (from requests->transformers) (2.0.12)\r\n",
      "Requirement already satisfied: urllib3<1.27,>=1.21.1 in /opt/conda/lib/python3.7/site-packages (from requests->transformers) (1.26.9)\r\n",
      "Requirement already satisfied: idna<4,>=2.5 in /opt/conda/lib/python3.7/site-packages (from requests->transformers) (3.3)\r\n",
      "Requirement already satisfied: six in /opt/conda/lib/python3.7/site-packages (from sacremoses->transformers) (1.16.0)\r\n",
      "Requirement already satisfied: joblib in /opt/conda/lib/python3.7/site-packages (from sacremoses->transformers) (1.1.0)\r\n",
      "Requirement already satisfied: click in /opt/conda/lib/python3.7/site-packages (from sacremoses->transformers) (8.0.4)\r\n",
      "\u001b[33mWARNING: Running pip as the 'root' user can result in broken permissions and conflicting behaviour with the system package manager. It is recommended to use a virtual environment instead: https://pip.pypa.io/warnings/venv\u001b[0m\u001b[33m\r\n",
      "\u001b[0mCollecting flair\r\n",
      "  Downloading flair-0.11.3-py3-none-any.whl (401 kB)\r\n",
      "\u001b[2K     \u001b[90m━━━━━━━━━━━━━━━━━━━━━━━━━━━━━━━━━━━━━━━\u001b[0m \u001b[32m401.9/401.9 kB\u001b[0m \u001b[31m1.3 MB/s\u001b[0m eta \u001b[36m0:00:00\u001b[0m\r\n",
      "\u001b[?25hCollecting pptree\r\n",
      "  Downloading pptree-3.1.tar.gz (3.0 kB)\r\n",
      "  Preparing metadata (setup.py) ... \u001b[?25l-\b \bdone\r\n",
      "\u001b[?25hCollecting ftfy\r\n",
      "  Downloading ftfy-6.1.1-py3-none-any.whl (53 kB)\r\n",
      "\u001b[2K     \u001b[90m━━━━━━━━━━━━━━━━━━━━━━━━━━━━━━━━━━━━━━━━\u001b[0m \u001b[32m53.1/53.1 kB\u001b[0m \u001b[31m5.9 MB/s\u001b[0m eta \u001b[36m0:00:00\u001b[0m\r\n",
      "\u001b[?25hCollecting sentencepiece==0.1.95\r\n",
      "  Downloading sentencepiece-0.1.95-cp37-cp37m-manylinux2014_x86_64.whl (1.2 MB)\r\n",
      "\u001b[2K     \u001b[90m━━━━━━━━━━━━━━━━━━━━━━━━━━━━━━━━━━━━━━━━\u001b[0m \u001b[32m1.2/1.2 MB\u001b[0m \u001b[31m8.3 MB/s\u001b[0m eta \u001b[36m0:00:00\u001b[0m\r\n",
      "\u001b[?25hCollecting langdetect\r\n",
      "  Downloading langdetect-1.0.9.tar.gz (981 kB)\r\n",
      "\u001b[2K     \u001b[90m━━━━━━━━━━━━━━━━━━━━━━━━━━━━━━━━━━━━━━\u001b[0m \u001b[32m981.5/981.5 kB\u001b[0m \u001b[31m25.7 MB/s\u001b[0m eta \u001b[36m0:00:00\u001b[0m\r\n",
      "\u001b[?25h  Preparing metadata (setup.py) ... \u001b[?25l-\b \bdone\r\n",
      "\u001b[?25hRequirement already satisfied: more-itertools in /opt/conda/lib/python3.7/site-packages (from flair) (8.13.0)\r\n",
      "Requirement already satisfied: lxml in /opt/conda/lib/python3.7/site-packages (from flair) (4.8.0)\r\n",
      "Requirement already satisfied: tabulate in /opt/conda/lib/python3.7/site-packages (from flair) (0.8.9)\r\n",
      "Requirement already satisfied: regex in /opt/conda/lib/python3.7/site-packages (from flair) (2021.11.10)\r\n",
      "Collecting deprecated>=1.2.4\r\n",
      "  Downloading Deprecated-1.2.13-py2.py3-none-any.whl (9.6 kB)\r\n",
      "Requirement already satisfied: tqdm>=4.26.0 in /opt/conda/lib/python3.7/site-packages (from flair) (4.64.0)\r\n",
      "Collecting sqlitedict>=1.6.0\r\n",
      "  Downloading sqlitedict-2.0.0.tar.gz (46 kB)\r\n",
      "\u001b[2K     \u001b[90m━━━━━━━━━━━━━━━━━━━━━━━━━━━━━━━━━━━━━━━━\u001b[0m \u001b[32m46.3/46.3 kB\u001b[0m \u001b[31m4.5 MB/s\u001b[0m eta \u001b[36m0:00:00\u001b[0m\r\n",
      "\u001b[?25h  Preparing metadata (setup.py) ... \u001b[?25l-\b \bdone\r\n",
      "\u001b[?25hCollecting gdown==4.4.0\r\n",
      "  Downloading gdown-4.4.0.tar.gz (14 kB)\r\n",
      "  Installing build dependencies ... \u001b[?25l-\b \b\\\b \b|\b \b/\b \b-\b \b\\\b \bdone\r\n",
      "\u001b[?25h  Getting requirements to build wheel ... \u001b[?25l-\b \b\\\b \b|\b \b/\b \b-\b \b\\\b \bdone\r\n",
      "\u001b[?25h  Preparing metadata (pyproject.toml) ... \u001b[?25l-\b \b\\\b \b|\b \b/\b \b-\b \b\\\b \bdone\r\n",
      "\u001b[?25hCollecting segtok>=1.5.7\r\n",
      "  Downloading segtok-1.5.11-py3-none-any.whl (24 kB)\r\n",
      "Collecting konoha<5.0.0,>=4.0.0\r\n",
      "  Downloading konoha-4.6.5-py3-none-any.whl (20 kB)\r\n",
      "Collecting wikipedia-api\r\n",
      "  Downloading Wikipedia-API-0.5.4.tar.gz (18 kB)\r\n",
      "  Preparing metadata (setup.py) ... \u001b[?25l-\b \bdone\r\n",
      "\u001b[?25hCollecting mpld3==0.3\r\n",
      "  Downloading mpld3-0.3.tar.gz (788 kB)\r\n",
      "\u001b[2K     \u001b[90m━━━━━━━━━━━━━━━━━━━━━━━━━━━━━━━━━━━━━━\u001b[0m \u001b[32m788.5/788.5 kB\u001b[0m \u001b[31m32.8 MB/s\u001b[0m eta \u001b[36m0:00:00\u001b[0m\r\n",
      "\u001b[?25h  Preparing metadata (setup.py) ... \u001b[?25l-\b \bdone\r\n",
      "\u001b[?25hRequirement already satisfied: transformers>=4.0.0 in /opt/conda/lib/python3.7/site-packages (from flair) (4.18.0)\r\n",
      "Requirement already satisfied: matplotlib>=2.2.3 in /opt/conda/lib/python3.7/site-packages (from flair) (3.5.2)\r\n",
      "Requirement already satisfied: huggingface-hub in /opt/conda/lib/python3.7/site-packages (from flair) (0.5.1)\r\n",
      "Requirement already satisfied: gensim>=3.4.0 in /opt/conda/lib/python3.7/site-packages (from flair) (4.0.1)\r\n",
      "Collecting conllu>=4.0\r\n",
      "  Downloading conllu-4.4.2-py2.py3-none-any.whl (15 kB)\r\n",
      "Requirement already satisfied: janome in /opt/conda/lib/python3.7/site-packages (from flair) (0.4.2)\r\n",
      "Requirement already satisfied: hyperopt>=0.2.7 in /opt/conda/lib/python3.7/site-packages (from flair) (0.2.7)\r\n",
      "Requirement already satisfied: torch!=1.8,>=1.5.0 in /opt/conda/lib/python3.7/site-packages (from flair) (1.11.0)\r\n",
      "Requirement already satisfied: python-dateutil>=2.6.1 in /opt/conda/lib/python3.7/site-packages (from flair) (2.8.2)\r\n",
      "Collecting bpemb>=0.3.2\r\n",
      "  Downloading bpemb-0.3.3-py3-none-any.whl (19 kB)\r\n",
      "Requirement already satisfied: scikit-learn>=0.21.3 in /opt/conda/lib/python3.7/site-packages (from flair) (1.0.2)\r\n",
      "Requirement already satisfied: beautifulsoup4 in /opt/conda/lib/python3.7/site-packages (from gdown==4.4.0->flair) (4.11.1)\r\n",
      "Requirement already satisfied: requests[socks] in /opt/conda/lib/python3.7/site-packages (from gdown==4.4.0->flair) (2.27.1)\r\n",
      "Requirement already satisfied: filelock in /opt/conda/lib/python3.7/site-packages (from gdown==4.4.0->flair) (3.6.0)\r\n",
      "Requirement already satisfied: six in /opt/conda/lib/python3.7/site-packages (from gdown==4.4.0->flair) (1.16.0)\r\n",
      "Requirement already satisfied: numpy in /opt/conda/lib/python3.7/site-packages (from bpemb>=0.3.2->flair) (1.21.6)\r\n",
      "Requirement already satisfied: wrapt<2,>=1.10 in /opt/conda/lib/python3.7/site-packages (from deprecated>=1.2.4->flair) (1.14.1)\r\n",
      "Requirement already satisfied: scipy>=0.18.1 in /opt/conda/lib/python3.7/site-packages (from gensim>=3.4.0->flair) (1.7.3)\r\n",
      "Requirement already satisfied: smart-open>=1.8.1 in /opt/conda/lib/python3.7/site-packages (from gensim>=3.4.0->flair) (5.2.1)\r\n",
      "Requirement already satisfied: networkx>=2.2 in /opt/conda/lib/python3.7/site-packages (from hyperopt>=0.2.7->flair) (2.5)\r\n",
      "Requirement already satisfied: py4j in /opt/conda/lib/python3.7/site-packages (from hyperopt>=0.2.7->flair) (0.10.9.5)\r\n",
      "Requirement already satisfied: cloudpickle in /opt/conda/lib/python3.7/site-packages (from hyperopt>=0.2.7->flair) (2.0.0)\r\n",
      "Requirement already satisfied: future in /opt/conda/lib/python3.7/site-packages (from hyperopt>=0.2.7->flair) (0.18.2)\r\n",
      "Collecting importlib-metadata<4.0.0,>=3.7.0\r\n",
      "  Downloading importlib_metadata-3.10.1-py3-none-any.whl (14 kB)\r\n",
      "Collecting overrides<4.0.0,>=3.0.0\r\n",
      "  Downloading overrides-3.1.0.tar.gz (11 kB)\r\n",
      "  Preparing metadata (setup.py) ... \u001b[?25l-\b \bdone\r\n",
      "\u001b[?25hRequirement already satisfied: cycler>=0.10 in /opt/conda/lib/python3.7/site-packages (from matplotlib>=2.2.3->flair) (0.11.0)\r\n",
      "Requirement already satisfied: pillow>=6.2.0 in /opt/conda/lib/python3.7/site-packages (from matplotlib>=2.2.3->flair) (9.1.0)\r\n",
      "Requirement already satisfied: fonttools>=4.22.0 in /opt/conda/lib/python3.7/site-packages (from matplotlib>=2.2.3->flair) (4.33.3)\r\n",
      "Requirement already satisfied: packaging>=20.0 in /opt/conda/lib/python3.7/site-packages (from matplotlib>=2.2.3->flair) (21.3)\r\n",
      "Requirement already satisfied: kiwisolver>=1.0.1 in /opt/conda/lib/python3.7/site-packages (from matplotlib>=2.2.3->flair) (1.4.2)\r\n",
      "Requirement already satisfied: pyparsing>=2.2.1 in /opt/conda/lib/python3.7/site-packages (from matplotlib>=2.2.3->flair) (3.0.9)\r\n",
      "Requirement already satisfied: joblib>=0.11 in /opt/conda/lib/python3.7/site-packages (from scikit-learn>=0.21.3->flair) (1.1.0)\r\n",
      "Requirement already satisfied: threadpoolctl>=2.0.0 in /opt/conda/lib/python3.7/site-packages (from scikit-learn>=0.21.3->flair) (3.1.0)\r\n",
      "Requirement already satisfied: typing-extensions in /opt/conda/lib/python3.7/site-packages (from torch!=1.8,>=1.5.0->flair) (4.2.0)\r\n",
      "Requirement already satisfied: pyyaml>=5.1 in /opt/conda/lib/python3.7/site-packages (from transformers>=4.0.0->flair) (6.0)\r\n",
      "Requirement already satisfied: sacremoses in /opt/conda/lib/python3.7/site-packages (from transformers>=4.0.0->flair) (0.0.53)\r\n",
      "Requirement already satisfied: tokenizers!=0.11.3,<0.13,>=0.11.1 in /opt/conda/lib/python3.7/site-packages (from transformers>=4.0.0->flair) (0.12.1)\r\n",
      "Requirement already satisfied: wcwidth>=0.2.5 in /opt/conda/lib/python3.7/site-packages (from ftfy->flair) (0.2.5)\r\n",
      "Requirement already satisfied: zipp>=0.5 in /opt/conda/lib/python3.7/site-packages (from importlib-metadata<4.0.0,>=3.7.0->konoha<5.0.0,>=4.0.0->flair) (3.8.0)\r\n",
      "Requirement already satisfied: decorator>=4.3.0 in /opt/conda/lib/python3.7/site-packages (from networkx>=2.2->hyperopt>=0.2.7->flair) (5.1.1)\r\n",
      "Requirement already satisfied: urllib3<1.27,>=1.21.1 in /opt/conda/lib/python3.7/site-packages (from requests[socks]->gdown==4.4.0->flair) (1.26.9)\r\n",
      "Requirement already satisfied: charset-normalizer~=2.0.0 in /opt/conda/lib/python3.7/site-packages (from requests[socks]->gdown==4.4.0->flair) (2.0.12)\r\n",
      "Requirement already satisfied: certifi>=2017.4.17 in /opt/conda/lib/python3.7/site-packages (from requests[socks]->gdown==4.4.0->flair) (2022.5.18.1)\r\n",
      "Requirement already satisfied: idna<4,>=2.5 in /opt/conda/lib/python3.7/site-packages (from requests[socks]->gdown==4.4.0->flair) (3.3)\r\n",
      "Requirement already satisfied: soupsieve>1.2 in /opt/conda/lib/python3.7/site-packages (from beautifulsoup4->gdown==4.4.0->flair) (2.3.1)\r\n",
      "Requirement already satisfied: PySocks!=1.5.7,>=1.5.6 in /opt/conda/lib/python3.7/site-packages (from requests[socks]->gdown==4.4.0->flair) (1.7.1)\r\n",
      "Requirement already satisfied: click in /opt/conda/lib/python3.7/site-packages (from sacremoses->transformers>=4.0.0->flair) (8.0.4)\r\n",
      "Building wheels for collected packages: gdown, mpld3, sqlitedict, langdetect, pptree, wikipedia-api, overrides\r\n",
      "  Building wheel for gdown (pyproject.toml) ... \u001b[?25l-\b \b\\\b \b|\b \b/\b \b-\b \b\\\b \b|\b \bdone\r\n",
      "\u001b[?25h  Created wheel for gdown: filename=gdown-4.4.0-py3-none-any.whl size=14759 sha256=e412fbe2e85b8ea0a44de4b3ea1f807d83e0d71e873eda03a1b1969ff11de9c8\r\n",
      "  Stored in directory: /root/.cache/pip/wheels/fb/c3/0e/c4d8ff8bfcb0461afff199471449f642179b74968c15b7a69c\r\n",
      "  Building wheel for mpld3 (setup.py) ... \u001b[?25l-\b \b\\\b \bdone\r\n",
      "\u001b[?25h  Created wheel for mpld3: filename=mpld3-0.3-py3-none-any.whl size=116702 sha256=173d5c73286f0bc1477d7429dd3e9c77e30d3b08395f8444ab8192287e99da42\r\n",
      "  Stored in directory: /root/.cache/pip/wheels/26/70/6a/1c79e59951a41b4045497da187b2724f5659ca64033cf4548e\r\n",
      "  Building wheel for sqlitedict (setup.py) ... \u001b[?25l-\b \bdone\r\n",
      "\u001b[?25h  Created wheel for sqlitedict: filename=sqlitedict-2.0.0-py3-none-any.whl size=15736 sha256=9988f23837af9424d61f07fc8b46bf3a8200a5ac7be49361d596f237a0ba1857\r\n",
      "  Stored in directory: /root/.cache/pip/wheels/96/dd/2e/0ed4a25cb73fc30c7ea8d10b50acb7226175736067e40a7ea3\r\n",
      "  Building wheel for langdetect (setup.py) ... \u001b[?25l-\b \b\\\b \b|\b \b/\b \bdone\r\n",
      "\u001b[?25h  Created wheel for langdetect: filename=langdetect-1.0.9-py3-none-any.whl size=993242 sha256=0badd3903c8ae90302483f5670574555cb969a5a8ac0b31d5eec516760dd261d\r\n",
      "  Stored in directory: /root/.cache/pip/wheels/c5/96/8a/f90c59ed25d75e50a8c10a1b1c2d4c402e4dacfa87f3aff36a\r\n",
      "  Building wheel for pptree (setup.py) ... \u001b[?25l-\b \bdone\r\n",
      "\u001b[?25h  Created wheel for pptree: filename=pptree-3.1-py3-none-any.whl size=4629 sha256=263a34951a7bc6d95a6b2b06d45e752f5032a5bcc0f6d09c55cabd480fcca108\r\n",
      "  Stored in directory: /root/.cache/pip/wheels/9e/e8/7d/a9c3c19b4722608a0d8b05a38c36bc3f230c43becd2a46794b\r\n",
      "  Building wheel for wikipedia-api (setup.py) ... \u001b[?25l-\b \bdone\r\n",
      "\u001b[?25h  Created wheel for wikipedia-api: filename=Wikipedia_API-0.5.4-py3-none-any.whl size=13477 sha256=375dabc3054088afb8918a58788f10544f7fb43f60114097e1a0ff38bc6a503a\r\n",
      "  Stored in directory: /root/.cache/pip/wheels/d3/24/56/58ba93cf78be162451144e7a9889603f437976ef1ae7013d04\r\n",
      "  Building wheel for overrides (setup.py) ... \u001b[?25l-\b \bdone\r\n",
      "\u001b[?25h  Created wheel for overrides: filename=overrides-3.1.0-py3-none-any.whl size=10187 sha256=5f42fac0e8c4ca3326361ff4620c5d227a3ee3fb145b646b3375cb117cbe195c\r\n",
      "  Stored in directory: /root/.cache/pip/wheels/3a/0d/38/01a9bc6e20dcfaf0a6a7b552d03137558ba1c38aea47644682\r\n",
      "Successfully built gdown mpld3 sqlitedict langdetect pptree wikipedia-api overrides\r\n",
      "Installing collected packages: sqlitedict, sentencepiece, pptree, overrides, mpld3, segtok, langdetect, importlib-metadata, ftfy, deprecated, conllu, wikipedia-api, konoha, gdown, bpemb, flair\r\n",
      "  Attempting uninstall: sentencepiece\r\n",
      "    Found existing installation: sentencepiece 0.1.96\r\n",
      "    Uninstalling sentencepiece-0.1.96:\r\n",
      "      Successfully uninstalled sentencepiece-0.1.96\r\n",
      "  Attempting uninstall: overrides\r\n",
      "    Found existing installation: overrides 6.1.0\r\n",
      "    Uninstalling overrides-6.1.0:\r\n",
      "      Successfully uninstalled overrides-6.1.0\r\n",
      "  Attempting uninstall: mpld3\r\n",
      "    Found existing installation: mpld3 0.5.7\r\n",
      "    Uninstalling mpld3-0.5.7:\r\n",
      "      Successfully uninstalled mpld3-0.5.7\r\n",
      "  Attempting uninstall: importlib-metadata\r\n",
      "    Found existing installation: importlib-metadata 4.11.4\r\n",
      "    Uninstalling importlib-metadata-4.11.4:\r\n",
      "      Successfully uninstalled importlib-metadata-4.11.4\r\n",
      "\u001b[31mERROR: pip's dependency resolver does not currently take into account all the packages that are installed. This behaviour is the source of the following dependency conflicts.\r\n",
      "markdown 3.3.7 requires importlib-metadata>=4.4; python_version < \"3.10\", but you have importlib-metadata 3.10.1 which is incompatible.\r\n",
      "ibis-framework 2.1.1 requires importlib-metadata<5,>=4; python_version < \"3.8\", but you have importlib-metadata 3.10.1 which is incompatible.\r\n",
      "gym 0.23.1 requires importlib-metadata>=4.10.0; python_version < \"3.10\", but you have importlib-metadata 3.10.1 which is incompatible.\r\n",
      "google-cloud-pubsublite 1.4.2 requires overrides<7.0.0,>=6.0.1, but you have overrides 3.1.0 which is incompatible.\u001b[0m\u001b[31m\r\n",
      "\u001b[0mSuccessfully installed bpemb-0.3.3 conllu-4.4.2 deprecated-1.2.13 flair-0.11.3 ftfy-6.1.1 gdown-4.4.0 importlib-metadata-3.10.1 konoha-4.6.5 langdetect-1.0.9 mpld3-0.3 overrides-3.1.0 pptree-3.1 segtok-1.5.11 sentencepiece-0.1.95 sqlitedict-2.0.0 wikipedia-api-0.5.4\r\n",
      "\u001b[33mWARNING: Running pip as the 'root' user can result in broken permissions and conflicting behaviour with the system package manager. It is recommended to use a virtual environment instead: https://pip.pypa.io/warnings/venv\u001b[0m\u001b[33m\r\n",
      "\u001b[0m"
     ]
    }
   ],
   "source": [
    "!pip3 install Cython\n",
    "!pip install transformers\n",
    "!pip install flair"
   ]
  },
  {
   "cell_type": "markdown",
   "id": "d5a8fca9",
   "metadata": {
    "papermill": {
     "duration": 0.027822,
     "end_time": "2022-06-09T12:22:01.583139",
     "exception": false,
     "start_time": "2022-06-09T12:22:01.555317",
     "status": "completed"
    },
    "tags": []
   },
   "source": [
    "# Hugging face  : Flair"
   ]
  },
  {
   "cell_type": "markdown",
   "id": "91f2625f",
   "metadata": {
    "papermill": {
     "duration": 0.027847,
     "end_time": "2022-06-09T12:22:01.639769",
     "exception": false,
     "start_time": "2022-06-09T12:22:01.611922",
     "status": "completed"
    },
    "tags": []
   },
   "source": [
    "**ner-english** "
   ]
  },
  {
   "cell_type": "code",
   "execution_count": 26,
   "id": "1effcb1e",
   "metadata": {
    "execution": {
     "iopub.execute_input": "2022-06-09T12:22:01.697492Z",
     "iopub.status.busy": "2022-06-09T12:22:01.697100Z",
     "iopub.status.idle": "2022-06-09T12:22:04.024290Z",
     "shell.execute_reply": "2022-06-09T12:22:04.022798Z"
    },
    "papermill": {
     "duration": 2.35917,
     "end_time": "2022-06-09T12:22:04.026775",
     "exception": false,
     "start_time": "2022-06-09T12:22:01.667605",
     "status": "completed"
    },
    "tags": []
   },
   "outputs": [
    {
     "name": "stdout",
     "output_type": "stream",
     "text": [
      "git: 'lfs' is not a git command. See 'git --help'.\r\n",
      "\r\n",
      "The most similar command is\r\n",
      "\tlog\r\n",
      "Cloning into 'ner-english-large'...\r\n",
      "remote: Enumerating objects: 25, done.\u001b[K\r\n",
      "remote: Counting objects: 100% (25/25), done.\u001b[K\r\n",
      "remote: Compressing objects: 100% (24/24), done.\u001b[K\r\n",
      "remote: Total 25 (delta 10), reused 0 (delta 0), pack-reused 0\r\n",
      "Unpacking objects: 100% (25/25), 11.03 KiB | 1.22 MiB/s, done.\r\n"
     ]
    }
   ],
   "source": [
    "!git lfs install\n",
    "!git clone https://huggingface.co/flair/ner-english-large"
   ]
  },
  {
   "cell_type": "code",
   "execution_count": 27,
   "id": "5c16e13c",
   "metadata": {
    "execution": {
     "iopub.execute_input": "2022-06-09T12:22:04.092513Z",
     "iopub.status.busy": "2022-06-09T12:22:04.091692Z",
     "iopub.status.idle": "2022-06-09T12:23:24.944710Z",
     "shell.execute_reply": "2022-06-09T12:23:24.943784Z"
    },
    "papermill": {
     "duration": 80.887985,
     "end_time": "2022-06-09T12:23:24.946860",
     "exception": false,
     "start_time": "2022-06-09T12:22:04.058875",
     "status": "completed"
    },
    "tags": []
   },
   "outputs": [
    {
     "data": {
      "application/vnd.jupyter.widget-view+json": {
       "model_id": "47f292f9cf8b489393de83f9ae245528",
       "version_major": 2,
       "version_minor": 0
      },
      "text/plain": [
       "Downloading:   0%|          | 0.00/2.24G [00:00<?, ?B/s]"
      ]
     },
     "metadata": {},
     "output_type": "display_data"
    },
    {
     "name": "stdout",
     "output_type": "stream",
     "text": [
      "2022-06-09 12:22:56,207 loading file /root/.flair/models/ner-english-ontonotes-large/2da6c2cdd76e59113033adf670340bfd820f0301ae2e39204d67ba2dc276cc28.ec1bdb304b6c66111532c3b1fc6e522460ae73f1901848a4d0362cdf9760edb1\n"
     ]
    },
    {
     "data": {
      "application/vnd.jupyter.widget-view+json": {
       "model_id": "9915f0452dff46488549620647afd43e",
       "version_major": 2,
       "version_minor": 0
      },
      "text/plain": [
       "Downloading:   0%|          | 0.00/616 [00:00<?, ?B/s]"
      ]
     },
     "metadata": {},
     "output_type": "display_data"
    },
    {
     "data": {
      "application/vnd.jupyter.widget-view+json": {
       "model_id": "6ee7f78fccd04a07ba7e850de42a56e9",
       "version_major": 2,
       "version_minor": 0
      },
      "text/plain": [
       "Downloading:   0%|          | 0.00/4.83M [00:00<?, ?B/s]"
      ]
     },
     "metadata": {},
     "output_type": "display_data"
    },
    {
     "data": {
      "application/vnd.jupyter.widget-view+json": {
       "model_id": "ab4796ed592d432cb1cde2b6fa7c57ad",
       "version_major": 2,
       "version_minor": 0
      },
      "text/plain": [
       "Downloading:   0%|          | 0.00/8.68M [00:00<?, ?B/s]"
      ]
     },
     "metadata": {},
     "output_type": "display_data"
    },
    {
     "name": "stdout",
     "output_type": "stream",
     "text": [
      "2022-06-09 12:23:24,325 SequenceTagger predicts: Dictionary with 76 tags: <unk>, O, B-CARDINAL, E-CARDINAL, S-PERSON, S-CARDINAL, S-PRODUCT, B-PRODUCT, I-PRODUCT, E-PRODUCT, B-WORK_OF_ART, I-WORK_OF_ART, E-WORK_OF_ART, B-PERSON, E-PERSON, S-GPE, B-DATE, I-DATE, E-DATE, S-ORDINAL, S-LANGUAGE, I-PERSON, S-EVENT, S-DATE, B-QUANTITY, E-QUANTITY, S-TIME, B-TIME, I-TIME, E-TIME, B-GPE, E-GPE, S-ORG, I-GPE, S-NORP, B-FAC, I-FAC, E-FAC, B-NORP, E-NORP, S-PERCENT, B-ORG, E-ORG, B-LANGUAGE, E-LANGUAGE, I-CARDINAL, I-ORG, S-WORK_OF_ART, I-QUANTITY, B-MONEY\n"
     ]
    }
   ],
   "source": [
    "from flair.models import SequenceTagger\n",
    "\n",
    "tagger = SequenceTagger.load(\"flair/ner-english-ontonotes-large\")"
   ]
  },
  {
   "cell_type": "code",
   "execution_count": 28,
   "id": "b06398e6",
   "metadata": {
    "execution": {
     "iopub.execute_input": "2022-06-09T12:23:25.007998Z",
     "iopub.status.busy": "2022-06-09T12:23:25.007187Z",
     "iopub.status.idle": "2022-06-09T12:23:37.306481Z",
     "shell.execute_reply": "2022-06-09T12:23:37.305618Z"
    },
    "papermill": {
     "duration": 12.332326,
     "end_time": "2022-06-09T12:23:37.308777",
     "exception": false,
     "start_time": "2022-06-09T12:23:24.976451",
     "status": "completed"
    },
    "tags": []
   },
   "outputs": [
    {
     "data": {
      "application/vnd.jupyter.widget-view+json": {
       "model_id": "1650876283c94a769321693a31c41e73",
       "version_major": 2,
       "version_minor": 0
      },
      "text/plain": [
       "Downloading:   0%|          | 0.00/432M [00:00<?, ?B/s]"
      ]
     },
     "metadata": {},
     "output_type": "display_data"
    },
    {
     "name": "stdout",
     "output_type": "stream",
     "text": [
      "2022-06-09 12:23:34,479 loading file /root/.flair/models/ner-english/4f4cdab26f24cb98b732b389e6cebc646c36f54cfd6e0b7d3b90b25656e4262f.8baa8ae8795f4df80b28e7f7b61d788ecbb057d1dc85aacb316f1bd02837a4a4\n",
      "2022-06-09 12:23:36,292 SequenceTagger predicts: Dictionary with 20 tags: <unk>, O, S-ORG, S-MISC, B-PER, E-PER, S-LOC, B-ORG, E-ORG, I-PER, S-PER, B-MISC, I-MISC, E-MISC, I-ORG, B-LOC, E-LOC, I-LOC, <START>, <STOP>\n"
     ]
    }
   ],
   "source": [
    "from flair.models import SequenceTagger\n",
    "\n",
    "tagger1 = SequenceTagger.load(\"flair/ner-english\")"
   ]
  },
  {
   "cell_type": "code",
   "execution_count": 29,
   "id": "602d7ac7",
   "metadata": {
    "execution": {
     "iopub.execute_input": "2022-06-09T12:23:37.370092Z",
     "iopub.status.busy": "2022-06-09T12:23:37.369768Z",
     "iopub.status.idle": "2022-06-09T12:24:53.248001Z",
     "shell.execute_reply": "2022-06-09T12:24:53.247185Z"
    },
    "papermill": {
     "duration": 75.910774,
     "end_time": "2022-06-09T12:24:53.250105",
     "exception": false,
     "start_time": "2022-06-09T12:23:37.339331",
     "status": "completed"
    },
    "tags": []
   },
   "outputs": [
    {
     "data": {
      "application/vnd.jupyter.widget-view+json": {
       "model_id": "e3fe5a04d8c745548f991c0f37bf82f2",
       "version_major": 2,
       "version_minor": 0
      },
      "text/plain": [
       "Downloading:   0%|          | 0.00/2.24G [00:00<?, ?B/s]"
      ]
     },
     "metadata": {},
     "output_type": "display_data"
    },
    {
     "name": "stdout",
     "output_type": "stream",
     "text": [
      "2022-06-09 12:24:27,195 loading file /root/.flair/models/ner-english-large/07301f59bb8cb113803be316267f06ddf9243cdbba92a4c8067ef92442d2c574.554244d3476d97501a766a98078421817b14654496b86f2f7bd139dc502a4f29\n",
      "2022-06-09 12:24:52,602 SequenceTagger predicts: Dictionary with 20 tags: <unk>, O, S-ORG, S-MISC, B-PER, E-PER, S-LOC, B-ORG, E-ORG, I-PER, S-PER, B-MISC, I-MISC, E-MISC, I-ORG, B-LOC, E-LOC, I-LOC, <START>, <STOP>\n"
     ]
    }
   ],
   "source": [
    "from flair.models import SequenceTagger\n",
    "\n",
    "tagger2 = SequenceTagger.load(\"flair/ner-english-large\")"
   ]
  },
  {
   "cell_type": "markdown",
   "id": "c4267cce",
   "metadata": {
    "papermill": {
     "duration": 0.029467,
     "end_time": "2022-06-09T12:24:53.310018",
     "exception": false,
     "start_time": "2022-06-09T12:24:53.280551",
     "status": "completed"
    },
    "tags": []
   },
   "source": [
    "tagger3 nerenglishlarge"
   ]
  },
  {
   "cell_type": "code",
   "execution_count": 30,
   "id": "8247a76d",
   "metadata": {
    "execution": {
     "iopub.execute_input": "2022-06-09T12:24:53.371845Z",
     "iopub.status.busy": "2022-06-09T12:24:53.371514Z",
     "iopub.status.idle": "2022-06-09T12:26:53.278124Z",
     "shell.execute_reply": "2022-06-09T12:26:53.277298Z"
    },
    "papermill": {
     "duration": 119.939713,
     "end_time": "2022-06-09T12:26:53.280612",
     "exception": false,
     "start_time": "2022-06-09T12:24:53.340899",
     "status": "completed"
    },
    "tags": []
   },
   "outputs": [],
   "source": [
    "listenglarge=[]\n",
    "label=[]\n",
    "Per=[]\n",
    "ORG=[]\n",
    "LOC=[]\n",
    "from flair.data import Sentence\n",
    "\n",
    "dflarge=pd.DataFrame({\"text\":\"\", \"PERSON-nerenglarge\":[], \"LOC-nerenglarge\":\"\",\"ORG-nerenglarge\":\"\"})\n",
    "for i in range(2136):\n",
    "        sentencess =Sentence(all_text[i])\n",
    "        dflarge.loc[i,\"text\"]=all_text[i]\n",
    "        tagger2.predict(sentencess)\n",
    "        dc={}\n",
    "        P=[]\n",
    "        L=[]\n",
    "        G=[]\n",
    "        O=[]\n",
    "        for entity in sentencess.get_spans('ner'):\n",
    "                     \n",
    "                     if (entity.get_label(\"ner\").score > 0.90) & (entity.get_label(\"ner\").value != \"CARDINAL\") & (entity.get_label(\"ner\").value != \"LAW\")& (entity.get_label(\"ner\").value != \"QUANTITY\") & (entity.get_label(\"ner\").value != \"WORK_OF_ART\") & (entity.get_label(\"ner\").value != \"LAW\")& (entity.get_label(\"ner\").value != \"QUANTITY\") & (entity.get_label(\"ner\").value != \"EVENT\")  :\n",
    "                        dc[entity.text]= entity.get_label(\"ner\").value \n",
    "                        listenglarge.append(entity)\n",
    "        \n",
    "        \n",
    "        for j in dc :\n",
    "                if dc[j]==\"PER\":\n",
    "                      P.append(j)\n",
    "                elif (dc[j]==\"ORG\") | (dc[j]==\"MISC\") :\n",
    "                      O.append(j)\n",
    "                elif dc[j]==\"LOC\":\n",
    "                      L.append(j)\n",
    "               \n",
    "        Per.append(P)\n",
    "        ORG.append(O)\n",
    "        LOC.append(L)\n",
    "            \n",
    "\n",
    "dflarge[\"PERSON-nerenglarge\"]=Per\n",
    "dflarge[\"LOC-nerenglarge\"]=LOC\n",
    "dflarge[\"ORG-nerenglarge\"]=ORG                        "
   ]
  },
  {
   "cell_type": "code",
   "execution_count": 31,
   "id": "23aebd0b",
   "metadata": {
    "execution": {
     "iopub.execute_input": "2022-06-09T12:26:53.355358Z",
     "iopub.status.busy": "2022-06-09T12:26:53.355046Z",
     "iopub.status.idle": "2022-06-09T12:26:53.382044Z",
     "shell.execute_reply": "2022-06-09T12:26:53.381313Z"
    },
    "papermill": {
     "duration": 0.062113,
     "end_time": "2022-06-09T12:26:53.383873",
     "exception": false,
     "start_time": "2022-06-09T12:26:53.321760",
     "status": "completed"
    },
    "tags": []
   },
   "outputs": [
    {
     "data": {
      "text/html": [
       "<div>\n",
       "<style scoped>\n",
       "    .dataframe tbody tr th:only-of-type {\n",
       "        vertical-align: middle;\n",
       "    }\n",
       "\n",
       "    .dataframe tbody tr th {\n",
       "        vertical-align: top;\n",
       "    }\n",
       "\n",
       "    .dataframe thead th {\n",
       "        text-align: right;\n",
       "    }\n",
       "</style>\n",
       "<table border=\"1\" class=\"dataframe\">\n",
       "  <thead>\n",
       "    <tr style=\"text-align: right;\">\n",
       "      <th></th>\n",
       "      <th>text</th>\n",
       "      <th>PERSON-nerenglarge</th>\n",
       "      <th>LOC-nerenglarge</th>\n",
       "      <th>ORG-nerenglarge</th>\n",
       "    </tr>\n",
       "  </thead>\n",
       "  <tbody>\n",
       "    <tr>\n",
       "      <th>0</th>\n",
       "      <td>] I , ] I C Meekins ] , of ] Currituck ] Count...</td>\n",
       "      <td>[I C Meekins, Almighty, God, Isaac C. Meekins,...</td>\n",
       "      <td>[Currituck, State of North Carolina, United St...</td>\n",
       "      <td>[Constitution]</td>\n",
       "    </tr>\n",
       "    <tr>\n",
       "      <th>1</th>\n",
       "      <td>^ ] ] Department of Virginia North Carolina , ...</td>\n",
       "      <td>[]</td>\n",
       "      <td>[North Carolina, United States, States]</td>\n",
       "      <td>[OATH PAROLE]</td>\n",
       "    </tr>\n",
       "    <tr>\n",
       "      <th>2</th>\n",
       "      <td>] I , ] W. H. Pearce , ] of ] Craven ] County ...</td>\n",
       "      <td>[W . H. Pearce, Almighty, God, Jm . E. Ampetts...</td>\n",
       "      <td>[Craven, County, State of North-Carolina, Unit...</td>\n",
       "      <td>[]</td>\n",
       "    </tr>\n",
       "    <tr>\n",
       "      <th>3</th>\n",
       "      <td>State of North Carolina , } ________ County . ...</td>\n",
       "      <td>[God]</td>\n",
       "      <td>[State of North Carolina, United States]</td>\n",
       "      <td>[Constitution]</td>\n",
       "    </tr>\n",
       "    <tr>\n",
       "      <th>4</th>\n",
       "      <td>State of North Carolina , Wake ] ] County . I ...</td>\n",
       "      <td>[S.E, Allen, God, T.D, McAlpine]</td>\n",
       "      <td>[State of North Carolina, Wake, County, United...</td>\n",
       "      <td>[Constitution, Res . Corp]</td>\n",
       "    </tr>\n",
       "    <tr>\n",
       "      <th>...</th>\n",
       "      <td>...</td>\n",
       "      <td>...</td>\n",
       "      <td>...</td>\n",
       "      <td>...</td>\n",
       "    </tr>\n",
       "    <tr>\n",
       "      <th>2131</th>\n",
       "      <td>Office Provost Marshal Raleigh , N.C. May 26 '...</td>\n",
       "      <td>[Geo . B. Ayer, Hugo Hillebrandt]</td>\n",
       "      <td>[Raleigh, N.C., Wake County, United States, No...</td>\n",
       "      <td>[]</td>\n",
       "    </tr>\n",
       "    <tr>\n",
       "      <th>2132</th>\n",
       "      <td>July 30th 1867 Birnie Wm Agent Bu R F &amp; A L Oa...</td>\n",
       "      <td>[]</td>\n",
       "      <td>[]</td>\n",
       "      <td>[Birnie Wm]</td>\n",
       "    </tr>\n",
       "    <tr>\n",
       "      <th>2133</th>\n",
       "      <td>State of North Carolina , } Robeson County . I...</td>\n",
       "      <td>[William Birnie, God, Wm Birnie, Dick J.P]</td>\n",
       "      <td>[State of North Carolina, Robeson County, Unit...</td>\n",
       "      <td>[Constitution]</td>\n",
       "    </tr>\n",
       "    <tr>\n",
       "      <th>2134</th>\n",
       "      <td>NARA 449 102 We whose name written well person...</td>\n",
       "      <td>[Price, James Fulton, Sgd W . N. Peden, Miles ...</td>\n",
       "      <td>[State of North Carolina, New Hanover County, ...</td>\n",
       "      <td>[Fulton &amp; Price, Confederate Government, Court...</td>\n",
       "    </tr>\n",
       "    <tr>\n",
       "      <th>2135</th>\n",
       "      <td>NARA 450 404 Office Provost Marshall City of W...</td>\n",
       "      <td>[James Fulton, God, Wm A. Cutler, I, Geo W. Po...</td>\n",
       "      <td>[City of Wilmington, N.C, United States, North...</td>\n",
       "      <td>[NARA, Constitution of, Slaves, Fulton &amp; Price]</td>\n",
       "    </tr>\n",
       "  </tbody>\n",
       "</table>\n",
       "<p>2136 rows × 4 columns</p>\n",
       "</div>"
      ],
      "text/plain": [
       "                                                   text  \\\n",
       "0     ] I , ] I C Meekins ] , of ] Currituck ] Count...   \n",
       "1     ^ ] ] Department of Virginia North Carolina , ...   \n",
       "2     ] I , ] W. H. Pearce , ] of ] Craven ] County ...   \n",
       "3     State of North Carolina , } ________ County . ...   \n",
       "4     State of North Carolina , Wake ] ] County . I ...   \n",
       "...                                                 ...   \n",
       "2131  Office Provost Marshal Raleigh , N.C. May 26 '...   \n",
       "2132  July 30th 1867 Birnie Wm Agent Bu R F & A L Oa...   \n",
       "2133  State of North Carolina , } Robeson County . I...   \n",
       "2134  NARA 449 102 We whose name written well person...   \n",
       "2135  NARA 450 404 Office Provost Marshall City of W...   \n",
       "\n",
       "                                     PERSON-nerenglarge  \\\n",
       "0     [I C Meekins, Almighty, God, Isaac C. Meekins,...   \n",
       "1                                                    []   \n",
       "2     [W . H. Pearce, Almighty, God, Jm . E. Ampetts...   \n",
       "3                                                 [God]   \n",
       "4                      [S.E, Allen, God, T.D, McAlpine]   \n",
       "...                                                 ...   \n",
       "2131                  [Geo . B. Ayer, Hugo Hillebrandt]   \n",
       "2132                                                 []   \n",
       "2133         [William Birnie, God, Wm Birnie, Dick J.P]   \n",
       "2134  [Price, James Fulton, Sgd W . N. Peden, Miles ...   \n",
       "2135  [James Fulton, God, Wm A. Cutler, I, Geo W. Po...   \n",
       "\n",
       "                                        LOC-nerenglarge  \\\n",
       "0     [Currituck, State of North Carolina, United St...   \n",
       "1               [North Carolina, United States, States]   \n",
       "2     [Craven, County, State of North-Carolina, Unit...   \n",
       "3              [State of North Carolina, United States]   \n",
       "4     [State of North Carolina, Wake, County, United...   \n",
       "...                                                 ...   \n",
       "2131  [Raleigh, N.C., Wake County, United States, No...   \n",
       "2132                                                 []   \n",
       "2133  [State of North Carolina, Robeson County, Unit...   \n",
       "2134  [State of North Carolina, New Hanover County, ...   \n",
       "2135  [City of Wilmington, N.C, United States, North...   \n",
       "\n",
       "                                        ORG-nerenglarge  \n",
       "0                                        [Constitution]  \n",
       "1                                         [OATH PAROLE]  \n",
       "2                                                    []  \n",
       "3                                        [Constitution]  \n",
       "4                            [Constitution, Res . Corp]  \n",
       "...                                                 ...  \n",
       "2131                                                 []  \n",
       "2132                                        [Birnie Wm]  \n",
       "2133                                     [Constitution]  \n",
       "2134  [Fulton & Price, Confederate Government, Court...  \n",
       "2135    [NARA, Constitution of, Slaves, Fulton & Price]  \n",
       "\n",
       "[2136 rows x 4 columns]"
      ]
     },
     "execution_count": 31,
     "metadata": {},
     "output_type": "execute_result"
    }
   ],
   "source": [
    "dflarge"
   ]
  },
  {
   "cell_type": "markdown",
   "id": "006d9f3c",
   "metadata": {
    "papermill": {
     "duration": 0.029761,
     "end_time": "2022-06-09T12:26:53.443628",
     "exception": false,
     "start_time": "2022-06-09T12:26:53.413867",
     "status": "completed"
    },
    "tags": []
   },
   "source": [
    "tagger1 ner english"
   ]
  },
  {
   "cell_type": "code",
   "execution_count": 32,
   "id": "c54da31c",
   "metadata": {
    "execution": {
     "iopub.execute_input": "2022-06-09T12:26:53.505137Z",
     "iopub.status.busy": "2022-06-09T12:26:53.504806Z",
     "iopub.status.idle": "2022-06-09T12:35:33.109473Z",
     "shell.execute_reply": "2022-06-09T12:35:33.108628Z"
    },
    "papermill": {
     "duration": 519.638407,
     "end_time": "2022-06-09T12:35:33.111861",
     "exception": false,
     "start_time": "2022-06-09T12:26:53.473454",
     "status": "completed"
    },
    "tags": []
   },
   "outputs": [],
   "source": [
    "listeng=[]\n",
    "label=[]\n",
    "Per=[]\n",
    "ORG=[]\n",
    "LOC=[]\n",
    "from flair.data import Sentence\n",
    "\n",
    "dfner=pd.DataFrame({\"text\":\"\", \"PERSON-nerenglish\":\"\",\"LOC-nerenglish\":\"\",\"ORG-nerenglish\":[]})\n",
    "for i in range(2136):\n",
    "        sentencess =Sentence(all_text[i])\n",
    "        dfner.loc[i,\"text\"]=all_text[i]\n",
    "        tagger1.predict(sentencess)\n",
    "        dc={}\n",
    "        P=[]\n",
    "        L=[]\n",
    "        O=[]\n",
    "        for entity in sentencess.get_spans('ner'):\n",
    "                     \n",
    "                     if (entity.get_label(\"ner\").score > 0.90) & (entity.get_label(\"ner\").value != \"CARDINAL\") & (entity.get_label(\"ner\").value != \"LAW\")& (entity.get_label(\"ner\").value != \"QUANTITY\") & (entity.get_label(\"ner\").value != \"WORK_OF_ART\") & (entity.get_label(\"ner\").value != \"LAW\")& (entity.get_label(\"ner\").value != \"QUANTITY\") & (entity.get_label(\"ner\").value != \"EVENT\")  :\n",
    "                        dc[entity.text]= entity.get_label(\"ner\").value \n",
    "                        listeng.append(entity)\n",
    "        \n",
    "        \n",
    "        for j in dc :\n",
    "                if dc[j]==\"PER\":\n",
    "                      P.append(j)\n",
    "                elif (dc[j]==\"ORG\") | (dc[j]==\"MISC\") :\n",
    "                      O.append(j)\n",
    "                elif dc[j]==\"LOC\":\n",
    "                      L.append(j)\n",
    "               \n",
    "        Per.append(P)\n",
    "        ORG.append(O)\n",
    "        LOC.append(L)\n",
    "            \n",
    "\n",
    "dfner[\"PERSON-nerenglish\"]=Per\n",
    "dfner[\"LOC-nerenglish\"]=LOC\n",
    "dfner[\"ORG-nerenglish\"]=ORG                        "
   ]
  },
  {
   "cell_type": "code",
   "execution_count": 33,
   "id": "4da0badc",
   "metadata": {
    "execution": {
     "iopub.execute_input": "2022-06-09T12:35:33.175505Z",
     "iopub.status.busy": "2022-06-09T12:35:33.174921Z",
     "iopub.status.idle": "2022-06-09T12:35:33.189071Z",
     "shell.execute_reply": "2022-06-09T12:35:33.188222Z"
    },
    "papermill": {
     "duration": 0.048357,
     "end_time": "2022-06-09T12:35:33.191680",
     "exception": false,
     "start_time": "2022-06-09T12:35:33.143323",
     "status": "completed"
    },
    "tags": []
   },
   "outputs": [
    {
     "data": {
      "text/html": [
       "<div>\n",
       "<style scoped>\n",
       "    .dataframe tbody tr th:only-of-type {\n",
       "        vertical-align: middle;\n",
       "    }\n",
       "\n",
       "    .dataframe tbody tr th {\n",
       "        vertical-align: top;\n",
       "    }\n",
       "\n",
       "    .dataframe thead th {\n",
       "        text-align: right;\n",
       "    }\n",
       "</style>\n",
       "<table border=\"1\" class=\"dataframe\">\n",
       "  <thead>\n",
       "    <tr style=\"text-align: right;\">\n",
       "      <th></th>\n",
       "      <th>text</th>\n",
       "      <th>PERSON-nerenglish</th>\n",
       "      <th>LOC-nerenglish</th>\n",
       "      <th>ORG-nerenglish</th>\n",
       "    </tr>\n",
       "  </thead>\n",
       "  <tbody>\n",
       "    <tr>\n",
       "      <th>0</th>\n",
       "      <td>] I , ] I C Meekins ] , of ] Currituck ] Count...</td>\n",
       "      <td>[God, Isaac C. Meekins, I C Meekins E H Walker...</td>\n",
       "      <td>[Currituck ] County]</td>\n",
       "      <td>[]</td>\n",
       "    </tr>\n",
       "    <tr>\n",
       "      <th>1</th>\n",
       "      <td>^ ] ] Department of Virginia North Carolina , ...</td>\n",
       "      <td>[]</td>\n",
       "      <td>[United States]</td>\n",
       "      <td>[]</td>\n",
       "    </tr>\n",
       "    <tr>\n",
       "      <th>2</th>\n",
       "      <td>] I , ] W. H. Pearce , ] of ] Craven ] County ...</td>\n",
       "      <td>[H. Pearce, God, E. Ampetts, B. Watson]</td>\n",
       "      <td>[Craven ] County, State of North-Carolina]</td>\n",
       "      <td>[]</td>\n",
       "    </tr>\n",
       "    <tr>\n",
       "      <th>3</th>\n",
       "      <td>State of North Carolina , } ________ County . ...</td>\n",
       "      <td>[God, Sworn]</td>\n",
       "      <td>[United States]</td>\n",
       "      <td>[]</td>\n",
       "    </tr>\n",
       "    <tr>\n",
       "      <th>4</th>\n",
       "      <td>State of North Carolina , Wake ] ] County . I ...</td>\n",
       "      <td>[Allen, God, Allen Sworn]</td>\n",
       "      <td>[United States]</td>\n",
       "      <td>[]</td>\n",
       "    </tr>\n",
       "  </tbody>\n",
       "</table>\n",
       "</div>"
      ],
      "text/plain": [
       "                                                text  \\\n",
       "0  ] I , ] I C Meekins ] , of ] Currituck ] Count...   \n",
       "1  ^ ] ] Department of Virginia North Carolina , ...   \n",
       "2  ] I , ] W. H. Pearce , ] of ] Craven ] County ...   \n",
       "3  State of North Carolina , } ________ County . ...   \n",
       "4  State of North Carolina , Wake ] ] County . I ...   \n",
       "\n",
       "                                   PERSON-nerenglish  \\\n",
       "0  [God, Isaac C. Meekins, I C Meekins E H Walker...   \n",
       "1                                                 []   \n",
       "2            [H. Pearce, God, E. Ampetts, B. Watson]   \n",
       "3                                       [God, Sworn]   \n",
       "4                          [Allen, God, Allen Sworn]   \n",
       "\n",
       "                               LOC-nerenglish ORG-nerenglish  \n",
       "0                        [Currituck ] County]             []  \n",
       "1                             [United States]             []  \n",
       "2  [Craven ] County, State of North-Carolina]             []  \n",
       "3                             [United States]             []  \n",
       "4                             [United States]             []  "
      ]
     },
     "execution_count": 33,
     "metadata": {},
     "output_type": "execute_result"
    }
   ],
   "source": [
    "dfner.head()"
   ]
  },
  {
   "cell_type": "markdown",
   "id": "cab98cd4",
   "metadata": {
    "papermill": {
     "duration": 0.029793,
     "end_time": "2022-06-09T12:35:33.252276",
     "exception": false,
     "start_time": "2022-06-09T12:35:33.222483",
     "status": "completed"
    },
    "tags": []
   },
   "source": [
    "tagger 2 ontonotes"
   ]
  },
  {
   "cell_type": "code",
   "execution_count": 34,
   "id": "8ac2581f",
   "metadata": {
    "execution": {
     "iopub.execute_input": "2022-06-09T12:35:33.313514Z",
     "iopub.status.busy": "2022-06-09T12:35:33.313210Z",
     "iopub.status.idle": "2022-06-09T12:37:32.035237Z",
     "shell.execute_reply": "2022-06-09T12:37:32.034377Z"
    },
    "papermill": {
     "duration": 118.755681,
     "end_time": "2022-06-09T12:37:32.037717",
     "exception": false,
     "start_time": "2022-06-09T12:35:33.282036",
     "status": "completed"
    },
    "tags": []
   },
   "outputs": [],
   "source": [
    "listoto=[]\n",
    "label=[]\n",
    "Per=[]\n",
    "Date=[]\n",
    "GPE=[]\n",
    "ORG=[]\n",
    "from flair.data import Sentence\n",
    "\n",
    "aldf=pd.DataFrame({\"text\":\"\", \"PERSON-ontonotes\":[], \"GPE-ontonotes\":\"\",\"ORG-ontonotes\":\"\", \"Date-ontonotes\":\"\"})\n",
    "for i in range(2136):\n",
    "        sentencess =Sentence(all_text[i])\n",
    "        aldf.loc[i,\"text\"]=all_text[i]\n",
    "        tagger.predict(sentencess)\n",
    "        dc={}\n",
    "        P=[]\n",
    "        D=[]\n",
    "        G=[]\n",
    "        O=[]\n",
    "        for entity in sentencess.get_spans('ner'):\n",
    "                     \n",
    "                     if (entity.get_label(\"ner\").score > 0.98) & (entity.get_label(\"ner\").value != \"CARDINAL\") & (entity.get_label(\"ner\").value != \"LAW\")& (entity.get_label(\"ner\").value != \"QUANTITY\") & (entity.get_label(\"ner\").value != \"WORK_OF_ART\") & (entity.get_label(\"ner\").value != \"LAW\")& (entity.get_label(\"ner\").value != \"QUANTITY\") & (entity.get_label(\"ner\").value != \"EVENT\")  :\n",
    "                        dc[entity.text]= entity.get_label(\"ner\").value \n",
    "                        listoto.append(entity)\n",
    "        \n",
    "        \n",
    "        for j in dc :\n",
    "                if dc[j]==\"PERSON\":\n",
    "                      P.append(j)\n",
    "                elif dc[j]==\"ORG\":\n",
    "                      O.append(j)\n",
    "                elif dc[j]==\"DATE\":\n",
    "                      D.append(j)\n",
    "                elif dc[j]==\"GPE\":\n",
    "                      G.append(j)\n",
    "        Per.append(P)\n",
    "        Date.append(D)\n",
    "        ORG.append(O)\n",
    "        GPE.append(G)\n",
    "            \n",
    "aldf[\"Date-ontonotes\"]=Date\n",
    "aldf[\"PERSON-ontonotes\"]=Per\n",
    "aldf[\"GPE-ontonotes\"]=GPE\n",
    "aldf[\"ORG-ontonotes\"]=ORG    "
   ]
  },
  {
   "cell_type": "code",
   "execution_count": 35,
   "id": "b384012b",
   "metadata": {
    "execution": {
     "iopub.execute_input": "2022-06-09T12:37:32.101420Z",
     "iopub.status.busy": "2022-06-09T12:37:32.101117Z",
     "iopub.status.idle": "2022-06-09T12:37:32.106230Z",
     "shell.execute_reply": "2022-06-09T12:37:32.105477Z"
    },
    "papermill": {
     "duration": 0.038693,
     "end_time": "2022-06-09T12:37:32.107968",
     "exception": false,
     "start_time": "2022-06-09T12:37:32.069275",
     "status": "completed"
    },
    "tags": []
   },
   "outputs": [
    {
     "data": {
      "text/plain": [
       "(2136, 5)"
      ]
     },
     "execution_count": 35,
     "metadata": {},
     "output_type": "execute_result"
    }
   ],
   "source": [
    "aldf.shape"
   ]
  },
  {
   "cell_type": "code",
   "execution_count": 36,
   "id": "9cc59f75",
   "metadata": {
    "execution": {
     "iopub.execute_input": "2022-06-09T12:37:32.169565Z",
     "iopub.status.busy": "2022-06-09T12:37:32.169007Z",
     "iopub.status.idle": "2022-06-09T12:37:32.184489Z",
     "shell.execute_reply": "2022-06-09T12:37:32.183804Z"
    },
    "papermill": {
     "duration": 0.048304,
     "end_time": "2022-06-09T12:37:32.186185",
     "exception": false,
     "start_time": "2022-06-09T12:37:32.137881",
     "status": "completed"
    },
    "tags": []
   },
   "outputs": [
    {
     "data": {
      "text/html": [
       "<div>\n",
       "<style scoped>\n",
       "    .dataframe tbody tr th:only-of-type {\n",
       "        vertical-align: middle;\n",
       "    }\n",
       "\n",
       "    .dataframe tbody tr th {\n",
       "        vertical-align: top;\n",
       "    }\n",
       "\n",
       "    .dataframe thead th {\n",
       "        text-align: right;\n",
       "    }\n",
       "</style>\n",
       "<table border=\"1\" class=\"dataframe\">\n",
       "  <thead>\n",
       "    <tr style=\"text-align: right;\">\n",
       "      <th></th>\n",
       "      <th>text</th>\n",
       "      <th>PERSON-ontonotes</th>\n",
       "      <th>GPE-ontonotes</th>\n",
       "      <th>ORG-ontonotes</th>\n",
       "      <th>Date-ontonotes</th>\n",
       "    </tr>\n",
       "  </thead>\n",
       "  <tbody>\n",
       "    <tr>\n",
       "      <th>0</th>\n",
       "      <td>] I , ] I C Meekins ] , of ] Currituck ] Count...</td>\n",
       "      <td>[I C Meekins, Isaac C. Meekins, E H Walker]</td>\n",
       "      <td>[North Carolina]</td>\n",
       "      <td>[]</td>\n",
       "      <td>[16 ] day of ] Sept ] A.D . , 1865]</td>\n",
       "    </tr>\n",
       "    <tr>\n",
       "      <th>1</th>\n",
       "      <td>^ ] ] Department of Virginia North Carolina , ...</td>\n",
       "      <td>[]</td>\n",
       "      <td>[North Carolina, United States]</td>\n",
       "      <td>[Department of Virginia]</td>\n",
       "      <td>[1864]</td>\n",
       "    </tr>\n",
       "    <tr>\n",
       "      <th>2</th>\n",
       "      <td>] I , ] W. H. Pearce , ] of ] Craven ] County ...</td>\n",
       "      <td>[W . H. Pearce]</td>\n",
       "      <td>[]</td>\n",
       "      <td>[]</td>\n",
       "      <td>[3rd ] day of ] October , ] A.D . , 1865]</td>\n",
       "    </tr>\n",
       "    <tr>\n",
       "      <th>3</th>\n",
       "      <td>State of North Carolina , } ________ County . ...</td>\n",
       "      <td>[]</td>\n",
       "      <td>[North Carolina, United States]</td>\n",
       "      <td>[]</td>\n",
       "      <td>[______ day of ____________ , 1866]</td>\n",
       "    </tr>\n",
       "    <tr>\n",
       "      <th>4</th>\n",
       "      <td>State of North Carolina , Wake ] ] County . I ...</td>\n",
       "      <td>[S.E . Allen]</td>\n",
       "      <td>[North Carolina, United States]</td>\n",
       "      <td>[]</td>\n",
       "      <td>[31st day of May , 1867]</td>\n",
       "    </tr>\n",
       "  </tbody>\n",
       "</table>\n",
       "</div>"
      ],
      "text/plain": [
       "                                                text  \\\n",
       "0  ] I , ] I C Meekins ] , of ] Currituck ] Count...   \n",
       "1  ^ ] ] Department of Virginia North Carolina , ...   \n",
       "2  ] I , ] W. H. Pearce , ] of ] Craven ] County ...   \n",
       "3  State of North Carolina , } ________ County . ...   \n",
       "4  State of North Carolina , Wake ] ] County . I ...   \n",
       "\n",
       "                              PERSON-ontonotes  \\\n",
       "0  [I C Meekins, Isaac C. Meekins, E H Walker]   \n",
       "1                                           []   \n",
       "2                              [W . H. Pearce]   \n",
       "3                                           []   \n",
       "4                                [S.E . Allen]   \n",
       "\n",
       "                     GPE-ontonotes             ORG-ontonotes  \\\n",
       "0                 [North Carolina]                        []   \n",
       "1  [North Carolina, United States]  [Department of Virginia]   \n",
       "2                               []                        []   \n",
       "3  [North Carolina, United States]                        []   \n",
       "4  [North Carolina, United States]                        []   \n",
       "\n",
       "                              Date-ontonotes  \n",
       "0        [16 ] day of ] Sept ] A.D . , 1865]  \n",
       "1                                     [1864]  \n",
       "2  [3rd ] day of ] October , ] A.D . , 1865]  \n",
       "3        [______ day of ____________ , 1866]  \n",
       "4                   [31st day of May , 1867]  "
      ]
     },
     "execution_count": 36,
     "metadata": {},
     "output_type": "execute_result"
    }
   ],
   "source": [
    "aldf.head()"
   ]
  },
  {
   "cell_type": "code",
   "execution_count": 37,
   "id": "4774c129",
   "metadata": {
    "execution": {
     "iopub.execute_input": "2022-06-09T12:37:32.248486Z",
     "iopub.status.busy": "2022-06-09T12:37:32.248225Z",
     "iopub.status.idle": "2022-06-09T12:37:32.253033Z",
     "shell.execute_reply": "2022-06-09T12:37:32.252323Z"
    },
    "papermill": {
     "duration": 0.03716,
     "end_time": "2022-06-09T12:37:32.254625",
     "exception": false,
     "start_time": "2022-06-09T12:37:32.217465",
     "status": "completed"
    },
    "tags": []
   },
   "outputs": [
    {
     "data": {
      "text/plain": [
       "(2136, 5)"
      ]
     },
     "execution_count": 37,
     "metadata": {},
     "output_type": "execute_result"
    }
   ],
   "source": [
    "aldf.shape"
   ]
  },
  {
   "cell_type": "markdown",
   "id": "82a6278e",
   "metadata": {
    "papermill": {
     "duration": 0.030179,
     "end_time": "2022-06-09T12:37:32.315684",
     "exception": false,
     "start_time": "2022-06-09T12:37:32.285505",
     "status": "completed"
    },
    "tags": []
   },
   "source": [
    "# Post processing"
   ]
  },
  {
   "cell_type": "markdown",
   "id": "f429963d",
   "metadata": {
    "papermill": {
     "duration": 0.030097,
     "end_time": "2022-06-09T12:37:32.376345",
     "exception": false,
     "start_time": "2022-06-09T12:37:32.346248",
     "status": "completed"
    },
    "tags": []
   },
   "source": [
    "**For dates**"
   ]
  },
  {
   "cell_type": "code",
   "execution_count": 38,
   "id": "3365192b",
   "metadata": {
    "execution": {
     "iopub.execute_input": "2022-06-09T12:37:32.439506Z",
     "iopub.status.busy": "2022-06-09T12:37:32.438785Z",
     "iopub.status.idle": "2022-06-09T12:37:32.501324Z",
     "shell.execute_reply": "2022-06-09T12:37:32.500590Z"
    },
    "papermill": {
     "duration": 0.09627,
     "end_time": "2022-06-09T12:37:32.503129",
     "exception": false,
     "start_time": "2022-06-09T12:37:32.406859",
     "status": "completed"
    },
    "tags": []
   },
   "outputs": [],
   "source": [
    "G=[]\n",
    "for i in aldf[\"Date-ontonotes\"]:\n",
    "    M=[]\n",
    "    for j in i:\n",
    "        date=re.search(r'^\\d\\.*.*\\d\\d$' ,j)\n",
    "        date2=re.search(r'^[A-ZZa-z]\\.*.*\\d\\.*.*\\d\\d$' ,j)\n",
    "        M.append(date)\n",
    "        M.append(date2)\n",
    "    G.append(M)\n",
    "    \n",
    "\n",
    "GF=[]\n",
    "for i in G:\n",
    "    Final_date=[]\n",
    "    for j in i:\n",
    "        if j!=None:\n",
    "            Final_date.append(j.group())\n",
    "    GF.append(Final_date)\n",
    "\n",
    "    \n",
    "aldf[\"postDate-ontonotes\"]=GF\n",
    "            \n",
    "            \n",
    "        "
   ]
  },
  {
   "cell_type": "markdown",
   "id": "c00cd8f8",
   "metadata": {
    "papermill": {
     "duration": 0.029801,
     "end_time": "2022-06-09T12:37:32.563119",
     "exception": false,
     "start_time": "2022-06-09T12:37:32.533318",
     "status": "completed"
    },
    "tags": []
   },
   "source": [
    "# Run this to see the extracted dates before filtring them "
   ]
  },
  {
   "cell_type": "code",
   "execution_count": 39,
   "id": "2b5dd749",
   "metadata": {
    "execution": {
     "iopub.execute_input": "2022-06-09T12:37:32.625136Z",
     "iopub.status.busy": "2022-06-09T12:37:32.624821Z",
     "iopub.status.idle": "2022-06-09T12:37:32.628211Z",
     "shell.execute_reply": "2022-06-09T12:37:32.627430Z"
    },
    "papermill": {
     "duration": 0.03609,
     "end_time": "2022-06-09T12:37:32.629846",
     "exception": false,
     "start_time": "2022-06-09T12:37:32.593756",
     "status": "completed"
    },
    "tags": []
   },
   "outputs": [],
   "source": [
    "#GF"
   ]
  },
  {
   "cell_type": "code",
   "execution_count": 40,
   "id": "4aee4865",
   "metadata": {
    "execution": {
     "iopub.execute_input": "2022-06-09T12:37:32.691266Z",
     "iopub.status.busy": "2022-06-09T12:37:32.690844Z",
     "iopub.status.idle": "2022-06-09T12:37:32.824001Z",
     "shell.execute_reply": "2022-06-09T12:37:32.823309Z"
    },
    "papermill": {
     "duration": 0.165898,
     "end_time": "2022-06-09T12:37:32.825677",
     "exception": false,
     "start_time": "2022-06-09T12:37:32.659779",
     "status": "completed"
    },
    "tags": []
   },
   "outputs": [],
   "source": [
    "G=[]\n",
    "for i in aldf[\"postDate-ontonotes\"]:\n",
    "    M=[]\n",
    "    for j in i:\n",
    "        Final_date1=re.sub(r'([0-9]{1,2})\\.*.*\\s([A-Z][a-z]\\S*)\\.*.*\\s([0-9]{2,4})',r'\\1-\\2-\\3' ,j)\n",
    "        Final_date2=re.sub(r'([A-Z]\\.*.*)\\s([0-9]{1,2})\\.*.*\\s([0-9]{2,4})',r'\\2-\\1-\\3' ,j)\n",
    "        final_date3=re.sub(r'([A-Z][a-z]\\S*)\\.*.*\\s([A-Z][a-z]\\S*)\\.*.*\\s([0-9]{2,4})',r'\\1-\\2-\\3' ,j)\n",
    "        final_date4=re.sub(r'(^[A-Za-z]\\S*.*.)day\\.*.*\\s([A-Z][a-z]\\S*)\\.*.*\\s([0-9]{2,4})',r'\\1-\\2-\\3' ,j)\n",
    "        if Final_date1 != j:   \n",
    "            M.append(Final_date1)\n",
    "        if Final_date2 != j :\n",
    "            M.append(Final_date2)\n",
    "        if final_date3 != j :\n",
    "            M.append(final_date3)\n",
    "        if final_date4 != j :\n",
    "            M.append(final_date4)\n",
    "    G.append(M)\n",
    "    \n",
    "\n",
    "aldf[\"postDate-ontonotes\"]=G"
   ]
  },
  {
   "cell_type": "markdown",
   "id": "d7c3888b",
   "metadata": {
    "papermill": {
     "duration": 0.030103,
     "end_time": "2022-06-09T12:37:32.885804",
     "exception": false,
     "start_time": "2022-06-09T12:37:32.855701",
     "status": "completed"
    },
    "tags": []
   },
   "source": [
    "**great !**"
   ]
  },
  {
   "cell_type": "markdown",
   "id": "ceb6322e",
   "metadata": {
    "papermill": {
     "duration": 0.029923,
     "end_time": "2022-06-09T12:37:32.945926",
     "exception": false,
     "start_time": "2022-06-09T12:37:32.916003",
     "status": "completed"
    },
    "tags": []
   },
   "source": [
    "****"
   ]
  },
  {
   "cell_type": "markdown",
   "id": "c963ed5c",
   "metadata": {
    "papermill": {
     "duration": 0.029903,
     "end_time": "2022-06-09T12:37:33.006618",
     "exception": false,
     "start_time": "2022-06-09T12:37:32.976715",
     "status": "completed"
    },
    "tags": []
   },
   "source": [
    "****"
   ]
  },
  {
   "cell_type": "code",
   "execution_count": 41,
   "id": "25369d06",
   "metadata": {
    "execution": {
     "iopub.execute_input": "2022-06-09T12:37:33.069286Z",
     "iopub.status.busy": "2022-06-09T12:37:33.068978Z",
     "iopub.status.idle": "2022-06-09T12:37:33.083555Z",
     "shell.execute_reply": "2022-06-09T12:37:33.082863Z"
    },
    "papermill": {
     "duration": 0.047889,
     "end_time": "2022-06-09T12:37:33.085194",
     "exception": false,
     "start_time": "2022-06-09T12:37:33.037305",
     "status": "completed"
    },
    "tags": []
   },
   "outputs": [
    {
     "data": {
      "text/html": [
       "<div>\n",
       "<style scoped>\n",
       "    .dataframe tbody tr th:only-of-type {\n",
       "        vertical-align: middle;\n",
       "    }\n",
       "\n",
       "    .dataframe tbody tr th {\n",
       "        vertical-align: top;\n",
       "    }\n",
       "\n",
       "    .dataframe thead th {\n",
       "        text-align: right;\n",
       "    }\n",
       "</style>\n",
       "<table border=\"1\" class=\"dataframe\">\n",
       "  <thead>\n",
       "    <tr style=\"text-align: right;\">\n",
       "      <th></th>\n",
       "      <th>text</th>\n",
       "      <th>PERSON-nerenglarge</th>\n",
       "      <th>LOC-nerenglarge</th>\n",
       "      <th>ORG-nerenglarge</th>\n",
       "    </tr>\n",
       "  </thead>\n",
       "  <tbody>\n",
       "    <tr>\n",
       "      <th>0</th>\n",
       "      <td>] I , ] I C Meekins ] , of ] Currituck ] Count...</td>\n",
       "      <td>[I C Meekins, Almighty, God, Isaac C. Meekins,...</td>\n",
       "      <td>[Currituck, State of North Carolina, United St...</td>\n",
       "      <td>[Constitution]</td>\n",
       "    </tr>\n",
       "    <tr>\n",
       "      <th>1</th>\n",
       "      <td>^ ] ] Department of Virginia North Carolina , ...</td>\n",
       "      <td>[]</td>\n",
       "      <td>[North Carolina, United States, States]</td>\n",
       "      <td>[OATH PAROLE]</td>\n",
       "    </tr>\n",
       "    <tr>\n",
       "      <th>2</th>\n",
       "      <td>] I , ] W. H. Pearce , ] of ] Craven ] County ...</td>\n",
       "      <td>[W . H. Pearce, Almighty, God, Jm . E. Ampetts...</td>\n",
       "      <td>[Craven, County, State of North-Carolina, Unit...</td>\n",
       "      <td>[]</td>\n",
       "    </tr>\n",
       "    <tr>\n",
       "      <th>3</th>\n",
       "      <td>State of North Carolina , } ________ County . ...</td>\n",
       "      <td>[God]</td>\n",
       "      <td>[State of North Carolina, United States]</td>\n",
       "      <td>[Constitution]</td>\n",
       "    </tr>\n",
       "    <tr>\n",
       "      <th>4</th>\n",
       "      <td>State of North Carolina , Wake ] ] County . I ...</td>\n",
       "      <td>[S.E, Allen, God, T.D, McAlpine]</td>\n",
       "      <td>[State of North Carolina, Wake, County, United...</td>\n",
       "      <td>[Constitution, Res . Corp]</td>\n",
       "    </tr>\n",
       "  </tbody>\n",
       "</table>\n",
       "</div>"
      ],
      "text/plain": [
       "                                                text  \\\n",
       "0  ] I , ] I C Meekins ] , of ] Currituck ] Count...   \n",
       "1  ^ ] ] Department of Virginia North Carolina , ...   \n",
       "2  ] I , ] W. H. Pearce , ] of ] Craven ] County ...   \n",
       "3  State of North Carolina , } ________ County . ...   \n",
       "4  State of North Carolina , Wake ] ] County . I ...   \n",
       "\n",
       "                                  PERSON-nerenglarge  \\\n",
       "0  [I C Meekins, Almighty, God, Isaac C. Meekins,...   \n",
       "1                                                 []   \n",
       "2  [W . H. Pearce, Almighty, God, Jm . E. Ampetts...   \n",
       "3                                              [God]   \n",
       "4                   [S.E, Allen, God, T.D, McAlpine]   \n",
       "\n",
       "                                     LOC-nerenglarge  \\\n",
       "0  [Currituck, State of North Carolina, United St...   \n",
       "1            [North Carolina, United States, States]   \n",
       "2  [Craven, County, State of North-Carolina, Unit...   \n",
       "3           [State of North Carolina, United States]   \n",
       "4  [State of North Carolina, Wake, County, United...   \n",
       "\n",
       "              ORG-nerenglarge  \n",
       "0              [Constitution]  \n",
       "1               [OATH PAROLE]  \n",
       "2                          []  \n",
       "3              [Constitution]  \n",
       "4  [Constitution, Res . Corp]  "
      ]
     },
     "execution_count": 41,
     "metadata": {},
     "output_type": "execute_result"
    }
   ],
   "source": [
    "dflarge.head()"
   ]
  },
  {
   "cell_type": "code",
   "execution_count": 42,
   "id": "4222f775",
   "metadata": {
    "execution": {
     "iopub.execute_input": "2022-06-09T12:37:33.148113Z",
     "iopub.status.busy": "2022-06-09T12:37:33.147745Z",
     "iopub.status.idle": "2022-06-09T12:37:33.160920Z",
     "shell.execute_reply": "2022-06-09T12:37:33.160235Z"
    },
    "papermill": {
     "duration": 0.046657,
     "end_time": "2022-06-09T12:37:33.162569",
     "exception": false,
     "start_time": "2022-06-09T12:37:33.115912",
     "status": "completed"
    },
    "tags": []
   },
   "outputs": [
    {
     "data": {
      "text/html": [
       "<div>\n",
       "<style scoped>\n",
       "    .dataframe tbody tr th:only-of-type {\n",
       "        vertical-align: middle;\n",
       "    }\n",
       "\n",
       "    .dataframe tbody tr th {\n",
       "        vertical-align: top;\n",
       "    }\n",
       "\n",
       "    .dataframe thead th {\n",
       "        text-align: right;\n",
       "    }\n",
       "</style>\n",
       "<table border=\"1\" class=\"dataframe\">\n",
       "  <thead>\n",
       "    <tr style=\"text-align: right;\">\n",
       "      <th></th>\n",
       "      <th>text</th>\n",
       "      <th>PERSON-nerenglish</th>\n",
       "      <th>LOC-nerenglish</th>\n",
       "      <th>ORG-nerenglish</th>\n",
       "    </tr>\n",
       "  </thead>\n",
       "  <tbody>\n",
       "    <tr>\n",
       "      <th>0</th>\n",
       "      <td>] I , ] I C Meekins ] , of ] Currituck ] Count...</td>\n",
       "      <td>[God, Isaac C. Meekins, I C Meekins E H Walker...</td>\n",
       "      <td>[Currituck ] County]</td>\n",
       "      <td>[]</td>\n",
       "    </tr>\n",
       "    <tr>\n",
       "      <th>1</th>\n",
       "      <td>^ ] ] Department of Virginia North Carolina , ...</td>\n",
       "      <td>[]</td>\n",
       "      <td>[United States]</td>\n",
       "      <td>[]</td>\n",
       "    </tr>\n",
       "    <tr>\n",
       "      <th>2</th>\n",
       "      <td>] I , ] W. H. Pearce , ] of ] Craven ] County ...</td>\n",
       "      <td>[H. Pearce, God, E. Ampetts, B. Watson]</td>\n",
       "      <td>[Craven ] County, State of North-Carolina]</td>\n",
       "      <td>[]</td>\n",
       "    </tr>\n",
       "    <tr>\n",
       "      <th>3</th>\n",
       "      <td>State of North Carolina , } ________ County . ...</td>\n",
       "      <td>[God, Sworn]</td>\n",
       "      <td>[United States]</td>\n",
       "      <td>[]</td>\n",
       "    </tr>\n",
       "    <tr>\n",
       "      <th>4</th>\n",
       "      <td>State of North Carolina , Wake ] ] County . I ...</td>\n",
       "      <td>[Allen, God, Allen Sworn]</td>\n",
       "      <td>[United States]</td>\n",
       "      <td>[]</td>\n",
       "    </tr>\n",
       "  </tbody>\n",
       "</table>\n",
       "</div>"
      ],
      "text/plain": [
       "                                                text  \\\n",
       "0  ] I , ] I C Meekins ] , of ] Currituck ] Count...   \n",
       "1  ^ ] ] Department of Virginia North Carolina , ...   \n",
       "2  ] I , ] W. H. Pearce , ] of ] Craven ] County ...   \n",
       "3  State of North Carolina , } ________ County . ...   \n",
       "4  State of North Carolina , Wake ] ] County . I ...   \n",
       "\n",
       "                                   PERSON-nerenglish  \\\n",
       "0  [God, Isaac C. Meekins, I C Meekins E H Walker...   \n",
       "1                                                 []   \n",
       "2            [H. Pearce, God, E. Ampetts, B. Watson]   \n",
       "3                                       [God, Sworn]   \n",
       "4                          [Allen, God, Allen Sworn]   \n",
       "\n",
       "                               LOC-nerenglish ORG-nerenglish  \n",
       "0                        [Currituck ] County]             []  \n",
       "1                             [United States]             []  \n",
       "2  [Craven ] County, State of North-Carolina]             []  \n",
       "3                             [United States]             []  \n",
       "4                             [United States]             []  "
      ]
     },
     "execution_count": 42,
     "metadata": {},
     "output_type": "execute_result"
    }
   ],
   "source": [
    "dfner.head()"
   ]
  },
  {
   "cell_type": "code",
   "execution_count": 43,
   "id": "0c986379",
   "metadata": {
    "execution": {
     "iopub.execute_input": "2022-06-09T12:37:33.225653Z",
     "iopub.status.busy": "2022-06-09T12:37:33.225397Z",
     "iopub.status.idle": "2022-06-09T12:37:33.234775Z",
     "shell.execute_reply": "2022-06-09T12:37:33.234084Z"
    },
    "papermill": {
     "duration": 0.042371,
     "end_time": "2022-06-09T12:37:33.236362",
     "exception": false,
     "start_time": "2022-06-09T12:37:33.193991",
     "status": "completed"
    },
    "tags": []
   },
   "outputs": [],
   "source": [
    "aldf[\"Person-NerEngLarge\"]=dflarge[\"PERSON-nerenglarge\"]\n",
    "aldf[\"LOC-NerEngLarge\"]=dflarge[\"LOC-nerenglarge\"]\n",
    "aldf[\"ORG-NerEngLarge\"]=dflarge[\"ORG-nerenglarge\"]\n",
    "aldf[\"Person-NerEng\"]=dfner[\"PERSON-nerenglish\"]\n",
    "aldf[\"LOC-NerEng\"]=dfner[\"LOC-nerenglish\"]\n",
    "aldf[\"ORG-NerEng\"]=dfner[\"ORG-nerenglish\"]"
   ]
  },
  {
   "cell_type": "code",
   "execution_count": 44,
   "id": "07b369bb",
   "metadata": {
    "execution": {
     "iopub.execute_input": "2022-06-09T12:37:33.299351Z",
     "iopub.status.busy": "2022-06-09T12:37:33.298879Z",
     "iopub.status.idle": "2022-06-09T12:37:33.329113Z",
     "shell.execute_reply": "2022-06-09T12:37:33.328266Z"
    },
    "papermill": {
     "duration": 0.064937,
     "end_time": "2022-06-09T12:37:33.331827",
     "exception": false,
     "start_time": "2022-06-09T12:37:33.266890",
     "status": "completed"
    },
    "tags": []
   },
   "outputs": [
    {
     "data": {
      "text/html": [
       "<div>\n",
       "<style scoped>\n",
       "    .dataframe tbody tr th:only-of-type {\n",
       "        vertical-align: middle;\n",
       "    }\n",
       "\n",
       "    .dataframe tbody tr th {\n",
       "        vertical-align: top;\n",
       "    }\n",
       "\n",
       "    .dataframe thead th {\n",
       "        text-align: right;\n",
       "    }\n",
       "</style>\n",
       "<table border=\"1\" class=\"dataframe\">\n",
       "  <thead>\n",
       "    <tr style=\"text-align: right;\">\n",
       "      <th></th>\n",
       "      <th>text</th>\n",
       "      <th>PERSON-ontonotes</th>\n",
       "      <th>GPE-ontonotes</th>\n",
       "      <th>ORG-ontonotes</th>\n",
       "      <th>Date-ontonotes</th>\n",
       "      <th>postDate-ontonotes</th>\n",
       "      <th>Person-NerEngLarge</th>\n",
       "      <th>LOC-NerEngLarge</th>\n",
       "      <th>ORG-NerEngLarge</th>\n",
       "      <th>Person-NerEng</th>\n",
       "      <th>LOC-NerEng</th>\n",
       "      <th>ORG-NerEng</th>\n",
       "    </tr>\n",
       "  </thead>\n",
       "  <tbody>\n",
       "    <tr>\n",
       "      <th>0</th>\n",
       "      <td>] I , ] I C Meekins ] , of ] Currituck ] Count...</td>\n",
       "      <td>[I C Meekins, Isaac C. Meekins, E H Walker]</td>\n",
       "      <td>[North Carolina]</td>\n",
       "      <td>[]</td>\n",
       "      <td>[16 ] day of ] Sept ] A.D . , 1865]</td>\n",
       "      <td>[16-Sept-1865]</td>\n",
       "      <td>[I C Meekins, Almighty, God, Isaac C. Meekins,...</td>\n",
       "      <td>[Currituck, State of North Carolina, United St...</td>\n",
       "      <td>[Constitution]</td>\n",
       "      <td>[God, Isaac C. Meekins, I C Meekins E H Walker...</td>\n",
       "      <td>[Currituck ] County]</td>\n",
       "      <td>[]</td>\n",
       "    </tr>\n",
       "    <tr>\n",
       "      <th>1</th>\n",
       "      <td>^ ] ] Department of Virginia North Carolina , ...</td>\n",
       "      <td>[]</td>\n",
       "      <td>[North Carolina, United States]</td>\n",
       "      <td>[Department of Virginia]</td>\n",
       "      <td>[1864]</td>\n",
       "      <td>[]</td>\n",
       "      <td>[]</td>\n",
       "      <td>[North Carolina, United States, States]</td>\n",
       "      <td>[OATH PAROLE]</td>\n",
       "      <td>[]</td>\n",
       "      <td>[United States]</td>\n",
       "      <td>[]</td>\n",
       "    </tr>\n",
       "    <tr>\n",
       "      <th>2</th>\n",
       "      <td>] I , ] W. H. Pearce , ] of ] Craven ] County ...</td>\n",
       "      <td>[W . H. Pearce]</td>\n",
       "      <td>[]</td>\n",
       "      <td>[]</td>\n",
       "      <td>[3rd ] day of ] October , ] A.D . , 1865]</td>\n",
       "      <td>[3-October-1865]</td>\n",
       "      <td>[W . H. Pearce, Almighty, God, Jm . E. Ampetts...</td>\n",
       "      <td>[Craven, County, State of North-Carolina, Unit...</td>\n",
       "      <td>[]</td>\n",
       "      <td>[H. Pearce, God, E. Ampetts, B. Watson]</td>\n",
       "      <td>[Craven ] County, State of North-Carolina]</td>\n",
       "      <td>[]</td>\n",
       "    </tr>\n",
       "    <tr>\n",
       "      <th>3</th>\n",
       "      <td>State of North Carolina , } ________ County . ...</td>\n",
       "      <td>[]</td>\n",
       "      <td>[North Carolina, United States]</td>\n",
       "      <td>[]</td>\n",
       "      <td>[______ day of ____________ , 1866]</td>\n",
       "      <td>[]</td>\n",
       "      <td>[God]</td>\n",
       "      <td>[State of North Carolina, United States]</td>\n",
       "      <td>[Constitution]</td>\n",
       "      <td>[God, Sworn]</td>\n",
       "      <td>[United States]</td>\n",
       "      <td>[]</td>\n",
       "    </tr>\n",
       "    <tr>\n",
       "      <th>4</th>\n",
       "      <td>State of North Carolina , Wake ] ] County . I ...</td>\n",
       "      <td>[S.E . Allen]</td>\n",
       "      <td>[North Carolina, United States]</td>\n",
       "      <td>[]</td>\n",
       "      <td>[31st day of May , 1867]</td>\n",
       "      <td>[31-May-1867]</td>\n",
       "      <td>[S.E, Allen, God, T.D, McAlpine]</td>\n",
       "      <td>[State of North Carolina, Wake, County, United...</td>\n",
       "      <td>[Constitution, Res . Corp]</td>\n",
       "      <td>[Allen, God, Allen Sworn]</td>\n",
       "      <td>[United States]</td>\n",
       "      <td>[]</td>\n",
       "    </tr>\n",
       "  </tbody>\n",
       "</table>\n",
       "</div>"
      ],
      "text/plain": [
       "                                                text  \\\n",
       "0  ] I , ] I C Meekins ] , of ] Currituck ] Count...   \n",
       "1  ^ ] ] Department of Virginia North Carolina , ...   \n",
       "2  ] I , ] W. H. Pearce , ] of ] Craven ] County ...   \n",
       "3  State of North Carolina , } ________ County . ...   \n",
       "4  State of North Carolina , Wake ] ] County . I ...   \n",
       "\n",
       "                              PERSON-ontonotes  \\\n",
       "0  [I C Meekins, Isaac C. Meekins, E H Walker]   \n",
       "1                                           []   \n",
       "2                              [W . H. Pearce]   \n",
       "3                                           []   \n",
       "4                                [S.E . Allen]   \n",
       "\n",
       "                     GPE-ontonotes             ORG-ontonotes  \\\n",
       "0                 [North Carolina]                        []   \n",
       "1  [North Carolina, United States]  [Department of Virginia]   \n",
       "2                               []                        []   \n",
       "3  [North Carolina, United States]                        []   \n",
       "4  [North Carolina, United States]                        []   \n",
       "\n",
       "                              Date-ontonotes postDate-ontonotes  \\\n",
       "0        [16 ] day of ] Sept ] A.D . , 1865]     [16-Sept-1865]   \n",
       "1                                     [1864]                 []   \n",
       "2  [3rd ] day of ] October , ] A.D . , 1865]   [3-October-1865]   \n",
       "3        [______ day of ____________ , 1866]                 []   \n",
       "4                   [31st day of May , 1867]      [31-May-1867]   \n",
       "\n",
       "                                  Person-NerEngLarge  \\\n",
       "0  [I C Meekins, Almighty, God, Isaac C. Meekins,...   \n",
       "1                                                 []   \n",
       "2  [W . H. Pearce, Almighty, God, Jm . E. Ampetts...   \n",
       "3                                              [God]   \n",
       "4                   [S.E, Allen, God, T.D, McAlpine]   \n",
       "\n",
       "                                     LOC-NerEngLarge  \\\n",
       "0  [Currituck, State of North Carolina, United St...   \n",
       "1            [North Carolina, United States, States]   \n",
       "2  [Craven, County, State of North-Carolina, Unit...   \n",
       "3           [State of North Carolina, United States]   \n",
       "4  [State of North Carolina, Wake, County, United...   \n",
       "\n",
       "              ORG-NerEngLarge  \\\n",
       "0              [Constitution]   \n",
       "1               [OATH PAROLE]   \n",
       "2                          []   \n",
       "3              [Constitution]   \n",
       "4  [Constitution, Res . Corp]   \n",
       "\n",
       "                                       Person-NerEng  \\\n",
       "0  [God, Isaac C. Meekins, I C Meekins E H Walker...   \n",
       "1                                                 []   \n",
       "2            [H. Pearce, God, E. Ampetts, B. Watson]   \n",
       "3                                       [God, Sworn]   \n",
       "4                          [Allen, God, Allen Sworn]   \n",
       "\n",
       "                                   LOC-NerEng ORG-NerEng  \n",
       "0                        [Currituck ] County]         []  \n",
       "1                             [United States]         []  \n",
       "2  [Craven ] County, State of North-Carolina]         []  \n",
       "3                             [United States]         []  \n",
       "4                             [United States]         []  "
      ]
     },
     "execution_count": 44,
     "metadata": {},
     "output_type": "execute_result"
    }
   ],
   "source": [
    "aldf.head()"
   ]
  },
  {
   "cell_type": "code",
   "execution_count": 45,
   "id": "a027f66a",
   "metadata": {
    "execution": {
     "iopub.execute_input": "2022-06-09T12:37:33.396071Z",
     "iopub.status.busy": "2022-06-09T12:37:33.395796Z",
     "iopub.status.idle": "2022-06-09T12:37:33.513249Z",
     "shell.execute_reply": "2022-06-09T12:37:33.512472Z"
    },
    "papermill": {
     "duration": 0.151426,
     "end_time": "2022-06-09T12:37:33.515050",
     "exception": false,
     "start_time": "2022-06-09T12:37:33.363624",
     "status": "completed"
    },
    "tags": []
   },
   "outputs": [],
   "source": [
    "aldf.to_csv(\"result.csv\", index=False)"
   ]
  },
  {
   "cell_type": "code",
   "execution_count": 46,
   "id": "ce2434ec",
   "metadata": {
    "execution": {
     "iopub.execute_input": "2022-06-09T12:37:33.579744Z",
     "iopub.status.busy": "2022-06-09T12:37:33.579115Z",
     "iopub.status.idle": "2022-06-09T12:37:33.589443Z",
     "shell.execute_reply": "2022-06-09T12:37:33.588685Z"
    },
    "papermill": {
     "duration": 0.044097,
     "end_time": "2022-06-09T12:37:33.591168",
     "exception": false,
     "start_time": "2022-06-09T12:37:33.547071",
     "status": "completed"
    },
    "tags": []
   },
   "outputs": [],
   "source": [
    "allPerson=[]\n",
    "for i in aldf[\"PERSON-ontonotes\"]:\n",
    "            allPerson.append(i)\n",
    "allDatess=[]\n",
    "for i in aldf[\"Date-ontonotes\"]:\n",
    "            allDatess.append(i)\n",
    "allpostdates=[]\n",
    "for i in aldf[\"postDate-ontonotes\"]:\n",
    "            allpostdates.append(i)\n",
    "allGPE=[]\n",
    "for i in aldf[\"GPE-ontonotes\"]:\n",
    "            allGPE.append(i)\n",
    "alORGl=[]\n",
    "for i in aldf[\"ORG-ontonotes\"]:\n",
    "            alORGl.append(i)"
   ]
  },
  {
   "cell_type": "markdown",
   "id": "42d7529c",
   "metadata": {
    "papermill": {
     "duration": 0.030725,
     "end_time": "2022-06-09T12:37:33.653360",
     "exception": false,
     "start_time": "2022-06-09T12:37:33.622635",
     "status": "completed"
    },
    "tags": []
   },
   "source": [
    "****"
   ]
  },
  {
   "cell_type": "code",
   "execution_count": 47,
   "id": "36f3181e",
   "metadata": {
    "execution": {
     "iopub.execute_input": "2022-06-09T12:37:33.716878Z",
     "iopub.status.busy": "2022-06-09T12:37:33.716570Z",
     "iopub.status.idle": "2022-06-09T12:37:33.724156Z",
     "shell.execute_reply": "2022-06-09T12:37:33.723305Z"
    },
    "papermill": {
     "duration": 0.041524,
     "end_time": "2022-06-09T12:37:33.726036",
     "exception": false,
     "start_time": "2022-06-09T12:37:33.684512",
     "status": "completed"
    },
    "tags": []
   },
   "outputs": [],
   "source": [
    "Personlarge=[]\n",
    "for i in dflarge[\"PERSON-nerenglarge\"]:\n",
    "            Personlarge.append(i)\n",
    "ORGlarge=[]\n",
    "for i in dflarge[\"ORG-nerenglarge\"]:\n",
    "            ORGlarge.append(i) \n",
    "LOClarge=[]\n",
    "for i in dflarge[\"LOC-nerenglarge\"]:\n",
    "            LOClarge.append(i)"
   ]
  },
  {
   "cell_type": "markdown",
   "id": "4fc02420",
   "metadata": {
    "papermill": {
     "duration": 0.031259,
     "end_time": "2022-06-09T12:37:33.788191",
     "exception": false,
     "start_time": "2022-06-09T12:37:33.756932",
     "status": "completed"
    },
    "tags": []
   },
   "source": [
    "* as usual , ner English Large is better in extracting Person \n",
    "* ontonotes is thes best in extracting dates after good postprocessing and filtring almost all pattern \n",
    "* ner Engish Large  also better in Location and Oranization "
   ]
  },
  {
   "cell_type": "markdown",
   "id": "04fd2c94",
   "metadata": {
    "papermill": {
     "duration": 0.030942,
     "end_time": "2022-06-09T12:37:33.850482",
     "exception": false,
     "start_time": "2022-06-09T12:37:33.819540",
     "status": "completed"
    },
    "tags": []
   },
   "source": [
    "# dates"
   ]
  },
  {
   "cell_type": "markdown",
   "id": "bedb18af",
   "metadata": {
    "papermill": {
     "duration": 0.030816,
     "end_time": "2022-06-09T12:37:33.912057",
     "exception": false,
     "start_time": "2022-06-09T12:37:33.881241",
     "status": "completed"
    },
    "tags": []
   },
   "source": [
    "**run those cells to take a look at the result more clearly**"
   ]
  },
  {
   "cell_type": "code",
   "execution_count": 48,
   "id": "762f018c",
   "metadata": {
    "execution": {
     "iopub.execute_input": "2022-06-09T12:37:33.998476Z",
     "iopub.status.busy": "2022-06-09T12:37:33.998041Z",
     "iopub.status.idle": "2022-06-09T12:37:34.007622Z",
     "shell.execute_reply": "2022-06-09T12:37:34.006668Z"
    },
    "papermill": {
     "duration": 0.067866,
     "end_time": "2022-06-09T12:37:34.010775",
     "exception": false,
     "start_time": "2022-06-09T12:37:33.942909",
     "status": "completed"
    },
    "tags": []
   },
   "outputs": [],
   "source": [
    "#G"
   ]
  },
  {
   "cell_type": "markdown",
   "id": "2ecc45ce",
   "metadata": {
    "papermill": {
     "duration": 0.030698,
     "end_time": "2022-06-09T12:37:34.075483",
     "exception": false,
     "start_time": "2022-06-09T12:37:34.044785",
     "status": "completed"
    },
    "tags": []
   },
   "source": [
    "# Person"
   ]
  },
  {
   "cell_type": "code",
   "execution_count": 49,
   "id": "49e74ced",
   "metadata": {
    "execution": {
     "iopub.execute_input": "2022-06-09T12:37:34.138443Z",
     "iopub.status.busy": "2022-06-09T12:37:34.138152Z",
     "iopub.status.idle": "2022-06-09T12:37:34.144767Z",
     "shell.execute_reply": "2022-06-09T12:37:34.144076Z"
    },
    "papermill": {
     "duration": 0.04009,
     "end_time": "2022-06-09T12:37:34.146564",
     "exception": false,
     "start_time": "2022-06-09T12:37:34.106474",
     "status": "completed"
    },
    "tags": []
   },
   "outputs": [
    {
     "data": {
      "text/plain": [
       "[['I C Meekins', 'Isaac C. Meekins', 'E H Walker'],\n",
       " [],\n",
       " ['W . H. Pearce'],\n",
       " [],\n",
       " ['S.E . Allen'],\n",
       " ['Sarah E Dough', 'Sarah', 'E. Dough'],\n",
       " ['Sarah E. Dough', 'J.M . Wilson'],\n",
       " ['W T Dough'],\n",
       " ['Jesse E Dough',\n",
       "  'Isaac C. Meekins J.P',\n",
       "  'Jesse E. Dough',\n",
       "  'Isaac . C. Meekins J.P'],\n",
       " ['T A Dough', 'John B Etheridge']]"
      ]
     },
     "execution_count": 49,
     "metadata": {},
     "output_type": "execute_result"
    }
   ],
   "source": [
    "allPerson[:10]"
   ]
  },
  {
   "cell_type": "code",
   "execution_count": 50,
   "id": "29d64804",
   "metadata": {
    "execution": {
     "iopub.execute_input": "2022-06-09T12:37:34.210073Z",
     "iopub.status.busy": "2022-06-09T12:37:34.209514Z",
     "iopub.status.idle": "2022-06-09T12:37:34.215258Z",
     "shell.execute_reply": "2022-06-09T12:37:34.214536Z"
    },
    "papermill": {
     "duration": 0.039211,
     "end_time": "2022-06-09T12:37:34.217012",
     "exception": false,
     "start_time": "2022-06-09T12:37:34.177801",
     "status": "completed"
    },
    "tags": []
   },
   "outputs": [
    {
     "data": {
      "text/plain": [
       "[['I C Meekins',\n",
       "  'Almighty',\n",
       "  'God',\n",
       "  'Isaac C. Meekins',\n",
       "  'E H Walker',\n",
       "  'J.P. John B Etheridge'],\n",
       " [],\n",
       " ['W . H. Pearce',\n",
       "  'Almighty',\n",
       "  'God',\n",
       "  'Jm . E. Ampetts',\n",
       "  'J. P.',\n",
       "  'J.P. A',\n",
       "  'B. Watson'],\n",
       " ['God'],\n",
       " ['S.E', 'Allen', 'God', 'T.D', 'McAlpine'],\n",
       " ['Sarah E Dough', 'God', 'Isaac C. Merkins'],\n",
       " ['Sarah E. Dough', 'J.M . Wilson'],\n",
       " ['W T Dough',\n",
       "  'Almighty',\n",
       "  'God',\n",
       "  'W. T. Dough',\n",
       "  'E H Walker',\n",
       "  'J. P.',\n",
       "  'J. P. John B Etheridge',\n",
       "  'J. P'],\n",
       " ['Jesse E Dough',\n",
       "  'God',\n",
       "  'Jesse E. Dough',\n",
       "  'Isaac C. Meekins J.P',\n",
       "  'A. D. Etheridge'],\n",
       " ['T A Dough',\n",
       "  'Almighty',\n",
       "  'God',\n",
       "  'Thos A Dough',\n",
       "  'John B Etheridge',\n",
       "  'J. P.',\n",
       "  'J. P. E H Walker',\n",
       "  'J. P']]"
      ]
     },
     "execution_count": 50,
     "metadata": {},
     "output_type": "execute_result"
    }
   ],
   "source": [
    "Personlarge[:10]"
   ]
  },
  {
   "cell_type": "markdown",
   "id": "337cef33",
   "metadata": {
    "papermill": {
     "duration": 0.031436,
     "end_time": "2022-06-09T12:37:34.279774",
     "exception": false,
     "start_time": "2022-06-09T12:37:34.248338",
     "status": "completed"
    },
    "tags": []
   },
   "source": [
    "# LOC and ORG "
   ]
  },
  {
   "cell_type": "code",
   "execution_count": 51,
   "id": "9387d94c",
   "metadata": {
    "execution": {
     "iopub.execute_input": "2022-06-09T12:37:34.344167Z",
     "iopub.status.busy": "2022-06-09T12:37:34.343528Z",
     "iopub.status.idle": "2022-06-09T12:37:34.346898Z",
     "shell.execute_reply": "2022-06-09T12:37:34.346214Z"
    },
    "papermill": {
     "duration": 0.036981,
     "end_time": "2022-06-09T12:37:34.348693",
     "exception": false,
     "start_time": "2022-06-09T12:37:34.311712",
     "status": "completed"
    },
    "tags": []
   },
   "outputs": [],
   "source": [
    "#LOClarge"
   ]
  },
  {
   "cell_type": "code",
   "execution_count": 52,
   "id": "46a3b695",
   "metadata": {
    "execution": {
     "iopub.execute_input": "2022-06-09T12:37:34.413274Z",
     "iopub.status.busy": "2022-06-09T12:37:34.412850Z",
     "iopub.status.idle": "2022-06-09T12:37:34.416282Z",
     "shell.execute_reply": "2022-06-09T12:37:34.415456Z"
    },
    "papermill": {
     "duration": 0.037055,
     "end_time": "2022-06-09T12:37:34.418188",
     "exception": false,
     "start_time": "2022-06-09T12:37:34.381133",
     "status": "completed"
    },
    "tags": []
   },
   "outputs": [],
   "source": [
    "#ORGlarge"
   ]
  },
  {
   "cell_type": "markdown",
   "id": "4caf6480",
   "metadata": {
    "papermill": {
     "duration": 0.030738,
     "end_time": "2022-06-09T12:37:34.480731",
     "exception": false,
     "start_time": "2022-06-09T12:37:34.449993",
     "status": "completed"
    },
    "tags": []
   },
   "source": [
    "# the final dataset :"
   ]
  },
  {
   "cell_type": "code",
   "execution_count": 53,
   "id": "a562992d",
   "metadata": {
    "execution": {
     "iopub.execute_input": "2022-06-09T12:37:34.545315Z",
     "iopub.status.busy": "2022-06-09T12:37:34.545044Z",
     "iopub.status.idle": "2022-06-09T12:37:34.574458Z",
     "shell.execute_reply": "2022-06-09T12:37:34.573760Z"
    },
    "papermill": {
     "duration": 0.063133,
     "end_time": "2022-06-09T12:37:34.576070",
     "exception": false,
     "start_time": "2022-06-09T12:37:34.512937",
     "status": "completed"
    },
    "tags": []
   },
   "outputs": [
    {
     "data": {
      "text/html": [
       "<div>\n",
       "<style scoped>\n",
       "    .dataframe tbody tr th:only-of-type {\n",
       "        vertical-align: middle;\n",
       "    }\n",
       "\n",
       "    .dataframe tbody tr th {\n",
       "        vertical-align: top;\n",
       "    }\n",
       "\n",
       "    .dataframe thead th {\n",
       "        text-align: right;\n",
       "    }\n",
       "</style>\n",
       "<table border=\"1\" class=\"dataframe\">\n",
       "  <thead>\n",
       "    <tr style=\"text-align: right;\">\n",
       "      <th></th>\n",
       "      <th>text</th>\n",
       "      <th>PERSON-ontonotes</th>\n",
       "      <th>GPE-ontonotes</th>\n",
       "      <th>ORG-ontonotes</th>\n",
       "      <th>Date-ontonotes</th>\n",
       "      <th>postDate-ontonotes</th>\n",
       "      <th>Person-NerEngLarge</th>\n",
       "      <th>LOC-NerEngLarge</th>\n",
       "      <th>ORG-NerEngLarge</th>\n",
       "      <th>Person-NerEng</th>\n",
       "      <th>LOC-NerEng</th>\n",
       "      <th>ORG-NerEng</th>\n",
       "    </tr>\n",
       "  </thead>\n",
       "  <tbody>\n",
       "    <tr>\n",
       "      <th>0</th>\n",
       "      <td>] I , ] I C Meekins ] , of ] Currituck ] Count...</td>\n",
       "      <td>[I C Meekins, Isaac C. Meekins, E H Walker]</td>\n",
       "      <td>[North Carolina]</td>\n",
       "      <td>[]</td>\n",
       "      <td>[16 ] day of ] Sept ] A.D . , 1865]</td>\n",
       "      <td>[16-Sept-1865]</td>\n",
       "      <td>[I C Meekins, Almighty, God, Isaac C. Meekins,...</td>\n",
       "      <td>[Currituck, State of North Carolina, United St...</td>\n",
       "      <td>[Constitution]</td>\n",
       "      <td>[God, Isaac C. Meekins, I C Meekins E H Walker...</td>\n",
       "      <td>[Currituck ] County]</td>\n",
       "      <td>[]</td>\n",
       "    </tr>\n",
       "    <tr>\n",
       "      <th>1</th>\n",
       "      <td>^ ] ] Department of Virginia North Carolina , ...</td>\n",
       "      <td>[]</td>\n",
       "      <td>[North Carolina, United States]</td>\n",
       "      <td>[Department of Virginia]</td>\n",
       "      <td>[1864]</td>\n",
       "      <td>[]</td>\n",
       "      <td>[]</td>\n",
       "      <td>[North Carolina, United States, States]</td>\n",
       "      <td>[OATH PAROLE]</td>\n",
       "      <td>[]</td>\n",
       "      <td>[United States]</td>\n",
       "      <td>[]</td>\n",
       "    </tr>\n",
       "    <tr>\n",
       "      <th>2</th>\n",
       "      <td>] I , ] W. H. Pearce , ] of ] Craven ] County ...</td>\n",
       "      <td>[W . H. Pearce]</td>\n",
       "      <td>[]</td>\n",
       "      <td>[]</td>\n",
       "      <td>[3rd ] day of ] October , ] A.D . , 1865]</td>\n",
       "      <td>[3-October-1865]</td>\n",
       "      <td>[W . H. Pearce, Almighty, God, Jm . E. Ampetts...</td>\n",
       "      <td>[Craven, County, State of North-Carolina, Unit...</td>\n",
       "      <td>[]</td>\n",
       "      <td>[H. Pearce, God, E. Ampetts, B. Watson]</td>\n",
       "      <td>[Craven ] County, State of North-Carolina]</td>\n",
       "      <td>[]</td>\n",
       "    </tr>\n",
       "    <tr>\n",
       "      <th>3</th>\n",
       "      <td>State of North Carolina , } ________ County . ...</td>\n",
       "      <td>[]</td>\n",
       "      <td>[North Carolina, United States]</td>\n",
       "      <td>[]</td>\n",
       "      <td>[______ day of ____________ , 1866]</td>\n",
       "      <td>[]</td>\n",
       "      <td>[God]</td>\n",
       "      <td>[State of North Carolina, United States]</td>\n",
       "      <td>[Constitution]</td>\n",
       "      <td>[God, Sworn]</td>\n",
       "      <td>[United States]</td>\n",
       "      <td>[]</td>\n",
       "    </tr>\n",
       "    <tr>\n",
       "      <th>4</th>\n",
       "      <td>State of North Carolina , Wake ] ] County . I ...</td>\n",
       "      <td>[S.E . Allen]</td>\n",
       "      <td>[North Carolina, United States]</td>\n",
       "      <td>[]</td>\n",
       "      <td>[31st day of May , 1867]</td>\n",
       "      <td>[31-May-1867]</td>\n",
       "      <td>[S.E, Allen, God, T.D, McAlpine]</td>\n",
       "      <td>[State of North Carolina, Wake, County, United...</td>\n",
       "      <td>[Constitution, Res . Corp]</td>\n",
       "      <td>[Allen, God, Allen Sworn]</td>\n",
       "      <td>[United States]</td>\n",
       "      <td>[]</td>\n",
       "    </tr>\n",
       "  </tbody>\n",
       "</table>\n",
       "</div>"
      ],
      "text/plain": [
       "                                                text  \\\n",
       "0  ] I , ] I C Meekins ] , of ] Currituck ] Count...   \n",
       "1  ^ ] ] Department of Virginia North Carolina , ...   \n",
       "2  ] I , ] W. H. Pearce , ] of ] Craven ] County ...   \n",
       "3  State of North Carolina , } ________ County . ...   \n",
       "4  State of North Carolina , Wake ] ] County . I ...   \n",
       "\n",
       "                              PERSON-ontonotes  \\\n",
       "0  [I C Meekins, Isaac C. Meekins, E H Walker]   \n",
       "1                                           []   \n",
       "2                              [W . H. Pearce]   \n",
       "3                                           []   \n",
       "4                                [S.E . Allen]   \n",
       "\n",
       "                     GPE-ontonotes             ORG-ontonotes  \\\n",
       "0                 [North Carolina]                        []   \n",
       "1  [North Carolina, United States]  [Department of Virginia]   \n",
       "2                               []                        []   \n",
       "3  [North Carolina, United States]                        []   \n",
       "4  [North Carolina, United States]                        []   \n",
       "\n",
       "                              Date-ontonotes postDate-ontonotes  \\\n",
       "0        [16 ] day of ] Sept ] A.D . , 1865]     [16-Sept-1865]   \n",
       "1                                     [1864]                 []   \n",
       "2  [3rd ] day of ] October , ] A.D . , 1865]   [3-October-1865]   \n",
       "3        [______ day of ____________ , 1866]                 []   \n",
       "4                   [31st day of May , 1867]      [31-May-1867]   \n",
       "\n",
       "                                  Person-NerEngLarge  \\\n",
       "0  [I C Meekins, Almighty, God, Isaac C. Meekins,...   \n",
       "1                                                 []   \n",
       "2  [W . H. Pearce, Almighty, God, Jm . E. Ampetts...   \n",
       "3                                              [God]   \n",
       "4                   [S.E, Allen, God, T.D, McAlpine]   \n",
       "\n",
       "                                     LOC-NerEngLarge  \\\n",
       "0  [Currituck, State of North Carolina, United St...   \n",
       "1            [North Carolina, United States, States]   \n",
       "2  [Craven, County, State of North-Carolina, Unit...   \n",
       "3           [State of North Carolina, United States]   \n",
       "4  [State of North Carolina, Wake, County, United...   \n",
       "\n",
       "              ORG-NerEngLarge  \\\n",
       "0              [Constitution]   \n",
       "1               [OATH PAROLE]   \n",
       "2                          []   \n",
       "3              [Constitution]   \n",
       "4  [Constitution, Res . Corp]   \n",
       "\n",
       "                                       Person-NerEng  \\\n",
       "0  [God, Isaac C. Meekins, I C Meekins E H Walker...   \n",
       "1                                                 []   \n",
       "2            [H. Pearce, God, E. Ampetts, B. Watson]   \n",
       "3                                       [God, Sworn]   \n",
       "4                          [Allen, God, Allen Sworn]   \n",
       "\n",
       "                                   LOC-NerEng ORG-NerEng  \n",
       "0                        [Currituck ] County]         []  \n",
       "1                             [United States]         []  \n",
       "2  [Craven ] County, State of North-Carolina]         []  \n",
       "3                             [United States]         []  \n",
       "4                             [United States]         []  "
      ]
     },
     "execution_count": 53,
     "metadata": {},
     "output_type": "execute_result"
    }
   ],
   "source": [
    "aldf.head()"
   ]
  },
  {
   "cell_type": "markdown",
   "id": "3ea27e87",
   "metadata": {
    "papermill": {
     "duration": 0.031278,
     "end_time": "2022-06-09T12:37:34.641492",
     "exception": false,
     "start_time": "2022-06-09T12:37:34.610214",
     "status": "completed"
    },
    "tags": []
   },
   "source": [
    "****"
   ]
  },
  {
   "cell_type": "code",
   "execution_count": 54,
   "id": "d28bf0c2",
   "metadata": {
    "execution": {
     "iopub.execute_input": "2022-06-09T12:37:34.705714Z",
     "iopub.status.busy": "2022-06-09T12:37:34.705058Z",
     "iopub.status.idle": "2022-06-09T12:37:34.708761Z",
     "shell.execute_reply": "2022-06-09T12:37:34.707950Z"
    },
    "papermill": {
     "duration": 0.037686,
     "end_time": "2022-06-09T12:37:34.710564",
     "exception": false,
     "start_time": "2022-06-09T12:37:34.672878",
     "status": "completed"
    },
    "tags": []
   },
   "outputs": [],
   "source": [
    "#GF"
   ]
  },
  {
   "cell_type": "code",
   "execution_count": 55,
   "id": "5cf94506",
   "metadata": {
    "execution": {
     "iopub.execute_input": "2022-06-09T12:37:34.778958Z",
     "iopub.status.busy": "2022-06-09T12:37:34.778615Z",
     "iopub.status.idle": "2022-06-09T12:37:34.783037Z",
     "shell.execute_reply": "2022-06-09T12:37:34.781823Z"
    },
    "papermill": {
     "duration": 0.043011,
     "end_time": "2022-06-09T12:37:34.785406",
     "exception": false,
     "start_time": "2022-06-09T12:37:34.742395",
     "status": "completed"
    },
    "tags": []
   },
   "outputs": [],
   "source": [
    "#G"
   ]
  },
  {
   "cell_type": "code",
   "execution_count": null,
   "id": "2c19ec25",
   "metadata": {
    "papermill": {
     "duration": 0.032004,
     "end_time": "2022-06-09T12:37:34.849716",
     "exception": false,
     "start_time": "2022-06-09T12:37:34.817712",
     "status": "completed"
    },
    "tags": []
   },
   "outputs": [],
   "source": []
  }
 ],
 "metadata": {
  "kernelspec": {
   "display_name": "Python 3",
   "language": "python",
   "name": "python3"
  },
  "language_info": {
   "codemirror_mode": {
    "name": "ipython",
    "version": 3
   },
   "file_extension": ".py",
   "mimetype": "text/x-python",
   "name": "python",
   "nbconvert_exporter": "python",
   "pygments_lexer": "ipython3",
   "version": "3.7.12"
  },
  "papermill": {
   "default_parameters": {},
   "duration": 1022.064884,
   "end_time": "2022-06-09T12:37:37.708500",
   "environment_variables": {},
   "exception": null,
   "input_path": "__notebook__.ipynb",
   "output_path": "__notebook__.ipynb",
   "parameters": {},
   "start_time": "2022-06-09T12:20:35.643616",
   "version": "2.3.4"
  },
  "widgets": {
   "application/vnd.jupyter.widget-state+json": {
    "state": {
     "0463b90a685840a49d5fa22ba906080b": {
      "model_module": "@jupyter-widgets/base",
      "model_module_version": "1.2.0",
      "model_name": "LayoutModel",
      "state": {
       "_model_module": "@jupyter-widgets/base",
       "_model_module_version": "1.2.0",
       "_model_name": "LayoutModel",
       "_view_count": null,
       "_view_module": "@jupyter-widgets/base",
       "_view_module_version": "1.2.0",
       "_view_name": "LayoutView",
       "align_content": null,
       "align_items": null,
       "align_self": null,
       "border": null,
       "bottom": null,
       "display": null,
       "flex": null,
       "flex_flow": null,
       "grid_area": null,
       "grid_auto_columns": null,
       "grid_auto_flow": null,
       "grid_auto_rows": null,
       "grid_column": null,
       "grid_gap": null,
       "grid_row": null,
       "grid_template_areas": null,
       "grid_template_columns": null,
       "grid_template_rows": null,
       "height": null,
       "justify_content": null,
       "justify_items": null,
       "left": null,
       "margin": null,
       "max_height": null,
       "max_width": null,
       "min_height": null,
       "min_width": null,
       "object_fit": null,
       "object_position": null,
       "order": null,
       "overflow": null,
       "overflow_x": null,
       "overflow_y": null,
       "padding": null,
       "right": null,
       "top": null,
       "visibility": null,
       "width": null
      }
     },
     "082bd45fd4f341269e56b06b8f00202a": {
      "model_module": "@jupyter-widgets/base",
      "model_module_version": "1.2.0",
      "model_name": "LayoutModel",
      "state": {
       "_model_module": "@jupyter-widgets/base",
       "_model_module_version": "1.2.0",
       "_model_name": "LayoutModel",
       "_view_count": null,
       "_view_module": "@jupyter-widgets/base",
       "_view_module_version": "1.2.0",
       "_view_name": "LayoutView",
       "align_content": null,
       "align_items": null,
       "align_self": null,
       "border": null,
       "bottom": null,
       "display": null,
       "flex": null,
       "flex_flow": null,
       "grid_area": null,
       "grid_auto_columns": null,
       "grid_auto_flow": null,
       "grid_auto_rows": null,
       "grid_column": null,
       "grid_gap": null,
       "grid_row": null,
       "grid_template_areas": null,
       "grid_template_columns": null,
       "grid_template_rows": null,
       "height": null,
       "justify_content": null,
       "justify_items": null,
       "left": null,
       "margin": null,
       "max_height": null,
       "max_width": null,
       "min_height": null,
       "min_width": null,
       "object_fit": null,
       "object_position": null,
       "order": null,
       "overflow": null,
       "overflow_x": null,
       "overflow_y": null,
       "padding": null,
       "right": null,
       "top": null,
       "visibility": null,
       "width": null
      }
     },
     "09b05bf9fa054248a87ef180aeb8b4f3": {
      "model_module": "@jupyter-widgets/base",
      "model_module_version": "1.2.0",
      "model_name": "LayoutModel",
      "state": {
       "_model_module": "@jupyter-widgets/base",
       "_model_module_version": "1.2.0",
       "_model_name": "LayoutModel",
       "_view_count": null,
       "_view_module": "@jupyter-widgets/base",
       "_view_module_version": "1.2.0",
       "_view_name": "LayoutView",
       "align_content": null,
       "align_items": null,
       "align_self": null,
       "border": null,
       "bottom": null,
       "display": null,
       "flex": null,
       "flex_flow": null,
       "grid_area": null,
       "grid_auto_columns": null,
       "grid_auto_flow": null,
       "grid_auto_rows": null,
       "grid_column": null,
       "grid_gap": null,
       "grid_row": null,
       "grid_template_areas": null,
       "grid_template_columns": null,
       "grid_template_rows": null,
       "height": null,
       "justify_content": null,
       "justify_items": null,
       "left": null,
       "margin": null,
       "max_height": null,
       "max_width": null,
       "min_height": null,
       "min_width": null,
       "object_fit": null,
       "object_position": null,
       "order": null,
       "overflow": null,
       "overflow_x": null,
       "overflow_y": null,
       "padding": null,
       "right": null,
       "top": null,
       "visibility": null,
       "width": null
      }
     },
     "0ad2f24d61294742b58f22e46a6972a0": {
      "model_module": "@jupyter-widgets/controls",
      "model_module_version": "1.5.0",
      "model_name": "ProgressStyleModel",
      "state": {
       "_model_module": "@jupyter-widgets/controls",
       "_model_module_version": "1.5.0",
       "_model_name": "ProgressStyleModel",
       "_view_count": null,
       "_view_module": "@jupyter-widgets/base",
       "_view_module_version": "1.2.0",
       "_view_name": "StyleView",
       "bar_color": null,
       "description_width": ""
      }
     },
     "0b5f13d571d240ae94e3807a0eb0e75f": {
      "model_module": "@jupyter-widgets/base",
      "model_module_version": "1.2.0",
      "model_name": "LayoutModel",
      "state": {
       "_model_module": "@jupyter-widgets/base",
       "_model_module_version": "1.2.0",
       "_model_name": "LayoutModel",
       "_view_count": null,
       "_view_module": "@jupyter-widgets/base",
       "_view_module_version": "1.2.0",
       "_view_name": "LayoutView",
       "align_content": null,
       "align_items": null,
       "align_self": null,
       "border": null,
       "bottom": null,
       "display": null,
       "flex": null,
       "flex_flow": null,
       "grid_area": null,
       "grid_auto_columns": null,
       "grid_auto_flow": null,
       "grid_auto_rows": null,
       "grid_column": null,
       "grid_gap": null,
       "grid_row": null,
       "grid_template_areas": null,
       "grid_template_columns": null,
       "grid_template_rows": null,
       "height": null,
       "justify_content": null,
       "justify_items": null,
       "left": null,
       "margin": null,
       "max_height": null,
       "max_width": null,
       "min_height": null,
       "min_width": null,
       "object_fit": null,
       "object_position": null,
       "order": null,
       "overflow": null,
       "overflow_x": null,
       "overflow_y": null,
       "padding": null,
       "right": null,
       "top": null,
       "visibility": null,
       "width": null
      }
     },
     "0dcac09b441c4d8f9c0c62a3bf913673": {
      "model_module": "@jupyter-widgets/base",
      "model_module_version": "1.2.0",
      "model_name": "LayoutModel",
      "state": {
       "_model_module": "@jupyter-widgets/base",
       "_model_module_version": "1.2.0",
       "_model_name": "LayoutModel",
       "_view_count": null,
       "_view_module": "@jupyter-widgets/base",
       "_view_module_version": "1.2.0",
       "_view_name": "LayoutView",
       "align_content": null,
       "align_items": null,
       "align_self": null,
       "border": null,
       "bottom": null,
       "display": null,
       "flex": null,
       "flex_flow": null,
       "grid_area": null,
       "grid_auto_columns": null,
       "grid_auto_flow": null,
       "grid_auto_rows": null,
       "grid_column": null,
       "grid_gap": null,
       "grid_row": null,
       "grid_template_areas": null,
       "grid_template_columns": null,
       "grid_template_rows": null,
       "height": null,
       "justify_content": null,
       "justify_items": null,
       "left": null,
       "margin": null,
       "max_height": null,
       "max_width": null,
       "min_height": null,
       "min_width": null,
       "object_fit": null,
       "object_position": null,
       "order": null,
       "overflow": null,
       "overflow_x": null,
       "overflow_y": null,
       "padding": null,
       "right": null,
       "top": null,
       "visibility": null,
       "width": null
      }
     },
     "127dd7c1440d417f877a1fd7025bdab0": {
      "model_module": "@jupyter-widgets/base",
      "model_module_version": "1.2.0",
      "model_name": "LayoutModel",
      "state": {
       "_model_module": "@jupyter-widgets/base",
       "_model_module_version": "1.2.0",
       "_model_name": "LayoutModel",
       "_view_count": null,
       "_view_module": "@jupyter-widgets/base",
       "_view_module_version": "1.2.0",
       "_view_name": "LayoutView",
       "align_content": null,
       "align_items": null,
       "align_self": null,
       "border": null,
       "bottom": null,
       "display": null,
       "flex": null,
       "flex_flow": null,
       "grid_area": null,
       "grid_auto_columns": null,
       "grid_auto_flow": null,
       "grid_auto_rows": null,
       "grid_column": null,
       "grid_gap": null,
       "grid_row": null,
       "grid_template_areas": null,
       "grid_template_columns": null,
       "grid_template_rows": null,
       "height": null,
       "justify_content": null,
       "justify_items": null,
       "left": null,
       "margin": null,
       "max_height": null,
       "max_width": null,
       "min_height": null,
       "min_width": null,
       "object_fit": null,
       "object_position": null,
       "order": null,
       "overflow": null,
       "overflow_x": null,
       "overflow_y": null,
       "padding": null,
       "right": null,
       "top": null,
       "visibility": null,
       "width": null
      }
     },
     "1650876283c94a769321693a31c41e73": {
      "model_module": "@jupyter-widgets/controls",
      "model_module_version": "1.5.0",
      "model_name": "HBoxModel",
      "state": {
       "_dom_classes": [],
       "_model_module": "@jupyter-widgets/controls",
       "_model_module_version": "1.5.0",
       "_model_name": "HBoxModel",
       "_view_count": null,
       "_view_module": "@jupyter-widgets/controls",
       "_view_module_version": "1.5.0",
       "_view_name": "HBoxView",
       "box_style": "",
       "children": [
        "IPY_MODEL_ca17cac72c9c490b83d3dd6ed1e637d5",
        "IPY_MODEL_925a0bc890164c599c45913ad997c8b1",
        "IPY_MODEL_370c491b9f1e40c1bf2084d7cffe45de"
       ],
       "layout": "IPY_MODEL_1c22c2987475460f8158740dd189a93e"
      }
     },
     "16ac4ed00a0c447081215b072166ede1": {
      "model_module": "@jupyter-widgets/base",
      "model_module_version": "1.2.0",
      "model_name": "LayoutModel",
      "state": {
       "_model_module": "@jupyter-widgets/base",
       "_model_module_version": "1.2.0",
       "_model_name": "LayoutModel",
       "_view_count": null,
       "_view_module": "@jupyter-widgets/base",
       "_view_module_version": "1.2.0",
       "_view_name": "LayoutView",
       "align_content": null,
       "align_items": null,
       "align_self": null,
       "border": null,
       "bottom": null,
       "display": null,
       "flex": null,
       "flex_flow": null,
       "grid_area": null,
       "grid_auto_columns": null,
       "grid_auto_flow": null,
       "grid_auto_rows": null,
       "grid_column": null,
       "grid_gap": null,
       "grid_row": null,
       "grid_template_areas": null,
       "grid_template_columns": null,
       "grid_template_rows": null,
       "height": null,
       "justify_content": null,
       "justify_items": null,
       "left": null,
       "margin": null,
       "max_height": null,
       "max_width": null,
       "min_height": null,
       "min_width": null,
       "object_fit": null,
       "object_position": null,
       "order": null,
       "overflow": null,
       "overflow_x": null,
       "overflow_y": null,
       "padding": null,
       "right": null,
       "top": null,
       "visibility": null,
       "width": null
      }
     },
     "1926b7f8e0cc499fbce8f6f8e51f04a9": {
      "model_module": "@jupyter-widgets/base",
      "model_module_version": "1.2.0",
      "model_name": "LayoutModel",
      "state": {
       "_model_module": "@jupyter-widgets/base",
       "_model_module_version": "1.2.0",
       "_model_name": "LayoutModel",
       "_view_count": null,
       "_view_module": "@jupyter-widgets/base",
       "_view_module_version": "1.2.0",
       "_view_name": "LayoutView",
       "align_content": null,
       "align_items": null,
       "align_self": null,
       "border": null,
       "bottom": null,
       "display": null,
       "flex": null,
       "flex_flow": null,
       "grid_area": null,
       "grid_auto_columns": null,
       "grid_auto_flow": null,
       "grid_auto_rows": null,
       "grid_column": null,
       "grid_gap": null,
       "grid_row": null,
       "grid_template_areas": null,
       "grid_template_columns": null,
       "grid_template_rows": null,
       "height": null,
       "justify_content": null,
       "justify_items": null,
       "left": null,
       "margin": null,
       "max_height": null,
       "max_width": null,
       "min_height": null,
       "min_width": null,
       "object_fit": null,
       "object_position": null,
       "order": null,
       "overflow": null,
       "overflow_x": null,
       "overflow_y": null,
       "padding": null,
       "right": null,
       "top": null,
       "visibility": null,
       "width": null
      }
     },
     "1c22c2987475460f8158740dd189a93e": {
      "model_module": "@jupyter-widgets/base",
      "model_module_version": "1.2.0",
      "model_name": "LayoutModel",
      "state": {
       "_model_module": "@jupyter-widgets/base",
       "_model_module_version": "1.2.0",
       "_model_name": "LayoutModel",
       "_view_count": null,
       "_view_module": "@jupyter-widgets/base",
       "_view_module_version": "1.2.0",
       "_view_name": "LayoutView",
       "align_content": null,
       "align_items": null,
       "align_self": null,
       "border": null,
       "bottom": null,
       "display": null,
       "flex": null,
       "flex_flow": null,
       "grid_area": null,
       "grid_auto_columns": null,
       "grid_auto_flow": null,
       "grid_auto_rows": null,
       "grid_column": null,
       "grid_gap": null,
       "grid_row": null,
       "grid_template_areas": null,
       "grid_template_columns": null,
       "grid_template_rows": null,
       "height": null,
       "justify_content": null,
       "justify_items": null,
       "left": null,
       "margin": null,
       "max_height": null,
       "max_width": null,
       "min_height": null,
       "min_width": null,
       "object_fit": null,
       "object_position": null,
       "order": null,
       "overflow": null,
       "overflow_x": null,
       "overflow_y": null,
       "padding": null,
       "right": null,
       "top": null,
       "visibility": null,
       "width": null
      }
     },
     "207a1f28153247ce8a3adea32050c1e9": {
      "model_module": "@jupyter-widgets/controls",
      "model_module_version": "1.5.0",
      "model_name": "ProgressStyleModel",
      "state": {
       "_model_module": "@jupyter-widgets/controls",
       "_model_module_version": "1.5.0",
       "_model_name": "ProgressStyleModel",
       "_view_count": null,
       "_view_module": "@jupyter-widgets/base",
       "_view_module_version": "1.2.0",
       "_view_name": "StyleView",
       "bar_color": null,
       "description_width": ""
      }
     },
     "2283d3a1edb844c0b31211372a6506ee": {
      "model_module": "@jupyter-widgets/controls",
      "model_module_version": "1.5.0",
      "model_name": "DescriptionStyleModel",
      "state": {
       "_model_module": "@jupyter-widgets/controls",
       "_model_module_version": "1.5.0",
       "_model_name": "DescriptionStyleModel",
       "_view_count": null,
       "_view_module": "@jupyter-widgets/base",
       "_view_module_version": "1.2.0",
       "_view_name": "StyleView",
       "description_width": ""
      }
     },
     "2c47af03417340cd872be5618e2992cf": {
      "model_module": "@jupyter-widgets/controls",
      "model_module_version": "1.5.0",
      "model_name": "DescriptionStyleModel",
      "state": {
       "_model_module": "@jupyter-widgets/controls",
       "_model_module_version": "1.5.0",
       "_model_name": "DescriptionStyleModel",
       "_view_count": null,
       "_view_module": "@jupyter-widgets/base",
       "_view_module_version": "1.2.0",
       "_view_name": "StyleView",
       "description_width": ""
      }
     },
     "306e5d0d8280476584f58960e35cadf0": {
      "model_module": "@jupyter-widgets/controls",
      "model_module_version": "1.5.0",
      "model_name": "DescriptionStyleModel",
      "state": {
       "_model_module": "@jupyter-widgets/controls",
       "_model_module_version": "1.5.0",
       "_model_name": "DescriptionStyleModel",
       "_view_count": null,
       "_view_module": "@jupyter-widgets/base",
       "_view_module_version": "1.2.0",
       "_view_name": "StyleView",
       "description_width": ""
      }
     },
     "324547d7aabb4a7a91597fc37cb11f3c": {
      "model_module": "@jupyter-widgets/controls",
      "model_module_version": "1.5.0",
      "model_name": "DescriptionStyleModel",
      "state": {
       "_model_module": "@jupyter-widgets/controls",
       "_model_module_version": "1.5.0",
       "_model_name": "DescriptionStyleModel",
       "_view_count": null,
       "_view_module": "@jupyter-widgets/base",
       "_view_module_version": "1.2.0",
       "_view_name": "StyleView",
       "description_width": ""
      }
     },
     "330f9f2808d9499ea6838072d0399d6b": {
      "model_module": "@jupyter-widgets/controls",
      "model_module_version": "1.5.0",
      "model_name": "DescriptionStyleModel",
      "state": {
       "_model_module": "@jupyter-widgets/controls",
       "_model_module_version": "1.5.0",
       "_model_name": "DescriptionStyleModel",
       "_view_count": null,
       "_view_module": "@jupyter-widgets/base",
       "_view_module_version": "1.2.0",
       "_view_name": "StyleView",
       "description_width": ""
      }
     },
     "331cfa993914442b9c1afdf59b8ae8c5": {
      "model_module": "@jupyter-widgets/controls",
      "model_module_version": "1.5.0",
      "model_name": "HTMLModel",
      "state": {
       "_dom_classes": [],
       "_model_module": "@jupyter-widgets/controls",
       "_model_module_version": "1.5.0",
       "_model_name": "HTMLModel",
       "_view_count": null,
       "_view_module": "@jupyter-widgets/controls",
       "_view_module_version": "1.5.0",
       "_view_name": "HTMLView",
       "description": "",
       "description_tooltip": null,
       "layout": "IPY_MODEL_6277ba74916b49f7b8b4a69ad478726c",
       "placeholder": "​",
       "style": "IPY_MODEL_2c47af03417340cd872be5618e2992cf",
       "value": " 616/616 [00:00&lt;00:00, 24.4kB/s]"
      }
     },
     "370c491b9f1e40c1bf2084d7cffe45de": {
      "model_module": "@jupyter-widgets/controls",
      "model_module_version": "1.5.0",
      "model_name": "HTMLModel",
      "state": {
       "_dom_classes": [],
       "_model_module": "@jupyter-widgets/controls",
       "_model_module_version": "1.5.0",
       "_model_name": "HTMLModel",
       "_view_count": null,
       "_view_module": "@jupyter-widgets/controls",
       "_view_module_version": "1.5.0",
       "_view_name": "HTMLView",
       "description": "",
       "description_tooltip": null,
       "layout": "IPY_MODEL_0463b90a685840a49d5fa22ba906080b",
       "placeholder": "​",
       "style": "IPY_MODEL_e0ee2cc72f0e4a2ea823d8120e122228",
       "value": " 432M/432M [00:08&lt;00:00, 49.5MB/s]"
      }
     },
     "3ca160ef85144ceca4611edd47141ac7": {
      "model_module": "@jupyter-widgets/controls",
      "model_module_version": "1.5.0",
      "model_name": "HTMLModel",
      "state": {
       "_dom_classes": [],
       "_model_module": "@jupyter-widgets/controls",
       "_model_module_version": "1.5.0",
       "_model_name": "HTMLModel",
       "_view_count": null,
       "_view_module": "@jupyter-widgets/controls",
       "_view_module_version": "1.5.0",
       "_view_name": "HTMLView",
       "description": "",
       "description_tooltip": null,
       "layout": "IPY_MODEL_4b5c73d0fd974648800e4f4da7c46919",
       "placeholder": "​",
       "style": "IPY_MODEL_6e3701781ba3474c842c607736e5e54d",
       "value": " 2.24G/2.24G [00:49&lt;00:00, 47.7MB/s]"
      }
     },
     "3ff04d7594154c6b98f232ee6a3d8ee7": {
      "model_module": "@jupyter-widgets/controls",
      "model_module_version": "1.5.0",
      "model_name": "HTMLModel",
      "state": {
       "_dom_classes": [],
       "_model_module": "@jupyter-widgets/controls",
       "_model_module_version": "1.5.0",
       "_model_name": "HTMLModel",
       "_view_count": null,
       "_view_module": "@jupyter-widgets/controls",
       "_view_module_version": "1.5.0",
       "_view_name": "HTMLView",
       "description": "",
       "description_tooltip": null,
       "layout": "IPY_MODEL_a18187672382472daefd6f7100187a5e",
       "placeholder": "​",
       "style": "IPY_MODEL_6ebe6787fcb946528d2d882730e4d5da",
       "value": " 8.68M/8.68M [00:00&lt;00:00, 14.5MB/s]"
      }
     },
     "403102d91f234584be38b90afe9de7fe": {
      "model_module": "@jupyter-widgets/base",
      "model_module_version": "1.2.0",
      "model_name": "LayoutModel",
      "state": {
       "_model_module": "@jupyter-widgets/base",
       "_model_module_version": "1.2.0",
       "_model_name": "LayoutModel",
       "_view_count": null,
       "_view_module": "@jupyter-widgets/base",
       "_view_module_version": "1.2.0",
       "_view_name": "LayoutView",
       "align_content": null,
       "align_items": null,
       "align_self": null,
       "border": null,
       "bottom": null,
       "display": null,
       "flex": null,
       "flex_flow": null,
       "grid_area": null,
       "grid_auto_columns": null,
       "grid_auto_flow": null,
       "grid_auto_rows": null,
       "grid_column": null,
       "grid_gap": null,
       "grid_row": null,
       "grid_template_areas": null,
       "grid_template_columns": null,
       "grid_template_rows": null,
       "height": null,
       "justify_content": null,
       "justify_items": null,
       "left": null,
       "margin": null,
       "max_height": null,
       "max_width": null,
       "min_height": null,
       "min_width": null,
       "object_fit": null,
       "object_position": null,
       "order": null,
       "overflow": null,
       "overflow_x": null,
       "overflow_y": null,
       "padding": null,
       "right": null,
       "top": null,
       "visibility": null,
       "width": null
      }
     },
     "47ed14990f2546549d941713473b9506": {
      "model_module": "@jupyter-widgets/controls",
      "model_module_version": "1.5.0",
      "model_name": "HTMLModel",
      "state": {
       "_dom_classes": [],
       "_model_module": "@jupyter-widgets/controls",
       "_model_module_version": "1.5.0",
       "_model_name": "HTMLModel",
       "_view_count": null,
       "_view_module": "@jupyter-widgets/controls",
       "_view_module_version": "1.5.0",
       "_view_name": "HTMLView",
       "description": "",
       "description_tooltip": null,
       "layout": "IPY_MODEL_16ac4ed00a0c447081215b072166ede1",
       "placeholder": "​",
       "style": "IPY_MODEL_324547d7aabb4a7a91597fc37cb11f3c",
       "value": "Downloading: 100%"
      }
     },
     "47f292f9cf8b489393de83f9ae245528": {
      "model_module": "@jupyter-widgets/controls",
      "model_module_version": "1.5.0",
      "model_name": "HBoxModel",
      "state": {
       "_dom_classes": [],
       "_model_module": "@jupyter-widgets/controls",
       "_model_module_version": "1.5.0",
       "_model_name": "HBoxModel",
       "_view_count": null,
       "_view_module": "@jupyter-widgets/controls",
       "_view_module_version": "1.5.0",
       "_view_name": "HBoxView",
       "box_style": "",
       "children": [
        "IPY_MODEL_6a949f91185c4db38876aecb5a41a1e7",
        "IPY_MODEL_92ab7ac9e4fb4463831188468b828a9f",
        "IPY_MODEL_5d26a0f979cd4725b4d5fa32d2d92d8a"
       ],
       "layout": "IPY_MODEL_0b5f13d571d240ae94e3807a0eb0e75f"
      }
     },
     "4a836002999e40f595ca63928b3ac80e": {
      "model_module": "@jupyter-widgets/base",
      "model_module_version": "1.2.0",
      "model_name": "LayoutModel",
      "state": {
       "_model_module": "@jupyter-widgets/base",
       "_model_module_version": "1.2.0",
       "_model_name": "LayoutModel",
       "_view_count": null,
       "_view_module": "@jupyter-widgets/base",
       "_view_module_version": "1.2.0",
       "_view_name": "LayoutView",
       "align_content": null,
       "align_items": null,
       "align_self": null,
       "border": null,
       "bottom": null,
       "display": null,
       "flex": null,
       "flex_flow": null,
       "grid_area": null,
       "grid_auto_columns": null,
       "grid_auto_flow": null,
       "grid_auto_rows": null,
       "grid_column": null,
       "grid_gap": null,
       "grid_row": null,
       "grid_template_areas": null,
       "grid_template_columns": null,
       "grid_template_rows": null,
       "height": null,
       "justify_content": null,
       "justify_items": null,
       "left": null,
       "margin": null,
       "max_height": null,
       "max_width": null,
       "min_height": null,
       "min_width": null,
       "object_fit": null,
       "object_position": null,
       "order": null,
       "overflow": null,
       "overflow_x": null,
       "overflow_y": null,
       "padding": null,
       "right": null,
       "top": null,
       "visibility": null,
       "width": null
      }
     },
     "4b5c73d0fd974648800e4f4da7c46919": {
      "model_module": "@jupyter-widgets/base",
      "model_module_version": "1.2.0",
      "model_name": "LayoutModel",
      "state": {
       "_model_module": "@jupyter-widgets/base",
       "_model_module_version": "1.2.0",
       "_model_name": "LayoutModel",
       "_view_count": null,
       "_view_module": "@jupyter-widgets/base",
       "_view_module_version": "1.2.0",
       "_view_name": "LayoutView",
       "align_content": null,
       "align_items": null,
       "align_self": null,
       "border": null,
       "bottom": null,
       "display": null,
       "flex": null,
       "flex_flow": null,
       "grid_area": null,
       "grid_auto_columns": null,
       "grid_auto_flow": null,
       "grid_auto_rows": null,
       "grid_column": null,
       "grid_gap": null,
       "grid_row": null,
       "grid_template_areas": null,
       "grid_template_columns": null,
       "grid_template_rows": null,
       "height": null,
       "justify_content": null,
       "justify_items": null,
       "left": null,
       "margin": null,
       "max_height": null,
       "max_width": null,
       "min_height": null,
       "min_width": null,
       "object_fit": null,
       "object_position": null,
       "order": null,
       "overflow": null,
       "overflow_x": null,
       "overflow_y": null,
       "padding": null,
       "right": null,
       "top": null,
       "visibility": null,
       "width": null
      }
     },
     "5a478037942447e8a199161b84e92781": {
      "model_module": "@jupyter-widgets/controls",
      "model_module_version": "1.5.0",
      "model_name": "HTMLModel",
      "state": {
       "_dom_classes": [],
       "_model_module": "@jupyter-widgets/controls",
       "_model_module_version": "1.5.0",
       "_model_name": "HTMLModel",
       "_view_count": null,
       "_view_module": "@jupyter-widgets/controls",
       "_view_module_version": "1.5.0",
       "_view_name": "HTMLView",
       "description": "",
       "description_tooltip": null,
       "layout": "IPY_MODEL_d9cdc87961884181b695939fa93c369e",
       "placeholder": "​",
       "style": "IPY_MODEL_330f9f2808d9499ea6838072d0399d6b",
       "value": "Downloading: 100%"
      }
     },
     "5d26a0f979cd4725b4d5fa32d2d92d8a": {
      "model_module": "@jupyter-widgets/controls",
      "model_module_version": "1.5.0",
      "model_name": "HTMLModel",
      "state": {
       "_dom_classes": [],
       "_model_module": "@jupyter-widgets/controls",
       "_model_module_version": "1.5.0",
       "_model_name": "HTMLModel",
       "_view_count": null,
       "_view_module": "@jupyter-widgets/controls",
       "_view_module_version": "1.5.0",
       "_view_name": "HTMLView",
       "description": "",
       "description_tooltip": null,
       "layout": "IPY_MODEL_09b05bf9fa054248a87ef180aeb8b4f3",
       "placeholder": "​",
       "style": "IPY_MODEL_e9ef29285e9241fd9eff43f5081bd40f",
       "value": " 2.24G/2.24G [00:48&lt;00:00, 35.8MB/s]"
      }
     },
     "6277ba74916b49f7b8b4a69ad478726c": {
      "model_module": "@jupyter-widgets/base",
      "model_module_version": "1.2.0",
      "model_name": "LayoutModel",
      "state": {
       "_model_module": "@jupyter-widgets/base",
       "_model_module_version": "1.2.0",
       "_model_name": "LayoutModel",
       "_view_count": null,
       "_view_module": "@jupyter-widgets/base",
       "_view_module_version": "1.2.0",
       "_view_name": "LayoutView",
       "align_content": null,
       "align_items": null,
       "align_self": null,
       "border": null,
       "bottom": null,
       "display": null,
       "flex": null,
       "flex_flow": null,
       "grid_area": null,
       "grid_auto_columns": null,
       "grid_auto_flow": null,
       "grid_auto_rows": null,
       "grid_column": null,
       "grid_gap": null,
       "grid_row": null,
       "grid_template_areas": null,
       "grid_template_columns": null,
       "grid_template_rows": null,
       "height": null,
       "justify_content": null,
       "justify_items": null,
       "left": null,
       "margin": null,
       "max_height": null,
       "max_width": null,
       "min_height": null,
       "min_width": null,
       "object_fit": null,
       "object_position": null,
       "order": null,
       "overflow": null,
       "overflow_x": null,
       "overflow_y": null,
       "padding": null,
       "right": null,
       "top": null,
       "visibility": null,
       "width": null
      }
     },
     "63ee3430d0204ef89117f6495023c161": {
      "model_module": "@jupyter-widgets/controls",
      "model_module_version": "1.5.0",
      "model_name": "DescriptionStyleModel",
      "state": {
       "_model_module": "@jupyter-widgets/controls",
       "_model_module_version": "1.5.0",
       "_model_name": "DescriptionStyleModel",
       "_view_count": null,
       "_view_module": "@jupyter-widgets/base",
       "_view_module_version": "1.2.0",
       "_view_name": "StyleView",
       "description_width": ""
      }
     },
     "6a949f91185c4db38876aecb5a41a1e7": {
      "model_module": "@jupyter-widgets/controls",
      "model_module_version": "1.5.0",
      "model_name": "HTMLModel",
      "state": {
       "_dom_classes": [],
       "_model_module": "@jupyter-widgets/controls",
       "_model_module_version": "1.5.0",
       "_model_name": "HTMLModel",
       "_view_count": null,
       "_view_module": "@jupyter-widgets/controls",
       "_view_module_version": "1.5.0",
       "_view_name": "HTMLView",
       "description": "",
       "description_tooltip": null,
       "layout": "IPY_MODEL_c6068b41067d47d388b4d068c8ce35a5",
       "placeholder": "​",
       "style": "IPY_MODEL_306e5d0d8280476584f58960e35cadf0",
       "value": "Downloading: 100%"
      }
     },
     "6e3701781ba3474c842c607736e5e54d": {
      "model_module": "@jupyter-widgets/controls",
      "model_module_version": "1.5.0",
      "model_name": "DescriptionStyleModel",
      "state": {
       "_model_module": "@jupyter-widgets/controls",
       "_model_module_version": "1.5.0",
       "_model_name": "DescriptionStyleModel",
       "_view_count": null,
       "_view_module": "@jupyter-widgets/base",
       "_view_module_version": "1.2.0",
       "_view_name": "StyleView",
       "description_width": ""
      }
     },
     "6ebe6787fcb946528d2d882730e4d5da": {
      "model_module": "@jupyter-widgets/controls",
      "model_module_version": "1.5.0",
      "model_name": "DescriptionStyleModel",
      "state": {
       "_model_module": "@jupyter-widgets/controls",
       "_model_module_version": "1.5.0",
       "_model_name": "DescriptionStyleModel",
       "_view_count": null,
       "_view_module": "@jupyter-widgets/base",
       "_view_module_version": "1.2.0",
       "_view_name": "StyleView",
       "description_width": ""
      }
     },
     "6ee7f78fccd04a07ba7e850de42a56e9": {
      "model_module": "@jupyter-widgets/controls",
      "model_module_version": "1.5.0",
      "model_name": "HBoxModel",
      "state": {
       "_dom_classes": [],
       "_model_module": "@jupyter-widgets/controls",
       "_model_module_version": "1.5.0",
       "_model_name": "HBoxModel",
       "_view_count": null,
       "_view_module": "@jupyter-widgets/controls",
       "_view_module_version": "1.5.0",
       "_view_name": "HBoxView",
       "box_style": "",
       "children": [
        "IPY_MODEL_9c9a90909a3f410da5e27190af7e435e",
        "IPY_MODEL_76c89284238c49298e64176b0f76e487",
        "IPY_MODEL_e844b81b300b455a80bb0b43c7b43246"
       ],
       "layout": "IPY_MODEL_92242d7cf65f40e9a28261a05eaa1a85"
      }
     },
     "76c89284238c49298e64176b0f76e487": {
      "model_module": "@jupyter-widgets/controls",
      "model_module_version": "1.5.0",
      "model_name": "FloatProgressModel",
      "state": {
       "_dom_classes": [],
       "_model_module": "@jupyter-widgets/controls",
       "_model_module_version": "1.5.0",
       "_model_name": "FloatProgressModel",
       "_view_count": null,
       "_view_module": "@jupyter-widgets/controls",
       "_view_module_version": "1.5.0",
       "_view_name": "ProgressView",
       "bar_style": "success",
       "description": "",
       "description_tooltip": null,
       "layout": "IPY_MODEL_127dd7c1440d417f877a1fd7025bdab0",
       "max": 5069051.0,
       "min": 0.0,
       "orientation": "horizontal",
       "style": "IPY_MODEL_207a1f28153247ce8a3adea32050c1e9",
       "value": 5069051.0
      }
     },
     "7f82adb4841c40c9b5104bb70cc03503": {
      "model_module": "@jupyter-widgets/controls",
      "model_module_version": "1.5.0",
      "model_name": "FloatProgressModel",
      "state": {
       "_dom_classes": [],
       "_model_module": "@jupyter-widgets/controls",
       "_model_module_version": "1.5.0",
       "_model_name": "FloatProgressModel",
       "_view_count": null,
       "_view_module": "@jupyter-widgets/controls",
       "_view_module_version": "1.5.0",
       "_view_name": "ProgressView",
       "bar_style": "success",
       "description": "",
       "description_tooltip": null,
       "layout": "IPY_MODEL_0dcac09b441c4d8f9c0c62a3bf913673",
       "max": 2239866761.0,
       "min": 0.0,
       "orientation": "horizontal",
       "style": "IPY_MODEL_86c542b4d0ab4502bf5adc915051c65d",
       "value": 2239866761.0
      }
     },
     "86c542b4d0ab4502bf5adc915051c65d": {
      "model_module": "@jupyter-widgets/controls",
      "model_module_version": "1.5.0",
      "model_name": "ProgressStyleModel",
      "state": {
       "_model_module": "@jupyter-widgets/controls",
       "_model_module_version": "1.5.0",
       "_model_name": "ProgressStyleModel",
       "_view_count": null,
       "_view_module": "@jupyter-widgets/base",
       "_view_module_version": "1.2.0",
       "_view_name": "StyleView",
       "bar_color": null,
       "description_width": ""
      }
     },
     "8ce4f2770d58459a8f49df1f518491ba": {
      "model_module": "@jupyter-widgets/controls",
      "model_module_version": "1.5.0",
      "model_name": "ProgressStyleModel",
      "state": {
       "_model_module": "@jupyter-widgets/controls",
       "_model_module_version": "1.5.0",
       "_model_name": "ProgressStyleModel",
       "_view_count": null,
       "_view_module": "@jupyter-widgets/base",
       "_view_module_version": "1.2.0",
       "_view_name": "StyleView",
       "bar_color": null,
       "description_width": ""
      }
     },
     "92242d7cf65f40e9a28261a05eaa1a85": {
      "model_module": "@jupyter-widgets/base",
      "model_module_version": "1.2.0",
      "model_name": "LayoutModel",
      "state": {
       "_model_module": "@jupyter-widgets/base",
       "_model_module_version": "1.2.0",
       "_model_name": "LayoutModel",
       "_view_count": null,
       "_view_module": "@jupyter-widgets/base",
       "_view_module_version": "1.2.0",
       "_view_name": "LayoutView",
       "align_content": null,
       "align_items": null,
       "align_self": null,
       "border": null,
       "bottom": null,
       "display": null,
       "flex": null,
       "flex_flow": null,
       "grid_area": null,
       "grid_auto_columns": null,
       "grid_auto_flow": null,
       "grid_auto_rows": null,
       "grid_column": null,
       "grid_gap": null,
       "grid_row": null,
       "grid_template_areas": null,
       "grid_template_columns": null,
       "grid_template_rows": null,
       "height": null,
       "justify_content": null,
       "justify_items": null,
       "left": null,
       "margin": null,
       "max_height": null,
       "max_width": null,
       "min_height": null,
       "min_width": null,
       "object_fit": null,
       "object_position": null,
       "order": null,
       "overflow": null,
       "overflow_x": null,
       "overflow_y": null,
       "padding": null,
       "right": null,
       "top": null,
       "visibility": null,
       "width": null
      }
     },
     "925a0bc890164c599c45913ad997c8b1": {
      "model_module": "@jupyter-widgets/controls",
      "model_module_version": "1.5.0",
      "model_name": "FloatProgressModel",
      "state": {
       "_dom_classes": [],
       "_model_module": "@jupyter-widgets/controls",
       "_model_module_version": "1.5.0",
       "_model_name": "FloatProgressModel",
       "_view_count": null,
       "_view_module": "@jupyter-widgets/controls",
       "_view_module_version": "1.5.0",
       "_view_name": "ProgressView",
       "bar_style": "success",
       "description": "",
       "description_tooltip": null,
       "layout": "IPY_MODEL_ff8530a86a6b4e19bdb3d543362672ae",
       "max": 432176557.0,
       "min": 0.0,
       "orientation": "horizontal",
       "style": "IPY_MODEL_0ad2f24d61294742b58f22e46a6972a0",
       "value": 432176557.0
      }
     },
     "92ab7ac9e4fb4463831188468b828a9f": {
      "model_module": "@jupyter-widgets/controls",
      "model_module_version": "1.5.0",
      "model_name": "FloatProgressModel",
      "state": {
       "_dom_classes": [],
       "_model_module": "@jupyter-widgets/controls",
       "_model_module_version": "1.5.0",
       "_model_name": "FloatProgressModel",
       "_view_count": null,
       "_view_module": "@jupyter-widgets/controls",
       "_view_module_version": "1.5.0",
       "_view_name": "ProgressView",
       "bar_style": "success",
       "description": "",
       "description_tooltip": null,
       "layout": "IPY_MODEL_1926b7f8e0cc499fbce8f6f8e51f04a9",
       "max": 2240097289.0,
       "min": 0.0,
       "orientation": "horizontal",
       "style": "IPY_MODEL_a8e9521adc1340eaa260352816282a15",
       "value": 2240097289.0
      }
     },
     "9915f0452dff46488549620647afd43e": {
      "model_module": "@jupyter-widgets/controls",
      "model_module_version": "1.5.0",
      "model_name": "HBoxModel",
      "state": {
       "_dom_classes": [],
       "_model_module": "@jupyter-widgets/controls",
       "_model_module_version": "1.5.0",
       "_model_name": "HBoxModel",
       "_view_count": null,
       "_view_module": "@jupyter-widgets/controls",
       "_view_module_version": "1.5.0",
       "_view_name": "HBoxView",
       "box_style": "",
       "children": [
        "IPY_MODEL_47ed14990f2546549d941713473b9506",
        "IPY_MODEL_abd06b91352a4859b931bc38dee74dc9",
        "IPY_MODEL_331cfa993914442b9c1afdf59b8ae8c5"
       ],
       "layout": "IPY_MODEL_b4a3dd16e9ba4b579f9c3e9c07a3a8f2"
      }
     },
     "99c892bfa0a041aa8993671c5f56ca03": {
      "model_module": "@jupyter-widgets/base",
      "model_module_version": "1.2.0",
      "model_name": "LayoutModel",
      "state": {
       "_model_module": "@jupyter-widgets/base",
       "_model_module_version": "1.2.0",
       "_model_name": "LayoutModel",
       "_view_count": null,
       "_view_module": "@jupyter-widgets/base",
       "_view_module_version": "1.2.0",
       "_view_name": "LayoutView",
       "align_content": null,
       "align_items": null,
       "align_self": null,
       "border": null,
       "bottom": null,
       "display": null,
       "flex": null,
       "flex_flow": null,
       "grid_area": null,
       "grid_auto_columns": null,
       "grid_auto_flow": null,
       "grid_auto_rows": null,
       "grid_column": null,
       "grid_gap": null,
       "grid_row": null,
       "grid_template_areas": null,
       "grid_template_columns": null,
       "grid_template_rows": null,
       "height": null,
       "justify_content": null,
       "justify_items": null,
       "left": null,
       "margin": null,
       "max_height": null,
       "max_width": null,
       "min_height": null,
       "min_width": null,
       "object_fit": null,
       "object_position": null,
       "order": null,
       "overflow": null,
       "overflow_x": null,
       "overflow_y": null,
       "padding": null,
       "right": null,
       "top": null,
       "visibility": null,
       "width": null
      }
     },
     "9c9a90909a3f410da5e27190af7e435e": {
      "model_module": "@jupyter-widgets/controls",
      "model_module_version": "1.5.0",
      "model_name": "HTMLModel",
      "state": {
       "_dom_classes": [],
       "_model_module": "@jupyter-widgets/controls",
       "_model_module_version": "1.5.0",
       "_model_name": "HTMLModel",
       "_view_count": null,
       "_view_module": "@jupyter-widgets/controls",
       "_view_module_version": "1.5.0",
       "_view_name": "HTMLView",
       "description": "",
       "description_tooltip": null,
       "layout": "IPY_MODEL_ee3aa6c0368a40daa40b8a77bc06df20",
       "placeholder": "​",
       "style": "IPY_MODEL_cd080112589a48939c3c8fd2c9e6cfbf",
       "value": "Downloading: 100%"
      }
     },
     "9cff00faca854642812da3e425ec674d": {
      "model_module": "@jupyter-widgets/base",
      "model_module_version": "1.2.0",
      "model_name": "LayoutModel",
      "state": {
       "_model_module": "@jupyter-widgets/base",
       "_model_module_version": "1.2.0",
       "_model_name": "LayoutModel",
       "_view_count": null,
       "_view_module": "@jupyter-widgets/base",
       "_view_module_version": "1.2.0",
       "_view_name": "LayoutView",
       "align_content": null,
       "align_items": null,
       "align_self": null,
       "border": null,
       "bottom": null,
       "display": null,
       "flex": null,
       "flex_flow": null,
       "grid_area": null,
       "grid_auto_columns": null,
       "grid_auto_flow": null,
       "grid_auto_rows": null,
       "grid_column": null,
       "grid_gap": null,
       "grid_row": null,
       "grid_template_areas": null,
       "grid_template_columns": null,
       "grid_template_rows": null,
       "height": null,
       "justify_content": null,
       "justify_items": null,
       "left": null,
       "margin": null,
       "max_height": null,
       "max_width": null,
       "min_height": null,
       "min_width": null,
       "object_fit": null,
       "object_position": null,
       "order": null,
       "overflow": null,
       "overflow_x": null,
       "overflow_y": null,
       "padding": null,
       "right": null,
       "top": null,
       "visibility": null,
       "width": null
      }
     },
     "a18187672382472daefd6f7100187a5e": {
      "model_module": "@jupyter-widgets/base",
      "model_module_version": "1.2.0",
      "model_name": "LayoutModel",
      "state": {
       "_model_module": "@jupyter-widgets/base",
       "_model_module_version": "1.2.0",
       "_model_name": "LayoutModel",
       "_view_count": null,
       "_view_module": "@jupyter-widgets/base",
       "_view_module_version": "1.2.0",
       "_view_name": "LayoutView",
       "align_content": null,
       "align_items": null,
       "align_self": null,
       "border": null,
       "bottom": null,
       "display": null,
       "flex": null,
       "flex_flow": null,
       "grid_area": null,
       "grid_auto_columns": null,
       "grid_auto_flow": null,
       "grid_auto_rows": null,
       "grid_column": null,
       "grid_gap": null,
       "grid_row": null,
       "grid_template_areas": null,
       "grid_template_columns": null,
       "grid_template_rows": null,
       "height": null,
       "justify_content": null,
       "justify_items": null,
       "left": null,
       "margin": null,
       "max_height": null,
       "max_width": null,
       "min_height": null,
       "min_width": null,
       "object_fit": null,
       "object_position": null,
       "order": null,
       "overflow": null,
       "overflow_x": null,
       "overflow_y": null,
       "padding": null,
       "right": null,
       "top": null,
       "visibility": null,
       "width": null
      }
     },
     "a8e9521adc1340eaa260352816282a15": {
      "model_module": "@jupyter-widgets/controls",
      "model_module_version": "1.5.0",
      "model_name": "ProgressStyleModel",
      "state": {
       "_model_module": "@jupyter-widgets/controls",
       "_model_module_version": "1.5.0",
       "_model_name": "ProgressStyleModel",
       "_view_count": null,
       "_view_module": "@jupyter-widgets/base",
       "_view_module_version": "1.2.0",
       "_view_name": "StyleView",
       "bar_color": null,
       "description_width": ""
      }
     },
     "ab4796ed592d432cb1cde2b6fa7c57ad": {
      "model_module": "@jupyter-widgets/controls",
      "model_module_version": "1.5.0",
      "model_name": "HBoxModel",
      "state": {
       "_dom_classes": [],
       "_model_module": "@jupyter-widgets/controls",
       "_model_module_version": "1.5.0",
       "_model_name": "HBoxModel",
       "_view_count": null,
       "_view_module": "@jupyter-widgets/controls",
       "_view_module_version": "1.5.0",
       "_view_name": "HBoxView",
       "box_style": "",
       "children": [
        "IPY_MODEL_5a478037942447e8a199161b84e92781",
        "IPY_MODEL_eb81b08552bd46fdb93018e5e9a6851d",
        "IPY_MODEL_3ff04d7594154c6b98f232ee6a3d8ee7"
       ],
       "layout": "IPY_MODEL_bc6d23d5a70f49129d8a3188ea6bd9af"
      }
     },
     "abd06b91352a4859b931bc38dee74dc9": {
      "model_module": "@jupyter-widgets/controls",
      "model_module_version": "1.5.0",
      "model_name": "FloatProgressModel",
      "state": {
       "_dom_classes": [],
       "_model_module": "@jupyter-widgets/controls",
       "_model_module_version": "1.5.0",
       "_model_name": "FloatProgressModel",
       "_view_count": null,
       "_view_module": "@jupyter-widgets/controls",
       "_view_module_version": "1.5.0",
       "_view_name": "ProgressView",
       "bar_style": "success",
       "description": "",
       "description_tooltip": null,
       "layout": "IPY_MODEL_9cff00faca854642812da3e425ec674d",
       "max": 616.0,
       "min": 0.0,
       "orientation": "horizontal",
       "style": "IPY_MODEL_ec3eca141da1487b97b9ec7847d77470",
       "value": 616.0
      }
     },
     "b4a3dd16e9ba4b579f9c3e9c07a3a8f2": {
      "model_module": "@jupyter-widgets/base",
      "model_module_version": "1.2.0",
      "model_name": "LayoutModel",
      "state": {
       "_model_module": "@jupyter-widgets/base",
       "_model_module_version": "1.2.0",
       "_model_name": "LayoutModel",
       "_view_count": null,
       "_view_module": "@jupyter-widgets/base",
       "_view_module_version": "1.2.0",
       "_view_name": "LayoutView",
       "align_content": null,
       "align_items": null,
       "align_self": null,
       "border": null,
       "bottom": null,
       "display": null,
       "flex": null,
       "flex_flow": null,
       "grid_area": null,
       "grid_auto_columns": null,
       "grid_auto_flow": null,
       "grid_auto_rows": null,
       "grid_column": null,
       "grid_gap": null,
       "grid_row": null,
       "grid_template_areas": null,
       "grid_template_columns": null,
       "grid_template_rows": null,
       "height": null,
       "justify_content": null,
       "justify_items": null,
       "left": null,
       "margin": null,
       "max_height": null,
       "max_width": null,
       "min_height": null,
       "min_width": null,
       "object_fit": null,
       "object_position": null,
       "order": null,
       "overflow": null,
       "overflow_x": null,
       "overflow_y": null,
       "padding": null,
       "right": null,
       "top": null,
       "visibility": null,
       "width": null
      }
     },
     "bc6d23d5a70f49129d8a3188ea6bd9af": {
      "model_module": "@jupyter-widgets/base",
      "model_module_version": "1.2.0",
      "model_name": "LayoutModel",
      "state": {
       "_model_module": "@jupyter-widgets/base",
       "_model_module_version": "1.2.0",
       "_model_name": "LayoutModel",
       "_view_count": null,
       "_view_module": "@jupyter-widgets/base",
       "_view_module_version": "1.2.0",
       "_view_name": "LayoutView",
       "align_content": null,
       "align_items": null,
       "align_self": null,
       "border": null,
       "bottom": null,
       "display": null,
       "flex": null,
       "flex_flow": null,
       "grid_area": null,
       "grid_auto_columns": null,
       "grid_auto_flow": null,
       "grid_auto_rows": null,
       "grid_column": null,
       "grid_gap": null,
       "grid_row": null,
       "grid_template_areas": null,
       "grid_template_columns": null,
       "grid_template_rows": null,
       "height": null,
       "justify_content": null,
       "justify_items": null,
       "left": null,
       "margin": null,
       "max_height": null,
       "max_width": null,
       "min_height": null,
       "min_width": null,
       "object_fit": null,
       "object_position": null,
       "order": null,
       "overflow": null,
       "overflow_x": null,
       "overflow_y": null,
       "padding": null,
       "right": null,
       "top": null,
       "visibility": null,
       "width": null
      }
     },
     "c07072ca47104afe8901043caba918b7": {
      "model_module": "@jupyter-widgets/controls",
      "model_module_version": "1.5.0",
      "model_name": "HTMLModel",
      "state": {
       "_dom_classes": [],
       "_model_module": "@jupyter-widgets/controls",
       "_model_module_version": "1.5.0",
       "_model_name": "HTMLModel",
       "_view_count": null,
       "_view_module": "@jupyter-widgets/controls",
       "_view_module_version": "1.5.0",
       "_view_name": "HTMLView",
       "description": "",
       "description_tooltip": null,
       "layout": "IPY_MODEL_4a836002999e40f595ca63928b3ac80e",
       "placeholder": "​",
       "style": "IPY_MODEL_f78a5210a7e946b497685c93c0b3482d",
       "value": "Downloading: 100%"
      }
     },
     "c6068b41067d47d388b4d068c8ce35a5": {
      "model_module": "@jupyter-widgets/base",
      "model_module_version": "1.2.0",
      "model_name": "LayoutModel",
      "state": {
       "_model_module": "@jupyter-widgets/base",
       "_model_module_version": "1.2.0",
       "_model_name": "LayoutModel",
       "_view_count": null,
       "_view_module": "@jupyter-widgets/base",
       "_view_module_version": "1.2.0",
       "_view_name": "LayoutView",
       "align_content": null,
       "align_items": null,
       "align_self": null,
       "border": null,
       "bottom": null,
       "display": null,
       "flex": null,
       "flex_flow": null,
       "grid_area": null,
       "grid_auto_columns": null,
       "grid_auto_flow": null,
       "grid_auto_rows": null,
       "grid_column": null,
       "grid_gap": null,
       "grid_row": null,
       "grid_template_areas": null,
       "grid_template_columns": null,
       "grid_template_rows": null,
       "height": null,
       "justify_content": null,
       "justify_items": null,
       "left": null,
       "margin": null,
       "max_height": null,
       "max_width": null,
       "min_height": null,
       "min_width": null,
       "object_fit": null,
       "object_position": null,
       "order": null,
       "overflow": null,
       "overflow_x": null,
       "overflow_y": null,
       "padding": null,
       "right": null,
       "top": null,
       "visibility": null,
       "width": null
      }
     },
     "ca17cac72c9c490b83d3dd6ed1e637d5": {
      "model_module": "@jupyter-widgets/controls",
      "model_module_version": "1.5.0",
      "model_name": "HTMLModel",
      "state": {
       "_dom_classes": [],
       "_model_module": "@jupyter-widgets/controls",
       "_model_module_version": "1.5.0",
       "_model_name": "HTMLModel",
       "_view_count": null,
       "_view_module": "@jupyter-widgets/controls",
       "_view_module_version": "1.5.0",
       "_view_name": "HTMLView",
       "description": "",
       "description_tooltip": null,
       "layout": "IPY_MODEL_99c892bfa0a041aa8993671c5f56ca03",
       "placeholder": "​",
       "style": "IPY_MODEL_2283d3a1edb844c0b31211372a6506ee",
       "value": "Downloading: 100%"
      }
     },
     "cd080112589a48939c3c8fd2c9e6cfbf": {
      "model_module": "@jupyter-widgets/controls",
      "model_module_version": "1.5.0",
      "model_name": "DescriptionStyleModel",
      "state": {
       "_model_module": "@jupyter-widgets/controls",
       "_model_module_version": "1.5.0",
       "_model_name": "DescriptionStyleModel",
       "_view_count": null,
       "_view_module": "@jupyter-widgets/base",
       "_view_module_version": "1.2.0",
       "_view_name": "StyleView",
       "description_width": ""
      }
     },
     "d9cdc87961884181b695939fa93c369e": {
      "model_module": "@jupyter-widgets/base",
      "model_module_version": "1.2.0",
      "model_name": "LayoutModel",
      "state": {
       "_model_module": "@jupyter-widgets/base",
       "_model_module_version": "1.2.0",
       "_model_name": "LayoutModel",
       "_view_count": null,
       "_view_module": "@jupyter-widgets/base",
       "_view_module_version": "1.2.0",
       "_view_name": "LayoutView",
       "align_content": null,
       "align_items": null,
       "align_self": null,
       "border": null,
       "bottom": null,
       "display": null,
       "flex": null,
       "flex_flow": null,
       "grid_area": null,
       "grid_auto_columns": null,
       "grid_auto_flow": null,
       "grid_auto_rows": null,
       "grid_column": null,
       "grid_gap": null,
       "grid_row": null,
       "grid_template_areas": null,
       "grid_template_columns": null,
       "grid_template_rows": null,
       "height": null,
       "justify_content": null,
       "justify_items": null,
       "left": null,
       "margin": null,
       "max_height": null,
       "max_width": null,
       "min_height": null,
       "min_width": null,
       "object_fit": null,
       "object_position": null,
       "order": null,
       "overflow": null,
       "overflow_x": null,
       "overflow_y": null,
       "padding": null,
       "right": null,
       "top": null,
       "visibility": null,
       "width": null
      }
     },
     "e0ee2cc72f0e4a2ea823d8120e122228": {
      "model_module": "@jupyter-widgets/controls",
      "model_module_version": "1.5.0",
      "model_name": "DescriptionStyleModel",
      "state": {
       "_model_module": "@jupyter-widgets/controls",
       "_model_module_version": "1.5.0",
       "_model_name": "DescriptionStyleModel",
       "_view_count": null,
       "_view_module": "@jupyter-widgets/base",
       "_view_module_version": "1.2.0",
       "_view_name": "StyleView",
       "description_width": ""
      }
     },
     "e19708c77a06449d9592790a672e1ea5": {
      "model_module": "@jupyter-widgets/base",
      "model_module_version": "1.2.0",
      "model_name": "LayoutModel",
      "state": {
       "_model_module": "@jupyter-widgets/base",
       "_model_module_version": "1.2.0",
       "_model_name": "LayoutModel",
       "_view_count": null,
       "_view_module": "@jupyter-widgets/base",
       "_view_module_version": "1.2.0",
       "_view_name": "LayoutView",
       "align_content": null,
       "align_items": null,
       "align_self": null,
       "border": null,
       "bottom": null,
       "display": null,
       "flex": null,
       "flex_flow": null,
       "grid_area": null,
       "grid_auto_columns": null,
       "grid_auto_flow": null,
       "grid_auto_rows": null,
       "grid_column": null,
       "grid_gap": null,
       "grid_row": null,
       "grid_template_areas": null,
       "grid_template_columns": null,
       "grid_template_rows": null,
       "height": null,
       "justify_content": null,
       "justify_items": null,
       "left": null,
       "margin": null,
       "max_height": null,
       "max_width": null,
       "min_height": null,
       "min_width": null,
       "object_fit": null,
       "object_position": null,
       "order": null,
       "overflow": null,
       "overflow_x": null,
       "overflow_y": null,
       "padding": null,
       "right": null,
       "top": null,
       "visibility": null,
       "width": null
      }
     },
     "e3fe5a04d8c745548f991c0f37bf82f2": {
      "model_module": "@jupyter-widgets/controls",
      "model_module_version": "1.5.0",
      "model_name": "HBoxModel",
      "state": {
       "_dom_classes": [],
       "_model_module": "@jupyter-widgets/controls",
       "_model_module_version": "1.5.0",
       "_model_name": "HBoxModel",
       "_view_count": null,
       "_view_module": "@jupyter-widgets/controls",
       "_view_module_version": "1.5.0",
       "_view_name": "HBoxView",
       "box_style": "",
       "children": [
        "IPY_MODEL_c07072ca47104afe8901043caba918b7",
        "IPY_MODEL_7f82adb4841c40c9b5104bb70cc03503",
        "IPY_MODEL_3ca160ef85144ceca4611edd47141ac7"
       ],
       "layout": "IPY_MODEL_082bd45fd4f341269e56b06b8f00202a"
      }
     },
     "e844b81b300b455a80bb0b43c7b43246": {
      "model_module": "@jupyter-widgets/controls",
      "model_module_version": "1.5.0",
      "model_name": "HTMLModel",
      "state": {
       "_dom_classes": [],
       "_model_module": "@jupyter-widgets/controls",
       "_model_module_version": "1.5.0",
       "_model_name": "HTMLModel",
       "_view_count": null,
       "_view_module": "@jupyter-widgets/controls",
       "_view_module_version": "1.5.0",
       "_view_name": "HTMLView",
       "description": "",
       "description_tooltip": null,
       "layout": "IPY_MODEL_e19708c77a06449d9592790a672e1ea5",
       "placeholder": "​",
       "style": "IPY_MODEL_63ee3430d0204ef89117f6495023c161",
       "value": " 4.83M/4.83M [00:00&lt;00:00, 8.75MB/s]"
      }
     },
     "e9ef29285e9241fd9eff43f5081bd40f": {
      "model_module": "@jupyter-widgets/controls",
      "model_module_version": "1.5.0",
      "model_name": "DescriptionStyleModel",
      "state": {
       "_model_module": "@jupyter-widgets/controls",
       "_model_module_version": "1.5.0",
       "_model_name": "DescriptionStyleModel",
       "_view_count": null,
       "_view_module": "@jupyter-widgets/base",
       "_view_module_version": "1.2.0",
       "_view_name": "StyleView",
       "description_width": ""
      }
     },
     "eb81b08552bd46fdb93018e5e9a6851d": {
      "model_module": "@jupyter-widgets/controls",
      "model_module_version": "1.5.0",
      "model_name": "FloatProgressModel",
      "state": {
       "_dom_classes": [],
       "_model_module": "@jupyter-widgets/controls",
       "_model_module_version": "1.5.0",
       "_model_name": "FloatProgressModel",
       "_view_count": null,
       "_view_module": "@jupyter-widgets/controls",
       "_view_module_version": "1.5.0",
       "_view_name": "ProgressView",
       "bar_style": "success",
       "description": "",
       "description_tooltip": null,
       "layout": "IPY_MODEL_403102d91f234584be38b90afe9de7fe",
       "max": 9096718.0,
       "min": 0.0,
       "orientation": "horizontal",
       "style": "IPY_MODEL_8ce4f2770d58459a8f49df1f518491ba",
       "value": 9096718.0
      }
     },
     "ec3eca141da1487b97b9ec7847d77470": {
      "model_module": "@jupyter-widgets/controls",
      "model_module_version": "1.5.0",
      "model_name": "ProgressStyleModel",
      "state": {
       "_model_module": "@jupyter-widgets/controls",
       "_model_module_version": "1.5.0",
       "_model_name": "ProgressStyleModel",
       "_view_count": null,
       "_view_module": "@jupyter-widgets/base",
       "_view_module_version": "1.2.0",
       "_view_name": "StyleView",
       "bar_color": null,
       "description_width": ""
      }
     },
     "ee3aa6c0368a40daa40b8a77bc06df20": {
      "model_module": "@jupyter-widgets/base",
      "model_module_version": "1.2.0",
      "model_name": "LayoutModel",
      "state": {
       "_model_module": "@jupyter-widgets/base",
       "_model_module_version": "1.2.0",
       "_model_name": "LayoutModel",
       "_view_count": null,
       "_view_module": "@jupyter-widgets/base",
       "_view_module_version": "1.2.0",
       "_view_name": "LayoutView",
       "align_content": null,
       "align_items": null,
       "align_self": null,
       "border": null,
       "bottom": null,
       "display": null,
       "flex": null,
       "flex_flow": null,
       "grid_area": null,
       "grid_auto_columns": null,
       "grid_auto_flow": null,
       "grid_auto_rows": null,
       "grid_column": null,
       "grid_gap": null,
       "grid_row": null,
       "grid_template_areas": null,
       "grid_template_columns": null,
       "grid_template_rows": null,
       "height": null,
       "justify_content": null,
       "justify_items": null,
       "left": null,
       "margin": null,
       "max_height": null,
       "max_width": null,
       "min_height": null,
       "min_width": null,
       "object_fit": null,
       "object_position": null,
       "order": null,
       "overflow": null,
       "overflow_x": null,
       "overflow_y": null,
       "padding": null,
       "right": null,
       "top": null,
       "visibility": null,
       "width": null
      }
     },
     "f78a5210a7e946b497685c93c0b3482d": {
      "model_module": "@jupyter-widgets/controls",
      "model_module_version": "1.5.0",
      "model_name": "DescriptionStyleModel",
      "state": {
       "_model_module": "@jupyter-widgets/controls",
       "_model_module_version": "1.5.0",
       "_model_name": "DescriptionStyleModel",
       "_view_count": null,
       "_view_module": "@jupyter-widgets/base",
       "_view_module_version": "1.2.0",
       "_view_name": "StyleView",
       "description_width": ""
      }
     },
     "ff8530a86a6b4e19bdb3d543362672ae": {
      "model_module": "@jupyter-widgets/base",
      "model_module_version": "1.2.0",
      "model_name": "LayoutModel",
      "state": {
       "_model_module": "@jupyter-widgets/base",
       "_model_module_version": "1.2.0",
       "_model_name": "LayoutModel",
       "_view_count": null,
       "_view_module": "@jupyter-widgets/base",
       "_view_module_version": "1.2.0",
       "_view_name": "LayoutView",
       "align_content": null,
       "align_items": null,
       "align_self": null,
       "border": null,
       "bottom": null,
       "display": null,
       "flex": null,
       "flex_flow": null,
       "grid_area": null,
       "grid_auto_columns": null,
       "grid_auto_flow": null,
       "grid_auto_rows": null,
       "grid_column": null,
       "grid_gap": null,
       "grid_row": null,
       "grid_template_areas": null,
       "grid_template_columns": null,
       "grid_template_rows": null,
       "height": null,
       "justify_content": null,
       "justify_items": null,
       "left": null,
       "margin": null,
       "max_height": null,
       "max_width": null,
       "min_height": null,
       "min_width": null,
       "object_fit": null,
       "object_position": null,
       "order": null,
       "overflow": null,
       "overflow_x": null,
       "overflow_y": null,
       "padding": null,
       "right": null,
       "top": null,
       "visibility": null,
       "width": null
      }
     }
    },
    "version_major": 2,
    "version_minor": 0
   }
  }
 },
 "nbformat": 4,
 "nbformat_minor": 5
}
