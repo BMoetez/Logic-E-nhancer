{
 "cells": [
  {
   "cell_type": "code",
   "execution_count": 1,
   "id": "f8852814",
   "metadata": {
    "_cell_guid": "b1076dfc-b9ad-4769-8c92-a6c4dae69d19",
    "_uuid": "8f2839f25d086af736a60e9eeb907d3b93b6e0e5",
    "execution": {
     "iopub.execute_input": "2022-06-11T01:53:28.764336Z",
     "iopub.status.busy": "2022-06-11T01:53:28.763826Z",
     "iopub.status.idle": "2022-06-11T01:53:35.716218Z",
     "shell.execute_reply": "2022-06-11T01:53:35.715395Z"
    },
    "papermill": {
     "duration": 6.970498,
     "end_time": "2022-06-11T01:53:35.718431",
     "exception": false,
     "start_time": "2022-06-11T01:53:28.747933",
     "status": "completed"
    },
    "tags": []
   },
   "outputs": [],
   "source": [
    "import numpy as np\n",
    "import pandas as pd \n",
    "import seaborn as sns\n",
    "import matplotlib.pyplot as plt \n",
    "import matplotlib.style as stl \n",
    "from tensorflow import keras \n",
    "from keras.preprocessing.text import Tokenizer\n",
    "from nltk.corpus import stopwords\n",
    "import string\n",
    "from tensorflow.keras.models import Sequential,Model\n",
    "from tensorflow.keras.layers import Dense, LSTM, Embedding,Dropout,SpatialDropout1D,Conv1D,MaxPooling1D,GRU,BatchNormalization\n",
    "import warnings\n",
    "warnings.filterwarnings('ignore')\n",
    "stl.use('ggplot')\n",
    "from tqdm import tqdm\n",
    "import string\n",
    "from nltk.corpus import stopwords\n",
    "from nltk.tokenize import word_tokenize\n",
    "from nltk.stem import WordNetLemmatizer\n",
    "from nltk.stem.snowball import SnowballStemmer\n",
    "import regex as re"
   ]
  },
  {
   "cell_type": "code",
   "execution_count": 2,
   "id": "ddc5bd3d",
   "metadata": {
    "execution": {
     "iopub.execute_input": "2022-06-11T01:53:35.745922Z",
     "iopub.status.busy": "2022-06-11T01:53:35.745429Z",
     "iopub.status.idle": "2022-06-11T01:53:35.827767Z",
     "shell.execute_reply": "2022-06-11T01:53:35.826985Z"
    },
    "papermill": {
     "duration": 0.098191,
     "end_time": "2022-06-11T01:53:35.829715",
     "exception": false,
     "start_time": "2022-06-11T01:53:35.731524",
     "status": "completed"
    },
    "tags": []
   },
   "outputs": [],
   "source": [
    "newdata=pd.read_csv(\"../input/oathss/oaths.csv\")"
   ]
  },
  {
   "cell_type": "code",
   "execution_count": 3,
   "id": "df81e0c8",
   "metadata": {
    "execution": {
     "iopub.execute_input": "2022-06-11T01:53:35.856550Z",
     "iopub.status.busy": "2022-06-11T01:53:35.855771Z",
     "iopub.status.idle": "2022-06-11T01:53:35.867559Z",
     "shell.execute_reply": "2022-06-11T01:53:35.866756Z"
    },
    "papermill": {
     "duration": 0.027303,
     "end_time": "2022-06-11T01:53:35.869587",
     "exception": false,
     "start_time": "2022-06-11T01:53:35.842284",
     "status": "completed"
    },
    "tags": []
   },
   "outputs": [
    {
     "data": {
      "text/plain": [
       "'[M177 ENCL]\\r\\n[[pre-printed]] I, [[handwritten]] I C Meekins [[/handwritten]], of [[handwritten]] Currituck [[/handwritten]] County, State of North Carolina, do solemnly swear or affirm, in presence of Almighty God, that I will henceforth faithfully support, protect and defend the Constitution of the United States and the Union of the States thereunder; and that I will, in like manner, abide by and faithfully support all laws and proclamations which have been made during the existing rebellion with reference to the emancipation of slaves.  So help me God. \\r\\n\\r\\n[[handwritten]] Isaac C. Meekins [[/handwritten]]\\r\\n\\r\\nSworn and subscribed to this the [[handwritten]] 16 [[/handwritten]] day of [[handwritten]] Sept [[/handwritten]] A.D., 1865, before \\r\\n[[handwritten]] E H Walker [[/handwritten]], J.P.\\r\\nIt is hereby certified that the above is a true copy of the original oath taken and subscribed by [[handwritten]] I C Meekins\\r\\nE H Walker, J.P.\\r\\nJohn B Etheridge, J.P.\\r\\n[[\\\\handwritten]] [[/pre-printed]]'"
      ]
     },
     "execution_count": 3,
     "metadata": {},
     "output_type": "execute_result"
    }
   ],
   "source": [
    "newdata[\"transcription_text\"][0]"
   ]
  },
  {
   "cell_type": "code",
   "execution_count": 4,
   "id": "de1232f5",
   "metadata": {
    "execution": {
     "iopub.execute_input": "2022-06-11T01:53:35.897737Z",
     "iopub.status.busy": "2022-06-11T01:53:35.897116Z",
     "iopub.status.idle": "2022-06-11T01:53:35.902010Z",
     "shell.execute_reply": "2022-06-11T01:53:35.901333Z"
    },
    "papermill": {
     "duration": 0.02115,
     "end_time": "2022-06-11T01:53:35.903930",
     "exception": false,
     "start_time": "2022-06-11T01:53:35.882780",
     "status": "completed"
    },
    "tags": []
   },
   "outputs": [
    {
     "data": {
      "text/plain": [
       "' I, T A Dough, of Currituck County, State of North-Carolina, do solemnly swear or affirm, in presence of Almighty God, that I will henceforth faithfully support, protect and defend the Constitution of the United States and the Union of the States thereunder; and that I will, in like manner, abide by and faithfully support all laws and proclamations which have been made during the existing rebellion with reference to the emancipation of slaves. So help me God. \\r\\nThos A Dough\\r\\n\\r\\nSworn and subscribed to this the 16 day of Sept, \\r\\nA.D., 1865, before \\r\\nJohn B Etheridge, J. P.\\r\\n\\r\\nIt is hereby certified that the above is a true copy of the original oath taken and subscribed by T A Dough\\r\\nJohn B Etheridge, J. P.\\r\\nE H Walker, J. P.\\r\\n[[blank line]], J. P.\\r\\n'"
      ]
     },
     "execution_count": 4,
     "metadata": {},
     "output_type": "execute_result"
    }
   ],
   "source": [
    "newdata[\"transcription_text\"][9]"
   ]
  },
  {
   "cell_type": "code",
   "execution_count": 5,
   "id": "3e9d482a",
   "metadata": {
    "execution": {
     "iopub.execute_input": "2022-06-11T01:53:35.930356Z",
     "iopub.status.busy": "2022-06-11T01:53:35.929631Z",
     "iopub.status.idle": "2022-06-11T01:53:35.935304Z",
     "shell.execute_reply": "2022-06-11T01:53:35.934561Z"
    },
    "papermill": {
     "duration": 0.020478,
     "end_time": "2022-06-11T01:53:35.936995",
     "exception": false,
     "start_time": "2022-06-11T01:53:35.916517",
     "status": "completed"
    },
    "tags": []
   },
   "outputs": [
    {
     "data": {
      "text/plain": [
       "'[[preprinted]]\\r\\nState of North Carolina, }\\r\\n^[[Randolph]] County. }\\r\\n\\r\\nI, ^[[W R Frazier]], do solemnly swear that I have never voluntarily borne arms against the United States since I have been a citizen thereof; that I have voluntarily given no aid, countenance, counsel, or encouragement to persons engaged in armed hostility thereto; that I have neither sought nor accepted, nor attempted to exercise the functions of any office whatever under any authority, or pretended authority, in hostility to the United States; that I have not yielded a voluntary support to any pretended government, authority, power or constitution within the United States, hostile or inimical thereto. And I do further swear, that, to the best of my knowledge and ability, I will support and defend the Constitution of the United States against all enemies, foreign and domestic; that I will bear true faith and allegiance to the same; that I take this obligation freely, without any mental reservation or purpose of evasion; and that I will well and faithfully discharge the duties of the office on which I am about to enter, so help me God.\\r\\n\\r\\n[[signature]] W R Frazer[[/signature]]\\r\\nSworn and subscribed before me, this ^[[6th]] day of ^[[Septr]], 1866.\\r\\n[[/preprinted]]\\r\\n[[signature]] W M Wilson [[/signature]] JP \\r\\n'"
      ]
     },
     "execution_count": 5,
     "metadata": {},
     "output_type": "execute_result"
    }
   ],
   "source": [
    "newdata[\"transcription_text\"][100]"
   ]
  },
  {
   "cell_type": "code",
   "execution_count": 6,
   "id": "96fb83c0",
   "metadata": {
    "execution": {
     "iopub.execute_input": "2022-06-11T01:53:35.963707Z",
     "iopub.status.busy": "2022-06-11T01:53:35.963019Z",
     "iopub.status.idle": "2022-06-11T01:53:35.968056Z",
     "shell.execute_reply": "2022-06-11T01:53:35.967397Z"
    },
    "papermill": {
     "duration": 0.020387,
     "end_time": "2022-06-11T01:53:35.969913",
     "exception": false,
     "start_time": "2022-06-11T01:53:35.949526",
     "status": "completed"
    },
    "tags": []
   },
   "outputs": [
    {
     "data": {
      "text/plain": [
       "'I J A Sanders solemnly Swear that I have carefully read the Amnesty Proclamation issued by ANDREW JOHNSON, President of the United States of America, on May 29th, 1865, and that I am not excepted from the benefits of that Proclamation by any one of the fourteen exceptions therein made, [[strikethrough]] except [[/strikethrough]]\\r\\nLaura Sanders\\r\\n\\r\\nSworn to and subscribed before me at Charleston SC this 7th day of Oct 1865.\\r\\nJ Milton Thompson\\r\\nCapt 33 U.S.C.T. & Pro. Marshal\\r\\n\\r\\n[[left margin]] Copy  J Milton Thompson capt 33 USCT & Pro Marshal City of Charleston [[/left margin]]\\r\\n\\r\\nNo. 1619\\r\\nUnited States of America.\\r\\n\\r\\nI J A L. Sanders of the County of Charleston State of South Ca do solemnly Swear in the presence of Almighty God, that I will henceforth faithfully support and defend the Constitution of the United States, and the Union of the States thereunder, and that I will, in like manner, abide by and faithfully support all laws and proclamations which have been made during the existing rebellion with reference to the Emancipation of Slaves-SO HELP ME GOD.\\r\\nJ. A: Sanders\\r\\n\\r\\nSworn to and subscribed before me at Charleston SC this 7th day of Oct 1865.\\r\\nJ Milton Thompson\\r\\nCapt 33 U.S.C.T. & PM\\r\\n\\r\\nThe above has Dr complexion, Gry hair, and light eyes; is 5 feet 9 inches high, and 55 years; by profession a Merchant\\r\\n\\r\\n(The original oaths will be transmitted, by the officer administering them, to the Department of State, through intermediate channels, and a certified copy thereof will be furnished to the applicant for pardon, to accompany his petition.)'"
      ]
     },
     "execution_count": 6,
     "metadata": {},
     "output_type": "execute_result"
    }
   ],
   "source": [
    "newdata[\"transcription_text\"][1500]"
   ]
  },
  {
   "cell_type": "code",
   "execution_count": 7,
   "id": "3a56b96e",
   "metadata": {
    "execution": {
     "iopub.execute_input": "2022-06-11T01:53:36.001662Z",
     "iopub.status.busy": "2022-06-11T01:53:36.000818Z",
     "iopub.status.idle": "2022-06-11T01:53:36.006900Z",
     "shell.execute_reply": "2022-06-11T01:53:36.005908Z"
    },
    "papermill": {
     "duration": 0.024578,
     "end_time": "2022-06-11T01:53:36.009193",
     "exception": false,
     "start_time": "2022-06-11T01:53:35.984615",
     "status": "completed"
    },
    "tags": []
   },
   "outputs": [
    {
     "data": {
      "text/plain": [
       "'United States OF AMERICA.\\r\\n[[image]] stamped eagle [[/image]]\\r\\nTEST OATH. \\r\\n\\r\\n\\r\\nI, J. B. Healy - do solemnly swear that I have never voluntarily borne arms against the United States since I have been a citizen thereof; that I have voluntarily given no aid, countenance, counsel, or encouragement to persons engaged in armed hostility thereto; that I have neither sought, nor accepted, nor attempted to exercise the functions of any office whatever, under any authority, or pretended authority, in hostility to the United States; that I have not yielded a voluntary support to any pretended government, authority, power, or constitution within the United States, hostile or inimical thereto.\\r\\nAnd I do further swear, or affirm, that, to the best of my knowledge and ability, I will support and defend the Constitution of the United States against all enemies, foreign and domestic; that I will bear true faith and allegiance to the same; that I take this obligation freely, without any mental reservation or purpose of evasion; and that I will well and faithfully discharge the duties of the office on which I am about to enter : So help me God.\\r\\nJ.B.Healy\\r\\n\\r\\nSWORN TO AND SUBSCRIBED before me, at Columbus Ga\\r\\nthis 24th day of July 1867\\r\\nWm Mills\\r\\nCapt 15th U.S. Inft\\r\\nComdg Post of Columbus.\\r\\n\\r\\n(Required by Act of Congress as a preliminary to holding office under the United States.)'"
      ]
     },
     "execution_count": 7,
     "metadata": {},
     "output_type": "execute_result"
    }
   ],
   "source": [
    "newdata[\"transcription_text\"][1980]"
   ]
  },
  {
   "cell_type": "code",
   "execution_count": 8,
   "id": "f1c633b9",
   "metadata": {
    "execution": {
     "iopub.execute_input": "2022-06-11T01:53:36.040866Z",
     "iopub.status.busy": "2022-06-11T01:53:36.040030Z",
     "iopub.status.idle": "2022-06-11T01:53:36.046356Z",
     "shell.execute_reply": "2022-06-11T01:53:36.045523Z"
    },
    "papermill": {
     "duration": 0.023974,
     "end_time": "2022-06-11T01:53:36.048223",
     "exception": false,
     "start_time": "2022-06-11T01:53:36.024249",
     "status": "completed"
    },
    "tags": []
   },
   "outputs": [
    {
     "data": {
      "text/plain": [
       "'Oath\\r\\nArington Dilworth\\r\\nGuilford Co No Ca\\r\\n\\r\\nAug 14, 66'"
      ]
     },
     "execution_count": 8,
     "metadata": {},
     "output_type": "execute_result"
    }
   ],
   "source": [
    "newdata[\"transcription_text\"][2100]"
   ]
  },
  {
   "cell_type": "markdown",
   "id": "08527a72",
   "metadata": {
    "papermill": {
     "duration": 0.01461,
     "end_time": "2022-06-11T01:53:36.077707",
     "exception": false,
     "start_time": "2022-06-11T01:53:36.063097",
     "status": "completed"
    },
    "tags": []
   },
   "source": [
    "# Preprocessing"
   ]
  },
  {
   "cell_type": "code",
   "execution_count": 9,
   "id": "e05852bf",
   "metadata": {
    "execution": {
     "iopub.execute_input": "2022-06-11T01:53:36.108914Z",
     "iopub.status.busy": "2022-06-11T01:53:36.108440Z",
     "iopub.status.idle": "2022-06-11T01:53:36.112468Z",
     "shell.execute_reply": "2022-06-11T01:53:36.111641Z"
    },
    "papermill": {
     "duration": 0.021631,
     "end_time": "2022-06-11T01:53:36.114323",
     "exception": false,
     "start_time": "2022-06-11T01:53:36.092692",
     "status": "completed"
    },
    "tags": []
   },
   "outputs": [],
   "source": [
    "all_text=newdata[\"transcription_text\"]"
   ]
  },
  {
   "cell_type": "code",
   "execution_count": 10,
   "id": "0e022fdb",
   "metadata": {
    "execution": {
     "iopub.execute_input": "2022-06-11T01:53:36.145080Z",
     "iopub.status.busy": "2022-06-11T01:53:36.144410Z",
     "iopub.status.idle": "2022-06-11T01:53:36.154280Z",
     "shell.execute_reply": "2022-06-11T01:53:36.153629Z"
    },
    "papermill": {
     "duration": 0.026674,
     "end_time": "2022-06-11T01:53:36.155918",
     "exception": false,
     "start_time": "2022-06-11T01:53:36.129244",
     "status": "completed"
    },
    "tags": []
   },
   "outputs": [],
   "source": [
    "stop_words = set(stopwords.words('english'))\n",
    "punctuation = string.punctuation\n",
    "stemmer = SnowballStemmer(language=\"english\")\n",
    "lemmatizer = WordNetLemmatizer()"
   ]
  },
  {
   "cell_type": "code",
   "execution_count": 11,
   "id": "86e9a2f4",
   "metadata": {
    "execution": {
     "iopub.execute_input": "2022-06-11T01:53:36.184331Z",
     "iopub.status.busy": "2022-06-11T01:53:36.183710Z",
     "iopub.status.idle": "2022-06-11T01:53:36.189122Z",
     "shell.execute_reply": "2022-06-11T01:53:36.188427Z"
    },
    "papermill": {
     "duration": 0.021152,
     "end_time": "2022-06-11T01:53:36.190841",
     "exception": false,
     "start_time": "2022-06-11T01:53:36.169689",
     "status": "completed"
    },
    "tags": []
   },
   "outputs": [
    {
     "data": {
      "text/plain": [
       "'!\"#$%&\\'()*+,-./:;<=>?@[\\\\]^_`{|}~'"
      ]
     },
     "execution_count": 11,
     "metadata": {},
     "output_type": "execute_result"
    }
   ],
   "source": [
    "stop_words.remove(\"of\")\n",
    "punctuation"
   ]
  },
  {
   "cell_type": "markdown",
   "id": "6b72b1f5",
   "metadata": {
    "papermill": {
     "duration": 0.013415,
     "end_time": "2022-06-11T01:53:36.217299",
     "exception": false,
     "start_time": "2022-06-11T01:53:36.203884",
     "status": "completed"
    },
    "tags": []
   },
   "source": [
    "# delete just stop words and ('!\"#$%&\\'()*+-/<=>?@[\\\\]^`{|}~')"
   ]
  },
  {
   "cell_type": "code",
   "execution_count": 12,
   "id": "cd678701",
   "metadata": {
    "execution": {
     "iopub.execute_input": "2022-06-11T01:53:36.246006Z",
     "iopub.status.busy": "2022-06-11T01:53:36.245434Z",
     "iopub.status.idle": "2022-06-11T01:53:36.249131Z",
     "shell.execute_reply": "2022-06-11T01:53:36.248406Z"
    },
    "papermill": {
     "duration": 0.019761,
     "end_time": "2022-06-11T01:53:36.250856",
     "exception": false,
     "start_time": "2022-06-11T01:53:36.231095",
     "status": "completed"
    },
    "tags": []
   },
   "outputs": [],
   "source": [
    "punct='!\"#$%&\\'()*+-/<=>?@[\\\\]^`{|}~'"
   ]
  },
  {
   "cell_type": "code",
   "execution_count": 13,
   "id": "ccf23a03",
   "metadata": {
    "execution": {
     "iopub.execute_input": "2022-06-11T01:53:36.279180Z",
     "iopub.status.busy": "2022-06-11T01:53:36.278567Z",
     "iopub.status.idle": "2022-06-11T01:53:36.283722Z",
     "shell.execute_reply": "2022-06-11T01:53:36.283008Z"
    },
    "papermill": {
     "duration": 0.020928,
     "end_time": "2022-06-11T01:53:36.285358",
     "exception": false,
     "start_time": "2022-06-11T01:53:36.264430",
     "status": "completed"
    },
    "tags": []
   },
   "outputs": [],
   "source": [
    "def process(s):\n",
    "    s= re.sub(\"([\\(\\[]).*?([\\)\\]])\",\" \",s)\n",
    "    for p in punct:\n",
    "        s = s.replace(p, '')\n",
    "    s = word_tokenize(s)\n",
    "    s = [w for w in s if not w in stop_words] #optional\n",
    "    s = [lemmatizer.lemmatize(word) for word in s]\n",
    "    return s"
   ]
  },
  {
   "cell_type": "code",
   "execution_count": 14,
   "id": "6896fc29",
   "metadata": {
    "execution": {
     "iopub.execute_input": "2022-06-11T01:53:36.313343Z",
     "iopub.status.busy": "2022-06-11T01:53:36.312799Z",
     "iopub.status.idle": "2022-06-11T01:53:44.601809Z",
     "shell.execute_reply": "2022-06-11T01:53:44.600658Z"
    },
    "papermill": {
     "duration": 8.305144,
     "end_time": "2022-06-11T01:53:44.603599",
     "exception": false,
     "start_time": "2022-06-11T01:53:36.298455",
     "status": "completed"
    },
    "tags": []
   },
   "outputs": [
    {
     "name": "stderr",
     "output_type": "stream",
     "text": [
      "100%|██████████| 2136/2136 [00:08<00:00, 258.06it/s]\n"
     ]
    }
   ],
   "source": [
    "for i in tqdm(range(newdata.shape[0])):\n",
    "    all_text[i] = process(all_text[i])"
   ]
  },
  {
   "cell_type": "code",
   "execution_count": 15,
   "id": "f6cf1c1f",
   "metadata": {
    "execution": {
     "iopub.execute_input": "2022-06-11T01:53:44.639657Z",
     "iopub.status.busy": "2022-06-11T01:53:44.639352Z",
     "iopub.status.idle": "2022-06-11T01:53:45.433625Z",
     "shell.execute_reply": "2022-06-11T01:53:45.432688Z"
    },
    "papermill": {
     "duration": 0.814652,
     "end_time": "2022-06-11T01:53:45.435772",
     "exception": false,
     "start_time": "2022-06-11T01:53:44.621120",
     "status": "completed"
    },
    "tags": []
   },
   "outputs": [
    {
     "name": "stderr",
     "output_type": "stream",
     "text": [
      "100%|██████████| 2136/2136 [00:00<00:00, 2715.56it/s]\n"
     ]
    }
   ],
   "source": [
    "for i in tqdm(range(newdata.shape[0])):\n",
    "    all_text[i] = \" \".join(all_text[i])"
   ]
  },
  {
   "cell_type": "code",
   "execution_count": 16,
   "id": "51960e93",
   "metadata": {
    "execution": {
     "iopub.execute_input": "2022-06-11T01:53:45.479342Z",
     "iopub.status.busy": "2022-06-11T01:53:45.479025Z",
     "iopub.status.idle": "2022-06-11T01:53:45.486140Z",
     "shell.execute_reply": "2022-06-11T01:53:45.485355Z"
    },
    "papermill": {
     "duration": 0.031608,
     "end_time": "2022-06-11T01:53:45.488457",
     "exception": false,
     "start_time": "2022-06-11T01:53:45.456849",
     "status": "completed"
    },
    "tags": []
   },
   "outputs": [
    {
     "data": {
      "text/plain": [
       "0       I , I C Meekins , of Currituck County , State ...\n",
       "1       Department of Virginia North Carolina , 1864. ...\n",
       "2       I , W. H. Pearce , of Craven County , State of...\n",
       "3       State of North Carolina , ________ County . I ...\n",
       "4       State of North Carolina , Wake County . I , S....\n",
       "                              ...                        \n",
       "2131    Office Provost Marshal Raleigh , N.C. May 26 6...\n",
       "2132    July 30th 1867 Birnie Wm Agent Bu R F A L Oath...\n",
       "2133    State of North Carolina , Robeson County . I ,...\n",
       "2134    NARA 449 102 We whose name written well person...\n",
       "2135    NARA 450 404 Office Provost Marshall City of W...\n",
       "Name: transcription_text, Length: 2136, dtype: object"
      ]
     },
     "execution_count": 16,
     "metadata": {},
     "output_type": "execute_result"
    }
   ],
   "source": [
    "all_text"
   ]
  },
  {
   "cell_type": "code",
   "execution_count": null,
   "id": "336389bd",
   "metadata": {
    "papermill": {
     "duration": 0.018849,
     "end_time": "2022-06-11T01:53:45.527240",
     "exception": false,
     "start_time": "2022-06-11T01:53:45.508391",
     "status": "completed"
    },
    "tags": []
   },
   "outputs": [],
   "source": []
  },
  {
   "cell_type": "markdown",
   "id": "7bc96019",
   "metadata": {
    "papermill": {
     "duration": 0.018886,
     "end_time": "2022-06-11T01:53:45.565443",
     "exception": false,
     "start_time": "2022-06-11T01:53:45.546557",
     "status": "completed"
    },
    "tags": []
   },
   "source": [
    "# Flair"
   ]
  },
  {
   "cell_type": "code",
   "execution_count": 17,
   "id": "e57394b3",
   "metadata": {
    "execution": {
     "iopub.execute_input": "2022-06-11T01:53:45.605514Z",
     "iopub.status.busy": "2022-06-11T01:53:45.604912Z",
     "iopub.status.idle": "2022-06-11T01:54:46.304124Z",
     "shell.execute_reply": "2022-06-11T01:54:46.302878Z"
    },
    "papermill": {
     "duration": 60.722174,
     "end_time": "2022-06-11T01:54:46.306719",
     "exception": false,
     "start_time": "2022-06-11T01:53:45.584545",
     "status": "completed"
    },
    "tags": []
   },
   "outputs": [
    {
     "name": "stdout",
     "output_type": "stream",
     "text": [
      "Requirement already satisfied: Cython in /opt/conda/lib/python3.7/site-packages (0.29.30)\r\n",
      "\u001b[33mWARNING: Running pip as the 'root' user can result in broken permissions and conflicting behaviour with the system package manager. It is recommended to use a virtual environment instead: https://pip.pypa.io/warnings/venv\u001b[0m\u001b[33m\r\n",
      "\u001b[0mRequirement already satisfied: transformers in /opt/conda/lib/python3.7/site-packages (4.18.0)\r\n",
      "Requirement already satisfied: packaging>=20.0 in /opt/conda/lib/python3.7/site-packages (from transformers) (21.3)\r\n",
      "Requirement already satisfied: numpy>=1.17 in /opt/conda/lib/python3.7/site-packages (from transformers) (1.21.6)\r\n",
      "Requirement already satisfied: tqdm>=4.27 in /opt/conda/lib/python3.7/site-packages (from transformers) (4.64.0)\r\n",
      "Requirement already satisfied: filelock in /opt/conda/lib/python3.7/site-packages (from transformers) (3.6.0)\r\n",
      "Requirement already satisfied: huggingface-hub<1.0,>=0.1.0 in /opt/conda/lib/python3.7/site-packages (from transformers) (0.5.1)\r\n",
      "Requirement already satisfied: tokenizers!=0.11.3,<0.13,>=0.11.1 in /opt/conda/lib/python3.7/site-packages (from transformers) (0.12.1)\r\n",
      "Requirement already satisfied: importlib-metadata in /opt/conda/lib/python3.7/site-packages (from transformers) (4.11.4)\r\n",
      "Requirement already satisfied: requests in /opt/conda/lib/python3.7/site-packages (from transformers) (2.27.1)\r\n",
      "Requirement already satisfied: sacremoses in /opt/conda/lib/python3.7/site-packages (from transformers) (0.0.53)\r\n",
      "Requirement already satisfied: regex!=2019.12.17 in /opt/conda/lib/python3.7/site-packages (from transformers) (2021.11.10)\r\n",
      "Requirement already satisfied: pyyaml>=5.1 in /opt/conda/lib/python3.7/site-packages (from transformers) (6.0)\r\n",
      "Requirement already satisfied: typing-extensions>=3.7.4.3 in /opt/conda/lib/python3.7/site-packages (from huggingface-hub<1.0,>=0.1.0->transformers) (4.2.0)\r\n",
      "Requirement already satisfied: pyparsing!=3.0.5,>=2.0.2 in /opt/conda/lib/python3.7/site-packages (from packaging>=20.0->transformers) (3.0.9)\r\n",
      "Requirement already satisfied: zipp>=0.5 in /opt/conda/lib/python3.7/site-packages (from importlib-metadata->transformers) (3.8.0)\r\n",
      "Requirement already satisfied: idna<4,>=2.5 in /opt/conda/lib/python3.7/site-packages (from requests->transformers) (3.3)\r\n",
      "Requirement already satisfied: urllib3<1.27,>=1.21.1 in /opt/conda/lib/python3.7/site-packages (from requests->transformers) (1.26.9)\r\n",
      "Requirement already satisfied: charset-normalizer~=2.0.0 in /opt/conda/lib/python3.7/site-packages (from requests->transformers) (2.0.12)\r\n",
      "Requirement already satisfied: certifi>=2017.4.17 in /opt/conda/lib/python3.7/site-packages (from requests->transformers) (2022.5.18.1)\r\n",
      "Requirement already satisfied: joblib in /opt/conda/lib/python3.7/site-packages (from sacremoses->transformers) (1.1.0)\r\n",
      "Requirement already satisfied: six in /opt/conda/lib/python3.7/site-packages (from sacremoses->transformers) (1.16.0)\r\n",
      "Requirement already satisfied: click in /opt/conda/lib/python3.7/site-packages (from sacremoses->transformers) (8.0.4)\r\n",
      "\u001b[33mWARNING: Running pip as the 'root' user can result in broken permissions and conflicting behaviour with the system package manager. It is recommended to use a virtual environment instead: https://pip.pypa.io/warnings/venv\u001b[0m\u001b[33m\r\n",
      "\u001b[0mCollecting flair\r\n",
      "  Downloading flair-0.11.3-py3-none-any.whl (401 kB)\r\n",
      "\u001b[2K     \u001b[90m━━━━━━━━━━━━━━━━━━━━━━━━━━━━━━━━━━━━━━━\u001b[0m \u001b[32m401.9/401.9 kB\u001b[0m \u001b[31m7.0 MB/s\u001b[0m eta \u001b[36m0:00:00\u001b[0m\r\n",
      "\u001b[?25hRequirement already satisfied: python-dateutil>=2.6.1 in /opt/conda/lib/python3.7/site-packages (from flair) (2.8.2)\r\n",
      "Collecting segtok>=1.5.7\r\n",
      "  Downloading segtok-1.5.11-py3-none-any.whl (24 kB)\r\n",
      "Collecting sqlitedict>=1.6.0\r\n",
      "  Downloading sqlitedict-2.0.0.tar.gz (46 kB)\r\n",
      "\u001b[2K     \u001b[90m━━━━━━━━━━━━━━━━━━━━━━━━━━━━━━━━━━━━━━━━\u001b[0m \u001b[32m46.3/46.3 kB\u001b[0m \u001b[31m4.3 MB/s\u001b[0m eta \u001b[36m0:00:00\u001b[0m\r\n",
      "\u001b[?25h  Preparing metadata (setup.py) ... \u001b[?25l-\b \bdone\r\n",
      "\u001b[?25hCollecting conllu>=4.0\r\n",
      "  Downloading conllu-4.4.2-py2.py3-none-any.whl (15 kB)\r\n",
      "Requirement already satisfied: janome in /opt/conda/lib/python3.7/site-packages (from flair) (0.4.2)\r\n",
      "Requirement already satisfied: huggingface-hub in /opt/conda/lib/python3.7/site-packages (from flair) (0.5.1)\r\n",
      "Requirement already satisfied: more-itertools in /opt/conda/lib/python3.7/site-packages (from flair) (8.13.0)\r\n",
      "Collecting deprecated>=1.2.4\r\n",
      "  Downloading Deprecated-1.2.13-py2.py3-none-any.whl (9.6 kB)\r\n",
      "Collecting pptree\r\n",
      "  Downloading pptree-3.1.tar.gz (3.0 kB)\r\n",
      "  Preparing metadata (setup.py) ... \u001b[?25l-\b \bdone\r\n",
      "\u001b[?25hRequirement already satisfied: lxml in /opt/conda/lib/python3.7/site-packages (from flair) (4.8.0)\r\n",
      "Collecting ftfy\r\n",
      "  Downloading ftfy-6.1.1-py3-none-any.whl (53 kB)\r\n",
      "\u001b[2K     \u001b[90m━━━━━━━━━━━━━━━━━━━━━━━━━━━━━━━━━━━━━━━━\u001b[0m \u001b[32m53.1/53.1 kB\u001b[0m \u001b[31m4.4 MB/s\u001b[0m eta \u001b[36m0:00:00\u001b[0m\r\n",
      "\u001b[?25hRequirement already satisfied: hyperopt>=0.2.7 in /opt/conda/lib/python3.7/site-packages (from flair) (0.2.7)\r\n",
      "Collecting sentencepiece==0.1.95\r\n",
      "  Downloading sentencepiece-0.1.95-cp37-cp37m-manylinux2014_x86_64.whl (1.2 MB)\r\n",
      "\u001b[2K     \u001b[90m━━━━━━━━━━━━━━━━━━━━━━━━━━━━━━━━━━━━━━━━\u001b[0m \u001b[32m1.2/1.2 MB\u001b[0m \u001b[31m29.0 MB/s\u001b[0m eta \u001b[36m0:00:00\u001b[0m\r\n",
      "\u001b[?25hRequirement already satisfied: transformers>=4.0.0 in /opt/conda/lib/python3.7/site-packages (from flair) (4.18.0)\r\n",
      "Requirement already satisfied: matplotlib>=2.2.3 in /opt/conda/lib/python3.7/site-packages (from flair) (3.5.2)\r\n",
      "Collecting mpld3==0.3\r\n",
      "  Downloading mpld3-0.3.tar.gz (788 kB)\r\n",
      "\u001b[2K     \u001b[90m━━━━━━━━━━━━━━━━━━━━━━━━━━━━━━━━━━━━━━\u001b[0m \u001b[32m788.5/788.5 kB\u001b[0m \u001b[31m27.4 MB/s\u001b[0m eta \u001b[36m0:00:00\u001b[0m\r\n",
      "\u001b[?25h  Preparing metadata (setup.py) ... \u001b[?25l-\b \bdone\r\n",
      "\u001b[?25hCollecting konoha<5.0.0,>=4.0.0\r\n",
      "  Downloading konoha-4.6.5-py3-none-any.whl (20 kB)\r\n",
      "Collecting langdetect\r\n",
      "  Downloading langdetect-1.0.9.tar.gz (981 kB)\r\n",
      "\u001b[2K     \u001b[90m━━━━━━━━━━━━━━━━━━━━━━━━━━━━━━━━━━━━━━\u001b[0m \u001b[32m981.5/981.5 kB\u001b[0m \u001b[31m48.2 MB/s\u001b[0m eta \u001b[36m0:00:00\u001b[0m\r\n",
      "\u001b[?25h  Preparing metadata (setup.py) ... \u001b[?25l-\b \bdone\r\n",
      "\u001b[?25hCollecting bpemb>=0.3.2\r\n",
      "  Downloading bpemb-0.3.3-py3-none-any.whl (19 kB)\r\n",
      "Requirement already satisfied: scikit-learn>=0.21.3 in /opt/conda/lib/python3.7/site-packages (from flair) (1.0.2)\r\n",
      "Requirement already satisfied: torch!=1.8,>=1.5.0 in /opt/conda/lib/python3.7/site-packages (from flair) (1.11.0)\r\n",
      "Requirement already satisfied: regex in /opt/conda/lib/python3.7/site-packages (from flair) (2021.11.10)\r\n",
      "Requirement already satisfied: tabulate in /opt/conda/lib/python3.7/site-packages (from flair) (0.8.9)\r\n",
      "Requirement already satisfied: gensim>=3.4.0 in /opt/conda/lib/python3.7/site-packages (from flair) (4.0.1)\r\n",
      "Collecting wikipedia-api\r\n",
      "  Downloading Wikipedia-API-0.5.4.tar.gz (18 kB)\r\n",
      "  Preparing metadata (setup.py) ... \u001b[?25l-\b \bdone\r\n",
      "\u001b[?25hRequirement already satisfied: tqdm>=4.26.0 in /opt/conda/lib/python3.7/site-packages (from flair) (4.64.0)\r\n",
      "Collecting gdown==4.4.0\r\n",
      "  Downloading gdown-4.4.0.tar.gz (14 kB)\r\n",
      "  Installing build dependencies ... \u001b[?25l-\b \b\\\b \b|\b \b/\b \bdone\r\n",
      "\u001b[?25h  Getting requirements to build wheel ... \u001b[?25l-\b \b\\\b \b|\b \b/\b \b-\b \bdone\r\n",
      "\u001b[?25h  Preparing metadata (pyproject.toml) ... \u001b[?25l-\b \b\\\b \b|\b \b/\b \b-\b \bdone\r\n",
      "\u001b[?25hRequirement already satisfied: beautifulsoup4 in /opt/conda/lib/python3.7/site-packages (from gdown==4.4.0->flair) (4.11.1)\r\n",
      "Requirement already satisfied: six in /opt/conda/lib/python3.7/site-packages (from gdown==4.4.0->flair) (1.16.0)\r\n",
      "Requirement already satisfied: filelock in /opt/conda/lib/python3.7/site-packages (from gdown==4.4.0->flair) (3.6.0)\r\n",
      "Requirement already satisfied: requests[socks] in /opt/conda/lib/python3.7/site-packages (from gdown==4.4.0->flair) (2.27.1)\r\n",
      "Requirement already satisfied: numpy in /opt/conda/lib/python3.7/site-packages (from bpemb>=0.3.2->flair) (1.21.6)\r\n",
      "Requirement already satisfied: wrapt<2,>=1.10 in /opt/conda/lib/python3.7/site-packages (from deprecated>=1.2.4->flair) (1.14.1)\r\n",
      "Requirement already satisfied: scipy>=0.18.1 in /opt/conda/lib/python3.7/site-packages (from gensim>=3.4.0->flair) (1.7.3)\r\n",
      "Requirement already satisfied: smart-open>=1.8.1 in /opt/conda/lib/python3.7/site-packages (from gensim>=3.4.0->flair) (5.2.1)\r\n",
      "Requirement already satisfied: future in /opt/conda/lib/python3.7/site-packages (from hyperopt>=0.2.7->flair) (0.18.2)\r\n",
      "Requirement already satisfied: cloudpickle in /opt/conda/lib/python3.7/site-packages (from hyperopt>=0.2.7->flair) (2.0.0)\r\n",
      "Requirement already satisfied: py4j in /opt/conda/lib/python3.7/site-packages (from hyperopt>=0.2.7->flair) (0.10.9.5)\r\n",
      "Requirement already satisfied: networkx>=2.2 in /opt/conda/lib/python3.7/site-packages (from hyperopt>=0.2.7->flair) (2.5)\r\n",
      "Collecting importlib-metadata<4.0.0,>=3.7.0\r\n",
      "  Downloading importlib_metadata-3.10.1-py3-none-any.whl (14 kB)\r\n",
      "Collecting overrides<4.0.0,>=3.0.0\r\n",
      "  Downloading overrides-3.1.0.tar.gz (11 kB)\r\n",
      "  Preparing metadata (setup.py) ... \u001b[?25l-\b \bdone\r\n",
      "\u001b[?25hRequirement already satisfied: pyparsing>=2.2.1 in /opt/conda/lib/python3.7/site-packages (from matplotlib>=2.2.3->flair) (3.0.9)\r\n",
      "Requirement already satisfied: kiwisolver>=1.0.1 in /opt/conda/lib/python3.7/site-packages (from matplotlib>=2.2.3->flair) (1.4.2)\r\n",
      "Requirement already satisfied: packaging>=20.0 in /opt/conda/lib/python3.7/site-packages (from matplotlib>=2.2.3->flair) (21.3)\r\n",
      "Requirement already satisfied: cycler>=0.10 in /opt/conda/lib/python3.7/site-packages (from matplotlib>=2.2.3->flair) (0.11.0)\r\n",
      "Requirement already satisfied: pillow>=6.2.0 in /opt/conda/lib/python3.7/site-packages (from matplotlib>=2.2.3->flair) (9.1.0)\r\n",
      "Requirement already satisfied: fonttools>=4.22.0 in /opt/conda/lib/python3.7/site-packages (from matplotlib>=2.2.3->flair) (4.33.3)\r\n",
      "Requirement already satisfied: threadpoolctl>=2.0.0 in /opt/conda/lib/python3.7/site-packages (from scikit-learn>=0.21.3->flair) (3.1.0)\r\n",
      "Requirement already satisfied: joblib>=0.11 in /opt/conda/lib/python3.7/site-packages (from scikit-learn>=0.21.3->flair) (1.1.0)\r\n",
      "Requirement already satisfied: typing-extensions in /opt/conda/lib/python3.7/site-packages (from torch!=1.8,>=1.5.0->flair) (4.2.0)\r\n",
      "Requirement already satisfied: sacremoses in /opt/conda/lib/python3.7/site-packages (from transformers>=4.0.0->flair) (0.0.53)\r\n",
      "Requirement already satisfied: tokenizers!=0.11.3,<0.13,>=0.11.1 in /opt/conda/lib/python3.7/site-packages (from transformers>=4.0.0->flair) (0.12.1)\r\n",
      "Requirement already satisfied: pyyaml>=5.1 in /opt/conda/lib/python3.7/site-packages (from transformers>=4.0.0->flair) (6.0)\r\n",
      "Requirement already satisfied: wcwidth>=0.2.5 in /opt/conda/lib/python3.7/site-packages (from ftfy->flair) (0.2.5)\r\n",
      "Requirement already satisfied: zipp>=0.5 in /opt/conda/lib/python3.7/site-packages (from importlib-metadata<4.0.0,>=3.7.0->konoha<5.0.0,>=4.0.0->flair) (3.8.0)\r\n",
      "Requirement already satisfied: decorator>=4.3.0 in /opt/conda/lib/python3.7/site-packages (from networkx>=2.2->hyperopt>=0.2.7->flair) (5.1.1)\r\n",
      "Requirement already satisfied: certifi>=2017.4.17 in /opt/conda/lib/python3.7/site-packages (from requests[socks]->gdown==4.4.0->flair) (2022.5.18.1)\r\n",
      "Requirement already satisfied: charset-normalizer~=2.0.0 in /opt/conda/lib/python3.7/site-packages (from requests[socks]->gdown==4.4.0->flair) (2.0.12)\r\n",
      "Requirement already satisfied: urllib3<1.27,>=1.21.1 in /opt/conda/lib/python3.7/site-packages (from requests[socks]->gdown==4.4.0->flair) (1.26.9)\r\n",
      "Requirement already satisfied: idna<4,>=2.5 in /opt/conda/lib/python3.7/site-packages (from requests[socks]->gdown==4.4.0->flair) (3.3)\r\n",
      "Requirement already satisfied: soupsieve>1.2 in /opt/conda/lib/python3.7/site-packages (from beautifulsoup4->gdown==4.4.0->flair) (2.3.1)\r\n",
      "Requirement already satisfied: PySocks!=1.5.7,>=1.5.6 in /opt/conda/lib/python3.7/site-packages (from requests[socks]->gdown==4.4.0->flair) (1.7.1)\r\n",
      "Requirement already satisfied: click in /opt/conda/lib/python3.7/site-packages (from sacremoses->transformers>=4.0.0->flair) (8.0.4)\r\n",
      "Building wheels for collected packages: gdown, mpld3, sqlitedict, langdetect, pptree, wikipedia-api, overrides\r\n",
      "  Building wheel for gdown (pyproject.toml) ... \u001b[?25l-\b \b\\\b \b|\b \b/\b \b-\b \b\\\b \b|\b \b/\b \bdone\r\n",
      "\u001b[?25h  Created wheel for gdown: filename=gdown-4.4.0-py3-none-any.whl size=14759 sha256=bf12c7603e6e459044b9d55d20dc17ee0e06c9c53ccb084d73ff04d41dc2d0cf\r\n",
      "  Stored in directory: /root/.cache/pip/wheels/fb/c3/0e/c4d8ff8bfcb0461afff199471449f642179b74968c15b7a69c\r\n",
      "  Building wheel for mpld3 (setup.py) ... \u001b[?25l-\b \b\\\b \bdone\r\n",
      "\u001b[?25h  Created wheel for mpld3: filename=mpld3-0.3-py3-none-any.whl size=116702 sha256=03610bbea2ab0da1e3079eda81fb656826f5b418df9d85b06b4634c97e3dfe1f\r\n",
      "  Stored in directory: /root/.cache/pip/wheels/26/70/6a/1c79e59951a41b4045497da187b2724f5659ca64033cf4548e\r\n",
      "  Building wheel for sqlitedict (setup.py) ... \u001b[?25l-\b \bdone\r\n",
      "\u001b[?25h  Created wheel for sqlitedict: filename=sqlitedict-2.0.0-py3-none-any.whl size=15736 sha256=f7335165f7e6946ce8b81505e73b8af045376d8ca6a4e092f4a8189c29e0dec2\r\n",
      "  Stored in directory: /root/.cache/pip/wheels/96/dd/2e/0ed4a25cb73fc30c7ea8d10b50acb7226175736067e40a7ea3\r\n",
      "  Building wheel for langdetect (setup.py) ... \u001b[?25l-\b \b\\\b \b|\b \b/\b \bdone\r\n",
      "\u001b[?25h  Created wheel for langdetect: filename=langdetect-1.0.9-py3-none-any.whl size=993242 sha256=40ea633f1c2ea964519abdb57bfe2df65d061c2a09cbf98b9963f932bf78192b\r\n",
      "  Stored in directory: /root/.cache/pip/wheels/c5/96/8a/f90c59ed25d75e50a8c10a1b1c2d4c402e4dacfa87f3aff36a\r\n",
      "  Building wheel for pptree (setup.py) ... \u001b[?25l-\b \bdone\r\n",
      "\u001b[?25h  Created wheel for pptree: filename=pptree-3.1-py3-none-any.whl size=4629 sha256=6730ae3b51e2d1633c6f9b5f250c120c7410cdedbd395eba35463c21a900c7a6\r\n",
      "  Stored in directory: /root/.cache/pip/wheels/9e/e8/7d/a9c3c19b4722608a0d8b05a38c36bc3f230c43becd2a46794b\r\n",
      "  Building wheel for wikipedia-api (setup.py) ... \u001b[?25l-\b \bdone\r\n",
      "\u001b[?25h  Created wheel for wikipedia-api: filename=Wikipedia_API-0.5.4-py3-none-any.whl size=13477 sha256=631920770abb26a8b722f76a00630e11075527cc48432badaf128c09d0b70a2c\r\n",
      "  Stored in directory: /root/.cache/pip/wheels/d3/24/56/58ba93cf78be162451144e7a9889603f437976ef1ae7013d04\r\n",
      "  Building wheel for overrides (setup.py) ... \u001b[?25l-\b \bdone\r\n",
      "\u001b[?25h  Created wheel for overrides: filename=overrides-3.1.0-py3-none-any.whl size=10187 sha256=42fcfa96d6e321fcabb61a6d774f2d036cddd1ed6c05672710bed0b9514758fc\r\n",
      "  Stored in directory: /root/.cache/pip/wheels/3a/0d/38/01a9bc6e20dcfaf0a6a7b552d03137558ba1c38aea47644682\r\n",
      "Successfully built gdown mpld3 sqlitedict langdetect pptree wikipedia-api overrides\r\n",
      "Installing collected packages: sqlitedict, sentencepiece, pptree, overrides, mpld3, segtok, langdetect, importlib-metadata, ftfy, deprecated, conllu, wikipedia-api, konoha, gdown, bpemb, flair\r\n",
      "  Attempting uninstall: sentencepiece\r\n",
      "    Found existing installation: sentencepiece 0.1.96\r\n",
      "    Uninstalling sentencepiece-0.1.96:\r\n",
      "      Successfully uninstalled sentencepiece-0.1.96\r\n",
      "  Attempting uninstall: overrides\r\n",
      "    Found existing installation: overrides 6.1.0\r\n",
      "    Uninstalling overrides-6.1.0:\r\n",
      "      Successfully uninstalled overrides-6.1.0\r\n",
      "  Attempting uninstall: mpld3\r\n",
      "    Found existing installation: mpld3 0.5.7\r\n",
      "    Uninstalling mpld3-0.5.7:\r\n",
      "      Successfully uninstalled mpld3-0.5.7\r\n",
      "  Attempting uninstall: importlib-metadata\r\n",
      "    Found existing installation: importlib-metadata 4.11.4\r\n",
      "    Uninstalling importlib-metadata-4.11.4:\r\n",
      "      Successfully uninstalled importlib-metadata-4.11.4\r\n",
      "\u001b[31mERROR: pip's dependency resolver does not currently take into account all the packages that are installed. This behaviour is the source of the following dependency conflicts.\r\n",
      "markdown 3.3.7 requires importlib-metadata>=4.4; python_version < \"3.10\", but you have importlib-metadata 3.10.1 which is incompatible.\r\n",
      "ibis-framework 2.1.1 requires importlib-metadata<5,>=4; python_version < \"3.8\", but you have importlib-metadata 3.10.1 which is incompatible.\r\n",
      "gym 0.23.1 requires importlib-metadata>=4.10.0; python_version < \"3.10\", but you have importlib-metadata 3.10.1 which is incompatible.\r\n",
      "google-cloud-pubsublite 1.4.2 requires overrides<7.0.0,>=6.0.1, but you have overrides 3.1.0 which is incompatible.\u001b[0m\u001b[31m\r\n",
      "\u001b[0mSuccessfully installed bpemb-0.3.3 conllu-4.4.2 deprecated-1.2.13 flair-0.11.3 ftfy-6.1.1 gdown-4.4.0 importlib-metadata-3.10.1 konoha-4.6.5 langdetect-1.0.9 mpld3-0.3 overrides-3.1.0 pptree-3.1 segtok-1.5.11 sentencepiece-0.1.95 sqlitedict-2.0.0 wikipedia-api-0.5.4\r\n",
      "\u001b[33mWARNING: Running pip as the 'root' user can result in broken permissions and conflicting behaviour with the system package manager. It is recommended to use a virtual environment instead: https://pip.pypa.io/warnings/venv\u001b[0m\u001b[33m\r\n",
      "\u001b[0m"
     ]
    }
   ],
   "source": [
    "!pip3 install Cython\n",
    "!pip install transformers\n",
    "!pip install flair"
   ]
  },
  {
   "cell_type": "markdown",
   "id": "7cd5d1cc",
   "metadata": {
    "papermill": {
     "duration": 0.024631,
     "end_time": "2022-06-11T01:54:46.356974",
     "exception": false,
     "start_time": "2022-06-11T01:54:46.332343",
     "status": "completed"
    },
    "tags": []
   },
   "source": [
    "# Hugging face  : Flair"
   ]
  },
  {
   "cell_type": "markdown",
   "id": "41678c03",
   "metadata": {
    "papermill": {
     "duration": 0.024286,
     "end_time": "2022-06-11T01:54:46.405346",
     "exception": false,
     "start_time": "2022-06-11T01:54:46.381060",
     "status": "completed"
    },
    "tags": []
   },
   "source": [
    "**ner-english** "
   ]
  },
  {
   "cell_type": "code",
   "execution_count": 18,
   "id": "cb1580bf",
   "metadata": {
    "execution": {
     "iopub.execute_input": "2022-06-11T01:54:46.459376Z",
     "iopub.status.busy": "2022-06-11T01:54:46.458972Z",
     "iopub.status.idle": "2022-06-11T01:54:48.497642Z",
     "shell.execute_reply": "2022-06-11T01:54:48.496294Z"
    },
    "papermill": {
     "duration": 2.067109,
     "end_time": "2022-06-11T01:54:48.500038",
     "exception": false,
     "start_time": "2022-06-11T01:54:46.432929",
     "status": "completed"
    },
    "tags": []
   },
   "outputs": [
    {
     "name": "stdout",
     "output_type": "stream",
     "text": [
      "git: 'lfs' is not a git command. See 'git --help'.\r\n",
      "\r\n",
      "The most similar command is\r\n",
      "\tlog\r\n",
      "Cloning into 'ner-english-large'...\r\n",
      "remote: Enumerating objects: 25, done.\u001b[K\r\n",
      "remote: Counting objects: 100% (25/25), done.\u001b[K\r\n",
      "remote: Compressing objects: 100% (24/24), done.\u001b[K\r\n",
      "remote: Total 25 (delta 10), reused 0 (delta 0), pack-reused 0\u001b[K\r\n",
      "Unpacking objects: 100% (25/25), 11.03 KiB | 1.38 MiB/s, done.\r\n"
     ]
    }
   ],
   "source": [
    "!git lfs install\n",
    "!git clone https://huggingface.co/flair/ner-english-large"
   ]
  },
  {
   "cell_type": "code",
   "execution_count": 19,
   "id": "91e7a07f",
   "metadata": {
    "execution": {
     "iopub.execute_input": "2022-06-11T01:54:48.559287Z",
     "iopub.status.busy": "2022-06-11T01:54:48.558355Z",
     "iopub.status.idle": "2022-06-11T01:56:26.906819Z",
     "shell.execute_reply": "2022-06-11T01:56:26.905789Z"
    },
    "papermill": {
     "duration": 98.380335,
     "end_time": "2022-06-11T01:56:26.909080",
     "exception": false,
     "start_time": "2022-06-11T01:54:48.528745",
     "status": "completed"
    },
    "tags": []
   },
   "outputs": [
    {
     "data": {
      "application/vnd.jupyter.widget-view+json": {
       "model_id": "1d40fd2e7c5b4981a639f87d900f4510",
       "version_major": 2,
       "version_minor": 0
      },
      "text/plain": [
       "Downloading:   0%|          | 0.00/2.24G [00:00<?, ?B/s]"
      ]
     },
     "metadata": {},
     "output_type": "display_data"
    },
    {
     "name": "stdout",
     "output_type": "stream",
     "text": [
      "2022-06-11 01:56:03,181 loading file /root/.flair/models/ner-english-ontonotes-large/2da6c2cdd76e59113033adf670340bfd820f0301ae2e39204d67ba2dc276cc28.ec1bdb304b6c66111532c3b1fc6e522460ae73f1901848a4d0362cdf9760edb1\n"
     ]
    },
    {
     "data": {
      "application/vnd.jupyter.widget-view+json": {
       "model_id": "a31325921c1f48a38960f2649cbf74d9",
       "version_major": 2,
       "version_minor": 0
      },
      "text/plain": [
       "Downloading:   0%|          | 0.00/616 [00:00<?, ?B/s]"
      ]
     },
     "metadata": {},
     "output_type": "display_data"
    },
    {
     "data": {
      "application/vnd.jupyter.widget-view+json": {
       "model_id": "7ddcce2c2d0d41a88fa48d84b771b0c5",
       "version_major": 2,
       "version_minor": 0
      },
      "text/plain": [
       "Downloading:   0%|          | 0.00/4.83M [00:00<?, ?B/s]"
      ]
     },
     "metadata": {},
     "output_type": "display_data"
    },
    {
     "data": {
      "application/vnd.jupyter.widget-view+json": {
       "model_id": "5c54d4b28b6543cc8189a1f26eeddb58",
       "version_major": 2,
       "version_minor": 0
      },
      "text/plain": [
       "Downloading:   0%|          | 0.00/8.68M [00:00<?, ?B/s]"
      ]
     },
     "metadata": {},
     "output_type": "display_data"
    },
    {
     "name": "stdout",
     "output_type": "stream",
     "text": [
      "2022-06-11 01:56:26,219 SequenceTagger predicts: Dictionary with 76 tags: <unk>, O, B-CARDINAL, E-CARDINAL, S-PERSON, S-CARDINAL, S-PRODUCT, B-PRODUCT, I-PRODUCT, E-PRODUCT, B-WORK_OF_ART, I-WORK_OF_ART, E-WORK_OF_ART, B-PERSON, E-PERSON, S-GPE, B-DATE, I-DATE, E-DATE, S-ORDINAL, S-LANGUAGE, I-PERSON, S-EVENT, S-DATE, B-QUANTITY, E-QUANTITY, S-TIME, B-TIME, I-TIME, E-TIME, B-GPE, E-GPE, S-ORG, I-GPE, S-NORP, B-FAC, I-FAC, E-FAC, B-NORP, E-NORP, S-PERCENT, B-ORG, E-ORG, B-LANGUAGE, E-LANGUAGE, I-CARDINAL, I-ORG, S-WORK_OF_ART, I-QUANTITY, B-MONEY\n"
     ]
    }
   ],
   "source": [
    "from flair.models import SequenceTagger\n",
    "\n",
    "tagger = SequenceTagger.load(\"flair/ner-english-ontonotes-large\")"
   ]
  },
  {
   "cell_type": "code",
   "execution_count": 20,
   "id": "5fa214a1",
   "metadata": {
    "execution": {
     "iopub.execute_input": "2022-06-11T01:56:26.962391Z",
     "iopub.status.busy": "2022-06-11T01:56:26.962044Z",
     "iopub.status.idle": "2022-06-11T01:57:54.925168Z",
     "shell.execute_reply": "2022-06-11T01:57:54.924149Z"
    },
    "papermill": {
     "duration": 87.992196,
     "end_time": "2022-06-11T01:57:54.927618",
     "exception": false,
     "start_time": "2022-06-11T01:56:26.935422",
     "status": "completed"
    },
    "tags": []
   },
   "outputs": [
    {
     "data": {
      "application/vnd.jupyter.widget-view+json": {
       "model_id": "5ec7791a928b4b1a98250e0b9bbea4cb",
       "version_major": 2,
       "version_minor": 0
      },
      "text/plain": [
       "Downloading:   0%|          | 0.00/2.24G [00:00<?, ?B/s]"
      ]
     },
     "metadata": {},
     "output_type": "display_data"
    },
    {
     "name": "stdout",
     "output_type": "stream",
     "text": [
      "2022-06-11 01:57:38,797 loading file /root/.flair/models/ner-english-large/07301f59bb8cb113803be316267f06ddf9243cdbba92a4c8067ef92442d2c574.554244d3476d97501a766a98078421817b14654496b86f2f7bd139dc502a4f29\n",
      "2022-06-11 01:57:54,278 SequenceTagger predicts: Dictionary with 20 tags: <unk>, O, S-ORG, S-MISC, B-PER, E-PER, S-LOC, B-ORG, E-ORG, I-PER, S-PER, B-MISC, I-MISC, E-MISC, I-ORG, B-LOC, E-LOC, I-LOC, <START>, <STOP>\n"
     ]
    }
   ],
   "source": [
    "from flair.models import SequenceTagger\n",
    "\n",
    "tagger2 = SequenceTagger.load(\"flair/ner-english-large\")"
   ]
  },
  {
   "cell_type": "markdown",
   "id": "6fae33b9",
   "metadata": {
    "papermill": {
     "duration": 0.024635,
     "end_time": "2022-06-11T01:57:54.977695",
     "exception": false,
     "start_time": "2022-06-11T01:57:54.953060",
     "status": "completed"
    },
    "tags": []
   },
   "source": [
    "tagger3 nerenglishlarge"
   ]
  },
  {
   "cell_type": "code",
   "execution_count": 21,
   "id": "640fb16f",
   "metadata": {
    "execution": {
     "iopub.execute_input": "2022-06-11T01:57:55.030598Z",
     "iopub.status.busy": "2022-06-11T01:57:55.030202Z",
     "iopub.status.idle": "2022-06-11T01:59:56.559036Z",
     "shell.execute_reply": "2022-06-11T01:59:56.558233Z"
    },
    "papermill": {
     "duration": 121.558453,
     "end_time": "2022-06-11T01:59:56.561462",
     "exception": false,
     "start_time": "2022-06-11T01:57:55.003009",
     "status": "completed"
    },
    "tags": []
   },
   "outputs": [],
   "source": [
    "listenglarge=[]\n",
    "label=[]\n",
    "Per=[]\n",
    "ORG=[]\n",
    "LOC=[]\n",
    "from flair.data import Sentence\n",
    "\n",
    "dflarge=pd.DataFrame({\"text\":\"\", \"PERSON-nerenglarge\":[], \"LOC-nerenglarge\":\"\",\"ORG-nerenglarge\":\"\"})\n",
    "for i in range(2136):\n",
    "        sentencess =Sentence(all_text[i])\n",
    "        dflarge.loc[i,\"text\"]=all_text[i]\n",
    "        tagger2.predict(sentencess)\n",
    "        dc={}\n",
    "        P=[]\n",
    "        L=[]\n",
    "        G=[]\n",
    "        O=[]\n",
    "        for entity in sentencess.get_spans('ner'):\n",
    "                     \n",
    "                     if (entity.get_label(\"ner\").score > 0.90) & (entity.get_label(\"ner\").value != \"CARDINAL\") & (entity.get_label(\"ner\").value != \"LAW\")& (entity.get_label(\"ner\").value != \"QUANTITY\") & (entity.get_label(\"ner\").value != \"WORK_OF_ART\") & (entity.get_label(\"ner\").value != \"LAW\")& (entity.get_label(\"ner\").value != \"QUANTITY\") & (entity.get_label(\"ner\").value != \"EVENT\")  :\n",
    "                        dc[entity.text]= entity.get_label(\"ner\").value \n",
    "                        listenglarge.append(entity)\n",
    "        \n",
    "        \n",
    "        for j in dc :\n",
    "                if dc[j]==\"PER\":\n",
    "                      P.append(j)\n",
    "                elif (dc[j]==\"ORG\") | (dc[j]==\"MISC\") :\n",
    "                      O.append(j)\n",
    "                elif dc[j]==\"LOC\":\n",
    "                      L.append(j)\n",
    "               \n",
    "        Per.append(P)\n",
    "        ORG.append(O)\n",
    "        LOC.append(L)\n",
    "            \n",
    "\n",
    "dflarge[\"PERSON-nerenglarge\"]=Per\n",
    "dflarge[\"LOC-nerenglarge\"]=LOC\n",
    "dflarge[\"ORG-nerenglarge\"]=ORG                        "
   ]
  },
  {
   "cell_type": "code",
   "execution_count": 22,
   "id": "9346d1cd",
   "metadata": {
    "execution": {
     "iopub.execute_input": "2022-06-11T01:59:56.613874Z",
     "iopub.status.busy": "2022-06-11T01:59:56.613536Z",
     "iopub.status.idle": "2022-06-11T01:59:56.640749Z",
     "shell.execute_reply": "2022-06-11T01:59:56.639860Z"
    },
    "papermill": {
     "duration": 0.055524,
     "end_time": "2022-06-11T01:59:56.642856",
     "exception": false,
     "start_time": "2022-06-11T01:59:56.587332",
     "status": "completed"
    },
    "tags": []
   },
   "outputs": [
    {
     "data": {
      "text/html": [
       "<div>\n",
       "<style scoped>\n",
       "    .dataframe tbody tr th:only-of-type {\n",
       "        vertical-align: middle;\n",
       "    }\n",
       "\n",
       "    .dataframe tbody tr th {\n",
       "        vertical-align: top;\n",
       "    }\n",
       "\n",
       "    .dataframe thead th {\n",
       "        text-align: right;\n",
       "    }\n",
       "</style>\n",
       "<table border=\"1\" class=\"dataframe\">\n",
       "  <thead>\n",
       "    <tr style=\"text-align: right;\">\n",
       "      <th></th>\n",
       "      <th>text</th>\n",
       "      <th>PERSON-nerenglarge</th>\n",
       "      <th>LOC-nerenglarge</th>\n",
       "      <th>ORG-nerenglarge</th>\n",
       "    </tr>\n",
       "  </thead>\n",
       "  <tbody>\n",
       "    <tr>\n",
       "      <th>0</th>\n",
       "      <td>I , I C Meekins , of Currituck County , State ...</td>\n",
       "      <td>[I C Meekins, Almighty, God, Isaac C. Meekins,...</td>\n",
       "      <td>[Currituck County, State of North Carolina, Un...</td>\n",
       "      <td>[Constitution]</td>\n",
       "    </tr>\n",
       "    <tr>\n",
       "      <th>1</th>\n",
       "      <td>Department of Virginia North Carolina , 1864. ...</td>\n",
       "      <td>[]</td>\n",
       "      <td>[North Carolina, United States, States]</td>\n",
       "      <td>[Department of Virginia, OATH PAROLE]</td>\n",
       "    </tr>\n",
       "    <tr>\n",
       "      <th>2</th>\n",
       "      <td>I , W. H. Pearce , of Craven County , State of...</td>\n",
       "      <td>[W. H. Pearce, Almighty, God, E. Ampetts, W . ...</td>\n",
       "      <td>[Craven County, State of NorthCarolina, United...</td>\n",
       "      <td>[Constitution]</td>\n",
       "    </tr>\n",
       "    <tr>\n",
       "      <th>3</th>\n",
       "      <td>State of North Carolina , ________ County . I ...</td>\n",
       "      <td>[God]</td>\n",
       "      <td>[State of, North Carolina, United States]</td>\n",
       "      <td>[Constitution]</td>\n",
       "    </tr>\n",
       "    <tr>\n",
       "      <th>4</th>\n",
       "      <td>State of North Carolina , Wake County . I , S....</td>\n",
       "      <td>[S.E, God, T.D, McAlpine]</td>\n",
       "      <td>[State of, North Carolina, Wake County, United...</td>\n",
       "      <td>[Constitution, Res . Corp]</td>\n",
       "    </tr>\n",
       "    <tr>\n",
       "      <th>...</th>\n",
       "      <td>...</td>\n",
       "      <td>...</td>\n",
       "      <td>...</td>\n",
       "      <td>...</td>\n",
       "    </tr>\n",
       "    <tr>\n",
       "      <th>2131</th>\n",
       "      <td>Office Provost Marshal Raleigh , N.C. May 26 6...</td>\n",
       "      <td>[Geo . Little, Geo, B. Ayer, Hugo Hillebrandt]</td>\n",
       "      <td>[Raleigh, N.C., Wake County, State of N.C, Uni...</td>\n",
       "      <td>[]</td>\n",
       "    </tr>\n",
       "    <tr>\n",
       "      <th>2132</th>\n",
       "      <td>July 30th 1867 Birnie Wm Agent Bu R F A L Oath...</td>\n",
       "      <td>[]</td>\n",
       "      <td>[]</td>\n",
       "      <td>[]</td>\n",
       "    </tr>\n",
       "    <tr>\n",
       "      <th>2133</th>\n",
       "      <td>State of North Carolina , Robeson County . I ,...</td>\n",
       "      <td>[William Birnie, God, Wm Birnie, W.A]</td>\n",
       "      <td>[State of, North Carolina, Robeson County, Uni...</td>\n",
       "      <td>[Constitution]</td>\n",
       "    </tr>\n",
       "    <tr>\n",
       "      <th>2134</th>\n",
       "      <td>NARA 449 102 We whose name written well person...</td>\n",
       "      <td>[Price, James Fulton, Sgd W . N. Peden, Miles ...</td>\n",
       "      <td>[State of North Carolina, New Hanover County, ...</td>\n",
       "      <td>[Fulton Price, Confederate Government, Court o...</td>\n",
       "    </tr>\n",
       "    <tr>\n",
       "      <th>2135</th>\n",
       "      <td>NARA 450 404 Office Provost Marshall City of W...</td>\n",
       "      <td>[Marshall, James Fulton, God, Wm A. Cutler, I,...</td>\n",
       "      <td>[City of Wilmington, N.C, United States, North...</td>\n",
       "      <td>[NARA, Constitution of, Slaves]</td>\n",
       "    </tr>\n",
       "  </tbody>\n",
       "</table>\n",
       "<p>2136 rows × 4 columns</p>\n",
       "</div>"
      ],
      "text/plain": [
       "                                                   text  \\\n",
       "0     I , I C Meekins , of Currituck County , State ...   \n",
       "1     Department of Virginia North Carolina , 1864. ...   \n",
       "2     I , W. H. Pearce , of Craven County , State of...   \n",
       "3     State of North Carolina , ________ County . I ...   \n",
       "4     State of North Carolina , Wake County . I , S....   \n",
       "...                                                 ...   \n",
       "2131  Office Provost Marshal Raleigh , N.C. May 26 6...   \n",
       "2132  July 30th 1867 Birnie Wm Agent Bu R F A L Oath...   \n",
       "2133  State of North Carolina , Robeson County . I ,...   \n",
       "2134  NARA 449 102 We whose name written well person...   \n",
       "2135  NARA 450 404 Office Provost Marshall City of W...   \n",
       "\n",
       "                                     PERSON-nerenglarge  \\\n",
       "0     [I C Meekins, Almighty, God, Isaac C. Meekins,...   \n",
       "1                                                    []   \n",
       "2     [W. H. Pearce, Almighty, God, E. Ampetts, W . ...   \n",
       "3                                                 [God]   \n",
       "4                             [S.E, God, T.D, McAlpine]   \n",
       "...                                                 ...   \n",
       "2131     [Geo . Little, Geo, B. Ayer, Hugo Hillebrandt]   \n",
       "2132                                                 []   \n",
       "2133              [William Birnie, God, Wm Birnie, W.A]   \n",
       "2134  [Price, James Fulton, Sgd W . N. Peden, Miles ...   \n",
       "2135  [Marshall, James Fulton, God, Wm A. Cutler, I,...   \n",
       "\n",
       "                                        LOC-nerenglarge  \\\n",
       "0     [Currituck County, State of North Carolina, Un...   \n",
       "1               [North Carolina, United States, States]   \n",
       "2     [Craven County, State of NorthCarolina, United...   \n",
       "3             [State of, North Carolina, United States]   \n",
       "4     [State of, North Carolina, Wake County, United...   \n",
       "...                                                 ...   \n",
       "2131  [Raleigh, N.C., Wake County, State of N.C, Uni...   \n",
       "2132                                                 []   \n",
       "2133  [State of, North Carolina, Robeson County, Uni...   \n",
       "2134  [State of North Carolina, New Hanover County, ...   \n",
       "2135  [City of Wilmington, N.C, United States, North...   \n",
       "\n",
       "                                        ORG-nerenglarge  \n",
       "0                                        [Constitution]  \n",
       "1                 [Department of Virginia, OATH PAROLE]  \n",
       "2                                        [Constitution]  \n",
       "3                                        [Constitution]  \n",
       "4                            [Constitution, Res . Corp]  \n",
       "...                                                 ...  \n",
       "2131                                                 []  \n",
       "2132                                                 []  \n",
       "2133                                     [Constitution]  \n",
       "2134  [Fulton Price, Confederate Government, Court o...  \n",
       "2135                    [NARA, Constitution of, Slaves]  \n",
       "\n",
       "[2136 rows x 4 columns]"
      ]
     },
     "execution_count": 22,
     "metadata": {},
     "output_type": "execute_result"
    }
   ],
   "source": [
    "dflarge"
   ]
  },
  {
   "cell_type": "markdown",
   "id": "fbc5ec9f",
   "metadata": {
    "papermill": {
     "duration": 0.025869,
     "end_time": "2022-06-11T01:59:56.694138",
     "exception": false,
     "start_time": "2022-06-11T01:59:56.668269",
     "status": "completed"
    },
    "tags": []
   },
   "source": [
    "tagger 2 ontonotes"
   ]
  },
  {
   "cell_type": "code",
   "execution_count": 23,
   "id": "7eb17ae2",
   "metadata": {
    "execution": {
     "iopub.execute_input": "2022-06-11T01:59:56.747492Z",
     "iopub.status.busy": "2022-06-11T01:59:56.747087Z",
     "iopub.status.idle": "2022-06-11T02:01:59.425303Z",
     "shell.execute_reply": "2022-06-11T02:01:59.424426Z"
    },
    "papermill": {
     "duration": 122.707826,
     "end_time": "2022-06-11T02:01:59.427895",
     "exception": false,
     "start_time": "2022-06-11T01:59:56.720069",
     "status": "completed"
    },
    "tags": []
   },
   "outputs": [],
   "source": [
    "listoto=[]\n",
    "label=[]\n",
    "Per=[]\n",
    "Date=[]\n",
    "GPE=[]\n",
    "ORG=[]\n",
    "from flair.data import Sentence\n",
    "\n",
    "aldf=pd.DataFrame({\"text\":\"\", \"PERSON-ontonotes\":[], \"GPE-ontonotes\":\"\",\"ORG-ontonotes\":\"\", \"Date-ontonotes\":\"\"})\n",
    "for i in range(2136):\n",
    "        sentencess =Sentence(all_text[i])\n",
    "        aldf.loc[i,\"text\"]=all_text[i]\n",
    "        tagger.predict(sentencess)\n",
    "        dc={}\n",
    "        P=[]\n",
    "        D=[]\n",
    "        G=[]\n",
    "        O=[]\n",
    "        for entity in sentencess.get_spans('ner'):\n",
    "                     \n",
    "                     if (entity.get_label(\"ner\").score > 0.98) & (entity.get_label(\"ner\").value != \"CARDINAL\") & (entity.get_label(\"ner\").value != \"LAW\")& (entity.get_label(\"ner\").value != \"QUANTITY\") & (entity.get_label(\"ner\").value != \"WORK_OF_ART\") & (entity.get_label(\"ner\").value != \"LAW\")& (entity.get_label(\"ner\").value != \"QUANTITY\") & (entity.get_label(\"ner\").value != \"EVENT\")  :\n",
    "                        dc[entity.text]= entity.get_label(\"ner\").value \n",
    "                        listoto.append(entity)\n",
    "        \n",
    "        \n",
    "        for j in dc :\n",
    "                if dc[j]==\"PERSON\":\n",
    "                      P.append(j)\n",
    "                elif dc[j]==\"ORG\":\n",
    "                      O.append(j)\n",
    "                elif dc[j]==\"DATE\":\n",
    "                      D.append(j)\n",
    "                elif dc[j]==\"GPE\":\n",
    "                      G.append(j)\n",
    "        Per.append(P)\n",
    "        Date.append(D)\n",
    "        ORG.append(O)\n",
    "        GPE.append(G)\n",
    "            \n",
    "aldf[\"Date-ontonotes\"]=Date\n",
    "aldf[\"PERSON-ontonotes\"]=Per\n",
    "aldf[\"GPE-ontonotes\"]=GPE\n",
    "aldf[\"ORG-ontonotes\"]=ORG    "
   ]
  },
  {
   "cell_type": "code",
   "execution_count": 24,
   "id": "8b847767",
   "metadata": {
    "execution": {
     "iopub.execute_input": "2022-06-11T02:01:59.482658Z",
     "iopub.status.busy": "2022-06-11T02:01:59.482319Z",
     "iopub.status.idle": "2022-06-11T02:01:59.487349Z",
     "shell.execute_reply": "2022-06-11T02:01:59.486629Z"
    },
    "papermill": {
     "duration": 0.03447,
     "end_time": "2022-06-11T02:01:59.489299",
     "exception": false,
     "start_time": "2022-06-11T02:01:59.454829",
     "status": "completed"
    },
    "tags": []
   },
   "outputs": [
    {
     "data": {
      "text/plain": [
       "(2136, 5)"
      ]
     },
     "execution_count": 24,
     "metadata": {},
     "output_type": "execute_result"
    }
   ],
   "source": [
    "aldf.shape"
   ]
  },
  {
   "cell_type": "code",
   "execution_count": 25,
   "id": "18c9c4bb",
   "metadata": {
    "execution": {
     "iopub.execute_input": "2022-06-11T02:01:59.542590Z",
     "iopub.status.busy": "2022-06-11T02:01:59.541951Z",
     "iopub.status.idle": "2022-06-11T02:01:59.558970Z",
     "shell.execute_reply": "2022-06-11T02:01:59.558188Z"
    },
    "papermill": {
     "duration": 0.045072,
     "end_time": "2022-06-11T02:01:59.560708",
     "exception": false,
     "start_time": "2022-06-11T02:01:59.515636",
     "status": "completed"
    },
    "tags": []
   },
   "outputs": [
    {
     "data": {
      "text/html": [
       "<div>\n",
       "<style scoped>\n",
       "    .dataframe tbody tr th:only-of-type {\n",
       "        vertical-align: middle;\n",
       "    }\n",
       "\n",
       "    .dataframe tbody tr th {\n",
       "        vertical-align: top;\n",
       "    }\n",
       "\n",
       "    .dataframe thead th {\n",
       "        text-align: right;\n",
       "    }\n",
       "</style>\n",
       "<table border=\"1\" class=\"dataframe\">\n",
       "  <thead>\n",
       "    <tr style=\"text-align: right;\">\n",
       "      <th></th>\n",
       "      <th>text</th>\n",
       "      <th>PERSON-ontonotes</th>\n",
       "      <th>GPE-ontonotes</th>\n",
       "      <th>ORG-ontonotes</th>\n",
       "      <th>Date-ontonotes</th>\n",
       "    </tr>\n",
       "  </thead>\n",
       "  <tbody>\n",
       "    <tr>\n",
       "      <th>0</th>\n",
       "      <td>I , I C Meekins , of Currituck County , State ...</td>\n",
       "      <td>[I C Meekins, Isaac C. Meekins, E H Walker, Jo...</td>\n",
       "      <td>[Currituck County ,]</td>\n",
       "      <td>[]</td>\n",
       "      <td>[16 day of Sept A.D . , 1865]</td>\n",
       "    </tr>\n",
       "    <tr>\n",
       "      <th>1</th>\n",
       "      <td>Department of Virginia North Carolina , 1864. ...</td>\n",
       "      <td>[]</td>\n",
       "      <td>[North Carolina, United States, States]</td>\n",
       "      <td>[Department of Virginia, State]</td>\n",
       "      <td>[1864]</td>\n",
       "    </tr>\n",
       "    <tr>\n",
       "      <th>2</th>\n",
       "      <td>I , W. H. Pearce , of Craven County , State of...</td>\n",
       "      <td>[W. H. Pearce, W . H. Pearce]</td>\n",
       "      <td>[]</td>\n",
       "      <td>[]</td>\n",
       "      <td>[3rd day of October , A.D. , 1865]</td>\n",
       "    </tr>\n",
       "    <tr>\n",
       "      <th>3</th>\n",
       "      <td>State of North Carolina , ________ County . I ...</td>\n",
       "      <td>[]</td>\n",
       "      <td>[North Carolina, United States]</td>\n",
       "      <td>[]</td>\n",
       "      <td>[______ day of ____________ , 1866]</td>\n",
       "    </tr>\n",
       "    <tr>\n",
       "      <th>4</th>\n",
       "      <td>State of North Carolina , Wake County . I , S....</td>\n",
       "      <td>[S.E . Allen]</td>\n",
       "      <td>[North Carolina, Wake County, United States]</td>\n",
       "      <td>[]</td>\n",
       "      <td>[31st day of May , 1867]</td>\n",
       "    </tr>\n",
       "  </tbody>\n",
       "</table>\n",
       "</div>"
      ],
      "text/plain": [
       "                                                text  \\\n",
       "0  I , I C Meekins , of Currituck County , State ...   \n",
       "1  Department of Virginia North Carolina , 1864. ...   \n",
       "2  I , W. H. Pearce , of Craven County , State of...   \n",
       "3  State of North Carolina , ________ County . I ...   \n",
       "4  State of North Carolina , Wake County . I , S....   \n",
       "\n",
       "                                    PERSON-ontonotes  \\\n",
       "0  [I C Meekins, Isaac C. Meekins, E H Walker, Jo...   \n",
       "1                                                 []   \n",
       "2                      [W. H. Pearce, W . H. Pearce]   \n",
       "3                                                 []   \n",
       "4                                      [S.E . Allen]   \n",
       "\n",
       "                                  GPE-ontonotes  \\\n",
       "0                          [Currituck County ,]   \n",
       "1       [North Carolina, United States, States]   \n",
       "2                                            []   \n",
       "3               [North Carolina, United States]   \n",
       "4  [North Carolina, Wake County, United States]   \n",
       "\n",
       "                     ORG-ontonotes                       Date-ontonotes  \n",
       "0                               []        [16 day of Sept A.D . , 1865]  \n",
       "1  [Department of Virginia, State]                               [1864]  \n",
       "2                               []   [3rd day of October , A.D. , 1865]  \n",
       "3                               []  [______ day of ____________ , 1866]  \n",
       "4                               []             [31st day of May , 1867]  "
      ]
     },
     "execution_count": 25,
     "metadata": {},
     "output_type": "execute_result"
    }
   ],
   "source": [
    "aldf.head()"
   ]
  },
  {
   "cell_type": "code",
   "execution_count": 26,
   "id": "947729f5",
   "metadata": {
    "execution": {
     "iopub.execute_input": "2022-06-11T02:01:59.613486Z",
     "iopub.status.busy": "2022-06-11T02:01:59.613211Z",
     "iopub.status.idle": "2022-06-11T02:01:59.617812Z",
     "shell.execute_reply": "2022-06-11T02:01:59.617070Z"
    },
    "papermill": {
     "duration": 0.033011,
     "end_time": "2022-06-11T02:01:59.619643",
     "exception": false,
     "start_time": "2022-06-11T02:01:59.586632",
     "status": "completed"
    },
    "tags": []
   },
   "outputs": [
    {
     "data": {
      "text/plain": [
       "(2136, 5)"
      ]
     },
     "execution_count": 26,
     "metadata": {},
     "output_type": "execute_result"
    }
   ],
   "source": [
    "aldf.shape"
   ]
  },
  {
   "cell_type": "code",
   "execution_count": 27,
   "id": "17749ccc",
   "metadata": {
    "execution": {
     "iopub.execute_input": "2022-06-11T02:01:59.672801Z",
     "iopub.status.busy": "2022-06-11T02:01:59.672527Z",
     "iopub.status.idle": "2022-06-11T02:01:59.680917Z",
     "shell.execute_reply": "2022-06-11T02:01:59.680222Z"
    },
    "papermill": {
     "duration": 0.036826,
     "end_time": "2022-06-11T02:01:59.682525",
     "exception": false,
     "start_time": "2022-06-11T02:01:59.645699",
     "status": "completed"
    },
    "tags": []
   },
   "outputs": [
    {
     "data": {
      "text/plain": [
       "4887"
      ]
     },
     "execution_count": 27,
     "metadata": {},
     "output_type": "execute_result"
    }
   ],
   "source": [
    "\n",
    "LDate=[]\n",
    "for i in aldf[\"Date-ontonotes\"]:\n",
    "    for j in i:\n",
    "        LDate.append(j)\n",
    "len(LDate)"
   ]
  },
  {
   "cell_type": "markdown",
   "id": "09f356d7",
   "metadata": {
    "papermill": {
     "duration": 0.029647,
     "end_time": "2022-06-11T02:01:59.738044",
     "exception": false,
     "start_time": "2022-06-11T02:01:59.708397",
     "status": "completed"
    },
    "tags": []
   },
   "source": [
    "**5000 dates**"
   ]
  },
  {
   "cell_type": "markdown",
   "id": "566a7d8e",
   "metadata": {
    "papermill": {
     "duration": 0.025796,
     "end_time": "2022-06-11T02:01:59.789807",
     "exception": false,
     "start_time": "2022-06-11T02:01:59.764011",
     "status": "completed"
    },
    "tags": []
   },
   "source": [
    "# Post processing"
   ]
  },
  {
   "cell_type": "markdown",
   "id": "9863b7b1",
   "metadata": {
    "papermill": {
     "duration": 0.026163,
     "end_time": "2022-06-11T02:01:59.842431",
     "exception": false,
     "start_time": "2022-06-11T02:01:59.816268",
     "status": "completed"
    },
    "tags": []
   },
   "source": [
    "**For dates**"
   ]
  },
  {
   "cell_type": "code",
   "execution_count": 28,
   "id": "8cc67554",
   "metadata": {
    "execution": {
     "iopub.execute_input": "2022-06-11T02:01:59.898570Z",
     "iopub.status.busy": "2022-06-11T02:01:59.897665Z",
     "iopub.status.idle": "2022-06-11T02:01:59.964897Z",
     "shell.execute_reply": "2022-06-11T02:01:59.963995Z"
    },
    "papermill": {
     "duration": 0.097583,
     "end_time": "2022-06-11T02:01:59.967354",
     "exception": false,
     "start_time": "2022-06-11T02:01:59.869771",
     "status": "completed"
    },
    "tags": []
   },
   "outputs": [],
   "source": [
    "G=[]\n",
    "for i in aldf[\"Date-ontonotes\"]:\n",
    "    M=[]\n",
    "    for j in i:\n",
    "        date=re.search(r'^\\d\\.*.*\\d\\d$' ,j)\n",
    "        date2=re.search(r'^[A-ZZa-z]\\.*.*\\d\\.*.*\\d\\d$' ,j)\n",
    "        M.append(date)\n",
    "        M.append(date2)\n",
    "    G.append(M)\n",
    "    \n",
    "\n",
    "GF=[]\n",
    "for i in G:\n",
    "    Final_date=[]\n",
    "    for j in i:\n",
    "        if j!=None:\n",
    "            Final_date.append(j.group())\n",
    "    GF.append(Final_date)\n",
    "\n",
    "    \n",
    "aldf[\"postDate-ontonotes\"]=GF\n",
    "            \n",
    "            \n",
    "        "
   ]
  },
  {
   "cell_type": "markdown",
   "id": "6db27426",
   "metadata": {
    "papermill": {
     "duration": 0.026992,
     "end_time": "2022-06-11T02:02:00.022953",
     "exception": false,
     "start_time": "2022-06-11T02:01:59.995961",
     "status": "completed"
    },
    "tags": []
   },
   "source": [
    "# Run this to see the extracted dates before filtring them "
   ]
  },
  {
   "cell_type": "code",
   "execution_count": 29,
   "id": "a8a67a7f",
   "metadata": {
    "execution": {
     "iopub.execute_input": "2022-06-11T02:02:00.076619Z",
     "iopub.status.busy": "2022-06-11T02:02:00.076261Z",
     "iopub.status.idle": "2022-06-11T02:02:00.079869Z",
     "shell.execute_reply": "2022-06-11T02:02:00.079147Z"
    },
    "papermill": {
     "duration": 0.032793,
     "end_time": "2022-06-11T02:02:00.081690",
     "exception": false,
     "start_time": "2022-06-11T02:02:00.048897",
     "status": "completed"
    },
    "tags": []
   },
   "outputs": [],
   "source": [
    "#GF"
   ]
  },
  {
   "cell_type": "code",
   "execution_count": 30,
   "id": "f953ff60",
   "metadata": {
    "execution": {
     "iopub.execute_input": "2022-06-11T02:02:00.135373Z",
     "iopub.status.busy": "2022-06-11T02:02:00.135050Z",
     "iopub.status.idle": "2022-06-11T02:02:00.274257Z",
     "shell.execute_reply": "2022-06-11T02:02:00.273419Z"
    },
    "papermill": {
     "duration": 0.168765,
     "end_time": "2022-06-11T02:02:00.276336",
     "exception": false,
     "start_time": "2022-06-11T02:02:00.107571",
     "status": "completed"
    },
    "tags": []
   },
   "outputs": [],
   "source": [
    "G=[]\n",
    "for i in aldf[\"postDate-ontonotes\"]:\n",
    "    M=[]\n",
    "    for j in i:\n",
    "        Final_date1=re.sub(r'([0-9]{1,2})\\.*.*\\s([A-Z][a-z]\\S*)\\.*.*\\s([0-9]{2,4})',r'\\1-\\2-\\3' ,j)\n",
    "        Final_date2=re.sub(r'([A-Z]\\.*.*)\\s([0-9]{1,2})\\.*.*\\s([0-9]{2,4})',r'\\2-\\1-\\3' ,j)\n",
    "        final_date3=re.sub(r'([A-Z][a-z]\\S*)\\.*.*\\s([A-Z][a-z]\\S*)\\.*.*\\s([0-9]{2,4})',r'\\1-\\2-\\3' ,j)\n",
    "        final_date4=re.sub(r'(^[A-Za-z]\\S*.*.)day\\.*.*\\s([A-Z][a-z]\\S*)\\.*.*\\s([0-9]{2,4})',r'\\1-\\2-\\3' ,j)\n",
    "        if Final_date1 != j:   \n",
    "            M.append(Final_date1)\n",
    "        if Final_date2 != j :\n",
    "            M.append(Final_date2)\n",
    "        if final_date3 != j :\n",
    "            M.append(final_date3)\n",
    "        if final_date4 != j :\n",
    "            M.append(final_date4)\n",
    "    G.append(M)\n",
    "    \n",
    "\n",
    "aldf[\"postDate-ontonotes\"]=G"
   ]
  },
  {
   "cell_type": "markdown",
   "id": "264ff45f",
   "metadata": {
    "papermill": {
     "duration": 0.026248,
     "end_time": "2022-06-11T02:02:00.329156",
     "exception": false,
     "start_time": "2022-06-11T02:02:00.302908",
     "status": "completed"
    },
    "tags": []
   },
   "source": [
    "**great !**"
   ]
  },
  {
   "cell_type": "markdown",
   "id": "18f1b9fb",
   "metadata": {
    "papermill": {
     "duration": 0.026694,
     "end_time": "2022-06-11T02:02:00.382039",
     "exception": false,
     "start_time": "2022-06-11T02:02:00.355345",
     "status": "completed"
    },
    "tags": []
   },
   "source": [
    "****"
   ]
  },
  {
   "cell_type": "markdown",
   "id": "51f30c0d",
   "metadata": {
    "papermill": {
     "duration": 0.026154,
     "end_time": "2022-06-11T02:02:00.435298",
     "exception": false,
     "start_time": "2022-06-11T02:02:00.409144",
     "status": "completed"
    },
    "tags": []
   },
   "source": [
    "****"
   ]
  },
  {
   "cell_type": "code",
   "execution_count": 31,
   "id": "31b1a054",
   "metadata": {
    "execution": {
     "iopub.execute_input": "2022-06-11T02:02:00.489076Z",
     "iopub.status.busy": "2022-06-11T02:02:00.488729Z",
     "iopub.status.idle": "2022-06-11T02:02:00.503721Z",
     "shell.execute_reply": "2022-06-11T02:02:00.503013Z"
    },
    "papermill": {
     "duration": 0.04418,
     "end_time": "2022-06-11T02:02:00.505507",
     "exception": false,
     "start_time": "2022-06-11T02:02:00.461327",
     "status": "completed"
    },
    "tags": []
   },
   "outputs": [
    {
     "data": {
      "text/html": [
       "<div>\n",
       "<style scoped>\n",
       "    .dataframe tbody tr th:only-of-type {\n",
       "        vertical-align: middle;\n",
       "    }\n",
       "\n",
       "    .dataframe tbody tr th {\n",
       "        vertical-align: top;\n",
       "    }\n",
       "\n",
       "    .dataframe thead th {\n",
       "        text-align: right;\n",
       "    }\n",
       "</style>\n",
       "<table border=\"1\" class=\"dataframe\">\n",
       "  <thead>\n",
       "    <tr style=\"text-align: right;\">\n",
       "      <th></th>\n",
       "      <th>text</th>\n",
       "      <th>PERSON-nerenglarge</th>\n",
       "      <th>LOC-nerenglarge</th>\n",
       "      <th>ORG-nerenglarge</th>\n",
       "    </tr>\n",
       "  </thead>\n",
       "  <tbody>\n",
       "    <tr>\n",
       "      <th>0</th>\n",
       "      <td>I , I C Meekins , of Currituck County , State ...</td>\n",
       "      <td>[I C Meekins, Almighty, God, Isaac C. Meekins,...</td>\n",
       "      <td>[Currituck County, State of North Carolina, Un...</td>\n",
       "      <td>[Constitution]</td>\n",
       "    </tr>\n",
       "    <tr>\n",
       "      <th>1</th>\n",
       "      <td>Department of Virginia North Carolina , 1864. ...</td>\n",
       "      <td>[]</td>\n",
       "      <td>[North Carolina, United States, States]</td>\n",
       "      <td>[Department of Virginia, OATH PAROLE]</td>\n",
       "    </tr>\n",
       "    <tr>\n",
       "      <th>2</th>\n",
       "      <td>I , W. H. Pearce , of Craven County , State of...</td>\n",
       "      <td>[W. H. Pearce, Almighty, God, E. Ampetts, W . ...</td>\n",
       "      <td>[Craven County, State of NorthCarolina, United...</td>\n",
       "      <td>[Constitution]</td>\n",
       "    </tr>\n",
       "    <tr>\n",
       "      <th>3</th>\n",
       "      <td>State of North Carolina , ________ County . I ...</td>\n",
       "      <td>[God]</td>\n",
       "      <td>[State of, North Carolina, United States]</td>\n",
       "      <td>[Constitution]</td>\n",
       "    </tr>\n",
       "    <tr>\n",
       "      <th>4</th>\n",
       "      <td>State of North Carolina , Wake County . I , S....</td>\n",
       "      <td>[S.E, God, T.D, McAlpine]</td>\n",
       "      <td>[State of, North Carolina, Wake County, United...</td>\n",
       "      <td>[Constitution, Res . Corp]</td>\n",
       "    </tr>\n",
       "  </tbody>\n",
       "</table>\n",
       "</div>"
      ],
      "text/plain": [
       "                                                text  \\\n",
       "0  I , I C Meekins , of Currituck County , State ...   \n",
       "1  Department of Virginia North Carolina , 1864. ...   \n",
       "2  I , W. H. Pearce , of Craven County , State of...   \n",
       "3  State of North Carolina , ________ County . I ...   \n",
       "4  State of North Carolina , Wake County . I , S....   \n",
       "\n",
       "                                  PERSON-nerenglarge  \\\n",
       "0  [I C Meekins, Almighty, God, Isaac C. Meekins,...   \n",
       "1                                                 []   \n",
       "2  [W. H. Pearce, Almighty, God, E. Ampetts, W . ...   \n",
       "3                                              [God]   \n",
       "4                          [S.E, God, T.D, McAlpine]   \n",
       "\n",
       "                                     LOC-nerenglarge  \\\n",
       "0  [Currituck County, State of North Carolina, Un...   \n",
       "1            [North Carolina, United States, States]   \n",
       "2  [Craven County, State of NorthCarolina, United...   \n",
       "3          [State of, North Carolina, United States]   \n",
       "4  [State of, North Carolina, Wake County, United...   \n",
       "\n",
       "                         ORG-nerenglarge  \n",
       "0                         [Constitution]  \n",
       "1  [Department of Virginia, OATH PAROLE]  \n",
       "2                         [Constitution]  \n",
       "3                         [Constitution]  \n",
       "4             [Constitution, Res . Corp]  "
      ]
     },
     "execution_count": 31,
     "metadata": {},
     "output_type": "execute_result"
    }
   ],
   "source": [
    "dflarge.head()"
   ]
  },
  {
   "cell_type": "code",
   "execution_count": 32,
   "id": "e801108c",
   "metadata": {
    "execution": {
     "iopub.execute_input": "2022-06-11T02:02:00.561292Z",
     "iopub.status.busy": "2022-06-11T02:02:00.560915Z",
     "iopub.status.idle": "2022-06-11T02:02:00.568776Z",
     "shell.execute_reply": "2022-06-11T02:02:00.568055Z"
    },
    "papermill": {
     "duration": 0.037779,
     "end_time": "2022-06-11T02:02:00.570587",
     "exception": false,
     "start_time": "2022-06-11T02:02:00.532808",
     "status": "completed"
    },
    "tags": []
   },
   "outputs": [],
   "source": [
    "aldf[\"Person-NerEngLarge\"]=dflarge[\"PERSON-nerenglarge\"]\n",
    "aldf[\"LOC-NerEngLarge\"]=dflarge[\"LOC-nerenglarge\"]\n",
    "aldf[\"ORG-NerEngLarge\"]=dflarge[\"ORG-nerenglarge\"]\n"
   ]
  },
  {
   "cell_type": "code",
   "execution_count": 33,
   "id": "ddaceedf",
   "metadata": {
    "execution": {
     "iopub.execute_input": "2022-06-11T02:02:00.626252Z",
     "iopub.status.busy": "2022-06-11T02:02:00.625727Z",
     "iopub.status.idle": "2022-06-11T02:02:00.636090Z",
     "shell.execute_reply": "2022-06-11T02:02:00.635327Z"
    },
    "papermill": {
     "duration": 0.039544,
     "end_time": "2022-06-11T02:02:00.637751",
     "exception": false,
     "start_time": "2022-06-11T02:02:00.598207",
     "status": "completed"
    },
    "tags": []
   },
   "outputs": [],
   "source": [
    "allPerson=[]\n",
    "for i in aldf[\"PERSON-ontonotes\"]:\n",
    "            allPerson.append(i)\n",
    "allDatess=[]\n",
    "for i in aldf[\"Date-ontonotes\"]:\n",
    "            allDatess.append(i)\n",
    "allpostdates=[]\n",
    "for i in aldf[\"postDate-ontonotes\"]:\n",
    "            allpostdates.append(i)\n",
    "allGPE=[]\n",
    "for i in aldf[\"GPE-ontonotes\"]:\n",
    "            allGPE.append(i)\n",
    "alORGl=[]\n",
    "for i in aldf[\"ORG-ontonotes\"]:\n",
    "            alORGl.append(i)"
   ]
  },
  {
   "cell_type": "markdown",
   "id": "cdf99e21",
   "metadata": {
    "papermill": {
     "duration": 0.027298,
     "end_time": "2022-06-11T02:02:00.691336",
     "exception": false,
     "start_time": "2022-06-11T02:02:00.664038",
     "status": "completed"
    },
    "tags": []
   },
   "source": [
    "****"
   ]
  },
  {
   "cell_type": "code",
   "execution_count": 34,
   "id": "1d075cdc",
   "metadata": {
    "execution": {
     "iopub.execute_input": "2022-06-11T02:02:00.748084Z",
     "iopub.status.busy": "2022-06-11T02:02:00.747243Z",
     "iopub.status.idle": "2022-06-11T02:02:00.756120Z",
     "shell.execute_reply": "2022-06-11T02:02:00.755227Z"
    },
    "papermill": {
     "duration": 0.039157,
     "end_time": "2022-06-11T02:02:00.757827",
     "exception": false,
     "start_time": "2022-06-11T02:02:00.718670",
     "status": "completed"
    },
    "tags": []
   },
   "outputs": [],
   "source": [
    "Personlarge=[]\n",
    "for i in dflarge[\"PERSON-nerenglarge\"]:\n",
    "            Personlarge.append(i)\n",
    "ORGlarge=[]\n",
    "for i in dflarge[\"ORG-nerenglarge\"]:\n",
    "            ORGlarge.append(i) \n",
    "LOClarge=[]\n",
    "for i in dflarge[\"LOC-nerenglarge\"]:\n",
    "            LOClarge.append(i)"
   ]
  },
  {
   "cell_type": "markdown",
   "id": "64af8dd6",
   "metadata": {
    "papermill": {
     "duration": 0.026565,
     "end_time": "2022-06-11T02:02:00.811265",
     "exception": false,
     "start_time": "2022-06-11T02:02:00.784700",
     "status": "completed"
    },
    "tags": []
   },
   "source": [
    "* as usual , ner English Large is better in extracting Person \n",
    "* ontonotes is thes best in extracting dates after good postprocessing and filtring almost all pattern \n",
    "* ner Engish Large  also better in Location and Oranization "
   ]
  },
  {
   "cell_type": "markdown",
   "id": "067bdeeb",
   "metadata": {
    "papermill": {
     "duration": 0.026811,
     "end_time": "2022-06-11T02:02:00.864997",
     "exception": false,
     "start_time": "2022-06-11T02:02:00.838186",
     "status": "completed"
    },
    "tags": []
   },
   "source": [
    "# Person Large (without punct)"
   ]
  },
  {
   "cell_type": "code",
   "execution_count": 35,
   "id": "cc8ba209",
   "metadata": {
    "execution": {
     "iopub.execute_input": "2022-06-11T02:02:00.921322Z",
     "iopub.status.busy": "2022-06-11T02:02:00.920963Z",
     "iopub.status.idle": "2022-06-11T02:02:00.926133Z",
     "shell.execute_reply": "2022-06-11T02:02:00.925433Z"
    },
    "papermill": {
     "duration": 0.035505,
     "end_time": "2022-06-11T02:02:00.928096",
     "exception": false,
     "start_time": "2022-06-11T02:02:00.892591",
     "status": "completed"
    },
    "tags": []
   },
   "outputs": [
    {
     "data": {
      "text/plain": [
       "'I , I C Meekins , of Currituck County , State of North Carolina , solemnly swear affirm , presence of Almighty God , I henceforth faithfully support , protect defend Constitution of United States Union of States thereunder ; I , like manner , abide faithfully support law proclamation made existing rebellion reference emancipation of slave . So help God . Isaac C. Meekins Sworn subscribed 16 day of Sept A.D. , 1865 , E H Walker , J.P . It hereby certified true copy of original oath taken subscribed I C Meekins E H Walker , J.P. John B Etheridge , J.P .'"
      ]
     },
     "execution_count": 35,
     "metadata": {},
     "output_type": "execute_result"
    }
   ],
   "source": [
    "all_text[0]"
   ]
  },
  {
   "cell_type": "code",
   "execution_count": 36,
   "id": "77d68f4e",
   "metadata": {
    "execution": {
     "iopub.execute_input": "2022-06-11T02:02:00.983657Z",
     "iopub.status.busy": "2022-06-11T02:02:00.982945Z",
     "iopub.status.idle": "2022-06-11T02:02:00.990693Z",
     "shell.execute_reply": "2022-06-11T02:02:00.989890Z"
    },
    "papermill": {
     "duration": 0.036919,
     "end_time": "2022-06-11T02:02:00.992449",
     "exception": false,
     "start_time": "2022-06-11T02:02:00.955530",
     "status": "completed"
    },
    "tags": []
   },
   "outputs": [],
   "source": [
    "PL=[]\n",
    "for i in Personlarge:\n",
    "    for j in i:\n",
    "        PL.append(j)"
   ]
  },
  {
   "cell_type": "code",
   "execution_count": 37,
   "id": "d893b4cc",
   "metadata": {
    "execution": {
     "iopub.execute_input": "2022-06-11T02:02:01.049640Z",
     "iopub.status.busy": "2022-06-11T02:02:01.049297Z",
     "iopub.status.idle": "2022-06-11T02:02:01.054675Z",
     "shell.execute_reply": "2022-06-11T02:02:01.053932Z"
    },
    "papermill": {
     "duration": 0.035737,
     "end_time": "2022-06-11T02:02:01.056549",
     "exception": false,
     "start_time": "2022-06-11T02:02:01.020812",
     "status": "completed"
    },
    "tags": []
   },
   "outputs": [
    {
     "data": {
      "text/plain": [
       "9512"
      ]
     },
     "execution_count": 37,
     "metadata": {},
     "output_type": "execute_result"
    }
   ],
   "source": [
    "len(PL)"
   ]
  },
  {
   "cell_type": "markdown",
   "id": "3dc407c7",
   "metadata": {
    "papermill": {
     "duration": 0.02904,
     "end_time": "2022-06-11T02:02:01.115350",
     "exception": false,
     "start_time": "2022-06-11T02:02:01.086310",
     "status": "completed"
    },
    "tags": []
   },
   "source": [
    "# Person ontonotes (without punct)"
   ]
  },
  {
   "cell_type": "code",
   "execution_count": 38,
   "id": "46c8a1f7",
   "metadata": {
    "execution": {
     "iopub.execute_input": "2022-06-11T02:02:01.174152Z",
     "iopub.status.busy": "2022-06-11T02:02:01.173783Z",
     "iopub.status.idle": "2022-06-11T02:02:01.181239Z",
     "shell.execute_reply": "2022-06-11T02:02:01.180305Z"
    },
    "papermill": {
     "duration": 0.039627,
     "end_time": "2022-06-11T02:02:01.183164",
     "exception": false,
     "start_time": "2022-06-11T02:02:01.143537",
     "status": "completed"
    },
    "tags": []
   },
   "outputs": [],
   "source": [
    "PAu=[]\n",
    "for i in allPerson:\n",
    "    for j in i:\n",
    "        PAu.append(j)"
   ]
  },
  {
   "cell_type": "code",
   "execution_count": 39,
   "id": "577a4235",
   "metadata": {
    "execution": {
     "iopub.execute_input": "2022-06-11T02:02:01.242874Z",
     "iopub.status.busy": "2022-06-11T02:02:01.242101Z",
     "iopub.status.idle": "2022-06-11T02:02:01.248161Z",
     "shell.execute_reply": "2022-06-11T02:02:01.247124Z"
    },
    "papermill": {
     "duration": 0.037373,
     "end_time": "2022-06-11T02:02:01.250060",
     "exception": false,
     "start_time": "2022-06-11T02:02:01.212687",
     "status": "completed"
    },
    "tags": []
   },
   "outputs": [
    {
     "data": {
      "text/plain": [
       "5393"
      ]
     },
     "execution_count": 39,
     "metadata": {},
     "output_type": "execute_result"
    }
   ],
   "source": [
    "len(PAu)"
   ]
  },
  {
   "cell_type": "markdown",
   "id": "d6e3e607",
   "metadata": {
    "papermill": {
     "duration": 0.031425,
     "end_time": "2022-06-11T02:02:01.312246",
     "exception": false,
     "start_time": "2022-06-11T02:02:01.280821",
     "status": "completed"
    },
    "tags": []
   },
   "source": [
    "****"
   ]
  },
  {
   "cell_type": "markdown",
   "id": "3780637f",
   "metadata": {
    "papermill": {
     "duration": 0.027569,
     "end_time": "2022-06-11T02:02:01.369972",
     "exception": false,
     "start_time": "2022-06-11T02:02:01.342403",
     "status": "completed"
    },
    "tags": []
   },
   "source": [
    "****"
   ]
  },
  {
   "cell_type": "markdown",
   "id": "2f1a0246",
   "metadata": {
    "papermill": {
     "duration": 0.028156,
     "end_time": "2022-06-11T02:02:01.427141",
     "exception": false,
     "start_time": "2022-06-11T02:02:01.398985",
     "status": "completed"
    },
    "tags": []
   },
   "source": [
    "# dates"
   ]
  },
  {
   "cell_type": "markdown",
   "id": "b4b0bfe0",
   "metadata": {
    "papermill": {
     "duration": 0.0282,
     "end_time": "2022-06-11T02:02:01.484207",
     "exception": false,
     "start_time": "2022-06-11T02:02:01.456007",
     "status": "completed"
    },
    "tags": []
   },
   "source": [
    "**run those cells to take a look at the result more clearly**"
   ]
  },
  {
   "cell_type": "code",
   "execution_count": 40,
   "id": "f783325b",
   "metadata": {
    "execution": {
     "iopub.execute_input": "2022-06-11T02:02:01.542744Z",
     "iopub.status.busy": "2022-06-11T02:02:01.542053Z",
     "iopub.status.idle": "2022-06-11T02:02:01.546162Z",
     "shell.execute_reply": "2022-06-11T02:02:01.545443Z"
    },
    "papermill": {
     "duration": 0.034585,
     "end_time": "2022-06-11T02:02:01.547853",
     "exception": false,
     "start_time": "2022-06-11T02:02:01.513268",
     "status": "completed"
    },
    "tags": []
   },
   "outputs": [],
   "source": [
    "#G"
   ]
  },
  {
   "cell_type": "code",
   "execution_count": 41,
   "id": "a476e433",
   "metadata": {
    "execution": {
     "iopub.execute_input": "2022-06-11T02:02:01.606816Z",
     "iopub.status.busy": "2022-06-11T02:02:01.605858Z",
     "iopub.status.idle": "2022-06-11T02:02:01.610516Z",
     "shell.execute_reply": "2022-06-11T02:02:01.609655Z"
    },
    "papermill": {
     "duration": 0.036144,
     "end_time": "2022-06-11T02:02:01.612369",
     "exception": false,
     "start_time": "2022-06-11T02:02:01.576225",
     "status": "completed"
    },
    "tags": []
   },
   "outputs": [],
   "source": [
    "# import pickle\n",
    "# my_pickled_list = pickle.dumps(listoto)  # Pickling the object\n",
    "# print(f\"This is my pickled object:\\n{my_pickled_list}\\n\")\n",
    "\n",
    "# my_pickled_list\n",
    "\n",
    "# my_unpickled_object = pickle.loads(my_pickled_list)  # Unpickling the object\n",
    "# print(\n",
    "#     f\"This is a_dict of the unpickled object:\\n{my_unpickled_object}\\n\")\n",
    "\n",
    "\n",
    "# my_unpickled_object"
   ]
  },
  {
   "cell_type": "markdown",
   "id": "f28b68e7",
   "metadata": {
    "papermill": {
     "duration": 0.028215,
     "end_time": "2022-06-11T02:02:01.669650",
     "exception": false,
     "start_time": "2022-06-11T02:02:01.641435",
     "status": "completed"
    },
    "tags": []
   },
   "source": [
    "# standardizing dates without punct"
   ]
  },
  {
   "cell_type": "code",
   "execution_count": 42,
   "id": "e625cb98",
   "metadata": {
    "execution": {
     "iopub.execute_input": "2022-06-11T02:02:01.729236Z",
     "iopub.status.busy": "2022-06-11T02:02:01.728893Z",
     "iopub.status.idle": "2022-06-11T02:02:01.826883Z",
     "shell.execute_reply": "2022-06-11T02:02:01.825915Z"
    },
    "papermill": {
     "duration": 0.131441,
     "end_time": "2022-06-11T02:02:01.829235",
     "exception": false,
     "start_time": "2022-06-11T02:02:01.697794",
     "status": "completed"
    },
    "tags": []
   },
   "outputs": [],
   "source": [
    "NG=[]\n",
    "for i in G:\n",
    "    ng=[]\n",
    "    for j in i:\n",
    "        \n",
    "        date=re.findall(r'([0-9]{1,2})-([A-Z][a-z]\\S*)-([0-9]{2,4})',j)\n",
    "        if date !=[]:\n",
    "            dates=[]\n",
    "            for k in date:\n",
    "                for l in k:\n",
    "                    dates.append(l)\n",
    "                \n",
    "                \n",
    "                if dates[1] in [\"August\",\"Aug\",\"augt\",\"AUGUST\",\"Augst\",\"Augt\",\"AUG\",\"Augusta\",\"Aug.\"]:\n",
    "                    dates[1]= \"August\"\n",
    "                elif dates[1] in [\"September\",\"Sept\",\"SEP\",\"Sep\",\"Septr\",\"SEPTEMBER\",'Sepr','Septh',\"Sep.\"]:\n",
    "                    dates[1]= \"Septembre\"\n",
    "                elif dates[1] in [\"October\",\"Oct\",\"OCT\",\"OCTOBER\"]:\n",
    "                    dates[1]= \"October\"\n",
    "                elif dates[1] in [\"November\",\"NOV\",\"Nov\",\"Novmbr\",\"Nvbr\",\"Novb\",\"NOVEMBER\", \"The\",\"Dec\"]:\n",
    "                    dates[1]= \"November\"\n",
    "                elif dates[1] in [\"December\",\"Dec\",\"Decbr\",\"DEC\",\"DECEMBER\",\"Decber\"]:\n",
    "                    dates[1]= \"December\"\n",
    "                elif dates[1] in [\"January\",\"Janry\",\"Jan\",\"Jany\",\"JAN\",\"Janur\",\"JANUARY\"]:\n",
    "                    dates[1]= \"January\"\n",
    "                elif dates[1] in [\"February\",\"Feby\",\"Febry\",\"FEB\",\"FEBRUARY\",\"Feb\"]:\n",
    "                    dates[1]= \"February\"\n",
    "                elif dates[1] in [\"March\",\"Mar\"]:\n",
    "                    dates[1]= \"March\"\n",
    "                elif dates[1] in [\"April\",\"Apl\",\"Aprl\",\"APRIL\",\"Apr\"]:\n",
    "                    dates[1]= \"April\"\n",
    "                elif dates[1] in [\"May\",\"MAY\"]:\n",
    "                    dates[1]= \"May\"\n",
    "                elif dates[1] in [\"JUN\",\"Jun\",\"June\"]:\n",
    "                    dates[1]= \"June\"\n",
    "                elif dates[1] in [\"JULY\",\"July\",\"JUL\"]:\n",
    "                    dates[1]= \"July\"\n",
    "                j = dates[0]+\"-\"+dates[1]+\"-\"+dates[2]\n",
    "                ng.append(j)\n",
    "        else :\n",
    "                date = re.findall(r'(^[A-Za-z]\\S*.*.)-([A-Z][a-z]\\S*)-([0-9]{2,4})',j ) \n",
    "                dates=[]\n",
    "                for k in date:\n",
    "                    for l in k:\n",
    "                        dates.append(l)\n",
    "                \n",
    "                \n",
    "                    if dates[1] in [\"August\",\"Aug\",\"augt\",\"AUGUST\",\"Augst\",'Augt',\"AUG\",\"Augusta\",\"Aug.\"]:\n",
    "                        dates[1]= \"August\"\n",
    "                    elif dates[1] in [\"September\",\"Sept\",\"SEP\",\"Sep\",\"Septr\",\"SEPTEMBER\",\"Sepr\",\"Septh\", \"This\", \"This \",\"Sept.\",\"Sep.\"]:\n",
    "                        dates[1]= \"Septembre\"\n",
    "                    elif dates[1] in [\"October\",\"Oct\",\"OCT\",\"OCTOBER\"]:\n",
    "                        dates[1]= \"October\"\n",
    "                    elif dates[1] in [\"November\",\"NOV\",\"Nov\",\"Novmbr\",\"Nvbr\",\"Novb\",\"NOVEMBER\"]:\n",
    "                        dates[1]= \"November\"\n",
    "                    elif dates[1] in [\"December\",\"Dec\",\"Decbr\",\"DEC\",\"DECEMBER\",\"Decber\",\"Dec.\"]:\n",
    "                        dates[1]= \"December\"\n",
    "                    elif dates[1] in [\"January\",\"Janry\",\"Jan\",\"Jany\",\"JAN\",\"Janur\",\"JANUARY\"]:\n",
    "                        dates[1]= \"January\"\n",
    "                    elif dates[1] in [\"February\",\"Feby\",\"Febry\",\"FEB\",\"FEBRUARY\",\"Feb\"]:\n",
    "                        dates[1]= \"February\"\n",
    "                    elif dates[1] in [\"March\",\"Mar\"]:\n",
    "                        dates[1]= \"March\"\n",
    "                    elif dates[1] in [\"April\",\"Apl\",\"Aprl\",\"APRIL\",\"Apr\"]:\n",
    "                        dates[1]= \"April\"\n",
    "                    elif dates[1] in [\"May\",\"MAY\"]:\n",
    "                        dates[1]= \"May\"\n",
    "                    elif dates[1] in [\"JUN\",\"Jun\",\"June\"]:\n",
    "                        dates[1]= \"June\"\n",
    "                    elif dates[1] in [\"JULY\",\"July\",\"JUL\"]:\n",
    "                        dates[1]= \"July\"\n",
    "                    if dates[0]== \"fifteenth\" :\n",
    "                        dates[0]=\"15\"\n",
    "                    elif (dates[0]==\"sixteenth\") |(dates[0]==\"This 16 \"):\n",
    "                        dates[0]=\"16\"\n",
    "                    elif dates[0]==\"Twenty\":\n",
    "                        dates[0]=\"20\" \n",
    "                    elif dates[0]==\"Twentyseventh\":\n",
    "                        dates[0]=\"27\" \n",
    "                    elif (dates[0]==\"Twenty Eighth\") |(dates[0]==\"TwentyEight\") |(dates[0]==\"TwentyEight \") |(dates[0]==\"Twentyeight\"):\n",
    "                        dates[0]=\"28\"\n",
    "                    elif (dates[0]==\"Ninth\") |(dates[0]==\"Ninth \")|(dates[0]==\"Augusta 9th \") |(dates[0]==\"ninth\") |(dates[0]==\"ninth \")|(dates[0]==\"Augusta 9th\"):\n",
    "                        dates[0]=\"9\"\n",
    "                    \n",
    "                    elif dates[0]=='Seventh':\n",
    "                        dates[0]=\"7\" \n",
    "                    elif (dates[0]=='The') |(dates[0]==\"The 9th\") :\n",
    "                        dates[0]=\"9\"\n",
    "                    elif dates[0]==\"the 9\" :\n",
    "                        dates[0]=\"9\"\n",
    "                    elif (dates[0]==\"Eighth \") |(dates[0]==\"Eighth\") |(dates[0]==\"eighth\") |(dates[0]==\"eighth \"):\n",
    "                        dates[0]=\"8\"\n",
    "                    elif dates[0]==\"Seventh \":\n",
    "                        dates[0]=\"7\"\n",
    "                    elif (dates[0]==\"Twenty ninth \")| (dates[0]==\"Twenty ninth\") | (dates[0]==\"twenty ninth \")|(dates[0]==\"Twenty Ninth \")|(dates[0]==\"Twenty Ninth\") :\n",
    "                        dates[0]=\"29\"\n",
    "                    elif (dates[0]==\"Thirty\") |(dates[0]==\"Thirty \") | (dates[0]==\"thirtieth \"):\n",
    "                        dates[0]=\"30\"\n",
    "                    elif (dates[0]==\"Thirty first \") |(dates[0]==\"Thirty first\"):\n",
    "                        dates[0]=\"31\"\n",
    "                  \n",
    "                    \n",
    "                    elif dates[0]==\"first \":\n",
    "                        dates[0]=\"1\"\n",
    "                    elif (dates[0]==\"Second \") |(dates[0]==\"Second\") |(dates[0]==\"second\")|(dates[0]==\"second \"):\n",
    "                        dates[0]=\"2\"\n",
    "                    elif dates[0]==\"fourth \":\n",
    "                        dates[0]=\"4\"\n",
    "                    elif dates[0]==\"tenth \":\n",
    "                        dates[0]=\"10\"\n",
    "                    elif (dates[0]==\"Fifth \")|(dates[0]==\"Fifth\") |(dates[0]==\"fifth \")|(dates[0]==\"fifth\"):\n",
    "                        dates[0]=\"5\"\n",
    "                    elif (dates[0]==\"This\") | (dates[0]==\"This 7th \")|(dates[0]==\"seventh \") |(dates[0]==\"seventh\") |(dates[0]==\"Seventh \"):\n",
    "                        dates[0]=\"7\"\n",
    "                    elif (dates[0]==\"This 31st\") |(dates[0]==\"Thirty-first \"):\n",
    "                        dates[0]=\"31\"\n",
    "                    elif (dates[0]==\"Thirtieth\") |(dates[0]==\"Thirtieth \") |(dates[0]==\"Thirty\"):\n",
    "                        dates[0]=\"30\"\n",
    "                    elif dates[0]==\"twenty fifth \":\n",
    "                        dates[0]=\"25\"\n",
    "                    elif dates[0]==\"Twenty seventh \":\n",
    "                        dates[0]=\"27\"\n",
    "                    elif (dates[0]==\"Twenty sixth \") |(dates[0]==\"Twentysixth \")|(dates[0]==\"Twentysixth\") |(dates[0]==\"twentysixth \"):\n",
    "                        dates[0]=\"26\"\n",
    "                    elif dates[0]==\"third \":\n",
    "                        dates[0]=\"3\" \n",
    "                    elif dates[0]==\"third\":\n",
    "                        dates[0]=\"3\"\n",
    "                    elif dates[0]==\"Third \":\n",
    "                        dates[0]=\"3\"\n",
    "                    elif dates[0]==\"Third\":\n",
    "                        dates[0]=\"3\"\n",
    "                    \n",
    "                    elif dates[0]==\"Tenth\":\n",
    "                        dates[0]=\"10\" \n",
    "                    elif dates[0]==\"Augusta\":\n",
    "                        dates[0]=\"9\" \n",
    "                    elif (dates[0]==\"this_sixth \")|(dates[0]==\"sixth \")| (dates[0]==\"Sixth\") | (dates[0]==\"Sixth \") |(dates[0]==\"this sixth \"):\n",
    "                        dates[0]=\"6\" \n",
    "                        \n",
    "                    elif dates[0]==\"Tenth \":\n",
    "                        dates[0]=\"10\"\n",
    "                    elif (dates[0]==\"twentieth\")|(dates[0]==\"This 20th \"):\n",
    "                        dates[0]=\"20\"\n",
    "                    elif (dates[0]==\"twenty fourth \") |(dates[0]==\"twenty fourth\") |(dates[0]==\"Twenty fourth \") |(dates[0]==\"Twenty fourth\"):\n",
    "                        dates[0]=\"24\"\n",
    "                    elif (dates[0]==\"fifteenth \") |(dates[0]==\"Fifteenth \") |(dates[0]==\"Fifteenth\"):\n",
    "                        dates[0]=\"15\"\n",
    "                    elif dates[0]==\"twentieth \":\n",
    "                        dates[0]=\"20\"\n",
    "                    elif dates[0]==\"Eighteenth \":\n",
    "                        dates[0]=\"18\"\n",
    "                    elif dates[0]==\"Eighteenth\":\n",
    "                        dates[0]=\"18\"\n",
    "                    elif (dates[0]==\"Nineteenth \") |(dates[0]==\"Nineteenth\"):\n",
    "                        dates[0]=\"19\"\n",
    "                    elif dates[0]==\"First \":\n",
    "                        dates[0]=\"1\"\n",
    "                    elif dates[0]==\"First\":\n",
    "                        dates[0]=\"1\"\n",
    "                    elif (dates[0]==\"Sixteenth \")|(dates[0]==\"this 16\") |(dates[0]==\"Sixteenth\"):\n",
    "                        dates[0]=\"16\"\n",
    "                   \n",
    "                    elif dates[0]==\"twenty third \":\n",
    "                        dates[0]=\"23\"\n",
    "                    elif dates[0]==\"twenty third\":\n",
    "                        dates[0]=\"23\"\n",
    "                    elif dates[0]==\"Twenty third \":\n",
    "                        dates[0]=\"23\"\n",
    "                    elif dates[0]==\"Twenty Second \":\n",
    "                        dates[0]=\"22\"\n",
    "                    elif dates[0]==\"Twenty Second\":\n",
    "                        dates[0]=\"22\"\n",
    "                    elif dates[0]==\"Twenty Eighth \":\n",
    "                        dates[0]=\"28\"\n",
    "                    elif dates[0]==\"Twentysenventh \":\n",
    "                        dates[0]=\"27\"\n",
    "                    elif dates[0]==\"twenty third \":\n",
    "                        dates[0]=\"23\"\n",
    "                    elif (dates[0]==\"twenty third\") |(dates[0]==\"Twentythird\")|(dates[0]==\"Twentythird \"):\n",
    "                        dates[0]=\"23\"\n",
    "                    elif (dates[0]==\"fourteenth \") | (dates[0]==\"fourteenth\") | (dates[0]==\"Fourteenth\") | (dates[0]==\"Fourteenth \"):\n",
    "                        dates[0]=\"14\"\n",
    "                    elif (dates[0]==\"Eleventh \") | (dates[0]==\"Eleventh\") |(dates[0]==\"eleventh \") :\n",
    "                        dates[0]=\"11\"\n",
    "                    elif (dates[0]==\"Thirteenth\") | (dates[0]==\"Thirteenth \") :\n",
    "                        dates[0]=\"13\"\n",
    "                    elif (dates[0]==\"seventeenth \") |(dates[0]==\"seventeenth\") |(dates[0]==\"Seventeenth \") :\n",
    "                        dates[0]=\"17\"\n",
    "                     \n",
    "                     \n",
    "                     \n",
    "                    \n",
    "                        \n",
    "                    j = dates[0]+\"-\"+dates[1]+\"-\"+dates[2]\n",
    "                    ng.append(j)\n",
    "            \n",
    "            \n",
    "    NG.append(ng)   "
   ]
  },
  {
   "cell_type": "markdown",
   "id": "71c274f5",
   "metadata": {
    "papermill": {
     "duration": 0.028138,
     "end_time": "2022-06-11T02:02:01.886048",
     "exception": false,
     "start_time": "2022-06-11T02:02:01.857910",
     "status": "completed"
    },
    "tags": []
   },
   "source": [
    "# Final date "
   ]
  },
  {
   "cell_type": "code",
   "execution_count": 43,
   "id": "df5ce87e",
   "metadata": {
    "execution": {
     "iopub.execute_input": "2022-06-11T02:02:01.944010Z",
     "iopub.status.busy": "2022-06-11T02:02:01.943651Z",
     "iopub.status.idle": "2022-06-11T02:02:01.947286Z",
     "shell.execute_reply": "2022-06-11T02:02:01.946547Z"
    },
    "papermill": {
     "duration": 0.03435,
     "end_time": "2022-06-11T02:02:01.949013",
     "exception": false,
     "start_time": "2022-06-11T02:02:01.914663",
     "status": "completed"
    },
    "tags": []
   },
   "outputs": [],
   "source": [
    "#NG"
   ]
  },
  {
   "cell_type": "code",
   "execution_count": 44,
   "id": "8e8047a1",
   "metadata": {
    "execution": {
     "iopub.execute_input": "2022-06-11T02:02:02.008489Z",
     "iopub.status.busy": "2022-06-11T02:02:02.007567Z",
     "iopub.status.idle": "2022-06-11T02:02:02.013518Z",
     "shell.execute_reply": "2022-06-11T02:02:02.012719Z"
    },
    "papermill": {
     "duration": 0.038078,
     "end_time": "2022-06-11T02:02:02.015324",
     "exception": false,
     "start_time": "2022-06-11T02:02:01.977246",
     "status": "completed"
    },
    "tags": []
   },
   "outputs": [],
   "source": [
    "Lg=[]\n",
    "for i in G:\n",
    "    for j in i:\n",
    "        Lg.append(j)"
   ]
  },
  {
   "cell_type": "code",
   "execution_count": 45,
   "id": "c8056d6d",
   "metadata": {
    "execution": {
     "iopub.execute_input": "2022-06-11T02:02:02.075882Z",
     "iopub.status.busy": "2022-06-11T02:02:02.074993Z",
     "iopub.status.idle": "2022-06-11T02:02:02.080852Z",
     "shell.execute_reply": "2022-06-11T02:02:02.080052Z"
    },
    "papermill": {
     "duration": 0.037959,
     "end_time": "2022-06-11T02:02:02.082566",
     "exception": false,
     "start_time": "2022-06-11T02:02:02.044607",
     "status": "completed"
    },
    "tags": []
   },
   "outputs": [
    {
     "data": {
      "text/plain": [
       "3648"
      ]
     },
     "execution_count": 45,
     "metadata": {},
     "output_type": "execute_result"
    }
   ],
   "source": [
    "len(Lg)"
   ]
  },
  {
   "cell_type": "code",
   "execution_count": 46,
   "id": "02513a28",
   "metadata": {
    "execution": {
     "iopub.execute_input": "2022-06-11T02:02:02.145334Z",
     "iopub.status.busy": "2022-06-11T02:02:02.144339Z",
     "iopub.status.idle": "2022-06-11T02:02:02.150718Z",
     "shell.execute_reply": "2022-06-11T02:02:02.149852Z"
    },
    "papermill": {
     "duration": 0.040812,
     "end_time": "2022-06-11T02:02:02.152545",
     "exception": false,
     "start_time": "2022-06-11T02:02:02.111733",
     "status": "completed"
    },
    "tags": []
   },
   "outputs": [],
   "source": [
    "Lng=[]\n",
    "for i in NG:\n",
    "    for j in i:\n",
    "        Lng.append(j)"
   ]
  },
  {
   "cell_type": "code",
   "execution_count": 47,
   "id": "a2dec534",
   "metadata": {
    "execution": {
     "iopub.execute_input": "2022-06-11T02:02:02.213803Z",
     "iopub.status.busy": "2022-06-11T02:02:02.213429Z",
     "iopub.status.idle": "2022-06-11T02:02:02.218883Z",
     "shell.execute_reply": "2022-06-11T02:02:02.218136Z"
    },
    "papermill": {
     "duration": 0.038022,
     "end_time": "2022-06-11T02:02:02.220907",
     "exception": false,
     "start_time": "2022-06-11T02:02:02.182885",
     "status": "completed"
    },
    "tags": []
   },
   "outputs": [
    {
     "data": {
      "text/plain": [
       "3587"
      ]
     },
     "execution_count": 47,
     "metadata": {},
     "output_type": "execute_result"
    }
   ],
   "source": [
    "len(Lng)"
   ]
  },
  {
   "cell_type": "code",
   "execution_count": 48,
   "id": "c00ddbe0",
   "metadata": {
    "execution": {
     "iopub.execute_input": "2022-06-11T02:02:02.281873Z",
     "iopub.status.busy": "2022-06-11T02:02:02.281522Z",
     "iopub.status.idle": "2022-06-11T02:02:02.298111Z",
     "shell.execute_reply": "2022-06-11T02:02:02.297338Z"
    },
    "papermill": {
     "duration": 0.049295,
     "end_time": "2022-06-11T02:02:02.300216",
     "exception": false,
     "start_time": "2022-06-11T02:02:02.250921",
     "status": "completed"
    },
    "tags": []
   },
   "outputs": [
    {
     "data": {
      "text/plain": [
       "[['29-May-1865', '31-August-1865'],\n",
       " ['29-May-1865', '3-November-1865'],\n",
       " ['29-May-1865', '30-August-1865'],\n",
       " ['26-January-1865', '29-April-1865', '8-December-1863'],\n",
       " ['29-May-1865', '31-August-1865'],\n",
       " [],\n",
       " ['21-October-1865'],\n",
       " ['21-October-1865'],\n",
       " ['29-May-1865', '2-Septembre-1865', '2-Septembre-1865'],\n",
       " ['30-August-1865'],\n",
       " ['29-May-1865', '14-October-1865', '14-October-1865'],\n",
       " ['29-May-1865', '14-Oct.-1865'],\n",
       " ['29-May-1865', '14-October-1865', '14-October-1865'],\n",
       " ['29-May-1865', '2-Septembre-1865'],\n",
       " ['29-May-1865', '21-November-1865'],\n",
       " ['5-October-1865'],\n",
       " ['29-May-1865', '21-November-1865'],\n",
       " ['29-May-1865', '24-November-1865', '24-November-1865'],\n",
       " ['29-May-1865', '23-November-1865', '23-November-1865'],\n",
       " ['29-August-1865', '22-August-1865'],\n",
       " ['29-May-1865', '23-November-1865'],\n",
       " ['29-May-1865', '23-November-1865', '20-November-1865', '23-November-1865'],\n",
       " ['29-May-1865', '21-November-1865'],\n",
       " ['29-May-1865', '23-November-1865'],\n",
       " ['29-May-1865',\n",
       "  '20-October-1865',\n",
       "  '24-October-1865',\n",
       "  'thirty first -October-1865'],\n",
       " ['29-May-1865', '26-October-1865'],\n",
       " ['29-May-1865', '15-November-1865', '15-December-1865'],\n",
       " ['29-May-1865', '20-November-1865'],\n",
       " ['30-Septembre-1865', '29-May-1865', '30-Sept.-1865', '30-Septembre-1865'],\n",
       " ['29-May-1865', '6-January-1865', '6-January-1865'],\n",
       " ['22-March-1865'],\n",
       " ['29-May-1865', '30-November-1865'],\n",
       " ['29-May-1865', '23-January-1866'],\n",
       " ['29-May-1865', '20-January-1866'],\n",
       " ['29-May-1865', '30-January-1866', '31-January-1866'],\n",
       " ['29-May-1865', '13-August-1865', '13-August-1865'],\n",
       " ['29-May-1865', '24-July-1865'],\n",
       " ['4-October-1865'],\n",
       " ['29-May-1865', '27-February-186'],\n",
       " ['29-May-1865', '9-March-1866', '9-March-1866'],\n",
       " ['29-May-1865', '31-August-1865'],\n",
       " ['29-May-1865', '23-November-1865'],\n",
       " ['29-May-1865', '18-November-1865', '18-Nov.-1865'],\n",
       " ['29-May-1865', '18-Nov.-1865', '18-November-1865'],\n",
       " ['29-August-1865'],\n",
       " ['29-May-1865', '10-August-1865'],\n",
       " ['29-May-1865', '20-Septembre-1865'],\n",
       " ['29-May-1865', '18-October-1865', '11-October-1865'],\n",
       " ['23-Septembre-1865'],\n",
       " ['29-August-1865'],\n",
       " ['20-Septembre-1865'],\n",
       " ['29-May-1865', '28-Septembre-1865'],\n",
       " ['29-May-1865', '28-Septembre-1865'],\n",
       " ['29-May-1865', '28-Septembre-1865'],\n",
       " ['29-May-1865', '5-October-1865', '5-Ocft-1865'],\n",
       " ['29-May-1865', '5-October-1865'],\n",
       " ['29-May-1865', '5-October-1865'],\n",
       " ['29-May-1865', '18-August-1865', '18-August-1865'],\n",
       " ['19-June-1865', '19-June-1865', '2-October-1865', '22-October-1865'],\n",
       " ['7-October-1865', '7-October-1865'],\n",
       " ['27-Septembre-1865'],\n",
       " ['29-May-1865', '10-October-1865'],\n",
       " ['29-May-1865', '10-October-1865'],\n",
       " ['29-May-1865', '6-October-1865'],\n",
       " ['25-August-1865', '29-May-1865', '8-December-1863'],\n",
       " ['29-May-1865', '9-October-1865'],\n",
       " ['29-May-1865', '13-October-1865'],\n",
       " ['15-June-1865', '13-June-1865', '18-Septembre-1865'],\n",
       " ['29-May-1865', '30-Septembre-1865', '30-Septembre-1865'],\n",
       " ['29-May-1865', '27-October-1865'],\n",
       " ['29-May-1865', '11-August-1865'],\n",
       " ['21-October-1865', '27-June-1865', '21-October-1865'],\n",
       " ['29-May-1865', '3-November-1865'],\n",
       " ['11-October-1865', '11-October-1865', '11-October-1865'],\n",
       " ['22-August-1865'],\n",
       " ['6-Oct.-1865', '6-October-1865'],\n",
       " ['29-May-1865', '8-November-1865'],\n",
       " ['29-May-1865', '8-November-1865'],\n",
       " ['29-May-1865', '3-November-1865', '3-November-1865'],\n",
       " ['29-May-1865', '10-August-1865'],\n",
       " ['29-May-1865', '31-October-1865'],\n",
       " ['15-November-1865'],\n",
       " ['29-May-1865', '30-October-1865'],\n",
       " ['18-October-1865'],\n",
       " ['29-May-1865', '2-Septembre-1865'],\n",
       " ['29-May-1865', '24-October-1865'],\n",
       " ['29-May-1865'],\n",
       " ['29-May-1865', '5-December-1865'],\n",
       " ['29-May-1865', '4-December-1865', '4-November-1865'],\n",
       " ['29-May-1865', '9-December-1865'],\n",
       " ['29-May-1865', '11-November-1865'],\n",
       " ['29-May-1865', '18-November-1865', '13-November-1865'],\n",
       " ['29-May-1865', '13-November-1865'],\n",
       " ['29-May-1865', '1-December-1865'],\n",
       " ['29-May-1865', '16-August-1865', '16-August-1865'],\n",
       " ['29-May-1865', '16-January-1865'],\n",
       " ['29-May-1865', '30-October-1865'],\n",
       " ['29-May-1865', '30-October-1865'],\n",
       " ['29-May-1865', '6-February-1866'],\n",
       " ['27-Septembre-1865', '27-Septembre-1865'],\n",
       " ['22-July-1865', '22-July-1865'],\n",
       " ['29-May-1865', '21-February-1866'],\n",
       " ['21-July-1865', '21-July-1865', '8-March-1866'],\n",
       " ['fifth , -August-1865'],\n",
       " ['17-July-1865'],\n",
       " ['29-May-1865',\n",
       "  '29-Septembre-1865',\n",
       "  '29-Septembre-1865',\n",
       "  '29-Septembre-1865',\n",
       "  '29-Septembre-1865',\n",
       "  '29-Septembre-1865'],\n",
       " ['29-May-1865', '5-October-1865'],\n",
       " ['29-May-1865', '31-August-1865', '31-August-1865'],\n",
       " ['29-May-1865', '27-October-1865', '27-October-1865'],\n",
       " ['29-May-1865', '27-October-1865', '27-October-1865'],\n",
       " ['29-May-1865', '31-August-1865'],\n",
       " ['29-May-1865', '4-October-1865'],\n",
       " ['29-May-1865', '1-July-1865', '1-July-1865'],\n",
       " ['29-May-1865', '16-October-1865'],\n",
       " ['29-May-1865', '16-October-1865'],\n",
       " ['29-May-1865', '12-October-1865'],\n",
       " ['29-May-1865', '4-Septembre-1865'],\n",
       " ['29-May-1865', '20-Oct.-1865', '20-Oct.-2865'],\n",
       " ['23-October-1865', '23-October-1865'],\n",
       " ['7-August-1865',\n",
       "  '7-This-1865',\n",
       "  '7-August-1865',\n",
       "  '7-August-1865',\n",
       "  '7-August-1865'],\n",
       " ['13-November-1865', '13-November-1865'],\n",
       " ['29-May-1865', '24-October-1865', '24-Oct.-1865'],\n",
       " ['29-May-1865', '1-Septembre-1865'],\n",
       " ['29-May-1865', '23-October-1865', '4-July-1865', '4-July-1865'],\n",
       " ['29-May-1865', '10-Nov.-1865'],\n",
       " ['29-May-1865', '5-December-1865'],\n",
       " ['29-May-1865', '2-December-1865', '2-December-1865'],\n",
       " ['29-May-1865', '22-November-1865'],\n",
       " ['29-May-1865', '27-November-1865', '24-November-1865'],\n",
       " [],\n",
       " ['29-May-1865', '30-August-1865'],\n",
       " ['29-May-1865', '26-January-1866'],\n",
       " ['29-May-1865', '29-August-1865'],\n",
       " ['29-May-1865', 'nineteenth -January-1866'],\n",
       " ['29-May-1865', '4-October-1865'],\n",
       " ['29-May-1865', '4-Septembre-1865'],\n",
       " ['20-Mch-1865'],\n",
       " ['29-May-1865', '29-March-1866'],\n",
       " ['29-May-1865', '7-May-1866'],\n",
       " ['29-May-1865', '13-August-1865'],\n",
       " ['29-May-1865', '18-August-1865'],\n",
       " [],\n",
       " ['20-Septembre-1865'],\n",
       " ['29-May-1865', '12-October-1865'],\n",
       " ['29-May-1865', '7-October-1865', '10-July-1865'],\n",
       " ['29-May-1865', '8-August-1865'],\n",
       " ['29-May-1865', '19-October-1865'],\n",
       " ['29-May-1865', '27-November-1865', '27-Novbr-1865'],\n",
       " ['29-May-1865', '11-December-1865'],\n",
       " ['13-Septembre-1865', '13-Septbr-1865'],\n",
       " ['29-May-1865', '20-October-1865'],\n",
       " ['29-May-1865', '13-Septembre-1865', '13-Septembre-1865'],\n",
       " ['24-August-1865'],\n",
       " ['29-May-1865', '14-October-1865'],\n",
       " ['29-May-1865', '17-October-1865'],\n",
       " ['29-May-1865', '17-October-1865', '17-Oct.-1865'],\n",
       " ['29-May-1865', '21-October-1865'],\n",
       " ['29-May-1865', '24-October-1865'],\n",
       " ['29-May-1865', '1-November-1865', '24-October-1865'],\n",
       " ['29-May-1865', '30-October-1865'],\n",
       " ['29-May-1865', '26-October-1865'],\n",
       " ['29-May-1865', '3-November-1865'],\n",
       " ['29-May-1865', '3-November-1865'],\n",
       " ['29-May-1865', '24-October-1865'],\n",
       " ['23-October-1865', '23-October-1865'],\n",
       " ['29-May-1865', '13-Septembre-1865'],\n",
       " ['29-May-1865', '13-October-1865'],\n",
       " ['4-Septembre-1865', '4-Septembre-1865'],\n",
       " ['29-May-1865'],\n",
       " ['29-May-1865', '22-June-1865', '22-June-1865'],\n",
       " ['29-May-1865', '25-November-1865'],\n",
       " ['29-May-1865', '26-November-1865'],\n",
       " ['29-May-1865', '18-November-1865', '18-November-1865'],\n",
       " ['29-May-1865', '16-November-1865', '18-November-1865'],\n",
       " ['29-May-1865', '15-Nov.-1865'],\n",
       " ['29-May-1865', '18-November-1865', '18-Nov.-1865'],\n",
       " ['29-May-1865', '18-November-1865', '18-November-1865'],\n",
       " ['29-May-1865', '13-November-1865', '15-November-1865'],\n",
       " ['29-May-1865', '18-Nov.-1865'],\n",
       " ['29-May-1865', '14-December-1865'],\n",
       " ['29-May-1865', '29-Septembre-1865'],\n",
       " ['29-May-1865', '10-January-1865'],\n",
       " ['29-May-1865', '9-August-1865'],\n",
       " ['29-May-1865', '4-February-1866', '28-June-1865', '28-June-1865'],\n",
       " ['29-May-1865', '4-February-1866', '21-August-1865'],\n",
       " ['29-May-1865',\n",
       "  '29-December-1865',\n",
       "  '29-December-1865',\n",
       "  '14-December-1865',\n",
       "  '23-June-1865'],\n",
       " ['29-May-1865', '14-December-1865', '23-June-1865', '23-June-1865'],\n",
       " ['11-November-1865', '11-November-1865'],\n",
       " ['16-March-1866'],\n",
       " ['29-May-1865', '18-August-1865', '18-August-1865', '18-August-1865'],\n",
       " ['20-Septbr-1865'],\n",
       " ['23-Septembre-1865', '23-Septembre-1865'],\n",
       " ['29-May-1865', '9-Septembre-1865'],\n",
       " ['23-Septembre-1865', '23-Septemb-1865', '23-Septembre-1865'],\n",
       " ['29-May-1865', '25-October-1865', '25-October-1865'],\n",
       " ['29-May-1865', '6-Octt-1865'],\n",
       " ['12-Sept.-1865', '5-October-1865', '12-Sept.-1865'],\n",
       " ['3-October-1865', '3-October-1865'],\n",
       " ['29-May-1865', '8-November-1865'],\n",
       " ['29-May-1865', '31-August-1865']]"
      ]
     },
     "execution_count": 48,
     "metadata": {},
     "output_type": "execute_result"
    }
   ],
   "source": [
    "NG[1000:1200]"
   ]
  },
  {
   "cell_type": "code",
   "execution_count": null,
   "id": "d46372b2",
   "metadata": {
    "papermill": {
     "duration": 0.030548,
     "end_time": "2022-06-11T02:02:02.360121",
     "exception": false,
     "start_time": "2022-06-11T02:02:02.329573",
     "status": "completed"
    },
    "tags": []
   },
   "outputs": [],
   "source": []
  }
 ],
 "metadata": {
  "kernelspec": {
   "display_name": "Python 3",
   "language": "python",
   "name": "python3"
  },
  "language_info": {
   "codemirror_mode": {
    "name": "ipython",
    "version": 3
   },
   "file_extension": ".py",
   "mimetype": "text/x-python",
   "name": "python",
   "nbconvert_exporter": "python",
   "pygments_lexer": "ipython3",
   "version": "3.7.12"
  },
  "papermill": {
   "default_parameters": {},
   "duration": 525.603471,
   "end_time": "2022-06-11T02:02:05.887895",
   "environment_variables": {},
   "exception": null,
   "input_path": "__notebook__.ipynb",
   "output_path": "__notebook__.ipynb",
   "parameters": {},
   "start_time": "2022-06-11T01:53:20.284424",
   "version": "2.3.4"
  },
  "widgets": {
   "application/vnd.jupyter.widget-state+json": {
    "state": {
     "04b568ff007c449cae4a45d9a8961fc3": {
      "model_module": "@jupyter-widgets/base",
      "model_module_version": "1.2.0",
      "model_name": "LayoutModel",
      "state": {
       "_model_module": "@jupyter-widgets/base",
       "_model_module_version": "1.2.0",
       "_model_name": "LayoutModel",
       "_view_count": null,
       "_view_module": "@jupyter-widgets/base",
       "_view_module_version": "1.2.0",
       "_view_name": "LayoutView",
       "align_content": null,
       "align_items": null,
       "align_self": null,
       "border": null,
       "bottom": null,
       "display": null,
       "flex": null,
       "flex_flow": null,
       "grid_area": null,
       "grid_auto_columns": null,
       "grid_auto_flow": null,
       "grid_auto_rows": null,
       "grid_column": null,
       "grid_gap": null,
       "grid_row": null,
       "grid_template_areas": null,
       "grid_template_columns": null,
       "grid_template_rows": null,
       "height": null,
       "justify_content": null,
       "justify_items": null,
       "left": null,
       "margin": null,
       "max_height": null,
       "max_width": null,
       "min_height": null,
       "min_width": null,
       "object_fit": null,
       "object_position": null,
       "order": null,
       "overflow": null,
       "overflow_x": null,
       "overflow_y": null,
       "padding": null,
       "right": null,
       "top": null,
       "visibility": null,
       "width": null
      }
     },
     "10a52a652fd1449a9598eb6d56482bd1": {
      "model_module": "@jupyter-widgets/base",
      "model_module_version": "1.2.0",
      "model_name": "LayoutModel",
      "state": {
       "_model_module": "@jupyter-widgets/base",
       "_model_module_version": "1.2.0",
       "_model_name": "LayoutModel",
       "_view_count": null,
       "_view_module": "@jupyter-widgets/base",
       "_view_module_version": "1.2.0",
       "_view_name": "LayoutView",
       "align_content": null,
       "align_items": null,
       "align_self": null,
       "border": null,
       "bottom": null,
       "display": null,
       "flex": null,
       "flex_flow": null,
       "grid_area": null,
       "grid_auto_columns": null,
       "grid_auto_flow": null,
       "grid_auto_rows": null,
       "grid_column": null,
       "grid_gap": null,
       "grid_row": null,
       "grid_template_areas": null,
       "grid_template_columns": null,
       "grid_template_rows": null,
       "height": null,
       "justify_content": null,
       "justify_items": null,
       "left": null,
       "margin": null,
       "max_height": null,
       "max_width": null,
       "min_height": null,
       "min_width": null,
       "object_fit": null,
       "object_position": null,
       "order": null,
       "overflow": null,
       "overflow_x": null,
       "overflow_y": null,
       "padding": null,
       "right": null,
       "top": null,
       "visibility": null,
       "width": null
      }
     },
     "12e85f32b0ec4db39e5a66f4c7417a7d": {
      "model_module": "@jupyter-widgets/controls",
      "model_module_version": "1.5.0",
      "model_name": "HTMLModel",
      "state": {
       "_dom_classes": [],
       "_model_module": "@jupyter-widgets/controls",
       "_model_module_version": "1.5.0",
       "_model_name": "HTMLModel",
       "_view_count": null,
       "_view_module": "@jupyter-widgets/controls",
       "_view_module_version": "1.5.0",
       "_view_name": "HTMLView",
       "description": "",
       "description_tooltip": null,
       "layout": "IPY_MODEL_c5a22951c52741b7bcce631c95628d97",
       "placeholder": "​",
       "style": "IPY_MODEL_9586db8efafb4f62b350b8abfda1fc2f",
       "value": " 616/616 [00:00&lt;00:00, 22.2kB/s]"
      }
     },
     "1d40fd2e7c5b4981a639f87d900f4510": {
      "model_module": "@jupyter-widgets/controls",
      "model_module_version": "1.5.0",
      "model_name": "HBoxModel",
      "state": {
       "_dom_classes": [],
       "_model_module": "@jupyter-widgets/controls",
       "_model_module_version": "1.5.0",
       "_model_name": "HBoxModel",
       "_view_count": null,
       "_view_module": "@jupyter-widgets/controls",
       "_view_module_version": "1.5.0",
       "_view_name": "HBoxView",
       "box_style": "",
       "children": [
        "IPY_MODEL_218cc28adfde4b789e4da40dcef90696",
        "IPY_MODEL_503585bfb33e46d8ab96538198018adc",
        "IPY_MODEL_37a094538fd5412597a3d74ea1e7ba8c"
       ],
       "layout": "IPY_MODEL_b08114ac2c6f4f11a360196b55385976"
      }
     },
     "1e23e0bc5ebb4b27be023c42982fe1bc": {
      "model_module": "@jupyter-widgets/base",
      "model_module_version": "1.2.0",
      "model_name": "LayoutModel",
      "state": {
       "_model_module": "@jupyter-widgets/base",
       "_model_module_version": "1.2.0",
       "_model_name": "LayoutModel",
       "_view_count": null,
       "_view_module": "@jupyter-widgets/base",
       "_view_module_version": "1.2.0",
       "_view_name": "LayoutView",
       "align_content": null,
       "align_items": null,
       "align_self": null,
       "border": null,
       "bottom": null,
       "display": null,
       "flex": null,
       "flex_flow": null,
       "grid_area": null,
       "grid_auto_columns": null,
       "grid_auto_flow": null,
       "grid_auto_rows": null,
       "grid_column": null,
       "grid_gap": null,
       "grid_row": null,
       "grid_template_areas": null,
       "grid_template_columns": null,
       "grid_template_rows": null,
       "height": null,
       "justify_content": null,
       "justify_items": null,
       "left": null,
       "margin": null,
       "max_height": null,
       "max_width": null,
       "min_height": null,
       "min_width": null,
       "object_fit": null,
       "object_position": null,
       "order": null,
       "overflow": null,
       "overflow_x": null,
       "overflow_y": null,
       "padding": null,
       "right": null,
       "top": null,
       "visibility": null,
       "width": null
      }
     },
     "218cc28adfde4b789e4da40dcef90696": {
      "model_module": "@jupyter-widgets/controls",
      "model_module_version": "1.5.0",
      "model_name": "HTMLModel",
      "state": {
       "_dom_classes": [],
       "_model_module": "@jupyter-widgets/controls",
       "_model_module_version": "1.5.0",
       "_model_name": "HTMLModel",
       "_view_count": null,
       "_view_module": "@jupyter-widgets/controls",
       "_view_module_version": "1.5.0",
       "_view_name": "HTMLView",
       "description": "",
       "description_tooltip": null,
       "layout": "IPY_MODEL_04b568ff007c449cae4a45d9a8961fc3",
       "placeholder": "​",
       "style": "IPY_MODEL_e4161da09f55448d813cf543c0ba7f15",
       "value": "Downloading: 100%"
      }
     },
     "26bf55fc517d4793878843ea2f24d9cf": {
      "model_module": "@jupyter-widgets/controls",
      "model_module_version": "1.5.0",
      "model_name": "HTMLModel",
      "state": {
       "_dom_classes": [],
       "_model_module": "@jupyter-widgets/controls",
       "_model_module_version": "1.5.0",
       "_model_name": "HTMLModel",
       "_view_count": null,
       "_view_module": "@jupyter-widgets/controls",
       "_view_module_version": "1.5.0",
       "_view_name": "HTMLView",
       "description": "",
       "description_tooltip": null,
       "layout": "IPY_MODEL_98d32331e878421fad4493366b25df86",
       "placeholder": "​",
       "style": "IPY_MODEL_fe6bd74d9e8847b2884908560f014583",
       "value": " 2.24G/2.24G [01:11&lt;00:00, 33.3MB/s]"
      }
     },
     "289b458dfdc8453687dce41cc03c1616": {
      "model_module": "@jupyter-widgets/base",
      "model_module_version": "1.2.0",
      "model_name": "LayoutModel",
      "state": {
       "_model_module": "@jupyter-widgets/base",
       "_model_module_version": "1.2.0",
       "_model_name": "LayoutModel",
       "_view_count": null,
       "_view_module": "@jupyter-widgets/base",
       "_view_module_version": "1.2.0",
       "_view_name": "LayoutView",
       "align_content": null,
       "align_items": null,
       "align_self": null,
       "border": null,
       "bottom": null,
       "display": null,
       "flex": null,
       "flex_flow": null,
       "grid_area": null,
       "grid_auto_columns": null,
       "grid_auto_flow": null,
       "grid_auto_rows": null,
       "grid_column": null,
       "grid_gap": null,
       "grid_row": null,
       "grid_template_areas": null,
       "grid_template_columns": null,
       "grid_template_rows": null,
       "height": null,
       "justify_content": null,
       "justify_items": null,
       "left": null,
       "margin": null,
       "max_height": null,
       "max_width": null,
       "min_height": null,
       "min_width": null,
       "object_fit": null,
       "object_position": null,
       "order": null,
       "overflow": null,
       "overflow_x": null,
       "overflow_y": null,
       "padding": null,
       "right": null,
       "top": null,
       "visibility": null,
       "width": null
      }
     },
     "2a536160b4fa4c1c94adc644b0378f23": {
      "model_module": "@jupyter-widgets/controls",
      "model_module_version": "1.5.0",
      "model_name": "ProgressStyleModel",
      "state": {
       "_model_module": "@jupyter-widgets/controls",
       "_model_module_version": "1.5.0",
       "_model_name": "ProgressStyleModel",
       "_view_count": null,
       "_view_module": "@jupyter-widgets/base",
       "_view_module_version": "1.2.0",
       "_view_name": "StyleView",
       "bar_color": null,
       "description_width": ""
      }
     },
     "378024be320e44dc8b93a019e081b152": {
      "model_module": "@jupyter-widgets/base",
      "model_module_version": "1.2.0",
      "model_name": "LayoutModel",
      "state": {
       "_model_module": "@jupyter-widgets/base",
       "_model_module_version": "1.2.0",
       "_model_name": "LayoutModel",
       "_view_count": null,
       "_view_module": "@jupyter-widgets/base",
       "_view_module_version": "1.2.0",
       "_view_name": "LayoutView",
       "align_content": null,
       "align_items": null,
       "align_self": null,
       "border": null,
       "bottom": null,
       "display": null,
       "flex": null,
       "flex_flow": null,
       "grid_area": null,
       "grid_auto_columns": null,
       "grid_auto_flow": null,
       "grid_auto_rows": null,
       "grid_column": null,
       "grid_gap": null,
       "grid_row": null,
       "grid_template_areas": null,
       "grid_template_columns": null,
       "grid_template_rows": null,
       "height": null,
       "justify_content": null,
       "justify_items": null,
       "left": null,
       "margin": null,
       "max_height": null,
       "max_width": null,
       "min_height": null,
       "min_width": null,
       "object_fit": null,
       "object_position": null,
       "order": null,
       "overflow": null,
       "overflow_x": null,
       "overflow_y": null,
       "padding": null,
       "right": null,
       "top": null,
       "visibility": null,
       "width": null
      }
     },
     "37a094538fd5412597a3d74ea1e7ba8c": {
      "model_module": "@jupyter-widgets/controls",
      "model_module_version": "1.5.0",
      "model_name": "HTMLModel",
      "state": {
       "_dom_classes": [],
       "_model_module": "@jupyter-widgets/controls",
       "_model_module_version": "1.5.0",
       "_model_name": "HTMLModel",
       "_view_count": null,
       "_view_module": "@jupyter-widgets/controls",
       "_view_module_version": "1.5.0",
       "_view_name": "HTMLView",
       "description": "",
       "description_tooltip": null,
       "layout": "IPY_MODEL_8908c840bc904f3db7ee798aa3716f87",
       "placeholder": "​",
       "style": "IPY_MODEL_53ea17a61222427e9f2585ff0e3d4022",
       "value": " 2.24G/2.24G [01:11&lt;00:00, 33.1MB/s]"
      }
     },
     "503585bfb33e46d8ab96538198018adc": {
      "model_module": "@jupyter-widgets/controls",
      "model_module_version": "1.5.0",
      "model_name": "FloatProgressModel",
      "state": {
       "_dom_classes": [],
       "_model_module": "@jupyter-widgets/controls",
       "_model_module_version": "1.5.0",
       "_model_name": "FloatProgressModel",
       "_view_count": null,
       "_view_module": "@jupyter-widgets/controls",
       "_view_module_version": "1.5.0",
       "_view_name": "ProgressView",
       "bar_style": "success",
       "description": "",
       "description_tooltip": null,
       "layout": "IPY_MODEL_911d6296197f45bc9e7db38a17d26989",
       "max": 2240097289.0,
       "min": 0.0,
       "orientation": "horizontal",
       "style": "IPY_MODEL_85600ee521b64d6a954b32bff6a5ebbe",
       "value": 2240097289.0
      }
     },
     "53ea17a61222427e9f2585ff0e3d4022": {
      "model_module": "@jupyter-widgets/controls",
      "model_module_version": "1.5.0",
      "model_name": "DescriptionStyleModel",
      "state": {
       "_model_module": "@jupyter-widgets/controls",
       "_model_module_version": "1.5.0",
       "_model_name": "DescriptionStyleModel",
       "_view_count": null,
       "_view_module": "@jupyter-widgets/base",
       "_view_module_version": "1.2.0",
       "_view_name": "StyleView",
       "description_width": ""
      }
     },
     "553e75bd98e24d8ba13faaf87497f2b8": {
      "model_module": "@jupyter-widgets/base",
      "model_module_version": "1.2.0",
      "model_name": "LayoutModel",
      "state": {
       "_model_module": "@jupyter-widgets/base",
       "_model_module_version": "1.2.0",
       "_model_name": "LayoutModel",
       "_view_count": null,
       "_view_module": "@jupyter-widgets/base",
       "_view_module_version": "1.2.0",
       "_view_name": "LayoutView",
       "align_content": null,
       "align_items": null,
       "align_self": null,
       "border": null,
       "bottom": null,
       "display": null,
       "flex": null,
       "flex_flow": null,
       "grid_area": null,
       "grid_auto_columns": null,
       "grid_auto_flow": null,
       "grid_auto_rows": null,
       "grid_column": null,
       "grid_gap": null,
       "grid_row": null,
       "grid_template_areas": null,
       "grid_template_columns": null,
       "grid_template_rows": null,
       "height": null,
       "justify_content": null,
       "justify_items": null,
       "left": null,
       "margin": null,
       "max_height": null,
       "max_width": null,
       "min_height": null,
       "min_width": null,
       "object_fit": null,
       "object_position": null,
       "order": null,
       "overflow": null,
       "overflow_x": null,
       "overflow_y": null,
       "padding": null,
       "right": null,
       "top": null,
       "visibility": null,
       "width": null
      }
     },
     "5c54d4b28b6543cc8189a1f26eeddb58": {
      "model_module": "@jupyter-widgets/controls",
      "model_module_version": "1.5.0",
      "model_name": "HBoxModel",
      "state": {
       "_dom_classes": [],
       "_model_module": "@jupyter-widgets/controls",
       "_model_module_version": "1.5.0",
       "_model_name": "HBoxModel",
       "_view_count": null,
       "_view_module": "@jupyter-widgets/controls",
       "_view_module_version": "1.5.0",
       "_view_name": "HBoxView",
       "box_style": "",
       "children": [
        "IPY_MODEL_c06bac09940b4dd7819f60d80d276de2",
        "IPY_MODEL_b10da8776da94a3c8e8e34e6387df117",
        "IPY_MODEL_a34280ce2aae4cfbacd5ec7b3e8ece9c"
       ],
       "layout": "IPY_MODEL_289b458dfdc8453687dce41cc03c1616"
      }
     },
     "5ec7791a928b4b1a98250e0b9bbea4cb": {
      "model_module": "@jupyter-widgets/controls",
      "model_module_version": "1.5.0",
      "model_name": "HBoxModel",
      "state": {
       "_dom_classes": [],
       "_model_module": "@jupyter-widgets/controls",
       "_model_module_version": "1.5.0",
       "_model_name": "HBoxModel",
       "_view_count": null,
       "_view_module": "@jupyter-widgets/controls",
       "_view_module_version": "1.5.0",
       "_view_name": "HBoxView",
       "box_style": "",
       "children": [
        "IPY_MODEL_6993493102f94db0b8a2c0c9bd381bfd",
        "IPY_MODEL_de80896ac4f14c47b33e84c34ea074b2",
        "IPY_MODEL_26bf55fc517d4793878843ea2f24d9cf"
       ],
       "layout": "IPY_MODEL_7bfde14fee774a06b013b5a008f13fd0"
      }
     },
     "6226393bae4045e6bdf4d094516d2c51": {
      "model_module": "@jupyter-widgets/controls",
      "model_module_version": "1.5.0",
      "model_name": "HTMLModel",
      "state": {
       "_dom_classes": [],
       "_model_module": "@jupyter-widgets/controls",
       "_model_module_version": "1.5.0",
       "_model_name": "HTMLModel",
       "_view_count": null,
       "_view_module": "@jupyter-widgets/controls",
       "_view_module_version": "1.5.0",
       "_view_name": "HTMLView",
       "description": "",
       "description_tooltip": null,
       "layout": "IPY_MODEL_1e23e0bc5ebb4b27be023c42982fe1bc",
       "placeholder": "​",
       "style": "IPY_MODEL_df2e69ab29c448d7988fef8935e90003",
       "value": "Downloading: 100%"
      }
     },
     "6993493102f94db0b8a2c0c9bd381bfd": {
      "model_module": "@jupyter-widgets/controls",
      "model_module_version": "1.5.0",
      "model_name": "HTMLModel",
      "state": {
       "_dom_classes": [],
       "_model_module": "@jupyter-widgets/controls",
       "_model_module_version": "1.5.0",
       "_model_name": "HTMLModel",
       "_view_count": null,
       "_view_module": "@jupyter-widgets/controls",
       "_view_module_version": "1.5.0",
       "_view_name": "HTMLView",
       "description": "",
       "description_tooltip": null,
       "layout": "IPY_MODEL_ac26121071b0418194459a5e25bf409f",
       "placeholder": "​",
       "style": "IPY_MODEL_ff4f17eeb6ad41639e697cdf0167267c",
       "value": "Downloading: 100%"
      }
     },
     "711e610eff6441158ff1125e06b92b6e": {
      "model_module": "@jupyter-widgets/base",
      "model_module_version": "1.2.0",
      "model_name": "LayoutModel",
      "state": {
       "_model_module": "@jupyter-widgets/base",
       "_model_module_version": "1.2.0",
       "_model_name": "LayoutModel",
       "_view_count": null,
       "_view_module": "@jupyter-widgets/base",
       "_view_module_version": "1.2.0",
       "_view_name": "LayoutView",
       "align_content": null,
       "align_items": null,
       "align_self": null,
       "border": null,
       "bottom": null,
       "display": null,
       "flex": null,
       "flex_flow": null,
       "grid_area": null,
       "grid_auto_columns": null,
       "grid_auto_flow": null,
       "grid_auto_rows": null,
       "grid_column": null,
       "grid_gap": null,
       "grid_row": null,
       "grid_template_areas": null,
       "grid_template_columns": null,
       "grid_template_rows": null,
       "height": null,
       "justify_content": null,
       "justify_items": null,
       "left": null,
       "margin": null,
       "max_height": null,
       "max_width": null,
       "min_height": null,
       "min_width": null,
       "object_fit": null,
       "object_position": null,
       "order": null,
       "overflow": null,
       "overflow_x": null,
       "overflow_y": null,
       "padding": null,
       "right": null,
       "top": null,
       "visibility": null,
       "width": null
      }
     },
     "775865eb1b6444288fc29de0fef41167": {
      "model_module": "@jupyter-widgets/base",
      "model_module_version": "1.2.0",
      "model_name": "LayoutModel",
      "state": {
       "_model_module": "@jupyter-widgets/base",
       "_model_module_version": "1.2.0",
       "_model_name": "LayoutModel",
       "_view_count": null,
       "_view_module": "@jupyter-widgets/base",
       "_view_module_version": "1.2.0",
       "_view_name": "LayoutView",
       "align_content": null,
       "align_items": null,
       "align_self": null,
       "border": null,
       "bottom": null,
       "display": null,
       "flex": null,
       "flex_flow": null,
       "grid_area": null,
       "grid_auto_columns": null,
       "grid_auto_flow": null,
       "grid_auto_rows": null,
       "grid_column": null,
       "grid_gap": null,
       "grid_row": null,
       "grid_template_areas": null,
       "grid_template_columns": null,
       "grid_template_rows": null,
       "height": null,
       "justify_content": null,
       "justify_items": null,
       "left": null,
       "margin": null,
       "max_height": null,
       "max_width": null,
       "min_height": null,
       "min_width": null,
       "object_fit": null,
       "object_position": null,
       "order": null,
       "overflow": null,
       "overflow_x": null,
       "overflow_y": null,
       "padding": null,
       "right": null,
       "top": null,
       "visibility": null,
       "width": null
      }
     },
     "7bfde14fee774a06b013b5a008f13fd0": {
      "model_module": "@jupyter-widgets/base",
      "model_module_version": "1.2.0",
      "model_name": "LayoutModel",
      "state": {
       "_model_module": "@jupyter-widgets/base",
       "_model_module_version": "1.2.0",
       "_model_name": "LayoutModel",
       "_view_count": null,
       "_view_module": "@jupyter-widgets/base",
       "_view_module_version": "1.2.0",
       "_view_name": "LayoutView",
       "align_content": null,
       "align_items": null,
       "align_self": null,
       "border": null,
       "bottom": null,
       "display": null,
       "flex": null,
       "flex_flow": null,
       "grid_area": null,
       "grid_auto_columns": null,
       "grid_auto_flow": null,
       "grid_auto_rows": null,
       "grid_column": null,
       "grid_gap": null,
       "grid_row": null,
       "grid_template_areas": null,
       "grid_template_columns": null,
       "grid_template_rows": null,
       "height": null,
       "justify_content": null,
       "justify_items": null,
       "left": null,
       "margin": null,
       "max_height": null,
       "max_width": null,
       "min_height": null,
       "min_width": null,
       "object_fit": null,
       "object_position": null,
       "order": null,
       "overflow": null,
       "overflow_x": null,
       "overflow_y": null,
       "padding": null,
       "right": null,
       "top": null,
       "visibility": null,
       "width": null
      }
     },
     "7ddcce2c2d0d41a88fa48d84b771b0c5": {
      "model_module": "@jupyter-widgets/controls",
      "model_module_version": "1.5.0",
      "model_name": "HBoxModel",
      "state": {
       "_dom_classes": [],
       "_model_module": "@jupyter-widgets/controls",
       "_model_module_version": "1.5.0",
       "_model_name": "HBoxModel",
       "_view_count": null,
       "_view_module": "@jupyter-widgets/controls",
       "_view_module_version": "1.5.0",
       "_view_name": "HBoxView",
       "box_style": "",
       "children": [
        "IPY_MODEL_6226393bae4045e6bdf4d094516d2c51",
        "IPY_MODEL_c7deb43821be459fa0118e2e41cf276a",
        "IPY_MODEL_d248b701675242528987a9e6c615a04f"
       ],
       "layout": "IPY_MODEL_9696321192d24fb2814353153868ec1b"
      }
     },
     "7e6fb6e7c44c4759b557ddfca2bb5ba5": {
      "model_module": "@jupyter-widgets/base",
      "model_module_version": "1.2.0",
      "model_name": "LayoutModel",
      "state": {
       "_model_module": "@jupyter-widgets/base",
       "_model_module_version": "1.2.0",
       "_model_name": "LayoutModel",
       "_view_count": null,
       "_view_module": "@jupyter-widgets/base",
       "_view_module_version": "1.2.0",
       "_view_name": "LayoutView",
       "align_content": null,
       "align_items": null,
       "align_self": null,
       "border": null,
       "bottom": null,
       "display": null,
       "flex": null,
       "flex_flow": null,
       "grid_area": null,
       "grid_auto_columns": null,
       "grid_auto_flow": null,
       "grid_auto_rows": null,
       "grid_column": null,
       "grid_gap": null,
       "grid_row": null,
       "grid_template_areas": null,
       "grid_template_columns": null,
       "grid_template_rows": null,
       "height": null,
       "justify_content": null,
       "justify_items": null,
       "left": null,
       "margin": null,
       "max_height": null,
       "max_width": null,
       "min_height": null,
       "min_width": null,
       "object_fit": null,
       "object_position": null,
       "order": null,
       "overflow": null,
       "overflow_x": null,
       "overflow_y": null,
       "padding": null,
       "right": null,
       "top": null,
       "visibility": null,
       "width": null
      }
     },
     "84a25abb33ed44a09bf7fcf04b2a610c": {
      "model_module": "@jupyter-widgets/controls",
      "model_module_version": "1.5.0",
      "model_name": "DescriptionStyleModel",
      "state": {
       "_model_module": "@jupyter-widgets/controls",
       "_model_module_version": "1.5.0",
       "_model_name": "DescriptionStyleModel",
       "_view_count": null,
       "_view_module": "@jupyter-widgets/base",
       "_view_module_version": "1.2.0",
       "_view_name": "StyleView",
       "description_width": ""
      }
     },
     "85600ee521b64d6a954b32bff6a5ebbe": {
      "model_module": "@jupyter-widgets/controls",
      "model_module_version": "1.5.0",
      "model_name": "ProgressStyleModel",
      "state": {
       "_model_module": "@jupyter-widgets/controls",
       "_model_module_version": "1.5.0",
       "_model_name": "ProgressStyleModel",
       "_view_count": null,
       "_view_module": "@jupyter-widgets/base",
       "_view_module_version": "1.2.0",
       "_view_name": "StyleView",
       "bar_color": null,
       "description_width": ""
      }
     },
     "8908c840bc904f3db7ee798aa3716f87": {
      "model_module": "@jupyter-widgets/base",
      "model_module_version": "1.2.0",
      "model_name": "LayoutModel",
      "state": {
       "_model_module": "@jupyter-widgets/base",
       "_model_module_version": "1.2.0",
       "_model_name": "LayoutModel",
       "_view_count": null,
       "_view_module": "@jupyter-widgets/base",
       "_view_module_version": "1.2.0",
       "_view_name": "LayoutView",
       "align_content": null,
       "align_items": null,
       "align_self": null,
       "border": null,
       "bottom": null,
       "display": null,
       "flex": null,
       "flex_flow": null,
       "grid_area": null,
       "grid_auto_columns": null,
       "grid_auto_flow": null,
       "grid_auto_rows": null,
       "grid_column": null,
       "grid_gap": null,
       "grid_row": null,
       "grid_template_areas": null,
       "grid_template_columns": null,
       "grid_template_rows": null,
       "height": null,
       "justify_content": null,
       "justify_items": null,
       "left": null,
       "margin": null,
       "max_height": null,
       "max_width": null,
       "min_height": null,
       "min_width": null,
       "object_fit": null,
       "object_position": null,
       "order": null,
       "overflow": null,
       "overflow_x": null,
       "overflow_y": null,
       "padding": null,
       "right": null,
       "top": null,
       "visibility": null,
       "width": null
      }
     },
     "8c5a934e6ecd4b77a412b2e094bd09c2": {
      "model_module": "@jupyter-widgets/controls",
      "model_module_version": "1.5.0",
      "model_name": "ProgressStyleModel",
      "state": {
       "_model_module": "@jupyter-widgets/controls",
       "_model_module_version": "1.5.0",
       "_model_name": "ProgressStyleModel",
       "_view_count": null,
       "_view_module": "@jupyter-widgets/base",
       "_view_module_version": "1.2.0",
       "_view_name": "StyleView",
       "bar_color": null,
       "description_width": ""
      }
     },
     "911d6296197f45bc9e7db38a17d26989": {
      "model_module": "@jupyter-widgets/base",
      "model_module_version": "1.2.0",
      "model_name": "LayoutModel",
      "state": {
       "_model_module": "@jupyter-widgets/base",
       "_model_module_version": "1.2.0",
       "_model_name": "LayoutModel",
       "_view_count": null,
       "_view_module": "@jupyter-widgets/base",
       "_view_module_version": "1.2.0",
       "_view_name": "LayoutView",
       "align_content": null,
       "align_items": null,
       "align_self": null,
       "border": null,
       "bottom": null,
       "display": null,
       "flex": null,
       "flex_flow": null,
       "grid_area": null,
       "grid_auto_columns": null,
       "grid_auto_flow": null,
       "grid_auto_rows": null,
       "grid_column": null,
       "grid_gap": null,
       "grid_row": null,
       "grid_template_areas": null,
       "grid_template_columns": null,
       "grid_template_rows": null,
       "height": null,
       "justify_content": null,
       "justify_items": null,
       "left": null,
       "margin": null,
       "max_height": null,
       "max_width": null,
       "min_height": null,
       "min_width": null,
       "object_fit": null,
       "object_position": null,
       "order": null,
       "overflow": null,
       "overflow_x": null,
       "overflow_y": null,
       "padding": null,
       "right": null,
       "top": null,
       "visibility": null,
       "width": null
      }
     },
     "9586db8efafb4f62b350b8abfda1fc2f": {
      "model_module": "@jupyter-widgets/controls",
      "model_module_version": "1.5.0",
      "model_name": "DescriptionStyleModel",
      "state": {
       "_model_module": "@jupyter-widgets/controls",
       "_model_module_version": "1.5.0",
       "_model_name": "DescriptionStyleModel",
       "_view_count": null,
       "_view_module": "@jupyter-widgets/base",
       "_view_module_version": "1.2.0",
       "_view_name": "StyleView",
       "description_width": ""
      }
     },
     "9696321192d24fb2814353153868ec1b": {
      "model_module": "@jupyter-widgets/base",
      "model_module_version": "1.2.0",
      "model_name": "LayoutModel",
      "state": {
       "_model_module": "@jupyter-widgets/base",
       "_model_module_version": "1.2.0",
       "_model_name": "LayoutModel",
       "_view_count": null,
       "_view_module": "@jupyter-widgets/base",
       "_view_module_version": "1.2.0",
       "_view_name": "LayoutView",
       "align_content": null,
       "align_items": null,
       "align_self": null,
       "border": null,
       "bottom": null,
       "display": null,
       "flex": null,
       "flex_flow": null,
       "grid_area": null,
       "grid_auto_columns": null,
       "grid_auto_flow": null,
       "grid_auto_rows": null,
       "grid_column": null,
       "grid_gap": null,
       "grid_row": null,
       "grid_template_areas": null,
       "grid_template_columns": null,
       "grid_template_rows": null,
       "height": null,
       "justify_content": null,
       "justify_items": null,
       "left": null,
       "margin": null,
       "max_height": null,
       "max_width": null,
       "min_height": null,
       "min_width": null,
       "object_fit": null,
       "object_position": null,
       "order": null,
       "overflow": null,
       "overflow_x": null,
       "overflow_y": null,
       "padding": null,
       "right": null,
       "top": null,
       "visibility": null,
       "width": null
      }
     },
     "98d32331e878421fad4493366b25df86": {
      "model_module": "@jupyter-widgets/base",
      "model_module_version": "1.2.0",
      "model_name": "LayoutModel",
      "state": {
       "_model_module": "@jupyter-widgets/base",
       "_model_module_version": "1.2.0",
       "_model_name": "LayoutModel",
       "_view_count": null,
       "_view_module": "@jupyter-widgets/base",
       "_view_module_version": "1.2.0",
       "_view_name": "LayoutView",
       "align_content": null,
       "align_items": null,
       "align_self": null,
       "border": null,
       "bottom": null,
       "display": null,
       "flex": null,
       "flex_flow": null,
       "grid_area": null,
       "grid_auto_columns": null,
       "grid_auto_flow": null,
       "grid_auto_rows": null,
       "grid_column": null,
       "grid_gap": null,
       "grid_row": null,
       "grid_template_areas": null,
       "grid_template_columns": null,
       "grid_template_rows": null,
       "height": null,
       "justify_content": null,
       "justify_items": null,
       "left": null,
       "margin": null,
       "max_height": null,
       "max_width": null,
       "min_height": null,
       "min_width": null,
       "object_fit": null,
       "object_position": null,
       "order": null,
       "overflow": null,
       "overflow_x": null,
       "overflow_y": null,
       "padding": null,
       "right": null,
       "top": null,
       "visibility": null,
       "width": null
      }
     },
     "a31325921c1f48a38960f2649cbf74d9": {
      "model_module": "@jupyter-widgets/controls",
      "model_module_version": "1.5.0",
      "model_name": "HBoxModel",
      "state": {
       "_dom_classes": [],
       "_model_module": "@jupyter-widgets/controls",
       "_model_module_version": "1.5.0",
       "_model_name": "HBoxModel",
       "_view_count": null,
       "_view_module": "@jupyter-widgets/controls",
       "_view_module_version": "1.5.0",
       "_view_name": "HBoxView",
       "box_style": "",
       "children": [
        "IPY_MODEL_a86bc3b97a124da4b514f0ccaaf3fcd5",
        "IPY_MODEL_b83e083d734c4a6b9c387d636f9056f1",
        "IPY_MODEL_12e85f32b0ec4db39e5a66f4c7417a7d"
       ],
       "layout": "IPY_MODEL_b0a0b82cf42449d3be291446fb6f457a"
      }
     },
     "a34280ce2aae4cfbacd5ec7b3e8ece9c": {
      "model_module": "@jupyter-widgets/controls",
      "model_module_version": "1.5.0",
      "model_name": "HTMLModel",
      "state": {
       "_dom_classes": [],
       "_model_module": "@jupyter-widgets/controls",
       "_model_module_version": "1.5.0",
       "_model_name": "HTMLModel",
       "_view_count": null,
       "_view_module": "@jupyter-widgets/controls",
       "_view_module_version": "1.5.0",
       "_view_name": "HTMLView",
       "description": "",
       "description_tooltip": null,
       "layout": "IPY_MODEL_b9c9d48606d0419e8eaeef544cd0a0ca",
       "placeholder": "​",
       "style": "IPY_MODEL_84a25abb33ed44a09bf7fcf04b2a610c",
       "value": " 8.68M/8.68M [00:00&lt;00:00, 30.0MB/s]"
      }
     },
     "a86bc3b97a124da4b514f0ccaaf3fcd5": {
      "model_module": "@jupyter-widgets/controls",
      "model_module_version": "1.5.0",
      "model_name": "HTMLModel",
      "state": {
       "_dom_classes": [],
       "_model_module": "@jupyter-widgets/controls",
       "_model_module_version": "1.5.0",
       "_model_name": "HTMLModel",
       "_view_count": null,
       "_view_module": "@jupyter-widgets/controls",
       "_view_module_version": "1.5.0",
       "_view_name": "HTMLView",
       "description": "",
       "description_tooltip": null,
       "layout": "IPY_MODEL_378024be320e44dc8b93a019e081b152",
       "placeholder": "​",
       "style": "IPY_MODEL_c89e8253d2c549e298062a5ab4900a05",
       "value": "Downloading: 100%"
      }
     },
     "ac26121071b0418194459a5e25bf409f": {
      "model_module": "@jupyter-widgets/base",
      "model_module_version": "1.2.0",
      "model_name": "LayoutModel",
      "state": {
       "_model_module": "@jupyter-widgets/base",
       "_model_module_version": "1.2.0",
       "_model_name": "LayoutModel",
       "_view_count": null,
       "_view_module": "@jupyter-widgets/base",
       "_view_module_version": "1.2.0",
       "_view_name": "LayoutView",
       "align_content": null,
       "align_items": null,
       "align_self": null,
       "border": null,
       "bottom": null,
       "display": null,
       "flex": null,
       "flex_flow": null,
       "grid_area": null,
       "grid_auto_columns": null,
       "grid_auto_flow": null,
       "grid_auto_rows": null,
       "grid_column": null,
       "grid_gap": null,
       "grid_row": null,
       "grid_template_areas": null,
       "grid_template_columns": null,
       "grid_template_rows": null,
       "height": null,
       "justify_content": null,
       "justify_items": null,
       "left": null,
       "margin": null,
       "max_height": null,
       "max_width": null,
       "min_height": null,
       "min_width": null,
       "object_fit": null,
       "object_position": null,
       "order": null,
       "overflow": null,
       "overflow_x": null,
       "overflow_y": null,
       "padding": null,
       "right": null,
       "top": null,
       "visibility": null,
       "width": null
      }
     },
     "acd076716ec5431dbac88c6657a2af62": {
      "model_module": "@jupyter-widgets/controls",
      "model_module_version": "1.5.0",
      "model_name": "DescriptionStyleModel",
      "state": {
       "_model_module": "@jupyter-widgets/controls",
       "_model_module_version": "1.5.0",
       "_model_name": "DescriptionStyleModel",
       "_view_count": null,
       "_view_module": "@jupyter-widgets/base",
       "_view_module_version": "1.2.0",
       "_view_name": "StyleView",
       "description_width": ""
      }
     },
     "b08114ac2c6f4f11a360196b55385976": {
      "model_module": "@jupyter-widgets/base",
      "model_module_version": "1.2.0",
      "model_name": "LayoutModel",
      "state": {
       "_model_module": "@jupyter-widgets/base",
       "_model_module_version": "1.2.0",
       "_model_name": "LayoutModel",
       "_view_count": null,
       "_view_module": "@jupyter-widgets/base",
       "_view_module_version": "1.2.0",
       "_view_name": "LayoutView",
       "align_content": null,
       "align_items": null,
       "align_self": null,
       "border": null,
       "bottom": null,
       "display": null,
       "flex": null,
       "flex_flow": null,
       "grid_area": null,
       "grid_auto_columns": null,
       "grid_auto_flow": null,
       "grid_auto_rows": null,
       "grid_column": null,
       "grid_gap": null,
       "grid_row": null,
       "grid_template_areas": null,
       "grid_template_columns": null,
       "grid_template_rows": null,
       "height": null,
       "justify_content": null,
       "justify_items": null,
       "left": null,
       "margin": null,
       "max_height": null,
       "max_width": null,
       "min_height": null,
       "min_width": null,
       "object_fit": null,
       "object_position": null,
       "order": null,
       "overflow": null,
       "overflow_x": null,
       "overflow_y": null,
       "padding": null,
       "right": null,
       "top": null,
       "visibility": null,
       "width": null
      }
     },
     "b0a0b82cf42449d3be291446fb6f457a": {
      "model_module": "@jupyter-widgets/base",
      "model_module_version": "1.2.0",
      "model_name": "LayoutModel",
      "state": {
       "_model_module": "@jupyter-widgets/base",
       "_model_module_version": "1.2.0",
       "_model_name": "LayoutModel",
       "_view_count": null,
       "_view_module": "@jupyter-widgets/base",
       "_view_module_version": "1.2.0",
       "_view_name": "LayoutView",
       "align_content": null,
       "align_items": null,
       "align_self": null,
       "border": null,
       "bottom": null,
       "display": null,
       "flex": null,
       "flex_flow": null,
       "grid_area": null,
       "grid_auto_columns": null,
       "grid_auto_flow": null,
       "grid_auto_rows": null,
       "grid_column": null,
       "grid_gap": null,
       "grid_row": null,
       "grid_template_areas": null,
       "grid_template_columns": null,
       "grid_template_rows": null,
       "height": null,
       "justify_content": null,
       "justify_items": null,
       "left": null,
       "margin": null,
       "max_height": null,
       "max_width": null,
       "min_height": null,
       "min_width": null,
       "object_fit": null,
       "object_position": null,
       "order": null,
       "overflow": null,
       "overflow_x": null,
       "overflow_y": null,
       "padding": null,
       "right": null,
       "top": null,
       "visibility": null,
       "width": null
      }
     },
     "b10da8776da94a3c8e8e34e6387df117": {
      "model_module": "@jupyter-widgets/controls",
      "model_module_version": "1.5.0",
      "model_name": "FloatProgressModel",
      "state": {
       "_dom_classes": [],
       "_model_module": "@jupyter-widgets/controls",
       "_model_module_version": "1.5.0",
       "_model_name": "FloatProgressModel",
       "_view_count": null,
       "_view_module": "@jupyter-widgets/controls",
       "_view_module_version": "1.5.0",
       "_view_name": "ProgressView",
       "bar_style": "success",
       "description": "",
       "description_tooltip": null,
       "layout": "IPY_MODEL_775865eb1b6444288fc29de0fef41167",
       "max": 9096718.0,
       "min": 0.0,
       "orientation": "horizontal",
       "style": "IPY_MODEL_df256f3fad194768a772a874233f0a7d",
       "value": 9096718.0
      }
     },
     "b83e083d734c4a6b9c387d636f9056f1": {
      "model_module": "@jupyter-widgets/controls",
      "model_module_version": "1.5.0",
      "model_name": "FloatProgressModel",
      "state": {
       "_dom_classes": [],
       "_model_module": "@jupyter-widgets/controls",
       "_model_module_version": "1.5.0",
       "_model_name": "FloatProgressModel",
       "_view_count": null,
       "_view_module": "@jupyter-widgets/controls",
       "_view_module_version": "1.5.0",
       "_view_name": "ProgressView",
       "bar_style": "success",
       "description": "",
       "description_tooltip": null,
       "layout": "IPY_MODEL_eb9d208958bf43dc9b83ddd9c8befc88",
       "max": 616.0,
       "min": 0.0,
       "orientation": "horizontal",
       "style": "IPY_MODEL_ef4a1e2d28ab4a1badca485a51fef295",
       "value": 616.0
      }
     },
     "b9c9d48606d0419e8eaeef544cd0a0ca": {
      "model_module": "@jupyter-widgets/base",
      "model_module_version": "1.2.0",
      "model_name": "LayoutModel",
      "state": {
       "_model_module": "@jupyter-widgets/base",
       "_model_module_version": "1.2.0",
       "_model_name": "LayoutModel",
       "_view_count": null,
       "_view_module": "@jupyter-widgets/base",
       "_view_module_version": "1.2.0",
       "_view_name": "LayoutView",
       "align_content": null,
       "align_items": null,
       "align_self": null,
       "border": null,
       "bottom": null,
       "display": null,
       "flex": null,
       "flex_flow": null,
       "grid_area": null,
       "grid_auto_columns": null,
       "grid_auto_flow": null,
       "grid_auto_rows": null,
       "grid_column": null,
       "grid_gap": null,
       "grid_row": null,
       "grid_template_areas": null,
       "grid_template_columns": null,
       "grid_template_rows": null,
       "height": null,
       "justify_content": null,
       "justify_items": null,
       "left": null,
       "margin": null,
       "max_height": null,
       "max_width": null,
       "min_height": null,
       "min_width": null,
       "object_fit": null,
       "object_position": null,
       "order": null,
       "overflow": null,
       "overflow_x": null,
       "overflow_y": null,
       "padding": null,
       "right": null,
       "top": null,
       "visibility": null,
       "width": null
      }
     },
     "c06bac09940b4dd7819f60d80d276de2": {
      "model_module": "@jupyter-widgets/controls",
      "model_module_version": "1.5.0",
      "model_name": "HTMLModel",
      "state": {
       "_dom_classes": [],
       "_model_module": "@jupyter-widgets/controls",
       "_model_module_version": "1.5.0",
       "_model_name": "HTMLModel",
       "_view_count": null,
       "_view_module": "@jupyter-widgets/controls",
       "_view_module_version": "1.5.0",
       "_view_name": "HTMLView",
       "description": "",
       "description_tooltip": null,
       "layout": "IPY_MODEL_711e610eff6441158ff1125e06b92b6e",
       "placeholder": "​",
       "style": "IPY_MODEL_c84304fc21894cc3895405f83c84ca4c",
       "value": "Downloading: 100%"
      }
     },
     "c5a22951c52741b7bcce631c95628d97": {
      "model_module": "@jupyter-widgets/base",
      "model_module_version": "1.2.0",
      "model_name": "LayoutModel",
      "state": {
       "_model_module": "@jupyter-widgets/base",
       "_model_module_version": "1.2.0",
       "_model_name": "LayoutModel",
       "_view_count": null,
       "_view_module": "@jupyter-widgets/base",
       "_view_module_version": "1.2.0",
       "_view_name": "LayoutView",
       "align_content": null,
       "align_items": null,
       "align_self": null,
       "border": null,
       "bottom": null,
       "display": null,
       "flex": null,
       "flex_flow": null,
       "grid_area": null,
       "grid_auto_columns": null,
       "grid_auto_flow": null,
       "grid_auto_rows": null,
       "grid_column": null,
       "grid_gap": null,
       "grid_row": null,
       "grid_template_areas": null,
       "grid_template_columns": null,
       "grid_template_rows": null,
       "height": null,
       "justify_content": null,
       "justify_items": null,
       "left": null,
       "margin": null,
       "max_height": null,
       "max_width": null,
       "min_height": null,
       "min_width": null,
       "object_fit": null,
       "object_position": null,
       "order": null,
       "overflow": null,
       "overflow_x": null,
       "overflow_y": null,
       "padding": null,
       "right": null,
       "top": null,
       "visibility": null,
       "width": null
      }
     },
     "c7deb43821be459fa0118e2e41cf276a": {
      "model_module": "@jupyter-widgets/controls",
      "model_module_version": "1.5.0",
      "model_name": "FloatProgressModel",
      "state": {
       "_dom_classes": [],
       "_model_module": "@jupyter-widgets/controls",
       "_model_module_version": "1.5.0",
       "_model_name": "FloatProgressModel",
       "_view_count": null,
       "_view_module": "@jupyter-widgets/controls",
       "_view_module_version": "1.5.0",
       "_view_name": "ProgressView",
       "bar_style": "success",
       "description": "",
       "description_tooltip": null,
       "layout": "IPY_MODEL_553e75bd98e24d8ba13faaf87497f2b8",
       "max": 5069051.0,
       "min": 0.0,
       "orientation": "horizontal",
       "style": "IPY_MODEL_8c5a934e6ecd4b77a412b2e094bd09c2",
       "value": 5069051.0
      }
     },
     "c84304fc21894cc3895405f83c84ca4c": {
      "model_module": "@jupyter-widgets/controls",
      "model_module_version": "1.5.0",
      "model_name": "DescriptionStyleModel",
      "state": {
       "_model_module": "@jupyter-widgets/controls",
       "_model_module_version": "1.5.0",
       "_model_name": "DescriptionStyleModel",
       "_view_count": null,
       "_view_module": "@jupyter-widgets/base",
       "_view_module_version": "1.2.0",
       "_view_name": "StyleView",
       "description_width": ""
      }
     },
     "c89e8253d2c549e298062a5ab4900a05": {
      "model_module": "@jupyter-widgets/controls",
      "model_module_version": "1.5.0",
      "model_name": "DescriptionStyleModel",
      "state": {
       "_model_module": "@jupyter-widgets/controls",
       "_model_module_version": "1.5.0",
       "_model_name": "DescriptionStyleModel",
       "_view_count": null,
       "_view_module": "@jupyter-widgets/base",
       "_view_module_version": "1.2.0",
       "_view_name": "StyleView",
       "description_width": ""
      }
     },
     "d248b701675242528987a9e6c615a04f": {
      "model_module": "@jupyter-widgets/controls",
      "model_module_version": "1.5.0",
      "model_name": "HTMLModel",
      "state": {
       "_dom_classes": [],
       "_model_module": "@jupyter-widgets/controls",
       "_model_module_version": "1.5.0",
       "_model_name": "HTMLModel",
       "_view_count": null,
       "_view_module": "@jupyter-widgets/controls",
       "_view_module_version": "1.5.0",
       "_view_name": "HTMLView",
       "description": "",
       "description_tooltip": null,
       "layout": "IPY_MODEL_7e6fb6e7c44c4759b557ddfca2bb5ba5",
       "placeholder": "​",
       "style": "IPY_MODEL_acd076716ec5431dbac88c6657a2af62",
       "value": " 4.83M/4.83M [00:00&lt;00:00, 25.7MB/s]"
      }
     },
     "de80896ac4f14c47b33e84c34ea074b2": {
      "model_module": "@jupyter-widgets/controls",
      "model_module_version": "1.5.0",
      "model_name": "FloatProgressModel",
      "state": {
       "_dom_classes": [],
       "_model_module": "@jupyter-widgets/controls",
       "_model_module_version": "1.5.0",
       "_model_name": "FloatProgressModel",
       "_view_count": null,
       "_view_module": "@jupyter-widgets/controls",
       "_view_module_version": "1.5.0",
       "_view_name": "ProgressView",
       "bar_style": "success",
       "description": "",
       "description_tooltip": null,
       "layout": "IPY_MODEL_10a52a652fd1449a9598eb6d56482bd1",
       "max": 2239866761.0,
       "min": 0.0,
       "orientation": "horizontal",
       "style": "IPY_MODEL_2a536160b4fa4c1c94adc644b0378f23",
       "value": 2239866761.0
      }
     },
     "df256f3fad194768a772a874233f0a7d": {
      "model_module": "@jupyter-widgets/controls",
      "model_module_version": "1.5.0",
      "model_name": "ProgressStyleModel",
      "state": {
       "_model_module": "@jupyter-widgets/controls",
       "_model_module_version": "1.5.0",
       "_model_name": "ProgressStyleModel",
       "_view_count": null,
       "_view_module": "@jupyter-widgets/base",
       "_view_module_version": "1.2.0",
       "_view_name": "StyleView",
       "bar_color": null,
       "description_width": ""
      }
     },
     "df2e69ab29c448d7988fef8935e90003": {
      "model_module": "@jupyter-widgets/controls",
      "model_module_version": "1.5.0",
      "model_name": "DescriptionStyleModel",
      "state": {
       "_model_module": "@jupyter-widgets/controls",
       "_model_module_version": "1.5.0",
       "_model_name": "DescriptionStyleModel",
       "_view_count": null,
       "_view_module": "@jupyter-widgets/base",
       "_view_module_version": "1.2.0",
       "_view_name": "StyleView",
       "description_width": ""
      }
     },
     "e4161da09f55448d813cf543c0ba7f15": {
      "model_module": "@jupyter-widgets/controls",
      "model_module_version": "1.5.0",
      "model_name": "DescriptionStyleModel",
      "state": {
       "_model_module": "@jupyter-widgets/controls",
       "_model_module_version": "1.5.0",
       "_model_name": "DescriptionStyleModel",
       "_view_count": null,
       "_view_module": "@jupyter-widgets/base",
       "_view_module_version": "1.2.0",
       "_view_name": "StyleView",
       "description_width": ""
      }
     },
     "eb9d208958bf43dc9b83ddd9c8befc88": {
      "model_module": "@jupyter-widgets/base",
      "model_module_version": "1.2.0",
      "model_name": "LayoutModel",
      "state": {
       "_model_module": "@jupyter-widgets/base",
       "_model_module_version": "1.2.0",
       "_model_name": "LayoutModel",
       "_view_count": null,
       "_view_module": "@jupyter-widgets/base",
       "_view_module_version": "1.2.0",
       "_view_name": "LayoutView",
       "align_content": null,
       "align_items": null,
       "align_self": null,
       "border": null,
       "bottom": null,
       "display": null,
       "flex": null,
       "flex_flow": null,
       "grid_area": null,
       "grid_auto_columns": null,
       "grid_auto_flow": null,
       "grid_auto_rows": null,
       "grid_column": null,
       "grid_gap": null,
       "grid_row": null,
       "grid_template_areas": null,
       "grid_template_columns": null,
       "grid_template_rows": null,
       "height": null,
       "justify_content": null,
       "justify_items": null,
       "left": null,
       "margin": null,
       "max_height": null,
       "max_width": null,
       "min_height": null,
       "min_width": null,
       "object_fit": null,
       "object_position": null,
       "order": null,
       "overflow": null,
       "overflow_x": null,
       "overflow_y": null,
       "padding": null,
       "right": null,
       "top": null,
       "visibility": null,
       "width": null
      }
     },
     "ef4a1e2d28ab4a1badca485a51fef295": {
      "model_module": "@jupyter-widgets/controls",
      "model_module_version": "1.5.0",
      "model_name": "ProgressStyleModel",
      "state": {
       "_model_module": "@jupyter-widgets/controls",
       "_model_module_version": "1.5.0",
       "_model_name": "ProgressStyleModel",
       "_view_count": null,
       "_view_module": "@jupyter-widgets/base",
       "_view_module_version": "1.2.0",
       "_view_name": "StyleView",
       "bar_color": null,
       "description_width": ""
      }
     },
     "fe6bd74d9e8847b2884908560f014583": {
      "model_module": "@jupyter-widgets/controls",
      "model_module_version": "1.5.0",
      "model_name": "DescriptionStyleModel",
      "state": {
       "_model_module": "@jupyter-widgets/controls",
       "_model_module_version": "1.5.0",
       "_model_name": "DescriptionStyleModel",
       "_view_count": null,
       "_view_module": "@jupyter-widgets/base",
       "_view_module_version": "1.2.0",
       "_view_name": "StyleView",
       "description_width": ""
      }
     },
     "ff4f17eeb6ad41639e697cdf0167267c": {
      "model_module": "@jupyter-widgets/controls",
      "model_module_version": "1.5.0",
      "model_name": "DescriptionStyleModel",
      "state": {
       "_model_module": "@jupyter-widgets/controls",
       "_model_module_version": "1.5.0",
       "_model_name": "DescriptionStyleModel",
       "_view_count": null,
       "_view_module": "@jupyter-widgets/base",
       "_view_module_version": "1.2.0",
       "_view_name": "StyleView",
       "description_width": ""
      }
     }
    },
    "version_major": 2,
    "version_minor": 0
   }
  }
 },
 "nbformat": 4,
 "nbformat_minor": 5
}
