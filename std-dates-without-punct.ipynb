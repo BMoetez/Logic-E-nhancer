{
 "cells": [
  {
   "cell_type": "code",
   "execution_count": 1,
   "id": "4e1801c9",
   "metadata": {
    "_cell_guid": "b1076dfc-b9ad-4769-8c92-a6c4dae69d19",
    "_uuid": "8f2839f25d086af736a60e9eeb907d3b93b6e0e5",
    "execution": {
     "iopub.execute_input": "2022-06-10T15:21:59.723913Z",
     "iopub.status.busy": "2022-06-10T15:21:59.723450Z",
     "iopub.status.idle": "2022-06-10T15:22:06.163123Z",
     "shell.execute_reply": "2022-06-10T15:22:06.162303Z"
    },
    "papermill": {
     "duration": 6.457627,
     "end_time": "2022-06-10T15:22:06.165651",
     "exception": false,
     "start_time": "2022-06-10T15:21:59.708024",
     "status": "completed"
    },
    "tags": []
   },
   "outputs": [],
   "source": [
    "import numpy as np\n",
    "import pandas as pd \n",
    "import seaborn as sns\n",
    "import matplotlib.pyplot as plt \n",
    "import matplotlib.style as stl \n",
    "from tensorflow import keras \n",
    "from keras.preprocessing.text import Tokenizer\n",
    "from nltk.corpus import stopwords\n",
    "import string\n",
    "from tensorflow.keras.models import Sequential,Model\n",
    "from tensorflow.keras.layers import Dense, LSTM, Embedding,Dropout,SpatialDropout1D,Conv1D,MaxPooling1D,GRU,BatchNormalization\n",
    "import warnings\n",
    "warnings.filterwarnings('ignore')\n",
    "stl.use('ggplot')\n",
    "from tqdm import tqdm\n",
    "import string\n",
    "from nltk.corpus import stopwords\n",
    "from nltk.tokenize import word_tokenize\n",
    "from nltk.stem import WordNetLemmatizer\n",
    "from nltk.stem.snowball import SnowballStemmer\n",
    "import regex as re"
   ]
  },
  {
   "cell_type": "code",
   "execution_count": 2,
   "id": "023207c9",
   "metadata": {
    "execution": {
     "iopub.execute_input": "2022-06-10T15:22:06.191499Z",
     "iopub.status.busy": "2022-06-10T15:22:06.190652Z",
     "iopub.status.idle": "2022-06-10T15:22:06.267587Z",
     "shell.execute_reply": "2022-06-10T15:22:06.266797Z"
    },
    "papermill": {
     "duration": 0.091897,
     "end_time": "2022-06-10T15:22:06.269759",
     "exception": false,
     "start_time": "2022-06-10T15:22:06.177862",
     "status": "completed"
    },
    "tags": []
   },
   "outputs": [],
   "source": [
    "newdata=pd.read_csv(\"../input/oathss/oaths.csv\")"
   ]
  },
  {
   "cell_type": "markdown",
   "id": "5fe49f2b",
   "metadata": {
    "papermill": {
     "duration": 0.01167,
     "end_time": "2022-06-10T15:22:06.293464",
     "exception": false,
     "start_time": "2022-06-10T15:22:06.281794",
     "status": "completed"
    },
    "tags": []
   },
   "source": [
    "# Preprocessing"
   ]
  },
  {
   "cell_type": "code",
   "execution_count": 3,
   "id": "95cfa223",
   "metadata": {
    "execution": {
     "iopub.execute_input": "2022-06-10T15:22:06.318309Z",
     "iopub.status.busy": "2022-06-10T15:22:06.317980Z",
     "iopub.status.idle": "2022-06-10T15:22:06.324786Z",
     "shell.execute_reply": "2022-06-10T15:22:06.324000Z"
    },
    "papermill": {
     "duration": 0.021076,
     "end_time": "2022-06-10T15:22:06.326450",
     "exception": false,
     "start_time": "2022-06-10T15:22:06.305374",
     "status": "completed"
    },
    "tags": []
   },
   "outputs": [],
   "source": [
    "all_text=newdata[\"transcription_text\"]"
   ]
  },
  {
   "cell_type": "code",
   "execution_count": 4,
   "id": "cc10ed10",
   "metadata": {
    "execution": {
     "iopub.execute_input": "2022-06-10T15:22:06.352069Z",
     "iopub.status.busy": "2022-06-10T15:22:06.351496Z",
     "iopub.status.idle": "2022-06-10T15:22:06.360877Z",
     "shell.execute_reply": "2022-06-10T15:22:06.360098Z"
    },
    "papermill": {
     "duration": 0.024368,
     "end_time": "2022-06-10T15:22:06.362762",
     "exception": false,
     "start_time": "2022-06-10T15:22:06.338394",
     "status": "completed"
    },
    "tags": []
   },
   "outputs": [],
   "source": [
    "stop_words = set(stopwords.words('english'))\n",
    "punctuation = string.punctuation\n",
    "stemmer = SnowballStemmer(language=\"english\")\n",
    "lemmatizer = WordNetLemmatizer()"
   ]
  },
  {
   "cell_type": "code",
   "execution_count": 5,
   "id": "9e4c566f",
   "metadata": {
    "execution": {
     "iopub.execute_input": "2022-06-10T15:22:06.387795Z",
     "iopub.status.busy": "2022-06-10T15:22:06.387215Z",
     "iopub.status.idle": "2022-06-10T15:22:06.393909Z",
     "shell.execute_reply": "2022-06-10T15:22:06.393056Z"
    },
    "papermill": {
     "duration": 0.022027,
     "end_time": "2022-06-10T15:22:06.396166",
     "exception": false,
     "start_time": "2022-06-10T15:22:06.374139",
     "status": "completed"
    },
    "tags": []
   },
   "outputs": [
    {
     "data": {
      "text/plain": [
       "'!\"#$%&\\'()*+,-./:;<=>?@[\\\\]^_`{|}~'"
      ]
     },
     "execution_count": 5,
     "metadata": {},
     "output_type": "execute_result"
    }
   ],
   "source": [
    "stop_words.remove(\"of\")\n",
    "punctuation"
   ]
  },
  {
   "cell_type": "code",
   "execution_count": 6,
   "id": "5ff429ba",
   "metadata": {
    "execution": {
     "iopub.execute_input": "2022-06-10T15:22:06.420745Z",
     "iopub.status.busy": "2022-06-10T15:22:06.420301Z",
     "iopub.status.idle": "2022-06-10T15:22:06.425356Z",
     "shell.execute_reply": "2022-06-10T15:22:06.424657Z"
    },
    "papermill": {
     "duration": 0.019092,
     "end_time": "2022-06-10T15:22:06.427027",
     "exception": false,
     "start_time": "2022-06-10T15:22:06.407935",
     "status": "completed"
    },
    "tags": []
   },
   "outputs": [],
   "source": [
    "def process(s):\n",
    "    s= re.sub(\"([\\(\\[]).*?([\\)\\]])\",\" \",s)\n",
    "    for p in punctuation:\n",
    "        s = s.replace(p, '')\n",
    "    s = word_tokenize(s)\n",
    "    s = [w for w in s if not w in stop_words] #optional\n",
    "    s = [lemmatizer.lemmatize(word) for word in s]\n",
    "    return s"
   ]
  },
  {
   "cell_type": "code",
   "execution_count": 7,
   "id": "bdedc0ef",
   "metadata": {
    "execution": {
     "iopub.execute_input": "2022-06-10T15:22:06.451499Z",
     "iopub.status.busy": "2022-06-10T15:22:06.451045Z",
     "iopub.status.idle": "2022-06-10T15:22:12.770718Z",
     "shell.execute_reply": "2022-06-10T15:22:12.769588Z"
    },
    "papermill": {
     "duration": 6.334009,
     "end_time": "2022-06-10T15:22:12.772544",
     "exception": false,
     "start_time": "2022-06-10T15:22:06.438535",
     "status": "completed"
    },
    "tags": []
   },
   "outputs": [
    {
     "name": "stderr",
     "output_type": "stream",
     "text": [
      "100%|██████████| 2136/2136 [00:06<00:00, 338.50it/s]\n"
     ]
    }
   ],
   "source": [
    "for i in tqdm(range(newdata.shape[0])):\n",
    "    all_text[i] = process(all_text[i])"
   ]
  },
  {
   "cell_type": "code",
   "execution_count": 8,
   "id": "172249b8",
   "metadata": {
    "execution": {
     "iopub.execute_input": "2022-06-10T15:22:12.804223Z",
     "iopub.status.busy": "2022-06-10T15:22:12.803901Z",
     "iopub.status.idle": "2022-06-10T15:22:13.493424Z",
     "shell.execute_reply": "2022-06-10T15:22:13.492404Z"
    },
    "papermill": {
     "duration": 0.706807,
     "end_time": "2022-06-10T15:22:13.495099",
     "exception": false,
     "start_time": "2022-06-10T15:22:12.788292",
     "status": "completed"
    },
    "tags": []
   },
   "outputs": [
    {
     "name": "stderr",
     "output_type": "stream",
     "text": [
      "100%|██████████| 2136/2136 [00:00<00:00, 3130.54it/s]\n"
     ]
    }
   ],
   "source": [
    "for i in tqdm(range(newdata.shape[0])):\n",
    "    all_text[i] = \" \".join(all_text[i])"
   ]
  },
  {
   "cell_type": "code",
   "execution_count": 9,
   "id": "47baba0b",
   "metadata": {
    "execution": {
     "iopub.execute_input": "2022-06-10T15:22:13.526413Z",
     "iopub.status.busy": "2022-06-10T15:22:13.526098Z",
     "iopub.status.idle": "2022-06-10T15:22:13.532946Z",
     "shell.execute_reply": "2022-06-10T15:22:13.532236Z"
    },
    "papermill": {
     "duration": 0.024179,
     "end_time": "2022-06-10T15:22:13.534575",
     "exception": false,
     "start_time": "2022-06-10T15:22:13.510396",
     "status": "completed"
    },
    "tags": []
   },
   "outputs": [
    {
     "data": {
      "text/plain": [
       "0       I I C Meekins of Currituck County State of Nor...\n",
       "1       Department of Virginia North Carolina 1864 tak...\n",
       "2       I W H Pearce of Craven County State of NorthCa...\n",
       "3       State of North Carolina County I solemnly swea...\n",
       "4       State of North Carolina Wake County I SE Allen...\n",
       "                              ...                        \n",
       "2131    Office Provost Marshal Raleigh NC May 26 65 Th...\n",
       "2132    July 30th 1867 Birnie Wm Agent Bu R F A L Oath...\n",
       "2133    State of North Carolina Robeson County I Willi...\n",
       "2134    NARA 449 102 We whose name written well person...\n",
       "2135    NARA 450 404 Office Provost Marshall City of W...\n",
       "Name: transcription_text, Length: 2136, dtype: object"
      ]
     },
     "execution_count": 9,
     "metadata": {},
     "output_type": "execute_result"
    }
   ],
   "source": [
    "all_text"
   ]
  },
  {
   "cell_type": "code",
   "execution_count": null,
   "id": "28d9a96f",
   "metadata": {
    "papermill": {
     "duration": 0.014946,
     "end_time": "2022-06-10T15:22:13.565139",
     "exception": false,
     "start_time": "2022-06-10T15:22:13.550193",
     "status": "completed"
    },
    "tags": []
   },
   "outputs": [],
   "source": []
  },
  {
   "cell_type": "markdown",
   "id": "ba1e2b53",
   "metadata": {
    "papermill": {
     "duration": 0.014712,
     "end_time": "2022-06-10T15:22:13.594674",
     "exception": false,
     "start_time": "2022-06-10T15:22:13.579962",
     "status": "completed"
    },
    "tags": []
   },
   "source": [
    "# Flair"
   ]
  },
  {
   "cell_type": "code",
   "execution_count": 10,
   "id": "61f13773",
   "metadata": {
    "execution": {
     "iopub.execute_input": "2022-06-10T15:22:13.625943Z",
     "iopub.status.busy": "2022-06-10T15:22:13.625662Z",
     "iopub.status.idle": "2022-06-10T15:23:16.141255Z",
     "shell.execute_reply": "2022-06-10T15:23:16.140154Z"
    },
    "papermill": {
     "duration": 62.533599,
     "end_time": "2022-06-10T15:23:16.143669",
     "exception": false,
     "start_time": "2022-06-10T15:22:13.610070",
     "status": "completed"
    },
    "tags": []
   },
   "outputs": [
    {
     "name": "stdout",
     "output_type": "stream",
     "text": [
      "Requirement already satisfied: Cython in /opt/conda/lib/python3.7/site-packages (0.29.30)\r\n",
      "\u001b[33mWARNING: Running pip as the 'root' user can result in broken permissions and conflicting behaviour with the system package manager. It is recommended to use a virtual environment instead: https://pip.pypa.io/warnings/venv\u001b[0m\u001b[33m\r\n",
      "\u001b[0mRequirement already satisfied: transformers in /opt/conda/lib/python3.7/site-packages (4.18.0)\r\n",
      "Requirement already satisfied: pyyaml>=5.1 in /opt/conda/lib/python3.7/site-packages (from transformers) (6.0)\r\n",
      "Requirement already satisfied: requests in /opt/conda/lib/python3.7/site-packages (from transformers) (2.27.1)\r\n",
      "Requirement already satisfied: regex!=2019.12.17 in /opt/conda/lib/python3.7/site-packages (from transformers) (2021.11.10)\r\n",
      "Requirement already satisfied: packaging>=20.0 in /opt/conda/lib/python3.7/site-packages (from transformers) (21.3)\r\n",
      "Requirement already satisfied: tokenizers!=0.11.3,<0.13,>=0.11.1 in /opt/conda/lib/python3.7/site-packages (from transformers) (0.12.1)\r\n",
      "Requirement already satisfied: huggingface-hub<1.0,>=0.1.0 in /opt/conda/lib/python3.7/site-packages (from transformers) (0.5.1)\r\n",
      "Requirement already satisfied: sacremoses in /opt/conda/lib/python3.7/site-packages (from transformers) (0.0.53)\r\n",
      "Requirement already satisfied: importlib-metadata in /opt/conda/lib/python3.7/site-packages (from transformers) (4.11.4)\r\n",
      "Requirement already satisfied: filelock in /opt/conda/lib/python3.7/site-packages (from transformers) (3.6.0)\r\n",
      "Requirement already satisfied: numpy>=1.17 in /opt/conda/lib/python3.7/site-packages (from transformers) (1.21.6)\r\n",
      "Requirement already satisfied: tqdm>=4.27 in /opt/conda/lib/python3.7/site-packages (from transformers) (4.64.0)\r\n",
      "Requirement already satisfied: typing-extensions>=3.7.4.3 in /opt/conda/lib/python3.7/site-packages (from huggingface-hub<1.0,>=0.1.0->transformers) (4.2.0)\r\n",
      "Requirement already satisfied: pyparsing!=3.0.5,>=2.0.2 in /opt/conda/lib/python3.7/site-packages (from packaging>=20.0->transformers) (3.0.9)\r\n",
      "Requirement already satisfied: zipp>=0.5 in /opt/conda/lib/python3.7/site-packages (from importlib-metadata->transformers) (3.8.0)\r\n",
      "Requirement already satisfied: certifi>=2017.4.17 in /opt/conda/lib/python3.7/site-packages (from requests->transformers) (2022.5.18.1)\r\n",
      "Requirement already satisfied: idna<4,>=2.5 in /opt/conda/lib/python3.7/site-packages (from requests->transformers) (3.3)\r\n",
      "Requirement already satisfied: charset-normalizer~=2.0.0 in /opt/conda/lib/python3.7/site-packages (from requests->transformers) (2.0.12)\r\n",
      "Requirement already satisfied: urllib3<1.27,>=1.21.1 in /opt/conda/lib/python3.7/site-packages (from requests->transformers) (1.26.9)\r\n",
      "Requirement already satisfied: click in /opt/conda/lib/python3.7/site-packages (from sacremoses->transformers) (8.0.4)\r\n",
      "Requirement already satisfied: six in /opt/conda/lib/python3.7/site-packages (from sacremoses->transformers) (1.16.0)\r\n",
      "Requirement already satisfied: joblib in /opt/conda/lib/python3.7/site-packages (from sacremoses->transformers) (1.1.0)\r\n",
      "\u001b[33mWARNING: Running pip as the 'root' user can result in broken permissions and conflicting behaviour with the system package manager. It is recommended to use a virtual environment instead: https://pip.pypa.io/warnings/venv\u001b[0m\u001b[33m\r\n",
      "\u001b[0mCollecting flair\r\n",
      "  Downloading flair-0.11.3-py3-none-any.whl (401 kB)\r\n",
      "\u001b[2K     \u001b[90m━━━━━━━━━━━━━━━━━━━━━━━━━━━━━━━━━━━━━━━\u001b[0m \u001b[32m401.9/401.9 kB\u001b[0m \u001b[31m1.2 MB/s\u001b[0m eta \u001b[36m0:00:00\u001b[0m\r\n",
      "\u001b[?25hRequirement already satisfied: tqdm>=4.26.0 in /opt/conda/lib/python3.7/site-packages (from flair) (4.64.0)\r\n",
      "Requirement already satisfied: python-dateutil>=2.6.1 in /opt/conda/lib/python3.7/site-packages (from flair) (2.8.2)\r\n",
      "Requirement already satisfied: tabulate in /opt/conda/lib/python3.7/site-packages (from flair) (0.8.9)\r\n",
      "Collecting deprecated>=1.2.4\r\n",
      "  Downloading Deprecated-1.2.13-py2.py3-none-any.whl (9.6 kB)\r\n",
      "Requirement already satisfied: hyperopt>=0.2.7 in /opt/conda/lib/python3.7/site-packages (from flair) (0.2.7)\r\n",
      "Collecting sqlitedict>=1.6.0\r\n",
      "  Downloading sqlitedict-2.0.0.tar.gz (46 kB)\r\n",
      "\u001b[2K     \u001b[90m━━━━━━━━━━━━━━━━━━━━━━━━━━━━━━━━━━━━━━━━\u001b[0m \u001b[32m46.3/46.3 kB\u001b[0m \u001b[31m2.1 MB/s\u001b[0m eta \u001b[36m0:00:00\u001b[0m\r\n",
      "\u001b[?25h  Preparing metadata (setup.py) ... \u001b[?25l-\b \bdone\r\n",
      "\u001b[?25hRequirement already satisfied: more-itertools in /opt/conda/lib/python3.7/site-packages (from flair) (8.13.0)\r\n",
      "Collecting mpld3==0.3\r\n",
      "  Downloading mpld3-0.3.tar.gz (788 kB)\r\n",
      "\u001b[2K     \u001b[90m━━━━━━━━━━━━━━━━━━━━━━━━━━━━━━━━━━━━━━━\u001b[0m \u001b[32m788.5/788.5 kB\u001b[0m \u001b[31m5.8 MB/s\u001b[0m eta \u001b[36m0:00:00\u001b[0m\r\n",
      "\u001b[?25h  Preparing metadata (setup.py) ... \u001b[?25l-\b \bdone\r\n",
      "\u001b[?25hCollecting segtok>=1.5.7\r\n",
      "  Downloading segtok-1.5.11-py3-none-any.whl (24 kB)\r\n",
      "Collecting langdetect\r\n",
      "  Downloading langdetect-1.0.9.tar.gz (981 kB)\r\n",
      "\u001b[2K     \u001b[90m━━━━━━━━━━━━━━━━━━━━━━━━━━━━━━━━━━━━━━\u001b[0m \u001b[32m981.5/981.5 kB\u001b[0m \u001b[31m17.6 MB/s\u001b[0m eta \u001b[36m0:00:00\u001b[0m\r\n",
      "\u001b[?25h  Preparing metadata (setup.py) ... \u001b[?25l-\b \bdone\r\n",
      "\u001b[?25hCollecting pptree\r\n",
      "  Downloading pptree-3.1.tar.gz (3.0 kB)\r\n",
      "  Preparing metadata (setup.py) ... \u001b[?25l-\b \bdone\r\n",
      "\u001b[?25hRequirement already satisfied: matplotlib>=2.2.3 in /opt/conda/lib/python3.7/site-packages (from flair) (3.5.2)\r\n",
      "Requirement already satisfied: janome in /opt/conda/lib/python3.7/site-packages (from flair) (0.4.2)\r\n",
      "Collecting sentencepiece==0.1.95\r\n",
      "  Downloading sentencepiece-0.1.95-cp37-cp37m-manylinux2014_x86_64.whl (1.2 MB)\r\n",
      "\u001b[2K     \u001b[90m━━━━━━━━━━━━━━━━━━━━━━━━━━━━━━━━━━━━━━━━\u001b[0m \u001b[32m1.2/1.2 MB\u001b[0m \u001b[31m8.8 MB/s\u001b[0m eta \u001b[36m0:00:00\u001b[0m\r\n",
      "\u001b[?25hRequirement already satisfied: lxml in /opt/conda/lib/python3.7/site-packages (from flair) (4.8.0)\r\n",
      "Collecting konoha<5.0.0,>=4.0.0\r\n",
      "  Downloading konoha-4.6.5-py3-none-any.whl (20 kB)\r\n",
      "Collecting conllu>=4.0\r\n",
      "  Downloading conllu-4.4.2-py2.py3-none-any.whl (15 kB)\r\n",
      "Collecting ftfy\r\n",
      "  Downloading ftfy-6.1.1-py3-none-any.whl (53 kB)\r\n",
      "\u001b[2K     \u001b[90m━━━━━━━━━━━━━━━━━━━━━━━━━━━━━━━━━━━━━━━━\u001b[0m \u001b[32m53.1/53.1 kB\u001b[0m \u001b[31m5.9 MB/s\u001b[0m eta \u001b[36m0:00:00\u001b[0m\r\n",
      "\u001b[?25hCollecting wikipedia-api\r\n",
      "  Downloading Wikipedia-API-0.5.4.tar.gz (18 kB)\r\n",
      "  Preparing metadata (setup.py) ... \u001b[?25l-\b \bdone\r\n",
      "\u001b[?25hRequirement already satisfied: gensim>=3.4.0 in /opt/conda/lib/python3.7/site-packages (from flair) (4.0.1)\r\n",
      "Requirement already satisfied: torch!=1.8,>=1.5.0 in /opt/conda/lib/python3.7/site-packages (from flair) (1.11.0)\r\n",
      "Collecting gdown==4.4.0\r\n",
      "  Downloading gdown-4.4.0.tar.gz (14 kB)\r\n",
      "  Installing build dependencies ... \u001b[?25l-\b \b\\\b \b|\b \b/\b \b-\b \b\\\b \bdone\r\n",
      "\u001b[?25h  Getting requirements to build wheel ... \u001b[?25l-\b \b\\\b \b|\b \b/\b \b-\b \bdone\r\n",
      "\u001b[?25h  Preparing metadata (pyproject.toml) ... \u001b[?25l-\b \b\\\b \b|\b \b/\b \b-\b \b\\\b \bdone\r\n",
      "\u001b[?25hRequirement already satisfied: huggingface-hub in /opt/conda/lib/python3.7/site-packages (from flair) (0.5.1)\r\n",
      "Requirement already satisfied: regex in /opt/conda/lib/python3.7/site-packages (from flair) (2021.11.10)\r\n",
      "Requirement already satisfied: scikit-learn>=0.21.3 in /opt/conda/lib/python3.7/site-packages (from flair) (1.0.2)\r\n",
      "Requirement already satisfied: transformers>=4.0.0 in /opt/conda/lib/python3.7/site-packages (from flair) (4.18.0)\r\n",
      "Collecting bpemb>=0.3.2\r\n",
      "  Downloading bpemb-0.3.3-py3-none-any.whl (19 kB)\r\n",
      "Requirement already satisfied: requests[socks] in /opt/conda/lib/python3.7/site-packages (from gdown==4.4.0->flair) (2.27.1)\r\n",
      "Requirement already satisfied: beautifulsoup4 in /opt/conda/lib/python3.7/site-packages (from gdown==4.4.0->flair) (4.11.1)\r\n",
      "Requirement already satisfied: filelock in /opt/conda/lib/python3.7/site-packages (from gdown==4.4.0->flair) (3.6.0)\r\n",
      "Requirement already satisfied: six in /opt/conda/lib/python3.7/site-packages (from gdown==4.4.0->flair) (1.16.0)\r\n",
      "Requirement already satisfied: numpy in /opt/conda/lib/python3.7/site-packages (from bpemb>=0.3.2->flair) (1.21.6)\r\n",
      "Requirement already satisfied: wrapt<2,>=1.10 in /opt/conda/lib/python3.7/site-packages (from deprecated>=1.2.4->flair) (1.14.1)\r\n",
      "Requirement already satisfied: smart-open>=1.8.1 in /opt/conda/lib/python3.7/site-packages (from gensim>=3.4.0->flair) (5.2.1)\r\n",
      "Requirement already satisfied: scipy>=0.18.1 in /opt/conda/lib/python3.7/site-packages (from gensim>=3.4.0->flair) (1.7.3)\r\n",
      "Requirement already satisfied: networkx>=2.2 in /opt/conda/lib/python3.7/site-packages (from hyperopt>=0.2.7->flair) (2.5)\r\n",
      "Requirement already satisfied: py4j in /opt/conda/lib/python3.7/site-packages (from hyperopt>=0.2.7->flair) (0.10.9.5)\r\n",
      "Requirement already satisfied: cloudpickle in /opt/conda/lib/python3.7/site-packages (from hyperopt>=0.2.7->flair) (2.0.0)\r\n",
      "Requirement already satisfied: future in /opt/conda/lib/python3.7/site-packages (from hyperopt>=0.2.7->flair) (0.18.2)\r\n",
      "Collecting importlib-metadata<4.0.0,>=3.7.0\r\n",
      "  Downloading importlib_metadata-3.10.1-py3-none-any.whl (14 kB)\r\n",
      "Collecting overrides<4.0.0,>=3.0.0\r\n",
      "  Downloading overrides-3.1.0.tar.gz (11 kB)\r\n",
      "  Preparing metadata (setup.py) ... \u001b[?25l-\b \bdone\r\n",
      "\u001b[?25hRequirement already satisfied: cycler>=0.10 in /opt/conda/lib/python3.7/site-packages (from matplotlib>=2.2.3->flair) (0.11.0)\r\n",
      "Requirement already satisfied: pillow>=6.2.0 in /opt/conda/lib/python3.7/site-packages (from matplotlib>=2.2.3->flair) (9.1.0)\r\n",
      "Requirement already satisfied: fonttools>=4.22.0 in /opt/conda/lib/python3.7/site-packages (from matplotlib>=2.2.3->flair) (4.33.3)\r\n",
      "Requirement already satisfied: packaging>=20.0 in /opt/conda/lib/python3.7/site-packages (from matplotlib>=2.2.3->flair) (21.3)\r\n",
      "Requirement already satisfied: pyparsing>=2.2.1 in /opt/conda/lib/python3.7/site-packages (from matplotlib>=2.2.3->flair) (3.0.9)\r\n",
      "Requirement already satisfied: kiwisolver>=1.0.1 in /opt/conda/lib/python3.7/site-packages (from matplotlib>=2.2.3->flair) (1.4.2)\r\n",
      "Requirement already satisfied: joblib>=0.11 in /opt/conda/lib/python3.7/site-packages (from scikit-learn>=0.21.3->flair) (1.1.0)\r\n",
      "Requirement already satisfied: threadpoolctl>=2.0.0 in /opt/conda/lib/python3.7/site-packages (from scikit-learn>=0.21.3->flair) (3.1.0)\r\n",
      "Requirement already satisfied: typing-extensions in /opt/conda/lib/python3.7/site-packages (from torch!=1.8,>=1.5.0->flair) (4.2.0)\r\n",
      "Requirement already satisfied: pyyaml>=5.1 in /opt/conda/lib/python3.7/site-packages (from transformers>=4.0.0->flair) (6.0)\r\n",
      "Requirement already satisfied: sacremoses in /opt/conda/lib/python3.7/site-packages (from transformers>=4.0.0->flair) (0.0.53)\r\n",
      "Requirement already satisfied: tokenizers!=0.11.3,<0.13,>=0.11.1 in /opt/conda/lib/python3.7/site-packages (from transformers>=4.0.0->flair) (0.12.1)\r\n",
      "Requirement already satisfied: wcwidth>=0.2.5 in /opt/conda/lib/python3.7/site-packages (from ftfy->flair) (0.2.5)\r\n",
      "Requirement already satisfied: zipp>=0.5 in /opt/conda/lib/python3.7/site-packages (from importlib-metadata<4.0.0,>=3.7.0->konoha<5.0.0,>=4.0.0->flair) (3.8.0)\r\n",
      "Requirement already satisfied: decorator>=4.3.0 in /opt/conda/lib/python3.7/site-packages (from networkx>=2.2->hyperopt>=0.2.7->flair) (5.1.1)\r\n",
      "Requirement already satisfied: urllib3<1.27,>=1.21.1 in /opt/conda/lib/python3.7/site-packages (from requests[socks]->gdown==4.4.0->flair) (1.26.9)\r\n",
      "Requirement already satisfied: idna<4,>=2.5 in /opt/conda/lib/python3.7/site-packages (from requests[socks]->gdown==4.4.0->flair) (3.3)\r\n",
      "Requirement already satisfied: charset-normalizer~=2.0.0 in /opt/conda/lib/python3.7/site-packages (from requests[socks]->gdown==4.4.0->flair) (2.0.12)\r\n",
      "Requirement already satisfied: certifi>=2017.4.17 in /opt/conda/lib/python3.7/site-packages (from requests[socks]->gdown==4.4.0->flair) (2022.5.18.1)\r\n",
      "Requirement already satisfied: soupsieve>1.2 in /opt/conda/lib/python3.7/site-packages (from beautifulsoup4->gdown==4.4.0->flair) (2.3.1)\r\n",
      "Requirement already satisfied: PySocks!=1.5.7,>=1.5.6 in /opt/conda/lib/python3.7/site-packages (from requests[socks]->gdown==4.4.0->flair) (1.7.1)\r\n",
      "Requirement already satisfied: click in /opt/conda/lib/python3.7/site-packages (from sacremoses->transformers>=4.0.0->flair) (8.0.4)\r\n",
      "Building wheels for collected packages: gdown, mpld3, sqlitedict, langdetect, pptree, wikipedia-api, overrides\r\n",
      "  Building wheel for gdown (pyproject.toml) ... \u001b[?25l-\b \b\\\b \b|\b \b/\b \b-\b \b\\\b \b|\b \bdone\r\n",
      "\u001b[?25h  Created wheel for gdown: filename=gdown-4.4.0-py3-none-any.whl size=14759 sha256=155e316a9af7d334db7c16e86ae6d6d8eb422c0fa88ceea023b5243f982be016\r\n",
      "  Stored in directory: /root/.cache/pip/wheels/fb/c3/0e/c4d8ff8bfcb0461afff199471449f642179b74968c15b7a69c\r\n",
      "  Building wheel for mpld3 (setup.py) ... \u001b[?25l-\b \b\\\b \bdone\r\n",
      "\u001b[?25h  Created wheel for mpld3: filename=mpld3-0.3-py3-none-any.whl size=116702 sha256=127041dc1bc78add4fc39f210ea8e634af517764fadafa8369f783766a74da67\r\n",
      "  Stored in directory: /root/.cache/pip/wheels/26/70/6a/1c79e59951a41b4045497da187b2724f5659ca64033cf4548e\r\n",
      "  Building wheel for sqlitedict (setup.py) ... \u001b[?25l-\b \bdone\r\n",
      "\u001b[?25h  Created wheel for sqlitedict: filename=sqlitedict-2.0.0-py3-none-any.whl size=15736 sha256=6825f3462c46b9cef33bdd7279ccbcfe52bf24f0b8d64830b7868c0d204bffa7\r\n",
      "  Stored in directory: /root/.cache/pip/wheels/96/dd/2e/0ed4a25cb73fc30c7ea8d10b50acb7226175736067e40a7ea3\r\n",
      "  Building wheel for langdetect (setup.py) ... \u001b[?25l-\b \b\\\b \b|\b \b/\b \bdone\r\n",
      "\u001b[?25h  Created wheel for langdetect: filename=langdetect-1.0.9-py3-none-any.whl size=993242 sha256=bb7395a4b1d88088c9a9bf6687b085a25b0a1cb509f17300ef54a40a06a66ba2\r\n",
      "  Stored in directory: /root/.cache/pip/wheels/c5/96/8a/f90c59ed25d75e50a8c10a1b1c2d4c402e4dacfa87f3aff36a\r\n",
      "  Building wheel for pptree (setup.py) ... \u001b[?25l-\b \bdone\r\n",
      "\u001b[?25h  Created wheel for pptree: filename=pptree-3.1-py3-none-any.whl size=4629 sha256=a6c1af723498702a6d898a2f9f1cf062d6c03ce1cb22d5a17f13a6d7d071293a\r\n",
      "  Stored in directory: /root/.cache/pip/wheels/9e/e8/7d/a9c3c19b4722608a0d8b05a38c36bc3f230c43becd2a46794b\r\n",
      "  Building wheel for wikipedia-api (setup.py) ... \u001b[?25l-\b \bdone\r\n",
      "\u001b[?25h  Created wheel for wikipedia-api: filename=Wikipedia_API-0.5.4-py3-none-any.whl size=13477 sha256=500a943037689b1703dbedf72418c9bcdac217624ce8c9fe3eef1482fc0171ea\r\n",
      "  Stored in directory: /root/.cache/pip/wheels/d3/24/56/58ba93cf78be162451144e7a9889603f437976ef1ae7013d04\r\n",
      "  Building wheel for overrides (setup.py) ... \u001b[?25l-\b \bdone\r\n",
      "\u001b[?25h  Created wheel for overrides: filename=overrides-3.1.0-py3-none-any.whl size=10187 sha256=e71930eafefea2038687070d2b982d0fa400566974ec31dedc925457efd60527\r\n",
      "  Stored in directory: /root/.cache/pip/wheels/3a/0d/38/01a9bc6e20dcfaf0a6a7b552d03137558ba1c38aea47644682\r\n",
      "Successfully built gdown mpld3 sqlitedict langdetect pptree wikipedia-api overrides\r\n",
      "Installing collected packages: sqlitedict, sentencepiece, pptree, overrides, mpld3, segtok, langdetect, importlib-metadata, ftfy, deprecated, conllu, wikipedia-api, konoha, gdown, bpemb, flair\r\n",
      "  Attempting uninstall: sentencepiece\r\n",
      "    Found existing installation: sentencepiece 0.1.96\r\n",
      "    Uninstalling sentencepiece-0.1.96:\r\n",
      "      Successfully uninstalled sentencepiece-0.1.96\r\n",
      "  Attempting uninstall: overrides\r\n",
      "    Found existing installation: overrides 6.1.0\r\n",
      "    Uninstalling overrides-6.1.0:\r\n",
      "      Successfully uninstalled overrides-6.1.0\r\n",
      "  Attempting uninstall: mpld3\r\n",
      "    Found existing installation: mpld3 0.5.7\r\n",
      "    Uninstalling mpld3-0.5.7:\r\n",
      "      Successfully uninstalled mpld3-0.5.7\r\n",
      "  Attempting uninstall: importlib-metadata\r\n",
      "    Found existing installation: importlib-metadata 4.11.4\r\n",
      "    Uninstalling importlib-metadata-4.11.4:\r\n",
      "      Successfully uninstalled importlib-metadata-4.11.4\r\n",
      "\u001b[31mERROR: pip's dependency resolver does not currently take into account all the packages that are installed. This behaviour is the source of the following dependency conflicts.\r\n",
      "markdown 3.3.7 requires importlib-metadata>=4.4; python_version < \"3.10\", but you have importlib-metadata 3.10.1 which is incompatible.\r\n",
      "ibis-framework 2.1.1 requires importlib-metadata<5,>=4; python_version < \"3.8\", but you have importlib-metadata 3.10.1 which is incompatible.\r\n",
      "gym 0.23.1 requires importlib-metadata>=4.10.0; python_version < \"3.10\", but you have importlib-metadata 3.10.1 which is incompatible.\r\n",
      "google-cloud-pubsublite 1.4.2 requires overrides<7.0.0,>=6.0.1, but you have overrides 3.1.0 which is incompatible.\u001b[0m\u001b[31m\r\n",
      "\u001b[0mSuccessfully installed bpemb-0.3.3 conllu-4.4.2 deprecated-1.2.13 flair-0.11.3 ftfy-6.1.1 gdown-4.4.0 importlib-metadata-3.10.1 konoha-4.6.5 langdetect-1.0.9 mpld3-0.3 overrides-3.1.0 pptree-3.1 segtok-1.5.11 sentencepiece-0.1.95 sqlitedict-2.0.0 wikipedia-api-0.5.4\r\n",
      "\u001b[33mWARNING: Running pip as the 'root' user can result in broken permissions and conflicting behaviour with the system package manager. It is recommended to use a virtual environment instead: https://pip.pypa.io/warnings/venv\u001b[0m\u001b[33m\r\n",
      "\u001b[0m"
     ]
    }
   ],
   "source": [
    "!pip3 install Cython\n",
    "!pip install transformers\n",
    "!pip install flair"
   ]
  },
  {
   "cell_type": "markdown",
   "id": "2243e13c",
   "metadata": {
    "papermill": {
     "duration": 0.02213,
     "end_time": "2022-06-10T15:23:16.188541",
     "exception": false,
     "start_time": "2022-06-10T15:23:16.166411",
     "status": "completed"
    },
    "tags": []
   },
   "source": [
    "# Hugging face  : Flair"
   ]
  },
  {
   "cell_type": "markdown",
   "id": "bf436f9b",
   "metadata": {
    "papermill": {
     "duration": 0.021919,
     "end_time": "2022-06-10T15:23:16.233417",
     "exception": false,
     "start_time": "2022-06-10T15:23:16.211498",
     "status": "completed"
    },
    "tags": []
   },
   "source": [
    "**ner-english** "
   ]
  },
  {
   "cell_type": "code",
   "execution_count": 11,
   "id": "dc440e21",
   "metadata": {
    "execution": {
     "iopub.execute_input": "2022-06-10T15:23:16.279116Z",
     "iopub.status.busy": "2022-06-10T15:23:16.278785Z",
     "iopub.status.idle": "2022-06-10T15:23:18.545193Z",
     "shell.execute_reply": "2022-06-10T15:23:18.544227Z"
    },
    "papermill": {
     "duration": 2.291519,
     "end_time": "2022-06-10T15:23:18.547117",
     "exception": false,
     "start_time": "2022-06-10T15:23:16.255598",
     "status": "completed"
    },
    "tags": []
   },
   "outputs": [
    {
     "name": "stdout",
     "output_type": "stream",
     "text": [
      "git: 'lfs' is not a git command. See 'git --help'.\r\n",
      "\r\n",
      "The most similar command is\r\n",
      "\tlog\r\n",
      "Cloning into 'ner-english-large'...\r\n",
      "remote: Enumerating objects: 25, done.\u001b[K\r\n",
      "remote: Counting objects: 100% (25/25), done.\u001b[K\r\n",
      "remote: Compressing objects: 100% (24/24), done.\u001b[K\r\n",
      "remote: Total 25 (delta 10), reused 0 (delta 0), pack-reused 0\r\n",
      "Unpacking objects: 100% (25/25), 11.03 KiB | 1.00 MiB/s, done.\r\n"
     ]
    }
   ],
   "source": [
    "!git lfs install\n",
    "!git clone https://huggingface.co/flair/ner-english-large"
   ]
  },
  {
   "cell_type": "code",
   "execution_count": 12,
   "id": "e9d45327",
   "metadata": {
    "execution": {
     "iopub.execute_input": "2022-06-10T15:23:18.595900Z",
     "iopub.status.busy": "2022-06-10T15:23:18.595552Z",
     "iopub.status.idle": "2022-06-10T15:24:40.939015Z",
     "shell.execute_reply": "2022-06-10T15:24:40.938074Z"
    },
    "papermill": {
     "duration": 82.371304,
     "end_time": "2022-06-10T15:24:40.941955",
     "exception": false,
     "start_time": "2022-06-10T15:23:18.570651",
     "status": "completed"
    },
    "tags": []
   },
   "outputs": [
    {
     "data": {
      "application/vnd.jupyter.widget-view+json": {
       "model_id": "e4a71192a9df4d17afa5812df5301037",
       "version_major": 2,
       "version_minor": 0
      },
      "text/plain": [
       "Downloading:   0%|          | 0.00/2.24G [00:00<?, ?B/s]"
      ]
     },
     "metadata": {},
     "output_type": "display_data"
    },
    {
     "name": "stdout",
     "output_type": "stream",
     "text": [
      "2022-06-10 15:24:13,024 loading file /root/.flair/models/ner-english-ontonotes-large/2da6c2cdd76e59113033adf670340bfd820f0301ae2e39204d67ba2dc276cc28.ec1bdb304b6c66111532c3b1fc6e522460ae73f1901848a4d0362cdf9760edb1\n"
     ]
    },
    {
     "data": {
      "application/vnd.jupyter.widget-view+json": {
       "model_id": "7e9e4b244e6c4f60b2040243ae22f201",
       "version_major": 2,
       "version_minor": 0
      },
      "text/plain": [
       "Downloading:   0%|          | 0.00/616 [00:00<?, ?B/s]"
      ]
     },
     "metadata": {},
     "output_type": "display_data"
    },
    {
     "data": {
      "application/vnd.jupyter.widget-view+json": {
       "model_id": "0b7a44f4a11f4018b75a49b6666484da",
       "version_major": 2,
       "version_minor": 0
      },
      "text/plain": [
       "Downloading:   0%|          | 0.00/4.83M [00:00<?, ?B/s]"
      ]
     },
     "metadata": {},
     "output_type": "display_data"
    },
    {
     "data": {
      "application/vnd.jupyter.widget-view+json": {
       "model_id": "b764bc46bcd941a08ae8daf73d0f311e",
       "version_major": 2,
       "version_minor": 0
      },
      "text/plain": [
       "Downloading:   0%|          | 0.00/8.68M [00:00<?, ?B/s]"
      ]
     },
     "metadata": {},
     "output_type": "display_data"
    },
    {
     "name": "stdout",
     "output_type": "stream",
     "text": [
      "2022-06-10 15:24:40,315 SequenceTagger predicts: Dictionary with 76 tags: <unk>, O, B-CARDINAL, E-CARDINAL, S-PERSON, S-CARDINAL, S-PRODUCT, B-PRODUCT, I-PRODUCT, E-PRODUCT, B-WORK_OF_ART, I-WORK_OF_ART, E-WORK_OF_ART, B-PERSON, E-PERSON, S-GPE, B-DATE, I-DATE, E-DATE, S-ORDINAL, S-LANGUAGE, I-PERSON, S-EVENT, S-DATE, B-QUANTITY, E-QUANTITY, S-TIME, B-TIME, I-TIME, E-TIME, B-GPE, E-GPE, S-ORG, I-GPE, S-NORP, B-FAC, I-FAC, E-FAC, B-NORP, E-NORP, S-PERCENT, B-ORG, E-ORG, B-LANGUAGE, E-LANGUAGE, I-CARDINAL, I-ORG, S-WORK_OF_ART, I-QUANTITY, B-MONEY\n"
     ]
    }
   ],
   "source": [
    "from flair.models import SequenceTagger\n",
    "\n",
    "tagger = SequenceTagger.load(\"flair/ner-english-ontonotes-large\")"
   ]
  },
  {
   "cell_type": "code",
   "execution_count": 13,
   "id": "131d70f0",
   "metadata": {
    "execution": {
     "iopub.execute_input": "2022-06-10T15:24:40.991295Z",
     "iopub.status.busy": "2022-06-10T15:24:40.990958Z",
     "iopub.status.idle": "2022-06-10T15:24:53.691871Z",
     "shell.execute_reply": "2022-06-10T15:24:53.691035Z"
    },
    "papermill": {
     "duration": 12.728178,
     "end_time": "2022-06-10T15:24:53.693965",
     "exception": false,
     "start_time": "2022-06-10T15:24:40.965787",
     "status": "completed"
    },
    "tags": []
   },
   "outputs": [
    {
     "data": {
      "application/vnd.jupyter.widget-view+json": {
       "model_id": "17295c07099340f5b2120f254dddf2bf",
       "version_major": 2,
       "version_minor": 0
      },
      "text/plain": [
       "Downloading:   0%|          | 0.00/432M [00:00<?, ?B/s]"
      ]
     },
     "metadata": {},
     "output_type": "display_data"
    },
    {
     "name": "stdout",
     "output_type": "stream",
     "text": [
      "2022-06-10 15:24:50,927 loading file /root/.flair/models/ner-english/4f4cdab26f24cb98b732b389e6cebc646c36f54cfd6e0b7d3b90b25656e4262f.8baa8ae8795f4df80b28e7f7b61d788ecbb057d1dc85aacb316f1bd02837a4a4\n",
      "2022-06-10 15:24:52,739 SequenceTagger predicts: Dictionary with 20 tags: <unk>, O, S-ORG, S-MISC, B-PER, E-PER, S-LOC, B-ORG, E-ORG, I-PER, S-PER, B-MISC, I-MISC, E-MISC, I-ORG, B-LOC, E-LOC, I-LOC, <START>, <STOP>\n"
     ]
    }
   ],
   "source": [
    "from flair.models import SequenceTagger\n",
    "\n",
    "tagger1 = SequenceTagger.load(\"flair/ner-english\")"
   ]
  },
  {
   "cell_type": "code",
   "execution_count": 14,
   "id": "4a4acae9",
   "metadata": {
    "execution": {
     "iopub.execute_input": "2022-06-10T15:24:53.743833Z",
     "iopub.status.busy": "2022-06-10T15:24:53.743519Z",
     "iopub.status.idle": "2022-06-10T15:26:02.542312Z",
     "shell.execute_reply": "2022-06-10T15:26:02.541333Z"
    },
    "papermill": {
     "duration": 68.825856,
     "end_time": "2022-06-10T15:26:02.544624",
     "exception": false,
     "start_time": "2022-06-10T15:24:53.718768",
     "status": "completed"
    },
    "tags": []
   },
   "outputs": [
    {
     "data": {
      "application/vnd.jupyter.widget-view+json": {
       "model_id": "99ed244f09b74da3bb1e728dbed9bc6c",
       "version_major": 2,
       "version_minor": 0
      },
      "text/plain": [
       "Downloading:   0%|          | 0.00/2.24G [00:00<?, ?B/s]"
      ]
     },
     "metadata": {},
     "output_type": "display_data"
    },
    {
     "name": "stdout",
     "output_type": "stream",
     "text": [
      "2022-06-10 15:25:43,874 loading file /root/.flair/models/ner-english-large/07301f59bb8cb113803be316267f06ddf9243cdbba92a4c8067ef92442d2c574.554244d3476d97501a766a98078421817b14654496b86f2f7bd139dc502a4f29\n",
      "2022-06-10 15:26:01,916 SequenceTagger predicts: Dictionary with 20 tags: <unk>, O, S-ORG, S-MISC, B-PER, E-PER, S-LOC, B-ORG, E-ORG, I-PER, S-PER, B-MISC, I-MISC, E-MISC, I-ORG, B-LOC, E-LOC, I-LOC, <START>, <STOP>\n"
     ]
    }
   ],
   "source": [
    "from flair.models import SequenceTagger\n",
    "\n",
    "tagger2 = SequenceTagger.load(\"flair/ner-english-large\")"
   ]
  },
  {
   "cell_type": "markdown",
   "id": "4570f572",
   "metadata": {
    "papermill": {
     "duration": 0.023383,
     "end_time": "2022-06-10T15:26:02.592804",
     "exception": false,
     "start_time": "2022-06-10T15:26:02.569421",
     "status": "completed"
    },
    "tags": []
   },
   "source": [
    "tagger3 nerenglishlarge"
   ]
  },
  {
   "cell_type": "code",
   "execution_count": 15,
   "id": "7eefe287",
   "metadata": {
    "execution": {
     "iopub.execute_input": "2022-06-10T15:26:02.642003Z",
     "iopub.status.busy": "2022-06-10T15:26:02.641672Z",
     "iopub.status.idle": "2022-06-10T15:27:42.513127Z",
     "shell.execute_reply": "2022-06-10T15:27:42.512225Z"
    },
    "papermill": {
     "duration": 99.899046,
     "end_time": "2022-06-10T15:27:42.515353",
     "exception": false,
     "start_time": "2022-06-10T15:26:02.616307",
     "status": "completed"
    },
    "tags": []
   },
   "outputs": [],
   "source": [
    "listenglarge=[]\n",
    "label=[]\n",
    "Per=[]\n",
    "ORG=[]\n",
    "LOC=[]\n",
    "from flair.data import Sentence\n",
    "\n",
    "dflarge=pd.DataFrame({\"text\":\"\", \"PERSON-nerenglarge\":[], \"LOC-nerenglarge\":\"\",\"ORG-nerenglarge\":\"\"})\n",
    "for i in range(2136):\n",
    "        sentencess =Sentence(all_text[i])\n",
    "        dflarge.loc[i,\"text\"]=all_text[i]\n",
    "        tagger2.predict(sentencess)\n",
    "        dc={}\n",
    "        P=[]\n",
    "        L=[]\n",
    "        G=[]\n",
    "        O=[]\n",
    "        for entity in sentencess.get_spans('ner'):\n",
    "                     \n",
    "                     if (entity.get_label(\"ner\").score > 0.90) & (entity.get_label(\"ner\").value != \"CARDINAL\") & (entity.get_label(\"ner\").value != \"LAW\")& (entity.get_label(\"ner\").value != \"QUANTITY\") & (entity.get_label(\"ner\").value != \"WORK_OF_ART\") & (entity.get_label(\"ner\").value != \"LAW\")& (entity.get_label(\"ner\").value != \"QUANTITY\") & (entity.get_label(\"ner\").value != \"EVENT\")  :\n",
    "                        dc[entity.text]= entity.get_label(\"ner\").value \n",
    "                        listenglarge.append(entity)\n",
    "        \n",
    "        \n",
    "        for j in dc :\n",
    "                if dc[j]==\"PER\":\n",
    "                      P.append(j)\n",
    "                elif (dc[j]==\"ORG\") | (dc[j]==\"MISC\") :\n",
    "                      O.append(j)\n",
    "                elif dc[j]==\"LOC\":\n",
    "                      L.append(j)\n",
    "               \n",
    "        Per.append(P)\n",
    "        ORG.append(O)\n",
    "        LOC.append(L)\n",
    "            \n",
    "\n",
    "dflarge[\"PERSON-nerenglarge\"]=Per\n",
    "dflarge[\"LOC-nerenglarge\"]=LOC\n",
    "dflarge[\"ORG-nerenglarge\"]=ORG                        "
   ]
  },
  {
   "cell_type": "code",
   "execution_count": 16,
   "id": "c2180952",
   "metadata": {
    "execution": {
     "iopub.execute_input": "2022-06-10T15:27:42.566410Z",
     "iopub.status.busy": "2022-06-10T15:27:42.566089Z",
     "iopub.status.idle": "2022-06-10T15:27:42.595645Z",
     "shell.execute_reply": "2022-06-10T15:27:42.594946Z"
    },
    "papermill": {
     "duration": 0.056743,
     "end_time": "2022-06-10T15:27:42.597296",
     "exception": false,
     "start_time": "2022-06-10T15:27:42.540553",
     "status": "completed"
    },
    "tags": []
   },
   "outputs": [
    {
     "data": {
      "text/html": [
       "<div>\n",
       "<style scoped>\n",
       "    .dataframe tbody tr th:only-of-type {\n",
       "        vertical-align: middle;\n",
       "    }\n",
       "\n",
       "    .dataframe tbody tr th {\n",
       "        vertical-align: top;\n",
       "    }\n",
       "\n",
       "    .dataframe thead th {\n",
       "        text-align: right;\n",
       "    }\n",
       "</style>\n",
       "<table border=\"1\" class=\"dataframe\">\n",
       "  <thead>\n",
       "    <tr style=\"text-align: right;\">\n",
       "      <th></th>\n",
       "      <th>text</th>\n",
       "      <th>PERSON-nerenglarge</th>\n",
       "      <th>LOC-nerenglarge</th>\n",
       "      <th>ORG-nerenglarge</th>\n",
       "    </tr>\n",
       "  </thead>\n",
       "  <tbody>\n",
       "    <tr>\n",
       "      <th>0</th>\n",
       "      <td>I I C Meekins of Currituck County State of Nor...</td>\n",
       "      <td>[I I C Meekins, God, Isaac C Meekins, E H Walk...</td>\n",
       "      <td>[Currituck County State of North Carolina, Uni...</td>\n",
       "      <td>[]</td>\n",
       "    </tr>\n",
       "    <tr>\n",
       "      <th>1</th>\n",
       "      <td>Department of Virginia North Carolina 1864 tak...</td>\n",
       "      <td>[]</td>\n",
       "      <td>[North Carolina, United States, States]</td>\n",
       "      <td>[Department of Virginia]</td>\n",
       "    </tr>\n",
       "    <tr>\n",
       "      <th>2</th>\n",
       "      <td>I W H Pearce of Craven County State of NorthCa...</td>\n",
       "      <td>[W H Pearce, Almighty, God, Jm E Ampetts, A B ...</td>\n",
       "      <td>[Craven County State of NorthCarolina, United ...</td>\n",
       "      <td>[]</td>\n",
       "    </tr>\n",
       "    <tr>\n",
       "      <th>3</th>\n",
       "      <td>State of North Carolina County I solemnly swea...</td>\n",
       "      <td>[God]</td>\n",
       "      <td>[State of North Carolina County, United States]</td>\n",
       "      <td>[]</td>\n",
       "    </tr>\n",
       "    <tr>\n",
       "      <th>4</th>\n",
       "      <td>State of North Carolina Wake County I SE Allen...</td>\n",
       "      <td>[SE Allen, God SE Allen Sworn, McAlpine]</td>\n",
       "      <td>[State of North Carolina, Wake County, United ...</td>\n",
       "      <td>[Res Corp]</td>\n",
       "    </tr>\n",
       "    <tr>\n",
       "      <th>...</th>\n",
       "      <td>...</td>\n",
       "      <td>...</td>\n",
       "      <td>...</td>\n",
       "      <td>...</td>\n",
       "    </tr>\n",
       "    <tr>\n",
       "      <th>2131</th>\n",
       "      <td>Office Provost Marshal Raleigh NC May 26 65 Th...</td>\n",
       "      <td>[Geo Little, Geo B Ayer, DH Grave, Hugo Hilleb...</td>\n",
       "      <td>[Raleigh, NC, Wake County State of NC, United ...</td>\n",
       "      <td>[]</td>\n",
       "    </tr>\n",
       "    <tr>\n",
       "      <th>2132</th>\n",
       "      <td>July 30th 1867 Birnie Wm Agent Bu R F A L Oath...</td>\n",
       "      <td>[]</td>\n",
       "      <td>[]</td>\n",
       "      <td>[]</td>\n",
       "    </tr>\n",
       "    <tr>\n",
       "      <th>2133</th>\n",
       "      <td>State of North Carolina Robeson County I Willi...</td>\n",
       "      <td>[William Birnie, God, Wm Birnie, Dick JP]</td>\n",
       "      <td>[Robeson County, United States]</td>\n",
       "      <td>[]</td>\n",
       "    </tr>\n",
       "    <tr>\n",
       "      <th>2134</th>\n",
       "      <td>NARA 449 102 We whose name written well person...</td>\n",
       "      <td>[AL Price, James Fulton, Fulton Price, Sgd W N...</td>\n",
       "      <td>[State of North Carolina, New Hanover County, ...</td>\n",
       "      <td>[NARA, Confederate Government, Court of Pleas,...</td>\n",
       "    </tr>\n",
       "    <tr>\n",
       "      <th>2135</th>\n",
       "      <td>NARA 450 404 Office Provost Marshall City of W...</td>\n",
       "      <td>[James Fulton, God, Wm A Cutler, I, Geo W Poll...</td>\n",
       "      <td>[Marshall, City of Wilmington NC, United State...</td>\n",
       "      <td>[NARA]</td>\n",
       "    </tr>\n",
       "  </tbody>\n",
       "</table>\n",
       "<p>2136 rows × 4 columns</p>\n",
       "</div>"
      ],
      "text/plain": [
       "                                                   text  \\\n",
       "0     I I C Meekins of Currituck County State of Nor...   \n",
       "1     Department of Virginia North Carolina 1864 tak...   \n",
       "2     I W H Pearce of Craven County State of NorthCa...   \n",
       "3     State of North Carolina County I solemnly swea...   \n",
       "4     State of North Carolina Wake County I SE Allen...   \n",
       "...                                                 ...   \n",
       "2131  Office Provost Marshal Raleigh NC May 26 65 Th...   \n",
       "2132  July 30th 1867 Birnie Wm Agent Bu R F A L Oath...   \n",
       "2133  State of North Carolina Robeson County I Willi...   \n",
       "2134  NARA 449 102 We whose name written well person...   \n",
       "2135  NARA 450 404 Office Provost Marshall City of W...   \n",
       "\n",
       "                                     PERSON-nerenglarge  \\\n",
       "0     [I I C Meekins, God, Isaac C Meekins, E H Walk...   \n",
       "1                                                    []   \n",
       "2     [W H Pearce, Almighty, God, Jm E Ampetts, A B ...   \n",
       "3                                                 [God]   \n",
       "4              [SE Allen, God SE Allen Sworn, McAlpine]   \n",
       "...                                                 ...   \n",
       "2131  [Geo Little, Geo B Ayer, DH Grave, Hugo Hilleb...   \n",
       "2132                                                 []   \n",
       "2133          [William Birnie, God, Wm Birnie, Dick JP]   \n",
       "2134  [AL Price, James Fulton, Fulton Price, Sgd W N...   \n",
       "2135  [James Fulton, God, Wm A Cutler, I, Geo W Poll...   \n",
       "\n",
       "                                        LOC-nerenglarge  \\\n",
       "0     [Currituck County State of North Carolina, Uni...   \n",
       "1               [North Carolina, United States, States]   \n",
       "2     [Craven County State of NorthCarolina, United ...   \n",
       "3       [State of North Carolina County, United States]   \n",
       "4     [State of North Carolina, Wake County, United ...   \n",
       "...                                                 ...   \n",
       "2131  [Raleigh, NC, Wake County State of NC, United ...   \n",
       "2132                                                 []   \n",
       "2133                    [Robeson County, United States]   \n",
       "2134  [State of North Carolina, New Hanover County, ...   \n",
       "2135  [Marshall, City of Wilmington NC, United State...   \n",
       "\n",
       "                                        ORG-nerenglarge  \n",
       "0                                                    []  \n",
       "1                              [Department of Virginia]  \n",
       "2                                                    []  \n",
       "3                                                    []  \n",
       "4                                            [Res Corp]  \n",
       "...                                                 ...  \n",
       "2131                                                 []  \n",
       "2132                                                 []  \n",
       "2133                                                 []  \n",
       "2134  [NARA, Confederate Government, Court of Pleas,...  \n",
       "2135                                             [NARA]  \n",
       "\n",
       "[2136 rows x 4 columns]"
      ]
     },
     "execution_count": 16,
     "metadata": {},
     "output_type": "execute_result"
    }
   ],
   "source": [
    "dflarge"
   ]
  },
  {
   "cell_type": "markdown",
   "id": "139dea55",
   "metadata": {
    "papermill": {
     "duration": 0.023577,
     "end_time": "2022-06-10T15:27:42.644673",
     "exception": false,
     "start_time": "2022-06-10T15:27:42.621096",
     "status": "completed"
    },
    "tags": []
   },
   "source": [
    "tagger 2 ontonotes"
   ]
  },
  {
   "cell_type": "code",
   "execution_count": 17,
   "id": "c551c506",
   "metadata": {
    "execution": {
     "iopub.execute_input": "2022-06-10T15:27:42.694575Z",
     "iopub.status.busy": "2022-06-10T15:27:42.694040Z",
     "iopub.status.idle": "2022-06-10T15:29:22.208023Z",
     "shell.execute_reply": "2022-06-10T15:29:22.207192Z"
    },
    "papermill": {
     "duration": 99.541119,
     "end_time": "2022-06-10T15:29:22.210609",
     "exception": false,
     "start_time": "2022-06-10T15:27:42.669490",
     "status": "completed"
    },
    "tags": []
   },
   "outputs": [],
   "source": [
    "listoto=[]\n",
    "label=[]\n",
    "Per=[]\n",
    "Date=[]\n",
    "GPE=[]\n",
    "ORG=[]\n",
    "from flair.data import Sentence\n",
    "\n",
    "aldf=pd.DataFrame({\"text\":\"\", \"PERSON-ontonotes\":[], \"GPE-ontonotes\":\"\",\"ORG-ontonotes\":\"\", \"Date-ontonotes\":\"\"})\n",
    "for i in range(2136):\n",
    "        sentencess =Sentence(all_text[i])\n",
    "        aldf.loc[i,\"text\"]=all_text[i]\n",
    "        tagger.predict(sentencess)\n",
    "        dc={}\n",
    "        P=[]\n",
    "        D=[]\n",
    "        G=[]\n",
    "        O=[]\n",
    "        for entity in sentencess.get_spans('ner'):\n",
    "                     \n",
    "                     if (entity.get_label(\"ner\").score > 0.98) & (entity.get_label(\"ner\").value != \"CARDINAL\") & (entity.get_label(\"ner\").value != \"LAW\")& (entity.get_label(\"ner\").value != \"QUANTITY\") & (entity.get_label(\"ner\").value != \"WORK_OF_ART\") & (entity.get_label(\"ner\").value != \"LAW\")& (entity.get_label(\"ner\").value != \"QUANTITY\") & (entity.get_label(\"ner\").value != \"EVENT\")  :\n",
    "                        dc[entity.text]= entity.get_label(\"ner\").value \n",
    "                        listoto.append(entity)\n",
    "        \n",
    "        \n",
    "        for j in dc :\n",
    "                if dc[j]==\"PERSON\":\n",
    "                      P.append(j)\n",
    "                elif dc[j]==\"ORG\":\n",
    "                      O.append(j)\n",
    "                elif dc[j]==\"DATE\":\n",
    "                      D.append(j)\n",
    "                elif dc[j]==\"GPE\":\n",
    "                      G.append(j)\n",
    "        Per.append(P)\n",
    "        Date.append(D)\n",
    "        ORG.append(O)\n",
    "        GPE.append(G)\n",
    "            \n",
    "aldf[\"Date-ontonotes\"]=Date\n",
    "aldf[\"PERSON-ontonotes\"]=Per\n",
    "aldf[\"GPE-ontonotes\"]=GPE\n",
    "aldf[\"ORG-ontonotes\"]=ORG    "
   ]
  },
  {
   "cell_type": "code",
   "execution_count": 18,
   "id": "d7b2ff58",
   "metadata": {
    "execution": {
     "iopub.execute_input": "2022-06-10T15:29:22.260247Z",
     "iopub.status.busy": "2022-06-10T15:29:22.259920Z",
     "iopub.status.idle": "2022-06-10T15:29:22.265013Z",
     "shell.execute_reply": "2022-06-10T15:29:22.264300Z"
    },
    "papermill": {
     "duration": 0.031658,
     "end_time": "2022-06-10T15:29:22.266981",
     "exception": false,
     "start_time": "2022-06-10T15:29:22.235323",
     "status": "completed"
    },
    "tags": []
   },
   "outputs": [
    {
     "data": {
      "text/plain": [
       "(2136, 5)"
      ]
     },
     "execution_count": 18,
     "metadata": {},
     "output_type": "execute_result"
    }
   ],
   "source": [
    "aldf.shape"
   ]
  },
  {
   "cell_type": "code",
   "execution_count": 19,
   "id": "596d1f1f",
   "metadata": {
    "execution": {
     "iopub.execute_input": "2022-06-10T15:29:22.316100Z",
     "iopub.status.busy": "2022-06-10T15:29:22.315519Z",
     "iopub.status.idle": "2022-06-10T15:29:22.331743Z",
     "shell.execute_reply": "2022-06-10T15:29:22.330906Z"
    },
    "papermill": {
     "duration": 0.043637,
     "end_time": "2022-06-10T15:29:22.334338",
     "exception": false,
     "start_time": "2022-06-10T15:29:22.290701",
     "status": "completed"
    },
    "tags": []
   },
   "outputs": [
    {
     "data": {
      "text/html": [
       "<div>\n",
       "<style scoped>\n",
       "    .dataframe tbody tr th:only-of-type {\n",
       "        vertical-align: middle;\n",
       "    }\n",
       "\n",
       "    .dataframe tbody tr th {\n",
       "        vertical-align: top;\n",
       "    }\n",
       "\n",
       "    .dataframe thead th {\n",
       "        text-align: right;\n",
       "    }\n",
       "</style>\n",
       "<table border=\"1\" class=\"dataframe\">\n",
       "  <thead>\n",
       "    <tr style=\"text-align: right;\">\n",
       "      <th></th>\n",
       "      <th>text</th>\n",
       "      <th>PERSON-ontonotes</th>\n",
       "      <th>GPE-ontonotes</th>\n",
       "      <th>ORG-ontonotes</th>\n",
       "      <th>Date-ontonotes</th>\n",
       "    </tr>\n",
       "  </thead>\n",
       "  <tbody>\n",
       "    <tr>\n",
       "      <th>0</th>\n",
       "      <td>I I C Meekins of Currituck County State of Nor...</td>\n",
       "      <td>[I I C Meekins, Isaac C Meekins, E H Walker JP...</td>\n",
       "      <td>[North Carolina]</td>\n",
       "      <td>[]</td>\n",
       "      <td>[16 day of Sept AD 1865]</td>\n",
       "    </tr>\n",
       "    <tr>\n",
       "      <th>1</th>\n",
       "      <td>Department of Virginia North Carolina 1864 tak...</td>\n",
       "      <td>[]</td>\n",
       "      <td>[North Carolina, United States]</td>\n",
       "      <td>[Department of Virginia]</td>\n",
       "      <td>[1864]</td>\n",
       "    </tr>\n",
       "    <tr>\n",
       "      <th>2</th>\n",
       "      <td>I W H Pearce of Craven County State of NorthCa...</td>\n",
       "      <td>[W H Pearce, Watson]</td>\n",
       "      <td>[]</td>\n",
       "      <td>[]</td>\n",
       "      <td>[3rd day of October AD 1865]</td>\n",
       "    </tr>\n",
       "    <tr>\n",
       "      <th>3</th>\n",
       "      <td>State of North Carolina County I solemnly swea...</td>\n",
       "      <td>[]</td>\n",
       "      <td>[North Carolina County, United States]</td>\n",
       "      <td>[]</td>\n",
       "      <td>[]</td>\n",
       "    </tr>\n",
       "    <tr>\n",
       "      <th>4</th>\n",
       "      <td>State of North Carolina Wake County I SE Allen...</td>\n",
       "      <td>[Allen]</td>\n",
       "      <td>[North Carolina, Wake County, United States]</td>\n",
       "      <td>[]</td>\n",
       "      <td>[31st day of May 1867]</td>\n",
       "    </tr>\n",
       "  </tbody>\n",
       "</table>\n",
       "</div>"
      ],
      "text/plain": [
       "                                                text  \\\n",
       "0  I I C Meekins of Currituck County State of Nor...   \n",
       "1  Department of Virginia North Carolina 1864 tak...   \n",
       "2  I W H Pearce of Craven County State of NorthCa...   \n",
       "3  State of North Carolina County I solemnly swea...   \n",
       "4  State of North Carolina Wake County I SE Allen...   \n",
       "\n",
       "                                    PERSON-ontonotes  \\\n",
       "0  [I I C Meekins, Isaac C Meekins, E H Walker JP...   \n",
       "1                                                 []   \n",
       "2                               [W H Pearce, Watson]   \n",
       "3                                                 []   \n",
       "4                                            [Allen]   \n",
       "\n",
       "                                  GPE-ontonotes             ORG-ontonotes  \\\n",
       "0                              [North Carolina]                        []   \n",
       "1               [North Carolina, United States]  [Department of Virginia]   \n",
       "2                                            []                        []   \n",
       "3        [North Carolina County, United States]                        []   \n",
       "4  [North Carolina, Wake County, United States]                        []   \n",
       "\n",
       "                 Date-ontonotes  \n",
       "0      [16 day of Sept AD 1865]  \n",
       "1                        [1864]  \n",
       "2  [3rd day of October AD 1865]  \n",
       "3                            []  \n",
       "4        [31st day of May 1867]  "
      ]
     },
     "execution_count": 19,
     "metadata": {},
     "output_type": "execute_result"
    }
   ],
   "source": [
    "aldf.head()"
   ]
  },
  {
   "cell_type": "code",
   "execution_count": 20,
   "id": "767f96e2",
   "metadata": {
    "execution": {
     "iopub.execute_input": "2022-06-10T15:29:22.383650Z",
     "iopub.status.busy": "2022-06-10T15:29:22.383391Z",
     "iopub.status.idle": "2022-06-10T15:29:22.388385Z",
     "shell.execute_reply": "2022-06-10T15:29:22.387540Z"
    },
    "papermill": {
     "duration": 0.032118,
     "end_time": "2022-06-10T15:29:22.390798",
     "exception": false,
     "start_time": "2022-06-10T15:29:22.358680",
     "status": "completed"
    },
    "tags": []
   },
   "outputs": [
    {
     "data": {
      "text/plain": [
       "(2136, 5)"
      ]
     },
     "execution_count": 20,
     "metadata": {},
     "output_type": "execute_result"
    }
   ],
   "source": [
    "aldf.shape"
   ]
  },
  {
   "cell_type": "markdown",
   "id": "e185d0d3",
   "metadata": {
    "papermill": {
     "duration": 0.024605,
     "end_time": "2022-06-10T15:29:22.440200",
     "exception": false,
     "start_time": "2022-06-10T15:29:22.415595",
     "status": "completed"
    },
    "tags": []
   },
   "source": [
    "# Post processing"
   ]
  },
  {
   "cell_type": "markdown",
   "id": "45782854",
   "metadata": {
    "papermill": {
     "duration": 0.024215,
     "end_time": "2022-06-10T15:29:22.489382",
     "exception": false,
     "start_time": "2022-06-10T15:29:22.465167",
     "status": "completed"
    },
    "tags": []
   },
   "source": [
    "**For dates**"
   ]
  },
  {
   "cell_type": "code",
   "execution_count": 21,
   "id": "6a58d429",
   "metadata": {
    "execution": {
     "iopub.execute_input": "2022-06-10T15:29:22.539691Z",
     "iopub.status.busy": "2022-06-10T15:29:22.539364Z",
     "iopub.status.idle": "2022-06-10T15:29:22.598855Z",
     "shell.execute_reply": "2022-06-10T15:29:22.598188Z"
    },
    "papermill": {
     "duration": 0.086571,
     "end_time": "2022-06-10T15:29:22.600574",
     "exception": false,
     "start_time": "2022-06-10T15:29:22.514003",
     "status": "completed"
    },
    "tags": []
   },
   "outputs": [],
   "source": [
    "G=[]\n",
    "for i in aldf[\"Date-ontonotes\"]:\n",
    "    M=[]\n",
    "    for j in i:\n",
    "        date=re.search(r'^\\d\\.*.*\\d\\d$' ,j)\n",
    "        date2=re.search(r'^[A-ZZa-z]\\.*.*\\d\\.*.*\\d\\d$' ,j)\n",
    "        M.append(date)\n",
    "        M.append(date2)\n",
    "    G.append(M)\n",
    "    \n",
    "\n",
    "GF=[]\n",
    "for i in G:\n",
    "    Final_date=[]\n",
    "    for j in i:\n",
    "        if j!=None:\n",
    "            Final_date.append(j.group())\n",
    "    GF.append(Final_date)\n",
    "\n",
    "    \n",
    "aldf[\"postDate-ontonotes\"]=GF\n",
    "            \n",
    "            \n",
    "        "
   ]
  },
  {
   "cell_type": "markdown",
   "id": "6b6eae46",
   "metadata": {
    "papermill": {
     "duration": 0.02391,
     "end_time": "2022-06-10T15:29:22.649428",
     "exception": false,
     "start_time": "2022-06-10T15:29:22.625518",
     "status": "completed"
    },
    "tags": []
   },
   "source": [
    "# Run this to see the extracted dates before filtring them "
   ]
  },
  {
   "cell_type": "code",
   "execution_count": 22,
   "id": "216b5be0",
   "metadata": {
    "execution": {
     "iopub.execute_input": "2022-06-10T15:29:22.699720Z",
     "iopub.status.busy": "2022-06-10T15:29:22.699109Z",
     "iopub.status.idle": "2022-06-10T15:29:22.702561Z",
     "shell.execute_reply": "2022-06-10T15:29:22.701841Z"
    },
    "papermill": {
     "duration": 0.030663,
     "end_time": "2022-06-10T15:29:22.704455",
     "exception": false,
     "start_time": "2022-06-10T15:29:22.673792",
     "status": "completed"
    },
    "tags": []
   },
   "outputs": [],
   "source": [
    "#GF"
   ]
  },
  {
   "cell_type": "code",
   "execution_count": 23,
   "id": "6e091a32",
   "metadata": {
    "execution": {
     "iopub.execute_input": "2022-06-10T15:29:22.795561Z",
     "iopub.status.busy": "2022-06-10T15:29:22.794865Z",
     "iopub.status.idle": "2022-06-10T15:29:23.007576Z",
     "shell.execute_reply": "2022-06-10T15:29:23.006551Z"
    },
    "papermill": {
     "duration": 0.261962,
     "end_time": "2022-06-10T15:29:23.010247",
     "exception": false,
     "start_time": "2022-06-10T15:29:22.748285",
     "status": "completed"
    },
    "tags": []
   },
   "outputs": [],
   "source": [
    "G=[]\n",
    "for i in aldf[\"postDate-ontonotes\"]:\n",
    "    M=[]\n",
    "    for j in i:\n",
    "        Final_date1=re.sub(r'([0-9]{1,2})\\.*.*\\s([A-Z][a-z]\\S*)\\.*.*\\s([0-9]{2,4})',r'\\1-\\2-\\3' ,j)\n",
    "        Final_date2=re.sub(r'([A-Z]\\.*.*)\\s([0-9]{1,2})\\.*.*\\s([0-9]{2,4})',r'\\2-\\1-\\3' ,j)\n",
    "        final_date3=re.sub(r'([A-Z][a-z]\\S*)\\.*.*\\s([A-Z][a-z]\\S*)\\.*.*\\s([0-9]{2,4})',r'\\1-\\2-\\3' ,j)\n",
    "        final_date4=re.sub(r'(^[A-Za-z]\\S*.*.)day\\.*.*\\s([A-Z][a-z]\\S*)\\.*.*\\s([0-9]{2,4})',r'\\1-\\2-\\3' ,j)\n",
    "        if Final_date1 != j:   \n",
    "            M.append(Final_date1)\n",
    "        if Final_date2 != j :\n",
    "            M.append(Final_date2)\n",
    "        if final_date3 != j :\n",
    "            M.append(final_date3)\n",
    "        if final_date4 != j :\n",
    "            M.append(final_date4)\n",
    "    G.append(M)\n",
    "    \n",
    "\n",
    "aldf[\"postDate-ontonotes\"]=G"
   ]
  },
  {
   "cell_type": "markdown",
   "id": "cfe9c57c",
   "metadata": {
    "papermill": {
     "duration": 0.039517,
     "end_time": "2022-06-10T15:29:23.094404",
     "exception": false,
     "start_time": "2022-06-10T15:29:23.054887",
     "status": "completed"
    },
    "tags": []
   },
   "source": [
    "**great !**"
   ]
  },
  {
   "cell_type": "markdown",
   "id": "09bf07fe",
   "metadata": {
    "papermill": {
     "duration": 0.039965,
     "end_time": "2022-06-10T15:29:23.174467",
     "exception": false,
     "start_time": "2022-06-10T15:29:23.134502",
     "status": "completed"
    },
    "tags": []
   },
   "source": [
    "****"
   ]
  },
  {
   "cell_type": "markdown",
   "id": "5c1a7317",
   "metadata": {
    "papermill": {
     "duration": 0.040041,
     "end_time": "2022-06-10T15:29:23.254070",
     "exception": false,
     "start_time": "2022-06-10T15:29:23.214029",
     "status": "completed"
    },
    "tags": []
   },
   "source": [
    "****"
   ]
  },
  {
   "cell_type": "code",
   "execution_count": 24,
   "id": "76d5b705",
   "metadata": {
    "execution": {
     "iopub.execute_input": "2022-06-10T15:29:23.335408Z",
     "iopub.status.busy": "2022-06-10T15:29:23.334957Z",
     "iopub.status.idle": "2022-06-10T15:29:23.350617Z",
     "shell.execute_reply": "2022-06-10T15:29:23.349639Z"
    },
    "papermill": {
     "duration": 0.059467,
     "end_time": "2022-06-10T15:29:23.353676",
     "exception": false,
     "start_time": "2022-06-10T15:29:23.294209",
     "status": "completed"
    },
    "tags": []
   },
   "outputs": [
    {
     "data": {
      "text/html": [
       "<div>\n",
       "<style scoped>\n",
       "    .dataframe tbody tr th:only-of-type {\n",
       "        vertical-align: middle;\n",
       "    }\n",
       "\n",
       "    .dataframe tbody tr th {\n",
       "        vertical-align: top;\n",
       "    }\n",
       "\n",
       "    .dataframe thead th {\n",
       "        text-align: right;\n",
       "    }\n",
       "</style>\n",
       "<table border=\"1\" class=\"dataframe\">\n",
       "  <thead>\n",
       "    <tr style=\"text-align: right;\">\n",
       "      <th></th>\n",
       "      <th>text</th>\n",
       "      <th>PERSON-nerenglarge</th>\n",
       "      <th>LOC-nerenglarge</th>\n",
       "      <th>ORG-nerenglarge</th>\n",
       "    </tr>\n",
       "  </thead>\n",
       "  <tbody>\n",
       "    <tr>\n",
       "      <th>0</th>\n",
       "      <td>I I C Meekins of Currituck County State of Nor...</td>\n",
       "      <td>[I I C Meekins, God, Isaac C Meekins, E H Walk...</td>\n",
       "      <td>[Currituck County State of North Carolina, Uni...</td>\n",
       "      <td>[]</td>\n",
       "    </tr>\n",
       "    <tr>\n",
       "      <th>1</th>\n",
       "      <td>Department of Virginia North Carolina 1864 tak...</td>\n",
       "      <td>[]</td>\n",
       "      <td>[North Carolina, United States, States]</td>\n",
       "      <td>[Department of Virginia]</td>\n",
       "    </tr>\n",
       "    <tr>\n",
       "      <th>2</th>\n",
       "      <td>I W H Pearce of Craven County State of NorthCa...</td>\n",
       "      <td>[W H Pearce, Almighty, God, Jm E Ampetts, A B ...</td>\n",
       "      <td>[Craven County State of NorthCarolina, United ...</td>\n",
       "      <td>[]</td>\n",
       "    </tr>\n",
       "    <tr>\n",
       "      <th>3</th>\n",
       "      <td>State of North Carolina County I solemnly swea...</td>\n",
       "      <td>[God]</td>\n",
       "      <td>[State of North Carolina County, United States]</td>\n",
       "      <td>[]</td>\n",
       "    </tr>\n",
       "    <tr>\n",
       "      <th>4</th>\n",
       "      <td>State of North Carolina Wake County I SE Allen...</td>\n",
       "      <td>[SE Allen, God SE Allen Sworn, McAlpine]</td>\n",
       "      <td>[State of North Carolina, Wake County, United ...</td>\n",
       "      <td>[Res Corp]</td>\n",
       "    </tr>\n",
       "  </tbody>\n",
       "</table>\n",
       "</div>"
      ],
      "text/plain": [
       "                                                text  \\\n",
       "0  I I C Meekins of Currituck County State of Nor...   \n",
       "1  Department of Virginia North Carolina 1864 tak...   \n",
       "2  I W H Pearce of Craven County State of NorthCa...   \n",
       "3  State of North Carolina County I solemnly swea...   \n",
       "4  State of North Carolina Wake County I SE Allen...   \n",
       "\n",
       "                                  PERSON-nerenglarge  \\\n",
       "0  [I I C Meekins, God, Isaac C Meekins, E H Walk...   \n",
       "1                                                 []   \n",
       "2  [W H Pearce, Almighty, God, Jm E Ampetts, A B ...   \n",
       "3                                              [God]   \n",
       "4           [SE Allen, God SE Allen Sworn, McAlpine]   \n",
       "\n",
       "                                     LOC-nerenglarge           ORG-nerenglarge  \n",
       "0  [Currituck County State of North Carolina, Uni...                        []  \n",
       "1            [North Carolina, United States, States]  [Department of Virginia]  \n",
       "2  [Craven County State of NorthCarolina, United ...                        []  \n",
       "3    [State of North Carolina County, United States]                        []  \n",
       "4  [State of North Carolina, Wake County, United ...                [Res Corp]  "
      ]
     },
     "execution_count": 24,
     "metadata": {},
     "output_type": "execute_result"
    }
   ],
   "source": [
    "dflarge.head()"
   ]
  },
  {
   "cell_type": "code",
   "execution_count": 25,
   "id": "551a2ee4",
   "metadata": {
    "execution": {
     "iopub.execute_input": "2022-06-10T15:29:23.408564Z",
     "iopub.status.busy": "2022-06-10T15:29:23.408295Z",
     "iopub.status.idle": "2022-06-10T15:29:23.415883Z",
     "shell.execute_reply": "2022-06-10T15:29:23.415084Z"
    },
    "papermill": {
     "duration": 0.036965,
     "end_time": "2022-06-10T15:29:23.417658",
     "exception": false,
     "start_time": "2022-06-10T15:29:23.380693",
     "status": "completed"
    },
    "tags": []
   },
   "outputs": [],
   "source": [
    "aldf[\"Person-NerEngLarge\"]=dflarge[\"PERSON-nerenglarge\"]\n",
    "aldf[\"LOC-NerEngLarge\"]=dflarge[\"LOC-nerenglarge\"]\n",
    "aldf[\"ORG-NerEngLarge\"]=dflarge[\"ORG-nerenglarge\"]\n"
   ]
  },
  {
   "cell_type": "code",
   "execution_count": 26,
   "id": "1476e428",
   "metadata": {
    "execution": {
     "iopub.execute_input": "2022-06-10T15:29:23.472944Z",
     "iopub.status.busy": "2022-06-10T15:29:23.472686Z",
     "iopub.status.idle": "2022-06-10T15:29:23.483491Z",
     "shell.execute_reply": "2022-06-10T15:29:23.482660Z"
    },
    "papermill": {
     "duration": 0.040574,
     "end_time": "2022-06-10T15:29:23.485391",
     "exception": false,
     "start_time": "2022-06-10T15:29:23.444817",
     "status": "completed"
    },
    "tags": []
   },
   "outputs": [],
   "source": [
    "allPerson=[]\n",
    "for i in aldf[\"PERSON-ontonotes\"]:\n",
    "            allPerson.append(i)\n",
    "allDatess=[]\n",
    "for i in aldf[\"Date-ontonotes\"]:\n",
    "            allDatess.append(i)\n",
    "allpostdates=[]\n",
    "for i in aldf[\"postDate-ontonotes\"]:\n",
    "            allpostdates.append(i)\n",
    "allGPE=[]\n",
    "for i in aldf[\"GPE-ontonotes\"]:\n",
    "            allGPE.append(i)\n",
    "alORGl=[]\n",
    "for i in aldf[\"ORG-ontonotes\"]:\n",
    "            alORGl.append(i)"
   ]
  },
  {
   "cell_type": "markdown",
   "id": "a42a51be",
   "metadata": {
    "papermill": {
     "duration": 0.026646,
     "end_time": "2022-06-10T15:29:23.538788",
     "exception": false,
     "start_time": "2022-06-10T15:29:23.512142",
     "status": "completed"
    },
    "tags": []
   },
   "source": [
    "****"
   ]
  },
  {
   "cell_type": "code",
   "execution_count": 27,
   "id": "aad96961",
   "metadata": {
    "execution": {
     "iopub.execute_input": "2022-06-10T15:29:23.594574Z",
     "iopub.status.busy": "2022-06-10T15:29:23.594241Z",
     "iopub.status.idle": "2022-06-10T15:29:23.602723Z",
     "shell.execute_reply": "2022-06-10T15:29:23.601985Z"
    },
    "papermill": {
     "duration": 0.038332,
     "end_time": "2022-06-10T15:29:23.604498",
     "exception": false,
     "start_time": "2022-06-10T15:29:23.566166",
     "status": "completed"
    },
    "tags": []
   },
   "outputs": [],
   "source": [
    "Personlarge=[]\n",
    "for i in dflarge[\"PERSON-nerenglarge\"]:\n",
    "            Personlarge.append(i)\n",
    "ORGlarge=[]\n",
    "for i in dflarge[\"ORG-nerenglarge\"]:\n",
    "            ORGlarge.append(i) \n",
    "LOClarge=[]\n",
    "for i in dflarge[\"LOC-nerenglarge\"]:\n",
    "            LOClarge.append(i)"
   ]
  },
  {
   "cell_type": "markdown",
   "id": "1d8f17ae",
   "metadata": {
    "papermill": {
     "duration": 0.026523,
     "end_time": "2022-06-10T15:29:23.657777",
     "exception": false,
     "start_time": "2022-06-10T15:29:23.631254",
     "status": "completed"
    },
    "tags": []
   },
   "source": [
    "* as usual , ner English Large is better in extracting Person \n",
    "* ontonotes is thes best in extracting dates after good postprocessing and filtring almost all pattern \n",
    "* ner Engish Large  also better in Location and Oranization "
   ]
  },
  {
   "cell_type": "markdown",
   "id": "fc24ecf1",
   "metadata": {
    "papermill": {
     "duration": 0.02705,
     "end_time": "2022-06-10T15:29:23.712541",
     "exception": false,
     "start_time": "2022-06-10T15:29:23.685491",
     "status": "completed"
    },
    "tags": []
   },
   "source": [
    "# Person Large (without punct)"
   ]
  },
  {
   "cell_type": "code",
   "execution_count": 28,
   "id": "7029d522",
   "metadata": {
    "execution": {
     "iopub.execute_input": "2022-06-10T15:29:23.767218Z",
     "iopub.status.busy": "2022-06-10T15:29:23.766909Z",
     "iopub.status.idle": "2022-06-10T15:29:23.775022Z",
     "shell.execute_reply": "2022-06-10T15:29:23.774098Z"
    },
    "papermill": {
     "duration": 0.037634,
     "end_time": "2022-06-10T15:29:23.776991",
     "exception": false,
     "start_time": "2022-06-10T15:29:23.739357",
     "status": "completed"
    },
    "tags": []
   },
   "outputs": [],
   "source": [
    "PL=[]\n",
    "for i in Personlarge:\n",
    "    for j in i:\n",
    "        PL.append(j)"
   ]
  },
  {
   "cell_type": "code",
   "execution_count": 29,
   "id": "11513f30",
   "metadata": {
    "execution": {
     "iopub.execute_input": "2022-06-10T15:29:23.832502Z",
     "iopub.status.busy": "2022-06-10T15:29:23.832216Z",
     "iopub.status.idle": "2022-06-10T15:29:23.837530Z",
     "shell.execute_reply": "2022-06-10T15:29:23.836652Z"
    },
    "papermill": {
     "duration": 0.036249,
     "end_time": "2022-06-10T15:29:23.840123",
     "exception": false,
     "start_time": "2022-06-10T15:29:23.803874",
     "status": "completed"
    },
    "tags": []
   },
   "outputs": [
    {
     "data": {
      "text/plain": [
       "8339"
      ]
     },
     "execution_count": 29,
     "metadata": {},
     "output_type": "execute_result"
    }
   ],
   "source": [
    "len(PL)"
   ]
  },
  {
   "cell_type": "code",
   "execution_count": null,
   "id": "4f46c6aa",
   "metadata": {
    "papermill": {
     "duration": 0.027606,
     "end_time": "2022-06-10T15:29:23.895231",
     "exception": false,
     "start_time": "2022-06-10T15:29:23.867625",
     "status": "completed"
    },
    "tags": []
   },
   "outputs": [],
   "source": []
  },
  {
   "cell_type": "markdown",
   "id": "b2d302ec",
   "metadata": {
    "papermill": {
     "duration": 0.026583,
     "end_time": "2022-06-10T15:29:23.947928",
     "exception": false,
     "start_time": "2022-06-10T15:29:23.921345",
     "status": "completed"
    },
    "tags": []
   },
   "source": [
    "# Person ontonotes (without punct)"
   ]
  },
  {
   "cell_type": "code",
   "execution_count": 30,
   "id": "c5bac84e",
   "metadata": {
    "execution": {
     "iopub.execute_input": "2022-06-10T15:29:24.003723Z",
     "iopub.status.busy": "2022-06-10T15:29:24.003278Z",
     "iopub.status.idle": "2022-06-10T15:29:24.011879Z",
     "shell.execute_reply": "2022-06-10T15:29:24.011057Z"
    },
    "papermill": {
     "duration": 0.039276,
     "end_time": "2022-06-10T15:29:24.013827",
     "exception": false,
     "start_time": "2022-06-10T15:29:23.974551",
     "status": "completed"
    },
    "tags": []
   },
   "outputs": [],
   "source": [
    "PAu=[]\n",
    "for i in Personlarge:\n",
    "    for j in i:\n",
    "        PAu.append(j)"
   ]
  },
  {
   "cell_type": "code",
   "execution_count": 31,
   "id": "8e1ebe81",
   "metadata": {
    "execution": {
     "iopub.execute_input": "2022-06-10T15:29:24.070655Z",
     "iopub.status.busy": "2022-06-10T15:29:24.070375Z",
     "iopub.status.idle": "2022-06-10T15:29:24.075754Z",
     "shell.execute_reply": "2022-06-10T15:29:24.074911Z"
    },
    "papermill": {
     "duration": 0.035451,
     "end_time": "2022-06-10T15:29:24.077495",
     "exception": false,
     "start_time": "2022-06-10T15:29:24.042044",
     "status": "completed"
    },
    "tags": []
   },
   "outputs": [
    {
     "data": {
      "text/plain": [
       "8339"
      ]
     },
     "execution_count": 31,
     "metadata": {},
     "output_type": "execute_result"
    }
   ],
   "source": [
    "len(PAu)"
   ]
  },
  {
   "cell_type": "markdown",
   "id": "d7ae127f",
   "metadata": {
    "papermill": {
     "duration": 0.027151,
     "end_time": "2022-06-10T15:29:24.132010",
     "exception": false,
     "start_time": "2022-06-10T15:29:24.104859",
     "status": "completed"
    },
    "tags": []
   },
   "source": [
    "# dates"
   ]
  },
  {
   "cell_type": "markdown",
   "id": "b57f02f6",
   "metadata": {
    "papermill": {
     "duration": 0.026983,
     "end_time": "2022-06-10T15:29:24.185950",
     "exception": false,
     "start_time": "2022-06-10T15:29:24.158967",
     "status": "completed"
    },
    "tags": []
   },
   "source": [
    "**run those cells to take a look at the result more clearly**"
   ]
  },
  {
   "cell_type": "code",
   "execution_count": 32,
   "id": "32be9395",
   "metadata": {
    "execution": {
     "iopub.execute_input": "2022-06-10T15:29:24.241636Z",
     "iopub.status.busy": "2022-06-10T15:29:24.240941Z",
     "iopub.status.idle": "2022-06-10T15:29:24.244690Z",
     "shell.execute_reply": "2022-06-10T15:29:24.243966Z"
    },
    "papermill": {
     "duration": 0.033541,
     "end_time": "2022-06-10T15:29:24.246626",
     "exception": false,
     "start_time": "2022-06-10T15:29:24.213085",
     "status": "completed"
    },
    "tags": []
   },
   "outputs": [],
   "source": [
    "#G"
   ]
  },
  {
   "cell_type": "code",
   "execution_count": 33,
   "id": "5ccbe351",
   "metadata": {
    "execution": {
     "iopub.execute_input": "2022-06-10T15:29:24.303140Z",
     "iopub.status.busy": "2022-06-10T15:29:24.301789Z",
     "iopub.status.idle": "2022-06-10T15:29:24.306863Z",
     "shell.execute_reply": "2022-06-10T15:29:24.306021Z"
    },
    "papermill": {
     "duration": 0.035183,
     "end_time": "2022-06-10T15:29:24.308976",
     "exception": false,
     "start_time": "2022-06-10T15:29:24.273793",
     "status": "completed"
    },
    "tags": []
   },
   "outputs": [],
   "source": [
    "# import pickle\n",
    "# my_pickled_list = pickle.dumps(listoto)  # Pickling the object\n",
    "# print(f\"This is my pickled object:\\n{my_pickled_list}\\n\")\n",
    "\n",
    "# my_pickled_list\n",
    "\n",
    "# my_unpickled_object = pickle.loads(my_pickled_list)  # Unpickling the object\n",
    "# print(\n",
    "#     f\"This is a_dict of the unpickled object:\\n{my_unpickled_object}\\n\")\n",
    "\n",
    "\n",
    "# my_unpickled_object"
   ]
  },
  {
   "cell_type": "markdown",
   "id": "4dcc498c",
   "metadata": {
    "papermill": {
     "duration": 0.027932,
     "end_time": "2022-06-10T15:29:24.364601",
     "exception": false,
     "start_time": "2022-06-10T15:29:24.336669",
     "status": "completed"
    },
    "tags": []
   },
   "source": [
    "# standardizing dates without punct"
   ]
  },
  {
   "cell_type": "code",
   "execution_count": 34,
   "id": "dc637e63",
   "metadata": {
    "execution": {
     "iopub.execute_input": "2022-06-10T15:29:24.421438Z",
     "iopub.status.busy": "2022-06-10T15:29:24.420779Z",
     "iopub.status.idle": "2022-06-10T15:29:24.520131Z",
     "shell.execute_reply": "2022-06-10T15:29:24.519230Z"
    },
    "papermill": {
     "duration": 0.13025,
     "end_time": "2022-06-10T15:29:24.522290",
     "exception": false,
     "start_time": "2022-06-10T15:29:24.392040",
     "status": "completed"
    },
    "tags": []
   },
   "outputs": [],
   "source": [
    "NG=[]\n",
    "for i in G:\n",
    "    ng=[]\n",
    "    for j in i:\n",
    "        \n",
    "        date=re.findall(r'([0-9]{1,2})-([A-Z][a-z]\\S*)-([0-9]{2,4})',j)\n",
    "        if date !=[]:\n",
    "            dates=[]\n",
    "            for k in date:\n",
    "                for l in k:\n",
    "                    dates.append(l)\n",
    "                \n",
    "                \n",
    "                if dates[1] in [\"August\",\"Aug\",\"augt\",\"AUGUST\",\"Augst\",\"Augt\",\"AUG\",\"Augusta\"]:\n",
    "                    dates[1]= \"August\"\n",
    "                elif dates[1] in [\"September\",\"Sept\",\"SEP\",\"Sep\",\"Septr\",\"SEPTEMBER\",'Sepr','Septh']:\n",
    "                    dates[1]= \"Septembre\"\n",
    "                elif dates[1] in [\"October\",\"Oct\",\"OCT\",\"OCTOBER\"]:\n",
    "                    dates[1]= \"October\"\n",
    "                elif dates[1] in [\"November\",\"NOV\",\"Nov\",\"Novmbr\",\"Nvbr\",\"Novb\",\"NOVEMBER\", \"The\"]:\n",
    "                    dates[1]= \"November\"\n",
    "                elif dates[1] in [\"December\",\"Dec\",\"Decbr\",\"DEC\",\"DECEMBER\",\"Decber\"]:\n",
    "                    dates[1]= \"December\"\n",
    "                elif dates[1] in [\"January\",\"Janry\",\"Jan\",\"Jany\",\"JAN\",\"Janur\",\"JANUARY\"]:\n",
    "                    dates[1]= \"January\"\n",
    "                elif dates[1] in [\"February\",\"Feby\",\"Febry\",\"FEB\",\"FEBRUARY\"]:\n",
    "                    dates[1]= \"February\"\n",
    "                elif dates[1] in [\"March\",\"Mar\"]:\n",
    "                    dates[1]= \"March\"\n",
    "                elif dates[1] in [\"April\",\"Apl\",\"Aprl\",\"APRIL\",\"Apr\"]:\n",
    "                    dates[1]= \"April\"\n",
    "                elif dates[1] in [\"May\",\"MAY\"]:\n",
    "                    dates[1]= \"May\"\n",
    "                elif dates[1] in [\"JUN\",\"Jun\",\"June\"]:\n",
    "                    dates[1]= \"June\"\n",
    "                elif dates[1] in [\"JULY\",\"July\",\"JUL\"]:\n",
    "                    dates[1]= \"July\"\n",
    "                j = dates[0]+\"-\"+dates[1]+\"-\"+dates[2]\n",
    "                ng.append(j)\n",
    "        else :\n",
    "                date = re.findall(r'(^[A-Za-z]\\S*.*.)-([A-Z][a-z]\\S*)-([0-9]{2,4})',j ) \n",
    "                dates=[]\n",
    "                for k in date:\n",
    "                    for l in k:\n",
    "                        dates.append(l)\n",
    "                \n",
    "                \n",
    "                    if dates[1] in [\"August\",\"Aug\",\"augt\",\"AUGUST\",\"Augst\",'Augt',\"AUG\",\"Augusta\"]:\n",
    "                        dates[1]= \"August\"\n",
    "                    elif dates[1] in [\"September\",\"Sept\",\"SEP\",\"Sep\",\"Septr\",\"SEPTEMBER\",\"Sepr\",\"Septh\", \"This\", \"This \"]:\n",
    "                        dates[1]= \"Septembre\"\n",
    "                    elif dates[1] in [\"October\",\"Oct\",\"OCT\",\"OCTOBER\"]:\n",
    "                        dates[1]= \"October\"\n",
    "                    elif dates[1] in [\"November\",\"NOV\",\"Nov\",\"Novmbr\",\"Nvbr\",\"Novb\",\"NOVEMBER\"]:\n",
    "                        dates[1]= \"November\"\n",
    "                    elif dates[1] in [\"December\",\"Dec\",\"Decbr\",\"DEC\",\"DECEMBER\",\"Decber\"]:\n",
    "                        dates[1]= \"December\"\n",
    "                    elif dates[1] in [\"January\",\"Janry\",\"Jan\",\"Jany\",\"JAN\",\"Janur\",\"JANUARY\"]:\n",
    "                        dates[1]= \"January\"\n",
    "                    elif dates[1] in [\"February\",\"Feby\",\"Febry\",\"FEB\",\"FEBRUARY\"]:\n",
    "                        dates[1]= \"February\"\n",
    "                    elif dates[1] in [\"March\",\"Mar\"]:\n",
    "                        dates[1]= \"March\"\n",
    "                    elif dates[1] in [\"April\",\"Apl\",\"Aprl\",\"APRIL\",\"Apr\"]:\n",
    "                        dates[1]= \"April\"\n",
    "                    elif dates[1] in [\"May\",\"MAY\"]:\n",
    "                        dates[1]= \"May\"\n",
    "                    elif dates[1] in [\"JUN\",\"Jun\",\"June\"]:\n",
    "                        dates[1]= \"June\"\n",
    "                    elif dates[1] in [\"JULY\",\"July\",\"JUL\"]:\n",
    "                        dates[1]= \"July\"\n",
    "                    if dates[0]== \"fifteenth\" :\n",
    "                        dates[0]=\"15\"\n",
    "                    elif (dates[0]==\"sixteenth\") |(dates[0]==\"This 16 \"):\n",
    "                        dates[0]=\"16\"\n",
    "                    elif dates[0]==\"Twenty\":\n",
    "                        dates[0]=\"20\" \n",
    "                    elif dates[0]==\"Twentyseventh\":\n",
    "                        dates[0]=\"27\" \n",
    "                    elif (dates[0]==\"Twenty Eighth\") |(dates[0]==\"TwentyEight\") |(dates[0]==\"TwentyEight \") |(dates[0]==\"Twentyeight\"):\n",
    "                        dates[0]=\"28\"\n",
    "                    elif (dates[0]==\"Ninth\") |(dates[0]==\"Ninth \")|(dates[0]==\"Augusta 9th \") |(dates[0]==\"ninth\") |(dates[0]==\"ninth \")|(dates[0]==\"Augusta 9th\"):\n",
    "                        dates[0]=\"9\"\n",
    "                    \n",
    "                    elif dates[0]=='Seventh':\n",
    "                        dates[0]=\"7\" \n",
    "                    elif (dates[0]=='The') |(dates[0]==\"The 9th\") :\n",
    "                        dates[0]=\"9\"\n",
    "                    elif dates[0]==\"the 9\" :\n",
    "                        dates[0]=\"9\"\n",
    "                    elif (dates[0]==\"Eighth \") |(dates[0]==\"Eighth\") |(dates[0]==\"eighth\") |(dates[0]==\"eighth \"):\n",
    "                        dates[0]=\"8\"\n",
    "                    elif dates[0]==\"Seventh \":\n",
    "                        dates[0]=\"7\"\n",
    "                    elif (dates[0]==\"Twenty ninth \")| (dates[0]==\"Twenty ninth\") | (dates[0]==\"twenty ninth \")|(dates[0]==\"Twenty Ninth \")|(dates[0]==\"Twenty Ninth\") :\n",
    "                        dates[0]=\"29\"\n",
    "                    elif (dates[0]==\"Thirty\") |(dates[0]==\"Thirty \") | (dates[0]==\"thirtieth \"):\n",
    "                        dates[0]=\"30\"\n",
    "                    elif (dates[0]==\"Thirty first \") |(dates[0]==\"Thirty first\"):\n",
    "                        dates[0]=\"31\"\n",
    "                  \n",
    "                    \n",
    "                    elif dates[0]==\"first \":\n",
    "                        dates[0]=\"1\"\n",
    "                    elif (dates[0]==\"Second \") |(dates[0]==\"Second\") |(dates[0]==\"second\")|(dates[0]==\"second \"):\n",
    "                        dates[0]=\"2\"\n",
    "                    elif dates[0]==\"fourth \":\n",
    "                        dates[0]=\"4\"\n",
    "                    elif dates[0]==\"tenth \":\n",
    "                        dates[0]=\"10\"\n",
    "                    elif (dates[0]==\"Fifth \")|(dates[0]==\"Fifth\") |(dates[0]==\"fifth \")|(dates[0]==\"fifth\"):\n",
    "                        dates[0]=\"5\"\n",
    "                    elif (dates[0]==\"This\") | (dates[0]==\"This 7th \")|(dates[0]==\"seventh \") |(dates[0]==\"seventh\") |(dates[0]==\"Seventh \"):\n",
    "                        dates[0]=\"7\"\n",
    "                    elif (dates[0]==\"This 31st\") |(dates[0]==\"Thirty-first \"):\n",
    "                        dates[0]=\"31\"\n",
    "                    elif (dates[0]==\"Thirtieth\") |(dates[0]==\"Thirtieth \") |(dates[0]==\"Thirty\"):\n",
    "                        dates[0]=\"30\"\n",
    "                    elif dates[0]==\"twenty fifth \":\n",
    "                        dates[0]=\"25\"\n",
    "                    elif dates[0]==\"Twenty seventh \":\n",
    "                        dates[0]=\"27\"\n",
    "                    elif (dates[0]==\"Twenty sixth \") |(dates[0]==\"Twentysixth \")|(dates[0]==\"Twentysixth\") |(dates[0]==\"twentysixth \"):\n",
    "                        dates[0]=\"26\"\n",
    "                    elif dates[0]==\"third \":\n",
    "                        dates[0]=\"3\" \n",
    "                    elif dates[0]==\"third\":\n",
    "                        dates[0]=\"3\"\n",
    "                    elif dates[0]==\"Third \":\n",
    "                        dates[0]=\"3\"\n",
    "                    elif dates[0]==\"Third\":\n",
    "                        dates[0]=\"3\"\n",
    "                    \n",
    "                    elif dates[0]==\"Tenth\":\n",
    "                        dates[0]=\"10\" \n",
    "                    elif dates[0]==\"Augusta\":\n",
    "                        dates[0]=\"9\" \n",
    "                    elif (dates[0]==\"this_sixth \")|(dates[0]==\"sixth \")| (dates[0]==\"Sixth\") | (dates[0]==\"Sixth \") |(dates[0]==\"this sixth \"):\n",
    "                        dates[0]=\"6\" \n",
    "                        \n",
    "                    elif dates[0]==\"Tenth \":\n",
    "                        dates[0]=\"10\"\n",
    "                    elif (dates[0]==\"twentieth\")|(dates[0]==\"This 20th \"):\n",
    "                        dates[0]=\"20\"\n",
    "                    elif (dates[0]==\"twenty fourth \") |(dates[0]==\"twenty fourth\") |(dates[0]==\"Twenty fourth \") |(dates[0]==\"Twenty fourth\"):\n",
    "                        dates[0]=\"24\"\n",
    "                    elif (dates[0]==\"fifteenth \") |(dates[0]==\"Fifteenth \") |(dates[0]==\"Fifteenth\"):\n",
    "                        dates[0]=\"15\"\n",
    "                    elif dates[0]==\"twentieth \":\n",
    "                        dates[0]=\"20\"\n",
    "                    elif dates[0]==\"Eighteenth \":\n",
    "                        dates[0]=\"18\"\n",
    "                    elif dates[0]==\"Eighteenth\":\n",
    "                        dates[0]=\"18\"\n",
    "                    elif (dates[0]==\"Nineteenth \") |(dates[0]==\"Nineteenth\"):\n",
    "                        dates[0]=\"19\"\n",
    "                    elif dates[0]==\"First \":\n",
    "                        dates[0]=\"1\"\n",
    "                    elif dates[0]==\"First\":\n",
    "                        dates[0]=\"1\"\n",
    "                    elif (dates[0]==\"Sixteenth \")|(dates[0]==\"this 16\") |(dates[0]==\"Sixteenth\"):\n",
    "                        dates[0]=\"16\"\n",
    "                   \n",
    "                    elif dates[0]==\"twenty third \":\n",
    "                        dates[0]=\"23\"\n",
    "                    elif dates[0]==\"twenty third\":\n",
    "                        dates[0]=\"23\"\n",
    "                    elif dates[0]==\"Twenty third \":\n",
    "                        dates[0]=\"23\"\n",
    "                    elif dates[0]==\"Twenty Second \":\n",
    "                        dates[0]=\"22\"\n",
    "                    elif dates[0]==\"Twenty Second\":\n",
    "                        dates[0]=\"22\"\n",
    "                    elif dates[0]==\"Twenty Eighth \":\n",
    "                        dates[0]=\"28\"\n",
    "                    elif dates[0]==\"Twentysenventh \":\n",
    "                        dates[0]=\"27\"\n",
    "                    elif dates[0]==\"twenty third \":\n",
    "                        dates[0]=\"23\"\n",
    "                    elif (dates[0]==\"twenty third\") |(dates[0]==\"Twentythird\")|(dates[0]==\"Twentythird \"):\n",
    "                        dates[0]=\"23\"\n",
    "                    elif (dates[0]==\"fourteenth \") | (dates[0]==\"fourteenth\") | (dates[0]==\"Fourteenth\") | (dates[0]==\"Fourteenth \"):\n",
    "                        dates[0]=\"14\"\n",
    "                    elif (dates[0]==\"Eleventh \") | (dates[0]==\"Eleventh\") |(dates[0]==\"eleventh \") :\n",
    "                        dates[0]=\"11\"\n",
    "                    elif (dates[0]==\"Thirteenth\") | (dates[0]==\"Thirteenth \") :\n",
    "                        dates[0]=\"13\"\n",
    "                    elif (dates[0]==\"seventeenth \") |(dates[0]==\"seventeenth\") |(dates[0]==\"Seventeenth \") :\n",
    "                        dates[0]=\"17\"\n",
    "                     \n",
    "                     \n",
    "                     \n",
    "                    \n",
    "                        \n",
    "                    j = dates[0]+\"-\"+dates[1]+\"-\"+dates[2]\n",
    "                    ng.append(j)\n",
    "            \n",
    "            \n",
    "    NG.append(ng)   "
   ]
  },
  {
   "cell_type": "markdown",
   "id": "39373401",
   "metadata": {
    "papermill": {
     "duration": 0.027559,
     "end_time": "2022-06-10T15:29:24.578821",
     "exception": false,
     "start_time": "2022-06-10T15:29:24.551262",
     "status": "completed"
    },
    "tags": []
   },
   "source": [
    "# Final date "
   ]
  },
  {
   "cell_type": "code",
   "execution_count": 35,
   "id": "5d61660b",
   "metadata": {
    "execution": {
     "iopub.execute_input": "2022-06-10T15:29:24.635688Z",
     "iopub.status.busy": "2022-06-10T15:29:24.635065Z",
     "iopub.status.idle": "2022-06-10T15:29:24.639021Z",
     "shell.execute_reply": "2022-06-10T15:29:24.638163Z"
    },
    "papermill": {
     "duration": 0.033818,
     "end_time": "2022-06-10T15:29:24.640791",
     "exception": false,
     "start_time": "2022-06-10T15:29:24.606973",
     "status": "completed"
    },
    "tags": []
   },
   "outputs": [],
   "source": [
    "#NG"
   ]
  },
  {
   "cell_type": "code",
   "execution_count": 36,
   "id": "dd084282",
   "metadata": {
    "execution": {
     "iopub.execute_input": "2022-06-10T15:29:24.697802Z",
     "iopub.status.busy": "2022-06-10T15:29:24.697308Z",
     "iopub.status.idle": "2022-06-10T15:29:24.702358Z",
     "shell.execute_reply": "2022-06-10T15:29:24.701503Z"
    },
    "papermill": {
     "duration": 0.035395,
     "end_time": "2022-06-10T15:29:24.704519",
     "exception": false,
     "start_time": "2022-06-10T15:29:24.669124",
     "status": "completed"
    },
    "tags": []
   },
   "outputs": [],
   "source": [
    "Lg=[]\n",
    "for i in G:\n",
    "    for j in i:\n",
    "        Lg.append(j)"
   ]
  },
  {
   "cell_type": "code",
   "execution_count": 37,
   "id": "3396fac7",
   "metadata": {
    "execution": {
     "iopub.execute_input": "2022-06-10T15:29:24.761082Z",
     "iopub.status.busy": "2022-06-10T15:29:24.760586Z",
     "iopub.status.idle": "2022-06-10T15:29:24.765946Z",
     "shell.execute_reply": "2022-06-10T15:29:24.765199Z"
    },
    "papermill": {
     "duration": 0.036252,
     "end_time": "2022-06-10T15:29:24.767878",
     "exception": false,
     "start_time": "2022-06-10T15:29:24.731626",
     "status": "completed"
    },
    "tags": []
   },
   "outputs": [
    {
     "data": {
      "text/plain": [
       "3622"
      ]
     },
     "execution_count": 37,
     "metadata": {},
     "output_type": "execute_result"
    }
   ],
   "source": [
    "len(Lg)"
   ]
  },
  {
   "cell_type": "code",
   "execution_count": 38,
   "id": "5d6394d5",
   "metadata": {
    "execution": {
     "iopub.execute_input": "2022-06-10T15:29:24.823962Z",
     "iopub.status.busy": "2022-06-10T15:29:24.823391Z",
     "iopub.status.idle": "2022-06-10T15:29:24.828158Z",
     "shell.execute_reply": "2022-06-10T15:29:24.827407Z"
    },
    "papermill": {
     "duration": 0.034706,
     "end_time": "2022-06-10T15:29:24.829942",
     "exception": false,
     "start_time": "2022-06-10T15:29:24.795236",
     "status": "completed"
    },
    "tags": []
   },
   "outputs": [],
   "source": [
    "Lng=[]\n",
    "for i in G:\n",
    "    for j in i:\n",
    "        Lng.append(j)"
   ]
  },
  {
   "cell_type": "code",
   "execution_count": 39,
   "id": "ee719bcd",
   "metadata": {
    "execution": {
     "iopub.execute_input": "2022-06-10T15:29:24.887215Z",
     "iopub.status.busy": "2022-06-10T15:29:24.886633Z",
     "iopub.status.idle": "2022-06-10T15:29:24.891870Z",
     "shell.execute_reply": "2022-06-10T15:29:24.891128Z"
    },
    "papermill": {
     "duration": 0.035359,
     "end_time": "2022-06-10T15:29:24.893977",
     "exception": false,
     "start_time": "2022-06-10T15:29:24.858618",
     "status": "completed"
    },
    "tags": []
   },
   "outputs": [
    {
     "data": {
      "text/plain": [
       "3622"
      ]
     },
     "execution_count": 39,
     "metadata": {},
     "output_type": "execute_result"
    }
   ],
   "source": [
    "len(Lng)"
   ]
  },
  {
   "cell_type": "code",
   "execution_count": null,
   "id": "a6e1f909",
   "metadata": {
    "papermill": {
     "duration": 0.027977,
     "end_time": "2022-06-10T15:29:24.952577",
     "exception": false,
     "start_time": "2022-06-10T15:29:24.924600",
     "status": "completed"
    },
    "tags": []
   },
   "outputs": [],
   "source": []
  }
 ],
 "metadata": {
  "kernelspec": {
   "display_name": "Python 3",
   "language": "python",
   "name": "python3"
  },
  "language_info": {
   "codemirror_mode": {
    "name": "ipython",
    "version": 3
   },
   "file_extension": ".py",
   "mimetype": "text/x-python",
   "name": "python",
   "nbconvert_exporter": "python",
   "pygments_lexer": "ipython3",
   "version": "3.7.12"
  },
  "papermill": {
   "default_parameters": {},
   "duration": 456.463489,
   "end_time": "2022-06-10T15:29:28.473947",
   "environment_variables": {},
   "exception": null,
   "input_path": "__notebook__.ipynb",
   "output_path": "__notebook__.ipynb",
   "parameters": {},
   "start_time": "2022-06-10T15:21:52.010458",
   "version": "2.3.4"
  },
  "widgets": {
   "application/vnd.jupyter.widget-state+json": {
    "state": {
     "06ad846f435143609b8ad8bfe43160a0": {
      "model_module": "@jupyter-widgets/base",
      "model_module_version": "1.2.0",
      "model_name": "LayoutModel",
      "state": {
       "_model_module": "@jupyter-widgets/base",
       "_model_module_version": "1.2.0",
       "_model_name": "LayoutModel",
       "_view_count": null,
       "_view_module": "@jupyter-widgets/base",
       "_view_module_version": "1.2.0",
       "_view_name": "LayoutView",
       "align_content": null,
       "align_items": null,
       "align_self": null,
       "border": null,
       "bottom": null,
       "display": null,
       "flex": null,
       "flex_flow": null,
       "grid_area": null,
       "grid_auto_columns": null,
       "grid_auto_flow": null,
       "grid_auto_rows": null,
       "grid_column": null,
       "grid_gap": null,
       "grid_row": null,
       "grid_template_areas": null,
       "grid_template_columns": null,
       "grid_template_rows": null,
       "height": null,
       "justify_content": null,
       "justify_items": null,
       "left": null,
       "margin": null,
       "max_height": null,
       "max_width": null,
       "min_height": null,
       "min_width": null,
       "object_fit": null,
       "object_position": null,
       "order": null,
       "overflow": null,
       "overflow_x": null,
       "overflow_y": null,
       "padding": null,
       "right": null,
       "top": null,
       "visibility": null,
       "width": null
      }
     },
     "0b7a44f4a11f4018b75a49b6666484da": {
      "model_module": "@jupyter-widgets/controls",
      "model_module_version": "1.5.0",
      "model_name": "HBoxModel",
      "state": {
       "_dom_classes": [],
       "_model_module": "@jupyter-widgets/controls",
       "_model_module_version": "1.5.0",
       "_model_name": "HBoxModel",
       "_view_count": null,
       "_view_module": "@jupyter-widgets/controls",
       "_view_module_version": "1.5.0",
       "_view_name": "HBoxView",
       "box_style": "",
       "children": [
        "IPY_MODEL_abe8e870daf0468ab2bea91cbdb1b8d7",
        "IPY_MODEL_aff8bbd16c614b858d46bc5b33c62ebe",
        "IPY_MODEL_d246b682d50c460581b20848cdc1b67a"
       ],
       "layout": "IPY_MODEL_ede414860cc0416ba3d95e902566596c"
      }
     },
     "0d2ef9a25ccc42beb42c2d1673f64222": {
      "model_module": "@jupyter-widgets/base",
      "model_module_version": "1.2.0",
      "model_name": "LayoutModel",
      "state": {
       "_model_module": "@jupyter-widgets/base",
       "_model_module_version": "1.2.0",
       "_model_name": "LayoutModel",
       "_view_count": null,
       "_view_module": "@jupyter-widgets/base",
       "_view_module_version": "1.2.0",
       "_view_name": "LayoutView",
       "align_content": null,
       "align_items": null,
       "align_self": null,
       "border": null,
       "bottom": null,
       "display": null,
       "flex": null,
       "flex_flow": null,
       "grid_area": null,
       "grid_auto_columns": null,
       "grid_auto_flow": null,
       "grid_auto_rows": null,
       "grid_column": null,
       "grid_gap": null,
       "grid_row": null,
       "grid_template_areas": null,
       "grid_template_columns": null,
       "grid_template_rows": null,
       "height": null,
       "justify_content": null,
       "justify_items": null,
       "left": null,
       "margin": null,
       "max_height": null,
       "max_width": null,
       "min_height": null,
       "min_width": null,
       "object_fit": null,
       "object_position": null,
       "order": null,
       "overflow": null,
       "overflow_x": null,
       "overflow_y": null,
       "padding": null,
       "right": null,
       "top": null,
       "visibility": null,
       "width": null
      }
     },
     "0f0d62b222f2400c82078b447c51c7d7": {
      "model_module": "@jupyter-widgets/base",
      "model_module_version": "1.2.0",
      "model_name": "LayoutModel",
      "state": {
       "_model_module": "@jupyter-widgets/base",
       "_model_module_version": "1.2.0",
       "_model_name": "LayoutModel",
       "_view_count": null,
       "_view_module": "@jupyter-widgets/base",
       "_view_module_version": "1.2.0",
       "_view_name": "LayoutView",
       "align_content": null,
       "align_items": null,
       "align_self": null,
       "border": null,
       "bottom": null,
       "display": null,
       "flex": null,
       "flex_flow": null,
       "grid_area": null,
       "grid_auto_columns": null,
       "grid_auto_flow": null,
       "grid_auto_rows": null,
       "grid_column": null,
       "grid_gap": null,
       "grid_row": null,
       "grid_template_areas": null,
       "grid_template_columns": null,
       "grid_template_rows": null,
       "height": null,
       "justify_content": null,
       "justify_items": null,
       "left": null,
       "margin": null,
       "max_height": null,
       "max_width": null,
       "min_height": null,
       "min_width": null,
       "object_fit": null,
       "object_position": null,
       "order": null,
       "overflow": null,
       "overflow_x": null,
       "overflow_y": null,
       "padding": null,
       "right": null,
       "top": null,
       "visibility": null,
       "width": null
      }
     },
     "10052719643b4a47a586db47505b574f": {
      "model_module": "@jupyter-widgets/base",
      "model_module_version": "1.2.0",
      "model_name": "LayoutModel",
      "state": {
       "_model_module": "@jupyter-widgets/base",
       "_model_module_version": "1.2.0",
       "_model_name": "LayoutModel",
       "_view_count": null,
       "_view_module": "@jupyter-widgets/base",
       "_view_module_version": "1.2.0",
       "_view_name": "LayoutView",
       "align_content": null,
       "align_items": null,
       "align_self": null,
       "border": null,
       "bottom": null,
       "display": null,
       "flex": null,
       "flex_flow": null,
       "grid_area": null,
       "grid_auto_columns": null,
       "grid_auto_flow": null,
       "grid_auto_rows": null,
       "grid_column": null,
       "grid_gap": null,
       "grid_row": null,
       "grid_template_areas": null,
       "grid_template_columns": null,
       "grid_template_rows": null,
       "height": null,
       "justify_content": null,
       "justify_items": null,
       "left": null,
       "margin": null,
       "max_height": null,
       "max_width": null,
       "min_height": null,
       "min_width": null,
       "object_fit": null,
       "object_position": null,
       "order": null,
       "overflow": null,
       "overflow_x": null,
       "overflow_y": null,
       "padding": null,
       "right": null,
       "top": null,
       "visibility": null,
       "width": null
      }
     },
     "17295c07099340f5b2120f254dddf2bf": {
      "model_module": "@jupyter-widgets/controls",
      "model_module_version": "1.5.0",
      "model_name": "HBoxModel",
      "state": {
       "_dom_classes": [],
       "_model_module": "@jupyter-widgets/controls",
       "_model_module_version": "1.5.0",
       "_model_name": "HBoxModel",
       "_view_count": null,
       "_view_module": "@jupyter-widgets/controls",
       "_view_module_version": "1.5.0",
       "_view_name": "HBoxView",
       "box_style": "",
       "children": [
        "IPY_MODEL_ec00489cf9304f5cbc8f21063c842fe8",
        "IPY_MODEL_32904746102d40da9aa244d8cc500997",
        "IPY_MODEL_2b248270b29441d1b0ec8be05a0277e1"
       ],
       "layout": "IPY_MODEL_9807d2eca0224f9cad6ea9659b463ada"
      }
     },
     "1a353de48f8d42b095159391c02f1ccf": {
      "model_module": "@jupyter-widgets/controls",
      "model_module_version": "1.5.0",
      "model_name": "HTMLModel",
      "state": {
       "_dom_classes": [],
       "_model_module": "@jupyter-widgets/controls",
       "_model_module_version": "1.5.0",
       "_model_name": "HTMLModel",
       "_view_count": null,
       "_view_module": "@jupyter-widgets/controls",
       "_view_module_version": "1.5.0",
       "_view_name": "HTMLView",
       "description": "",
       "description_tooltip": null,
       "layout": "IPY_MODEL_3e75902151494a6fa375a22b1fb7fa59",
       "placeholder": "​",
       "style": "IPY_MODEL_630216265ca3402db550d1fd45c9af5e",
       "value": "Downloading: 100%"
      }
     },
     "1c610fba5e9442a79481352d9720c3ec": {
      "model_module": "@jupyter-widgets/controls",
      "model_module_version": "1.5.0",
      "model_name": "DescriptionStyleModel",
      "state": {
       "_model_module": "@jupyter-widgets/controls",
       "_model_module_version": "1.5.0",
       "_model_name": "DescriptionStyleModel",
       "_view_count": null,
       "_view_module": "@jupyter-widgets/base",
       "_view_module_version": "1.2.0",
       "_view_name": "StyleView",
       "description_width": ""
      }
     },
     "2259a450e9b643758038dfb07c6b002b": {
      "model_module": "@jupyter-widgets/controls",
      "model_module_version": "1.5.0",
      "model_name": "FloatProgressModel",
      "state": {
       "_dom_classes": [],
       "_model_module": "@jupyter-widgets/controls",
       "_model_module_version": "1.5.0",
       "_model_name": "FloatProgressModel",
       "_view_count": null,
       "_view_module": "@jupyter-widgets/controls",
       "_view_module_version": "1.5.0",
       "_view_name": "ProgressView",
       "bar_style": "success",
       "description": "",
       "description_tooltip": null,
       "layout": "IPY_MODEL_574429e119ef4959bfca1ef4757c027a",
       "max": 616.0,
       "min": 0.0,
       "orientation": "horizontal",
       "style": "IPY_MODEL_ac713fceda144e29ad685291fa52a2ae",
       "value": 616.0
      }
     },
     "262267339ba14f80a883a4394a801482": {
      "model_module": "@jupyter-widgets/controls",
      "model_module_version": "1.5.0",
      "model_name": "DescriptionStyleModel",
      "state": {
       "_model_module": "@jupyter-widgets/controls",
       "_model_module_version": "1.5.0",
       "_model_name": "DescriptionStyleModel",
       "_view_count": null,
       "_view_module": "@jupyter-widgets/base",
       "_view_module_version": "1.2.0",
       "_view_name": "StyleView",
       "description_width": ""
      }
     },
     "29110bd2ba8c4fc8af5956af8ab725be": {
      "model_module": "@jupyter-widgets/controls",
      "model_module_version": "1.5.0",
      "model_name": "FloatProgressModel",
      "state": {
       "_dom_classes": [],
       "_model_module": "@jupyter-widgets/controls",
       "_model_module_version": "1.5.0",
       "_model_name": "FloatProgressModel",
       "_view_count": null,
       "_view_module": "@jupyter-widgets/controls",
       "_view_module_version": "1.5.0",
       "_view_name": "ProgressView",
       "bar_style": "success",
       "description": "",
       "description_tooltip": null,
       "layout": "IPY_MODEL_0f0d62b222f2400c82078b447c51c7d7",
       "max": 2239866761.0,
       "min": 0.0,
       "orientation": "horizontal",
       "style": "IPY_MODEL_9d46777c9bda450589d098a05de0d3ac",
       "value": 2239866761.0
      }
     },
     "2977ccedca5b4cef98732bc76b9d551b": {
      "model_module": "@jupyter-widgets/controls",
      "model_module_version": "1.5.0",
      "model_name": "DescriptionStyleModel",
      "state": {
       "_model_module": "@jupyter-widgets/controls",
       "_model_module_version": "1.5.0",
       "_model_name": "DescriptionStyleModel",
       "_view_count": null,
       "_view_module": "@jupyter-widgets/base",
       "_view_module_version": "1.2.0",
       "_view_name": "StyleView",
       "description_width": ""
      }
     },
     "2a8ab0854aa249a593cfc048607353fe": {
      "model_module": "@jupyter-widgets/controls",
      "model_module_version": "1.5.0",
      "model_name": "ProgressStyleModel",
      "state": {
       "_model_module": "@jupyter-widgets/controls",
       "_model_module_version": "1.5.0",
       "_model_name": "ProgressStyleModel",
       "_view_count": null,
       "_view_module": "@jupyter-widgets/base",
       "_view_module_version": "1.2.0",
       "_view_name": "StyleView",
       "bar_color": null,
       "description_width": ""
      }
     },
     "2b248270b29441d1b0ec8be05a0277e1": {
      "model_module": "@jupyter-widgets/controls",
      "model_module_version": "1.5.0",
      "model_name": "HTMLModel",
      "state": {
       "_dom_classes": [],
       "_model_module": "@jupyter-widgets/controls",
       "_model_module_version": "1.5.0",
       "_model_name": "HTMLModel",
       "_view_count": null,
       "_view_module": "@jupyter-widgets/controls",
       "_view_module_version": "1.5.0",
       "_view_name": "HTMLView",
       "description": "",
       "description_tooltip": null,
       "layout": "IPY_MODEL_52ff9e1af287486aa91d7be7f3213509",
       "placeholder": "​",
       "style": "IPY_MODEL_630ad9ee8a254b23aea70fb2efa16145",
       "value": " 432M/432M [00:09&lt;00:00, 45.3MB/s]"
      }
     },
     "2e86adac7ccd46ec854f2775e81ba3b1": {
      "model_module": "@jupyter-widgets/controls",
      "model_module_version": "1.5.0",
      "model_name": "DescriptionStyleModel",
      "state": {
       "_model_module": "@jupyter-widgets/controls",
       "_model_module_version": "1.5.0",
       "_model_name": "DescriptionStyleModel",
       "_view_count": null,
       "_view_module": "@jupyter-widgets/base",
       "_view_module_version": "1.2.0",
       "_view_name": "StyleView",
       "description_width": ""
      }
     },
     "3248fd6c25394c9ba4a4d092b47afe62": {
      "model_module": "@jupyter-widgets/base",
      "model_module_version": "1.2.0",
      "model_name": "LayoutModel",
      "state": {
       "_model_module": "@jupyter-widgets/base",
       "_model_module_version": "1.2.0",
       "_model_name": "LayoutModel",
       "_view_count": null,
       "_view_module": "@jupyter-widgets/base",
       "_view_module_version": "1.2.0",
       "_view_name": "LayoutView",
       "align_content": null,
       "align_items": null,
       "align_self": null,
       "border": null,
       "bottom": null,
       "display": null,
       "flex": null,
       "flex_flow": null,
       "grid_area": null,
       "grid_auto_columns": null,
       "grid_auto_flow": null,
       "grid_auto_rows": null,
       "grid_column": null,
       "grid_gap": null,
       "grid_row": null,
       "grid_template_areas": null,
       "grid_template_columns": null,
       "grid_template_rows": null,
       "height": null,
       "justify_content": null,
       "justify_items": null,
       "left": null,
       "margin": null,
       "max_height": null,
       "max_width": null,
       "min_height": null,
       "min_width": null,
       "object_fit": null,
       "object_position": null,
       "order": null,
       "overflow": null,
       "overflow_x": null,
       "overflow_y": null,
       "padding": null,
       "right": null,
       "top": null,
       "visibility": null,
       "width": null
      }
     },
     "32904746102d40da9aa244d8cc500997": {
      "model_module": "@jupyter-widgets/controls",
      "model_module_version": "1.5.0",
      "model_name": "FloatProgressModel",
      "state": {
       "_dom_classes": [],
       "_model_module": "@jupyter-widgets/controls",
       "_model_module_version": "1.5.0",
       "_model_name": "FloatProgressModel",
       "_view_count": null,
       "_view_module": "@jupyter-widgets/controls",
       "_view_module_version": "1.5.0",
       "_view_name": "ProgressView",
       "bar_style": "success",
       "description": "",
       "description_tooltip": null,
       "layout": "IPY_MODEL_f86fa2893e16452cac97c7eecead15b4",
       "max": 432176557.0,
       "min": 0.0,
       "orientation": "horizontal",
       "style": "IPY_MODEL_475338ff265c4019a25c70b221294a70",
       "value": 432176557.0
      }
     },
     "368ebb8a904f4614939b8facb1566e99": {
      "model_module": "@jupyter-widgets/controls",
      "model_module_version": "1.5.0",
      "model_name": "DescriptionStyleModel",
      "state": {
       "_model_module": "@jupyter-widgets/controls",
       "_model_module_version": "1.5.0",
       "_model_name": "DescriptionStyleModel",
       "_view_count": null,
       "_view_module": "@jupyter-widgets/base",
       "_view_module_version": "1.2.0",
       "_view_name": "StyleView",
       "description_width": ""
      }
     },
     "3e75902151494a6fa375a22b1fb7fa59": {
      "model_module": "@jupyter-widgets/base",
      "model_module_version": "1.2.0",
      "model_name": "LayoutModel",
      "state": {
       "_model_module": "@jupyter-widgets/base",
       "_model_module_version": "1.2.0",
       "_model_name": "LayoutModel",
       "_view_count": null,
       "_view_module": "@jupyter-widgets/base",
       "_view_module_version": "1.2.0",
       "_view_name": "LayoutView",
       "align_content": null,
       "align_items": null,
       "align_self": null,
       "border": null,
       "bottom": null,
       "display": null,
       "flex": null,
       "flex_flow": null,
       "grid_area": null,
       "grid_auto_columns": null,
       "grid_auto_flow": null,
       "grid_auto_rows": null,
       "grid_column": null,
       "grid_gap": null,
       "grid_row": null,
       "grid_template_areas": null,
       "grid_template_columns": null,
       "grid_template_rows": null,
       "height": null,
       "justify_content": null,
       "justify_items": null,
       "left": null,
       "margin": null,
       "max_height": null,
       "max_width": null,
       "min_height": null,
       "min_width": null,
       "object_fit": null,
       "object_position": null,
       "order": null,
       "overflow": null,
       "overflow_x": null,
       "overflow_y": null,
       "padding": null,
       "right": null,
       "top": null,
       "visibility": null,
       "width": null
      }
     },
     "4224f04dfa7e4d65b66d1fe3e8b4b205": {
      "model_module": "@jupyter-widgets/controls",
      "model_module_version": "1.5.0",
      "model_name": "HTMLModel",
      "state": {
       "_dom_classes": [],
       "_model_module": "@jupyter-widgets/controls",
       "_model_module_version": "1.5.0",
       "_model_name": "HTMLModel",
       "_view_count": null,
       "_view_module": "@jupyter-widgets/controls",
       "_view_module_version": "1.5.0",
       "_view_name": "HTMLView",
       "description": "",
       "description_tooltip": null,
       "layout": "IPY_MODEL_c53b488db80b42c2a71388b37730d692",
       "placeholder": "​",
       "style": "IPY_MODEL_262267339ba14f80a883a4394a801482",
       "value": " 8.68M/8.68M [00:00&lt;00:00, 14.6MB/s]"
      }
     },
     "45c21f551b8e40438848d56a559e37dd": {
      "model_module": "@jupyter-widgets/base",
      "model_module_version": "1.2.0",
      "model_name": "LayoutModel",
      "state": {
       "_model_module": "@jupyter-widgets/base",
       "_model_module_version": "1.2.0",
       "_model_name": "LayoutModel",
       "_view_count": null,
       "_view_module": "@jupyter-widgets/base",
       "_view_module_version": "1.2.0",
       "_view_name": "LayoutView",
       "align_content": null,
       "align_items": null,
       "align_self": null,
       "border": null,
       "bottom": null,
       "display": null,
       "flex": null,
       "flex_flow": null,
       "grid_area": null,
       "grid_auto_columns": null,
       "grid_auto_flow": null,
       "grid_auto_rows": null,
       "grid_column": null,
       "grid_gap": null,
       "grid_row": null,
       "grid_template_areas": null,
       "grid_template_columns": null,
       "grid_template_rows": null,
       "height": null,
       "justify_content": null,
       "justify_items": null,
       "left": null,
       "margin": null,
       "max_height": null,
       "max_width": null,
       "min_height": null,
       "min_width": null,
       "object_fit": null,
       "object_position": null,
       "order": null,
       "overflow": null,
       "overflow_x": null,
       "overflow_y": null,
       "padding": null,
       "right": null,
       "top": null,
       "visibility": null,
       "width": null
      }
     },
     "475338ff265c4019a25c70b221294a70": {
      "model_module": "@jupyter-widgets/controls",
      "model_module_version": "1.5.0",
      "model_name": "ProgressStyleModel",
      "state": {
       "_model_module": "@jupyter-widgets/controls",
       "_model_module_version": "1.5.0",
       "_model_name": "ProgressStyleModel",
       "_view_count": null,
       "_view_module": "@jupyter-widgets/base",
       "_view_module_version": "1.2.0",
       "_view_name": "StyleView",
       "bar_color": null,
       "description_width": ""
      }
     },
     "52ff9e1af287486aa91d7be7f3213509": {
      "model_module": "@jupyter-widgets/base",
      "model_module_version": "1.2.0",
      "model_name": "LayoutModel",
      "state": {
       "_model_module": "@jupyter-widgets/base",
       "_model_module_version": "1.2.0",
       "_model_name": "LayoutModel",
       "_view_count": null,
       "_view_module": "@jupyter-widgets/base",
       "_view_module_version": "1.2.0",
       "_view_name": "LayoutView",
       "align_content": null,
       "align_items": null,
       "align_self": null,
       "border": null,
       "bottom": null,
       "display": null,
       "flex": null,
       "flex_flow": null,
       "grid_area": null,
       "grid_auto_columns": null,
       "grid_auto_flow": null,
       "grid_auto_rows": null,
       "grid_column": null,
       "grid_gap": null,
       "grid_row": null,
       "grid_template_areas": null,
       "grid_template_columns": null,
       "grid_template_rows": null,
       "height": null,
       "justify_content": null,
       "justify_items": null,
       "left": null,
       "margin": null,
       "max_height": null,
       "max_width": null,
       "min_height": null,
       "min_width": null,
       "object_fit": null,
       "object_position": null,
       "order": null,
       "overflow": null,
       "overflow_x": null,
       "overflow_y": null,
       "padding": null,
       "right": null,
       "top": null,
       "visibility": null,
       "width": null
      }
     },
     "5552a7afd4f64970847eff7f42795ad4": {
      "model_module": "@jupyter-widgets/base",
      "model_module_version": "1.2.0",
      "model_name": "LayoutModel",
      "state": {
       "_model_module": "@jupyter-widgets/base",
       "_model_module_version": "1.2.0",
       "_model_name": "LayoutModel",
       "_view_count": null,
       "_view_module": "@jupyter-widgets/base",
       "_view_module_version": "1.2.0",
       "_view_name": "LayoutView",
       "align_content": null,
       "align_items": null,
       "align_self": null,
       "border": null,
       "bottom": null,
       "display": null,
       "flex": null,
       "flex_flow": null,
       "grid_area": null,
       "grid_auto_columns": null,
       "grid_auto_flow": null,
       "grid_auto_rows": null,
       "grid_column": null,
       "grid_gap": null,
       "grid_row": null,
       "grid_template_areas": null,
       "grid_template_columns": null,
       "grid_template_rows": null,
       "height": null,
       "justify_content": null,
       "justify_items": null,
       "left": null,
       "margin": null,
       "max_height": null,
       "max_width": null,
       "min_height": null,
       "min_width": null,
       "object_fit": null,
       "object_position": null,
       "order": null,
       "overflow": null,
       "overflow_x": null,
       "overflow_y": null,
       "padding": null,
       "right": null,
       "top": null,
       "visibility": null,
       "width": null
      }
     },
     "55784b0f121645659b4b897b5a47b494": {
      "model_module": "@jupyter-widgets/controls",
      "model_module_version": "1.5.0",
      "model_name": "HTMLModel",
      "state": {
       "_dom_classes": [],
       "_model_module": "@jupyter-widgets/controls",
       "_model_module_version": "1.5.0",
       "_model_name": "HTMLModel",
       "_view_count": null,
       "_view_module": "@jupyter-widgets/controls",
       "_view_module_version": "1.5.0",
       "_view_name": "HTMLView",
       "description": "",
       "description_tooltip": null,
       "layout": "IPY_MODEL_f676dcd012cc4064814144237217a3cc",
       "placeholder": "​",
       "style": "IPY_MODEL_1c610fba5e9442a79481352d9720c3ec",
       "value": "Downloading: 100%"
      }
     },
     "574429e119ef4959bfca1ef4757c027a": {
      "model_module": "@jupyter-widgets/base",
      "model_module_version": "1.2.0",
      "model_name": "LayoutModel",
      "state": {
       "_model_module": "@jupyter-widgets/base",
       "_model_module_version": "1.2.0",
       "_model_name": "LayoutModel",
       "_view_count": null,
       "_view_module": "@jupyter-widgets/base",
       "_view_module_version": "1.2.0",
       "_view_name": "LayoutView",
       "align_content": null,
       "align_items": null,
       "align_self": null,
       "border": null,
       "bottom": null,
       "display": null,
       "flex": null,
       "flex_flow": null,
       "grid_area": null,
       "grid_auto_columns": null,
       "grid_auto_flow": null,
       "grid_auto_rows": null,
       "grid_column": null,
       "grid_gap": null,
       "grid_row": null,
       "grid_template_areas": null,
       "grid_template_columns": null,
       "grid_template_rows": null,
       "height": null,
       "justify_content": null,
       "justify_items": null,
       "left": null,
       "margin": null,
       "max_height": null,
       "max_width": null,
       "min_height": null,
       "min_width": null,
       "object_fit": null,
       "object_position": null,
       "order": null,
       "overflow": null,
       "overflow_x": null,
       "overflow_y": null,
       "padding": null,
       "right": null,
       "top": null,
       "visibility": null,
       "width": null
      }
     },
     "630216265ca3402db550d1fd45c9af5e": {
      "model_module": "@jupyter-widgets/controls",
      "model_module_version": "1.5.0",
      "model_name": "DescriptionStyleModel",
      "state": {
       "_model_module": "@jupyter-widgets/controls",
       "_model_module_version": "1.5.0",
       "_model_name": "DescriptionStyleModel",
       "_view_count": null,
       "_view_module": "@jupyter-widgets/base",
       "_view_module_version": "1.2.0",
       "_view_name": "StyleView",
       "description_width": ""
      }
     },
     "630ad9ee8a254b23aea70fb2efa16145": {
      "model_module": "@jupyter-widgets/controls",
      "model_module_version": "1.5.0",
      "model_name": "DescriptionStyleModel",
      "state": {
       "_model_module": "@jupyter-widgets/controls",
       "_model_module_version": "1.5.0",
       "_model_name": "DescriptionStyleModel",
       "_view_count": null,
       "_view_module": "@jupyter-widgets/base",
       "_view_module_version": "1.2.0",
       "_view_name": "StyleView",
       "description_width": ""
      }
     },
     "6660c0471f7b4a8ebf907ea3e27ba9ce": {
      "model_module": "@jupyter-widgets/controls",
      "model_module_version": "1.5.0",
      "model_name": "HTMLModel",
      "state": {
       "_dom_classes": [],
       "_model_module": "@jupyter-widgets/controls",
       "_model_module_version": "1.5.0",
       "_model_name": "HTMLModel",
       "_view_count": null,
       "_view_module": "@jupyter-widgets/controls",
       "_view_module_version": "1.5.0",
       "_view_name": "HTMLView",
       "description": "",
       "description_tooltip": null,
       "layout": "IPY_MODEL_0d2ef9a25ccc42beb42c2d1673f64222",
       "placeholder": "​",
       "style": "IPY_MODEL_99101aaeb915471bb78b7136562a3973",
       "value": " 616/616 [00:00&lt;00:00, 24.2kB/s]"
      }
     },
     "6b130f9a4a604985bfa925d807ee8889": {
      "model_module": "@jupyter-widgets/controls",
      "model_module_version": "1.5.0",
      "model_name": "HTMLModel",
      "state": {
       "_dom_classes": [],
       "_model_module": "@jupyter-widgets/controls",
       "_model_module_version": "1.5.0",
       "_model_name": "HTMLModel",
       "_view_count": null,
       "_view_module": "@jupyter-widgets/controls",
       "_view_module_version": "1.5.0",
       "_view_name": "HTMLView",
       "description": "",
       "description_tooltip": null,
       "layout": "IPY_MODEL_795281f8a2cf420bac851eb880492d92",
       "placeholder": "​",
       "style": "IPY_MODEL_96d7f75dcbac4fc7ae722d3376fcd7c6",
       "value": "Downloading: 100%"
      }
     },
     "7653256937cb4acebd7e38cb7ec45637": {
      "model_module": "@jupyter-widgets/controls",
      "model_module_version": "1.5.0",
      "model_name": "ProgressStyleModel",
      "state": {
       "_model_module": "@jupyter-widgets/controls",
       "_model_module_version": "1.5.0",
       "_model_name": "ProgressStyleModel",
       "_view_count": null,
       "_view_module": "@jupyter-widgets/base",
       "_view_module_version": "1.2.0",
       "_view_name": "StyleView",
       "bar_color": null,
       "description_width": ""
      }
     },
     "76b634b2c24446268c2f6c91e661e604": {
      "model_module": "@jupyter-widgets/controls",
      "model_module_version": "1.5.0",
      "model_name": "DescriptionStyleModel",
      "state": {
       "_model_module": "@jupyter-widgets/controls",
       "_model_module_version": "1.5.0",
       "_model_name": "DescriptionStyleModel",
       "_view_count": null,
       "_view_module": "@jupyter-widgets/base",
       "_view_module_version": "1.2.0",
       "_view_name": "StyleView",
       "description_width": ""
      }
     },
     "795281f8a2cf420bac851eb880492d92": {
      "model_module": "@jupyter-widgets/base",
      "model_module_version": "1.2.0",
      "model_name": "LayoutModel",
      "state": {
       "_model_module": "@jupyter-widgets/base",
       "_model_module_version": "1.2.0",
       "_model_name": "LayoutModel",
       "_view_count": null,
       "_view_module": "@jupyter-widgets/base",
       "_view_module_version": "1.2.0",
       "_view_name": "LayoutView",
       "align_content": null,
       "align_items": null,
       "align_self": null,
       "border": null,
       "bottom": null,
       "display": null,
       "flex": null,
       "flex_flow": null,
       "grid_area": null,
       "grid_auto_columns": null,
       "grid_auto_flow": null,
       "grid_auto_rows": null,
       "grid_column": null,
       "grid_gap": null,
       "grid_row": null,
       "grid_template_areas": null,
       "grid_template_columns": null,
       "grid_template_rows": null,
       "height": null,
       "justify_content": null,
       "justify_items": null,
       "left": null,
       "margin": null,
       "max_height": null,
       "max_width": null,
       "min_height": null,
       "min_width": null,
       "object_fit": null,
       "object_position": null,
       "order": null,
       "overflow": null,
       "overflow_x": null,
       "overflow_y": null,
       "padding": null,
       "right": null,
       "top": null,
       "visibility": null,
       "width": null
      }
     },
     "7ab0873b7e7e49be87a3e292695514d2": {
      "model_module": "@jupyter-widgets/base",
      "model_module_version": "1.2.0",
      "model_name": "LayoutModel",
      "state": {
       "_model_module": "@jupyter-widgets/base",
       "_model_module_version": "1.2.0",
       "_model_name": "LayoutModel",
       "_view_count": null,
       "_view_module": "@jupyter-widgets/base",
       "_view_module_version": "1.2.0",
       "_view_name": "LayoutView",
       "align_content": null,
       "align_items": null,
       "align_self": null,
       "border": null,
       "bottom": null,
       "display": null,
       "flex": null,
       "flex_flow": null,
       "grid_area": null,
       "grid_auto_columns": null,
       "grid_auto_flow": null,
       "grid_auto_rows": null,
       "grid_column": null,
       "grid_gap": null,
       "grid_row": null,
       "grid_template_areas": null,
       "grid_template_columns": null,
       "grid_template_rows": null,
       "height": null,
       "justify_content": null,
       "justify_items": null,
       "left": null,
       "margin": null,
       "max_height": null,
       "max_width": null,
       "min_height": null,
       "min_width": null,
       "object_fit": null,
       "object_position": null,
       "order": null,
       "overflow": null,
       "overflow_x": null,
       "overflow_y": null,
       "padding": null,
       "right": null,
       "top": null,
       "visibility": null,
       "width": null
      }
     },
     "7e9e4b244e6c4f60b2040243ae22f201": {
      "model_module": "@jupyter-widgets/controls",
      "model_module_version": "1.5.0",
      "model_name": "HBoxModel",
      "state": {
       "_dom_classes": [],
       "_model_module": "@jupyter-widgets/controls",
       "_model_module_version": "1.5.0",
       "_model_name": "HBoxModel",
       "_view_count": null,
       "_view_module": "@jupyter-widgets/controls",
       "_view_module_version": "1.5.0",
       "_view_name": "HBoxView",
       "box_style": "",
       "children": [
        "IPY_MODEL_55784b0f121645659b4b897b5a47b494",
        "IPY_MODEL_2259a450e9b643758038dfb07c6b002b",
        "IPY_MODEL_6660c0471f7b4a8ebf907ea3e27ba9ce"
       ],
       "layout": "IPY_MODEL_b3d41575a738439ea25d350ce9a754d5"
      }
     },
     "8df7d559fd354d26a4ec3225190f15cf": {
      "model_module": "@jupyter-widgets/base",
      "model_module_version": "1.2.0",
      "model_name": "LayoutModel",
      "state": {
       "_model_module": "@jupyter-widgets/base",
       "_model_module_version": "1.2.0",
       "_model_name": "LayoutModel",
       "_view_count": null,
       "_view_module": "@jupyter-widgets/base",
       "_view_module_version": "1.2.0",
       "_view_name": "LayoutView",
       "align_content": null,
       "align_items": null,
       "align_self": null,
       "border": null,
       "bottom": null,
       "display": null,
       "flex": null,
       "flex_flow": null,
       "grid_area": null,
       "grid_auto_columns": null,
       "grid_auto_flow": null,
       "grid_auto_rows": null,
       "grid_column": null,
       "grid_gap": null,
       "grid_row": null,
       "grid_template_areas": null,
       "grid_template_columns": null,
       "grid_template_rows": null,
       "height": null,
       "justify_content": null,
       "justify_items": null,
       "left": null,
       "margin": null,
       "max_height": null,
       "max_width": null,
       "min_height": null,
       "min_width": null,
       "object_fit": null,
       "object_position": null,
       "order": null,
       "overflow": null,
       "overflow_x": null,
       "overflow_y": null,
       "padding": null,
       "right": null,
       "top": null,
       "visibility": null,
       "width": null
      }
     },
     "93974c0f4a684712b76927424f2e86c7": {
      "model_module": "@jupyter-widgets/controls",
      "model_module_version": "1.5.0",
      "model_name": "HTMLModel",
      "state": {
       "_dom_classes": [],
       "_model_module": "@jupyter-widgets/controls",
       "_model_module_version": "1.5.0",
       "_model_name": "HTMLModel",
       "_view_count": null,
       "_view_module": "@jupyter-widgets/controls",
       "_view_module_version": "1.5.0",
       "_view_name": "HTMLView",
       "description": "",
       "description_tooltip": null,
       "layout": "IPY_MODEL_ffb2a22600e54405b72a65d983d9706c",
       "placeholder": "​",
       "style": "IPY_MODEL_2e86adac7ccd46ec854f2775e81ba3b1",
       "value": " 2.24G/2.24G [00:49&lt;00:00, 46.2MB/s]"
      }
     },
     "96d7f75dcbac4fc7ae722d3376fcd7c6": {
      "model_module": "@jupyter-widgets/controls",
      "model_module_version": "1.5.0",
      "model_name": "DescriptionStyleModel",
      "state": {
       "_model_module": "@jupyter-widgets/controls",
       "_model_module_version": "1.5.0",
       "_model_name": "DescriptionStyleModel",
       "_view_count": null,
       "_view_module": "@jupyter-widgets/base",
       "_view_module_version": "1.2.0",
       "_view_name": "StyleView",
       "description_width": ""
      }
     },
     "9807d2eca0224f9cad6ea9659b463ada": {
      "model_module": "@jupyter-widgets/base",
      "model_module_version": "1.2.0",
      "model_name": "LayoutModel",
      "state": {
       "_model_module": "@jupyter-widgets/base",
       "_model_module_version": "1.2.0",
       "_model_name": "LayoutModel",
       "_view_count": null,
       "_view_module": "@jupyter-widgets/base",
       "_view_module_version": "1.2.0",
       "_view_name": "LayoutView",
       "align_content": null,
       "align_items": null,
       "align_self": null,
       "border": null,
       "bottom": null,
       "display": null,
       "flex": null,
       "flex_flow": null,
       "grid_area": null,
       "grid_auto_columns": null,
       "grid_auto_flow": null,
       "grid_auto_rows": null,
       "grid_column": null,
       "grid_gap": null,
       "grid_row": null,
       "grid_template_areas": null,
       "grid_template_columns": null,
       "grid_template_rows": null,
       "height": null,
       "justify_content": null,
       "justify_items": null,
       "left": null,
       "margin": null,
       "max_height": null,
       "max_width": null,
       "min_height": null,
       "min_width": null,
       "object_fit": null,
       "object_position": null,
       "order": null,
       "overflow": null,
       "overflow_x": null,
       "overflow_y": null,
       "padding": null,
       "right": null,
       "top": null,
       "visibility": null,
       "width": null
      }
     },
     "99101aaeb915471bb78b7136562a3973": {
      "model_module": "@jupyter-widgets/controls",
      "model_module_version": "1.5.0",
      "model_name": "DescriptionStyleModel",
      "state": {
       "_model_module": "@jupyter-widgets/controls",
       "_model_module_version": "1.5.0",
       "_model_name": "DescriptionStyleModel",
       "_view_count": null,
       "_view_module": "@jupyter-widgets/base",
       "_view_module_version": "1.2.0",
       "_view_name": "StyleView",
       "description_width": ""
      }
     },
     "99ed244f09b74da3bb1e728dbed9bc6c": {
      "model_module": "@jupyter-widgets/controls",
      "model_module_version": "1.5.0",
      "model_name": "HBoxModel",
      "state": {
       "_dom_classes": [],
       "_model_module": "@jupyter-widgets/controls",
       "_model_module_version": "1.5.0",
       "_model_name": "HBoxModel",
       "_view_count": null,
       "_view_module": "@jupyter-widgets/controls",
       "_view_module_version": "1.5.0",
       "_view_name": "HBoxView",
       "box_style": "",
       "children": [
        "IPY_MODEL_1a353de48f8d42b095159391c02f1ccf",
        "IPY_MODEL_29110bd2ba8c4fc8af5956af8ab725be",
        "IPY_MODEL_93974c0f4a684712b76927424f2e86c7"
       ],
       "layout": "IPY_MODEL_3248fd6c25394c9ba4a4d092b47afe62"
      }
     },
     "9d46777c9bda450589d098a05de0d3ac": {
      "model_module": "@jupyter-widgets/controls",
      "model_module_version": "1.5.0",
      "model_name": "ProgressStyleModel",
      "state": {
       "_model_module": "@jupyter-widgets/controls",
       "_model_module_version": "1.5.0",
       "_model_name": "ProgressStyleModel",
       "_view_count": null,
       "_view_module": "@jupyter-widgets/base",
       "_view_module_version": "1.2.0",
       "_view_name": "StyleView",
       "bar_color": null,
       "description_width": ""
      }
     },
     "abe8e870daf0468ab2bea91cbdb1b8d7": {
      "model_module": "@jupyter-widgets/controls",
      "model_module_version": "1.5.0",
      "model_name": "HTMLModel",
      "state": {
       "_dom_classes": [],
       "_model_module": "@jupyter-widgets/controls",
       "_model_module_version": "1.5.0",
       "_model_name": "HTMLModel",
       "_view_count": null,
       "_view_module": "@jupyter-widgets/controls",
       "_view_module_version": "1.5.0",
       "_view_name": "HTMLView",
       "description": "",
       "description_tooltip": null,
       "layout": "IPY_MODEL_8df7d559fd354d26a4ec3225190f15cf",
       "placeholder": "​",
       "style": "IPY_MODEL_368ebb8a904f4614939b8facb1566e99",
       "value": "Downloading: 100%"
      }
     },
     "ac713fceda144e29ad685291fa52a2ae": {
      "model_module": "@jupyter-widgets/controls",
      "model_module_version": "1.5.0",
      "model_name": "ProgressStyleModel",
      "state": {
       "_model_module": "@jupyter-widgets/controls",
       "_model_module_version": "1.5.0",
       "_model_name": "ProgressStyleModel",
       "_view_count": null,
       "_view_module": "@jupyter-widgets/base",
       "_view_module_version": "1.2.0",
       "_view_name": "StyleView",
       "bar_color": null,
       "description_width": ""
      }
     },
     "aff8bbd16c614b858d46bc5b33c62ebe": {
      "model_module": "@jupyter-widgets/controls",
      "model_module_version": "1.5.0",
      "model_name": "FloatProgressModel",
      "state": {
       "_dom_classes": [],
       "_model_module": "@jupyter-widgets/controls",
       "_model_module_version": "1.5.0",
       "_model_name": "FloatProgressModel",
       "_view_count": null,
       "_view_module": "@jupyter-widgets/controls",
       "_view_module_version": "1.5.0",
       "_view_name": "ProgressView",
       "bar_style": "success",
       "description": "",
       "description_tooltip": null,
       "layout": "IPY_MODEL_45c21f551b8e40438848d56a559e37dd",
       "max": 5069051.0,
       "min": 0.0,
       "orientation": "horizontal",
       "style": "IPY_MODEL_e1a0d1b3e8d544dc870813a4362cbcd5",
       "value": 5069051.0
      }
     },
     "b3d41575a738439ea25d350ce9a754d5": {
      "model_module": "@jupyter-widgets/base",
      "model_module_version": "1.2.0",
      "model_name": "LayoutModel",
      "state": {
       "_model_module": "@jupyter-widgets/base",
       "_model_module_version": "1.2.0",
       "_model_name": "LayoutModel",
       "_view_count": null,
       "_view_module": "@jupyter-widgets/base",
       "_view_module_version": "1.2.0",
       "_view_name": "LayoutView",
       "align_content": null,
       "align_items": null,
       "align_self": null,
       "border": null,
       "bottom": null,
       "display": null,
       "flex": null,
       "flex_flow": null,
       "grid_area": null,
       "grid_auto_columns": null,
       "grid_auto_flow": null,
       "grid_auto_rows": null,
       "grid_column": null,
       "grid_gap": null,
       "grid_row": null,
       "grid_template_areas": null,
       "grid_template_columns": null,
       "grid_template_rows": null,
       "height": null,
       "justify_content": null,
       "justify_items": null,
       "left": null,
       "margin": null,
       "max_height": null,
       "max_width": null,
       "min_height": null,
       "min_width": null,
       "object_fit": null,
       "object_position": null,
       "order": null,
       "overflow": null,
       "overflow_x": null,
       "overflow_y": null,
       "padding": null,
       "right": null,
       "top": null,
       "visibility": null,
       "width": null
      }
     },
     "b764bc46bcd941a08ae8daf73d0f311e": {
      "model_module": "@jupyter-widgets/controls",
      "model_module_version": "1.5.0",
      "model_name": "HBoxModel",
      "state": {
       "_dom_classes": [],
       "_model_module": "@jupyter-widgets/controls",
       "_model_module_version": "1.5.0",
       "_model_name": "HBoxModel",
       "_view_count": null,
       "_view_module": "@jupyter-widgets/controls",
       "_view_module_version": "1.5.0",
       "_view_name": "HBoxView",
       "box_style": "",
       "children": [
        "IPY_MODEL_ee82508caa1e4ddda4f9aa3eaceff7dc",
        "IPY_MODEL_cdaa99761e0e405abbb6093ed796d7d7",
        "IPY_MODEL_4224f04dfa7e4d65b66d1fe3e8b4b205"
       ],
       "layout": "IPY_MODEL_7ab0873b7e7e49be87a3e292695514d2"
      }
     },
     "b936608171054fdb90cdebb4da8d7eee": {
      "model_module": "@jupyter-widgets/base",
      "model_module_version": "1.2.0",
      "model_name": "LayoutModel",
      "state": {
       "_model_module": "@jupyter-widgets/base",
       "_model_module_version": "1.2.0",
       "_model_name": "LayoutModel",
       "_view_count": null,
       "_view_module": "@jupyter-widgets/base",
       "_view_module_version": "1.2.0",
       "_view_name": "LayoutView",
       "align_content": null,
       "align_items": null,
       "align_self": null,
       "border": null,
       "bottom": null,
       "display": null,
       "flex": null,
       "flex_flow": null,
       "grid_area": null,
       "grid_auto_columns": null,
       "grid_auto_flow": null,
       "grid_auto_rows": null,
       "grid_column": null,
       "grid_gap": null,
       "grid_row": null,
       "grid_template_areas": null,
       "grid_template_columns": null,
       "grid_template_rows": null,
       "height": null,
       "justify_content": null,
       "justify_items": null,
       "left": null,
       "margin": null,
       "max_height": null,
       "max_width": null,
       "min_height": null,
       "min_width": null,
       "object_fit": null,
       "object_position": null,
       "order": null,
       "overflow": null,
       "overflow_x": null,
       "overflow_y": null,
       "padding": null,
       "right": null,
       "top": null,
       "visibility": null,
       "width": null
      }
     },
     "bcd7449c48874661bfc9c0c17e78694a": {
      "model_module": "@jupyter-widgets/base",
      "model_module_version": "1.2.0",
      "model_name": "LayoutModel",
      "state": {
       "_model_module": "@jupyter-widgets/base",
       "_model_module_version": "1.2.0",
       "_model_name": "LayoutModel",
       "_view_count": null,
       "_view_module": "@jupyter-widgets/base",
       "_view_module_version": "1.2.0",
       "_view_name": "LayoutView",
       "align_content": null,
       "align_items": null,
       "align_self": null,
       "border": null,
       "bottom": null,
       "display": null,
       "flex": null,
       "flex_flow": null,
       "grid_area": null,
       "grid_auto_columns": null,
       "grid_auto_flow": null,
       "grid_auto_rows": null,
       "grid_column": null,
       "grid_gap": null,
       "grid_row": null,
       "grid_template_areas": null,
       "grid_template_columns": null,
       "grid_template_rows": null,
       "height": null,
       "justify_content": null,
       "justify_items": null,
       "left": null,
       "margin": null,
       "max_height": null,
       "max_width": null,
       "min_height": null,
       "min_width": null,
       "object_fit": null,
       "object_position": null,
       "order": null,
       "overflow": null,
       "overflow_x": null,
       "overflow_y": null,
       "padding": null,
       "right": null,
       "top": null,
       "visibility": null,
       "width": null
      }
     },
     "bceea242259a41adaf7d337a5125ea02": {
      "model_module": "@jupyter-widgets/base",
      "model_module_version": "1.2.0",
      "model_name": "LayoutModel",
      "state": {
       "_model_module": "@jupyter-widgets/base",
       "_model_module_version": "1.2.0",
       "_model_name": "LayoutModel",
       "_view_count": null,
       "_view_module": "@jupyter-widgets/base",
       "_view_module_version": "1.2.0",
       "_view_name": "LayoutView",
       "align_content": null,
       "align_items": null,
       "align_self": null,
       "border": null,
       "bottom": null,
       "display": null,
       "flex": null,
       "flex_flow": null,
       "grid_area": null,
       "grid_auto_columns": null,
       "grid_auto_flow": null,
       "grid_auto_rows": null,
       "grid_column": null,
       "grid_gap": null,
       "grid_row": null,
       "grid_template_areas": null,
       "grid_template_columns": null,
       "grid_template_rows": null,
       "height": null,
       "justify_content": null,
       "justify_items": null,
       "left": null,
       "margin": null,
       "max_height": null,
       "max_width": null,
       "min_height": null,
       "min_width": null,
       "object_fit": null,
       "object_position": null,
       "order": null,
       "overflow": null,
       "overflow_x": null,
       "overflow_y": null,
       "padding": null,
       "right": null,
       "top": null,
       "visibility": null,
       "width": null
      }
     },
     "c53b488db80b42c2a71388b37730d692": {
      "model_module": "@jupyter-widgets/base",
      "model_module_version": "1.2.0",
      "model_name": "LayoutModel",
      "state": {
       "_model_module": "@jupyter-widgets/base",
       "_model_module_version": "1.2.0",
       "_model_name": "LayoutModel",
       "_view_count": null,
       "_view_module": "@jupyter-widgets/base",
       "_view_module_version": "1.2.0",
       "_view_name": "LayoutView",
       "align_content": null,
       "align_items": null,
       "align_self": null,
       "border": null,
       "bottom": null,
       "display": null,
       "flex": null,
       "flex_flow": null,
       "grid_area": null,
       "grid_auto_columns": null,
       "grid_auto_flow": null,
       "grid_auto_rows": null,
       "grid_column": null,
       "grid_gap": null,
       "grid_row": null,
       "grid_template_areas": null,
       "grid_template_columns": null,
       "grid_template_rows": null,
       "height": null,
       "justify_content": null,
       "justify_items": null,
       "left": null,
       "margin": null,
       "max_height": null,
       "max_width": null,
       "min_height": null,
       "min_width": null,
       "object_fit": null,
       "object_position": null,
       "order": null,
       "overflow": null,
       "overflow_x": null,
       "overflow_y": null,
       "padding": null,
       "right": null,
       "top": null,
       "visibility": null,
       "width": null
      }
     },
     "c6b6b494b8a44ed59c174bd6181152a1": {
      "model_module": "@jupyter-widgets/controls",
      "model_module_version": "1.5.0",
      "model_name": "HTMLModel",
      "state": {
       "_dom_classes": [],
       "_model_module": "@jupyter-widgets/controls",
       "_model_module_version": "1.5.0",
       "_model_name": "HTMLModel",
       "_view_count": null,
       "_view_module": "@jupyter-widgets/controls",
       "_view_module_version": "1.5.0",
       "_view_name": "HTMLView",
       "description": "",
       "description_tooltip": null,
       "layout": "IPY_MODEL_5552a7afd4f64970847eff7f42795ad4",
       "placeholder": "​",
       "style": "IPY_MODEL_d6d9e7faf2554203b8a468801803dc4f",
       "value": " 2.24G/2.24G [00:50&lt;00:00, 46.0MB/s]"
      }
     },
     "cdaa99761e0e405abbb6093ed796d7d7": {
      "model_module": "@jupyter-widgets/controls",
      "model_module_version": "1.5.0",
      "model_name": "FloatProgressModel",
      "state": {
       "_dom_classes": [],
       "_model_module": "@jupyter-widgets/controls",
       "_model_module_version": "1.5.0",
       "_model_name": "FloatProgressModel",
       "_view_count": null,
       "_view_module": "@jupyter-widgets/controls",
       "_view_module_version": "1.5.0",
       "_view_name": "ProgressView",
       "bar_style": "success",
       "description": "",
       "description_tooltip": null,
       "layout": "IPY_MODEL_bceea242259a41adaf7d337a5125ea02",
       "max": 9096718.0,
       "min": 0.0,
       "orientation": "horizontal",
       "style": "IPY_MODEL_2a8ab0854aa249a593cfc048607353fe",
       "value": 9096718.0
      }
     },
     "d246b682d50c460581b20848cdc1b67a": {
      "model_module": "@jupyter-widgets/controls",
      "model_module_version": "1.5.0",
      "model_name": "HTMLModel",
      "state": {
       "_dom_classes": [],
       "_model_module": "@jupyter-widgets/controls",
       "_model_module_version": "1.5.0",
       "_model_name": "HTMLModel",
       "_view_count": null,
       "_view_module": "@jupyter-widgets/controls",
       "_view_module_version": "1.5.0",
       "_view_name": "HTMLView",
       "description": "",
       "description_tooltip": null,
       "layout": "IPY_MODEL_06ad846f435143609b8ad8bfe43160a0",
       "placeholder": "​",
       "style": "IPY_MODEL_2977ccedca5b4cef98732bc76b9d551b",
       "value": " 4.83M/4.83M [00:00&lt;00:00, 6.37MB/s]"
      }
     },
     "d6d9e7faf2554203b8a468801803dc4f": {
      "model_module": "@jupyter-widgets/controls",
      "model_module_version": "1.5.0",
      "model_name": "DescriptionStyleModel",
      "state": {
       "_model_module": "@jupyter-widgets/controls",
       "_model_module_version": "1.5.0",
       "_model_name": "DescriptionStyleModel",
       "_view_count": null,
       "_view_module": "@jupyter-widgets/base",
       "_view_module_version": "1.2.0",
       "_view_name": "StyleView",
       "description_width": ""
      }
     },
     "dfa19addacff4e75934bbcd03b3573ee": {
      "model_module": "@jupyter-widgets/base",
      "model_module_version": "1.2.0",
      "model_name": "LayoutModel",
      "state": {
       "_model_module": "@jupyter-widgets/base",
       "_model_module_version": "1.2.0",
       "_model_name": "LayoutModel",
       "_view_count": null,
       "_view_module": "@jupyter-widgets/base",
       "_view_module_version": "1.2.0",
       "_view_name": "LayoutView",
       "align_content": null,
       "align_items": null,
       "align_self": null,
       "border": null,
       "bottom": null,
       "display": null,
       "flex": null,
       "flex_flow": null,
       "grid_area": null,
       "grid_auto_columns": null,
       "grid_auto_flow": null,
       "grid_auto_rows": null,
       "grid_column": null,
       "grid_gap": null,
       "grid_row": null,
       "grid_template_areas": null,
       "grid_template_columns": null,
       "grid_template_rows": null,
       "height": null,
       "justify_content": null,
       "justify_items": null,
       "left": null,
       "margin": null,
       "max_height": null,
       "max_width": null,
       "min_height": null,
       "min_width": null,
       "object_fit": null,
       "object_position": null,
       "order": null,
       "overflow": null,
       "overflow_x": null,
       "overflow_y": null,
       "padding": null,
       "right": null,
       "top": null,
       "visibility": null,
       "width": null
      }
     },
     "e1a0d1b3e8d544dc870813a4362cbcd5": {
      "model_module": "@jupyter-widgets/controls",
      "model_module_version": "1.5.0",
      "model_name": "ProgressStyleModel",
      "state": {
       "_model_module": "@jupyter-widgets/controls",
       "_model_module_version": "1.5.0",
       "_model_name": "ProgressStyleModel",
       "_view_count": null,
       "_view_module": "@jupyter-widgets/base",
       "_view_module_version": "1.2.0",
       "_view_name": "StyleView",
       "bar_color": null,
       "description_width": ""
      }
     },
     "e3810cdfdd994294bac344c5f019385c": {
      "model_module": "@jupyter-widgets/controls",
      "model_module_version": "1.5.0",
      "model_name": "FloatProgressModel",
      "state": {
       "_dom_classes": [],
       "_model_module": "@jupyter-widgets/controls",
       "_model_module_version": "1.5.0",
       "_model_name": "FloatProgressModel",
       "_view_count": null,
       "_view_module": "@jupyter-widgets/controls",
       "_view_module_version": "1.5.0",
       "_view_name": "ProgressView",
       "bar_style": "success",
       "description": "",
       "description_tooltip": null,
       "layout": "IPY_MODEL_b936608171054fdb90cdebb4da8d7eee",
       "max": 2240097289.0,
       "min": 0.0,
       "orientation": "horizontal",
       "style": "IPY_MODEL_7653256937cb4acebd7e38cb7ec45637",
       "value": 2240097289.0
      }
     },
     "e4a71192a9df4d17afa5812df5301037": {
      "model_module": "@jupyter-widgets/controls",
      "model_module_version": "1.5.0",
      "model_name": "HBoxModel",
      "state": {
       "_dom_classes": [],
       "_model_module": "@jupyter-widgets/controls",
       "_model_module_version": "1.5.0",
       "_model_name": "HBoxModel",
       "_view_count": null,
       "_view_module": "@jupyter-widgets/controls",
       "_view_module_version": "1.5.0",
       "_view_name": "HBoxView",
       "box_style": "",
       "children": [
        "IPY_MODEL_6b130f9a4a604985bfa925d807ee8889",
        "IPY_MODEL_e3810cdfdd994294bac344c5f019385c",
        "IPY_MODEL_c6b6b494b8a44ed59c174bd6181152a1"
       ],
       "layout": "IPY_MODEL_bcd7449c48874661bfc9c0c17e78694a"
      }
     },
     "ec00489cf9304f5cbc8f21063c842fe8": {
      "model_module": "@jupyter-widgets/controls",
      "model_module_version": "1.5.0",
      "model_name": "HTMLModel",
      "state": {
       "_dom_classes": [],
       "_model_module": "@jupyter-widgets/controls",
       "_model_module_version": "1.5.0",
       "_model_name": "HTMLModel",
       "_view_count": null,
       "_view_module": "@jupyter-widgets/controls",
       "_view_module_version": "1.5.0",
       "_view_name": "HTMLView",
       "description": "",
       "description_tooltip": null,
       "layout": "IPY_MODEL_10052719643b4a47a586db47505b574f",
       "placeholder": "​",
       "style": "IPY_MODEL_76b634b2c24446268c2f6c91e661e604",
       "value": "Downloading: 100%"
      }
     },
     "ede414860cc0416ba3d95e902566596c": {
      "model_module": "@jupyter-widgets/base",
      "model_module_version": "1.2.0",
      "model_name": "LayoutModel",
      "state": {
       "_model_module": "@jupyter-widgets/base",
       "_model_module_version": "1.2.0",
       "_model_name": "LayoutModel",
       "_view_count": null,
       "_view_module": "@jupyter-widgets/base",
       "_view_module_version": "1.2.0",
       "_view_name": "LayoutView",
       "align_content": null,
       "align_items": null,
       "align_self": null,
       "border": null,
       "bottom": null,
       "display": null,
       "flex": null,
       "flex_flow": null,
       "grid_area": null,
       "grid_auto_columns": null,
       "grid_auto_flow": null,
       "grid_auto_rows": null,
       "grid_column": null,
       "grid_gap": null,
       "grid_row": null,
       "grid_template_areas": null,
       "grid_template_columns": null,
       "grid_template_rows": null,
       "height": null,
       "justify_content": null,
       "justify_items": null,
       "left": null,
       "margin": null,
       "max_height": null,
       "max_width": null,
       "min_height": null,
       "min_width": null,
       "object_fit": null,
       "object_position": null,
       "order": null,
       "overflow": null,
       "overflow_x": null,
       "overflow_y": null,
       "padding": null,
       "right": null,
       "top": null,
       "visibility": null,
       "width": null
      }
     },
     "ee82508caa1e4ddda4f9aa3eaceff7dc": {
      "model_module": "@jupyter-widgets/controls",
      "model_module_version": "1.5.0",
      "model_name": "HTMLModel",
      "state": {
       "_dom_classes": [],
       "_model_module": "@jupyter-widgets/controls",
       "_model_module_version": "1.5.0",
       "_model_name": "HTMLModel",
       "_view_count": null,
       "_view_module": "@jupyter-widgets/controls",
       "_view_module_version": "1.5.0",
       "_view_name": "HTMLView",
       "description": "",
       "description_tooltip": null,
       "layout": "IPY_MODEL_dfa19addacff4e75934bbcd03b3573ee",
       "placeholder": "​",
       "style": "IPY_MODEL_f7c28db2f12646cfa36f288650cf1f8e",
       "value": "Downloading: 100%"
      }
     },
     "f676dcd012cc4064814144237217a3cc": {
      "model_module": "@jupyter-widgets/base",
      "model_module_version": "1.2.0",
      "model_name": "LayoutModel",
      "state": {
       "_model_module": "@jupyter-widgets/base",
       "_model_module_version": "1.2.0",
       "_model_name": "LayoutModel",
       "_view_count": null,
       "_view_module": "@jupyter-widgets/base",
       "_view_module_version": "1.2.0",
       "_view_name": "LayoutView",
       "align_content": null,
       "align_items": null,
       "align_self": null,
       "border": null,
       "bottom": null,
       "display": null,
       "flex": null,
       "flex_flow": null,
       "grid_area": null,
       "grid_auto_columns": null,
       "grid_auto_flow": null,
       "grid_auto_rows": null,
       "grid_column": null,
       "grid_gap": null,
       "grid_row": null,
       "grid_template_areas": null,
       "grid_template_columns": null,
       "grid_template_rows": null,
       "height": null,
       "justify_content": null,
       "justify_items": null,
       "left": null,
       "margin": null,
       "max_height": null,
       "max_width": null,
       "min_height": null,
       "min_width": null,
       "object_fit": null,
       "object_position": null,
       "order": null,
       "overflow": null,
       "overflow_x": null,
       "overflow_y": null,
       "padding": null,
       "right": null,
       "top": null,
       "visibility": null,
       "width": null
      }
     },
     "f7c28db2f12646cfa36f288650cf1f8e": {
      "model_module": "@jupyter-widgets/controls",
      "model_module_version": "1.5.0",
      "model_name": "DescriptionStyleModel",
      "state": {
       "_model_module": "@jupyter-widgets/controls",
       "_model_module_version": "1.5.0",
       "_model_name": "DescriptionStyleModel",
       "_view_count": null,
       "_view_module": "@jupyter-widgets/base",
       "_view_module_version": "1.2.0",
       "_view_name": "StyleView",
       "description_width": ""
      }
     },
     "f86fa2893e16452cac97c7eecead15b4": {
      "model_module": "@jupyter-widgets/base",
      "model_module_version": "1.2.0",
      "model_name": "LayoutModel",
      "state": {
       "_model_module": "@jupyter-widgets/base",
       "_model_module_version": "1.2.0",
       "_model_name": "LayoutModel",
       "_view_count": null,
       "_view_module": "@jupyter-widgets/base",
       "_view_module_version": "1.2.0",
       "_view_name": "LayoutView",
       "align_content": null,
       "align_items": null,
       "align_self": null,
       "border": null,
       "bottom": null,
       "display": null,
       "flex": null,
       "flex_flow": null,
       "grid_area": null,
       "grid_auto_columns": null,
       "grid_auto_flow": null,
       "grid_auto_rows": null,
       "grid_column": null,
       "grid_gap": null,
       "grid_row": null,
       "grid_template_areas": null,
       "grid_template_columns": null,
       "grid_template_rows": null,
       "height": null,
       "justify_content": null,
       "justify_items": null,
       "left": null,
       "margin": null,
       "max_height": null,
       "max_width": null,
       "min_height": null,
       "min_width": null,
       "object_fit": null,
       "object_position": null,
       "order": null,
       "overflow": null,
       "overflow_x": null,
       "overflow_y": null,
       "padding": null,
       "right": null,
       "top": null,
       "visibility": null,
       "width": null
      }
     },
     "ffb2a22600e54405b72a65d983d9706c": {
      "model_module": "@jupyter-widgets/base",
      "model_module_version": "1.2.0",
      "model_name": "LayoutModel",
      "state": {
       "_model_module": "@jupyter-widgets/base",
       "_model_module_version": "1.2.0",
       "_model_name": "LayoutModel",
       "_view_count": null,
       "_view_module": "@jupyter-widgets/base",
       "_view_module_version": "1.2.0",
       "_view_name": "LayoutView",
       "align_content": null,
       "align_items": null,
       "align_self": null,
       "border": null,
       "bottom": null,
       "display": null,
       "flex": null,
       "flex_flow": null,
       "grid_area": null,
       "grid_auto_columns": null,
       "grid_auto_flow": null,
       "grid_auto_rows": null,
       "grid_column": null,
       "grid_gap": null,
       "grid_row": null,
       "grid_template_areas": null,
       "grid_template_columns": null,
       "grid_template_rows": null,
       "height": null,
       "justify_content": null,
       "justify_items": null,
       "left": null,
       "margin": null,
       "max_height": null,
       "max_width": null,
       "min_height": null,
       "min_width": null,
       "object_fit": null,
       "object_position": null,
       "order": null,
       "overflow": null,
       "overflow_x": null,
       "overflow_y": null,
       "padding": null,
       "right": null,
       "top": null,
       "visibility": null,
       "width": null
      }
     }
    },
    "version_major": 2,
    "version_minor": 0
   }
  }
 },
 "nbformat": 4,
 "nbformat_minor": 5
}
