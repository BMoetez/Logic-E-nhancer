{
 "cells": [
  {
   "cell_type": "code",
   "execution_count": 1,
   "id": "21f2eada",
   "metadata": {
    "_cell_guid": "b1076dfc-b9ad-4769-8c92-a6c4dae69d19",
    "_uuid": "8f2839f25d086af736a60e9eeb907d3b93b6e0e5",
    "execution": {
     "iopub.execute_input": "2022-06-11T01:44:41.305827Z",
     "iopub.status.busy": "2022-06-11T01:44:41.305322Z",
     "iopub.status.idle": "2022-06-11T01:44:47.944417Z",
     "shell.execute_reply": "2022-06-11T01:44:47.943636Z"
    },
    "papermill": {
     "duration": 6.658592,
     "end_time": "2022-06-11T01:44:47.946525",
     "exception": false,
     "start_time": "2022-06-11T01:44:41.287933",
     "status": "completed"
    },
    "tags": []
   },
   "outputs": [],
   "source": [
    "import numpy as np\n",
    "import pandas as pd \n",
    "import seaborn as sns\n",
    "import matplotlib.pyplot as plt \n",
    "import matplotlib.style as stl \n",
    "from tensorflow import keras \n",
    "from keras.preprocessing.text import Tokenizer\n",
    "from nltk.corpus import stopwords\n",
    "import string\n",
    "from tensorflow.keras.models import Sequential,Model\n",
    "from tensorflow.keras.layers import Dense, LSTM, Embedding,Dropout,SpatialDropout1D,Conv1D,MaxPooling1D,GRU,BatchNormalization\n",
    "import warnings\n",
    "warnings.filterwarnings('ignore')\n",
    "stl.use('ggplot')\n",
    "from tqdm import tqdm\n",
    "import string\n",
    "from nltk.corpus import stopwords\n",
    "from nltk.tokenize import word_tokenize\n",
    "from nltk.stem import WordNetLemmatizer\n",
    "from nltk.stem.snowball import SnowballStemmer\n",
    "import regex as re"
   ]
  },
  {
   "cell_type": "code",
   "execution_count": 2,
   "id": "8803d74e",
   "metadata": {
    "execution": {
     "iopub.execute_input": "2022-06-11T01:44:47.976625Z",
     "iopub.status.busy": "2022-06-11T01:44:47.975557Z",
     "iopub.status.idle": "2022-06-11T01:44:48.068391Z",
     "shell.execute_reply": "2022-06-11T01:44:48.067637Z"
    },
    "papermill": {
     "duration": 0.109421,
     "end_time": "2022-06-11T01:44:48.070243",
     "exception": false,
     "start_time": "2022-06-11T01:44:47.960822",
     "status": "completed"
    },
    "tags": []
   },
   "outputs": [],
   "source": [
    "newdata=pd.read_csv(\"../input/oathss/oaths.csv\")"
   ]
  },
  {
   "cell_type": "code",
   "execution_count": 3,
   "id": "ffd18250",
   "metadata": {
    "execution": {
     "iopub.execute_input": "2022-06-11T01:44:48.099769Z",
     "iopub.status.busy": "2022-06-11T01:44:48.099115Z",
     "iopub.status.idle": "2022-06-11T01:44:48.110052Z",
     "shell.execute_reply": "2022-06-11T01:44:48.109319Z"
    },
    "papermill": {
     "duration": 0.027575,
     "end_time": "2022-06-11T01:44:48.111861",
     "exception": false,
     "start_time": "2022-06-11T01:44:48.084286",
     "status": "completed"
    },
    "tags": []
   },
   "outputs": [
    {
     "data": {
      "text/plain": [
       "'[M177 ENCL]\\r\\n[[pre-printed]] I, [[handwritten]] I C Meekins [[/handwritten]], of [[handwritten]] Currituck [[/handwritten]] County, State of North Carolina, do solemnly swear or affirm, in presence of Almighty God, that I will henceforth faithfully support, protect and defend the Constitution of the United States and the Union of the States thereunder; and that I will, in like manner, abide by and faithfully support all laws and proclamations which have been made during the existing rebellion with reference to the emancipation of slaves.  So help me God. \\r\\n\\r\\n[[handwritten]] Isaac C. Meekins [[/handwritten]]\\r\\n\\r\\nSworn and subscribed to this the [[handwritten]] 16 [[/handwritten]] day of [[handwritten]] Sept [[/handwritten]] A.D., 1865, before \\r\\n[[handwritten]] E H Walker [[/handwritten]], J.P.\\r\\nIt is hereby certified that the above is a true copy of the original oath taken and subscribed by [[handwritten]] I C Meekins\\r\\nE H Walker, J.P.\\r\\nJohn B Etheridge, J.P.\\r\\n[[\\\\handwritten]] [[/pre-printed]]'"
      ]
     },
     "execution_count": 3,
     "metadata": {},
     "output_type": "execute_result"
    }
   ],
   "source": [
    "newdata[\"transcription_text\"][0]"
   ]
  },
  {
   "cell_type": "code",
   "execution_count": 4,
   "id": "682a910f",
   "metadata": {
    "execution": {
     "iopub.execute_input": "2022-06-11T01:44:48.142631Z",
     "iopub.status.busy": "2022-06-11T01:44:48.142022Z",
     "iopub.status.idle": "2022-06-11T01:44:48.146891Z",
     "shell.execute_reply": "2022-06-11T01:44:48.146191Z"
    },
    "papermill": {
     "duration": 0.021422,
     "end_time": "2022-06-11T01:44:48.148621",
     "exception": false,
     "start_time": "2022-06-11T01:44:48.127199",
     "status": "completed"
    },
    "tags": []
   },
   "outputs": [
    {
     "data": {
      "text/plain": [
       "' I, T A Dough, of Currituck County, State of North-Carolina, do solemnly swear or affirm, in presence of Almighty God, that I will henceforth faithfully support, protect and defend the Constitution of the United States and the Union of the States thereunder; and that I will, in like manner, abide by and faithfully support all laws and proclamations which have been made during the existing rebellion with reference to the emancipation of slaves. So help me God. \\r\\nThos A Dough\\r\\n\\r\\nSworn and subscribed to this the 16 day of Sept, \\r\\nA.D., 1865, before \\r\\nJohn B Etheridge, J. P.\\r\\n\\r\\nIt is hereby certified that the above is a true copy of the original oath taken and subscribed by T A Dough\\r\\nJohn B Etheridge, J. P.\\r\\nE H Walker, J. P.\\r\\n[[blank line]], J. P.\\r\\n'"
      ]
     },
     "execution_count": 4,
     "metadata": {},
     "output_type": "execute_result"
    }
   ],
   "source": [
    "newdata[\"transcription_text\"][9]"
   ]
  },
  {
   "cell_type": "code",
   "execution_count": 5,
   "id": "8d37a5ef",
   "metadata": {
    "execution": {
     "iopub.execute_input": "2022-06-11T01:44:48.177986Z",
     "iopub.status.busy": "2022-06-11T01:44:48.177591Z",
     "iopub.status.idle": "2022-06-11T01:44:48.182388Z",
     "shell.execute_reply": "2022-06-11T01:44:48.181719Z"
    },
    "papermill": {
     "duration": 0.021352,
     "end_time": "2022-06-11T01:44:48.184072",
     "exception": false,
     "start_time": "2022-06-11T01:44:48.162720",
     "status": "completed"
    },
    "tags": []
   },
   "outputs": [
    {
     "data": {
      "text/plain": [
       "'[[preprinted]]\\r\\nState of North Carolina, }\\r\\n^[[Randolph]] County. }\\r\\n\\r\\nI, ^[[W R Frazier]], do solemnly swear that I have never voluntarily borne arms against the United States since I have been a citizen thereof; that I have voluntarily given no aid, countenance, counsel, or encouragement to persons engaged in armed hostility thereto; that I have neither sought nor accepted, nor attempted to exercise the functions of any office whatever under any authority, or pretended authority, in hostility to the United States; that I have not yielded a voluntary support to any pretended government, authority, power or constitution within the United States, hostile or inimical thereto. And I do further swear, that, to the best of my knowledge and ability, I will support and defend the Constitution of the United States against all enemies, foreign and domestic; that I will bear true faith and allegiance to the same; that I take this obligation freely, without any mental reservation or purpose of evasion; and that I will well and faithfully discharge the duties of the office on which I am about to enter, so help me God.\\r\\n\\r\\n[[signature]] W R Frazer[[/signature]]\\r\\nSworn and subscribed before me, this ^[[6th]] day of ^[[Septr]], 1866.\\r\\n[[/preprinted]]\\r\\n[[signature]] W M Wilson [[/signature]] JP \\r\\n'"
      ]
     },
     "execution_count": 5,
     "metadata": {},
     "output_type": "execute_result"
    }
   ],
   "source": [
    "newdata[\"transcription_text\"][100]"
   ]
  },
  {
   "cell_type": "code",
   "execution_count": 6,
   "id": "24a8005c",
   "metadata": {
    "execution": {
     "iopub.execute_input": "2022-06-11T01:44:48.213458Z",
     "iopub.status.busy": "2022-06-11T01:44:48.212927Z",
     "iopub.status.idle": "2022-06-11T01:44:48.217699Z",
     "shell.execute_reply": "2022-06-11T01:44:48.217016Z"
    },
    "papermill": {
     "duration": 0.021227,
     "end_time": "2022-06-11T01:44:48.219445",
     "exception": false,
     "start_time": "2022-06-11T01:44:48.198218",
     "status": "completed"
    },
    "tags": []
   },
   "outputs": [
    {
     "data": {
      "text/plain": [
       "'I J A Sanders solemnly Swear that I have carefully read the Amnesty Proclamation issued by ANDREW JOHNSON, President of the United States of America, on May 29th, 1865, and that I am not excepted from the benefits of that Proclamation by any one of the fourteen exceptions therein made, [[strikethrough]] except [[/strikethrough]]\\r\\nLaura Sanders\\r\\n\\r\\nSworn to and subscribed before me at Charleston SC this 7th day of Oct 1865.\\r\\nJ Milton Thompson\\r\\nCapt 33 U.S.C.T. & Pro. Marshal\\r\\n\\r\\n[[left margin]] Copy  J Milton Thompson capt 33 USCT & Pro Marshal City of Charleston [[/left margin]]\\r\\n\\r\\nNo. 1619\\r\\nUnited States of America.\\r\\n\\r\\nI J A L. Sanders of the County of Charleston State of South Ca do solemnly Swear in the presence of Almighty God, that I will henceforth faithfully support and defend the Constitution of the United States, and the Union of the States thereunder, and that I will, in like manner, abide by and faithfully support all laws and proclamations which have been made during the existing rebellion with reference to the Emancipation of Slaves-SO HELP ME GOD.\\r\\nJ. A: Sanders\\r\\n\\r\\nSworn to and subscribed before me at Charleston SC this 7th day of Oct 1865.\\r\\nJ Milton Thompson\\r\\nCapt 33 U.S.C.T. & PM\\r\\n\\r\\nThe above has Dr complexion, Gry hair, and light eyes; is 5 feet 9 inches high, and 55 years; by profession a Merchant\\r\\n\\r\\n(The original oaths will be transmitted, by the officer administering them, to the Department of State, through intermediate channels, and a certified copy thereof will be furnished to the applicant for pardon, to accompany his petition.)'"
      ]
     },
     "execution_count": 6,
     "metadata": {},
     "output_type": "execute_result"
    }
   ],
   "source": [
    "newdata[\"transcription_text\"][1500]"
   ]
  },
  {
   "cell_type": "code",
   "execution_count": 7,
   "id": "df3705a0",
   "metadata": {
    "execution": {
     "iopub.execute_input": "2022-06-11T01:44:48.249309Z",
     "iopub.status.busy": "2022-06-11T01:44:48.248865Z",
     "iopub.status.idle": "2022-06-11T01:44:48.253616Z",
     "shell.execute_reply": "2022-06-11T01:44:48.252936Z"
    },
    "papermill": {
     "duration": 0.021487,
     "end_time": "2022-06-11T01:44:48.255386",
     "exception": false,
     "start_time": "2022-06-11T01:44:48.233899",
     "status": "completed"
    },
    "tags": []
   },
   "outputs": [
    {
     "data": {
      "text/plain": [
       "'United States OF AMERICA.\\r\\n[[image]] stamped eagle [[/image]]\\r\\nTEST OATH. \\r\\n\\r\\n\\r\\nI, J. B. Healy - do solemnly swear that I have never voluntarily borne arms against the United States since I have been a citizen thereof; that I have voluntarily given no aid, countenance, counsel, or encouragement to persons engaged in armed hostility thereto; that I have neither sought, nor accepted, nor attempted to exercise the functions of any office whatever, under any authority, or pretended authority, in hostility to the United States; that I have not yielded a voluntary support to any pretended government, authority, power, or constitution within the United States, hostile or inimical thereto.\\r\\nAnd I do further swear, or affirm, that, to the best of my knowledge and ability, I will support and defend the Constitution of the United States against all enemies, foreign and domestic; that I will bear true faith and allegiance to the same; that I take this obligation freely, without any mental reservation or purpose of evasion; and that I will well and faithfully discharge the duties of the office on which I am about to enter : So help me God.\\r\\nJ.B.Healy\\r\\n\\r\\nSWORN TO AND SUBSCRIBED before me, at Columbus Ga\\r\\nthis 24th day of July 1867\\r\\nWm Mills\\r\\nCapt 15th U.S. Inft\\r\\nComdg Post of Columbus.\\r\\n\\r\\n(Required by Act of Congress as a preliminary to holding office under the United States.)'"
      ]
     },
     "execution_count": 7,
     "metadata": {},
     "output_type": "execute_result"
    }
   ],
   "source": [
    "newdata[\"transcription_text\"][1980]"
   ]
  },
  {
   "cell_type": "code",
   "execution_count": 8,
   "id": "3492c881",
   "metadata": {
    "execution": {
     "iopub.execute_input": "2022-06-11T01:44:48.285436Z",
     "iopub.status.busy": "2022-06-11T01:44:48.284768Z",
     "iopub.status.idle": "2022-06-11T01:44:48.290114Z",
     "shell.execute_reply": "2022-06-11T01:44:48.289328Z"
    },
    "papermill": {
     "duration": 0.022175,
     "end_time": "2022-06-11T01:44:48.291772",
     "exception": false,
     "start_time": "2022-06-11T01:44:48.269597",
     "status": "completed"
    },
    "tags": []
   },
   "outputs": [
    {
     "data": {
      "text/plain": [
       "'Oath\\r\\nArington Dilworth\\r\\nGuilford Co No Ca\\r\\n\\r\\nAug 14, 66'"
      ]
     },
     "execution_count": 8,
     "metadata": {},
     "output_type": "execute_result"
    }
   ],
   "source": [
    "newdata[\"transcription_text\"][2100]"
   ]
  },
  {
   "cell_type": "markdown",
   "id": "b894041b",
   "metadata": {
    "papermill": {
     "duration": 0.014181,
     "end_time": "2022-06-11T01:44:48.320644",
     "exception": false,
     "start_time": "2022-06-11T01:44:48.306463",
     "status": "completed"
    },
    "tags": []
   },
   "source": [
    "# Preprocessing"
   ]
  },
  {
   "cell_type": "code",
   "execution_count": 9,
   "id": "badb9c1a",
   "metadata": {
    "execution": {
     "iopub.execute_input": "2022-06-11T01:44:48.351950Z",
     "iopub.status.busy": "2022-06-11T01:44:48.351316Z",
     "iopub.status.idle": "2022-06-11T01:44:48.354840Z",
     "shell.execute_reply": "2022-06-11T01:44:48.354106Z"
    },
    "papermill": {
     "duration": 0.021131,
     "end_time": "2022-06-11T01:44:48.356444",
     "exception": false,
     "start_time": "2022-06-11T01:44:48.335313",
     "status": "completed"
    },
    "tags": []
   },
   "outputs": [],
   "source": [
    "all_text=newdata[\"transcription_text\"]"
   ]
  },
  {
   "cell_type": "code",
   "execution_count": 10,
   "id": "5f65068e",
   "metadata": {
    "execution": {
     "iopub.execute_input": "2022-06-11T01:44:48.386948Z",
     "iopub.status.busy": "2022-06-11T01:44:48.386449Z",
     "iopub.status.idle": "2022-06-11T01:44:48.395980Z",
     "shell.execute_reply": "2022-06-11T01:44:48.395250Z"
    },
    "papermill": {
     "duration": 0.026312,
     "end_time": "2022-06-11T01:44:48.397647",
     "exception": false,
     "start_time": "2022-06-11T01:44:48.371335",
     "status": "completed"
    },
    "tags": []
   },
   "outputs": [],
   "source": [
    "stop_words = set(stopwords.words('english'))\n",
    "punctuation = string.punctuation\n",
    "stemmer = SnowballStemmer(language=\"english\")\n",
    "lemmatizer = WordNetLemmatizer()"
   ]
  },
  {
   "cell_type": "code",
   "execution_count": 11,
   "id": "019158d0",
   "metadata": {
    "execution": {
     "iopub.execute_input": "2022-06-11T01:44:48.428044Z",
     "iopub.status.busy": "2022-06-11T01:44:48.427372Z",
     "iopub.status.idle": "2022-06-11T01:44:48.432754Z",
     "shell.execute_reply": "2022-06-11T01:44:48.432009Z"
    },
    "papermill": {
     "duration": 0.022363,
     "end_time": "2022-06-11T01:44:48.434430",
     "exception": false,
     "start_time": "2022-06-11T01:44:48.412067",
     "status": "completed"
    },
    "tags": []
   },
   "outputs": [
    {
     "data": {
      "text/plain": [
       "'!\"#$%&\\'()*+,-./:;<=>?@[\\\\]^_`{|}~'"
      ]
     },
     "execution_count": 11,
     "metadata": {},
     "output_type": "execute_result"
    }
   ],
   "source": [
    "stop_words.remove(\"of\")\n",
    "punctuation"
   ]
  },
  {
   "cell_type": "markdown",
   "id": "f6226f64",
   "metadata": {
    "papermill": {
     "duration": 0.014277,
     "end_time": "2022-06-11T01:44:48.463171",
     "exception": false,
     "start_time": "2022-06-11T01:44:48.448894",
     "status": "completed"
    },
    "tags": []
   },
   "source": [
    "# delete just stop words and ('!\"#$%&\\'()*+-/<=>?@[\\\\]^`{|}~')"
   ]
  },
  {
   "cell_type": "code",
   "execution_count": 12,
   "id": "86970410",
   "metadata": {
    "execution": {
     "iopub.execute_input": "2022-06-11T01:44:48.493902Z",
     "iopub.status.busy": "2022-06-11T01:44:48.493233Z",
     "iopub.status.idle": "2022-06-11T01:44:48.497370Z",
     "shell.execute_reply": "2022-06-11T01:44:48.496701Z"
    },
    "papermill": {
     "duration": 0.021121,
     "end_time": "2022-06-11T01:44:48.499029",
     "exception": false,
     "start_time": "2022-06-11T01:44:48.477908",
     "status": "completed"
    },
    "tags": []
   },
   "outputs": [],
   "source": [
    "punct='!\"#$%&\\'()*+-/<=>?@[\\\\]^`{|}~'"
   ]
  },
  {
   "cell_type": "code",
   "execution_count": 13,
   "id": "0591b16c",
   "metadata": {
    "execution": {
     "iopub.execute_input": "2022-06-11T01:44:48.529377Z",
     "iopub.status.busy": "2022-06-11T01:44:48.528842Z",
     "iopub.status.idle": "2022-06-11T01:44:48.533822Z",
     "shell.execute_reply": "2022-06-11T01:44:48.533076Z"
    },
    "papermill": {
     "duration": 0.021732,
     "end_time": "2022-06-11T01:44:48.535489",
     "exception": false,
     "start_time": "2022-06-11T01:44:48.513757",
     "status": "completed"
    },
    "tags": []
   },
   "outputs": [],
   "source": [
    "def process(s):\n",
    "    s= re.sub(\"([\\(\\[]).*?([\\)\\]])\",\" \",s)\n",
    "    for p in punct:\n",
    "        s = s.replace(p, '')\n",
    "    s = word_tokenize(s)\n",
    "    s = [w for w in s if not w in stop_words] #optional\n",
    "    s = [lemmatizer.lemmatize(word) for word in s]\n",
    "    return s"
   ]
  },
  {
   "cell_type": "code",
   "execution_count": 14,
   "id": "b4a706c1",
   "metadata": {
    "execution": {
     "iopub.execute_input": "2022-06-11T01:44:48.565926Z",
     "iopub.status.busy": "2022-06-11T01:44:48.565429Z",
     "iopub.status.idle": "2022-06-11T01:44:56.638532Z",
     "shell.execute_reply": "2022-06-11T01:44:56.637715Z"
    },
    "papermill": {
     "duration": 8.090657,
     "end_time": "2022-06-11T01:44:56.640721",
     "exception": false,
     "start_time": "2022-06-11T01:44:48.550064",
     "status": "completed"
    },
    "tags": []
   },
   "outputs": [
    {
     "name": "stderr",
     "output_type": "stream",
     "text": [
      "100%|██████████| 2136/2136 [00:08<00:00, 264.93it/s]\n"
     ]
    }
   ],
   "source": [
    "for i in tqdm(range(newdata.shape[0])):\n",
    "    all_text[i] = process(all_text[i])"
   ]
  },
  {
   "cell_type": "code",
   "execution_count": 15,
   "id": "bf28a6f1",
   "metadata": {
    "execution": {
     "iopub.execute_input": "2022-06-11T01:44:56.680419Z",
     "iopub.status.busy": "2022-06-11T01:44:56.679782Z",
     "iopub.status.idle": "2022-06-11T01:44:57.382378Z",
     "shell.execute_reply": "2022-06-11T01:44:57.381458Z"
    },
    "papermill": {
     "duration": 0.724602,
     "end_time": "2022-06-11T01:44:57.384684",
     "exception": false,
     "start_time": "2022-06-11T01:44:56.660082",
     "status": "completed"
    },
    "tags": []
   },
   "outputs": [
    {
     "name": "stderr",
     "output_type": "stream",
     "text": [
      "100%|██████████| 2136/2136 [00:00<00:00, 3078.32it/s]\n"
     ]
    }
   ],
   "source": [
    "for i in tqdm(range(newdata.shape[0])):\n",
    "    all_text[i] = \" \".join(all_text[i])"
   ]
  },
  {
   "cell_type": "code",
   "execution_count": 16,
   "id": "1f0b05c7",
   "metadata": {
    "execution": {
     "iopub.execute_input": "2022-06-11T01:44:57.424291Z",
     "iopub.status.busy": "2022-06-11T01:44:57.423613Z",
     "iopub.status.idle": "2022-06-11T01:44:57.430442Z",
     "shell.execute_reply": "2022-06-11T01:44:57.429724Z"
    },
    "papermill": {
     "duration": 0.02776,
     "end_time": "2022-06-11T01:44:57.432107",
     "exception": false,
     "start_time": "2022-06-11T01:44:57.404347",
     "status": "completed"
    },
    "tags": []
   },
   "outputs": [
    {
     "data": {
      "text/plain": [
       "0       I , I C Meekins , of Currituck County , State ...\n",
       "1       Department of Virginia North Carolina , 1864. ...\n",
       "2       I , W. H. Pearce , of Craven County , State of...\n",
       "3       State of North Carolina , ________ County . I ...\n",
       "4       State of North Carolina , Wake County . I , S....\n",
       "                              ...                        \n",
       "2131    Office Provost Marshal Raleigh , N.C. May 26 6...\n",
       "2132    July 30th 1867 Birnie Wm Agent Bu R F A L Oath...\n",
       "2133    State of North Carolina , Robeson County . I ,...\n",
       "2134    NARA 449 102 We whose name written well person...\n",
       "2135    NARA 450 404 Office Provost Marshall City of W...\n",
       "Name: transcription_text, Length: 2136, dtype: object"
      ]
     },
     "execution_count": 16,
     "metadata": {},
     "output_type": "execute_result"
    }
   ],
   "source": [
    "all_text"
   ]
  },
  {
   "cell_type": "code",
   "execution_count": null,
   "id": "1a05762c",
   "metadata": {
    "papermill": {
     "duration": 0.018454,
     "end_time": "2022-06-11T01:44:57.470079",
     "exception": false,
     "start_time": "2022-06-11T01:44:57.451625",
     "status": "completed"
    },
    "tags": []
   },
   "outputs": [],
   "source": []
  },
  {
   "cell_type": "markdown",
   "id": "4a782429",
   "metadata": {
    "papermill": {
     "duration": 0.018938,
     "end_time": "2022-06-11T01:44:57.507908",
     "exception": false,
     "start_time": "2022-06-11T01:44:57.488970",
     "status": "completed"
    },
    "tags": []
   },
   "source": [
    "# Flair"
   ]
  },
  {
   "cell_type": "code",
   "execution_count": 17,
   "id": "1add558f",
   "metadata": {
    "execution": {
     "iopub.execute_input": "2022-06-11T01:44:57.546238Z",
     "iopub.status.busy": "2022-06-11T01:44:57.545966Z",
     "iopub.status.idle": "2022-06-11T01:45:58.221326Z",
     "shell.execute_reply": "2022-06-11T01:45:58.220203Z"
    },
    "papermill": {
     "duration": 60.697541,
     "end_time": "2022-06-11T01:45:58.224043",
     "exception": false,
     "start_time": "2022-06-11T01:44:57.526502",
     "status": "completed"
    },
    "tags": []
   },
   "outputs": [
    {
     "name": "stdout",
     "output_type": "stream",
     "text": [
      "Requirement already satisfied: Cython in /opt/conda/lib/python3.7/site-packages (0.29.30)\r\n",
      "\u001b[33mWARNING: Running pip as the 'root' user can result in broken permissions and conflicting behaviour with the system package manager. It is recommended to use a virtual environment instead: https://pip.pypa.io/warnings/venv\u001b[0m\u001b[33m\r\n",
      "\u001b[0mRequirement already satisfied: transformers in /opt/conda/lib/python3.7/site-packages (4.18.0)\r\n",
      "Requirement already satisfied: tokenizers!=0.11.3,<0.13,>=0.11.1 in /opt/conda/lib/python3.7/site-packages (from transformers) (0.12.1)\r\n",
      "Requirement already satisfied: packaging>=20.0 in /opt/conda/lib/python3.7/site-packages (from transformers) (21.3)\r\n",
      "Requirement already satisfied: sacremoses in /opt/conda/lib/python3.7/site-packages (from transformers) (0.0.53)\r\n",
      "Requirement already satisfied: huggingface-hub<1.0,>=0.1.0 in /opt/conda/lib/python3.7/site-packages (from transformers) (0.5.1)\r\n",
      "Requirement already satisfied: tqdm>=4.27 in /opt/conda/lib/python3.7/site-packages (from transformers) (4.64.0)\r\n",
      "Requirement already satisfied: requests in /opt/conda/lib/python3.7/site-packages (from transformers) (2.27.1)\r\n",
      "Requirement already satisfied: pyyaml>=5.1 in /opt/conda/lib/python3.7/site-packages (from transformers) (6.0)\r\n",
      "Requirement already satisfied: importlib-metadata in /opt/conda/lib/python3.7/site-packages (from transformers) (4.11.4)\r\n",
      "Requirement already satisfied: numpy>=1.17 in /opt/conda/lib/python3.7/site-packages (from transformers) (1.21.6)\r\n",
      "Requirement already satisfied: regex!=2019.12.17 in /opt/conda/lib/python3.7/site-packages (from transformers) (2021.11.10)\r\n",
      "Requirement already satisfied: filelock in /opt/conda/lib/python3.7/site-packages (from transformers) (3.6.0)\r\n",
      "Requirement already satisfied: typing-extensions>=3.7.4.3 in /opt/conda/lib/python3.7/site-packages (from huggingface-hub<1.0,>=0.1.0->transformers) (4.2.0)\r\n",
      "Requirement already satisfied: pyparsing!=3.0.5,>=2.0.2 in /opt/conda/lib/python3.7/site-packages (from packaging>=20.0->transformers) (3.0.9)\r\n",
      "Requirement already satisfied: zipp>=0.5 in /opt/conda/lib/python3.7/site-packages (from importlib-metadata->transformers) (3.8.0)\r\n",
      "Requirement already satisfied: idna<4,>=2.5 in /opt/conda/lib/python3.7/site-packages (from requests->transformers) (3.3)\r\n",
      "Requirement already satisfied: certifi>=2017.4.17 in /opt/conda/lib/python3.7/site-packages (from requests->transformers) (2022.5.18.1)\r\n",
      "Requirement already satisfied: charset-normalizer~=2.0.0 in /opt/conda/lib/python3.7/site-packages (from requests->transformers) (2.0.12)\r\n",
      "Requirement already satisfied: urllib3<1.27,>=1.21.1 in /opt/conda/lib/python3.7/site-packages (from requests->transformers) (1.26.9)\r\n",
      "Requirement already satisfied: six in /opt/conda/lib/python3.7/site-packages (from sacremoses->transformers) (1.16.0)\r\n",
      "Requirement already satisfied: joblib in /opt/conda/lib/python3.7/site-packages (from sacremoses->transformers) (1.1.0)\r\n",
      "Requirement already satisfied: click in /opt/conda/lib/python3.7/site-packages (from sacremoses->transformers) (8.0.4)\r\n",
      "\u001b[33mWARNING: Running pip as the 'root' user can result in broken permissions and conflicting behaviour with the system package manager. It is recommended to use a virtual environment instead: https://pip.pypa.io/warnings/venv\u001b[0m\u001b[33m\r\n",
      "\u001b[0mCollecting flair\r\n",
      "  Downloading flair-0.11.3-py3-none-any.whl (401 kB)\r\n",
      "\u001b[2K     \u001b[90m━━━━━━━━━━━━━━━━━━━━━━━━━━━━━━━━━━━━━━━\u001b[0m \u001b[32m401.9/401.9 kB\u001b[0m \u001b[31m1.7 MB/s\u001b[0m eta \u001b[36m0:00:00\u001b[0m\r\n",
      "\u001b[?25hRequirement already satisfied: hyperopt>=0.2.7 in /opt/conda/lib/python3.7/site-packages (from flair) (0.2.7)\r\n",
      "Collecting mpld3==0.3\r\n",
      "  Downloading mpld3-0.3.tar.gz (788 kB)\r\n",
      "\u001b[2K     \u001b[90m━━━━━━━━━━━━━━━━━━━━━━━━━━━━━━━━━━━━━━━\u001b[0m \u001b[32m788.5/788.5 kB\u001b[0m \u001b[31m8.4 MB/s\u001b[0m eta \u001b[36m0:00:00\u001b[0m\r\n",
      "\u001b[?25h  Preparing metadata (setup.py) ... \u001b[?25l-\b \bdone\r\n",
      "\u001b[?25hRequirement already satisfied: torch!=1.8,>=1.5.0 in /opt/conda/lib/python3.7/site-packages (from flair) (1.11.0)\r\n",
      "Collecting wikipedia-api\r\n",
      "  Downloading Wikipedia-API-0.5.4.tar.gz (18 kB)\r\n",
      "  Preparing metadata (setup.py) ... \u001b[?25l-\b \bdone\r\n",
      "\u001b[?25hCollecting segtok>=1.5.7\r\n",
      "  Downloading segtok-1.5.11-py3-none-any.whl (24 kB)\r\n",
      "Collecting langdetect\r\n",
      "  Downloading langdetect-1.0.9.tar.gz (981 kB)\r\n",
      "\u001b[2K     \u001b[90m━━━━━━━━━━━━━━━━━━━━━━━━━━━━━━━━━━━━━━\u001b[0m \u001b[32m981.5/981.5 kB\u001b[0m \u001b[31m21.2 MB/s\u001b[0m eta \u001b[36m0:00:00\u001b[0m\r\n",
      "\u001b[?25h  Preparing metadata (setup.py) ... \u001b[?25l-\b \bdone\r\n",
      "\u001b[?25hCollecting conllu>=4.0\r\n",
      "  Downloading conllu-4.4.2-py2.py3-none-any.whl (15 kB)\r\n",
      "Requirement already satisfied: matplotlib>=2.2.3 in /opt/conda/lib/python3.7/site-packages (from flair) (3.5.2)\r\n",
      "Collecting konoha<5.0.0,>=4.0.0\r\n",
      "  Downloading konoha-4.6.5-py3-none-any.whl (20 kB)\r\n",
      "Requirement already satisfied: gensim>=3.4.0 in /opt/conda/lib/python3.7/site-packages (from flair) (4.0.1)\r\n",
      "Requirement already satisfied: janome in /opt/conda/lib/python3.7/site-packages (from flair) (0.4.2)\r\n",
      "Requirement already satisfied: transformers>=4.0.0 in /opt/conda/lib/python3.7/site-packages (from flair) (4.18.0)\r\n",
      "Requirement already satisfied: tqdm>=4.26.0 in /opt/conda/lib/python3.7/site-packages (from flair) (4.64.0)\r\n",
      "Requirement already satisfied: regex in /opt/conda/lib/python3.7/site-packages (from flair) (2021.11.10)\r\n",
      "Collecting ftfy\r\n",
      "  Downloading ftfy-6.1.1-py3-none-any.whl (53 kB)\r\n",
      "\u001b[2K     \u001b[90m━━━━━━━━━━━━━━━━━━━━━━━━━━━━━━━━━━━━━━━━\u001b[0m \u001b[32m53.1/53.1 kB\u001b[0m \u001b[31m4.4 MB/s\u001b[0m eta \u001b[36m0:00:00\u001b[0m\r\n",
      "\u001b[?25hRequirement already satisfied: lxml in /opt/conda/lib/python3.7/site-packages (from flair) (4.8.0)\r\n",
      "Collecting pptree\r\n",
      "  Downloading pptree-3.1.tar.gz (3.0 kB)\r\n",
      "  Preparing metadata (setup.py) ... \u001b[?25l-\b \bdone\r\n",
      "\u001b[?25hCollecting sqlitedict>=1.6.0\r\n",
      "  Downloading sqlitedict-2.0.0.tar.gz (46 kB)\r\n",
      "\u001b[2K     \u001b[90m━━━━━━━━━━━━━━━━━━━━━━━━━━━━━━━━━━━━━━━━\u001b[0m \u001b[32m46.3/46.3 kB\u001b[0m \u001b[31m4.3 MB/s\u001b[0m eta \u001b[36m0:00:00\u001b[0m\r\n",
      "\u001b[?25h  Preparing metadata (setup.py) ... \u001b[?25l-\b \bdone\r\n",
      "\u001b[?25hCollecting deprecated>=1.2.4\r\n",
      "  Downloading Deprecated-1.2.13-py2.py3-none-any.whl (9.6 kB)\r\n",
      "Requirement already satisfied: scikit-learn>=0.21.3 in /opt/conda/lib/python3.7/site-packages (from flair) (1.0.2)\r\n",
      "Collecting bpemb>=0.3.2\r\n",
      "  Downloading bpemb-0.3.3-py3-none-any.whl (19 kB)\r\n",
      "Collecting sentencepiece==0.1.95\r\n",
      "  Downloading sentencepiece-0.1.95-cp37-cp37m-manylinux2014_x86_64.whl (1.2 MB)\r\n",
      "\u001b[2K     \u001b[90m━━━━━━━━━━━━━━━━━━━━━━━━━━━━━━━━━━━━━━━━\u001b[0m \u001b[32m1.2/1.2 MB\u001b[0m \u001b[31m37.3 MB/s\u001b[0m eta \u001b[36m0:00:00\u001b[0m\r\n",
      "\u001b[?25hRequirement already satisfied: python-dateutil>=2.6.1 in /opt/conda/lib/python3.7/site-packages (from flair) (2.8.2)\r\n",
      "Requirement already satisfied: more-itertools in /opt/conda/lib/python3.7/site-packages (from flair) (8.13.0)\r\n",
      "Requirement already satisfied: tabulate in /opt/conda/lib/python3.7/site-packages (from flair) (0.8.9)\r\n",
      "Requirement already satisfied: huggingface-hub in /opt/conda/lib/python3.7/site-packages (from flair) (0.5.1)\r\n",
      "Collecting gdown==4.4.0\r\n",
      "  Downloading gdown-4.4.0.tar.gz (14 kB)\r\n",
      "  Installing build dependencies ... \u001b[?25l-\b \b\\\b \b|\b \b/\b \b-\b \b\\\b \bdone\r\n",
      "\u001b[?25h  Getting requirements to build wheel ... \u001b[?25l-\b \b\\\b \b|\b \b/\b \b-\b \bdone\r\n",
      "\u001b[?25h  Preparing metadata (pyproject.toml) ... \u001b[?25l-\b \b\\\b \b|\b \b/\b \b-\b \bdone\r\n",
      "\u001b[?25hRequirement already satisfied: requests[socks] in /opt/conda/lib/python3.7/site-packages (from gdown==4.4.0->flair) (2.27.1)\r\n",
      "Requirement already satisfied: six in /opt/conda/lib/python3.7/site-packages (from gdown==4.4.0->flair) (1.16.0)\r\n",
      "Requirement already satisfied: filelock in /opt/conda/lib/python3.7/site-packages (from gdown==4.4.0->flair) (3.6.0)\r\n",
      "Requirement already satisfied: beautifulsoup4 in /opt/conda/lib/python3.7/site-packages (from gdown==4.4.0->flair) (4.11.1)\r\n",
      "Requirement already satisfied: numpy in /opt/conda/lib/python3.7/site-packages (from bpemb>=0.3.2->flair) (1.21.6)\r\n",
      "Requirement already satisfied: wrapt<2,>=1.10 in /opt/conda/lib/python3.7/site-packages (from deprecated>=1.2.4->flair) (1.14.1)\r\n",
      "Requirement already satisfied: smart-open>=1.8.1 in /opt/conda/lib/python3.7/site-packages (from gensim>=3.4.0->flair) (5.2.1)\r\n",
      "Requirement already satisfied: scipy>=0.18.1 in /opt/conda/lib/python3.7/site-packages (from gensim>=3.4.0->flair) (1.7.3)\r\n",
      "Requirement already satisfied: cloudpickle in /opt/conda/lib/python3.7/site-packages (from hyperopt>=0.2.7->flair) (2.0.0)\r\n",
      "Requirement already satisfied: future in /opt/conda/lib/python3.7/site-packages (from hyperopt>=0.2.7->flair) (0.18.2)\r\n",
      "Requirement already satisfied: networkx>=2.2 in /opt/conda/lib/python3.7/site-packages (from hyperopt>=0.2.7->flair) (2.5)\r\n",
      "Requirement already satisfied: py4j in /opt/conda/lib/python3.7/site-packages (from hyperopt>=0.2.7->flair) (0.10.9.5)\r\n",
      "Collecting overrides<4.0.0,>=3.0.0\r\n",
      "  Downloading overrides-3.1.0.tar.gz (11 kB)\r\n",
      "  Preparing metadata (setup.py) ... \u001b[?25l-\b \bdone\r\n",
      "\u001b[?25hCollecting importlib-metadata<4.0.0,>=3.7.0\r\n",
      "  Downloading importlib_metadata-3.10.1-py3-none-any.whl (14 kB)\r\n",
      "Requirement already satisfied: packaging>=20.0 in /opt/conda/lib/python3.7/site-packages (from matplotlib>=2.2.3->flair) (21.3)\r\n",
      "Requirement already satisfied: fonttools>=4.22.0 in /opt/conda/lib/python3.7/site-packages (from matplotlib>=2.2.3->flair) (4.33.3)\r\n",
      "Requirement already satisfied: kiwisolver>=1.0.1 in /opt/conda/lib/python3.7/site-packages (from matplotlib>=2.2.3->flair) (1.4.2)\r\n",
      "Requirement already satisfied: cycler>=0.10 in /opt/conda/lib/python3.7/site-packages (from matplotlib>=2.2.3->flair) (0.11.0)\r\n",
      "Requirement already satisfied: pyparsing>=2.2.1 in /opt/conda/lib/python3.7/site-packages (from matplotlib>=2.2.3->flair) (3.0.9)\r\n",
      "Requirement already satisfied: pillow>=6.2.0 in /opt/conda/lib/python3.7/site-packages (from matplotlib>=2.2.3->flair) (9.1.0)\r\n",
      "Requirement already satisfied: threadpoolctl>=2.0.0 in /opt/conda/lib/python3.7/site-packages (from scikit-learn>=0.21.3->flair) (3.1.0)\r\n",
      "Requirement already satisfied: joblib>=0.11 in /opt/conda/lib/python3.7/site-packages (from scikit-learn>=0.21.3->flair) (1.1.0)\r\n",
      "Requirement already satisfied: typing-extensions in /opt/conda/lib/python3.7/site-packages (from torch!=1.8,>=1.5.0->flair) (4.2.0)\r\n",
      "Requirement already satisfied: sacremoses in /opt/conda/lib/python3.7/site-packages (from transformers>=4.0.0->flair) (0.0.53)\r\n",
      "Requirement already satisfied: pyyaml>=5.1 in /opt/conda/lib/python3.7/site-packages (from transformers>=4.0.0->flair) (6.0)\r\n",
      "Requirement already satisfied: tokenizers!=0.11.3,<0.13,>=0.11.1 in /opt/conda/lib/python3.7/site-packages (from transformers>=4.0.0->flair) (0.12.1)\r\n",
      "Requirement already satisfied: wcwidth>=0.2.5 in /opt/conda/lib/python3.7/site-packages (from ftfy->flair) (0.2.5)\r\n",
      "Requirement already satisfied: zipp>=0.5 in /opt/conda/lib/python3.7/site-packages (from importlib-metadata<4.0.0,>=3.7.0->konoha<5.0.0,>=4.0.0->flair) (3.8.0)\r\n",
      "Requirement already satisfied: decorator>=4.3.0 in /opt/conda/lib/python3.7/site-packages (from networkx>=2.2->hyperopt>=0.2.7->flair) (5.1.1)\r\n",
      "Requirement already satisfied: urllib3<1.27,>=1.21.1 in /opt/conda/lib/python3.7/site-packages (from requests[socks]->gdown==4.4.0->flair) (1.26.9)\r\n",
      "Requirement already satisfied: certifi>=2017.4.17 in /opt/conda/lib/python3.7/site-packages (from requests[socks]->gdown==4.4.0->flair) (2022.5.18.1)\r\n",
      "Requirement already satisfied: charset-normalizer~=2.0.0 in /opt/conda/lib/python3.7/site-packages (from requests[socks]->gdown==4.4.0->flair) (2.0.12)\r\n",
      "Requirement already satisfied: idna<4,>=2.5 in /opt/conda/lib/python3.7/site-packages (from requests[socks]->gdown==4.4.0->flair) (3.3)\r\n",
      "Requirement already satisfied: soupsieve>1.2 in /opt/conda/lib/python3.7/site-packages (from beautifulsoup4->gdown==4.4.0->flair) (2.3.1)\r\n",
      "Requirement already satisfied: PySocks!=1.5.7,>=1.5.6 in /opt/conda/lib/python3.7/site-packages (from requests[socks]->gdown==4.4.0->flair) (1.7.1)\r\n",
      "Requirement already satisfied: click in /opt/conda/lib/python3.7/site-packages (from sacremoses->transformers>=4.0.0->flair) (8.0.4)\r\n",
      "Building wheels for collected packages: gdown, mpld3, sqlitedict, langdetect, pptree, wikipedia-api, overrides\r\n",
      "  Building wheel for gdown (pyproject.toml) ... \u001b[?25l-\b \b\\\b \b|\b \b/\b \b-\b \b\\\b \b|\b \bdone\r\n",
      "\u001b[?25h  Created wheel for gdown: filename=gdown-4.4.0-py3-none-any.whl size=14759 sha256=6f9be0c07e367c628eebab08e76df3e1b9a845948298dde3a40c67fc94ae5865\r\n",
      "  Stored in directory: /root/.cache/pip/wheels/fb/c3/0e/c4d8ff8bfcb0461afff199471449f642179b74968c15b7a69c\r\n",
      "  Building wheel for mpld3 (setup.py) ... \u001b[?25l-\b \b\\\b \bdone\r\n",
      "\u001b[?25h  Created wheel for mpld3: filename=mpld3-0.3-py3-none-any.whl size=116702 sha256=c85c19e400f7e71b3e0ac2e85939379e875e1de90052daf02105f2af36cc35ec\r\n",
      "  Stored in directory: /root/.cache/pip/wheels/26/70/6a/1c79e59951a41b4045497da187b2724f5659ca64033cf4548e\r\n",
      "  Building wheel for sqlitedict (setup.py) ... \u001b[?25l-\b \bdone\r\n",
      "\u001b[?25h  Created wheel for sqlitedict: filename=sqlitedict-2.0.0-py3-none-any.whl size=15736 sha256=46e0e5f2e514f50a6fd56049eb771459e54b32e1d6298046e892aff620cf433a\r\n",
      "  Stored in directory: /root/.cache/pip/wheels/96/dd/2e/0ed4a25cb73fc30c7ea8d10b50acb7226175736067e40a7ea3\r\n",
      "  Building wheel for langdetect (setup.py) ... \u001b[?25l-\b \b\\\b \b|\b \b/\b \bdone\r\n",
      "\u001b[?25h  Created wheel for langdetect: filename=langdetect-1.0.9-py3-none-any.whl size=993242 sha256=4db145089c1940e9e36c98bd4a213e4c9c6d7eab408e7c38ae3b4c811b7255ca\r\n",
      "  Stored in directory: /root/.cache/pip/wheels/c5/96/8a/f90c59ed25d75e50a8c10a1b1c2d4c402e4dacfa87f3aff36a\r\n",
      "  Building wheel for pptree (setup.py) ... \u001b[?25l-\b \bdone\r\n",
      "\u001b[?25h  Created wheel for pptree: filename=pptree-3.1-py3-none-any.whl size=4629 sha256=65ff8229b62775edbfafbc9e60d88e692c22efa5735ee1150812f2d6873740df\r\n",
      "  Stored in directory: /root/.cache/pip/wheels/9e/e8/7d/a9c3c19b4722608a0d8b05a38c36bc3f230c43becd2a46794b\r\n",
      "  Building wheel for wikipedia-api (setup.py) ... \u001b[?25l-\b \b\\\b \bdone\r\n",
      "\u001b[?25h  Created wheel for wikipedia-api: filename=Wikipedia_API-0.5.4-py3-none-any.whl size=13477 sha256=73cf43068ac6b2034dea9c295166cc1779d33c9354ae771c824dade0398c66d7\r\n",
      "  Stored in directory: /root/.cache/pip/wheels/d3/24/56/58ba93cf78be162451144e7a9889603f437976ef1ae7013d04\r\n",
      "  Building wheel for overrides (setup.py) ... \u001b[?25l-\b \bdone\r\n",
      "\u001b[?25h  Created wheel for overrides: filename=overrides-3.1.0-py3-none-any.whl size=10187 sha256=b5620814569e777dca384b451fccdcb6b64be3ae62c86e1a199deebca6c45c29\r\n",
      "  Stored in directory: /root/.cache/pip/wheels/3a/0d/38/01a9bc6e20dcfaf0a6a7b552d03137558ba1c38aea47644682\r\n",
      "Successfully built gdown mpld3 sqlitedict langdetect pptree wikipedia-api overrides\r\n",
      "Installing collected packages: sqlitedict, sentencepiece, pptree, overrides, mpld3, segtok, langdetect, importlib-metadata, ftfy, deprecated, conllu, wikipedia-api, konoha, gdown, bpemb, flair\r\n",
      "  Attempting uninstall: sentencepiece\r\n",
      "    Found existing installation: sentencepiece 0.1.96\r\n",
      "    Uninstalling sentencepiece-0.1.96:\r\n",
      "      Successfully uninstalled sentencepiece-0.1.96\r\n",
      "  Attempting uninstall: overrides\r\n",
      "    Found existing installation: overrides 6.1.0\r\n",
      "    Uninstalling overrides-6.1.0:\r\n",
      "      Successfully uninstalled overrides-6.1.0\r\n",
      "  Attempting uninstall: mpld3\r\n",
      "    Found existing installation: mpld3 0.5.7\r\n",
      "    Uninstalling mpld3-0.5.7:\r\n",
      "      Successfully uninstalled mpld3-0.5.7\r\n",
      "  Attempting uninstall: importlib-metadata\r\n",
      "    Found existing installation: importlib-metadata 4.11.4\r\n",
      "    Uninstalling importlib-metadata-4.11.4:\r\n",
      "      Successfully uninstalled importlib-metadata-4.11.4\r\n",
      "\u001b[31mERROR: pip's dependency resolver does not currently take into account all the packages that are installed. This behaviour is the source of the following dependency conflicts.\r\n",
      "markdown 3.3.7 requires importlib-metadata>=4.4; python_version < \"3.10\", but you have importlib-metadata 3.10.1 which is incompatible.\r\n",
      "ibis-framework 2.1.1 requires importlib-metadata<5,>=4; python_version < \"3.8\", but you have importlib-metadata 3.10.1 which is incompatible.\r\n",
      "gym 0.23.1 requires importlib-metadata>=4.10.0; python_version < \"3.10\", but you have importlib-metadata 3.10.1 which is incompatible.\r\n",
      "google-cloud-pubsublite 1.4.2 requires overrides<7.0.0,>=6.0.1, but you have overrides 3.1.0 which is incompatible.\u001b[0m\u001b[31m\r\n",
      "\u001b[0mSuccessfully installed bpemb-0.3.3 conllu-4.4.2 deprecated-1.2.13 flair-0.11.3 ftfy-6.1.1 gdown-4.4.0 importlib-metadata-3.10.1 konoha-4.6.5 langdetect-1.0.9 mpld3-0.3 overrides-3.1.0 pptree-3.1 segtok-1.5.11 sentencepiece-0.1.95 sqlitedict-2.0.0 wikipedia-api-0.5.4\r\n",
      "\u001b[33mWARNING: Running pip as the 'root' user can result in broken permissions and conflicting behaviour with the system package manager. It is recommended to use a virtual environment instead: https://pip.pypa.io/warnings/venv\u001b[0m\u001b[33m\r\n",
      "\u001b[0m"
     ]
    }
   ],
   "source": [
    "!pip3 install Cython\n",
    "!pip install transformers\n",
    "!pip install flair"
   ]
  },
  {
   "cell_type": "markdown",
   "id": "1e06e33c",
   "metadata": {
    "papermill": {
     "duration": 0.025858,
     "end_time": "2022-06-11T01:45:58.280604",
     "exception": false,
     "start_time": "2022-06-11T01:45:58.254746",
     "status": "completed"
    },
    "tags": []
   },
   "source": [
    "# Hugging face  : Flair"
   ]
  },
  {
   "cell_type": "markdown",
   "id": "c3055320",
   "metadata": {
    "papermill": {
     "duration": 0.026769,
     "end_time": "2022-06-11T01:45:58.335115",
     "exception": false,
     "start_time": "2022-06-11T01:45:58.308346",
     "status": "completed"
    },
    "tags": []
   },
   "source": [
    "**ner-english** "
   ]
  },
  {
   "cell_type": "code",
   "execution_count": 18,
   "id": "12cfb854",
   "metadata": {
    "execution": {
     "iopub.execute_input": "2022-06-11T01:45:58.390269Z",
     "iopub.status.busy": "2022-06-11T01:45:58.389903Z",
     "iopub.status.idle": "2022-06-11T01:46:00.546812Z",
     "shell.execute_reply": "2022-06-11T01:46:00.545802Z"
    },
    "papermill": {
     "duration": 2.187387,
     "end_time": "2022-06-11T01:46:00.549651",
     "exception": false,
     "start_time": "2022-06-11T01:45:58.362264",
     "status": "completed"
    },
    "tags": []
   },
   "outputs": [
    {
     "name": "stdout",
     "output_type": "stream",
     "text": [
      "git: 'lfs' is not a git command. See 'git --help'.\r\n",
      "\r\n",
      "The most similar command is\r\n",
      "\tlog\r\n",
      "Cloning into 'ner-english-large'...\r\n",
      "remote: Enumerating objects: 25, done.\u001b[K\r\n",
      "remote: Counting objects: 100% (25/25), done.\u001b[K\r\n",
      "remote: Compressing objects: 100% (24/24), done.\u001b[K\r\n",
      "remote: Total 25 (delta 10), reused 0 (delta 0), pack-reused 0\u001b[K\r\n",
      "Unpacking objects: 100% (25/25), 11.03 KiB | 868.00 KiB/s, done.\r\n"
     ]
    }
   ],
   "source": [
    "!git lfs install\n",
    "!git clone https://huggingface.co/flair/ner-english-large"
   ]
  },
  {
   "cell_type": "code",
   "execution_count": 19,
   "id": "badf3a5d",
   "metadata": {
    "execution": {
     "iopub.execute_input": "2022-06-11T01:46:00.617707Z",
     "iopub.status.busy": "2022-06-11T01:46:00.617351Z",
     "iopub.status.idle": "2022-06-11T01:48:09.176845Z",
     "shell.execute_reply": "2022-06-11T01:48:09.175911Z"
    },
    "papermill": {
     "duration": 128.589094,
     "end_time": "2022-06-11T01:48:09.179014",
     "exception": false,
     "start_time": "2022-06-11T01:46:00.589920",
     "status": "completed"
    },
    "tags": []
   },
   "outputs": [
    {
     "data": {
      "application/vnd.jupyter.widget-view+json": {
       "model_id": "bab24b286f7f4daf8cce6a2fe452ce67",
       "version_major": 2,
       "version_minor": 0
      },
      "text/plain": [
       "Downloading:   0%|          | 0.00/2.24G [00:00<?, ?B/s]"
      ]
     },
     "metadata": {},
     "output_type": "display_data"
    },
    {
     "name": "stdout",
     "output_type": "stream",
     "text": [
      "2022-06-11 01:47:42,649 loading file /root/.flair/models/ner-english-ontonotes-large/2da6c2cdd76e59113033adf670340bfd820f0301ae2e39204d67ba2dc276cc28.ec1bdb304b6c66111532c3b1fc6e522460ae73f1901848a4d0362cdf9760edb1\n"
     ]
    },
    {
     "data": {
      "application/vnd.jupyter.widget-view+json": {
       "model_id": "334712e4a9b143f9a6edab9e104b8704",
       "version_major": 2,
       "version_minor": 0
      },
      "text/plain": [
       "Downloading:   0%|          | 0.00/616 [00:00<?, ?B/s]"
      ]
     },
     "metadata": {},
     "output_type": "display_data"
    },
    {
     "data": {
      "application/vnd.jupyter.widget-view+json": {
       "model_id": "03b3196a48e34211a4ebc38a33f68de0",
       "version_major": 2,
       "version_minor": 0
      },
      "text/plain": [
       "Downloading:   0%|          | 0.00/4.83M [00:00<?, ?B/s]"
      ]
     },
     "metadata": {},
     "output_type": "display_data"
    },
    {
     "data": {
      "application/vnd.jupyter.widget-view+json": {
       "model_id": "66f309c623724740910759cfe8d1e801",
       "version_major": 2,
       "version_minor": 0
      },
      "text/plain": [
       "Downloading:   0%|          | 0.00/8.68M [00:00<?, ?B/s]"
      ]
     },
     "metadata": {},
     "output_type": "display_data"
    },
    {
     "name": "stdout",
     "output_type": "stream",
     "text": [
      "2022-06-11 01:48:08,545 SequenceTagger predicts: Dictionary with 76 tags: <unk>, O, B-CARDINAL, E-CARDINAL, S-PERSON, S-CARDINAL, S-PRODUCT, B-PRODUCT, I-PRODUCT, E-PRODUCT, B-WORK_OF_ART, I-WORK_OF_ART, E-WORK_OF_ART, B-PERSON, E-PERSON, S-GPE, B-DATE, I-DATE, E-DATE, S-ORDINAL, S-LANGUAGE, I-PERSON, S-EVENT, S-DATE, B-QUANTITY, E-QUANTITY, S-TIME, B-TIME, I-TIME, E-TIME, B-GPE, E-GPE, S-ORG, I-GPE, S-NORP, B-FAC, I-FAC, E-FAC, B-NORP, E-NORP, S-PERCENT, B-ORG, E-ORG, B-LANGUAGE, E-LANGUAGE, I-CARDINAL, I-ORG, S-WORK_OF_ART, I-QUANTITY, B-MONEY\n"
     ]
    }
   ],
   "source": [
    "from flair.models import SequenceTagger\n",
    "\n",
    "tagger = SequenceTagger.load(\"flair/ner-english-ontonotes-large\")"
   ]
  },
  {
   "cell_type": "code",
   "execution_count": 20,
   "id": "33fc722f",
   "metadata": {
    "execution": {
     "iopub.execute_input": "2022-06-11T01:48:09.234849Z",
     "iopub.status.busy": "2022-06-11T01:48:09.234528Z",
     "iopub.status.idle": "2022-06-11T01:50:06.577820Z",
     "shell.execute_reply": "2022-06-11T01:50:06.576982Z"
    },
    "papermill": {
     "duration": 117.373402,
     "end_time": "2022-06-11T01:50:06.579959",
     "exception": false,
     "start_time": "2022-06-11T01:48:09.206557",
     "status": "completed"
    },
    "tags": []
   },
   "outputs": [
    {
     "data": {
      "application/vnd.jupyter.widget-view+json": {
       "model_id": "629ab6e109c24c9f9ba57f56c274e428",
       "version_major": 2,
       "version_minor": 0
      },
      "text/plain": [
       "Downloading:   0%|          | 0.00/2.24G [00:00<?, ?B/s]"
      ]
     },
     "metadata": {},
     "output_type": "display_data"
    },
    {
     "name": "stdout",
     "output_type": "stream",
     "text": [
      "2022-06-11 01:49:48,511 loading file /root/.flair/models/ner-english-large/07301f59bb8cb113803be316267f06ddf9243cdbba92a4c8067ef92442d2c574.554244d3476d97501a766a98078421817b14654496b86f2f7bd139dc502a4f29\n",
      "2022-06-11 01:50:05,949 SequenceTagger predicts: Dictionary with 20 tags: <unk>, O, S-ORG, S-MISC, B-PER, E-PER, S-LOC, B-ORG, E-ORG, I-PER, S-PER, B-MISC, I-MISC, E-MISC, I-ORG, B-LOC, E-LOC, I-LOC, <START>, <STOP>\n"
     ]
    }
   ],
   "source": [
    "from flair.models import SequenceTagger\n",
    "\n",
    "tagger2 = SequenceTagger.load(\"flair/ner-english-large\")"
   ]
  },
  {
   "cell_type": "markdown",
   "id": "bd2c0712",
   "metadata": {
    "papermill": {
     "duration": 0.027537,
     "end_time": "2022-06-11T01:50:06.635698",
     "exception": false,
     "start_time": "2022-06-11T01:50:06.608161",
     "status": "completed"
    },
    "tags": []
   },
   "source": [
    "tagger3 nerenglishlarge"
   ]
  },
  {
   "cell_type": "code",
   "execution_count": 21,
   "id": "7a2f991c",
   "metadata": {
    "execution": {
     "iopub.execute_input": "2022-06-11T01:50:06.692167Z",
     "iopub.status.busy": "2022-06-11T01:50:06.691369Z",
     "iopub.status.idle": "2022-06-11T01:52:07.633191Z",
     "shell.execute_reply": "2022-06-11T01:52:07.632257Z"
    },
    "papermill": {
     "duration": 120.972419,
     "end_time": "2022-06-11T01:52:07.635393",
     "exception": false,
     "start_time": "2022-06-11T01:50:06.662974",
     "status": "completed"
    },
    "tags": []
   },
   "outputs": [],
   "source": [
    "listenglarge=[]\n",
    "label=[]\n",
    "Per=[]\n",
    "ORG=[]\n",
    "LOC=[]\n",
    "from flair.data import Sentence\n",
    "\n",
    "dflarge=pd.DataFrame({\"text\":\"\", \"PERSON-nerenglarge\":[], \"LOC-nerenglarge\":\"\",\"ORG-nerenglarge\":\"\"})\n",
    "for i in range(2136):\n",
    "        sentencess =Sentence(all_text[i])\n",
    "        dflarge.loc[i,\"text\"]=all_text[i]\n",
    "        tagger2.predict(sentencess)\n",
    "        dc={}\n",
    "        P=[]\n",
    "        L=[]\n",
    "        G=[]\n",
    "        O=[]\n",
    "        for entity in sentencess.get_spans('ner'):\n",
    "                     \n",
    "                     if (entity.get_label(\"ner\").score > 0.90) & (entity.get_label(\"ner\").value != \"CARDINAL\") & (entity.get_label(\"ner\").value != \"LAW\")& (entity.get_label(\"ner\").value != \"QUANTITY\") & (entity.get_label(\"ner\").value != \"WORK_OF_ART\") & (entity.get_label(\"ner\").value != \"LAW\")& (entity.get_label(\"ner\").value != \"QUANTITY\") & (entity.get_label(\"ner\").value != \"EVENT\")  :\n",
    "                        dc[entity.text]= entity.get_label(\"ner\").value \n",
    "                        listenglarge.append(entity)\n",
    "        \n",
    "        \n",
    "        for j in dc :\n",
    "                if dc[j]==\"PER\":\n",
    "                      P.append(j)\n",
    "                elif (dc[j]==\"ORG\") | (dc[j]==\"MISC\") :\n",
    "                      O.append(j)\n",
    "                elif dc[j]==\"LOC\":\n",
    "                      L.append(j)\n",
    "               \n",
    "        Per.append(P)\n",
    "        ORG.append(O)\n",
    "        LOC.append(L)\n",
    "            \n",
    "\n",
    "dflarge[\"PERSON-nerenglarge\"]=Per\n",
    "dflarge[\"LOC-nerenglarge\"]=LOC\n",
    "dflarge[\"ORG-nerenglarge\"]=ORG                        "
   ]
  },
  {
   "cell_type": "code",
   "execution_count": 22,
   "id": "fce797dd",
   "metadata": {
    "execution": {
     "iopub.execute_input": "2022-06-11T01:52:07.692316Z",
     "iopub.status.busy": "2022-06-11T01:52:07.691995Z",
     "iopub.status.idle": "2022-06-11T01:52:07.718347Z",
     "shell.execute_reply": "2022-06-11T01:52:07.717532Z"
    },
    "papermill": {
     "duration": 0.056312,
     "end_time": "2022-06-11T01:52:07.720336",
     "exception": false,
     "start_time": "2022-06-11T01:52:07.664024",
     "status": "completed"
    },
    "tags": []
   },
   "outputs": [
    {
     "data": {
      "text/html": [
       "<div>\n",
       "<style scoped>\n",
       "    .dataframe tbody tr th:only-of-type {\n",
       "        vertical-align: middle;\n",
       "    }\n",
       "\n",
       "    .dataframe tbody tr th {\n",
       "        vertical-align: top;\n",
       "    }\n",
       "\n",
       "    .dataframe thead th {\n",
       "        text-align: right;\n",
       "    }\n",
       "</style>\n",
       "<table border=\"1\" class=\"dataframe\">\n",
       "  <thead>\n",
       "    <tr style=\"text-align: right;\">\n",
       "      <th></th>\n",
       "      <th>text</th>\n",
       "      <th>PERSON-nerenglarge</th>\n",
       "      <th>LOC-nerenglarge</th>\n",
       "      <th>ORG-nerenglarge</th>\n",
       "    </tr>\n",
       "  </thead>\n",
       "  <tbody>\n",
       "    <tr>\n",
       "      <th>0</th>\n",
       "      <td>I , I C Meekins , of Currituck County , State ...</td>\n",
       "      <td>[I C Meekins, Almighty, God, Isaac C. Meekins,...</td>\n",
       "      <td>[Currituck County, State of North Carolina, Un...</td>\n",
       "      <td>[Constitution]</td>\n",
       "    </tr>\n",
       "    <tr>\n",
       "      <th>1</th>\n",
       "      <td>Department of Virginia North Carolina , 1864. ...</td>\n",
       "      <td>[]</td>\n",
       "      <td>[North Carolina, United States, States]</td>\n",
       "      <td>[Department of Virginia, OATH PAROLE]</td>\n",
       "    </tr>\n",
       "    <tr>\n",
       "      <th>2</th>\n",
       "      <td>I , W. H. Pearce , of Craven County , State of...</td>\n",
       "      <td>[W. H. Pearce, Almighty, God, E. Ampetts, W . ...</td>\n",
       "      <td>[Craven County, State of NorthCarolina, United...</td>\n",
       "      <td>[Constitution]</td>\n",
       "    </tr>\n",
       "    <tr>\n",
       "      <th>3</th>\n",
       "      <td>State of North Carolina , ________ County . I ...</td>\n",
       "      <td>[God]</td>\n",
       "      <td>[State of, North Carolina, United States]</td>\n",
       "      <td>[Constitution]</td>\n",
       "    </tr>\n",
       "    <tr>\n",
       "      <th>4</th>\n",
       "      <td>State of North Carolina , Wake County . I , S....</td>\n",
       "      <td>[S.E, God, T.D, McAlpine]</td>\n",
       "      <td>[State of, North Carolina, Wake County, United...</td>\n",
       "      <td>[Constitution, Res . Corp]</td>\n",
       "    </tr>\n",
       "    <tr>\n",
       "      <th>...</th>\n",
       "      <td>...</td>\n",
       "      <td>...</td>\n",
       "      <td>...</td>\n",
       "      <td>...</td>\n",
       "    </tr>\n",
       "    <tr>\n",
       "      <th>2131</th>\n",
       "      <td>Office Provost Marshal Raleigh , N.C. May 26 6...</td>\n",
       "      <td>[Geo . Little, Geo, B. Ayer, Hugo Hillebrandt]</td>\n",
       "      <td>[Raleigh, N.C., Wake County, State of N.C, Uni...</td>\n",
       "      <td>[]</td>\n",
       "    </tr>\n",
       "    <tr>\n",
       "      <th>2132</th>\n",
       "      <td>July 30th 1867 Birnie Wm Agent Bu R F A L Oath...</td>\n",
       "      <td>[]</td>\n",
       "      <td>[]</td>\n",
       "      <td>[]</td>\n",
       "    </tr>\n",
       "    <tr>\n",
       "      <th>2133</th>\n",
       "      <td>State of North Carolina , Robeson County . I ,...</td>\n",
       "      <td>[William Birnie, God, Wm Birnie, W.A]</td>\n",
       "      <td>[State of, North Carolina, Robeson County, Uni...</td>\n",
       "      <td>[Constitution]</td>\n",
       "    </tr>\n",
       "    <tr>\n",
       "      <th>2134</th>\n",
       "      <td>NARA 449 102 We whose name written well person...</td>\n",
       "      <td>[Price, James Fulton, Sgd W . N. Peden, Miles ...</td>\n",
       "      <td>[State of North Carolina, New Hanover County, ...</td>\n",
       "      <td>[Fulton Price, Confederate Government, Court o...</td>\n",
       "    </tr>\n",
       "    <tr>\n",
       "      <th>2135</th>\n",
       "      <td>NARA 450 404 Office Provost Marshall City of W...</td>\n",
       "      <td>[Marshall, James Fulton, God, Wm A. Cutler, I,...</td>\n",
       "      <td>[City of Wilmington, N.C, United States, North...</td>\n",
       "      <td>[NARA, Constitution of, Slaves]</td>\n",
       "    </tr>\n",
       "  </tbody>\n",
       "</table>\n",
       "<p>2136 rows × 4 columns</p>\n",
       "</div>"
      ],
      "text/plain": [
       "                                                   text  \\\n",
       "0     I , I C Meekins , of Currituck County , State ...   \n",
       "1     Department of Virginia North Carolina , 1864. ...   \n",
       "2     I , W. H. Pearce , of Craven County , State of...   \n",
       "3     State of North Carolina , ________ County . I ...   \n",
       "4     State of North Carolina , Wake County . I , S....   \n",
       "...                                                 ...   \n",
       "2131  Office Provost Marshal Raleigh , N.C. May 26 6...   \n",
       "2132  July 30th 1867 Birnie Wm Agent Bu R F A L Oath...   \n",
       "2133  State of North Carolina , Robeson County . I ,...   \n",
       "2134  NARA 449 102 We whose name written well person...   \n",
       "2135  NARA 450 404 Office Provost Marshall City of W...   \n",
       "\n",
       "                                     PERSON-nerenglarge  \\\n",
       "0     [I C Meekins, Almighty, God, Isaac C. Meekins,...   \n",
       "1                                                    []   \n",
       "2     [W. H. Pearce, Almighty, God, E. Ampetts, W . ...   \n",
       "3                                                 [God]   \n",
       "4                             [S.E, God, T.D, McAlpine]   \n",
       "...                                                 ...   \n",
       "2131     [Geo . Little, Geo, B. Ayer, Hugo Hillebrandt]   \n",
       "2132                                                 []   \n",
       "2133              [William Birnie, God, Wm Birnie, W.A]   \n",
       "2134  [Price, James Fulton, Sgd W . N. Peden, Miles ...   \n",
       "2135  [Marshall, James Fulton, God, Wm A. Cutler, I,...   \n",
       "\n",
       "                                        LOC-nerenglarge  \\\n",
       "0     [Currituck County, State of North Carolina, Un...   \n",
       "1               [North Carolina, United States, States]   \n",
       "2     [Craven County, State of NorthCarolina, United...   \n",
       "3             [State of, North Carolina, United States]   \n",
       "4     [State of, North Carolina, Wake County, United...   \n",
       "...                                                 ...   \n",
       "2131  [Raleigh, N.C., Wake County, State of N.C, Uni...   \n",
       "2132                                                 []   \n",
       "2133  [State of, North Carolina, Robeson County, Uni...   \n",
       "2134  [State of North Carolina, New Hanover County, ...   \n",
       "2135  [City of Wilmington, N.C, United States, North...   \n",
       "\n",
       "                                        ORG-nerenglarge  \n",
       "0                                        [Constitution]  \n",
       "1                 [Department of Virginia, OATH PAROLE]  \n",
       "2                                        [Constitution]  \n",
       "3                                        [Constitution]  \n",
       "4                            [Constitution, Res . Corp]  \n",
       "...                                                 ...  \n",
       "2131                                                 []  \n",
       "2132                                                 []  \n",
       "2133                                     [Constitution]  \n",
       "2134  [Fulton Price, Confederate Government, Court o...  \n",
       "2135                    [NARA, Constitution of, Slaves]  \n",
       "\n",
       "[2136 rows x 4 columns]"
      ]
     },
     "execution_count": 22,
     "metadata": {},
     "output_type": "execute_result"
    }
   ],
   "source": [
    "dflarge"
   ]
  },
  {
   "cell_type": "markdown",
   "id": "faa9ac89",
   "metadata": {
    "papermill": {
     "duration": 0.027253,
     "end_time": "2022-06-11T01:52:07.775063",
     "exception": false,
     "start_time": "2022-06-11T01:52:07.747810",
     "status": "completed"
    },
    "tags": []
   },
   "source": [
    "tagger 2 ontonotes"
   ]
  },
  {
   "cell_type": "code",
   "execution_count": 23,
   "id": "7c2ab2d7",
   "metadata": {
    "execution": {
     "iopub.execute_input": "2022-06-11T01:52:07.832429Z",
     "iopub.status.busy": "2022-06-11T01:52:07.832093Z",
     "iopub.status.idle": "2022-06-11T01:54:07.164483Z",
     "shell.execute_reply": "2022-06-11T01:54:07.163641Z"
    },
    "papermill": {
     "duration": 119.363959,
     "end_time": "2022-06-11T01:54:07.166605",
     "exception": false,
     "start_time": "2022-06-11T01:52:07.802646",
     "status": "completed"
    },
    "tags": []
   },
   "outputs": [],
   "source": [
    "listoto=[]\n",
    "label=[]\n",
    "Per=[]\n",
    "Date=[]\n",
    "GPE=[]\n",
    "ORG=[]\n",
    "from flair.data import Sentence\n",
    "\n",
    "aldf=pd.DataFrame({\"text\":\"\", \"PERSON-ontonotes\":[], \"GPE-ontonotes\":\"\",\"ORG-ontonotes\":\"\", \"Date-ontonotes\":\"\"})\n",
    "for i in range(2136):\n",
    "        sentencess =Sentence(all_text[i])\n",
    "        aldf.loc[i,\"text\"]=all_text[i]\n",
    "        tagger.predict(sentencess)\n",
    "        dc={}\n",
    "        P=[]\n",
    "        D=[]\n",
    "        G=[]\n",
    "        O=[]\n",
    "        for entity in sentencess.get_spans('ner'):\n",
    "                     \n",
    "                     if (entity.get_label(\"ner\").score > 0.98) & (entity.get_label(\"ner\").value != \"CARDINAL\") & (entity.get_label(\"ner\").value != \"LAW\")& (entity.get_label(\"ner\").value != \"QUANTITY\") & (entity.get_label(\"ner\").value != \"WORK_OF_ART\") & (entity.get_label(\"ner\").value != \"LAW\")& (entity.get_label(\"ner\").value != \"QUANTITY\") & (entity.get_label(\"ner\").value != \"EVENT\")  :\n",
    "                        dc[entity.text]= entity.get_label(\"ner\").value \n",
    "                        listoto.append(entity)\n",
    "        \n",
    "        \n",
    "        for j in dc :\n",
    "                if dc[j]==\"PERSON\":\n",
    "                      P.append(j)\n",
    "                elif dc[j]==\"ORG\":\n",
    "                      O.append(j)\n",
    "                elif dc[j]==\"DATE\":\n",
    "                      D.append(j)\n",
    "                elif dc[j]==\"GPE\":\n",
    "                      G.append(j)\n",
    "        Per.append(P)\n",
    "        Date.append(D)\n",
    "        ORG.append(O)\n",
    "        GPE.append(G)\n",
    "            \n",
    "aldf[\"Date-ontonotes\"]=Date\n",
    "aldf[\"PERSON-ontonotes\"]=Per\n",
    "aldf[\"GPE-ontonotes\"]=GPE\n",
    "aldf[\"ORG-ontonotes\"]=ORG    "
   ]
  },
  {
   "cell_type": "code",
   "execution_count": 24,
   "id": "324759c0",
   "metadata": {
    "execution": {
     "iopub.execute_input": "2022-06-11T01:54:07.223623Z",
     "iopub.status.busy": "2022-06-11T01:54:07.223286Z",
     "iopub.status.idle": "2022-06-11T01:54:07.228363Z",
     "shell.execute_reply": "2022-06-11T01:54:07.227676Z"
    },
    "papermill": {
     "duration": 0.035791,
     "end_time": "2022-06-11T01:54:07.230556",
     "exception": false,
     "start_time": "2022-06-11T01:54:07.194765",
     "status": "completed"
    },
    "tags": []
   },
   "outputs": [
    {
     "data": {
      "text/plain": [
       "(2136, 5)"
      ]
     },
     "execution_count": 24,
     "metadata": {},
     "output_type": "execute_result"
    }
   ],
   "source": [
    "aldf.shape"
   ]
  },
  {
   "cell_type": "code",
   "execution_count": 25,
   "id": "c7e553a7",
   "metadata": {
    "execution": {
     "iopub.execute_input": "2022-06-11T01:54:07.287378Z",
     "iopub.status.busy": "2022-06-11T01:54:07.287074Z",
     "iopub.status.idle": "2022-06-11T01:54:07.303256Z",
     "shell.execute_reply": "2022-06-11T01:54:07.302549Z"
    },
    "papermill": {
     "duration": 0.046555,
     "end_time": "2022-06-11T01:54:07.305173",
     "exception": false,
     "start_time": "2022-06-11T01:54:07.258618",
     "status": "completed"
    },
    "tags": []
   },
   "outputs": [
    {
     "data": {
      "text/html": [
       "<div>\n",
       "<style scoped>\n",
       "    .dataframe tbody tr th:only-of-type {\n",
       "        vertical-align: middle;\n",
       "    }\n",
       "\n",
       "    .dataframe tbody tr th {\n",
       "        vertical-align: top;\n",
       "    }\n",
       "\n",
       "    .dataframe thead th {\n",
       "        text-align: right;\n",
       "    }\n",
       "</style>\n",
       "<table border=\"1\" class=\"dataframe\">\n",
       "  <thead>\n",
       "    <tr style=\"text-align: right;\">\n",
       "      <th></th>\n",
       "      <th>text</th>\n",
       "      <th>PERSON-ontonotes</th>\n",
       "      <th>GPE-ontonotes</th>\n",
       "      <th>ORG-ontonotes</th>\n",
       "      <th>Date-ontonotes</th>\n",
       "    </tr>\n",
       "  </thead>\n",
       "  <tbody>\n",
       "    <tr>\n",
       "      <th>0</th>\n",
       "      <td>I , I C Meekins , of Currituck County , State ...</td>\n",
       "      <td>[I C Meekins, Isaac C. Meekins, E H Walker, Jo...</td>\n",
       "      <td>[Currituck County ,]</td>\n",
       "      <td>[]</td>\n",
       "      <td>[16 day of Sept A.D . , 1865]</td>\n",
       "    </tr>\n",
       "    <tr>\n",
       "      <th>1</th>\n",
       "      <td>Department of Virginia North Carolina , 1864. ...</td>\n",
       "      <td>[]</td>\n",
       "      <td>[North Carolina, United States, States]</td>\n",
       "      <td>[Department of Virginia, State]</td>\n",
       "      <td>[1864]</td>\n",
       "    </tr>\n",
       "    <tr>\n",
       "      <th>2</th>\n",
       "      <td>I , W. H. Pearce , of Craven County , State of...</td>\n",
       "      <td>[W. H. Pearce, W . H. Pearce]</td>\n",
       "      <td>[]</td>\n",
       "      <td>[]</td>\n",
       "      <td>[3rd day of October , A.D. , 1865]</td>\n",
       "    </tr>\n",
       "    <tr>\n",
       "      <th>3</th>\n",
       "      <td>State of North Carolina , ________ County . I ...</td>\n",
       "      <td>[]</td>\n",
       "      <td>[North Carolina, United States]</td>\n",
       "      <td>[]</td>\n",
       "      <td>[______ day of ____________ , 1866]</td>\n",
       "    </tr>\n",
       "    <tr>\n",
       "      <th>4</th>\n",
       "      <td>State of North Carolina , Wake County . I , S....</td>\n",
       "      <td>[S.E . Allen]</td>\n",
       "      <td>[North Carolina, Wake County, United States]</td>\n",
       "      <td>[]</td>\n",
       "      <td>[31st day of May , 1867]</td>\n",
       "    </tr>\n",
       "  </tbody>\n",
       "</table>\n",
       "</div>"
      ],
      "text/plain": [
       "                                                text  \\\n",
       "0  I , I C Meekins , of Currituck County , State ...   \n",
       "1  Department of Virginia North Carolina , 1864. ...   \n",
       "2  I , W. H. Pearce , of Craven County , State of...   \n",
       "3  State of North Carolina , ________ County . I ...   \n",
       "4  State of North Carolina , Wake County . I , S....   \n",
       "\n",
       "                                    PERSON-ontonotes  \\\n",
       "0  [I C Meekins, Isaac C. Meekins, E H Walker, Jo...   \n",
       "1                                                 []   \n",
       "2                      [W. H. Pearce, W . H. Pearce]   \n",
       "3                                                 []   \n",
       "4                                      [S.E . Allen]   \n",
       "\n",
       "                                  GPE-ontonotes  \\\n",
       "0                          [Currituck County ,]   \n",
       "1       [North Carolina, United States, States]   \n",
       "2                                            []   \n",
       "3               [North Carolina, United States]   \n",
       "4  [North Carolina, Wake County, United States]   \n",
       "\n",
       "                     ORG-ontonotes                       Date-ontonotes  \n",
       "0                               []        [16 day of Sept A.D . , 1865]  \n",
       "1  [Department of Virginia, State]                               [1864]  \n",
       "2                               []   [3rd day of October , A.D. , 1865]  \n",
       "3                               []  [______ day of ____________ , 1866]  \n",
       "4                               []             [31st day of May , 1867]  "
      ]
     },
     "execution_count": 25,
     "metadata": {},
     "output_type": "execute_result"
    }
   ],
   "source": [
    "aldf.head()"
   ]
  },
  {
   "cell_type": "code",
   "execution_count": 26,
   "id": "83595904",
   "metadata": {
    "execution": {
     "iopub.execute_input": "2022-06-11T01:54:07.362940Z",
     "iopub.status.busy": "2022-06-11T01:54:07.362397Z",
     "iopub.status.idle": "2022-06-11T01:54:07.367263Z",
     "shell.execute_reply": "2022-06-11T01:54:07.366578Z"
    },
    "papermill": {
     "duration": 0.035649,
     "end_time": "2022-06-11T01:54:07.368925",
     "exception": false,
     "start_time": "2022-06-11T01:54:07.333276",
     "status": "completed"
    },
    "tags": []
   },
   "outputs": [
    {
     "data": {
      "text/plain": [
       "(2136, 5)"
      ]
     },
     "execution_count": 26,
     "metadata": {},
     "output_type": "execute_result"
    }
   ],
   "source": [
    "aldf.shape"
   ]
  },
  {
   "cell_type": "code",
   "execution_count": 27,
   "id": "46c042d3",
   "metadata": {
    "execution": {
     "iopub.execute_input": "2022-06-11T01:54:07.429274Z",
     "iopub.status.busy": "2022-06-11T01:54:07.428336Z",
     "iopub.status.idle": "2022-06-11T01:54:07.437344Z",
     "shell.execute_reply": "2022-06-11T01:54:07.436513Z"
    },
    "papermill": {
     "duration": 0.04186,
     "end_time": "2022-06-11T01:54:07.439231",
     "exception": false,
     "start_time": "2022-06-11T01:54:07.397371",
     "status": "completed"
    },
    "tags": []
   },
   "outputs": [
    {
     "data": {
      "text/plain": [
       "4887"
      ]
     },
     "execution_count": 27,
     "metadata": {},
     "output_type": "execute_result"
    }
   ],
   "source": [
    "\n",
    "LDate=[]\n",
    "for i in aldf[\"Date-ontonotes\"]:\n",
    "    for j in i:\n",
    "        LDate.append(j)\n",
    "len(LDate)"
   ]
  },
  {
   "cell_type": "markdown",
   "id": "c14f01de",
   "metadata": {
    "papermill": {
     "duration": 0.027932,
     "end_time": "2022-06-11T01:54:07.495058",
     "exception": false,
     "start_time": "2022-06-11T01:54:07.467126",
     "status": "completed"
    },
    "tags": []
   },
   "source": [
    "**5000 dates**"
   ]
  },
  {
   "cell_type": "markdown",
   "id": "aa3ce509",
   "metadata": {
    "papermill": {
     "duration": 0.028369,
     "end_time": "2022-06-11T01:54:07.552366",
     "exception": false,
     "start_time": "2022-06-11T01:54:07.523997",
     "status": "completed"
    },
    "tags": []
   },
   "source": [
    "# Post processing"
   ]
  },
  {
   "cell_type": "markdown",
   "id": "716b7b9e",
   "metadata": {
    "papermill": {
     "duration": 0.027944,
     "end_time": "2022-06-11T01:54:07.607909",
     "exception": false,
     "start_time": "2022-06-11T01:54:07.579965",
     "status": "completed"
    },
    "tags": []
   },
   "source": [
    "**For dates**"
   ]
  },
  {
   "cell_type": "code",
   "execution_count": 28,
   "id": "ff2cb865",
   "metadata": {
    "execution": {
     "iopub.execute_input": "2022-06-11T01:54:07.665493Z",
     "iopub.status.busy": "2022-06-11T01:54:07.665152Z",
     "iopub.status.idle": "2022-06-11T01:54:07.728329Z",
     "shell.execute_reply": "2022-06-11T01:54:07.727623Z"
    },
    "papermill": {
     "duration": 0.094119,
     "end_time": "2022-06-11T01:54:07.730201",
     "exception": false,
     "start_time": "2022-06-11T01:54:07.636082",
     "status": "completed"
    },
    "tags": []
   },
   "outputs": [],
   "source": [
    "G=[]\n",
    "for i in aldf[\"Date-ontonotes\"]:\n",
    "    M=[]\n",
    "    for j in i:\n",
    "        date=re.search(r'^\\d\\.*.*\\d\\d$' ,j)\n",
    "        date2=re.search(r'^[A-ZZa-z]\\.*.*\\d\\.*.*\\d\\d$' ,j)\n",
    "        M.append(date)\n",
    "        M.append(date2)\n",
    "    G.append(M)\n",
    "    \n",
    "\n",
    "GF=[]\n",
    "for i in G:\n",
    "    Final_date=[]\n",
    "    for j in i:\n",
    "        if j!=None:\n",
    "            Final_date.append(j.group())\n",
    "    GF.append(Final_date)\n",
    "\n",
    "    \n",
    "aldf[\"postDate-ontonotes\"]=GF\n",
    "            \n",
    "            \n",
    "        "
   ]
  },
  {
   "cell_type": "markdown",
   "id": "18b25cca",
   "metadata": {
    "papermill": {
     "duration": 0.027721,
     "end_time": "2022-06-11T01:54:07.785932",
     "exception": false,
     "start_time": "2022-06-11T01:54:07.758211",
     "status": "completed"
    },
    "tags": []
   },
   "source": [
    "# Run this to see the extracted dates before filtring them "
   ]
  },
  {
   "cell_type": "code",
   "execution_count": 29,
   "id": "006475c6",
   "metadata": {
    "execution": {
     "iopub.execute_input": "2022-06-11T01:54:07.849037Z",
     "iopub.status.busy": "2022-06-11T01:54:07.848687Z",
     "iopub.status.idle": "2022-06-11T01:54:07.852208Z",
     "shell.execute_reply": "2022-06-11T01:54:07.851461Z"
    },
    "papermill": {
     "duration": 0.034487,
     "end_time": "2022-06-11T01:54:07.853996",
     "exception": false,
     "start_time": "2022-06-11T01:54:07.819509",
     "status": "completed"
    },
    "tags": []
   },
   "outputs": [],
   "source": [
    "#GF"
   ]
  },
  {
   "cell_type": "code",
   "execution_count": 30,
   "id": "7e1ec763",
   "metadata": {
    "execution": {
     "iopub.execute_input": "2022-06-11T01:54:07.911031Z",
     "iopub.status.busy": "2022-06-11T01:54:07.910774Z",
     "iopub.status.idle": "2022-06-11T01:54:08.043750Z",
     "shell.execute_reply": "2022-06-11T01:54:08.042944Z"
    },
    "papermill": {
     "duration": 0.163242,
     "end_time": "2022-06-11T01:54:08.045528",
     "exception": false,
     "start_time": "2022-06-11T01:54:07.882286",
     "status": "completed"
    },
    "tags": []
   },
   "outputs": [],
   "source": [
    "G=[]\n",
    "for i in aldf[\"postDate-ontonotes\"]:\n",
    "    M=[]\n",
    "    for j in i:\n",
    "        Final_date1=re.sub(r'([0-9]{1,2})\\.*.*\\s([A-Z][a-z]\\S*)\\.*.*\\s([0-9]{2,4})',r'\\1-\\2-\\3' ,j)\n",
    "        Final_date2=re.sub(r'([A-Z]\\.*.*)\\s([0-9]{1,2})\\.*.*\\s([0-9]{2,4})',r'\\2-\\1-\\3' ,j)\n",
    "        final_date3=re.sub(r'([A-Z][a-z]\\S*)\\.*.*\\s([A-Z][a-z]\\S*)\\.*.*\\s([0-9]{2,4})',r'\\1-\\2-\\3' ,j)\n",
    "        final_date4=re.sub(r'(^[A-Za-z]\\S*.*.)day\\.*.*\\s([A-Z][a-z]\\S*)\\.*.*\\s([0-9]{2,4})',r'\\1-\\2-\\3' ,j)\n",
    "        if Final_date1 != j:   \n",
    "            M.append(Final_date1)\n",
    "        if Final_date2 != j :\n",
    "            M.append(Final_date2)\n",
    "        if final_date3 != j :\n",
    "            M.append(final_date3)\n",
    "        if final_date4 != j :\n",
    "            M.append(final_date4)\n",
    "    G.append(M)\n",
    "    \n",
    "\n",
    "aldf[\"postDate-ontonotes\"]=G"
   ]
  },
  {
   "cell_type": "markdown",
   "id": "1bc45f40",
   "metadata": {
    "papermill": {
     "duration": 0.028036,
     "end_time": "2022-06-11T01:54:08.101478",
     "exception": false,
     "start_time": "2022-06-11T01:54:08.073442",
     "status": "completed"
    },
    "tags": []
   },
   "source": [
    "**great !**"
   ]
  },
  {
   "cell_type": "markdown",
   "id": "2b08d0a5",
   "metadata": {
    "papermill": {
     "duration": 0.027453,
     "end_time": "2022-06-11T01:54:08.157779",
     "exception": false,
     "start_time": "2022-06-11T01:54:08.130326",
     "status": "completed"
    },
    "tags": []
   },
   "source": [
    "****"
   ]
  },
  {
   "cell_type": "markdown",
   "id": "11d69d8c",
   "metadata": {
    "papermill": {
     "duration": 0.027997,
     "end_time": "2022-06-11T01:54:08.213711",
     "exception": false,
     "start_time": "2022-06-11T01:54:08.185714",
     "status": "completed"
    },
    "tags": []
   },
   "source": [
    "****"
   ]
  },
  {
   "cell_type": "code",
   "execution_count": 31,
   "id": "fbeb6004",
   "metadata": {
    "execution": {
     "iopub.execute_input": "2022-06-11T01:54:08.272281Z",
     "iopub.status.busy": "2022-06-11T01:54:08.271433Z",
     "iopub.status.idle": "2022-06-11T01:54:08.285865Z",
     "shell.execute_reply": "2022-06-11T01:54:08.285012Z"
    },
    "papermill": {
     "duration": 0.045814,
     "end_time": "2022-06-11T01:54:08.287794",
     "exception": false,
     "start_time": "2022-06-11T01:54:08.241980",
     "status": "completed"
    },
    "tags": []
   },
   "outputs": [
    {
     "data": {
      "text/html": [
       "<div>\n",
       "<style scoped>\n",
       "    .dataframe tbody tr th:only-of-type {\n",
       "        vertical-align: middle;\n",
       "    }\n",
       "\n",
       "    .dataframe tbody tr th {\n",
       "        vertical-align: top;\n",
       "    }\n",
       "\n",
       "    .dataframe thead th {\n",
       "        text-align: right;\n",
       "    }\n",
       "</style>\n",
       "<table border=\"1\" class=\"dataframe\">\n",
       "  <thead>\n",
       "    <tr style=\"text-align: right;\">\n",
       "      <th></th>\n",
       "      <th>text</th>\n",
       "      <th>PERSON-nerenglarge</th>\n",
       "      <th>LOC-nerenglarge</th>\n",
       "      <th>ORG-nerenglarge</th>\n",
       "    </tr>\n",
       "  </thead>\n",
       "  <tbody>\n",
       "    <tr>\n",
       "      <th>0</th>\n",
       "      <td>I , I C Meekins , of Currituck County , State ...</td>\n",
       "      <td>[I C Meekins, Almighty, God, Isaac C. Meekins,...</td>\n",
       "      <td>[Currituck County, State of North Carolina, Un...</td>\n",
       "      <td>[Constitution]</td>\n",
       "    </tr>\n",
       "    <tr>\n",
       "      <th>1</th>\n",
       "      <td>Department of Virginia North Carolina , 1864. ...</td>\n",
       "      <td>[]</td>\n",
       "      <td>[North Carolina, United States, States]</td>\n",
       "      <td>[Department of Virginia, OATH PAROLE]</td>\n",
       "    </tr>\n",
       "    <tr>\n",
       "      <th>2</th>\n",
       "      <td>I , W. H. Pearce , of Craven County , State of...</td>\n",
       "      <td>[W. H. Pearce, Almighty, God, E. Ampetts, W . ...</td>\n",
       "      <td>[Craven County, State of NorthCarolina, United...</td>\n",
       "      <td>[Constitution]</td>\n",
       "    </tr>\n",
       "    <tr>\n",
       "      <th>3</th>\n",
       "      <td>State of North Carolina , ________ County . I ...</td>\n",
       "      <td>[God]</td>\n",
       "      <td>[State of, North Carolina, United States]</td>\n",
       "      <td>[Constitution]</td>\n",
       "    </tr>\n",
       "    <tr>\n",
       "      <th>4</th>\n",
       "      <td>State of North Carolina , Wake County . I , S....</td>\n",
       "      <td>[S.E, God, T.D, McAlpine]</td>\n",
       "      <td>[State of, North Carolina, Wake County, United...</td>\n",
       "      <td>[Constitution, Res . Corp]</td>\n",
       "    </tr>\n",
       "  </tbody>\n",
       "</table>\n",
       "</div>"
      ],
      "text/plain": [
       "                                                text  \\\n",
       "0  I , I C Meekins , of Currituck County , State ...   \n",
       "1  Department of Virginia North Carolina , 1864. ...   \n",
       "2  I , W. H. Pearce , of Craven County , State of...   \n",
       "3  State of North Carolina , ________ County . I ...   \n",
       "4  State of North Carolina , Wake County . I , S....   \n",
       "\n",
       "                                  PERSON-nerenglarge  \\\n",
       "0  [I C Meekins, Almighty, God, Isaac C. Meekins,...   \n",
       "1                                                 []   \n",
       "2  [W. H. Pearce, Almighty, God, E. Ampetts, W . ...   \n",
       "3                                              [God]   \n",
       "4                          [S.E, God, T.D, McAlpine]   \n",
       "\n",
       "                                     LOC-nerenglarge  \\\n",
       "0  [Currituck County, State of North Carolina, Un...   \n",
       "1            [North Carolina, United States, States]   \n",
       "2  [Craven County, State of NorthCarolina, United...   \n",
       "3          [State of, North Carolina, United States]   \n",
       "4  [State of, North Carolina, Wake County, United...   \n",
       "\n",
       "                         ORG-nerenglarge  \n",
       "0                         [Constitution]  \n",
       "1  [Department of Virginia, OATH PAROLE]  \n",
       "2                         [Constitution]  \n",
       "3                         [Constitution]  \n",
       "4             [Constitution, Res . Corp]  "
      ]
     },
     "execution_count": 31,
     "metadata": {},
     "output_type": "execute_result"
    }
   ],
   "source": [
    "dflarge.head()"
   ]
  },
  {
   "cell_type": "code",
   "execution_count": 32,
   "id": "0d81d9ed",
   "metadata": {
    "execution": {
     "iopub.execute_input": "2022-06-11T01:54:08.345079Z",
     "iopub.status.busy": "2022-06-11T01:54:08.344320Z",
     "iopub.status.idle": "2022-06-11T01:54:08.351869Z",
     "shell.execute_reply": "2022-06-11T01:54:08.351157Z"
    },
    "papermill": {
     "duration": 0.038066,
     "end_time": "2022-06-11T01:54:08.353537",
     "exception": false,
     "start_time": "2022-06-11T01:54:08.315471",
     "status": "completed"
    },
    "tags": []
   },
   "outputs": [],
   "source": [
    "aldf[\"Person-NerEngLarge\"]=dflarge[\"PERSON-nerenglarge\"]\n",
    "aldf[\"LOC-NerEngLarge\"]=dflarge[\"LOC-nerenglarge\"]\n",
    "aldf[\"ORG-NerEngLarge\"]=dflarge[\"ORG-nerenglarge\"]\n"
   ]
  },
  {
   "cell_type": "code",
   "execution_count": 33,
   "id": "9bf483d3",
   "metadata": {
    "execution": {
     "iopub.execute_input": "2022-06-11T01:54:08.411527Z",
     "iopub.status.busy": "2022-06-11T01:54:08.411157Z",
     "iopub.status.idle": "2022-06-11T01:54:08.423117Z",
     "shell.execute_reply": "2022-06-11T01:54:08.422421Z"
    },
    "papermill": {
     "duration": 0.043323,
     "end_time": "2022-06-11T01:54:08.425128",
     "exception": false,
     "start_time": "2022-06-11T01:54:08.381805",
     "status": "completed"
    },
    "tags": []
   },
   "outputs": [],
   "source": [
    "allPerson=[]\n",
    "for i in aldf[\"PERSON-ontonotes\"]:\n",
    "            allPerson.append(i)\n",
    "allDatess=[]\n",
    "for i in aldf[\"Date-ontonotes\"]:\n",
    "            allDatess.append(i)\n",
    "allpostdates=[]\n",
    "for i in aldf[\"postDate-ontonotes\"]:\n",
    "            allpostdates.append(i)\n",
    "allGPE=[]\n",
    "for i in aldf[\"GPE-ontonotes\"]:\n",
    "            allGPE.append(i)\n",
    "alORGl=[]\n",
    "for i in aldf[\"ORG-ontonotes\"]:\n",
    "            alORGl.append(i)"
   ]
  },
  {
   "cell_type": "markdown",
   "id": "26f639c1",
   "metadata": {
    "papermill": {
     "duration": 0.02757,
     "end_time": "2022-06-11T01:54:08.481743",
     "exception": false,
     "start_time": "2022-06-11T01:54:08.454173",
     "status": "completed"
    },
    "tags": []
   },
   "source": [
    "****"
   ]
  },
  {
   "cell_type": "code",
   "execution_count": 34,
   "id": "c54c2ddc",
   "metadata": {
    "execution": {
     "iopub.execute_input": "2022-06-11T01:54:08.539011Z",
     "iopub.status.busy": "2022-06-11T01:54:08.538736Z",
     "iopub.status.idle": "2022-06-11T01:54:08.545913Z",
     "shell.execute_reply": "2022-06-11T01:54:08.545179Z"
    },
    "papermill": {
     "duration": 0.037857,
     "end_time": "2022-06-11T01:54:08.547567",
     "exception": false,
     "start_time": "2022-06-11T01:54:08.509710",
     "status": "completed"
    },
    "tags": []
   },
   "outputs": [],
   "source": [
    "Personlarge=[]\n",
    "for i in dflarge[\"PERSON-nerenglarge\"]:\n",
    "            Personlarge.append(i)\n",
    "ORGlarge=[]\n",
    "for i in dflarge[\"ORG-nerenglarge\"]:\n",
    "            ORGlarge.append(i) \n",
    "LOClarge=[]\n",
    "for i in dflarge[\"LOC-nerenglarge\"]:\n",
    "            LOClarge.append(i)"
   ]
  },
  {
   "cell_type": "markdown",
   "id": "0cbef3c6",
   "metadata": {
    "papermill": {
     "duration": 0.027407,
     "end_time": "2022-06-11T01:54:08.602621",
     "exception": false,
     "start_time": "2022-06-11T01:54:08.575214",
     "status": "completed"
    },
    "tags": []
   },
   "source": [
    "* as usual , ner English Large is better in extracting Person \n",
    "* ontonotes is thes best in extracting dates after good postprocessing and filtring almost all pattern \n",
    "* ner Engish Large  also better in Location and Oranization "
   ]
  },
  {
   "cell_type": "markdown",
   "id": "477bf7a3",
   "metadata": {
    "papermill": {
     "duration": 0.028136,
     "end_time": "2022-06-11T01:54:08.658512",
     "exception": false,
     "start_time": "2022-06-11T01:54:08.630376",
     "status": "completed"
    },
    "tags": []
   },
   "source": [
    "# Person Large (without punct)"
   ]
  },
  {
   "cell_type": "code",
   "execution_count": 35,
   "id": "70dde26c",
   "metadata": {
    "execution": {
     "iopub.execute_input": "2022-06-11T01:54:08.716622Z",
     "iopub.status.busy": "2022-06-11T01:54:08.716277Z",
     "iopub.status.idle": "2022-06-11T01:54:08.721436Z",
     "shell.execute_reply": "2022-06-11T01:54:08.720703Z"
    },
    "papermill": {
     "duration": 0.036032,
     "end_time": "2022-06-11T01:54:08.723164",
     "exception": false,
     "start_time": "2022-06-11T01:54:08.687132",
     "status": "completed"
    },
    "tags": []
   },
   "outputs": [
    {
     "data": {
      "text/plain": [
       "'I , I C Meekins , of Currituck County , State of North Carolina , solemnly swear affirm , presence of Almighty God , I henceforth faithfully support , protect defend Constitution of United States Union of States thereunder ; I , like manner , abide faithfully support law proclamation made existing rebellion reference emancipation of slave . So help God . Isaac C. Meekins Sworn subscribed 16 day of Sept A.D. , 1865 , E H Walker , J.P . It hereby certified true copy of original oath taken subscribed I C Meekins E H Walker , J.P. John B Etheridge , J.P .'"
      ]
     },
     "execution_count": 35,
     "metadata": {},
     "output_type": "execute_result"
    }
   ],
   "source": [
    "all_text[0]"
   ]
  },
  {
   "cell_type": "code",
   "execution_count": 36,
   "id": "9191bc0c",
   "metadata": {
    "execution": {
     "iopub.execute_input": "2022-06-11T01:54:08.783892Z",
     "iopub.status.busy": "2022-06-11T01:54:08.783203Z",
     "iopub.status.idle": "2022-06-11T01:54:08.790638Z",
     "shell.execute_reply": "2022-06-11T01:54:08.789922Z"
    },
    "papermill": {
     "duration": 0.040835,
     "end_time": "2022-06-11T01:54:08.792511",
     "exception": false,
     "start_time": "2022-06-11T01:54:08.751676",
     "status": "completed"
    },
    "tags": []
   },
   "outputs": [],
   "source": [
    "PL=[]\n",
    "for i in Personlarge:\n",
    "    for j in i:\n",
    "        PL.append(j)"
   ]
  },
  {
   "cell_type": "code",
   "execution_count": 37,
   "id": "513c44f3",
   "metadata": {
    "execution": {
     "iopub.execute_input": "2022-06-11T01:54:08.855778Z",
     "iopub.status.busy": "2022-06-11T01:54:08.855404Z",
     "iopub.status.idle": "2022-06-11T01:54:08.860938Z",
     "shell.execute_reply": "2022-06-11T01:54:08.860110Z"
    },
    "papermill": {
     "duration": 0.040523,
     "end_time": "2022-06-11T01:54:08.863126",
     "exception": false,
     "start_time": "2022-06-11T01:54:08.822603",
     "status": "completed"
    },
    "tags": []
   },
   "outputs": [
    {
     "data": {
      "text/plain": [
       "9512"
      ]
     },
     "execution_count": 37,
     "metadata": {},
     "output_type": "execute_result"
    }
   ],
   "source": [
    "len(PL)"
   ]
  },
  {
   "cell_type": "markdown",
   "id": "f834b8e4",
   "metadata": {
    "papermill": {
     "duration": 0.032305,
     "end_time": "2022-06-11T01:54:08.929164",
     "exception": false,
     "start_time": "2022-06-11T01:54:08.896859",
     "status": "completed"
    },
    "tags": []
   },
   "source": [
    "# Person ontonotes (without punct)"
   ]
  },
  {
   "cell_type": "code",
   "execution_count": 38,
   "id": "7bbd6bf6",
   "metadata": {
    "execution": {
     "iopub.execute_input": "2022-06-11T01:54:08.988836Z",
     "iopub.status.busy": "2022-06-11T01:54:08.988468Z",
     "iopub.status.idle": "2022-06-11T01:54:08.994789Z",
     "shell.execute_reply": "2022-06-11T01:54:08.994024Z"
    },
    "papermill": {
     "duration": 0.038479,
     "end_time": "2022-06-11T01:54:08.996496",
     "exception": false,
     "start_time": "2022-06-11T01:54:08.958017",
     "status": "completed"
    },
    "tags": []
   },
   "outputs": [],
   "source": [
    "PAu=[]\n",
    "for i in allPerson:\n",
    "    for j in i:\n",
    "        PAu.append(j)"
   ]
  },
  {
   "cell_type": "code",
   "execution_count": 39,
   "id": "7a9cc437",
   "metadata": {
    "execution": {
     "iopub.execute_input": "2022-06-11T01:54:09.055646Z",
     "iopub.status.busy": "2022-06-11T01:54:09.054962Z",
     "iopub.status.idle": "2022-06-11T01:54:09.060364Z",
     "shell.execute_reply": "2022-06-11T01:54:09.059540Z"
    },
    "papermill": {
     "duration": 0.03647,
     "end_time": "2022-06-11T01:54:09.062284",
     "exception": false,
     "start_time": "2022-06-11T01:54:09.025814",
     "status": "completed"
    },
    "tags": []
   },
   "outputs": [
    {
     "data": {
      "text/plain": [
       "5393"
      ]
     },
     "execution_count": 39,
     "metadata": {},
     "output_type": "execute_result"
    }
   ],
   "source": [
    "len(PAu)"
   ]
  },
  {
   "cell_type": "markdown",
   "id": "0763b419",
   "metadata": {
    "papermill": {
     "duration": 0.028045,
     "end_time": "2022-06-11T01:54:09.118671",
     "exception": false,
     "start_time": "2022-06-11T01:54:09.090626",
     "status": "completed"
    },
    "tags": []
   },
   "source": [
    "****"
   ]
  },
  {
   "cell_type": "markdown",
   "id": "a85be304",
   "metadata": {
    "papermill": {
     "duration": 0.028318,
     "end_time": "2022-06-11T01:54:09.174936",
     "exception": false,
     "start_time": "2022-06-11T01:54:09.146618",
     "status": "completed"
    },
    "tags": []
   },
   "source": [
    "****"
   ]
  },
  {
   "cell_type": "markdown",
   "id": "ff4ff847",
   "metadata": {
    "papermill": {
     "duration": 0.028091,
     "end_time": "2022-06-11T01:54:09.231553",
     "exception": false,
     "start_time": "2022-06-11T01:54:09.203462",
     "status": "completed"
    },
    "tags": []
   },
   "source": [
    "# dates"
   ]
  },
  {
   "cell_type": "markdown",
   "id": "1efc88fe",
   "metadata": {
    "papermill": {
     "duration": 0.029086,
     "end_time": "2022-06-11T01:54:09.289325",
     "exception": false,
     "start_time": "2022-06-11T01:54:09.260239",
     "status": "completed"
    },
    "tags": []
   },
   "source": [
    "**run those cells to take a look at the result more clearly**"
   ]
  },
  {
   "cell_type": "code",
   "execution_count": 40,
   "id": "fb9d1e56",
   "metadata": {
    "execution": {
     "iopub.execute_input": "2022-06-11T01:54:09.347550Z",
     "iopub.status.busy": "2022-06-11T01:54:09.347212Z",
     "iopub.status.idle": "2022-06-11T01:54:09.350723Z",
     "shell.execute_reply": "2022-06-11T01:54:09.349988Z"
    },
    "papermill": {
     "duration": 0.034661,
     "end_time": "2022-06-11T01:54:09.352397",
     "exception": false,
     "start_time": "2022-06-11T01:54:09.317736",
     "status": "completed"
    },
    "tags": []
   },
   "outputs": [],
   "source": [
    "#G"
   ]
  },
  {
   "cell_type": "code",
   "execution_count": 41,
   "id": "1ffdfa72",
   "metadata": {
    "execution": {
     "iopub.execute_input": "2022-06-11T01:54:09.409986Z",
     "iopub.status.busy": "2022-06-11T01:54:09.409683Z",
     "iopub.status.idle": "2022-06-11T01:54:09.413209Z",
     "shell.execute_reply": "2022-06-11T01:54:09.412505Z"
    },
    "papermill": {
     "duration": 0.034326,
     "end_time": "2022-06-11T01:54:09.414927",
     "exception": false,
     "start_time": "2022-06-11T01:54:09.380601",
     "status": "completed"
    },
    "tags": []
   },
   "outputs": [],
   "source": [
    "# import pickle\n",
    "# my_pickled_list = pickle.dumps(listoto)  # Pickling the object\n",
    "# print(f\"This is my pickled object:\\n{my_pickled_list}\\n\")\n",
    "\n",
    "# my_pickled_list\n",
    "\n",
    "# my_unpickled_object = pickle.loads(my_pickled_list)  # Unpickling the object\n",
    "# print(\n",
    "#     f\"This is a_dict of the unpickled object:\\n{my_unpickled_object}\\n\")\n",
    "\n",
    "\n",
    "# my_unpickled_object"
   ]
  },
  {
   "cell_type": "markdown",
   "id": "f0de858d",
   "metadata": {
    "papermill": {
     "duration": 0.0285,
     "end_time": "2022-06-11T01:54:09.471838",
     "exception": false,
     "start_time": "2022-06-11T01:54:09.443338",
     "status": "completed"
    },
    "tags": []
   },
   "source": [
    "# standardizing dates without punct"
   ]
  },
  {
   "cell_type": "code",
   "execution_count": 42,
   "id": "13257f39",
   "metadata": {
    "execution": {
     "iopub.execute_input": "2022-06-11T01:54:09.530806Z",
     "iopub.status.busy": "2022-06-11T01:54:09.530342Z",
     "iopub.status.idle": "2022-06-11T01:54:09.622589Z",
     "shell.execute_reply": "2022-06-11T01:54:09.621799Z"
    },
    "papermill": {
     "duration": 0.124663,
     "end_time": "2022-06-11T01:54:09.624756",
     "exception": false,
     "start_time": "2022-06-11T01:54:09.500093",
     "status": "completed"
    },
    "tags": []
   },
   "outputs": [],
   "source": [
    "NG=[]\n",
    "for i in G:\n",
    "    ng=[]\n",
    "    for j in i:\n",
    "        \n",
    "        date=re.findall(r'([0-9]{1,2})-([A-Z][a-z]\\S*)-([0-9]{2,4})',j)\n",
    "        if date !=[]:\n",
    "            dates=[]\n",
    "            for k in date:\n",
    "                for l in k:\n",
    "                    dates.append(l)\n",
    "                \n",
    "                \n",
    "                if dates[1] in [\"August\",\"Aug\",\"augt\",\"AUGUST\",\"Augst\",\"Augt\",\"AUG\",\"Augusta\"]:\n",
    "                    dates[1]= \"August\"\n",
    "                elif dates[1] in [\"September\",\"Sept\",\"SEP\",\"Sep\",\"Septr\",\"SEPTEMBER\",'Sepr','Septh']:\n",
    "                    dates[1]= \"Septembre\"\n",
    "                elif dates[1] in [\"October\",\"Oct\",\"OCT\",\"OCTOBER\"]:\n",
    "                    dates[1]= \"October\"\n",
    "                elif dates[1] in [\"November\",\"NOV\",\"Nov\",\"Novmbr\",\"Nvbr\",\"Novb\",\"NOVEMBER\", \"The\"]:\n",
    "                    dates[1]= \"November\"\n",
    "                elif dates[1] in [\"December\",\"Dec\",\"Decbr\",\"DEC\",\"DECEMBER\",\"Decber\"]:\n",
    "                    dates[1]= \"December\"\n",
    "                elif dates[1] in [\"January\",\"Janry\",\"Jan\",\"Jany\",\"JAN\",\"Janur\",\"JANUARY\"]:\n",
    "                    dates[1]= \"January\"\n",
    "                elif dates[1] in [\"February\",\"Feby\",\"Febry\",\"FEB\",\"FEBRUARY\",\"Feb\"]:\n",
    "                    dates[1]= \"February\"\n",
    "                elif dates[1] in [\"March\",\"Mar\"]:\n",
    "                    dates[1]= \"March\"\n",
    "                elif dates[1] in [\"April\",\"Apl\",\"Aprl\",\"APRIL\",\"Apr\"]:\n",
    "                    dates[1]= \"April\"\n",
    "                elif dates[1] in [\"May\",\"MAY\"]:\n",
    "                    dates[1]= \"May\"\n",
    "                elif dates[1] in [\"JUN\",\"Jun\",\"June\"]:\n",
    "                    dates[1]= \"June\"\n",
    "                elif dates[1] in [\"JULY\",\"July\",\"JUL\"]:\n",
    "                    dates[1]= \"July\"\n",
    "                j = dates[0]+\"-\"+dates[1]+\"-\"+dates[2]\n",
    "                ng.append(j)\n",
    "        else :\n",
    "                date = re.findall(r'(^[A-Za-z]\\S*.*.)-([A-Z][a-z]\\S*)-([0-9]{2,4})',j ) \n",
    "                dates=[]\n",
    "                for k in date:\n",
    "                    for l in k:\n",
    "                        dates.append(l)\n",
    "                \n",
    "                \n",
    "                    if dates[1] in [\"August\",\"Aug\",\"augt\",\"AUGUST\",\"Augst\",'Augt',\"AUG\",\"Augusta\"]:\n",
    "                        dates[1]= \"August\"\n",
    "                    elif dates[1] in [\"September\",\"Sept\",\"SEP\",\"Sep\",\"Septr\",\"SEPTEMBER\",\"Sepr\",\"Septh\", \"This\", \"This \"]:\n",
    "                        dates[1]= \"Septembre\"\n",
    "                    elif dates[1] in [\"October\",\"Oct\",\"OCT\",\"OCTOBER\"]:\n",
    "                        dates[1]= \"October\"\n",
    "                    elif dates[1] in [\"November\",\"NOV\",\"Nov\",\"Novmbr\",\"Nvbr\",\"Novb\",\"NOVEMBER\"]:\n",
    "                        dates[1]= \"November\"\n",
    "                    elif dates[1] in [\"December\",\"Dec\",\"Decbr\",\"DEC\",\"DECEMBER\",\"Decber\"]:\n",
    "                        dates[1]= \"December\"\n",
    "                    elif dates[1] in [\"January\",\"Janry\",\"Jan\",\"Jany\",\"JAN\",\"Janur\",\"JANUARY\"]:\n",
    "                        dates[1]= \"January\"\n",
    "                    elif dates[1] in [\"February\",\"Feby\",\"Febry\",\"FEB\",\"FEBRUARY\",\"Feb\"]:\n",
    "                        dates[1]= \"February\"\n",
    "                    elif dates[1] in [\"March\",\"Mar\"]:\n",
    "                        dates[1]= \"March\"\n",
    "                    elif dates[1] in [\"April\",\"Apl\",\"Aprl\",\"APRIL\",\"Apr\"]:\n",
    "                        dates[1]= \"April\"\n",
    "                    elif dates[1] in [\"May\",\"MAY\"]:\n",
    "                        dates[1]= \"May\"\n",
    "                    elif dates[1] in [\"JUN\",\"Jun\",\"June\"]:\n",
    "                        dates[1]= \"June\"\n",
    "                    elif dates[1] in [\"JULY\",\"July\",\"JUL\"]:\n",
    "                        dates[1]= \"July\"\n",
    "                    if dates[0]== \"fifteenth\" :\n",
    "                        dates[0]=\"15\"\n",
    "                    elif (dates[0]==\"sixteenth\") |(dates[0]==\"This 16 \"):\n",
    "                        dates[0]=\"16\"\n",
    "                    elif dates[0]==\"Twenty\":\n",
    "                        dates[0]=\"20\" \n",
    "                    elif dates[0]==\"Twentyseventh\":\n",
    "                        dates[0]=\"27\" \n",
    "                    elif (dates[0]==\"Twenty Eighth\") |(dates[0]==\"TwentyEight\") |(dates[0]==\"TwentyEight \") |(dates[0]==\"Twentyeight\"):\n",
    "                        dates[0]=\"28\"\n",
    "                    elif (dates[0]==\"Ninth\") |(dates[0]==\"Ninth \")|(dates[0]==\"Augusta 9th \") |(dates[0]==\"ninth\") |(dates[0]==\"ninth \")|(dates[0]==\"Augusta 9th\"):\n",
    "                        dates[0]=\"9\"\n",
    "                    \n",
    "                    elif dates[0]=='Seventh':\n",
    "                        dates[0]=\"7\" \n",
    "                    elif (dates[0]=='The') |(dates[0]==\"The 9th\") :\n",
    "                        dates[0]=\"9\"\n",
    "                    elif dates[0]==\"the 9\" :\n",
    "                        dates[0]=\"9\"\n",
    "                    elif (dates[0]==\"Eighth \") |(dates[0]==\"Eighth\") |(dates[0]==\"eighth\") |(dates[0]==\"eighth \"):\n",
    "                        dates[0]=\"8\"\n",
    "                    elif dates[0]==\"Seventh \":\n",
    "                        dates[0]=\"7\"\n",
    "                    elif (dates[0]==\"Twenty ninth \")| (dates[0]==\"Twenty ninth\") | (dates[0]==\"twenty ninth \")|(dates[0]==\"Twenty Ninth \")|(dates[0]==\"Twenty Ninth\") :\n",
    "                        dates[0]=\"29\"\n",
    "                    elif (dates[0]==\"Thirty\") |(dates[0]==\"Thirty \") | (dates[0]==\"thirtieth \"):\n",
    "                        dates[0]=\"30\"\n",
    "                    elif (dates[0]==\"Thirty first \") |(dates[0]==\"Thirty first\"):\n",
    "                        dates[0]=\"31\"\n",
    "                  \n",
    "                    \n",
    "                    elif dates[0]==\"first \":\n",
    "                        dates[0]=\"1\"\n",
    "                    elif (dates[0]==\"Second \") |(dates[0]==\"Second\") |(dates[0]==\"second\")|(dates[0]==\"second \"):\n",
    "                        dates[0]=\"2\"\n",
    "                    elif dates[0]==\"fourth \":\n",
    "                        dates[0]=\"4\"\n",
    "                    elif dates[0]==\"tenth \":\n",
    "                        dates[0]=\"10\"\n",
    "                    elif (dates[0]==\"Fifth \")|(dates[0]==\"Fifth\") |(dates[0]==\"fifth \")|(dates[0]==\"fifth\"):\n",
    "                        dates[0]=\"5\"\n",
    "                    elif (dates[0]==\"This\") | (dates[0]==\"This 7th \")|(dates[0]==\"seventh \") |(dates[0]==\"seventh\") |(dates[0]==\"Seventh \"):\n",
    "                        dates[0]=\"7\"\n",
    "                    elif (dates[0]==\"This 31st\") |(dates[0]==\"Thirty-first \"):\n",
    "                        dates[0]=\"31\"\n",
    "                    elif (dates[0]==\"Thirtieth\") |(dates[0]==\"Thirtieth \") |(dates[0]==\"Thirty\"):\n",
    "                        dates[0]=\"30\"\n",
    "                    elif dates[0]==\"twenty fifth \":\n",
    "                        dates[0]=\"25\"\n",
    "                    elif dates[0]==\"Twenty seventh \":\n",
    "                        dates[0]=\"27\"\n",
    "                    elif (dates[0]==\"Twenty sixth \") |(dates[0]==\"Twentysixth \")|(dates[0]==\"Twentysixth\") |(dates[0]==\"twentysixth \"):\n",
    "                        dates[0]=\"26\"\n",
    "                    elif dates[0]==\"third \":\n",
    "                        dates[0]=\"3\" \n",
    "                    elif dates[0]==\"third\":\n",
    "                        dates[0]=\"3\"\n",
    "                    elif dates[0]==\"Third \":\n",
    "                        dates[0]=\"3\"\n",
    "                    elif dates[0]==\"Third\":\n",
    "                        dates[0]=\"3\"\n",
    "                    \n",
    "                    elif dates[0]==\"Tenth\":\n",
    "                        dates[0]=\"10\" \n",
    "                    elif dates[0]==\"Augusta\":\n",
    "                        dates[0]=\"9\" \n",
    "                    elif (dates[0]==\"this_sixth \")|(dates[0]==\"sixth \")| (dates[0]==\"Sixth\") | (dates[0]==\"Sixth \") |(dates[0]==\"this sixth \"):\n",
    "                        dates[0]=\"6\" \n",
    "                        \n",
    "                    elif dates[0]==\"Tenth \":\n",
    "                        dates[0]=\"10\"\n",
    "                    elif (dates[0]==\"twentieth\")|(dates[0]==\"This 20th \"):\n",
    "                        dates[0]=\"20\"\n",
    "                    elif (dates[0]==\"twenty fourth \") |(dates[0]==\"twenty fourth\") |(dates[0]==\"Twenty fourth \") |(dates[0]==\"Twenty fourth\"):\n",
    "                        dates[0]=\"24\"\n",
    "                    elif (dates[0]==\"fifteenth \") |(dates[0]==\"Fifteenth \") |(dates[0]==\"Fifteenth\"):\n",
    "                        dates[0]=\"15\"\n",
    "                    elif dates[0]==\"twentieth \":\n",
    "                        dates[0]=\"20\"\n",
    "                    elif dates[0]==\"Eighteenth \":\n",
    "                        dates[0]=\"18\"\n",
    "                    elif dates[0]==\"Eighteenth\":\n",
    "                        dates[0]=\"18\"\n",
    "                    elif (dates[0]==\"Nineteenth \") |(dates[0]==\"Nineteenth\"):\n",
    "                        dates[0]=\"19\"\n",
    "                    elif dates[0]==\"First \":\n",
    "                        dates[0]=\"1\"\n",
    "                    elif dates[0]==\"First\":\n",
    "                        dates[0]=\"1\"\n",
    "                    elif (dates[0]==\"Sixteenth \")|(dates[0]==\"this 16\") |(dates[0]==\"Sixteenth\"):\n",
    "                        dates[0]=\"16\"\n",
    "                   \n",
    "                    elif dates[0]==\"twenty third \":\n",
    "                        dates[0]=\"23\"\n",
    "                    elif dates[0]==\"twenty third\":\n",
    "                        dates[0]=\"23\"\n",
    "                    elif dates[0]==\"Twenty third \":\n",
    "                        dates[0]=\"23\"\n",
    "                    elif dates[0]==\"Twenty Second \":\n",
    "                        dates[0]=\"22\"\n",
    "                    elif dates[0]==\"Twenty Second\":\n",
    "                        dates[0]=\"22\"\n",
    "                    elif dates[0]==\"Twenty Eighth \":\n",
    "                        dates[0]=\"28\"\n",
    "                    elif dates[0]==\"Twentysenventh \":\n",
    "                        dates[0]=\"27\"\n",
    "                    elif dates[0]==\"twenty third \":\n",
    "                        dates[0]=\"23\"\n",
    "                    elif (dates[0]==\"twenty third\") |(dates[0]==\"Twentythird\")|(dates[0]==\"Twentythird \"):\n",
    "                        dates[0]=\"23\"\n",
    "                    elif (dates[0]==\"fourteenth \") | (dates[0]==\"fourteenth\") | (dates[0]==\"Fourteenth\") | (dates[0]==\"Fourteenth \"):\n",
    "                        dates[0]=\"14\"\n",
    "                    elif (dates[0]==\"Eleventh \") | (dates[0]==\"Eleventh\") |(dates[0]==\"eleventh \") :\n",
    "                        dates[0]=\"11\"\n",
    "                    elif (dates[0]==\"Thirteenth\") | (dates[0]==\"Thirteenth \") :\n",
    "                        dates[0]=\"13\"\n",
    "                    elif (dates[0]==\"seventeenth \") |(dates[0]==\"seventeenth\") |(dates[0]==\"Seventeenth \") :\n",
    "                        dates[0]=\"17\"\n",
    "                     \n",
    "                     \n",
    "                     \n",
    "                    \n",
    "                        \n",
    "                    j = dates[0]+\"-\"+dates[1]+\"-\"+dates[2]\n",
    "                    ng.append(j)\n",
    "            \n",
    "            \n",
    "    NG.append(ng)   "
   ]
  },
  {
   "cell_type": "markdown",
   "id": "05025741",
   "metadata": {
    "papermill": {
     "duration": 0.028735,
     "end_time": "2022-06-11T01:54:09.682257",
     "exception": false,
     "start_time": "2022-06-11T01:54:09.653522",
     "status": "completed"
    },
    "tags": []
   },
   "source": [
    "# Final date "
   ]
  },
  {
   "cell_type": "code",
   "execution_count": 43,
   "id": "054d4bfb",
   "metadata": {
    "execution": {
     "iopub.execute_input": "2022-06-11T01:54:09.739880Z",
     "iopub.status.busy": "2022-06-11T01:54:09.739281Z",
     "iopub.status.idle": "2022-06-11T01:54:09.743020Z",
     "shell.execute_reply": "2022-06-11T01:54:09.742215Z"
    },
    "papermill": {
     "duration": 0.034262,
     "end_time": "2022-06-11T01:54:09.744679",
     "exception": false,
     "start_time": "2022-06-11T01:54:09.710417",
     "status": "completed"
    },
    "tags": []
   },
   "outputs": [],
   "source": [
    "#NG"
   ]
  },
  {
   "cell_type": "code",
   "execution_count": 44,
   "id": "044f84be",
   "metadata": {
    "execution": {
     "iopub.execute_input": "2022-06-11T01:54:09.807239Z",
     "iopub.status.busy": "2022-06-11T01:54:09.806970Z",
     "iopub.status.idle": "2022-06-11T01:54:09.811578Z",
     "shell.execute_reply": "2022-06-11T01:54:09.810812Z"
    },
    "papermill": {
     "duration": 0.040593,
     "end_time": "2022-06-11T01:54:09.813209",
     "exception": false,
     "start_time": "2022-06-11T01:54:09.772616",
     "status": "completed"
    },
    "tags": []
   },
   "outputs": [],
   "source": [
    "Lg=[]\n",
    "for i in G:\n",
    "    for j in i:\n",
    "        Lg.append(j)"
   ]
  },
  {
   "cell_type": "code",
   "execution_count": 45,
   "id": "89a0108f",
   "metadata": {
    "execution": {
     "iopub.execute_input": "2022-06-11T01:54:09.871161Z",
     "iopub.status.busy": "2022-06-11T01:54:09.870621Z",
     "iopub.status.idle": "2022-06-11T01:54:09.875477Z",
     "shell.execute_reply": "2022-06-11T01:54:09.874801Z"
    },
    "papermill": {
     "duration": 0.035681,
     "end_time": "2022-06-11T01:54:09.877215",
     "exception": false,
     "start_time": "2022-06-11T01:54:09.841534",
     "status": "completed"
    },
    "tags": []
   },
   "outputs": [
    {
     "data": {
      "text/plain": [
       "3648"
      ]
     },
     "execution_count": 45,
     "metadata": {},
     "output_type": "execute_result"
    }
   ],
   "source": [
    "len(Lg)"
   ]
  },
  {
   "cell_type": "code",
   "execution_count": 46,
   "id": "01243caf",
   "metadata": {
    "execution": {
     "iopub.execute_input": "2022-06-11T01:54:09.936231Z",
     "iopub.status.busy": "2022-06-11T01:54:09.935478Z",
     "iopub.status.idle": "2022-06-11T01:54:09.940306Z",
     "shell.execute_reply": "2022-06-11T01:54:09.939578Z"
    },
    "papermill": {
     "duration": 0.03558,
     "end_time": "2022-06-11T01:54:09.941953",
     "exception": false,
     "start_time": "2022-06-11T01:54:09.906373",
     "status": "completed"
    },
    "tags": []
   },
   "outputs": [],
   "source": [
    "Lng=[]\n",
    "for i in NG:\n",
    "    for j in i:\n",
    "        Lng.append(j)"
   ]
  },
  {
   "cell_type": "code",
   "execution_count": 47,
   "id": "3923f2f6",
   "metadata": {
    "execution": {
     "iopub.execute_input": "2022-06-11T01:54:10.001174Z",
     "iopub.status.busy": "2022-06-11T01:54:10.000878Z",
     "iopub.status.idle": "2022-06-11T01:54:10.005760Z",
     "shell.execute_reply": "2022-06-11T01:54:10.005050Z"
    },
    "papermill": {
     "duration": 0.0372,
     "end_time": "2022-06-11T01:54:10.007371",
     "exception": false,
     "start_time": "2022-06-11T01:54:09.970171",
     "status": "completed"
    },
    "tags": []
   },
   "outputs": [
    {
     "data": {
      "text/plain": [
       "3587"
      ]
     },
     "execution_count": 47,
     "metadata": {},
     "output_type": "execute_result"
    }
   ],
   "source": [
    "len(Lng)"
   ]
  },
  {
   "cell_type": "code",
   "execution_count": 48,
   "id": "cce20244",
   "metadata": {
    "execution": {
     "iopub.execute_input": "2022-06-11T01:54:10.066782Z",
     "iopub.status.busy": "2022-06-11T01:54:10.066096Z",
     "iopub.status.idle": "2022-06-11T01:54:10.081399Z",
     "shell.execute_reply": "2022-06-11T01:54:10.080726Z"
    },
    "papermill": {
     "duration": 0.046679,
     "end_time": "2022-06-11T01:54:10.083116",
     "exception": false,
     "start_time": "2022-06-11T01:54:10.036437",
     "status": "completed"
    },
    "tags": []
   },
   "outputs": [
    {
     "data": {
      "text/plain": [
       "[['29-May-1865', '31-August-1865'],\n",
       " ['29-May-1865', '3-November-1865'],\n",
       " ['29-May-1865', '30-August-1865'],\n",
       " ['26-January-1865', '29-April-1865', '8-December-1863'],\n",
       " ['29-May-1865', '31-August-1865'],\n",
       " [],\n",
       " ['21-October-1865'],\n",
       " ['21-October-1865'],\n",
       " ['29-May-1865', '2-Septembre-1865', '2-Septembre-1865'],\n",
       " ['30-August-1865'],\n",
       " ['29-May-1865', '14-October-1865', '14-October-1865'],\n",
       " ['29-May-1865', '14-Oct.-1865'],\n",
       " ['29-May-1865', '14-October-1865', '14-October-1865'],\n",
       " ['29-May-1865', '2-Septembre-1865'],\n",
       " ['29-May-1865', '21-November-1865'],\n",
       " ['5-October-1865'],\n",
       " ['29-May-1865', '21-November-1865'],\n",
       " ['29-May-1865', '24-November-1865', '24-November-1865'],\n",
       " ['29-May-1865', '23-November-1865', '23-November-1865'],\n",
       " ['29-August-1865', '22-August-1865'],\n",
       " ['29-May-1865', '23-November-1865'],\n",
       " ['29-May-1865', '23-November-1865', '20-November-1865', '23-November-1865'],\n",
       " ['29-May-1865', '21-November-1865'],\n",
       " ['29-May-1865', '23-November-1865'],\n",
       " ['29-May-1865',\n",
       "  '20-October-1865',\n",
       "  '24-October-1865',\n",
       "  'thirty first -October-1865'],\n",
       " ['29-May-1865', '26-October-1865'],\n",
       " ['29-May-1865', '15-December-1865', '15-December-1865'],\n",
       " ['29-May-1865', '20-December-1865'],\n",
       " ['30-Septembre-1865', '29-May-1865', '30-Sept.-1865', '30-Septembre-1865'],\n",
       " ['29-May-1865', '6-January-1865', '6-January-1865'],\n",
       " ['22-March-1865'],\n",
       " ['29-May-1865', '30-November-1865'],\n",
       " ['29-May-1865', '23-January-1866'],\n",
       " ['29-May-1865', '20-January-1866'],\n",
       " ['29-May-1865', '30-January-1866', '31-January-1866'],\n",
       " ['29-May-1865', '13-August-1865', '13-August-1865'],\n",
       " ['29-May-1865', '24-July-1865'],\n",
       " ['4-October-1865'],\n",
       " ['29-May-1865', '27-February-186'],\n",
       " ['29-May-1865', '9-March-1866', '9-March-1866'],\n",
       " ['29-May-1865', '31-August-1865'],\n",
       " ['29-May-1865', '23-November-1865'],\n",
       " ['29-May-1865', '18-November-1865', '18-Nov.-1865'],\n",
       " ['29-May-1865', '18-Nov.-1865', '18-November-1865'],\n",
       " ['29-August-1865'],\n",
       " ['29-May-1865', '10-August-1865'],\n",
       " ['29-May-1865', '20-Septembre-1865'],\n",
       " ['29-May-1865', '18-October-1865', '11-October-1865'],\n",
       " ['23-Septembre-1865'],\n",
       " ['29-August-1865'],\n",
       " ['20-Septembre-1865'],\n",
       " ['29-May-1865', '28-Septembre-1865'],\n",
       " ['29-May-1865', '28-Septembre-1865'],\n",
       " ['29-May-1865', '28-Septembre-1865'],\n",
       " ['29-May-1865', '5-October-1865', '5-Ocft-1865'],\n",
       " ['29-May-1865', '5-October-1865'],\n",
       " ['29-May-1865', '5-October-1865'],\n",
       " ['29-May-1865', '18-August-1865', '18-August-1865'],\n",
       " ['19-June-1865', '19-June-1865', '2-October-1865', '22-October-1865'],\n",
       " ['7-October-1865', '7-October-1865'],\n",
       " ['27-Septembre-1865'],\n",
       " ['29-May-1865', '10-October-1865'],\n",
       " ['29-May-1865', '10-October-1865'],\n",
       " ['29-May-1865', '6-October-1865'],\n",
       " ['25-August-1865', '29-May-1865', '8-December-1863'],\n",
       " ['29-May-1865', '9-October-1865'],\n",
       " ['29-May-1865', '13-October-1865'],\n",
       " ['15-June-1865', '13-June-1865', '18-Septembre-1865'],\n",
       " ['29-May-1865', '30-Septembre-1865', '30-Septembre-1865'],\n",
       " ['29-May-1865', '27-October-1865'],\n",
       " ['29-May-1865', '11-August-1865'],\n",
       " ['21-October-1865', '27-June-1865', '21-October-1865'],\n",
       " ['29-May-1865', '3-November-1865'],\n",
       " ['11-October-1865', '11-October-1865', '11-October-1865'],\n",
       " ['22-August-1865'],\n",
       " ['6-Oct.-1865', '6-October-1865'],\n",
       " ['29-May-1865', '8-November-1865'],\n",
       " ['29-May-1865', '8-November-1865'],\n",
       " ['29-May-1865', '3-November-1865', '3-November-1865'],\n",
       " ['29-May-1865', '10-August-1865'],\n",
       " ['29-May-1865', '31-October-1865'],\n",
       " ['15-November-1865'],\n",
       " ['29-May-1865', '30-October-1865'],\n",
       " ['18-October-1865'],\n",
       " ['29-May-1865', '2-Septembre-1865'],\n",
       " ['29-May-1865', '24-October-1865'],\n",
       " ['29-May-1865'],\n",
       " ['29-May-1865', '5-December-1865'],\n",
       " ['29-May-1865', '4-December-1865', '4-December-1865'],\n",
       " ['29-May-1865', '9-December-1865'],\n",
       " ['29-May-1865', '11-November-1865'],\n",
       " ['29-May-1865', '18-November-1865', '13-November-1865'],\n",
       " ['29-May-1865', '13-November-1865'],\n",
       " ['29-May-1865', '1-December-1865'],\n",
       " ['29-May-1865', '16-August-1865', '16-August-1865'],\n",
       " ['29-May-1865', '16-January-1865'],\n",
       " ['29-May-1865', '30-October-1865'],\n",
       " ['29-May-1865', '30-October-1865'],\n",
       " ['29-May-1865', '6-February-1866'],\n",
       " ['27-Septembre-1865', '27-Septembre-1865'],\n",
       " ['22-July-1865', '22-July-1865'],\n",
       " ['29-May-1865', '21-February-1866'],\n",
       " ['21-July-1865', '21-July-1865', '8-March-1866'],\n",
       " ['fifth , -August-1865'],\n",
       " ['17-July-1865'],\n",
       " ['29-May-1865',\n",
       "  '29-Septembre-1865',\n",
       "  '29-Septembre-1865',\n",
       "  '29-Septembre-1865',\n",
       "  '29-Septembre-1865',\n",
       "  '29-Septembre-1865'],\n",
       " ['29-May-1865', '5-October-1865'],\n",
       " ['29-May-1865', '31-August-1865', '31-August-1865'],\n",
       " ['29-May-1865', '27-October-1865', '27-October-1865'],\n",
       " ['29-May-1865', '27-October-1865', '27-October-1865'],\n",
       " ['29-May-1865', '31-August-1865'],\n",
       " ['29-May-1865', '4-October-1865'],\n",
       " ['29-May-1865', '1-July-1865', '1-July-1865'],\n",
       " ['29-May-1865', '16-October-1865'],\n",
       " ['29-May-1865', '16-October-1865'],\n",
       " ['29-May-1865', '12-October-1865'],\n",
       " ['29-May-1865', '4-Septembre-1865'],\n",
       " ['29-May-1865', '20-Oct.-1865', '20-Oct.-2865'],\n",
       " ['23-October-1865', '23-October-1865'],\n",
       " ['7-August-1865',\n",
       "  '7-This-1865',\n",
       "  '7-August-1865',\n",
       "  '7-August-1865',\n",
       "  '7-August-1865'],\n",
       " ['13-November-1865', '13-November-1865'],\n",
       " ['29-May-1865', '24-October-1865', '24-Oct.-1865'],\n",
       " ['29-May-1865', '1-Septembre-1865'],\n",
       " ['29-May-1865', '23-October-1865', '4-July-1865', '4-July-1865'],\n",
       " ['29-May-1865', '10-Nov.-1865'],\n",
       " ['29-May-1865', '5-December-1865'],\n",
       " ['29-May-1865', '2-December-1865', '2-December-1865'],\n",
       " ['29-May-1865', '22-November-1865'],\n",
       " ['29-May-1865', '27-November-1865', '24-November-1865'],\n",
       " [],\n",
       " ['29-May-1865', '30-August-1865'],\n",
       " ['29-May-1865', '26-January-1866'],\n",
       " ['29-May-1865', '29-August-1865'],\n",
       " ['29-May-1865', 'nineteenth -January-1866'],\n",
       " ['29-May-1865', '4-October-1865'],\n",
       " ['29-May-1865', '4-Septembre-1865'],\n",
       " ['20-Mch-1865'],\n",
       " ['29-May-1865', '29-March-1866'],\n",
       " ['29-May-1865', '7-May-1866'],\n",
       " ['29-May-1865', '13-August-1865'],\n",
       " ['29-May-1865', '18-August-1865'],\n",
       " [],\n",
       " ['20-Septembre-1865'],\n",
       " ['29-May-1865', '12-October-1865'],\n",
       " ['29-May-1865', '7-October-1865', '10-July-1865'],\n",
       " ['29-May-1865', '8-August-1865'],\n",
       " ['29-May-1865', '19-October-1865'],\n",
       " ['29-May-1865', '27-November-1865', '27-Novbr-1865'],\n",
       " ['29-May-1865', '11-December-1865'],\n",
       " ['13-Septembre-1865', '13-Septbr-1865'],\n",
       " ['29-May-1865', '20-October-1865'],\n",
       " ['29-May-1865', '13-Septembre-1865', '13-Septembre-1865'],\n",
       " ['24-August-1865'],\n",
       " ['29-May-1865', '14-October-1865'],\n",
       " ['29-May-1865', '17-October-1865'],\n",
       " ['29-May-1865', '17-October-1865', '17-Oct.-1865'],\n",
       " ['29-May-1865', '21-October-1865'],\n",
       " ['29-May-1865', '24-October-1865'],\n",
       " ['29-May-1865', '1-November-1865', '24-October-1865'],\n",
       " ['29-May-1865', '30-October-1865'],\n",
       " ['29-May-1865', '26-October-1865'],\n",
       " ['29-May-1865', '3-November-1865'],\n",
       " ['29-May-1865', '3-November-1865'],\n",
       " ['29-May-1865', '24-October-1865'],\n",
       " ['23-October-1865', '23-October-1865'],\n",
       " ['29-May-1865', '13-Septembre-1865'],\n",
       " ['29-May-1865', '13-October-1865'],\n",
       " ['4-Septembre-1865', '4-Septembre-1865'],\n",
       " ['29-May-1865'],\n",
       " ['29-May-1865', '22-June-1865', '22-June-1865'],\n",
       " ['29-May-1865', '25-November-1865'],\n",
       " ['29-May-1865', '26-November-1865'],\n",
       " ['29-May-1865', '18-November-1865', '18-November-1865'],\n",
       " ['29-May-1865', '16-November-1865', '18-November-1865'],\n",
       " ['29-May-1865', '15-Nov.-1865'],\n",
       " ['29-May-1865', '18-November-1865', '18-Nov.-1865'],\n",
       " ['29-May-1865', '18-November-1865', '18-November-1865'],\n",
       " ['29-May-1865', '13-November-1865', '15-November-1865'],\n",
       " ['29-May-1865', '18-Nov.-1865'],\n",
       " ['29-May-1865', '14-December-1865'],\n",
       " ['29-May-1865', '29-Septembre-1865'],\n",
       " ['29-May-1865', '10-January-1865'],\n",
       " ['29-May-1865', '9-August-1865'],\n",
       " ['29-May-1865', '4-February-1866', '28-June-1865', '28-June-1865'],\n",
       " ['29-May-1865', '4-February-1866', '21-August-1865'],\n",
       " ['29-May-1865',\n",
       "  '29-December-1865',\n",
       "  '29-December-1865',\n",
       "  '14-December-1865',\n",
       "  '23-June-1865'],\n",
       " ['29-May-1865', '14-December-1865', '23-June-1865', '23-June-1865'],\n",
       " ['11-November-1865', '11-November-1865'],\n",
       " ['16-March-1866'],\n",
       " ['29-May-1865', '18-August-1865', '18-August-1865', '18-August-1865'],\n",
       " ['20-Septbr-1865'],\n",
       " ['23-Septembre-1865', '23-Septembre-1865'],\n",
       " ['29-May-1865', '9-Septembre-1865'],\n",
       " ['23-Septembre-1865', '23-Septemb-1865', '23-Septembre-1865'],\n",
       " ['29-May-1865', '25-October-1865', '25-October-1865'],\n",
       " ['29-May-1865', '6-Octt-1865'],\n",
       " ['12-Sept.-1865', '5-October-1865', '12-Sept.-1865'],\n",
       " ['3-October-1865', '3-October-1865'],\n",
       " ['29-May-1865', '8-November-1865'],\n",
       " ['29-May-1865', '31-August-1865']]"
      ]
     },
     "execution_count": 48,
     "metadata": {},
     "output_type": "execute_result"
    }
   ],
   "source": [
    "NG[1000:1200]"
   ]
  },
  {
   "cell_type": "code",
   "execution_count": null,
   "id": "46d19c2f",
   "metadata": {
    "papermill": {
     "duration": 0.029469,
     "end_time": "2022-06-11T01:54:10.142015",
     "exception": false,
     "start_time": "2022-06-11T01:54:10.112546",
     "status": "completed"
    },
    "tags": []
   },
   "outputs": [],
   "source": []
  }
 ],
 "metadata": {
  "kernelspec": {
   "display_name": "Python 3",
   "language": "python",
   "name": "python3"
  },
  "language_info": {
   "codemirror_mode": {
    "name": "ipython",
    "version": 3
   },
   "file_extension": ".py",
   "mimetype": "text/x-python",
   "name": "python",
   "nbconvert_exporter": "python",
   "pygments_lexer": "ipython3",
   "version": "3.7.12"
  },
  "papermill": {
   "default_parameters": {},
   "duration": 579.526638,
   "end_time": "2022-06-11T01:54:12.992216",
   "environment_variables": {},
   "exception": null,
   "input_path": "__notebook__.ipynb",
   "output_path": "__notebook__.ipynb",
   "parameters": {},
   "start_time": "2022-06-11T01:44:33.465578",
   "version": "2.3.4"
  },
  "widgets": {
   "application/vnd.jupyter.widget-state+json": {
    "state": {
     "00acc1a54189468fa574d4c8eb75b56b": {
      "model_module": "@jupyter-widgets/controls",
      "model_module_version": "1.5.0",
      "model_name": "DescriptionStyleModel",
      "state": {
       "_model_module": "@jupyter-widgets/controls",
       "_model_module_version": "1.5.0",
       "_model_name": "DescriptionStyleModel",
       "_view_count": null,
       "_view_module": "@jupyter-widgets/base",
       "_view_module_version": "1.2.0",
       "_view_name": "StyleView",
       "description_width": ""
      }
     },
     "02373d1bf4444b27bd243f092628910f": {
      "model_module": "@jupyter-widgets/base",
      "model_module_version": "1.2.0",
      "model_name": "LayoutModel",
      "state": {
       "_model_module": "@jupyter-widgets/base",
       "_model_module_version": "1.2.0",
       "_model_name": "LayoutModel",
       "_view_count": null,
       "_view_module": "@jupyter-widgets/base",
       "_view_module_version": "1.2.0",
       "_view_name": "LayoutView",
       "align_content": null,
       "align_items": null,
       "align_self": null,
       "border": null,
       "bottom": null,
       "display": null,
       "flex": null,
       "flex_flow": null,
       "grid_area": null,
       "grid_auto_columns": null,
       "grid_auto_flow": null,
       "grid_auto_rows": null,
       "grid_column": null,
       "grid_gap": null,
       "grid_row": null,
       "grid_template_areas": null,
       "grid_template_columns": null,
       "grid_template_rows": null,
       "height": null,
       "justify_content": null,
       "justify_items": null,
       "left": null,
       "margin": null,
       "max_height": null,
       "max_width": null,
       "min_height": null,
       "min_width": null,
       "object_fit": null,
       "object_position": null,
       "order": null,
       "overflow": null,
       "overflow_x": null,
       "overflow_y": null,
       "padding": null,
       "right": null,
       "top": null,
       "visibility": null,
       "width": null
      }
     },
     "03a8243f99a0406ea259b4f21b56aace": {
      "model_module": "@jupyter-widgets/controls",
      "model_module_version": "1.5.0",
      "model_name": "ProgressStyleModel",
      "state": {
       "_model_module": "@jupyter-widgets/controls",
       "_model_module_version": "1.5.0",
       "_model_name": "ProgressStyleModel",
       "_view_count": null,
       "_view_module": "@jupyter-widgets/base",
       "_view_module_version": "1.2.0",
       "_view_name": "StyleView",
       "bar_color": null,
       "description_width": ""
      }
     },
     "03b3196a48e34211a4ebc38a33f68de0": {
      "model_module": "@jupyter-widgets/controls",
      "model_module_version": "1.5.0",
      "model_name": "HBoxModel",
      "state": {
       "_dom_classes": [],
       "_model_module": "@jupyter-widgets/controls",
       "_model_module_version": "1.5.0",
       "_model_name": "HBoxModel",
       "_view_count": null,
       "_view_module": "@jupyter-widgets/controls",
       "_view_module_version": "1.5.0",
       "_view_name": "HBoxView",
       "box_style": "",
       "children": [
        "IPY_MODEL_d1bbc13175514c38a11e2c8257eead77",
        "IPY_MODEL_858ba5ba404b40828306c0662fd8d16a",
        "IPY_MODEL_09409c95ce40420e8941078ad7cf52b9"
       ],
       "layout": "IPY_MODEL_a0e38ddd247b421ab009b6bba59208c3"
      }
     },
     "09409c95ce40420e8941078ad7cf52b9": {
      "model_module": "@jupyter-widgets/controls",
      "model_module_version": "1.5.0",
      "model_name": "HTMLModel",
      "state": {
       "_dom_classes": [],
       "_model_module": "@jupyter-widgets/controls",
       "_model_module_version": "1.5.0",
       "_model_name": "HTMLModel",
       "_view_count": null,
       "_view_module": "@jupyter-widgets/controls",
       "_view_module_version": "1.5.0",
       "_view_name": "HTMLView",
       "description": "",
       "description_tooltip": null,
       "layout": "IPY_MODEL_eead898b60d7463582304af22299b650",
       "placeholder": "​",
       "style": "IPY_MODEL_00acc1a54189468fa574d4c8eb75b56b",
       "value": " 4.83M/4.83M [00:00&lt;00:00, 10.4MB/s]"
      }
     },
     "0d5e71716e074b5eadc66ae55d8babdc": {
      "model_module": "@jupyter-widgets/base",
      "model_module_version": "1.2.0",
      "model_name": "LayoutModel",
      "state": {
       "_model_module": "@jupyter-widgets/base",
       "_model_module_version": "1.2.0",
       "_model_name": "LayoutModel",
       "_view_count": null,
       "_view_module": "@jupyter-widgets/base",
       "_view_module_version": "1.2.0",
       "_view_name": "LayoutView",
       "align_content": null,
       "align_items": null,
       "align_self": null,
       "border": null,
       "bottom": null,
       "display": null,
       "flex": null,
       "flex_flow": null,
       "grid_area": null,
       "grid_auto_columns": null,
       "grid_auto_flow": null,
       "grid_auto_rows": null,
       "grid_column": null,
       "grid_gap": null,
       "grid_row": null,
       "grid_template_areas": null,
       "grid_template_columns": null,
       "grid_template_rows": null,
       "height": null,
       "justify_content": null,
       "justify_items": null,
       "left": null,
       "margin": null,
       "max_height": null,
       "max_width": null,
       "min_height": null,
       "min_width": null,
       "object_fit": null,
       "object_position": null,
       "order": null,
       "overflow": null,
       "overflow_x": null,
       "overflow_y": null,
       "padding": null,
       "right": null,
       "top": null,
       "visibility": null,
       "width": null
      }
     },
     "1201a08ca6d847f08a02a68ca86c4ed1": {
      "model_module": "@jupyter-widgets/controls",
      "model_module_version": "1.5.0",
      "model_name": "HTMLModel",
      "state": {
       "_dom_classes": [],
       "_model_module": "@jupyter-widgets/controls",
       "_model_module_version": "1.5.0",
       "_model_name": "HTMLModel",
       "_view_count": null,
       "_view_module": "@jupyter-widgets/controls",
       "_view_module_version": "1.5.0",
       "_view_name": "HTMLView",
       "description": "",
       "description_tooltip": null,
       "layout": "IPY_MODEL_720d5b4c820f41cdb7790ff66af48e96",
       "placeholder": "​",
       "style": "IPY_MODEL_2bee3743fa8547898c2064c5fc5ffdfc",
       "value": "Downloading: 100%"
      }
     },
     "1a164d6a094541ddb1fce49ae61e1276": {
      "model_module": "@jupyter-widgets/controls",
      "model_module_version": "1.5.0",
      "model_name": "HTMLModel",
      "state": {
       "_dom_classes": [],
       "_model_module": "@jupyter-widgets/controls",
       "_model_module_version": "1.5.0",
       "_model_name": "HTMLModel",
       "_view_count": null,
       "_view_module": "@jupyter-widgets/controls",
       "_view_module_version": "1.5.0",
       "_view_name": "HTMLView",
       "description": "",
       "description_tooltip": null,
       "layout": "IPY_MODEL_6b63c6816421468091e943fb0d592128",
       "placeholder": "​",
       "style": "IPY_MODEL_bb4f9bc9aff245a8893111110113d046",
       "value": "Downloading: 100%"
      }
     },
     "1d821d3bbb8e42789bec2ab3f1d29fbc": {
      "model_module": "@jupyter-widgets/base",
      "model_module_version": "1.2.0",
      "model_name": "LayoutModel",
      "state": {
       "_model_module": "@jupyter-widgets/base",
       "_model_module_version": "1.2.0",
       "_model_name": "LayoutModel",
       "_view_count": null,
       "_view_module": "@jupyter-widgets/base",
       "_view_module_version": "1.2.0",
       "_view_name": "LayoutView",
       "align_content": null,
       "align_items": null,
       "align_self": null,
       "border": null,
       "bottom": null,
       "display": null,
       "flex": null,
       "flex_flow": null,
       "grid_area": null,
       "grid_auto_columns": null,
       "grid_auto_flow": null,
       "grid_auto_rows": null,
       "grid_column": null,
       "grid_gap": null,
       "grid_row": null,
       "grid_template_areas": null,
       "grid_template_columns": null,
       "grid_template_rows": null,
       "height": null,
       "justify_content": null,
       "justify_items": null,
       "left": null,
       "margin": null,
       "max_height": null,
       "max_width": null,
       "min_height": null,
       "min_width": null,
       "object_fit": null,
       "object_position": null,
       "order": null,
       "overflow": null,
       "overflow_x": null,
       "overflow_y": null,
       "padding": null,
       "right": null,
       "top": null,
       "visibility": null,
       "width": null
      }
     },
     "22f5592b52764e3994e9da5bc4e9e87f": {
      "model_module": "@jupyter-widgets/controls",
      "model_module_version": "1.5.0",
      "model_name": "HTMLModel",
      "state": {
       "_dom_classes": [],
       "_model_module": "@jupyter-widgets/controls",
       "_model_module_version": "1.5.0",
       "_model_name": "HTMLModel",
       "_view_count": null,
       "_view_module": "@jupyter-widgets/controls",
       "_view_module_version": "1.5.0",
       "_view_name": "HTMLView",
       "description": "",
       "description_tooltip": null,
       "layout": "IPY_MODEL_8aa8b79ea7674881a4cdb796b63c7cdc",
       "placeholder": "​",
       "style": "IPY_MODEL_84d49d98158a40848355f4b6a93fba1a",
       "value": "Downloading: 100%"
      }
     },
     "25c26edb6b3444909172f2ef69cfd0d4": {
      "model_module": "@jupyter-widgets/controls",
      "model_module_version": "1.5.0",
      "model_name": "HTMLModel",
      "state": {
       "_dom_classes": [],
       "_model_module": "@jupyter-widgets/controls",
       "_model_module_version": "1.5.0",
       "_model_name": "HTMLModel",
       "_view_count": null,
       "_view_module": "@jupyter-widgets/controls",
       "_view_module_version": "1.5.0",
       "_view_name": "HTMLView",
       "description": "",
       "description_tooltip": null,
       "layout": "IPY_MODEL_cb8e6fa7147b460aac2feea2b7559cac",
       "placeholder": "​",
       "style": "IPY_MODEL_e100632471bc4cd39e421083bc40e659",
       "value": "Downloading: 100%"
      }
     },
     "2995ae1039774e25b54bfcf4d28da026": {
      "model_module": "@jupyter-widgets/controls",
      "model_module_version": "1.5.0",
      "model_name": "DescriptionStyleModel",
      "state": {
       "_model_module": "@jupyter-widgets/controls",
       "_model_module_version": "1.5.0",
       "_model_name": "DescriptionStyleModel",
       "_view_count": null,
       "_view_module": "@jupyter-widgets/base",
       "_view_module_version": "1.2.0",
       "_view_name": "StyleView",
       "description_width": ""
      }
     },
     "2aa6849b9b0a429cbd82fade2f044a9f": {
      "model_module": "@jupyter-widgets/base",
      "model_module_version": "1.2.0",
      "model_name": "LayoutModel",
      "state": {
       "_model_module": "@jupyter-widgets/base",
       "_model_module_version": "1.2.0",
       "_model_name": "LayoutModel",
       "_view_count": null,
       "_view_module": "@jupyter-widgets/base",
       "_view_module_version": "1.2.0",
       "_view_name": "LayoutView",
       "align_content": null,
       "align_items": null,
       "align_self": null,
       "border": null,
       "bottom": null,
       "display": null,
       "flex": null,
       "flex_flow": null,
       "grid_area": null,
       "grid_auto_columns": null,
       "grid_auto_flow": null,
       "grid_auto_rows": null,
       "grid_column": null,
       "grid_gap": null,
       "grid_row": null,
       "grid_template_areas": null,
       "grid_template_columns": null,
       "grid_template_rows": null,
       "height": null,
       "justify_content": null,
       "justify_items": null,
       "left": null,
       "margin": null,
       "max_height": null,
       "max_width": null,
       "min_height": null,
       "min_width": null,
       "object_fit": null,
       "object_position": null,
       "order": null,
       "overflow": null,
       "overflow_x": null,
       "overflow_y": null,
       "padding": null,
       "right": null,
       "top": null,
       "visibility": null,
       "width": null
      }
     },
     "2bee3743fa8547898c2064c5fc5ffdfc": {
      "model_module": "@jupyter-widgets/controls",
      "model_module_version": "1.5.0",
      "model_name": "DescriptionStyleModel",
      "state": {
       "_model_module": "@jupyter-widgets/controls",
       "_model_module_version": "1.5.0",
       "_model_name": "DescriptionStyleModel",
       "_view_count": null,
       "_view_module": "@jupyter-widgets/base",
       "_view_module_version": "1.2.0",
       "_view_name": "StyleView",
       "description_width": ""
      }
     },
     "334712e4a9b143f9a6edab9e104b8704": {
      "model_module": "@jupyter-widgets/controls",
      "model_module_version": "1.5.0",
      "model_name": "HBoxModel",
      "state": {
       "_dom_classes": [],
       "_model_module": "@jupyter-widgets/controls",
       "_model_module_version": "1.5.0",
       "_model_name": "HBoxModel",
       "_view_count": null,
       "_view_module": "@jupyter-widgets/controls",
       "_view_module_version": "1.5.0",
       "_view_name": "HBoxView",
       "box_style": "",
       "children": [
        "IPY_MODEL_1a164d6a094541ddb1fce49ae61e1276",
        "IPY_MODEL_afd9d7eb21d5483ab377e648af40367c",
        "IPY_MODEL_fcf245e017da4917a254afac1b1ec852"
       ],
       "layout": "IPY_MODEL_5fd59034a224433ba70c56513626cd69"
      }
     },
     "3a0cd982859140d08b1739ec125f5897": {
      "model_module": "@jupyter-widgets/base",
      "model_module_version": "1.2.0",
      "model_name": "LayoutModel",
      "state": {
       "_model_module": "@jupyter-widgets/base",
       "_model_module_version": "1.2.0",
       "_model_name": "LayoutModel",
       "_view_count": null,
       "_view_module": "@jupyter-widgets/base",
       "_view_module_version": "1.2.0",
       "_view_name": "LayoutView",
       "align_content": null,
       "align_items": null,
       "align_self": null,
       "border": null,
       "bottom": null,
       "display": null,
       "flex": null,
       "flex_flow": null,
       "grid_area": null,
       "grid_auto_columns": null,
       "grid_auto_flow": null,
       "grid_auto_rows": null,
       "grid_column": null,
       "grid_gap": null,
       "grid_row": null,
       "grid_template_areas": null,
       "grid_template_columns": null,
       "grid_template_rows": null,
       "height": null,
       "justify_content": null,
       "justify_items": null,
       "left": null,
       "margin": null,
       "max_height": null,
       "max_width": null,
       "min_height": null,
       "min_width": null,
       "object_fit": null,
       "object_position": null,
       "order": null,
       "overflow": null,
       "overflow_x": null,
       "overflow_y": null,
       "padding": null,
       "right": null,
       "top": null,
       "visibility": null,
       "width": null
      }
     },
     "3f43f4c525ca4c9597dee32059377f6a": {
      "model_module": "@jupyter-widgets/controls",
      "model_module_version": "1.5.0",
      "model_name": "HTMLModel",
      "state": {
       "_dom_classes": [],
       "_model_module": "@jupyter-widgets/controls",
       "_model_module_version": "1.5.0",
       "_model_name": "HTMLModel",
       "_view_count": null,
       "_view_module": "@jupyter-widgets/controls",
       "_view_module_version": "1.5.0",
       "_view_name": "HTMLView",
       "description": "",
       "description_tooltip": null,
       "layout": "IPY_MODEL_9ad9318e061c40b1a2cef3ef70e6433e",
       "placeholder": "​",
       "style": "IPY_MODEL_403549122443474498ab91f8e8afa52c",
       "value": " 2.24G/2.24G [01:38&lt;00:00, 23.8MB/s]"
      }
     },
     "403549122443474498ab91f8e8afa52c": {
      "model_module": "@jupyter-widgets/controls",
      "model_module_version": "1.5.0",
      "model_name": "DescriptionStyleModel",
      "state": {
       "_model_module": "@jupyter-widgets/controls",
       "_model_module_version": "1.5.0",
       "_model_name": "DescriptionStyleModel",
       "_view_count": null,
       "_view_module": "@jupyter-widgets/base",
       "_view_module_version": "1.2.0",
       "_view_name": "StyleView",
       "description_width": ""
      }
     },
     "43d98feeed3e41c2a4ae738f43c49bac": {
      "model_module": "@jupyter-widgets/base",
      "model_module_version": "1.2.0",
      "model_name": "LayoutModel",
      "state": {
       "_model_module": "@jupyter-widgets/base",
       "_model_module_version": "1.2.0",
       "_model_name": "LayoutModel",
       "_view_count": null,
       "_view_module": "@jupyter-widgets/base",
       "_view_module_version": "1.2.0",
       "_view_name": "LayoutView",
       "align_content": null,
       "align_items": null,
       "align_self": null,
       "border": null,
       "bottom": null,
       "display": null,
       "flex": null,
       "flex_flow": null,
       "grid_area": null,
       "grid_auto_columns": null,
       "grid_auto_flow": null,
       "grid_auto_rows": null,
       "grid_column": null,
       "grid_gap": null,
       "grid_row": null,
       "grid_template_areas": null,
       "grid_template_columns": null,
       "grid_template_rows": null,
       "height": null,
       "justify_content": null,
       "justify_items": null,
       "left": null,
       "margin": null,
       "max_height": null,
       "max_width": null,
       "min_height": null,
       "min_width": null,
       "object_fit": null,
       "object_position": null,
       "order": null,
       "overflow": null,
       "overflow_x": null,
       "overflow_y": null,
       "padding": null,
       "right": null,
       "top": null,
       "visibility": null,
       "width": null
      }
     },
     "460b705cbd0d4e0db346cdea0dd989fd": {
      "model_module": "@jupyter-widgets/controls",
      "model_module_version": "1.5.0",
      "model_name": "DescriptionStyleModel",
      "state": {
       "_model_module": "@jupyter-widgets/controls",
       "_model_module_version": "1.5.0",
       "_model_name": "DescriptionStyleModel",
       "_view_count": null,
       "_view_module": "@jupyter-widgets/base",
       "_view_module_version": "1.2.0",
       "_view_name": "StyleView",
       "description_width": ""
      }
     },
     "4aa2cb8256694b4db918403675fcec1d": {
      "model_module": "@jupyter-widgets/controls",
      "model_module_version": "1.5.0",
      "model_name": "ProgressStyleModel",
      "state": {
       "_model_module": "@jupyter-widgets/controls",
       "_model_module_version": "1.5.0",
       "_model_name": "ProgressStyleModel",
       "_view_count": null,
       "_view_module": "@jupyter-widgets/base",
       "_view_module_version": "1.2.0",
       "_view_name": "StyleView",
       "bar_color": null,
       "description_width": ""
      }
     },
     "5409b45826874865b543e5f8c2ee0cda": {
      "model_module": "@jupyter-widgets/controls",
      "model_module_version": "1.5.0",
      "model_name": "HTMLModel",
      "state": {
       "_dom_classes": [],
       "_model_module": "@jupyter-widgets/controls",
       "_model_module_version": "1.5.0",
       "_model_name": "HTMLModel",
       "_view_count": null,
       "_view_module": "@jupyter-widgets/controls",
       "_view_module_version": "1.5.0",
       "_view_name": "HTMLView",
       "description": "",
       "description_tooltip": null,
       "layout": "IPY_MODEL_0d5e71716e074b5eadc66ae55d8babdc",
       "placeholder": "​",
       "style": "IPY_MODEL_460b705cbd0d4e0db346cdea0dd989fd",
       "value": " 8.68M/8.68M [00:00&lt;00:00, 18.1MB/s]"
      }
     },
     "5fd59034a224433ba70c56513626cd69": {
      "model_module": "@jupyter-widgets/base",
      "model_module_version": "1.2.0",
      "model_name": "LayoutModel",
      "state": {
       "_model_module": "@jupyter-widgets/base",
       "_model_module_version": "1.2.0",
       "_model_name": "LayoutModel",
       "_view_count": null,
       "_view_module": "@jupyter-widgets/base",
       "_view_module_version": "1.2.0",
       "_view_name": "LayoutView",
       "align_content": null,
       "align_items": null,
       "align_self": null,
       "border": null,
       "bottom": null,
       "display": null,
       "flex": null,
       "flex_flow": null,
       "grid_area": null,
       "grid_auto_columns": null,
       "grid_auto_flow": null,
       "grid_auto_rows": null,
       "grid_column": null,
       "grid_gap": null,
       "grid_row": null,
       "grid_template_areas": null,
       "grid_template_columns": null,
       "grid_template_rows": null,
       "height": null,
       "justify_content": null,
       "justify_items": null,
       "left": null,
       "margin": null,
       "max_height": null,
       "max_width": null,
       "min_height": null,
       "min_width": null,
       "object_fit": null,
       "object_position": null,
       "order": null,
       "overflow": null,
       "overflow_x": null,
       "overflow_y": null,
       "padding": null,
       "right": null,
       "top": null,
       "visibility": null,
       "width": null
      }
     },
     "629ab6e109c24c9f9ba57f56c274e428": {
      "model_module": "@jupyter-widgets/controls",
      "model_module_version": "1.5.0",
      "model_name": "HBoxModel",
      "state": {
       "_dom_classes": [],
       "_model_module": "@jupyter-widgets/controls",
       "_model_module_version": "1.5.0",
       "_model_name": "HBoxModel",
       "_view_count": null,
       "_view_module": "@jupyter-widgets/controls",
       "_view_module_version": "1.5.0",
       "_view_name": "HBoxView",
       "box_style": "",
       "children": [
        "IPY_MODEL_22f5592b52764e3994e9da5bc4e9e87f",
        "IPY_MODEL_7edc6a7434f342ecaadd72f6d125ceae",
        "IPY_MODEL_3f43f4c525ca4c9597dee32059377f6a"
       ],
       "layout": "IPY_MODEL_3a0cd982859140d08b1739ec125f5897"
      }
     },
     "66f309c623724740910759cfe8d1e801": {
      "model_module": "@jupyter-widgets/controls",
      "model_module_version": "1.5.0",
      "model_name": "HBoxModel",
      "state": {
       "_dom_classes": [],
       "_model_module": "@jupyter-widgets/controls",
       "_model_module_version": "1.5.0",
       "_model_name": "HBoxModel",
       "_view_count": null,
       "_view_module": "@jupyter-widgets/controls",
       "_view_module_version": "1.5.0",
       "_view_name": "HBoxView",
       "box_style": "",
       "children": [
        "IPY_MODEL_1201a08ca6d847f08a02a68ca86c4ed1",
        "IPY_MODEL_b55d77c669164825906078c9448abe0e",
        "IPY_MODEL_5409b45826874865b543e5f8c2ee0cda"
       ],
       "layout": "IPY_MODEL_ad153c8cb6b74615acbdc6dea0c32c59"
      }
     },
     "67acba5171724545b9ed56410c25bdec": {
      "model_module": "@jupyter-widgets/base",
      "model_module_version": "1.2.0",
      "model_name": "LayoutModel",
      "state": {
       "_model_module": "@jupyter-widgets/base",
       "_model_module_version": "1.2.0",
       "_model_name": "LayoutModel",
       "_view_count": null,
       "_view_module": "@jupyter-widgets/base",
       "_view_module_version": "1.2.0",
       "_view_name": "LayoutView",
       "align_content": null,
       "align_items": null,
       "align_self": null,
       "border": null,
       "bottom": null,
       "display": null,
       "flex": null,
       "flex_flow": null,
       "grid_area": null,
       "grid_auto_columns": null,
       "grid_auto_flow": null,
       "grid_auto_rows": null,
       "grid_column": null,
       "grid_gap": null,
       "grid_row": null,
       "grid_template_areas": null,
       "grid_template_columns": null,
       "grid_template_rows": null,
       "height": null,
       "justify_content": null,
       "justify_items": null,
       "left": null,
       "margin": null,
       "max_height": null,
       "max_width": null,
       "min_height": null,
       "min_width": null,
       "object_fit": null,
       "object_position": null,
       "order": null,
       "overflow": null,
       "overflow_x": null,
       "overflow_y": null,
       "padding": null,
       "right": null,
       "top": null,
       "visibility": null,
       "width": null
      }
     },
     "6b63c6816421468091e943fb0d592128": {
      "model_module": "@jupyter-widgets/base",
      "model_module_version": "1.2.0",
      "model_name": "LayoutModel",
      "state": {
       "_model_module": "@jupyter-widgets/base",
       "_model_module_version": "1.2.0",
       "_model_name": "LayoutModel",
       "_view_count": null,
       "_view_module": "@jupyter-widgets/base",
       "_view_module_version": "1.2.0",
       "_view_name": "LayoutView",
       "align_content": null,
       "align_items": null,
       "align_self": null,
       "border": null,
       "bottom": null,
       "display": null,
       "flex": null,
       "flex_flow": null,
       "grid_area": null,
       "grid_auto_columns": null,
       "grid_auto_flow": null,
       "grid_auto_rows": null,
       "grid_column": null,
       "grid_gap": null,
       "grid_row": null,
       "grid_template_areas": null,
       "grid_template_columns": null,
       "grid_template_rows": null,
       "height": null,
       "justify_content": null,
       "justify_items": null,
       "left": null,
       "margin": null,
       "max_height": null,
       "max_width": null,
       "min_height": null,
       "min_width": null,
       "object_fit": null,
       "object_position": null,
       "order": null,
       "overflow": null,
       "overflow_x": null,
       "overflow_y": null,
       "padding": null,
       "right": null,
       "top": null,
       "visibility": null,
       "width": null
      }
     },
     "6dc9b651431b449f9257835fc5797b69": {
      "model_module": "@jupyter-widgets/base",
      "model_module_version": "1.2.0",
      "model_name": "LayoutModel",
      "state": {
       "_model_module": "@jupyter-widgets/base",
       "_model_module_version": "1.2.0",
       "_model_name": "LayoutModel",
       "_view_count": null,
       "_view_module": "@jupyter-widgets/base",
       "_view_module_version": "1.2.0",
       "_view_name": "LayoutView",
       "align_content": null,
       "align_items": null,
       "align_self": null,
       "border": null,
       "bottom": null,
       "display": null,
       "flex": null,
       "flex_flow": null,
       "grid_area": null,
       "grid_auto_columns": null,
       "grid_auto_flow": null,
       "grid_auto_rows": null,
       "grid_column": null,
       "grid_gap": null,
       "grid_row": null,
       "grid_template_areas": null,
       "grid_template_columns": null,
       "grid_template_rows": null,
       "height": null,
       "justify_content": null,
       "justify_items": null,
       "left": null,
       "margin": null,
       "max_height": null,
       "max_width": null,
       "min_height": null,
       "min_width": null,
       "object_fit": null,
       "object_position": null,
       "order": null,
       "overflow": null,
       "overflow_x": null,
       "overflow_y": null,
       "padding": null,
       "right": null,
       "top": null,
       "visibility": null,
       "width": null
      }
     },
     "720d5b4c820f41cdb7790ff66af48e96": {
      "model_module": "@jupyter-widgets/base",
      "model_module_version": "1.2.0",
      "model_name": "LayoutModel",
      "state": {
       "_model_module": "@jupyter-widgets/base",
       "_model_module_version": "1.2.0",
       "_model_name": "LayoutModel",
       "_view_count": null,
       "_view_module": "@jupyter-widgets/base",
       "_view_module_version": "1.2.0",
       "_view_name": "LayoutView",
       "align_content": null,
       "align_items": null,
       "align_self": null,
       "border": null,
       "bottom": null,
       "display": null,
       "flex": null,
       "flex_flow": null,
       "grid_area": null,
       "grid_auto_columns": null,
       "grid_auto_flow": null,
       "grid_auto_rows": null,
       "grid_column": null,
       "grid_gap": null,
       "grid_row": null,
       "grid_template_areas": null,
       "grid_template_columns": null,
       "grid_template_rows": null,
       "height": null,
       "justify_content": null,
       "justify_items": null,
       "left": null,
       "margin": null,
       "max_height": null,
       "max_width": null,
       "min_height": null,
       "min_width": null,
       "object_fit": null,
       "object_position": null,
       "order": null,
       "overflow": null,
       "overflow_x": null,
       "overflow_y": null,
       "padding": null,
       "right": null,
       "top": null,
       "visibility": null,
       "width": null
      }
     },
     "789f9ea004d94d459e490de0bba32de5": {
      "model_module": "@jupyter-widgets/controls",
      "model_module_version": "1.5.0",
      "model_name": "FloatProgressModel",
      "state": {
       "_dom_classes": [],
       "_model_module": "@jupyter-widgets/controls",
       "_model_module_version": "1.5.0",
       "_model_name": "FloatProgressModel",
       "_view_count": null,
       "_view_module": "@jupyter-widgets/controls",
       "_view_module_version": "1.5.0",
       "_view_name": "ProgressView",
       "bar_style": "success",
       "description": "",
       "description_tooltip": null,
       "layout": "IPY_MODEL_cc467ab56c784cb7852155ddf3f87199",
       "max": 2240097289.0,
       "min": 0.0,
       "orientation": "horizontal",
       "style": "IPY_MODEL_03a8243f99a0406ea259b4f21b56aace",
       "value": 2240097289.0
      }
     },
     "79ac7d8b5aa2442f935c0e19e05dbcb5": {
      "model_module": "@jupyter-widgets/controls",
      "model_module_version": "1.5.0",
      "model_name": "DescriptionStyleModel",
      "state": {
       "_model_module": "@jupyter-widgets/controls",
       "_model_module_version": "1.5.0",
       "_model_name": "DescriptionStyleModel",
       "_view_count": null,
       "_view_module": "@jupyter-widgets/base",
       "_view_module_version": "1.2.0",
       "_view_name": "StyleView",
       "description_width": ""
      }
     },
     "7edc6a7434f342ecaadd72f6d125ceae": {
      "model_module": "@jupyter-widgets/controls",
      "model_module_version": "1.5.0",
      "model_name": "FloatProgressModel",
      "state": {
       "_dom_classes": [],
       "_model_module": "@jupyter-widgets/controls",
       "_model_module_version": "1.5.0",
       "_model_name": "FloatProgressModel",
       "_view_count": null,
       "_view_module": "@jupyter-widgets/controls",
       "_view_module_version": "1.5.0",
       "_view_name": "ProgressView",
       "bar_style": "success",
       "description": "",
       "description_tooltip": null,
       "layout": "IPY_MODEL_2aa6849b9b0a429cbd82fade2f044a9f",
       "max": 2239866761.0,
       "min": 0.0,
       "orientation": "horizontal",
       "style": "IPY_MODEL_4aa2cb8256694b4db918403675fcec1d",
       "value": 2239866761.0
      }
     },
     "84d49d98158a40848355f4b6a93fba1a": {
      "model_module": "@jupyter-widgets/controls",
      "model_module_version": "1.5.0",
      "model_name": "DescriptionStyleModel",
      "state": {
       "_model_module": "@jupyter-widgets/controls",
       "_model_module_version": "1.5.0",
       "_model_name": "DescriptionStyleModel",
       "_view_count": null,
       "_view_module": "@jupyter-widgets/base",
       "_view_module_version": "1.2.0",
       "_view_name": "StyleView",
       "description_width": ""
      }
     },
     "858ba5ba404b40828306c0662fd8d16a": {
      "model_module": "@jupyter-widgets/controls",
      "model_module_version": "1.5.0",
      "model_name": "FloatProgressModel",
      "state": {
       "_dom_classes": [],
       "_model_module": "@jupyter-widgets/controls",
       "_model_module_version": "1.5.0",
       "_model_name": "FloatProgressModel",
       "_view_count": null,
       "_view_module": "@jupyter-widgets/controls",
       "_view_module_version": "1.5.0",
       "_view_name": "ProgressView",
       "bar_style": "success",
       "description": "",
       "description_tooltip": null,
       "layout": "IPY_MODEL_1d821d3bbb8e42789bec2ab3f1d29fbc",
       "max": 5069051.0,
       "min": 0.0,
       "orientation": "horizontal",
       "style": "IPY_MODEL_8fab77a7c6eb486ea04c6410c6e8a244",
       "value": 5069051.0
      }
     },
     "897345c97f5b488d8c62b09c1eaae4e0": {
      "model_module": "@jupyter-widgets/controls",
      "model_module_version": "1.5.0",
      "model_name": "DescriptionStyleModel",
      "state": {
       "_model_module": "@jupyter-widgets/controls",
       "_model_module_version": "1.5.0",
       "_model_name": "DescriptionStyleModel",
       "_view_count": null,
       "_view_module": "@jupyter-widgets/base",
       "_view_module_version": "1.2.0",
       "_view_name": "StyleView",
       "description_width": ""
      }
     },
     "8aa8b79ea7674881a4cdb796b63c7cdc": {
      "model_module": "@jupyter-widgets/base",
      "model_module_version": "1.2.0",
      "model_name": "LayoutModel",
      "state": {
       "_model_module": "@jupyter-widgets/base",
       "_model_module_version": "1.2.0",
       "_model_name": "LayoutModel",
       "_view_count": null,
       "_view_module": "@jupyter-widgets/base",
       "_view_module_version": "1.2.0",
       "_view_name": "LayoutView",
       "align_content": null,
       "align_items": null,
       "align_self": null,
       "border": null,
       "bottom": null,
       "display": null,
       "flex": null,
       "flex_flow": null,
       "grid_area": null,
       "grid_auto_columns": null,
       "grid_auto_flow": null,
       "grid_auto_rows": null,
       "grid_column": null,
       "grid_gap": null,
       "grid_row": null,
       "grid_template_areas": null,
       "grid_template_columns": null,
       "grid_template_rows": null,
       "height": null,
       "justify_content": null,
       "justify_items": null,
       "left": null,
       "margin": null,
       "max_height": null,
       "max_width": null,
       "min_height": null,
       "min_width": null,
       "object_fit": null,
       "object_position": null,
       "order": null,
       "overflow": null,
       "overflow_x": null,
       "overflow_y": null,
       "padding": null,
       "right": null,
       "top": null,
       "visibility": null,
       "width": null
      }
     },
     "8fab77a7c6eb486ea04c6410c6e8a244": {
      "model_module": "@jupyter-widgets/controls",
      "model_module_version": "1.5.0",
      "model_name": "ProgressStyleModel",
      "state": {
       "_model_module": "@jupyter-widgets/controls",
       "_model_module_version": "1.5.0",
       "_model_name": "ProgressStyleModel",
       "_view_count": null,
       "_view_module": "@jupyter-widgets/base",
       "_view_module_version": "1.2.0",
       "_view_name": "StyleView",
       "bar_color": null,
       "description_width": ""
      }
     },
     "9ad9318e061c40b1a2cef3ef70e6433e": {
      "model_module": "@jupyter-widgets/base",
      "model_module_version": "1.2.0",
      "model_name": "LayoutModel",
      "state": {
       "_model_module": "@jupyter-widgets/base",
       "_model_module_version": "1.2.0",
       "_model_name": "LayoutModel",
       "_view_count": null,
       "_view_module": "@jupyter-widgets/base",
       "_view_module_version": "1.2.0",
       "_view_name": "LayoutView",
       "align_content": null,
       "align_items": null,
       "align_self": null,
       "border": null,
       "bottom": null,
       "display": null,
       "flex": null,
       "flex_flow": null,
       "grid_area": null,
       "grid_auto_columns": null,
       "grid_auto_flow": null,
       "grid_auto_rows": null,
       "grid_column": null,
       "grid_gap": null,
       "grid_row": null,
       "grid_template_areas": null,
       "grid_template_columns": null,
       "grid_template_rows": null,
       "height": null,
       "justify_content": null,
       "justify_items": null,
       "left": null,
       "margin": null,
       "max_height": null,
       "max_width": null,
       "min_height": null,
       "min_width": null,
       "object_fit": null,
       "object_position": null,
       "order": null,
       "overflow": null,
       "overflow_x": null,
       "overflow_y": null,
       "padding": null,
       "right": null,
       "top": null,
       "visibility": null,
       "width": null
      }
     },
     "9cfdbd6b6fcd4d90b48888b17f8a04a4": {
      "model_module": "@jupyter-widgets/base",
      "model_module_version": "1.2.0",
      "model_name": "LayoutModel",
      "state": {
       "_model_module": "@jupyter-widgets/base",
       "_model_module_version": "1.2.0",
       "_model_name": "LayoutModel",
       "_view_count": null,
       "_view_module": "@jupyter-widgets/base",
       "_view_module_version": "1.2.0",
       "_view_name": "LayoutView",
       "align_content": null,
       "align_items": null,
       "align_self": null,
       "border": null,
       "bottom": null,
       "display": null,
       "flex": null,
       "flex_flow": null,
       "grid_area": null,
       "grid_auto_columns": null,
       "grid_auto_flow": null,
       "grid_auto_rows": null,
       "grid_column": null,
       "grid_gap": null,
       "grid_row": null,
       "grid_template_areas": null,
       "grid_template_columns": null,
       "grid_template_rows": null,
       "height": null,
       "justify_content": null,
       "justify_items": null,
       "left": null,
       "margin": null,
       "max_height": null,
       "max_width": null,
       "min_height": null,
       "min_width": null,
       "object_fit": null,
       "object_position": null,
       "order": null,
       "overflow": null,
       "overflow_x": null,
       "overflow_y": null,
       "padding": null,
       "right": null,
       "top": null,
       "visibility": null,
       "width": null
      }
     },
     "a0e38ddd247b421ab009b6bba59208c3": {
      "model_module": "@jupyter-widgets/base",
      "model_module_version": "1.2.0",
      "model_name": "LayoutModel",
      "state": {
       "_model_module": "@jupyter-widgets/base",
       "_model_module_version": "1.2.0",
       "_model_name": "LayoutModel",
       "_view_count": null,
       "_view_module": "@jupyter-widgets/base",
       "_view_module_version": "1.2.0",
       "_view_name": "LayoutView",
       "align_content": null,
       "align_items": null,
       "align_self": null,
       "border": null,
       "bottom": null,
       "display": null,
       "flex": null,
       "flex_flow": null,
       "grid_area": null,
       "grid_auto_columns": null,
       "grid_auto_flow": null,
       "grid_auto_rows": null,
       "grid_column": null,
       "grid_gap": null,
       "grid_row": null,
       "grid_template_areas": null,
       "grid_template_columns": null,
       "grid_template_rows": null,
       "height": null,
       "justify_content": null,
       "justify_items": null,
       "left": null,
       "margin": null,
       "max_height": null,
       "max_width": null,
       "min_height": null,
       "min_width": null,
       "object_fit": null,
       "object_position": null,
       "order": null,
       "overflow": null,
       "overflow_x": null,
       "overflow_y": null,
       "padding": null,
       "right": null,
       "top": null,
       "visibility": null,
       "width": null
      }
     },
     "ad153c8cb6b74615acbdc6dea0c32c59": {
      "model_module": "@jupyter-widgets/base",
      "model_module_version": "1.2.0",
      "model_name": "LayoutModel",
      "state": {
       "_model_module": "@jupyter-widgets/base",
       "_model_module_version": "1.2.0",
       "_model_name": "LayoutModel",
       "_view_count": null,
       "_view_module": "@jupyter-widgets/base",
       "_view_module_version": "1.2.0",
       "_view_name": "LayoutView",
       "align_content": null,
       "align_items": null,
       "align_self": null,
       "border": null,
       "bottom": null,
       "display": null,
       "flex": null,
       "flex_flow": null,
       "grid_area": null,
       "grid_auto_columns": null,
       "grid_auto_flow": null,
       "grid_auto_rows": null,
       "grid_column": null,
       "grid_gap": null,
       "grid_row": null,
       "grid_template_areas": null,
       "grid_template_columns": null,
       "grid_template_rows": null,
       "height": null,
       "justify_content": null,
       "justify_items": null,
       "left": null,
       "margin": null,
       "max_height": null,
       "max_width": null,
       "min_height": null,
       "min_width": null,
       "object_fit": null,
       "object_position": null,
       "order": null,
       "overflow": null,
       "overflow_x": null,
       "overflow_y": null,
       "padding": null,
       "right": null,
       "top": null,
       "visibility": null,
       "width": null
      }
     },
     "afd9d7eb21d5483ab377e648af40367c": {
      "model_module": "@jupyter-widgets/controls",
      "model_module_version": "1.5.0",
      "model_name": "FloatProgressModel",
      "state": {
       "_dom_classes": [],
       "_model_module": "@jupyter-widgets/controls",
       "_model_module_version": "1.5.0",
       "_model_name": "FloatProgressModel",
       "_view_count": null,
       "_view_module": "@jupyter-widgets/controls",
       "_view_module_version": "1.5.0",
       "_view_name": "ProgressView",
       "bar_style": "success",
       "description": "",
       "description_tooltip": null,
       "layout": "IPY_MODEL_67acba5171724545b9ed56410c25bdec",
       "max": 616.0,
       "min": 0.0,
       "orientation": "horizontal",
       "style": "IPY_MODEL_ca9829af225c43d8b754b03d5ac04f61",
       "value": 616.0
      }
     },
     "b55d77c669164825906078c9448abe0e": {
      "model_module": "@jupyter-widgets/controls",
      "model_module_version": "1.5.0",
      "model_name": "FloatProgressModel",
      "state": {
       "_dom_classes": [],
       "_model_module": "@jupyter-widgets/controls",
       "_model_module_version": "1.5.0",
       "_model_name": "FloatProgressModel",
       "_view_count": null,
       "_view_module": "@jupyter-widgets/controls",
       "_view_module_version": "1.5.0",
       "_view_name": "ProgressView",
       "bar_style": "success",
       "description": "",
       "description_tooltip": null,
       "layout": "IPY_MODEL_9cfdbd6b6fcd4d90b48888b17f8a04a4",
       "max": 9096718.0,
       "min": 0.0,
       "orientation": "horizontal",
       "style": "IPY_MODEL_f57931e4d1a94cb29dea850ec267d4c0",
       "value": 9096718.0
      }
     },
     "b694eaa0400c4ee6950a20d7c6ffb8f9": {
      "model_module": "@jupyter-widgets/base",
      "model_module_version": "1.2.0",
      "model_name": "LayoutModel",
      "state": {
       "_model_module": "@jupyter-widgets/base",
       "_model_module_version": "1.2.0",
       "_model_name": "LayoutModel",
       "_view_count": null,
       "_view_module": "@jupyter-widgets/base",
       "_view_module_version": "1.2.0",
       "_view_name": "LayoutView",
       "align_content": null,
       "align_items": null,
       "align_self": null,
       "border": null,
       "bottom": null,
       "display": null,
       "flex": null,
       "flex_flow": null,
       "grid_area": null,
       "grid_auto_columns": null,
       "grid_auto_flow": null,
       "grid_auto_rows": null,
       "grid_column": null,
       "grid_gap": null,
       "grid_row": null,
       "grid_template_areas": null,
       "grid_template_columns": null,
       "grid_template_rows": null,
       "height": null,
       "justify_content": null,
       "justify_items": null,
       "left": null,
       "margin": null,
       "max_height": null,
       "max_width": null,
       "min_height": null,
       "min_width": null,
       "object_fit": null,
       "object_position": null,
       "order": null,
       "overflow": null,
       "overflow_x": null,
       "overflow_y": null,
       "padding": null,
       "right": null,
       "top": null,
       "visibility": null,
       "width": null
      }
     },
     "bab24b286f7f4daf8cce6a2fe452ce67": {
      "model_module": "@jupyter-widgets/controls",
      "model_module_version": "1.5.0",
      "model_name": "HBoxModel",
      "state": {
       "_dom_classes": [],
       "_model_module": "@jupyter-widgets/controls",
       "_model_module_version": "1.5.0",
       "_model_name": "HBoxModel",
       "_view_count": null,
       "_view_module": "@jupyter-widgets/controls",
       "_view_module_version": "1.5.0",
       "_view_name": "HBoxView",
       "box_style": "",
       "children": [
        "IPY_MODEL_25c26edb6b3444909172f2ef69cfd0d4",
        "IPY_MODEL_789f9ea004d94d459e490de0bba32de5",
        "IPY_MODEL_fbaa4395eef84f7dbca51bd8b89d5576"
       ],
       "layout": "IPY_MODEL_02373d1bf4444b27bd243f092628910f"
      }
     },
     "bb4f9bc9aff245a8893111110113d046": {
      "model_module": "@jupyter-widgets/controls",
      "model_module_version": "1.5.0",
      "model_name": "DescriptionStyleModel",
      "state": {
       "_model_module": "@jupyter-widgets/controls",
       "_model_module_version": "1.5.0",
       "_model_name": "DescriptionStyleModel",
       "_view_count": null,
       "_view_module": "@jupyter-widgets/base",
       "_view_module_version": "1.2.0",
       "_view_name": "StyleView",
       "description_width": ""
      }
     },
     "ca9829af225c43d8b754b03d5ac04f61": {
      "model_module": "@jupyter-widgets/controls",
      "model_module_version": "1.5.0",
      "model_name": "ProgressStyleModel",
      "state": {
       "_model_module": "@jupyter-widgets/controls",
       "_model_module_version": "1.5.0",
       "_model_name": "ProgressStyleModel",
       "_view_count": null,
       "_view_module": "@jupyter-widgets/base",
       "_view_module_version": "1.2.0",
       "_view_name": "StyleView",
       "bar_color": null,
       "description_width": ""
      }
     },
     "cb8e6fa7147b460aac2feea2b7559cac": {
      "model_module": "@jupyter-widgets/base",
      "model_module_version": "1.2.0",
      "model_name": "LayoutModel",
      "state": {
       "_model_module": "@jupyter-widgets/base",
       "_model_module_version": "1.2.0",
       "_model_name": "LayoutModel",
       "_view_count": null,
       "_view_module": "@jupyter-widgets/base",
       "_view_module_version": "1.2.0",
       "_view_name": "LayoutView",
       "align_content": null,
       "align_items": null,
       "align_self": null,
       "border": null,
       "bottom": null,
       "display": null,
       "flex": null,
       "flex_flow": null,
       "grid_area": null,
       "grid_auto_columns": null,
       "grid_auto_flow": null,
       "grid_auto_rows": null,
       "grid_column": null,
       "grid_gap": null,
       "grid_row": null,
       "grid_template_areas": null,
       "grid_template_columns": null,
       "grid_template_rows": null,
       "height": null,
       "justify_content": null,
       "justify_items": null,
       "left": null,
       "margin": null,
       "max_height": null,
       "max_width": null,
       "min_height": null,
       "min_width": null,
       "object_fit": null,
       "object_position": null,
       "order": null,
       "overflow": null,
       "overflow_x": null,
       "overflow_y": null,
       "padding": null,
       "right": null,
       "top": null,
       "visibility": null,
       "width": null
      }
     },
     "cc467ab56c784cb7852155ddf3f87199": {
      "model_module": "@jupyter-widgets/base",
      "model_module_version": "1.2.0",
      "model_name": "LayoutModel",
      "state": {
       "_model_module": "@jupyter-widgets/base",
       "_model_module_version": "1.2.0",
       "_model_name": "LayoutModel",
       "_view_count": null,
       "_view_module": "@jupyter-widgets/base",
       "_view_module_version": "1.2.0",
       "_view_name": "LayoutView",
       "align_content": null,
       "align_items": null,
       "align_self": null,
       "border": null,
       "bottom": null,
       "display": null,
       "flex": null,
       "flex_flow": null,
       "grid_area": null,
       "grid_auto_columns": null,
       "grid_auto_flow": null,
       "grid_auto_rows": null,
       "grid_column": null,
       "grid_gap": null,
       "grid_row": null,
       "grid_template_areas": null,
       "grid_template_columns": null,
       "grid_template_rows": null,
       "height": null,
       "justify_content": null,
       "justify_items": null,
       "left": null,
       "margin": null,
       "max_height": null,
       "max_width": null,
       "min_height": null,
       "min_width": null,
       "object_fit": null,
       "object_position": null,
       "order": null,
       "overflow": null,
       "overflow_x": null,
       "overflow_y": null,
       "padding": null,
       "right": null,
       "top": null,
       "visibility": null,
       "width": null
      }
     },
     "d1bbc13175514c38a11e2c8257eead77": {
      "model_module": "@jupyter-widgets/controls",
      "model_module_version": "1.5.0",
      "model_name": "HTMLModel",
      "state": {
       "_dom_classes": [],
       "_model_module": "@jupyter-widgets/controls",
       "_model_module_version": "1.5.0",
       "_model_name": "HTMLModel",
       "_view_count": null,
       "_view_module": "@jupyter-widgets/controls",
       "_view_module_version": "1.5.0",
       "_view_name": "HTMLView",
       "description": "",
       "description_tooltip": null,
       "layout": "IPY_MODEL_6dc9b651431b449f9257835fc5797b69",
       "placeholder": "​",
       "style": "IPY_MODEL_79ac7d8b5aa2442f935c0e19e05dbcb5",
       "value": "Downloading: 100%"
      }
     },
     "e100632471bc4cd39e421083bc40e659": {
      "model_module": "@jupyter-widgets/controls",
      "model_module_version": "1.5.0",
      "model_name": "DescriptionStyleModel",
      "state": {
       "_model_module": "@jupyter-widgets/controls",
       "_model_module_version": "1.5.0",
       "_model_name": "DescriptionStyleModel",
       "_view_count": null,
       "_view_module": "@jupyter-widgets/base",
       "_view_module_version": "1.2.0",
       "_view_name": "StyleView",
       "description_width": ""
      }
     },
     "eead898b60d7463582304af22299b650": {
      "model_module": "@jupyter-widgets/base",
      "model_module_version": "1.2.0",
      "model_name": "LayoutModel",
      "state": {
       "_model_module": "@jupyter-widgets/base",
       "_model_module_version": "1.2.0",
       "_model_name": "LayoutModel",
       "_view_count": null,
       "_view_module": "@jupyter-widgets/base",
       "_view_module_version": "1.2.0",
       "_view_name": "LayoutView",
       "align_content": null,
       "align_items": null,
       "align_self": null,
       "border": null,
       "bottom": null,
       "display": null,
       "flex": null,
       "flex_flow": null,
       "grid_area": null,
       "grid_auto_columns": null,
       "grid_auto_flow": null,
       "grid_auto_rows": null,
       "grid_column": null,
       "grid_gap": null,
       "grid_row": null,
       "grid_template_areas": null,
       "grid_template_columns": null,
       "grid_template_rows": null,
       "height": null,
       "justify_content": null,
       "justify_items": null,
       "left": null,
       "margin": null,
       "max_height": null,
       "max_width": null,
       "min_height": null,
       "min_width": null,
       "object_fit": null,
       "object_position": null,
       "order": null,
       "overflow": null,
       "overflow_x": null,
       "overflow_y": null,
       "padding": null,
       "right": null,
       "top": null,
       "visibility": null,
       "width": null
      }
     },
     "f57931e4d1a94cb29dea850ec267d4c0": {
      "model_module": "@jupyter-widgets/controls",
      "model_module_version": "1.5.0",
      "model_name": "ProgressStyleModel",
      "state": {
       "_model_module": "@jupyter-widgets/controls",
       "_model_module_version": "1.5.0",
       "_model_name": "ProgressStyleModel",
       "_view_count": null,
       "_view_module": "@jupyter-widgets/base",
       "_view_module_version": "1.2.0",
       "_view_name": "StyleView",
       "bar_color": null,
       "description_width": ""
      }
     },
     "fbaa4395eef84f7dbca51bd8b89d5576": {
      "model_module": "@jupyter-widgets/controls",
      "model_module_version": "1.5.0",
      "model_name": "HTMLModel",
      "state": {
       "_dom_classes": [],
       "_model_module": "@jupyter-widgets/controls",
       "_model_module_version": "1.5.0",
       "_model_name": "HTMLModel",
       "_view_count": null,
       "_view_module": "@jupyter-widgets/controls",
       "_view_module_version": "1.5.0",
       "_view_name": "HTMLView",
       "description": "",
       "description_tooltip": null,
       "layout": "IPY_MODEL_43d98feeed3e41c2a4ae738f43c49bac",
       "placeholder": "​",
       "style": "IPY_MODEL_897345c97f5b488d8c62b09c1eaae4e0",
       "value": " 2.24G/2.24G [01:37&lt;00:00, 23.6MB/s]"
      }
     },
     "fcf245e017da4917a254afac1b1ec852": {
      "model_module": "@jupyter-widgets/controls",
      "model_module_version": "1.5.0",
      "model_name": "HTMLModel",
      "state": {
       "_dom_classes": [],
       "_model_module": "@jupyter-widgets/controls",
       "_model_module_version": "1.5.0",
       "_model_name": "HTMLModel",
       "_view_count": null,
       "_view_module": "@jupyter-widgets/controls",
       "_view_module_version": "1.5.0",
       "_view_name": "HTMLView",
       "description": "",
       "description_tooltip": null,
       "layout": "IPY_MODEL_b694eaa0400c4ee6950a20d7c6ffb8f9",
       "placeholder": "​",
       "style": "IPY_MODEL_2995ae1039774e25b54bfcf4d28da026",
       "value": " 616/616 [00:00&lt;00:00, 22.7kB/s]"
      }
     }
    },
    "version_major": 2,
    "version_minor": 0
   }
  }
 },
 "nbformat": 4,
 "nbformat_minor": 5
}
