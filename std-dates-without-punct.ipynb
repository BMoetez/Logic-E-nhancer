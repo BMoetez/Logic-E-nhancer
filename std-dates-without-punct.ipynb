{
 "cells": [
  {
   "cell_type": "code",
   "execution_count": 1,
   "id": "4e0fc4f8",
   "metadata": {
    "_cell_guid": "b1076dfc-b9ad-4769-8c92-a6c4dae69d19",
    "_uuid": "8f2839f25d086af736a60e9eeb907d3b93b6e0e5",
    "execution": {
     "iopub.execute_input": "2022-06-11T01:24:40.440295Z",
     "iopub.status.busy": "2022-06-11T01:24:40.439732Z",
     "iopub.status.idle": "2022-06-11T01:24:46.870320Z",
     "shell.execute_reply": "2022-06-11T01:24:46.869508Z"
    },
    "papermill": {
     "duration": 6.462007,
     "end_time": "2022-06-11T01:24:46.872749",
     "exception": false,
     "start_time": "2022-06-11T01:24:40.410742",
     "status": "completed"
    },
    "tags": []
   },
   "outputs": [],
   "source": [
    "import numpy as np\n",
    "import pandas as pd \n",
    "import seaborn as sns\n",
    "import matplotlib.pyplot as plt \n",
    "import matplotlib.style as stl \n",
    "from tensorflow import keras \n",
    "from keras.preprocessing.text import Tokenizer\n",
    "from nltk.corpus import stopwords\n",
    "import string\n",
    "from tensorflow.keras.models import Sequential,Model\n",
    "from tensorflow.keras.layers import Dense, LSTM, Embedding,Dropout,SpatialDropout1D,Conv1D,MaxPooling1D,GRU,BatchNormalization\n",
    "import warnings\n",
    "warnings.filterwarnings('ignore')\n",
    "stl.use('ggplot')\n",
    "from tqdm import tqdm\n",
    "import string\n",
    "from nltk.corpus import stopwords\n",
    "from nltk.tokenize import word_tokenize\n",
    "from nltk.stem import WordNetLemmatizer\n",
    "from nltk.stem.snowball import SnowballStemmer\n",
    "import regex as re"
   ]
  },
  {
   "cell_type": "code",
   "execution_count": 2,
   "id": "1118c74a",
   "metadata": {
    "execution": {
     "iopub.execute_input": "2022-06-11T01:24:46.905622Z",
     "iopub.status.busy": "2022-06-11T01:24:46.904976Z",
     "iopub.status.idle": "2022-06-11T01:24:46.989430Z",
     "shell.execute_reply": "2022-06-11T01:24:46.988652Z"
    },
    "papermill": {
     "duration": 0.101258,
     "end_time": "2022-06-11T01:24:46.991376",
     "exception": false,
     "start_time": "2022-06-11T01:24:46.890118",
     "status": "completed"
    },
    "tags": []
   },
   "outputs": [],
   "source": [
    "newdata=pd.read_csv(\"../input/oathss/oaths.csv\")"
   ]
  },
  {
   "cell_type": "code",
   "execution_count": 3,
   "id": "ed85586c",
   "metadata": {
    "execution": {
     "iopub.execute_input": "2022-06-11T01:24:47.021940Z",
     "iopub.status.busy": "2022-06-11T01:24:47.021613Z",
     "iopub.status.idle": "2022-06-11T01:24:47.031927Z",
     "shell.execute_reply": "2022-06-11T01:24:47.031245Z"
    },
    "papermill": {
     "duration": 0.028918,
     "end_time": "2022-06-11T01:24:47.034603",
     "exception": false,
     "start_time": "2022-06-11T01:24:47.005685",
     "status": "completed"
    },
    "tags": []
   },
   "outputs": [
    {
     "data": {
      "text/plain": [
       "'[M177 ENCL]\\r\\n[[pre-printed]] I, [[handwritten]] I C Meekins [[/handwritten]], of [[handwritten]] Currituck [[/handwritten]] County, State of North Carolina, do solemnly swear or affirm, in presence of Almighty God, that I will henceforth faithfully support, protect and defend the Constitution of the United States and the Union of the States thereunder; and that I will, in like manner, abide by and faithfully support all laws and proclamations which have been made during the existing rebellion with reference to the emancipation of slaves.  So help me God. \\r\\n\\r\\n[[handwritten]] Isaac C. Meekins [[/handwritten]]\\r\\n\\r\\nSworn and subscribed to this the [[handwritten]] 16 [[/handwritten]] day of [[handwritten]] Sept [[/handwritten]] A.D., 1865, before \\r\\n[[handwritten]] E H Walker [[/handwritten]], J.P.\\r\\nIt is hereby certified that the above is a true copy of the original oath taken and subscribed by [[handwritten]] I C Meekins\\r\\nE H Walker, J.P.\\r\\nJohn B Etheridge, J.P.\\r\\n[[\\\\handwritten]] [[/pre-printed]]'"
      ]
     },
     "execution_count": 3,
     "metadata": {},
     "output_type": "execute_result"
    }
   ],
   "source": [
    "newdata[\"transcription_text\"][0]"
   ]
  },
  {
   "cell_type": "code",
   "execution_count": 4,
   "id": "144b715a",
   "metadata": {
    "execution": {
     "iopub.execute_input": "2022-06-11T01:24:47.065541Z",
     "iopub.status.busy": "2022-06-11T01:24:47.064969Z",
     "iopub.status.idle": "2022-06-11T01:24:47.069908Z",
     "shell.execute_reply": "2022-06-11T01:24:47.069255Z"
    },
    "papermill": {
     "duration": 0.021317,
     "end_time": "2022-06-11T01:24:47.071514",
     "exception": false,
     "start_time": "2022-06-11T01:24:47.050197",
     "status": "completed"
    },
    "tags": []
   },
   "outputs": [
    {
     "data": {
      "text/plain": [
       "' I, T A Dough, of Currituck County, State of North-Carolina, do solemnly swear or affirm, in presence of Almighty God, that I will henceforth faithfully support, protect and defend the Constitution of the United States and the Union of the States thereunder; and that I will, in like manner, abide by and faithfully support all laws and proclamations which have been made during the existing rebellion with reference to the emancipation of slaves. So help me God. \\r\\nThos A Dough\\r\\n\\r\\nSworn and subscribed to this the 16 day of Sept, \\r\\nA.D., 1865, before \\r\\nJohn B Etheridge, J. P.\\r\\n\\r\\nIt is hereby certified that the above is a true copy of the original oath taken and subscribed by T A Dough\\r\\nJohn B Etheridge, J. P.\\r\\nE H Walker, J. P.\\r\\n[[blank line]], J. P.\\r\\n'"
      ]
     },
     "execution_count": 4,
     "metadata": {},
     "output_type": "execute_result"
    }
   ],
   "source": [
    "newdata[\"transcription_text\"][9]"
   ]
  },
  {
   "cell_type": "code",
   "execution_count": 5,
   "id": "bd43d0a3",
   "metadata": {
    "execution": {
     "iopub.execute_input": "2022-06-11T01:24:47.101201Z",
     "iopub.status.busy": "2022-06-11T01:24:47.100660Z",
     "iopub.status.idle": "2022-06-11T01:24:47.105610Z",
     "shell.execute_reply": "2022-06-11T01:24:47.104943Z"
    },
    "papermill": {
     "duration": 0.021406,
     "end_time": "2022-06-11T01:24:47.107138",
     "exception": false,
     "start_time": "2022-06-11T01:24:47.085732",
     "status": "completed"
    },
    "tags": []
   },
   "outputs": [
    {
     "data": {
      "text/plain": [
       "'[[preprinted]]\\r\\nState of North Carolina, }\\r\\n^[[Randolph]] County. }\\r\\n\\r\\nI, ^[[W R Frazier]], do solemnly swear that I have never voluntarily borne arms against the United States since I have been a citizen thereof; that I have voluntarily given no aid, countenance, counsel, or encouragement to persons engaged in armed hostility thereto; that I have neither sought nor accepted, nor attempted to exercise the functions of any office whatever under any authority, or pretended authority, in hostility to the United States; that I have not yielded a voluntary support to any pretended government, authority, power or constitution within the United States, hostile or inimical thereto. And I do further swear, that, to the best of my knowledge and ability, I will support and defend the Constitution of the United States against all enemies, foreign and domestic; that I will bear true faith and allegiance to the same; that I take this obligation freely, without any mental reservation or purpose of evasion; and that I will well and faithfully discharge the duties of the office on which I am about to enter, so help me God.\\r\\n\\r\\n[[signature]] W R Frazer[[/signature]]\\r\\nSworn and subscribed before me, this ^[[6th]] day of ^[[Septr]], 1866.\\r\\n[[/preprinted]]\\r\\n[[signature]] W M Wilson [[/signature]] JP \\r\\n'"
      ]
     },
     "execution_count": 5,
     "metadata": {},
     "output_type": "execute_result"
    }
   ],
   "source": [
    "newdata[\"transcription_text\"][100]"
   ]
  },
  {
   "cell_type": "code",
   "execution_count": 6,
   "id": "043d98d3",
   "metadata": {
    "execution": {
     "iopub.execute_input": "2022-06-11T01:24:47.136968Z",
     "iopub.status.busy": "2022-06-11T01:24:47.136280Z",
     "iopub.status.idle": "2022-06-11T01:24:47.141740Z",
     "shell.execute_reply": "2022-06-11T01:24:47.140987Z"
    },
    "papermill": {
     "duration": 0.022007,
     "end_time": "2022-06-11T01:24:47.143307",
     "exception": false,
     "start_time": "2022-06-11T01:24:47.121300",
     "status": "completed"
    },
    "tags": []
   },
   "outputs": [
    {
     "data": {
      "text/plain": [
       "'I J A Sanders solemnly Swear that I have carefully read the Amnesty Proclamation issued by ANDREW JOHNSON, President of the United States of America, on May 29th, 1865, and that I am not excepted from the benefits of that Proclamation by any one of the fourteen exceptions therein made, [[strikethrough]] except [[/strikethrough]]\\r\\nLaura Sanders\\r\\n\\r\\nSworn to and subscribed before me at Charleston SC this 7th day of Oct 1865.\\r\\nJ Milton Thompson\\r\\nCapt 33 U.S.C.T. & Pro. Marshal\\r\\n\\r\\n[[left margin]] Copy  J Milton Thompson capt 33 USCT & Pro Marshal City of Charleston [[/left margin]]\\r\\n\\r\\nNo. 1619\\r\\nUnited States of America.\\r\\n\\r\\nI J A L. Sanders of the County of Charleston State of South Ca do solemnly Swear in the presence of Almighty God, that I will henceforth faithfully support and defend the Constitution of the United States, and the Union of the States thereunder, and that I will, in like manner, abide by and faithfully support all laws and proclamations which have been made during the existing rebellion with reference to the Emancipation of Slaves-SO HELP ME GOD.\\r\\nJ. A: Sanders\\r\\n\\r\\nSworn to and subscribed before me at Charleston SC this 7th day of Oct 1865.\\r\\nJ Milton Thompson\\r\\nCapt 33 U.S.C.T. & PM\\r\\n\\r\\nThe above has Dr complexion, Gry hair, and light eyes; is 5 feet 9 inches high, and 55 years; by profession a Merchant\\r\\n\\r\\n(The original oaths will be transmitted, by the officer administering them, to the Department of State, through intermediate channels, and a certified copy thereof will be furnished to the applicant for pardon, to accompany his petition.)'"
      ]
     },
     "execution_count": 6,
     "metadata": {},
     "output_type": "execute_result"
    }
   ],
   "source": [
    "newdata[\"transcription_text\"][1500]"
   ]
  },
  {
   "cell_type": "code",
   "execution_count": 7,
   "id": "06240f25",
   "metadata": {
    "execution": {
     "iopub.execute_input": "2022-06-11T01:24:47.173746Z",
     "iopub.status.busy": "2022-06-11T01:24:47.173158Z",
     "iopub.status.idle": "2022-06-11T01:24:47.178087Z",
     "shell.execute_reply": "2022-06-11T01:24:47.177409Z"
    },
    "papermill": {
     "duration": 0.02232,
     "end_time": "2022-06-11T01:24:47.179890",
     "exception": false,
     "start_time": "2022-06-11T01:24:47.157570",
     "status": "completed"
    },
    "tags": []
   },
   "outputs": [
    {
     "data": {
      "text/plain": [
       "'United States OF AMERICA.\\r\\n[[image]] stamped eagle [[/image]]\\r\\nTEST OATH. \\r\\n\\r\\n\\r\\nI, J. B. Healy - do solemnly swear that I have never voluntarily borne arms against the United States since I have been a citizen thereof; that I have voluntarily given no aid, countenance, counsel, or encouragement to persons engaged in armed hostility thereto; that I have neither sought, nor accepted, nor attempted to exercise the functions of any office whatever, under any authority, or pretended authority, in hostility to the United States; that I have not yielded a voluntary support to any pretended government, authority, power, or constitution within the United States, hostile or inimical thereto.\\r\\nAnd I do further swear, or affirm, that, to the best of my knowledge and ability, I will support and defend the Constitution of the United States against all enemies, foreign and domestic; that I will bear true faith and allegiance to the same; that I take this obligation freely, without any mental reservation or purpose of evasion; and that I will well and faithfully discharge the duties of the office on which I am about to enter : So help me God.\\r\\nJ.B.Healy\\r\\n\\r\\nSWORN TO AND SUBSCRIBED before me, at Columbus Ga\\r\\nthis 24th day of July 1867\\r\\nWm Mills\\r\\nCapt 15th U.S. Inft\\r\\nComdg Post of Columbus.\\r\\n\\r\\n(Required by Act of Congress as a preliminary to holding office under the United States.)'"
      ]
     },
     "execution_count": 7,
     "metadata": {},
     "output_type": "execute_result"
    }
   ],
   "source": [
    "newdata[\"transcription_text\"][1980]"
   ]
  },
  {
   "cell_type": "code",
   "execution_count": 8,
   "id": "8098beb1",
   "metadata": {
    "execution": {
     "iopub.execute_input": "2022-06-11T01:24:47.210276Z",
     "iopub.status.busy": "2022-06-11T01:24:47.209638Z",
     "iopub.status.idle": "2022-06-11T01:24:47.214586Z",
     "shell.execute_reply": "2022-06-11T01:24:47.213875Z"
    },
    "papermill": {
     "duration": 0.021826,
     "end_time": "2022-06-11T01:24:47.216254",
     "exception": false,
     "start_time": "2022-06-11T01:24:47.194428",
     "status": "completed"
    },
    "tags": []
   },
   "outputs": [
    {
     "data": {
      "text/plain": [
       "'Oath\\r\\nArington Dilworth\\r\\nGuilford Co No Ca\\r\\n\\r\\nAug 14, 66'"
      ]
     },
     "execution_count": 8,
     "metadata": {},
     "output_type": "execute_result"
    }
   ],
   "source": [
    "newdata[\"transcription_text\"][2100]"
   ]
  },
  {
   "cell_type": "markdown",
   "id": "7fc2e9ba",
   "metadata": {
    "papermill": {
     "duration": 0.014151,
     "end_time": "2022-06-11T01:24:47.244771",
     "exception": false,
     "start_time": "2022-06-11T01:24:47.230620",
     "status": "completed"
    },
    "tags": []
   },
   "source": [
    "# Preprocessing"
   ]
  },
  {
   "cell_type": "code",
   "execution_count": 9,
   "id": "1481bac0",
   "metadata": {
    "execution": {
     "iopub.execute_input": "2022-06-11T01:24:47.275166Z",
     "iopub.status.busy": "2022-06-11T01:24:47.274461Z",
     "iopub.status.idle": "2022-06-11T01:24:47.278433Z",
     "shell.execute_reply": "2022-06-11T01:24:47.277585Z"
    },
    "papermill": {
     "duration": 0.020898,
     "end_time": "2022-06-11T01:24:47.280094",
     "exception": false,
     "start_time": "2022-06-11T01:24:47.259196",
     "status": "completed"
    },
    "tags": []
   },
   "outputs": [],
   "source": [
    "all_text=newdata[\"transcription_text\"]"
   ]
  },
  {
   "cell_type": "code",
   "execution_count": 10,
   "id": "16857ce6",
   "metadata": {
    "execution": {
     "iopub.execute_input": "2022-06-11T01:24:47.310156Z",
     "iopub.status.busy": "2022-06-11T01:24:47.309573Z",
     "iopub.status.idle": "2022-06-11T01:24:47.318812Z",
     "shell.execute_reply": "2022-06-11T01:24:47.318128Z"
    },
    "papermill": {
     "duration": 0.025977,
     "end_time": "2022-06-11T01:24:47.320411",
     "exception": false,
     "start_time": "2022-06-11T01:24:47.294434",
     "status": "completed"
    },
    "tags": []
   },
   "outputs": [],
   "source": [
    "stop_words = set(stopwords.words('english'))\n",
    "punctuation = string.punctuation\n",
    "stemmer = SnowballStemmer(language=\"english\")\n",
    "lemmatizer = WordNetLemmatizer()"
   ]
  },
  {
   "cell_type": "code",
   "execution_count": 11,
   "id": "af43e01b",
   "metadata": {
    "execution": {
     "iopub.execute_input": "2022-06-11T01:24:47.350928Z",
     "iopub.status.busy": "2022-06-11T01:24:47.350329Z",
     "iopub.status.idle": "2022-06-11T01:24:47.355135Z",
     "shell.execute_reply": "2022-06-11T01:24:47.354455Z"
    },
    "papermill": {
     "duration": 0.021802,
     "end_time": "2022-06-11T01:24:47.356854",
     "exception": false,
     "start_time": "2022-06-11T01:24:47.335052",
     "status": "completed"
    },
    "tags": []
   },
   "outputs": [
    {
     "data": {
      "text/plain": [
       "'!\"#$%&\\'()*+,-./:;<=>?@[\\\\]^_`{|}~'"
      ]
     },
     "execution_count": 11,
     "metadata": {},
     "output_type": "execute_result"
    }
   ],
   "source": [
    "stop_words.remove(\"of\")\n",
    "punctuation"
   ]
  },
  {
   "cell_type": "markdown",
   "id": "794d9ffb",
   "metadata": {
    "papermill": {
     "duration": 0.014987,
     "end_time": "2022-06-11T01:24:47.386349",
     "exception": false,
     "start_time": "2022-06-11T01:24:47.371362",
     "status": "completed"
    },
    "tags": []
   },
   "source": [
    "# delete just stop words"
   ]
  },
  {
   "cell_type": "code",
   "execution_count": 12,
   "id": "b1f841d7",
   "metadata": {
    "execution": {
     "iopub.execute_input": "2022-06-11T01:24:47.416712Z",
     "iopub.status.busy": "2022-06-11T01:24:47.416440Z",
     "iopub.status.idle": "2022-06-11T01:24:47.419904Z",
     "shell.execute_reply": "2022-06-11T01:24:47.419125Z"
    },
    "papermill": {
     "duration": 0.020469,
     "end_time": "2022-06-11T01:24:47.421478",
     "exception": false,
     "start_time": "2022-06-11T01:24:47.401009",
     "status": "completed"
    },
    "tags": []
   },
   "outputs": [],
   "source": [
    "punct='!\"#$%&\\'()*+-/<=>?@[\\\\]^`{|}~'"
   ]
  },
  {
   "cell_type": "code",
   "execution_count": 13,
   "id": "f11b1641",
   "metadata": {
    "execution": {
     "iopub.execute_input": "2022-06-11T01:24:47.451571Z",
     "iopub.status.busy": "2022-06-11T01:24:47.451082Z",
     "iopub.status.idle": "2022-06-11T01:24:47.456208Z",
     "shell.execute_reply": "2022-06-11T01:24:47.455465Z"
    },
    "papermill": {
     "duration": 0.022261,
     "end_time": "2022-06-11T01:24:47.458128",
     "exception": false,
     "start_time": "2022-06-11T01:24:47.435867",
     "status": "completed"
    },
    "tags": []
   },
   "outputs": [],
   "source": [
    "def process(s):\n",
    "    s= re.sub(\"([\\(\\[]).*?([\\)\\]])\",\" \",s)\n",
    "    for p in punct:\n",
    "        s = s.replace(p, '')\n",
    "    s = word_tokenize(s)\n",
    "    s = [w for w in s if not w in stop_words] #optional\n",
    "    s = [lemmatizer.lemmatize(word) for word in s]\n",
    "    return s"
   ]
  },
  {
   "cell_type": "code",
   "execution_count": 14,
   "id": "06d6bbc7",
   "metadata": {
    "execution": {
     "iopub.execute_input": "2022-06-11T01:24:47.489147Z",
     "iopub.status.busy": "2022-06-11T01:24:47.488572Z",
     "iopub.status.idle": "2022-06-11T01:24:56.012840Z",
     "shell.execute_reply": "2022-06-11T01:24:56.011936Z"
    },
    "papermill": {
     "duration": 8.543491,
     "end_time": "2022-06-11T01:24:56.016081",
     "exception": false,
     "start_time": "2022-06-11T01:24:47.472590",
     "status": "completed"
    },
    "tags": []
   },
   "outputs": [
    {
     "name": "stderr",
     "output_type": "stream",
     "text": [
      "100%|██████████| 2136/2136 [00:08<00:00, 250.87it/s]\n"
     ]
    }
   ],
   "source": [
    "for i in tqdm(range(newdata.shape[0])):\n",
    "    all_text[i] = process(all_text[i])"
   ]
  },
  {
   "cell_type": "code",
   "execution_count": 15,
   "id": "209fc4a7",
   "metadata": {
    "execution": {
     "iopub.execute_input": "2022-06-11T01:24:56.054206Z",
     "iopub.status.busy": "2022-06-11T01:24:56.053911Z",
     "iopub.status.idle": "2022-06-11T01:24:56.791018Z",
     "shell.execute_reply": "2022-06-11T01:24:56.790136Z"
    },
    "papermill": {
     "duration": 0.758597,
     "end_time": "2022-06-11T01:24:56.793241",
     "exception": false,
     "start_time": "2022-06-11T01:24:56.034644",
     "status": "completed"
    },
    "tags": []
   },
   "outputs": [
    {
     "name": "stderr",
     "output_type": "stream",
     "text": [
      "100%|██████████| 2136/2136 [00:00<00:00, 2929.40it/s]\n"
     ]
    }
   ],
   "source": [
    "for i in tqdm(range(newdata.shape[0])):\n",
    "    all_text[i] = \" \".join(all_text[i])"
   ]
  },
  {
   "cell_type": "code",
   "execution_count": 16,
   "id": "c0447ae5",
   "metadata": {
    "execution": {
     "iopub.execute_input": "2022-06-11T01:24:56.833442Z",
     "iopub.status.busy": "2022-06-11T01:24:56.833109Z",
     "iopub.status.idle": "2022-06-11T01:24:56.840122Z",
     "shell.execute_reply": "2022-06-11T01:24:56.839285Z"
    },
    "papermill": {
     "duration": 0.029768,
     "end_time": "2022-06-11T01:24:56.842702",
     "exception": false,
     "start_time": "2022-06-11T01:24:56.812934",
     "status": "completed"
    },
    "tags": []
   },
   "outputs": [
    {
     "data": {
      "text/plain": [
       "0       I , I C Meekins , of Currituck County , State ...\n",
       "1       Department of Virginia North Carolina , 1864. ...\n",
       "2       I , W. H. Pearce , of Craven County , State of...\n",
       "3       State of North Carolina , ________ County . I ...\n",
       "4       State of North Carolina , Wake County . I , S....\n",
       "                              ...                        \n",
       "2131    Office Provost Marshal Raleigh , N.C. May 26 6...\n",
       "2132    July 30th 1867 Birnie Wm Agent Bu R F A L Oath...\n",
       "2133    State of North Carolina , Robeson County . I ,...\n",
       "2134    NARA 449 102 We whose name written well person...\n",
       "2135    NARA 450 404 Office Provost Marshall City of W...\n",
       "Name: transcription_text, Length: 2136, dtype: object"
      ]
     },
     "execution_count": 16,
     "metadata": {},
     "output_type": "execute_result"
    }
   ],
   "source": [
    "all_text"
   ]
  },
  {
   "cell_type": "code",
   "execution_count": null,
   "id": "116b9a2a",
   "metadata": {
    "papermill": {
     "duration": 0.018638,
     "end_time": "2022-06-11T01:24:56.880168",
     "exception": false,
     "start_time": "2022-06-11T01:24:56.861530",
     "status": "completed"
    },
    "tags": []
   },
   "outputs": [],
   "source": []
  },
  {
   "cell_type": "markdown",
   "id": "1ee78d16",
   "metadata": {
    "papermill": {
     "duration": 0.018852,
     "end_time": "2022-06-11T01:24:56.917729",
     "exception": false,
     "start_time": "2022-06-11T01:24:56.898877",
     "status": "completed"
    },
    "tags": []
   },
   "source": [
    "# Flair"
   ]
  },
  {
   "cell_type": "code",
   "execution_count": 17,
   "id": "66f26cd0",
   "metadata": {
    "execution": {
     "iopub.execute_input": "2022-06-11T01:24:56.956923Z",
     "iopub.status.busy": "2022-06-11T01:24:56.956352Z",
     "iopub.status.idle": "2022-06-11T01:25:57.933549Z",
     "shell.execute_reply": "2022-06-11T01:25:57.932446Z"
    },
    "papermill": {
     "duration": 60.999564,
     "end_time": "2022-06-11T01:25:57.936142",
     "exception": false,
     "start_time": "2022-06-11T01:24:56.936578",
     "status": "completed"
    },
    "tags": []
   },
   "outputs": [
    {
     "name": "stdout",
     "output_type": "stream",
     "text": [
      "Requirement already satisfied: Cython in /opt/conda/lib/python3.7/site-packages (0.29.30)\r\n",
      "\u001b[33mWARNING: Running pip as the 'root' user can result in broken permissions and conflicting behaviour with the system package manager. It is recommended to use a virtual environment instead: https://pip.pypa.io/warnings/venv\u001b[0m\u001b[33m\r\n",
      "\u001b[0mRequirement already satisfied: transformers in /opt/conda/lib/python3.7/site-packages (4.18.0)\r\n",
      "Requirement already satisfied: numpy>=1.17 in /opt/conda/lib/python3.7/site-packages (from transformers) (1.21.6)\r\n",
      "Requirement already satisfied: pyyaml>=5.1 in /opt/conda/lib/python3.7/site-packages (from transformers) (6.0)\r\n",
      "Requirement already satisfied: filelock in /opt/conda/lib/python3.7/site-packages (from transformers) (3.6.0)\r\n",
      "Requirement already satisfied: huggingface-hub<1.0,>=0.1.0 in /opt/conda/lib/python3.7/site-packages (from transformers) (0.5.1)\r\n",
      "Requirement already satisfied: importlib-metadata in /opt/conda/lib/python3.7/site-packages (from transformers) (4.11.4)\r\n",
      "Requirement already satisfied: packaging>=20.0 in /opt/conda/lib/python3.7/site-packages (from transformers) (21.3)\r\n",
      "Requirement already satisfied: regex!=2019.12.17 in /opt/conda/lib/python3.7/site-packages (from transformers) (2021.11.10)\r\n",
      "Requirement already satisfied: tokenizers!=0.11.3,<0.13,>=0.11.1 in /opt/conda/lib/python3.7/site-packages (from transformers) (0.12.1)\r\n",
      "Requirement already satisfied: requests in /opt/conda/lib/python3.7/site-packages (from transformers) (2.27.1)\r\n",
      "Requirement already satisfied: sacremoses in /opt/conda/lib/python3.7/site-packages (from transformers) (0.0.53)\r\n",
      "Requirement already satisfied: tqdm>=4.27 in /opt/conda/lib/python3.7/site-packages (from transformers) (4.64.0)\r\n",
      "Requirement already satisfied: typing-extensions>=3.7.4.3 in /opt/conda/lib/python3.7/site-packages (from huggingface-hub<1.0,>=0.1.0->transformers) (4.2.0)\r\n",
      "Requirement already satisfied: pyparsing!=3.0.5,>=2.0.2 in /opt/conda/lib/python3.7/site-packages (from packaging>=20.0->transformers) (3.0.9)\r\n",
      "Requirement already satisfied: zipp>=0.5 in /opt/conda/lib/python3.7/site-packages (from importlib-metadata->transformers) (3.8.0)\r\n",
      "Requirement already satisfied: charset-normalizer~=2.0.0 in /opt/conda/lib/python3.7/site-packages (from requests->transformers) (2.0.12)\r\n",
      "Requirement already satisfied: idna<4,>=2.5 in /opt/conda/lib/python3.7/site-packages (from requests->transformers) (3.3)\r\n",
      "Requirement already satisfied: urllib3<1.27,>=1.21.1 in /opt/conda/lib/python3.7/site-packages (from requests->transformers) (1.26.9)\r\n",
      "Requirement already satisfied: certifi>=2017.4.17 in /opt/conda/lib/python3.7/site-packages (from requests->transformers) (2022.5.18.1)\r\n",
      "Requirement already satisfied: click in /opt/conda/lib/python3.7/site-packages (from sacremoses->transformers) (8.0.4)\r\n",
      "Requirement already satisfied: joblib in /opt/conda/lib/python3.7/site-packages (from sacremoses->transformers) (1.1.0)\r\n",
      "Requirement already satisfied: six in /opt/conda/lib/python3.7/site-packages (from sacremoses->transformers) (1.16.0)\r\n",
      "\u001b[33mWARNING: Running pip as the 'root' user can result in broken permissions and conflicting behaviour with the system package manager. It is recommended to use a virtual environment instead: https://pip.pypa.io/warnings/venv\u001b[0m\u001b[33m\r\n",
      "\u001b[0mCollecting flair\r\n",
      "  Downloading flair-0.11.3-py3-none-any.whl (401 kB)\r\n",
      "\u001b[2K     \u001b[90m━━━━━━━━━━━━━━━━━━━━━━━━━━━━━━━━━━━━━━━\u001b[0m \u001b[32m401.9/401.9 kB\u001b[0m \u001b[31m2.1 MB/s\u001b[0m eta \u001b[36m0:00:00\u001b[0m\r\n",
      "\u001b[?25hRequirement already satisfied: transformers>=4.0.0 in /opt/conda/lib/python3.7/site-packages (from flair) (4.18.0)\r\n",
      "Requirement already satisfied: tabulate in /opt/conda/lib/python3.7/site-packages (from flair) (0.8.9)\r\n",
      "Collecting deprecated>=1.2.4\r\n",
      "  Downloading Deprecated-1.2.13-py2.py3-none-any.whl (9.6 kB)\r\n",
      "Requirement already satisfied: tqdm>=4.26.0 in /opt/conda/lib/python3.7/site-packages (from flair) (4.64.0)\r\n",
      "Requirement already satisfied: hyperopt>=0.2.7 in /opt/conda/lib/python3.7/site-packages (from flair) (0.2.7)\r\n",
      "Requirement already satisfied: scikit-learn>=0.21.3 in /opt/conda/lib/python3.7/site-packages (from flair) (1.0.2)\r\n",
      "Collecting pptree\r\n",
      "  Downloading pptree-3.1.tar.gz (3.0 kB)\r\n",
      "  Preparing metadata (setup.py) ... \u001b[?25l-\b \bdone\r\n",
      "\u001b[?25hCollecting ftfy\r\n",
      "  Downloading ftfy-6.1.1-py3-none-any.whl (53 kB)\r\n",
      "\u001b[2K     \u001b[90m━━━━━━━━━━━━━━━━━━━━━━━━━━━━━━━━━━━━━━━━\u001b[0m \u001b[32m53.1/53.1 kB\u001b[0m \u001b[31m4.7 MB/s\u001b[0m eta \u001b[36m0:00:00\u001b[0m\r\n",
      "\u001b[?25hCollecting gdown==4.4.0\r\n",
      "  Downloading gdown-4.4.0.tar.gz (14 kB)\r\n",
      "  Installing build dependencies ... \u001b[?25l-\b \b\\\b \b|\b \b/\b \b-\b \b\\\b \bdone\r\n",
      "\u001b[?25h  Getting requirements to build wheel ... \u001b[?25l-\b \b\\\b \b|\b \b/\b \b-\b \bdone\r\n",
      "\u001b[?25h  Preparing metadata (pyproject.toml) ... \u001b[?25l-\b \b\\\b \b|\b \b/\b \b-\b \bdone\r\n",
      "\u001b[?25hRequirement already satisfied: lxml in /opt/conda/lib/python3.7/site-packages (from flair) (4.8.0)\r\n",
      "Requirement already satisfied: python-dateutil>=2.6.1 in /opt/conda/lib/python3.7/site-packages (from flair) (2.8.2)\r\n",
      "Collecting wikipedia-api\r\n",
      "  Downloading Wikipedia-API-0.5.4.tar.gz (18 kB)\r\n",
      "  Preparing metadata (setup.py) ... \u001b[?25l-\b \bdone\r\n",
      "\u001b[?25hRequirement already satisfied: more-itertools in /opt/conda/lib/python3.7/site-packages (from flair) (8.13.0)\r\n",
      "Collecting bpemb>=0.3.2\r\n",
      "  Downloading bpemb-0.3.3-py3-none-any.whl (19 kB)\r\n",
      "Collecting sentencepiece==0.1.95\r\n",
      "  Downloading sentencepiece-0.1.95-cp37-cp37m-manylinux2014_x86_64.whl (1.2 MB)\r\n",
      "\u001b[2K     \u001b[90m━━━━━━━━━━━━━━━━━━━━━━━━━━━━━━━━━━━━━━━━\u001b[0m \u001b[32m1.2/1.2 MB\u001b[0m \u001b[31m12.5 MB/s\u001b[0m eta \u001b[36m0:00:00\u001b[0m\r\n",
      "\u001b[?25hRequirement already satisfied: regex in /opt/conda/lib/python3.7/site-packages (from flair) (2021.11.10)\r\n",
      "Requirement already satisfied: torch!=1.8,>=1.5.0 in /opt/conda/lib/python3.7/site-packages (from flair) (1.11.0)\r\n",
      "Collecting conllu>=4.0\r\n",
      "  Downloading conllu-4.4.2-py2.py3-none-any.whl (15 kB)\r\n",
      "Collecting sqlitedict>=1.6.0\r\n",
      "  Downloading sqlitedict-2.0.0.tar.gz (46 kB)\r\n",
      "\u001b[2K     \u001b[90m━━━━━━━━━━━━━━━━━━━━━━━━━━━━━━━━━━━━━━━━\u001b[0m \u001b[32m46.3/46.3 kB\u001b[0m \u001b[31m3.8 MB/s\u001b[0m eta \u001b[36m0:00:00\u001b[0m\r\n",
      "\u001b[?25h  Preparing metadata (setup.py) ... \u001b[?25l-\b \bdone\r\n",
      "\u001b[?25hCollecting konoha<5.0.0,>=4.0.0\r\n",
      "  Downloading konoha-4.6.5-py3-none-any.whl (20 kB)\r\n",
      "Collecting mpld3==0.3\r\n",
      "  Downloading mpld3-0.3.tar.gz (788 kB)\r\n",
      "\u001b[2K     \u001b[90m━━━━━━━━━━━━━━━━━━━━━━━━━━━━━━━━━━━━━━\u001b[0m \u001b[32m788.5/788.5 kB\u001b[0m \u001b[31m33.1 MB/s\u001b[0m eta \u001b[36m0:00:00\u001b[0m\r\n",
      "\u001b[?25h  Preparing metadata (setup.py) ... \u001b[?25l-\b \bdone\r\n",
      "\u001b[?25hCollecting segtok>=1.5.7\r\n",
      "  Downloading segtok-1.5.11-py3-none-any.whl (24 kB)\r\n",
      "Requirement already satisfied: gensim>=3.4.0 in /opt/conda/lib/python3.7/site-packages (from flair) (4.0.1)\r\n",
      "Requirement already satisfied: matplotlib>=2.2.3 in /opt/conda/lib/python3.7/site-packages (from flair) (3.5.2)\r\n",
      "Requirement already satisfied: janome in /opt/conda/lib/python3.7/site-packages (from flair) (0.4.2)\r\n",
      "Collecting langdetect\r\n",
      "  Downloading langdetect-1.0.9.tar.gz (981 kB)\r\n",
      "\u001b[2K     \u001b[90m━━━━━━━━━━━━━━━━━━━━━━━━━━━━━━━━━━━━━━\u001b[0m \u001b[32m981.5/981.5 kB\u001b[0m \u001b[31m38.0 MB/s\u001b[0m eta \u001b[36m0:00:00\u001b[0m\r\n",
      "\u001b[?25h  Preparing metadata (setup.py) ... \u001b[?25l-\b \bdone\r\n",
      "\u001b[?25hRequirement already satisfied: huggingface-hub in /opt/conda/lib/python3.7/site-packages (from flair) (0.5.1)\r\n",
      "Requirement already satisfied: six in /opt/conda/lib/python3.7/site-packages (from gdown==4.4.0->flair) (1.16.0)\r\n",
      "Requirement already satisfied: beautifulsoup4 in /opt/conda/lib/python3.7/site-packages (from gdown==4.4.0->flair) (4.11.1)\r\n",
      "Requirement already satisfied: requests[socks] in /opt/conda/lib/python3.7/site-packages (from gdown==4.4.0->flair) (2.27.1)\r\n",
      "Requirement already satisfied: filelock in /opt/conda/lib/python3.7/site-packages (from gdown==4.4.0->flair) (3.6.0)\r\n",
      "Requirement already satisfied: numpy in /opt/conda/lib/python3.7/site-packages (from bpemb>=0.3.2->flair) (1.21.6)\r\n",
      "Requirement already satisfied: wrapt<2,>=1.10 in /opt/conda/lib/python3.7/site-packages (from deprecated>=1.2.4->flair) (1.14.1)\r\n",
      "Requirement already satisfied: smart-open>=1.8.1 in /opt/conda/lib/python3.7/site-packages (from gensim>=3.4.0->flair) (5.2.1)\r\n",
      "Requirement already satisfied: scipy>=0.18.1 in /opt/conda/lib/python3.7/site-packages (from gensim>=3.4.0->flair) (1.7.3)\r\n",
      "Requirement already satisfied: networkx>=2.2 in /opt/conda/lib/python3.7/site-packages (from hyperopt>=0.2.7->flair) (2.5)\r\n",
      "Requirement already satisfied: py4j in /opt/conda/lib/python3.7/site-packages (from hyperopt>=0.2.7->flair) (0.10.9.5)\r\n",
      "Requirement already satisfied: cloudpickle in /opt/conda/lib/python3.7/site-packages (from hyperopt>=0.2.7->flair) (2.0.0)\r\n",
      "Requirement already satisfied: future in /opt/conda/lib/python3.7/site-packages (from hyperopt>=0.2.7->flair) (0.18.2)\r\n",
      "Collecting overrides<4.0.0,>=3.0.0\r\n",
      "  Downloading overrides-3.1.0.tar.gz (11 kB)\r\n",
      "  Preparing metadata (setup.py) ... \u001b[?25l-\b \bdone\r\n",
      "\u001b[?25hCollecting importlib-metadata<4.0.0,>=3.7.0\r\n",
      "  Downloading importlib_metadata-3.10.1-py3-none-any.whl (14 kB)\r\n",
      "Requirement already satisfied: cycler>=0.10 in /opt/conda/lib/python3.7/site-packages (from matplotlib>=2.2.3->flair) (0.11.0)\r\n",
      "Requirement already satisfied: pyparsing>=2.2.1 in /opt/conda/lib/python3.7/site-packages (from matplotlib>=2.2.3->flair) (3.0.9)\r\n",
      "Requirement already satisfied: kiwisolver>=1.0.1 in /opt/conda/lib/python3.7/site-packages (from matplotlib>=2.2.3->flair) (1.4.2)\r\n",
      "Requirement already satisfied: fonttools>=4.22.0 in /opt/conda/lib/python3.7/site-packages (from matplotlib>=2.2.3->flair) (4.33.3)\r\n",
      "Requirement already satisfied: pillow>=6.2.0 in /opt/conda/lib/python3.7/site-packages (from matplotlib>=2.2.3->flair) (9.1.0)\r\n",
      "Requirement already satisfied: packaging>=20.0 in /opt/conda/lib/python3.7/site-packages (from matplotlib>=2.2.3->flair) (21.3)\r\n",
      "Requirement already satisfied: threadpoolctl>=2.0.0 in /opt/conda/lib/python3.7/site-packages (from scikit-learn>=0.21.3->flair) (3.1.0)\r\n",
      "Requirement already satisfied: joblib>=0.11 in /opt/conda/lib/python3.7/site-packages (from scikit-learn>=0.21.3->flair) (1.1.0)\r\n",
      "Requirement already satisfied: typing-extensions in /opt/conda/lib/python3.7/site-packages (from torch!=1.8,>=1.5.0->flair) (4.2.0)\r\n",
      "Requirement already satisfied: sacremoses in /opt/conda/lib/python3.7/site-packages (from transformers>=4.0.0->flair) (0.0.53)\r\n",
      "Requirement already satisfied: tokenizers!=0.11.3,<0.13,>=0.11.1 in /opt/conda/lib/python3.7/site-packages (from transformers>=4.0.0->flair) (0.12.1)\r\n",
      "Requirement already satisfied: pyyaml>=5.1 in /opt/conda/lib/python3.7/site-packages (from transformers>=4.0.0->flair) (6.0)\r\n",
      "Requirement already satisfied: wcwidth>=0.2.5 in /opt/conda/lib/python3.7/site-packages (from ftfy->flair) (0.2.5)\r\n",
      "Requirement already satisfied: zipp>=0.5 in /opt/conda/lib/python3.7/site-packages (from importlib-metadata<4.0.0,>=3.7.0->konoha<5.0.0,>=4.0.0->flair) (3.8.0)\r\n",
      "Requirement already satisfied: decorator>=4.3.0 in /opt/conda/lib/python3.7/site-packages (from networkx>=2.2->hyperopt>=0.2.7->flair) (5.1.1)\r\n",
      "Requirement already satisfied: certifi>=2017.4.17 in /opt/conda/lib/python3.7/site-packages (from requests[socks]->gdown==4.4.0->flair) (2022.5.18.1)\r\n",
      "Requirement already satisfied: charset-normalizer~=2.0.0 in /opt/conda/lib/python3.7/site-packages (from requests[socks]->gdown==4.4.0->flair) (2.0.12)\r\n",
      "Requirement already satisfied: idna<4,>=2.5 in /opt/conda/lib/python3.7/site-packages (from requests[socks]->gdown==4.4.0->flair) (3.3)\r\n",
      "Requirement already satisfied: urllib3<1.27,>=1.21.1 in /opt/conda/lib/python3.7/site-packages (from requests[socks]->gdown==4.4.0->flair) (1.26.9)\r\n",
      "Requirement already satisfied: soupsieve>1.2 in /opt/conda/lib/python3.7/site-packages (from beautifulsoup4->gdown==4.4.0->flair) (2.3.1)\r\n",
      "Requirement already satisfied: PySocks!=1.5.7,>=1.5.6 in /opt/conda/lib/python3.7/site-packages (from requests[socks]->gdown==4.4.0->flair) (1.7.1)\r\n",
      "Requirement already satisfied: click in /opt/conda/lib/python3.7/site-packages (from sacremoses->transformers>=4.0.0->flair) (8.0.4)\r\n",
      "Building wheels for collected packages: gdown, mpld3, sqlitedict, langdetect, pptree, wikipedia-api, overrides\r\n",
      "  Building wheel for gdown (pyproject.toml) ... \u001b[?25l-\b \b\\\b \b|\b \b/\b \b-\b \b\\\b \b|\b \bdone\r\n",
      "\u001b[?25h  Created wheel for gdown: filename=gdown-4.4.0-py3-none-any.whl size=14759 sha256=a58b8492cc941b6e996ff87149d3b5e2e2fe51955c80db3a2c73bced40b8409a\r\n",
      "  Stored in directory: /root/.cache/pip/wheels/fb/c3/0e/c4d8ff8bfcb0461afff199471449f642179b74968c15b7a69c\r\n",
      "  Building wheel for mpld3 (setup.py) ... \u001b[?25l-\b \b\\\b \bdone\r\n",
      "\u001b[?25h  Created wheel for mpld3: filename=mpld3-0.3-py3-none-any.whl size=116702 sha256=bd591a65b6adbbc6c9d7a0241c187290d4b8efa94e06ab2f8d340395dfeff436\r\n",
      "  Stored in directory: /root/.cache/pip/wheels/26/70/6a/1c79e59951a41b4045497da187b2724f5659ca64033cf4548e\r\n",
      "  Building wheel for sqlitedict (setup.py) ... \u001b[?25l-\b \bdone\r\n",
      "\u001b[?25h  Created wheel for sqlitedict: filename=sqlitedict-2.0.0-py3-none-any.whl size=15736 sha256=30bb17cb91d2ecfcbad0b25c326bc9d4c2fba26ac070b7f4f3469ff7b4bc6b87\r\n",
      "  Stored in directory: /root/.cache/pip/wheels/96/dd/2e/0ed4a25cb73fc30c7ea8d10b50acb7226175736067e40a7ea3\r\n",
      "  Building wheel for langdetect (setup.py) ... \u001b[?25l-\b \b\\\b \b|\b \b/\b \bdone\r\n",
      "\u001b[?25h  Created wheel for langdetect: filename=langdetect-1.0.9-py3-none-any.whl size=993242 sha256=2b22106bb7dadd055758e905fe244b64b40e6c6ea2ec03d332c9d4ef6c206c98\r\n",
      "  Stored in directory: /root/.cache/pip/wheels/c5/96/8a/f90c59ed25d75e50a8c10a1b1c2d4c402e4dacfa87f3aff36a\r\n",
      "  Building wheel for pptree (setup.py) ... \u001b[?25l-\b \bdone\r\n",
      "\u001b[?25h  Created wheel for pptree: filename=pptree-3.1-py3-none-any.whl size=4629 sha256=857976e019ddac243506bf1ba9aac9254cbb9f07afda30c8cbbd713bb7c64d00\r\n",
      "  Stored in directory: /root/.cache/pip/wheels/9e/e8/7d/a9c3c19b4722608a0d8b05a38c36bc3f230c43becd2a46794b\r\n",
      "  Building wheel for wikipedia-api (setup.py) ... \u001b[?25l-\b \b\\\b \bdone\r\n",
      "\u001b[?25h  Created wheel for wikipedia-api: filename=Wikipedia_API-0.5.4-py3-none-any.whl size=13477 sha256=b7dfb7180e0e01e7b54c9da19f8bd16d3b820948f53bb39cdfd4d17b2e7b8b4d\r\n",
      "  Stored in directory: /root/.cache/pip/wheels/d3/24/56/58ba93cf78be162451144e7a9889603f437976ef1ae7013d04\r\n",
      "  Building wheel for overrides (setup.py) ... \u001b[?25l-\b \bdone\r\n",
      "\u001b[?25h  Created wheel for overrides: filename=overrides-3.1.0-py3-none-any.whl size=10187 sha256=8999df6fa128de36c7d55b04e6fdab8a4e55dc19b6653265b6dd8e6554f9f3f0\r\n",
      "  Stored in directory: /root/.cache/pip/wheels/3a/0d/38/01a9bc6e20dcfaf0a6a7b552d03137558ba1c38aea47644682\r\n",
      "Successfully built gdown mpld3 sqlitedict langdetect pptree wikipedia-api overrides\r\n",
      "Installing collected packages: sqlitedict, sentencepiece, pptree, overrides, mpld3, segtok, langdetect, importlib-metadata, ftfy, deprecated, conllu, wikipedia-api, konoha, gdown, bpemb, flair\r\n",
      "  Attempting uninstall: sentencepiece\r\n",
      "    Found existing installation: sentencepiece 0.1.96\r\n",
      "    Uninstalling sentencepiece-0.1.96:\r\n",
      "      Successfully uninstalled sentencepiece-0.1.96\r\n",
      "  Attempting uninstall: overrides\r\n",
      "    Found existing installation: overrides 6.1.0\r\n",
      "    Uninstalling overrides-6.1.0:\r\n",
      "      Successfully uninstalled overrides-6.1.0\r\n",
      "  Attempting uninstall: mpld3\r\n",
      "    Found existing installation: mpld3 0.5.7\r\n",
      "    Uninstalling mpld3-0.5.7:\r\n",
      "      Successfully uninstalled mpld3-0.5.7\r\n",
      "  Attempting uninstall: importlib-metadata\r\n",
      "    Found existing installation: importlib-metadata 4.11.4\r\n",
      "    Uninstalling importlib-metadata-4.11.4:\r\n",
      "      Successfully uninstalled importlib-metadata-4.11.4\r\n",
      "\u001b[31mERROR: pip's dependency resolver does not currently take into account all the packages that are installed. This behaviour is the source of the following dependency conflicts.\r\n",
      "markdown 3.3.7 requires importlib-metadata>=4.4; python_version < \"3.10\", but you have importlib-metadata 3.10.1 which is incompatible.\r\n",
      "ibis-framework 2.1.1 requires importlib-metadata<5,>=4; python_version < \"3.8\", but you have importlib-metadata 3.10.1 which is incompatible.\r\n",
      "gym 0.23.1 requires importlib-metadata>=4.10.0; python_version < \"3.10\", but you have importlib-metadata 3.10.1 which is incompatible.\r\n",
      "google-cloud-pubsublite 1.4.2 requires overrides<7.0.0,>=6.0.1, but you have overrides 3.1.0 which is incompatible.\u001b[0m\u001b[31m\r\n",
      "\u001b[0mSuccessfully installed bpemb-0.3.3 conllu-4.4.2 deprecated-1.2.13 flair-0.11.3 ftfy-6.1.1 gdown-4.4.0 importlib-metadata-3.10.1 konoha-4.6.5 langdetect-1.0.9 mpld3-0.3 overrides-3.1.0 pptree-3.1 segtok-1.5.11 sentencepiece-0.1.95 sqlitedict-2.0.0 wikipedia-api-0.5.4\r\n",
      "\u001b[33mWARNING: Running pip as the 'root' user can result in broken permissions and conflicting behaviour with the system package manager. It is recommended to use a virtual environment instead: https://pip.pypa.io/warnings/venv\u001b[0m\u001b[33m\r\n",
      "\u001b[0m"
     ]
    }
   ],
   "source": [
    "!pip3 install Cython\n",
    "!pip install transformers\n",
    "!pip install flair"
   ]
  },
  {
   "cell_type": "markdown",
   "id": "08603a81",
   "metadata": {
    "papermill": {
     "duration": 0.025793,
     "end_time": "2022-06-11T01:25:57.988690",
     "exception": false,
     "start_time": "2022-06-11T01:25:57.962897",
     "status": "completed"
    },
    "tags": []
   },
   "source": [
    "# Hugging face  : Flair"
   ]
  },
  {
   "cell_type": "markdown",
   "id": "32111449",
   "metadata": {
    "papermill": {
     "duration": 0.025709,
     "end_time": "2022-06-11T01:25:58.043190",
     "exception": false,
     "start_time": "2022-06-11T01:25:58.017481",
     "status": "completed"
    },
    "tags": []
   },
   "source": [
    "**ner-english** "
   ]
  },
  {
   "cell_type": "code",
   "execution_count": 18,
   "id": "465767fb",
   "metadata": {
    "execution": {
     "iopub.execute_input": "2022-06-11T01:25:58.097490Z",
     "iopub.status.busy": "2022-06-11T01:25:58.097099Z",
     "iopub.status.idle": "2022-06-11T01:26:00.357891Z",
     "shell.execute_reply": "2022-06-11T01:26:00.356842Z"
    },
    "papermill": {
     "duration": 2.290764,
     "end_time": "2022-06-11T01:26:00.359946",
     "exception": false,
     "start_time": "2022-06-11T01:25:58.069182",
     "status": "completed"
    },
    "tags": []
   },
   "outputs": [
    {
     "name": "stdout",
     "output_type": "stream",
     "text": [
      "git: 'lfs' is not a git command. See 'git --help'.\r\n",
      "\r\n",
      "The most similar command is\r\n",
      "\tlog\r\n",
      "Cloning into 'ner-english-large'...\r\n",
      "remote: Enumerating objects: 25, done.\u001b[K\r\n",
      "remote: Counting objects: 100% (25/25), done.\u001b[K\r\n",
      "remote: Compressing objects: 100% (24/24), done.\u001b[K\r\n",
      "remote: Total 25 (delta 10), reused 0 (delta 0), pack-reused 0\u001b[K\r\n",
      "Unpacking objects: 100% (25/25), 11.03 KiB | 1.38 MiB/s, done.\r\n"
     ]
    }
   ],
   "source": [
    "!git lfs install\n",
    "!git clone https://huggingface.co/flair/ner-english-large"
   ]
  },
  {
   "cell_type": "code",
   "execution_count": 19,
   "id": "f1922ce2",
   "metadata": {
    "execution": {
     "iopub.execute_input": "2022-06-11T01:26:00.415353Z",
     "iopub.status.busy": "2022-06-11T01:26:00.414501Z",
     "iopub.status.idle": "2022-06-11T01:28:08.572429Z",
     "shell.execute_reply": "2022-06-11T01:28:08.571442Z"
    },
    "papermill": {
     "duration": 128.187912,
     "end_time": "2022-06-11T01:28:08.574656",
     "exception": false,
     "start_time": "2022-06-11T01:26:00.386744",
     "status": "completed"
    },
    "tags": []
   },
   "outputs": [
    {
     "data": {
      "application/vnd.jupyter.widget-view+json": {
       "model_id": "72effd1b3e5c4271ae4bffec2b2339f6",
       "version_major": 2,
       "version_minor": 0
      },
      "text/plain": [
       "Downloading:   0%|          | 0.00/2.24G [00:00<?, ?B/s]"
      ]
     },
     "metadata": {},
     "output_type": "display_data"
    },
    {
     "name": "stdout",
     "output_type": "stream",
     "text": [
      "2022-06-11 01:27:42,370 loading file /root/.flair/models/ner-english-ontonotes-large/2da6c2cdd76e59113033adf670340bfd820f0301ae2e39204d67ba2dc276cc28.ec1bdb304b6c66111532c3b1fc6e522460ae73f1901848a4d0362cdf9760edb1\n"
     ]
    },
    {
     "data": {
      "application/vnd.jupyter.widget-view+json": {
       "model_id": "d3d7a999e47c4b359e21bfcd0bcc3748",
       "version_major": 2,
       "version_minor": 0
      },
      "text/plain": [
       "Downloading:   0%|          | 0.00/616 [00:00<?, ?B/s]"
      ]
     },
     "metadata": {},
     "output_type": "display_data"
    },
    {
     "data": {
      "application/vnd.jupyter.widget-view+json": {
       "model_id": "bfe5513357ae49f4a0b174cc2b26a1bc",
       "version_major": 2,
       "version_minor": 0
      },
      "text/plain": [
       "Downloading:   0%|          | 0.00/4.83M [00:00<?, ?B/s]"
      ]
     },
     "metadata": {},
     "output_type": "display_data"
    },
    {
     "data": {
      "application/vnd.jupyter.widget-view+json": {
       "model_id": "14f531ce7f814f1eaec93ed159a6f536",
       "version_major": 2,
       "version_minor": 0
      },
      "text/plain": [
       "Downloading:   0%|          | 0.00/8.68M [00:00<?, ?B/s]"
      ]
     },
     "metadata": {},
     "output_type": "display_data"
    },
    {
     "name": "stdout",
     "output_type": "stream",
     "text": [
      "2022-06-11 01:28:07,908 SequenceTagger predicts: Dictionary with 76 tags: <unk>, O, B-CARDINAL, E-CARDINAL, S-PERSON, S-CARDINAL, S-PRODUCT, B-PRODUCT, I-PRODUCT, E-PRODUCT, B-WORK_OF_ART, I-WORK_OF_ART, E-WORK_OF_ART, B-PERSON, E-PERSON, S-GPE, B-DATE, I-DATE, E-DATE, S-ORDINAL, S-LANGUAGE, I-PERSON, S-EVENT, S-DATE, B-QUANTITY, E-QUANTITY, S-TIME, B-TIME, I-TIME, E-TIME, B-GPE, E-GPE, S-ORG, I-GPE, S-NORP, B-FAC, I-FAC, E-FAC, B-NORP, E-NORP, S-PERCENT, B-ORG, E-ORG, B-LANGUAGE, E-LANGUAGE, I-CARDINAL, I-ORG, S-WORK_OF_ART, I-QUANTITY, B-MONEY\n"
     ]
    }
   ],
   "source": [
    "from flair.models import SequenceTagger\n",
    "\n",
    "tagger = SequenceTagger.load(\"flair/ner-english-ontonotes-large\")"
   ]
  },
  {
   "cell_type": "code",
   "execution_count": 20,
   "id": "fa7750c0",
   "metadata": {
    "execution": {
     "iopub.execute_input": "2022-06-11T01:28:08.631430Z",
     "iopub.status.busy": "2022-06-11T01:28:08.631050Z",
     "iopub.status.idle": "2022-06-11T01:30:05.870547Z",
     "shell.execute_reply": "2022-06-11T01:30:05.869674Z"
    },
    "papermill": {
     "duration": 117.270217,
     "end_time": "2022-06-11T01:30:05.872704",
     "exception": false,
     "start_time": "2022-06-11T01:28:08.602487",
     "status": "completed"
    },
    "tags": []
   },
   "outputs": [
    {
     "data": {
      "application/vnd.jupyter.widget-view+json": {
       "model_id": "95b11aaf6ba64ad59dc41124178ccaf7",
       "version_major": 2,
       "version_minor": 0
      },
      "text/plain": [
       "Downloading:   0%|          | 0.00/2.24G [00:00<?, ?B/s]"
      ]
     },
     "metadata": {},
     "output_type": "display_data"
    },
    {
     "name": "stdout",
     "output_type": "stream",
     "text": [
      "2022-06-11 01:29:48,205 loading file /root/.flair/models/ner-english-large/07301f59bb8cb113803be316267f06ddf9243cdbba92a4c8067ef92442d2c574.554244d3476d97501a766a98078421817b14654496b86f2f7bd139dc502a4f29\n",
      "2022-06-11 01:30:05,242 SequenceTagger predicts: Dictionary with 20 tags: <unk>, O, S-ORG, S-MISC, B-PER, E-PER, S-LOC, B-ORG, E-ORG, I-PER, S-PER, B-MISC, I-MISC, E-MISC, I-ORG, B-LOC, E-LOC, I-LOC, <START>, <STOP>\n"
     ]
    }
   ],
   "source": [
    "from flair.models import SequenceTagger\n",
    "\n",
    "tagger2 = SequenceTagger.load(\"flair/ner-english-large\")"
   ]
  },
  {
   "cell_type": "markdown",
   "id": "2f6a3226",
   "metadata": {
    "papermill": {
     "duration": 0.027382,
     "end_time": "2022-06-11T01:30:05.928162",
     "exception": false,
     "start_time": "2022-06-11T01:30:05.900780",
     "status": "completed"
    },
    "tags": []
   },
   "source": [
    "tagger3 nerenglishlarge"
   ]
  },
  {
   "cell_type": "code",
   "execution_count": 21,
   "id": "49600e14",
   "metadata": {
    "execution": {
     "iopub.execute_input": "2022-06-11T01:30:05.985711Z",
     "iopub.status.busy": "2022-06-11T01:30:05.985348Z",
     "iopub.status.idle": "2022-06-11T01:32:08.620755Z",
     "shell.execute_reply": "2022-06-11T01:32:08.619893Z"
    },
    "papermill": {
     "duration": 122.667263,
     "end_time": "2022-06-11T01:32:08.623007",
     "exception": false,
     "start_time": "2022-06-11T01:30:05.955744",
     "status": "completed"
    },
    "tags": []
   },
   "outputs": [],
   "source": [
    "listenglarge=[]\n",
    "label=[]\n",
    "Per=[]\n",
    "ORG=[]\n",
    "LOC=[]\n",
    "from flair.data import Sentence\n",
    "\n",
    "dflarge=pd.DataFrame({\"text\":\"\", \"PERSON-nerenglarge\":[], \"LOC-nerenglarge\":\"\",\"ORG-nerenglarge\":\"\"})\n",
    "for i in range(2136):\n",
    "        sentencess =Sentence(all_text[i])\n",
    "        dflarge.loc[i,\"text\"]=all_text[i]\n",
    "        tagger2.predict(sentencess)\n",
    "        dc={}\n",
    "        P=[]\n",
    "        L=[]\n",
    "        G=[]\n",
    "        O=[]\n",
    "        for entity in sentencess.get_spans('ner'):\n",
    "                     \n",
    "                     if (entity.get_label(\"ner\").score > 0.90) & (entity.get_label(\"ner\").value != \"CARDINAL\") & (entity.get_label(\"ner\").value != \"LAW\")& (entity.get_label(\"ner\").value != \"QUANTITY\") & (entity.get_label(\"ner\").value != \"WORK_OF_ART\") & (entity.get_label(\"ner\").value != \"LAW\")& (entity.get_label(\"ner\").value != \"QUANTITY\") & (entity.get_label(\"ner\").value != \"EVENT\")  :\n",
    "                        dc[entity.text]= entity.get_label(\"ner\").value \n",
    "                        listenglarge.append(entity)\n",
    "        \n",
    "        \n",
    "        for j in dc :\n",
    "                if dc[j]==\"PER\":\n",
    "                      P.append(j)\n",
    "                elif (dc[j]==\"ORG\") | (dc[j]==\"MISC\") :\n",
    "                      O.append(j)\n",
    "                elif dc[j]==\"LOC\":\n",
    "                      L.append(j)\n",
    "               \n",
    "        Per.append(P)\n",
    "        ORG.append(O)\n",
    "        LOC.append(L)\n",
    "            \n",
    "\n",
    "dflarge[\"PERSON-nerenglarge\"]=Per\n",
    "dflarge[\"LOC-nerenglarge\"]=LOC\n",
    "dflarge[\"ORG-nerenglarge\"]=ORG                        "
   ]
  },
  {
   "cell_type": "code",
   "execution_count": 22,
   "id": "398620d7",
   "metadata": {
    "execution": {
     "iopub.execute_input": "2022-06-11T01:32:08.680618Z",
     "iopub.status.busy": "2022-06-11T01:32:08.680291Z",
     "iopub.status.idle": "2022-06-11T01:32:08.706864Z",
     "shell.execute_reply": "2022-06-11T01:32:08.706025Z"
    },
    "papermill": {
     "duration": 0.057655,
     "end_time": "2022-06-11T01:32:08.709044",
     "exception": false,
     "start_time": "2022-06-11T01:32:08.651389",
     "status": "completed"
    },
    "tags": []
   },
   "outputs": [
    {
     "data": {
      "text/html": [
       "<div>\n",
       "<style scoped>\n",
       "    .dataframe tbody tr th:only-of-type {\n",
       "        vertical-align: middle;\n",
       "    }\n",
       "\n",
       "    .dataframe tbody tr th {\n",
       "        vertical-align: top;\n",
       "    }\n",
       "\n",
       "    .dataframe thead th {\n",
       "        text-align: right;\n",
       "    }\n",
       "</style>\n",
       "<table border=\"1\" class=\"dataframe\">\n",
       "  <thead>\n",
       "    <tr style=\"text-align: right;\">\n",
       "      <th></th>\n",
       "      <th>text</th>\n",
       "      <th>PERSON-nerenglarge</th>\n",
       "      <th>LOC-nerenglarge</th>\n",
       "      <th>ORG-nerenglarge</th>\n",
       "    </tr>\n",
       "  </thead>\n",
       "  <tbody>\n",
       "    <tr>\n",
       "      <th>0</th>\n",
       "      <td>I , I C Meekins , of Currituck County , State ...</td>\n",
       "      <td>[I C Meekins, Almighty, God, Isaac C. Meekins,...</td>\n",
       "      <td>[Currituck County, State of North Carolina, Un...</td>\n",
       "      <td>[Constitution]</td>\n",
       "    </tr>\n",
       "    <tr>\n",
       "      <th>1</th>\n",
       "      <td>Department of Virginia North Carolina , 1864. ...</td>\n",
       "      <td>[]</td>\n",
       "      <td>[North Carolina, United States, States]</td>\n",
       "      <td>[Department of Virginia, OATH PAROLE]</td>\n",
       "    </tr>\n",
       "    <tr>\n",
       "      <th>2</th>\n",
       "      <td>I , W. H. Pearce , of Craven County , State of...</td>\n",
       "      <td>[W. H. Pearce, Almighty, God, E. Ampetts, W . ...</td>\n",
       "      <td>[Craven County, State of NorthCarolina, United...</td>\n",
       "      <td>[Constitution]</td>\n",
       "    </tr>\n",
       "    <tr>\n",
       "      <th>3</th>\n",
       "      <td>State of North Carolina , ________ County . I ...</td>\n",
       "      <td>[God]</td>\n",
       "      <td>[State of, North Carolina, United States]</td>\n",
       "      <td>[Constitution]</td>\n",
       "    </tr>\n",
       "    <tr>\n",
       "      <th>4</th>\n",
       "      <td>State of North Carolina , Wake County . I , S....</td>\n",
       "      <td>[S.E, God, T.D, McAlpine]</td>\n",
       "      <td>[State of, North Carolina, Wake County, United...</td>\n",
       "      <td>[Constitution, Res . Corp]</td>\n",
       "    </tr>\n",
       "    <tr>\n",
       "      <th>...</th>\n",
       "      <td>...</td>\n",
       "      <td>...</td>\n",
       "      <td>...</td>\n",
       "      <td>...</td>\n",
       "    </tr>\n",
       "    <tr>\n",
       "      <th>2131</th>\n",
       "      <td>Office Provost Marshal Raleigh , N.C. May 26 6...</td>\n",
       "      <td>[Geo . Little, Geo, B. Ayer, Hugo Hillebrandt]</td>\n",
       "      <td>[Raleigh, N.C., Wake County, State of N.C, Uni...</td>\n",
       "      <td>[]</td>\n",
       "    </tr>\n",
       "    <tr>\n",
       "      <th>2132</th>\n",
       "      <td>July 30th 1867 Birnie Wm Agent Bu R F A L Oath...</td>\n",
       "      <td>[]</td>\n",
       "      <td>[]</td>\n",
       "      <td>[]</td>\n",
       "    </tr>\n",
       "    <tr>\n",
       "      <th>2133</th>\n",
       "      <td>State of North Carolina , Robeson County . I ,...</td>\n",
       "      <td>[William Birnie, God, Wm Birnie, W.A]</td>\n",
       "      <td>[State of, North Carolina, Robeson County, Uni...</td>\n",
       "      <td>[Constitution]</td>\n",
       "    </tr>\n",
       "    <tr>\n",
       "      <th>2134</th>\n",
       "      <td>NARA 449 102 We whose name written well person...</td>\n",
       "      <td>[Price, James Fulton, Sgd W . N. Peden, Miles ...</td>\n",
       "      <td>[State of North Carolina, New Hanover County, ...</td>\n",
       "      <td>[Fulton Price, Confederate Government, Court o...</td>\n",
       "    </tr>\n",
       "    <tr>\n",
       "      <th>2135</th>\n",
       "      <td>NARA 450 404 Office Provost Marshall City of W...</td>\n",
       "      <td>[Marshall, James Fulton, God, Wm A. Cutler, I,...</td>\n",
       "      <td>[City of Wilmington, N.C, United States, North...</td>\n",
       "      <td>[NARA, Constitution of, Slaves]</td>\n",
       "    </tr>\n",
       "  </tbody>\n",
       "</table>\n",
       "<p>2136 rows × 4 columns</p>\n",
       "</div>"
      ],
      "text/plain": [
       "                                                   text  \\\n",
       "0     I , I C Meekins , of Currituck County , State ...   \n",
       "1     Department of Virginia North Carolina , 1864. ...   \n",
       "2     I , W. H. Pearce , of Craven County , State of...   \n",
       "3     State of North Carolina , ________ County . I ...   \n",
       "4     State of North Carolina , Wake County . I , S....   \n",
       "...                                                 ...   \n",
       "2131  Office Provost Marshal Raleigh , N.C. May 26 6...   \n",
       "2132  July 30th 1867 Birnie Wm Agent Bu R F A L Oath...   \n",
       "2133  State of North Carolina , Robeson County . I ,...   \n",
       "2134  NARA 449 102 We whose name written well person...   \n",
       "2135  NARA 450 404 Office Provost Marshall City of W...   \n",
       "\n",
       "                                     PERSON-nerenglarge  \\\n",
       "0     [I C Meekins, Almighty, God, Isaac C. Meekins,...   \n",
       "1                                                    []   \n",
       "2     [W. H. Pearce, Almighty, God, E. Ampetts, W . ...   \n",
       "3                                                 [God]   \n",
       "4                             [S.E, God, T.D, McAlpine]   \n",
       "...                                                 ...   \n",
       "2131     [Geo . Little, Geo, B. Ayer, Hugo Hillebrandt]   \n",
       "2132                                                 []   \n",
       "2133              [William Birnie, God, Wm Birnie, W.A]   \n",
       "2134  [Price, James Fulton, Sgd W . N. Peden, Miles ...   \n",
       "2135  [Marshall, James Fulton, God, Wm A. Cutler, I,...   \n",
       "\n",
       "                                        LOC-nerenglarge  \\\n",
       "0     [Currituck County, State of North Carolina, Un...   \n",
       "1               [North Carolina, United States, States]   \n",
       "2     [Craven County, State of NorthCarolina, United...   \n",
       "3             [State of, North Carolina, United States]   \n",
       "4     [State of, North Carolina, Wake County, United...   \n",
       "...                                                 ...   \n",
       "2131  [Raleigh, N.C., Wake County, State of N.C, Uni...   \n",
       "2132                                                 []   \n",
       "2133  [State of, North Carolina, Robeson County, Uni...   \n",
       "2134  [State of North Carolina, New Hanover County, ...   \n",
       "2135  [City of Wilmington, N.C, United States, North...   \n",
       "\n",
       "                                        ORG-nerenglarge  \n",
       "0                                        [Constitution]  \n",
       "1                 [Department of Virginia, OATH PAROLE]  \n",
       "2                                        [Constitution]  \n",
       "3                                        [Constitution]  \n",
       "4                            [Constitution, Res . Corp]  \n",
       "...                                                 ...  \n",
       "2131                                                 []  \n",
       "2132                                                 []  \n",
       "2133                                     [Constitution]  \n",
       "2134  [Fulton Price, Confederate Government, Court o...  \n",
       "2135                    [NARA, Constitution of, Slaves]  \n",
       "\n",
       "[2136 rows x 4 columns]"
      ]
     },
     "execution_count": 22,
     "metadata": {},
     "output_type": "execute_result"
    }
   ],
   "source": [
    "dflarge"
   ]
  },
  {
   "cell_type": "markdown",
   "id": "72a272d0",
   "metadata": {
    "papermill": {
     "duration": 0.027551,
     "end_time": "2022-06-11T01:32:08.764903",
     "exception": false,
     "start_time": "2022-06-11T01:32:08.737352",
     "status": "completed"
    },
    "tags": []
   },
   "source": [
    "tagger 2 ontonotes"
   ]
  },
  {
   "cell_type": "code",
   "execution_count": 23,
   "id": "3919e954",
   "metadata": {
    "execution": {
     "iopub.execute_input": "2022-06-11T01:32:08.822178Z",
     "iopub.status.busy": "2022-06-11T01:32:08.821803Z",
     "iopub.status.idle": "2022-06-11T01:34:11.051623Z",
     "shell.execute_reply": "2022-06-11T01:34:11.050745Z"
    },
    "papermill": {
     "duration": 122.261163,
     "end_time": "2022-06-11T01:34:11.053849",
     "exception": false,
     "start_time": "2022-06-11T01:32:08.792686",
     "status": "completed"
    },
    "tags": []
   },
   "outputs": [],
   "source": [
    "listoto=[]\n",
    "label=[]\n",
    "Per=[]\n",
    "Date=[]\n",
    "GPE=[]\n",
    "ORG=[]\n",
    "from flair.data import Sentence\n",
    "\n",
    "aldf=pd.DataFrame({\"text\":\"\", \"PERSON-ontonotes\":[], \"GPE-ontonotes\":\"\",\"ORG-ontonotes\":\"\", \"Date-ontonotes\":\"\"})\n",
    "for i in range(2136):\n",
    "        sentencess =Sentence(all_text[i])\n",
    "        aldf.loc[i,\"text\"]=all_text[i]\n",
    "        tagger.predict(sentencess)\n",
    "        dc={}\n",
    "        P=[]\n",
    "        D=[]\n",
    "        G=[]\n",
    "        O=[]\n",
    "        for entity in sentencess.get_spans('ner'):\n",
    "                     \n",
    "                     if (entity.get_label(\"ner\").score > 0.98) & (entity.get_label(\"ner\").value != \"CARDINAL\") & (entity.get_label(\"ner\").value != \"LAW\")& (entity.get_label(\"ner\").value != \"QUANTITY\") & (entity.get_label(\"ner\").value != \"WORK_OF_ART\") & (entity.get_label(\"ner\").value != \"LAW\")& (entity.get_label(\"ner\").value != \"QUANTITY\") & (entity.get_label(\"ner\").value != \"EVENT\")  :\n",
    "                        dc[entity.text]= entity.get_label(\"ner\").value \n",
    "                        listoto.append(entity)\n",
    "        \n",
    "        \n",
    "        for j in dc :\n",
    "                if dc[j]==\"PERSON\":\n",
    "                      P.append(j)\n",
    "                elif dc[j]==\"ORG\":\n",
    "                      O.append(j)\n",
    "                elif dc[j]==\"DATE\":\n",
    "                      D.append(j)\n",
    "                elif dc[j]==\"GPE\":\n",
    "                      G.append(j)\n",
    "        Per.append(P)\n",
    "        Date.append(D)\n",
    "        ORG.append(O)\n",
    "        GPE.append(G)\n",
    "            \n",
    "aldf[\"Date-ontonotes\"]=Date\n",
    "aldf[\"PERSON-ontonotes\"]=Per\n",
    "aldf[\"GPE-ontonotes\"]=GPE\n",
    "aldf[\"ORG-ontonotes\"]=ORG    "
   ]
  },
  {
   "cell_type": "code",
   "execution_count": 24,
   "id": "0f59b57e",
   "metadata": {
    "execution": {
     "iopub.execute_input": "2022-06-11T01:34:11.111648Z",
     "iopub.status.busy": "2022-06-11T01:34:11.111334Z",
     "iopub.status.idle": "2022-06-11T01:34:11.117915Z",
     "shell.execute_reply": "2022-06-11T01:34:11.117165Z"
    },
    "papermill": {
     "duration": 0.03728,
     "end_time": "2022-06-11T01:34:11.119599",
     "exception": false,
     "start_time": "2022-06-11T01:34:11.082319",
     "status": "completed"
    },
    "tags": []
   },
   "outputs": [
    {
     "data": {
      "text/plain": [
       "(2136, 5)"
      ]
     },
     "execution_count": 24,
     "metadata": {},
     "output_type": "execute_result"
    }
   ],
   "source": [
    "aldf.shape"
   ]
  },
  {
   "cell_type": "code",
   "execution_count": 25,
   "id": "83a1c15f",
   "metadata": {
    "execution": {
     "iopub.execute_input": "2022-06-11T01:34:11.176759Z",
     "iopub.status.busy": "2022-06-11T01:34:11.175944Z",
     "iopub.status.idle": "2022-06-11T01:34:11.191740Z",
     "shell.execute_reply": "2022-06-11T01:34:11.191015Z"
    },
    "papermill": {
     "duration": 0.045731,
     "end_time": "2022-06-11T01:34:11.193419",
     "exception": false,
     "start_time": "2022-06-11T01:34:11.147688",
     "status": "completed"
    },
    "tags": []
   },
   "outputs": [
    {
     "data": {
      "text/html": [
       "<div>\n",
       "<style scoped>\n",
       "    .dataframe tbody tr th:only-of-type {\n",
       "        vertical-align: middle;\n",
       "    }\n",
       "\n",
       "    .dataframe tbody tr th {\n",
       "        vertical-align: top;\n",
       "    }\n",
       "\n",
       "    .dataframe thead th {\n",
       "        text-align: right;\n",
       "    }\n",
       "</style>\n",
       "<table border=\"1\" class=\"dataframe\">\n",
       "  <thead>\n",
       "    <tr style=\"text-align: right;\">\n",
       "      <th></th>\n",
       "      <th>text</th>\n",
       "      <th>PERSON-ontonotes</th>\n",
       "      <th>GPE-ontonotes</th>\n",
       "      <th>ORG-ontonotes</th>\n",
       "      <th>Date-ontonotes</th>\n",
       "    </tr>\n",
       "  </thead>\n",
       "  <tbody>\n",
       "    <tr>\n",
       "      <th>0</th>\n",
       "      <td>I , I C Meekins , of Currituck County , State ...</td>\n",
       "      <td>[I C Meekins, Isaac C. Meekins, E H Walker, Jo...</td>\n",
       "      <td>[Currituck County ,]</td>\n",
       "      <td>[]</td>\n",
       "      <td>[16 day of Sept A.D . , 1865]</td>\n",
       "    </tr>\n",
       "    <tr>\n",
       "      <th>1</th>\n",
       "      <td>Department of Virginia North Carolina , 1864. ...</td>\n",
       "      <td>[]</td>\n",
       "      <td>[North Carolina, United States, States]</td>\n",
       "      <td>[Department of Virginia, State]</td>\n",
       "      <td>[1864]</td>\n",
       "    </tr>\n",
       "    <tr>\n",
       "      <th>2</th>\n",
       "      <td>I , W. H. Pearce , of Craven County , State of...</td>\n",
       "      <td>[W. H. Pearce, W . H. Pearce]</td>\n",
       "      <td>[]</td>\n",
       "      <td>[]</td>\n",
       "      <td>[3rd day of October , A.D. , 1865]</td>\n",
       "    </tr>\n",
       "    <tr>\n",
       "      <th>3</th>\n",
       "      <td>State of North Carolina , ________ County . I ...</td>\n",
       "      <td>[]</td>\n",
       "      <td>[North Carolina, United States]</td>\n",
       "      <td>[]</td>\n",
       "      <td>[______ day of ____________ , 1866]</td>\n",
       "    </tr>\n",
       "    <tr>\n",
       "      <th>4</th>\n",
       "      <td>State of North Carolina , Wake County . I , S....</td>\n",
       "      <td>[S.E . Allen]</td>\n",
       "      <td>[North Carolina, Wake County, United States]</td>\n",
       "      <td>[]</td>\n",
       "      <td>[31st day of May , 1867]</td>\n",
       "    </tr>\n",
       "  </tbody>\n",
       "</table>\n",
       "</div>"
      ],
      "text/plain": [
       "                                                text  \\\n",
       "0  I , I C Meekins , of Currituck County , State ...   \n",
       "1  Department of Virginia North Carolina , 1864. ...   \n",
       "2  I , W. H. Pearce , of Craven County , State of...   \n",
       "3  State of North Carolina , ________ County . I ...   \n",
       "4  State of North Carolina , Wake County . I , S....   \n",
       "\n",
       "                                    PERSON-ontonotes  \\\n",
       "0  [I C Meekins, Isaac C. Meekins, E H Walker, Jo...   \n",
       "1                                                 []   \n",
       "2                      [W. H. Pearce, W . H. Pearce]   \n",
       "3                                                 []   \n",
       "4                                      [S.E . Allen]   \n",
       "\n",
       "                                  GPE-ontonotes  \\\n",
       "0                          [Currituck County ,]   \n",
       "1       [North Carolina, United States, States]   \n",
       "2                                            []   \n",
       "3               [North Carolina, United States]   \n",
       "4  [North Carolina, Wake County, United States]   \n",
       "\n",
       "                     ORG-ontonotes                       Date-ontonotes  \n",
       "0                               []        [16 day of Sept A.D . , 1865]  \n",
       "1  [Department of Virginia, State]                               [1864]  \n",
       "2                               []   [3rd day of October , A.D. , 1865]  \n",
       "3                               []  [______ day of ____________ , 1866]  \n",
       "4                               []             [31st day of May , 1867]  "
      ]
     },
     "execution_count": 25,
     "metadata": {},
     "output_type": "execute_result"
    }
   ],
   "source": [
    "aldf.head()"
   ]
  },
  {
   "cell_type": "code",
   "execution_count": 26,
   "id": "a92148a0",
   "metadata": {
    "execution": {
     "iopub.execute_input": "2022-06-11T01:34:11.250774Z",
     "iopub.status.busy": "2022-06-11T01:34:11.250451Z",
     "iopub.status.idle": "2022-06-11T01:34:11.255630Z",
     "shell.execute_reply": "2022-06-11T01:34:11.254915Z"
    },
    "papermill": {
     "duration": 0.03562,
     "end_time": "2022-06-11T01:34:11.257262",
     "exception": false,
     "start_time": "2022-06-11T01:34:11.221642",
     "status": "completed"
    },
    "tags": []
   },
   "outputs": [
    {
     "data": {
      "text/plain": [
       "(2136, 5)"
      ]
     },
     "execution_count": 26,
     "metadata": {},
     "output_type": "execute_result"
    }
   ],
   "source": [
    "aldf.shape"
   ]
  },
  {
   "cell_type": "code",
   "execution_count": 27,
   "id": "fcbfdb67",
   "metadata": {
    "execution": {
     "iopub.execute_input": "2022-06-11T01:34:11.315615Z",
     "iopub.status.busy": "2022-06-11T01:34:11.314827Z",
     "iopub.status.idle": "2022-06-11T01:34:11.323808Z",
     "shell.execute_reply": "2022-06-11T01:34:11.323059Z"
    },
    "papermill": {
     "duration": 0.040311,
     "end_time": "2022-06-11T01:34:11.325520",
     "exception": false,
     "start_time": "2022-06-11T01:34:11.285209",
     "status": "completed"
    },
    "tags": []
   },
   "outputs": [
    {
     "data": {
      "text/plain": [
       "4887"
      ]
     },
     "execution_count": 27,
     "metadata": {},
     "output_type": "execute_result"
    }
   ],
   "source": [
    "\n",
    "LDate=[]\n",
    "for i in aldf[\"Date-ontonotes\"]:\n",
    "    for j in i:\n",
    "        LDate.append(j)\n",
    "len(LDate)"
   ]
  },
  {
   "cell_type": "markdown",
   "id": "c869f4cf",
   "metadata": {
    "papermill": {
     "duration": 0.027859,
     "end_time": "2022-06-11T01:34:11.381679",
     "exception": false,
     "start_time": "2022-06-11T01:34:11.353820",
     "status": "completed"
    },
    "tags": []
   },
   "source": [
    "**5000 dates**"
   ]
  },
  {
   "cell_type": "markdown",
   "id": "6e4b9357",
   "metadata": {
    "papermill": {
     "duration": 0.028074,
     "end_time": "2022-06-11T01:34:11.437655",
     "exception": false,
     "start_time": "2022-06-11T01:34:11.409581",
     "status": "completed"
    },
    "tags": []
   },
   "source": [
    "# Post processing"
   ]
  },
  {
   "cell_type": "markdown",
   "id": "af195de6",
   "metadata": {
    "papermill": {
     "duration": 0.027564,
     "end_time": "2022-06-11T01:34:11.493256",
     "exception": false,
     "start_time": "2022-06-11T01:34:11.465692",
     "status": "completed"
    },
    "tags": []
   },
   "source": [
    "**For dates**"
   ]
  },
  {
   "cell_type": "code",
   "execution_count": 28,
   "id": "67953463",
   "metadata": {
    "execution": {
     "iopub.execute_input": "2022-06-11T01:34:11.550998Z",
     "iopub.status.busy": "2022-06-11T01:34:11.550212Z",
     "iopub.status.idle": "2022-06-11T01:34:11.613968Z",
     "shell.execute_reply": "2022-06-11T01:34:11.613190Z"
    },
    "papermill": {
     "duration": 0.094934,
     "end_time": "2022-06-11T01:34:11.616079",
     "exception": false,
     "start_time": "2022-06-11T01:34:11.521145",
     "status": "completed"
    },
    "tags": []
   },
   "outputs": [],
   "source": [
    "G=[]\n",
    "for i in aldf[\"Date-ontonotes\"]:\n",
    "    M=[]\n",
    "    for j in i:\n",
    "        date=re.search(r'^\\d\\.*.*\\d\\d$' ,j)\n",
    "        date2=re.search(r'^[A-ZZa-z]\\.*.*\\d\\.*.*\\d\\d$' ,j)\n",
    "        M.append(date)\n",
    "        M.append(date2)\n",
    "    G.append(M)\n",
    "    \n",
    "\n",
    "GF=[]\n",
    "for i in G:\n",
    "    Final_date=[]\n",
    "    for j in i:\n",
    "        if j!=None:\n",
    "            Final_date.append(j.group())\n",
    "    GF.append(Final_date)\n",
    "\n",
    "    \n",
    "aldf[\"postDate-ontonotes\"]=GF\n",
    "            \n",
    "            \n",
    "        "
   ]
  },
  {
   "cell_type": "markdown",
   "id": "e1abf629",
   "metadata": {
    "papermill": {
     "duration": 0.027669,
     "end_time": "2022-06-11T01:34:11.672208",
     "exception": false,
     "start_time": "2022-06-11T01:34:11.644539",
     "status": "completed"
    },
    "tags": []
   },
   "source": [
    "# Run this to see the extracted dates before filtring them "
   ]
  },
  {
   "cell_type": "code",
   "execution_count": 29,
   "id": "1b67a005",
   "metadata": {
    "execution": {
     "iopub.execute_input": "2022-06-11T01:34:11.730600Z",
     "iopub.status.busy": "2022-06-11T01:34:11.729930Z",
     "iopub.status.idle": "2022-06-11T01:34:11.733720Z",
     "shell.execute_reply": "2022-06-11T01:34:11.732964Z"
    },
    "papermill": {
     "duration": 0.034877,
     "end_time": "2022-06-11T01:34:11.735417",
     "exception": false,
     "start_time": "2022-06-11T01:34:11.700540",
     "status": "completed"
    },
    "tags": []
   },
   "outputs": [],
   "source": [
    "#GF"
   ]
  },
  {
   "cell_type": "code",
   "execution_count": 30,
   "id": "46d10333",
   "metadata": {
    "execution": {
     "iopub.execute_input": "2022-06-11T01:34:11.793168Z",
     "iopub.status.busy": "2022-06-11T01:34:11.792846Z",
     "iopub.status.idle": "2022-06-11T01:34:11.925594Z",
     "shell.execute_reply": "2022-06-11T01:34:11.924749Z"
    },
    "papermill": {
     "duration": 0.164574,
     "end_time": "2022-06-11T01:34:11.927832",
     "exception": false,
     "start_time": "2022-06-11T01:34:11.763258",
     "status": "completed"
    },
    "tags": []
   },
   "outputs": [],
   "source": [
    "G=[]\n",
    "for i in aldf[\"postDate-ontonotes\"]:\n",
    "    M=[]\n",
    "    for j in i:\n",
    "        Final_date1=re.sub(r'([0-9]{1,2})\\.*.*\\s([A-Z][a-z]\\S*)\\.*.*\\s([0-9]{2,4})',r'\\1-\\2-\\3' ,j)\n",
    "        Final_date2=re.sub(r'([A-Z]\\.*.*)\\s([0-9]{1,2})\\.*.*\\s([0-9]{2,4})',r'\\2-\\1-\\3' ,j)\n",
    "        final_date3=re.sub(r'([A-Z][a-z]\\S*)\\.*.*\\s([A-Z][a-z]\\S*)\\.*.*\\s([0-9]{2,4})',r'\\1-\\2-\\3' ,j)\n",
    "        final_date4=re.sub(r'(^[A-Za-z]\\S*.*.)day\\.*.*\\s([A-Z][a-z]\\S*)\\.*.*\\s([0-9]{2,4})',r'\\1-\\2-\\3' ,j)\n",
    "        if Final_date1 != j:   \n",
    "            M.append(Final_date1)\n",
    "        if Final_date2 != j :\n",
    "            M.append(Final_date2)\n",
    "        if final_date3 != j :\n",
    "            M.append(final_date3)\n",
    "        if final_date4 != j :\n",
    "            M.append(final_date4)\n",
    "    G.append(M)\n",
    "    \n",
    "\n",
    "aldf[\"postDate-ontonotes\"]=G"
   ]
  },
  {
   "cell_type": "markdown",
   "id": "a12deb65",
   "metadata": {
    "papermill": {
     "duration": 0.028045,
     "end_time": "2022-06-11T01:34:11.984483",
     "exception": false,
     "start_time": "2022-06-11T01:34:11.956438",
     "status": "completed"
    },
    "tags": []
   },
   "source": [
    "**great !**"
   ]
  },
  {
   "cell_type": "markdown",
   "id": "6c110bde",
   "metadata": {
    "papermill": {
     "duration": 0.028605,
     "end_time": "2022-06-11T01:34:12.041010",
     "exception": false,
     "start_time": "2022-06-11T01:34:12.012405",
     "status": "completed"
    },
    "tags": []
   },
   "source": [
    "****"
   ]
  },
  {
   "cell_type": "markdown",
   "id": "feb4d6cc",
   "metadata": {
    "papermill": {
     "duration": 0.027738,
     "end_time": "2022-06-11T01:34:12.096669",
     "exception": false,
     "start_time": "2022-06-11T01:34:12.068931",
     "status": "completed"
    },
    "tags": []
   },
   "source": [
    "****"
   ]
  },
  {
   "cell_type": "code",
   "execution_count": 31,
   "id": "b6964eb3",
   "metadata": {
    "execution": {
     "iopub.execute_input": "2022-06-11T01:34:12.154485Z",
     "iopub.status.busy": "2022-06-11T01:34:12.154112Z",
     "iopub.status.idle": "2022-06-11T01:34:12.168905Z",
     "shell.execute_reply": "2022-06-11T01:34:12.168115Z"
    },
    "papermill": {
     "duration": 0.045494,
     "end_time": "2022-06-11T01:34:12.170559",
     "exception": false,
     "start_time": "2022-06-11T01:34:12.125065",
     "status": "completed"
    },
    "tags": []
   },
   "outputs": [
    {
     "data": {
      "text/html": [
       "<div>\n",
       "<style scoped>\n",
       "    .dataframe tbody tr th:only-of-type {\n",
       "        vertical-align: middle;\n",
       "    }\n",
       "\n",
       "    .dataframe tbody tr th {\n",
       "        vertical-align: top;\n",
       "    }\n",
       "\n",
       "    .dataframe thead th {\n",
       "        text-align: right;\n",
       "    }\n",
       "</style>\n",
       "<table border=\"1\" class=\"dataframe\">\n",
       "  <thead>\n",
       "    <tr style=\"text-align: right;\">\n",
       "      <th></th>\n",
       "      <th>text</th>\n",
       "      <th>PERSON-nerenglarge</th>\n",
       "      <th>LOC-nerenglarge</th>\n",
       "      <th>ORG-nerenglarge</th>\n",
       "    </tr>\n",
       "  </thead>\n",
       "  <tbody>\n",
       "    <tr>\n",
       "      <th>0</th>\n",
       "      <td>I , I C Meekins , of Currituck County , State ...</td>\n",
       "      <td>[I C Meekins, Almighty, God, Isaac C. Meekins,...</td>\n",
       "      <td>[Currituck County, State of North Carolina, Un...</td>\n",
       "      <td>[Constitution]</td>\n",
       "    </tr>\n",
       "    <tr>\n",
       "      <th>1</th>\n",
       "      <td>Department of Virginia North Carolina , 1864. ...</td>\n",
       "      <td>[]</td>\n",
       "      <td>[North Carolina, United States, States]</td>\n",
       "      <td>[Department of Virginia, OATH PAROLE]</td>\n",
       "    </tr>\n",
       "    <tr>\n",
       "      <th>2</th>\n",
       "      <td>I , W. H. Pearce , of Craven County , State of...</td>\n",
       "      <td>[W. H. Pearce, Almighty, God, E. Ampetts, W . ...</td>\n",
       "      <td>[Craven County, State of NorthCarolina, United...</td>\n",
       "      <td>[Constitution]</td>\n",
       "    </tr>\n",
       "    <tr>\n",
       "      <th>3</th>\n",
       "      <td>State of North Carolina , ________ County . I ...</td>\n",
       "      <td>[God]</td>\n",
       "      <td>[State of, North Carolina, United States]</td>\n",
       "      <td>[Constitution]</td>\n",
       "    </tr>\n",
       "    <tr>\n",
       "      <th>4</th>\n",
       "      <td>State of North Carolina , Wake County . I , S....</td>\n",
       "      <td>[S.E, God, T.D, McAlpine]</td>\n",
       "      <td>[State of, North Carolina, Wake County, United...</td>\n",
       "      <td>[Constitution, Res . Corp]</td>\n",
       "    </tr>\n",
       "  </tbody>\n",
       "</table>\n",
       "</div>"
      ],
      "text/plain": [
       "                                                text  \\\n",
       "0  I , I C Meekins , of Currituck County , State ...   \n",
       "1  Department of Virginia North Carolina , 1864. ...   \n",
       "2  I , W. H. Pearce , of Craven County , State of...   \n",
       "3  State of North Carolina , ________ County . I ...   \n",
       "4  State of North Carolina , Wake County . I , S....   \n",
       "\n",
       "                                  PERSON-nerenglarge  \\\n",
       "0  [I C Meekins, Almighty, God, Isaac C. Meekins,...   \n",
       "1                                                 []   \n",
       "2  [W. H. Pearce, Almighty, God, E. Ampetts, W . ...   \n",
       "3                                              [God]   \n",
       "4                          [S.E, God, T.D, McAlpine]   \n",
       "\n",
       "                                     LOC-nerenglarge  \\\n",
       "0  [Currituck County, State of North Carolina, Un...   \n",
       "1            [North Carolina, United States, States]   \n",
       "2  [Craven County, State of NorthCarolina, United...   \n",
       "3          [State of, North Carolina, United States]   \n",
       "4  [State of, North Carolina, Wake County, United...   \n",
       "\n",
       "                         ORG-nerenglarge  \n",
       "0                         [Constitution]  \n",
       "1  [Department of Virginia, OATH PAROLE]  \n",
       "2                         [Constitution]  \n",
       "3                         [Constitution]  \n",
       "4             [Constitution, Res . Corp]  "
      ]
     },
     "execution_count": 31,
     "metadata": {},
     "output_type": "execute_result"
    }
   ],
   "source": [
    "dflarge.head()"
   ]
  },
  {
   "cell_type": "code",
   "execution_count": 32,
   "id": "be86330b",
   "metadata": {
    "execution": {
     "iopub.execute_input": "2022-06-11T01:34:12.228082Z",
     "iopub.status.busy": "2022-06-11T01:34:12.227778Z",
     "iopub.status.idle": "2022-06-11T01:34:12.234360Z",
     "shell.execute_reply": "2022-06-11T01:34:12.233611Z"
    },
    "papermill": {
     "duration": 0.03747,
     "end_time": "2022-06-11T01:34:12.236121",
     "exception": false,
     "start_time": "2022-06-11T01:34:12.198651",
     "status": "completed"
    },
    "tags": []
   },
   "outputs": [],
   "source": [
    "aldf[\"Person-NerEngLarge\"]=dflarge[\"PERSON-nerenglarge\"]\n",
    "aldf[\"LOC-NerEngLarge\"]=dflarge[\"LOC-nerenglarge\"]\n",
    "aldf[\"ORG-NerEngLarge\"]=dflarge[\"ORG-nerenglarge\"]\n"
   ]
  },
  {
   "cell_type": "code",
   "execution_count": 33,
   "id": "49c42e9c",
   "metadata": {
    "execution": {
     "iopub.execute_input": "2022-06-11T01:34:12.295258Z",
     "iopub.status.busy": "2022-06-11T01:34:12.294569Z",
     "iopub.status.idle": "2022-06-11T01:34:12.304836Z",
     "shell.execute_reply": "2022-06-11T01:34:12.304084Z"
    },
    "papermill": {
     "duration": 0.041719,
     "end_time": "2022-06-11T01:34:12.306465",
     "exception": false,
     "start_time": "2022-06-11T01:34:12.264746",
     "status": "completed"
    },
    "tags": []
   },
   "outputs": [],
   "source": [
    "allPerson=[]\n",
    "for i in aldf[\"PERSON-ontonotes\"]:\n",
    "            allPerson.append(i)\n",
    "allDatess=[]\n",
    "for i in aldf[\"Date-ontonotes\"]:\n",
    "            allDatess.append(i)\n",
    "allpostdates=[]\n",
    "for i in aldf[\"postDate-ontonotes\"]:\n",
    "            allpostdates.append(i)\n",
    "allGPE=[]\n",
    "for i in aldf[\"GPE-ontonotes\"]:\n",
    "            allGPE.append(i)\n",
    "alORGl=[]\n",
    "for i in aldf[\"ORG-ontonotes\"]:\n",
    "            alORGl.append(i)"
   ]
  },
  {
   "cell_type": "markdown",
   "id": "c7112a54",
   "metadata": {
    "papermill": {
     "duration": 0.028339,
     "end_time": "2022-06-11T01:34:12.364055",
     "exception": false,
     "start_time": "2022-06-11T01:34:12.335716",
     "status": "completed"
    },
    "tags": []
   },
   "source": [
    "****"
   ]
  },
  {
   "cell_type": "code",
   "execution_count": 34,
   "id": "a3f719ad",
   "metadata": {
    "execution": {
     "iopub.execute_input": "2022-06-11T01:34:12.422829Z",
     "iopub.status.busy": "2022-06-11T01:34:12.422471Z",
     "iopub.status.idle": "2022-06-11T01:34:12.430093Z",
     "shell.execute_reply": "2022-06-11T01:34:12.429294Z"
    },
    "papermill": {
     "duration": 0.039583,
     "end_time": "2022-06-11T01:34:12.431963",
     "exception": false,
     "start_time": "2022-06-11T01:34:12.392380",
     "status": "completed"
    },
    "tags": []
   },
   "outputs": [],
   "source": [
    "Personlarge=[]\n",
    "for i in dflarge[\"PERSON-nerenglarge\"]:\n",
    "            Personlarge.append(i)\n",
    "ORGlarge=[]\n",
    "for i in dflarge[\"ORG-nerenglarge\"]:\n",
    "            ORGlarge.append(i) \n",
    "LOClarge=[]\n",
    "for i in dflarge[\"LOC-nerenglarge\"]:\n",
    "            LOClarge.append(i)"
   ]
  },
  {
   "cell_type": "markdown",
   "id": "b30815f1",
   "metadata": {
    "papermill": {
     "duration": 0.028446,
     "end_time": "2022-06-11T01:34:12.488733",
     "exception": false,
     "start_time": "2022-06-11T01:34:12.460287",
     "status": "completed"
    },
    "tags": []
   },
   "source": [
    "* as usual , ner English Large is better in extracting Person \n",
    "* ontonotes is thes best in extracting dates after good postprocessing and filtring almost all pattern \n",
    "* ner Engish Large  also better in Location and Oranization "
   ]
  },
  {
   "cell_type": "markdown",
   "id": "ffa81435",
   "metadata": {
    "papermill": {
     "duration": 0.028184,
     "end_time": "2022-06-11T01:34:12.545807",
     "exception": false,
     "start_time": "2022-06-11T01:34:12.517623",
     "status": "completed"
    },
    "tags": []
   },
   "source": [
    "# Person Large (without punct)"
   ]
  },
  {
   "cell_type": "code",
   "execution_count": 35,
   "id": "bbdb09cb",
   "metadata": {
    "execution": {
     "iopub.execute_input": "2022-06-11T01:34:12.605441Z",
     "iopub.status.busy": "2022-06-11T01:34:12.604514Z",
     "iopub.status.idle": "2022-06-11T01:34:12.609943Z",
     "shell.execute_reply": "2022-06-11T01:34:12.609242Z"
    },
    "papermill": {
     "duration": 0.036866,
     "end_time": "2022-06-11T01:34:12.611722",
     "exception": false,
     "start_time": "2022-06-11T01:34:12.574856",
     "status": "completed"
    },
    "tags": []
   },
   "outputs": [
    {
     "data": {
      "text/plain": [
       "'I , I C Meekins , of Currituck County , State of North Carolina , solemnly swear affirm , presence of Almighty God , I henceforth faithfully support , protect defend Constitution of United States Union of States thereunder ; I , like manner , abide faithfully support law proclamation made existing rebellion reference emancipation of slave . So help God . Isaac C. Meekins Sworn subscribed 16 day of Sept A.D. , 1865 , E H Walker , J.P . It hereby certified true copy of original oath taken subscribed I C Meekins E H Walker , J.P. John B Etheridge , J.P .'"
      ]
     },
     "execution_count": 35,
     "metadata": {},
     "output_type": "execute_result"
    }
   ],
   "source": [
    "all_text[0]"
   ]
  },
  {
   "cell_type": "code",
   "execution_count": 36,
   "id": "224d0d94",
   "metadata": {
    "execution": {
     "iopub.execute_input": "2022-06-11T01:34:12.669755Z",
     "iopub.status.busy": "2022-06-11T01:34:12.669092Z",
     "iopub.status.idle": "2022-06-11T01:34:12.676559Z",
     "shell.execute_reply": "2022-06-11T01:34:12.675822Z"
    },
    "papermill": {
     "duration": 0.037888,
     "end_time": "2022-06-11T01:34:12.678169",
     "exception": false,
     "start_time": "2022-06-11T01:34:12.640281",
     "status": "completed"
    },
    "tags": []
   },
   "outputs": [],
   "source": [
    "PL=[]\n",
    "for i in Personlarge:\n",
    "    for j in i:\n",
    "        PL.append(j)"
   ]
  },
  {
   "cell_type": "code",
   "execution_count": 37,
   "id": "a64f6bd4",
   "metadata": {
    "execution": {
     "iopub.execute_input": "2022-06-11T01:34:12.735641Z",
     "iopub.status.busy": "2022-06-11T01:34:12.735009Z",
     "iopub.status.idle": "2022-06-11T01:34:12.739994Z",
     "shell.execute_reply": "2022-06-11T01:34:12.739290Z"
    },
    "papermill": {
     "duration": 0.035552,
     "end_time": "2022-06-11T01:34:12.741771",
     "exception": false,
     "start_time": "2022-06-11T01:34:12.706219",
     "status": "completed"
    },
    "tags": []
   },
   "outputs": [
    {
     "data": {
      "text/plain": [
       "9512"
      ]
     },
     "execution_count": 37,
     "metadata": {},
     "output_type": "execute_result"
    }
   ],
   "source": [
    "len(PL)"
   ]
  },
  {
   "cell_type": "markdown",
   "id": "407e24f7",
   "metadata": {
    "papermill": {
     "duration": 0.028356,
     "end_time": "2022-06-11T01:34:12.798163",
     "exception": false,
     "start_time": "2022-06-11T01:34:12.769807",
     "status": "completed"
    },
    "tags": []
   },
   "source": [
    "# Person ontonotes (without punct)"
   ]
  },
  {
   "cell_type": "code",
   "execution_count": 38,
   "id": "e144ca26",
   "metadata": {
    "execution": {
     "iopub.execute_input": "2022-06-11T01:34:12.856092Z",
     "iopub.status.busy": "2022-06-11T01:34:12.855735Z",
     "iopub.status.idle": "2022-06-11T01:34:12.862111Z",
     "shell.execute_reply": "2022-06-11T01:34:12.861359Z"
    },
    "papermill": {
     "duration": 0.037453,
     "end_time": "2022-06-11T01:34:12.863816",
     "exception": false,
     "start_time": "2022-06-11T01:34:12.826363",
     "status": "completed"
    },
    "tags": []
   },
   "outputs": [],
   "source": [
    "PAu=[]\n",
    "for i in allPerson:\n",
    "    for j in i:\n",
    "        PAu.append(j)"
   ]
  },
  {
   "cell_type": "code",
   "execution_count": 39,
   "id": "0ce58c6e",
   "metadata": {
    "execution": {
     "iopub.execute_input": "2022-06-11T01:34:12.922735Z",
     "iopub.status.busy": "2022-06-11T01:34:12.921891Z",
     "iopub.status.idle": "2022-06-11T01:34:12.927300Z",
     "shell.execute_reply": "2022-06-11T01:34:12.926525Z"
    },
    "papermill": {
     "duration": 0.037442,
     "end_time": "2022-06-11T01:34:12.929247",
     "exception": false,
     "start_time": "2022-06-11T01:34:12.891805",
     "status": "completed"
    },
    "tags": []
   },
   "outputs": [
    {
     "data": {
      "text/plain": [
       "5393"
      ]
     },
     "execution_count": 39,
     "metadata": {},
     "output_type": "execute_result"
    }
   ],
   "source": [
    "len(PAu)"
   ]
  },
  {
   "cell_type": "markdown",
   "id": "0194ceb9",
   "metadata": {
    "papermill": {
     "duration": 0.028365,
     "end_time": "2022-06-11T01:34:12.986546",
     "exception": false,
     "start_time": "2022-06-11T01:34:12.958181",
     "status": "completed"
    },
    "tags": []
   },
   "source": [
    "****"
   ]
  },
  {
   "cell_type": "markdown",
   "id": "487cf924",
   "metadata": {
    "papermill": {
     "duration": 0.028782,
     "end_time": "2022-06-11T01:34:13.046715",
     "exception": false,
     "start_time": "2022-06-11T01:34:13.017933",
     "status": "completed"
    },
    "tags": []
   },
   "source": [
    "****"
   ]
  },
  {
   "cell_type": "markdown",
   "id": "2c9e929a",
   "metadata": {
    "papermill": {
     "duration": 0.028138,
     "end_time": "2022-06-11T01:34:13.103517",
     "exception": false,
     "start_time": "2022-06-11T01:34:13.075379",
     "status": "completed"
    },
    "tags": []
   },
   "source": [
    "# dates"
   ]
  },
  {
   "cell_type": "markdown",
   "id": "af9a6377",
   "metadata": {
    "papermill": {
     "duration": 0.028136,
     "end_time": "2022-06-11T01:34:13.160422",
     "exception": false,
     "start_time": "2022-06-11T01:34:13.132286",
     "status": "completed"
    },
    "tags": []
   },
   "source": [
    "**run those cells to take a look at the result more clearly**"
   ]
  },
  {
   "cell_type": "code",
   "execution_count": 40,
   "id": "9cff1a30",
   "metadata": {
    "execution": {
     "iopub.execute_input": "2022-06-11T01:34:13.218824Z",
     "iopub.status.busy": "2022-06-11T01:34:13.218471Z",
     "iopub.status.idle": "2022-06-11T01:34:13.222052Z",
     "shell.execute_reply": "2022-06-11T01:34:13.221293Z"
    },
    "papermill": {
     "duration": 0.034819,
     "end_time": "2022-06-11T01:34:13.223788",
     "exception": false,
     "start_time": "2022-06-11T01:34:13.188969",
     "status": "completed"
    },
    "tags": []
   },
   "outputs": [],
   "source": [
    "#G"
   ]
  },
  {
   "cell_type": "code",
   "execution_count": 41,
   "id": "7b38c46d",
   "metadata": {
    "execution": {
     "iopub.execute_input": "2022-06-11T01:34:13.281723Z",
     "iopub.status.busy": "2022-06-11T01:34:13.280978Z",
     "iopub.status.idle": "2022-06-11T01:34:13.284865Z",
     "shell.execute_reply": "2022-06-11T01:34:13.284089Z"
    },
    "papermill": {
     "duration": 0.034711,
     "end_time": "2022-06-11T01:34:13.286577",
     "exception": false,
     "start_time": "2022-06-11T01:34:13.251866",
     "status": "completed"
    },
    "tags": []
   },
   "outputs": [],
   "source": [
    "# import pickle\n",
    "# my_pickled_list = pickle.dumps(listoto)  # Pickling the object\n",
    "# print(f\"This is my pickled object:\\n{my_pickled_list}\\n\")\n",
    "\n",
    "# my_pickled_list\n",
    "\n",
    "# my_unpickled_object = pickle.loads(my_pickled_list)  # Unpickling the object\n",
    "# print(\n",
    "#     f\"This is a_dict of the unpickled object:\\n{my_unpickled_object}\\n\")\n",
    "\n",
    "\n",
    "# my_unpickled_object"
   ]
  },
  {
   "cell_type": "markdown",
   "id": "b9f496a6",
   "metadata": {
    "papermill": {
     "duration": 0.028162,
     "end_time": "2022-06-11T01:34:13.342962",
     "exception": false,
     "start_time": "2022-06-11T01:34:13.314800",
     "status": "completed"
    },
    "tags": []
   },
   "source": [
    "# standardizing dates without punct"
   ]
  },
  {
   "cell_type": "code",
   "execution_count": 42,
   "id": "19f59f2b",
   "metadata": {
    "execution": {
     "iopub.execute_input": "2022-06-11T01:34:13.402111Z",
     "iopub.status.busy": "2022-06-11T01:34:13.401443Z",
     "iopub.status.idle": "2022-06-11T01:34:13.493997Z",
     "shell.execute_reply": "2022-06-11T01:34:13.493118Z"
    },
    "papermill": {
     "duration": 0.12463,
     "end_time": "2022-06-11T01:34:13.496061",
     "exception": false,
     "start_time": "2022-06-11T01:34:13.371431",
     "status": "completed"
    },
    "tags": []
   },
   "outputs": [],
   "source": [
    "NG=[]\n",
    "for i in G:\n",
    "    ng=[]\n",
    "    for j in i:\n",
    "        \n",
    "        date=re.findall(r'([0-9]{1,2})-([A-Z][a-z]\\S*)-([0-9]{2,4})',j)\n",
    "        if date !=[]:\n",
    "            dates=[]\n",
    "            for k in date:\n",
    "                for l in k:\n",
    "                    dates.append(l)\n",
    "                \n",
    "                \n",
    "                if dates[1] in [\"August\",\"Aug\",\"augt\",\"AUGUST\",\"Augst\",\"Augt\",\"AUG\",\"Augusta\"]:\n",
    "                    dates[1]= \"August\"\n",
    "                elif dates[1] in [\"September\",\"Sept\",\"SEP\",\"Sep\",\"Septr\",\"SEPTEMBER\",'Sepr','Septh']:\n",
    "                    dates[1]= \"Septembre\"\n",
    "                elif dates[1] in [\"October\",\"Oct\",\"OCT\",\"OCTOBER\"]:\n",
    "                    dates[1]= \"October\"\n",
    "                elif dates[1] in [\"November\",\"NOV\",\"Nov\",\"Novmbr\",\"Nvbr\",\"Novb\",\"NOVEMBER\", \"The\"]:\n",
    "                    dates[1]= \"November\"\n",
    "                elif dates[1] in [\"December\",\"Dec\",\"Decbr\",\"DEC\",\"DECEMBER\",\"Decber\"]:\n",
    "                    dates[1]= \"December\"\n",
    "                elif dates[1] in [\"January\",\"Janry\",\"Jan\",\"Jany\",\"JAN\",\"Janur\",\"JANUARY\"]:\n",
    "                    dates[1]= \"January\"\n",
    "                elif dates[1] in [\"February\",\"Feby\",\"Febry\",\"FEB\",\"FEBRUARY\",\"Feb\"]:\n",
    "                    dates[1]= \"February\"\n",
    "                elif dates[1] in [\"March\",\"Mar\"]:\n",
    "                    dates[1]= \"March\"\n",
    "                elif dates[1] in [\"April\",\"Apl\",\"Aprl\",\"APRIL\",\"Apr\"]:\n",
    "                    dates[1]= \"April\"\n",
    "                elif dates[1] in [\"May\",\"MAY\"]:\n",
    "                    dates[1]= \"May\"\n",
    "                elif dates[1] in [\"JUN\",\"Jun\",\"June\"]:\n",
    "                    dates[1]= \"June\"\n",
    "                elif dates[1] in [\"JULY\",\"July\",\"JUL\"]:\n",
    "                    dates[1]= \"July\"\n",
    "                j = dates[0]+\"-\"+dates[1]+\"-\"+dates[2]\n",
    "                ng.append(j)\n",
    "        else :\n",
    "                date = re.findall(r'(^[A-Za-z]\\S*.*.)-([A-Z][a-z]\\S*)-([0-9]{2,4})',j ) \n",
    "                dates=[]\n",
    "                for k in date:\n",
    "                    for l in k:\n",
    "                        dates.append(l)\n",
    "                \n",
    "                \n",
    "                    if dates[1] in [\"August\",\"Aug\",\"augt\",\"AUGUST\",\"Augst\",'Augt',\"AUG\",\"Augusta\"]:\n",
    "                        dates[1]= \"August\"\n",
    "                    elif dates[1] in [\"September\",\"Sept\",\"SEP\",\"Sep\",\"Septr\",\"SEPTEMBER\",\"Sepr\",\"Septh\", \"This\", \"This \"]:\n",
    "                        dates[1]= \"Septembre\"\n",
    "                    elif dates[1] in [\"October\",\"Oct\",\"OCT\",\"OCTOBER\"]:\n",
    "                        dates[1]= \"October\"\n",
    "                    elif dates[1] in [\"November\",\"NOV\",\"Nov\",\"Novmbr\",\"Nvbr\",\"Novb\",\"NOVEMBER\"]:\n",
    "                        dates[1]= \"November\"\n",
    "                    elif dates[1] in [\"December\",\"Dec\",\"Decbr\",\"DEC\",\"DECEMBER\",\"Decber\"]:\n",
    "                        dates[1]= \"December\"\n",
    "                    elif dates[1] in [\"January\",\"Janry\",\"Jan\",\"Jany\",\"JAN\",\"Janur\",\"JANUARY\"]:\n",
    "                        dates[1]= \"January\"\n",
    "                    elif dates[1] in [\"February\",\"Feby\",\"Febry\",\"FEB\",\"FEBRUARY\",\"Feb\"]:\n",
    "                        dates[1]= \"February\"\n",
    "                    elif dates[1] in [\"March\",\"Mar\"]:\n",
    "                        dates[1]= \"March\"\n",
    "                    elif dates[1] in [\"April\",\"Apl\",\"Aprl\",\"APRIL\",\"Apr\"]:\n",
    "                        dates[1]= \"April\"\n",
    "                    elif dates[1] in [\"May\",\"MAY\"]:\n",
    "                        dates[1]= \"May\"\n",
    "                    elif dates[1] in [\"JUN\",\"Jun\",\"June\"]:\n",
    "                        dates[1]= \"June\"\n",
    "                    elif dates[1] in [\"JULY\",\"July\",\"JUL\"]:\n",
    "                        dates[1]= \"July\"\n",
    "                    if dates[0]== \"fifteenth\" :\n",
    "                        dates[0]=\"15\"\n",
    "                    elif (dates[0]==\"sixteenth\") |(dates[0]==\"This 16 \"):\n",
    "                        dates[0]=\"16\"\n",
    "                    elif dates[0]==\"Twenty\":\n",
    "                        dates[0]=\"20\" \n",
    "                    elif dates[0]==\"Twentyseventh\":\n",
    "                        dates[0]=\"27\" \n",
    "                    elif (dates[0]==\"Twenty Eighth\") |(dates[0]==\"TwentyEight\") |(dates[0]==\"TwentyEight \") |(dates[0]==\"Twentyeight\"):\n",
    "                        dates[0]=\"28\"\n",
    "                    elif (dates[0]==\"Ninth\") |(dates[0]==\"Ninth \")|(dates[0]==\"Augusta 9th \") |(dates[0]==\"ninth\") |(dates[0]==\"ninth \")|(dates[0]==\"Augusta 9th\"):\n",
    "                        dates[0]=\"9\"\n",
    "                    \n",
    "                    elif dates[0]=='Seventh':\n",
    "                        dates[0]=\"7\" \n",
    "                    elif (dates[0]=='The') |(dates[0]==\"The 9th\") :\n",
    "                        dates[0]=\"9\"\n",
    "                    elif dates[0]==\"the 9\" :\n",
    "                        dates[0]=\"9\"\n",
    "                    elif (dates[0]==\"Eighth \") |(dates[0]==\"Eighth\") |(dates[0]==\"eighth\") |(dates[0]==\"eighth \"):\n",
    "                        dates[0]=\"8\"\n",
    "                    elif dates[0]==\"Seventh \":\n",
    "                        dates[0]=\"7\"\n",
    "                    elif (dates[0]==\"Twenty ninth \")| (dates[0]==\"Twenty ninth\") | (dates[0]==\"twenty ninth \")|(dates[0]==\"Twenty Ninth \")|(dates[0]==\"Twenty Ninth\") :\n",
    "                        dates[0]=\"29\"\n",
    "                    elif (dates[0]==\"Thirty\") |(dates[0]==\"Thirty \") | (dates[0]==\"thirtieth \"):\n",
    "                        dates[0]=\"30\"\n",
    "                    elif (dates[0]==\"Thirty first \") |(dates[0]==\"Thirty first\"):\n",
    "                        dates[0]=\"31\"\n",
    "                  \n",
    "                    \n",
    "                    elif dates[0]==\"first \":\n",
    "                        dates[0]=\"1\"\n",
    "                    elif (dates[0]==\"Second \") |(dates[0]==\"Second\") |(dates[0]==\"second\")|(dates[0]==\"second \"):\n",
    "                        dates[0]=\"2\"\n",
    "                    elif dates[0]==\"fourth \":\n",
    "                        dates[0]=\"4\"\n",
    "                    elif dates[0]==\"tenth \":\n",
    "                        dates[0]=\"10\"\n",
    "                    elif (dates[0]==\"Fifth \")|(dates[0]==\"Fifth\") |(dates[0]==\"fifth \")|(dates[0]==\"fifth\"):\n",
    "                        dates[0]=\"5\"\n",
    "                    elif (dates[0]==\"This\") | (dates[0]==\"This 7th \")|(dates[0]==\"seventh \") |(dates[0]==\"seventh\") |(dates[0]==\"Seventh \"):\n",
    "                        dates[0]=\"7\"\n",
    "                    elif (dates[0]==\"This 31st\") |(dates[0]==\"Thirty-first \"):\n",
    "                        dates[0]=\"31\"\n",
    "                    elif (dates[0]==\"Thirtieth\") |(dates[0]==\"Thirtieth \") |(dates[0]==\"Thirty\"):\n",
    "                        dates[0]=\"30\"\n",
    "                    elif dates[0]==\"twenty fifth \":\n",
    "                        dates[0]=\"25\"\n",
    "                    elif dates[0]==\"Twenty seventh \":\n",
    "                        dates[0]=\"27\"\n",
    "                    elif (dates[0]==\"Twenty sixth \") |(dates[0]==\"Twentysixth \")|(dates[0]==\"Twentysixth\") |(dates[0]==\"twentysixth \"):\n",
    "                        dates[0]=\"26\"\n",
    "                    elif dates[0]==\"third \":\n",
    "                        dates[0]=\"3\" \n",
    "                    elif dates[0]==\"third\":\n",
    "                        dates[0]=\"3\"\n",
    "                    elif dates[0]==\"Third \":\n",
    "                        dates[0]=\"3\"\n",
    "                    elif dates[0]==\"Third\":\n",
    "                        dates[0]=\"3\"\n",
    "                    \n",
    "                    elif dates[0]==\"Tenth\":\n",
    "                        dates[0]=\"10\" \n",
    "                    elif dates[0]==\"Augusta\":\n",
    "                        dates[0]=\"9\" \n",
    "                    elif (dates[0]==\"this_sixth \")|(dates[0]==\"sixth \")| (dates[0]==\"Sixth\") | (dates[0]==\"Sixth \") |(dates[0]==\"this sixth \"):\n",
    "                        dates[0]=\"6\" \n",
    "                        \n",
    "                    elif dates[0]==\"Tenth \":\n",
    "                        dates[0]=\"10\"\n",
    "                    elif (dates[0]==\"twentieth\")|(dates[0]==\"This 20th \"):\n",
    "                        dates[0]=\"20\"\n",
    "                    elif (dates[0]==\"twenty fourth \") |(dates[0]==\"twenty fourth\") |(dates[0]==\"Twenty fourth \") |(dates[0]==\"Twenty fourth\"):\n",
    "                        dates[0]=\"24\"\n",
    "                    elif (dates[0]==\"fifteenth \") |(dates[0]==\"Fifteenth \") |(dates[0]==\"Fifteenth\"):\n",
    "                        dates[0]=\"15\"\n",
    "                    elif dates[0]==\"twentieth \":\n",
    "                        dates[0]=\"20\"\n",
    "                    elif dates[0]==\"Eighteenth \":\n",
    "                        dates[0]=\"18\"\n",
    "                    elif dates[0]==\"Eighteenth\":\n",
    "                        dates[0]=\"18\"\n",
    "                    elif (dates[0]==\"Nineteenth \") |(dates[0]==\"Nineteenth\"):\n",
    "                        dates[0]=\"19\"\n",
    "                    elif dates[0]==\"First \":\n",
    "                        dates[0]=\"1\"\n",
    "                    elif dates[0]==\"First\":\n",
    "                        dates[0]=\"1\"\n",
    "                    elif (dates[0]==\"Sixteenth \")|(dates[0]==\"this 16\") |(dates[0]==\"Sixteenth\"):\n",
    "                        dates[0]=\"16\"\n",
    "                   \n",
    "                    elif dates[0]==\"twenty third \":\n",
    "                        dates[0]=\"23\"\n",
    "                    elif dates[0]==\"twenty third\":\n",
    "                        dates[0]=\"23\"\n",
    "                    elif dates[0]==\"Twenty third \":\n",
    "                        dates[0]=\"23\"\n",
    "                    elif dates[0]==\"Twenty Second \":\n",
    "                        dates[0]=\"22\"\n",
    "                    elif dates[0]==\"Twenty Second\":\n",
    "                        dates[0]=\"22\"\n",
    "                    elif dates[0]==\"Twenty Eighth \":\n",
    "                        dates[0]=\"28\"\n",
    "                    elif dates[0]==\"Twentysenventh \":\n",
    "                        dates[0]=\"27\"\n",
    "                    elif dates[0]==\"twenty third \":\n",
    "                        dates[0]=\"23\"\n",
    "                    elif (dates[0]==\"twenty third\") |(dates[0]==\"Twentythird\")|(dates[0]==\"Twentythird \"):\n",
    "                        dates[0]=\"23\"\n",
    "                    elif (dates[0]==\"fourteenth \") | (dates[0]==\"fourteenth\") | (dates[0]==\"Fourteenth\") | (dates[0]==\"Fourteenth \"):\n",
    "                        dates[0]=\"14\"\n",
    "                    elif (dates[0]==\"Eleventh \") | (dates[0]==\"Eleventh\") |(dates[0]==\"eleventh \") :\n",
    "                        dates[0]=\"11\"\n",
    "                    elif (dates[0]==\"Thirteenth\") | (dates[0]==\"Thirteenth \") :\n",
    "                        dates[0]=\"13\"\n",
    "                    elif (dates[0]==\"seventeenth \") |(dates[0]==\"seventeenth\") |(dates[0]==\"Seventeenth \") :\n",
    "                        dates[0]=\"17\"\n",
    "                     \n",
    "                     \n",
    "                     \n",
    "                    \n",
    "                        \n",
    "                    j = dates[0]+\"-\"+dates[1]+\"-\"+dates[2]\n",
    "                    ng.append(j)\n",
    "            \n",
    "            \n",
    "    NG.append(ng)   "
   ]
  },
  {
   "cell_type": "markdown",
   "id": "dc10afdc",
   "metadata": {
    "papermill": {
     "duration": 0.028079,
     "end_time": "2022-06-11T01:34:13.553246",
     "exception": false,
     "start_time": "2022-06-11T01:34:13.525167",
     "status": "completed"
    },
    "tags": []
   },
   "source": [
    "# Final date "
   ]
  },
  {
   "cell_type": "code",
   "execution_count": 43,
   "id": "e0bc1912",
   "metadata": {
    "execution": {
     "iopub.execute_input": "2022-06-11T01:34:13.611836Z",
     "iopub.status.busy": "2022-06-11T01:34:13.611055Z",
     "iopub.status.idle": "2022-06-11T01:34:13.614840Z",
     "shell.execute_reply": "2022-06-11T01:34:13.614044Z"
    },
    "papermill": {
     "duration": 0.034661,
     "end_time": "2022-06-11T01:34:13.616616",
     "exception": false,
     "start_time": "2022-06-11T01:34:13.581955",
     "status": "completed"
    },
    "tags": []
   },
   "outputs": [],
   "source": [
    "#NG"
   ]
  },
  {
   "cell_type": "code",
   "execution_count": 44,
   "id": "a056796b",
   "metadata": {
    "execution": {
     "iopub.execute_input": "2022-06-11T01:34:13.674726Z",
     "iopub.status.busy": "2022-06-11T01:34:13.674411Z",
     "iopub.status.idle": "2022-06-11T01:34:13.679205Z",
     "shell.execute_reply": "2022-06-11T01:34:13.678467Z"
    },
    "papermill": {
     "duration": 0.03571,
     "end_time": "2022-06-11T01:34:13.680888",
     "exception": false,
     "start_time": "2022-06-11T01:34:13.645178",
     "status": "completed"
    },
    "tags": []
   },
   "outputs": [],
   "source": [
    "Lg=[]\n",
    "for i in G:\n",
    "    for j in i:\n",
    "        Lg.append(j)"
   ]
  },
  {
   "cell_type": "code",
   "execution_count": 45,
   "id": "3ec2883f",
   "metadata": {
    "execution": {
     "iopub.execute_input": "2022-06-11T01:34:13.738543Z",
     "iopub.status.busy": "2022-06-11T01:34:13.737895Z",
     "iopub.status.idle": "2022-06-11T01:34:13.742999Z",
     "shell.execute_reply": "2022-06-11T01:34:13.742286Z"
    },
    "papermill": {
     "duration": 0.035757,
     "end_time": "2022-06-11T01:34:13.744685",
     "exception": false,
     "start_time": "2022-06-11T01:34:13.708928",
     "status": "completed"
    },
    "tags": []
   },
   "outputs": [
    {
     "data": {
      "text/plain": [
       "3648"
      ]
     },
     "execution_count": 45,
     "metadata": {},
     "output_type": "execute_result"
    }
   ],
   "source": [
    "len(Lg)"
   ]
  },
  {
   "cell_type": "code",
   "execution_count": 46,
   "id": "013d0d99",
   "metadata": {
    "execution": {
     "iopub.execute_input": "2022-06-11T01:34:13.805926Z",
     "iopub.status.busy": "2022-06-11T01:34:13.805574Z",
     "iopub.status.idle": "2022-06-11T01:34:13.810616Z",
     "shell.execute_reply": "2022-06-11T01:34:13.809860Z"
    },
    "papermill": {
     "duration": 0.03927,
     "end_time": "2022-06-11T01:34:13.812295",
     "exception": false,
     "start_time": "2022-06-11T01:34:13.773025",
     "status": "completed"
    },
    "tags": []
   },
   "outputs": [],
   "source": [
    "Lng=[]\n",
    "for i in NG:\n",
    "    for j in i:\n",
    "        Lng.append(j)"
   ]
  },
  {
   "cell_type": "code",
   "execution_count": 47,
   "id": "df8993c6",
   "metadata": {
    "execution": {
     "iopub.execute_input": "2022-06-11T01:34:13.871749Z",
     "iopub.status.busy": "2022-06-11T01:34:13.871028Z",
     "iopub.status.idle": "2022-06-11T01:34:13.876320Z",
     "shell.execute_reply": "2022-06-11T01:34:13.875598Z"
    },
    "papermill": {
     "duration": 0.037397,
     "end_time": "2022-06-11T01:34:13.878209",
     "exception": false,
     "start_time": "2022-06-11T01:34:13.840812",
     "status": "completed"
    },
    "tags": []
   },
   "outputs": [
    {
     "data": {
      "text/plain": [
       "3587"
      ]
     },
     "execution_count": 47,
     "metadata": {},
     "output_type": "execute_result"
    }
   ],
   "source": [
    "len(Lng)"
   ]
  },
  {
   "cell_type": "code",
   "execution_count": 48,
   "id": "11f6f31b",
   "metadata": {
    "execution": {
     "iopub.execute_input": "2022-06-11T01:34:13.936855Z",
     "iopub.status.busy": "2022-06-11T01:34:13.936279Z",
     "iopub.status.idle": "2022-06-11T01:34:13.976736Z",
     "shell.execute_reply": "2022-06-11T01:34:13.975998Z"
    },
    "papermill": {
     "duration": 0.072168,
     "end_time": "2022-06-11T01:34:13.978931",
     "exception": false,
     "start_time": "2022-06-11T01:34:13.906763",
     "status": "completed"
    },
    "tags": []
   },
   "outputs": [
    {
     "data": {
      "text/plain": [
       "[['16-Septembre-1865'],\n",
       " [],\n",
       " ['3-October-1865'],\n",
       " [],\n",
       " ['31-May-1867'],\n",
       " ['1-Dec.-1866'],\n",
       " ['30-May-1864'],\n",
       " ['16-Septembre-1865'],\n",
       " ['16-Nov.-1866'],\n",
       " ['16-Septembre-1865'],\n",
       " ['4-November-1867'],\n",
       " ['4-November-1867'],\n",
       " ['2-October-1865'],\n",
       " [],\n",
       " ['31-December-1867'],\n",
       " ['19-June-1865', '19-June-1865'],\n",
       " ['4-November-1865'],\n",
       " ['9-November-1866',\n",
       "  '9-November-1866',\n",
       "  '9-November-1866',\n",
       "  'The 9th -November-1866'],\n",
       " ['1-December-1866', '1-Dec.-1866'],\n",
       " ['25-June-1864'],\n",
       " ['20-October-1866'],\n",
       " [],\n",
       " ['20-July-1867', '24-July-1867'],\n",
       " ['19-May-1865', '19-May-1865', '19-May-1865'],\n",
       " [],\n",
       " ['20-October-1866'],\n",
       " ['15-January-1868'],\n",
       " ['1-July-1867'],\n",
       " [],\n",
       " [],\n",
       " [],\n",
       " [],\n",
       " ['3-August-1867'],\n",
       " ['15-December-67'],\n",
       " [],\n",
       " [],\n",
       " [],\n",
       " [],\n",
       " [],\n",
       " [],\n",
       " ['23-July-1867'],\n",
       " ['26-July-1867'],\n",
       " ['25-July-1867'],\n",
       " [],\n",
       " [],\n",
       " ['22-August-66'],\n",
       " [],\n",
       " ['24-August-66'],\n",
       " [],\n",
       " ['29-August-66'],\n",
       " [],\n",
       " ['1-November-1866'],\n",
       " [],\n",
       " ['9-November-66'],\n",
       " [],\n",
       " [],\n",
       " ['26-July-1867'],\n",
       " ['31-July-1868'],\n",
       " [],\n",
       " ['18-January-1868'],\n",
       " ['2-July-1862'],\n",
       " ['14-January-1868'],\n",
       " ['2-July-1862'],\n",
       " ['14-January-1868'],\n",
       " ['2-July-1862'],\n",
       " [],\n",
       " [],\n",
       " ['1-May-67'],\n",
       " [],\n",
       " ['24-August-66'],\n",
       " [],\n",
       " [],\n",
       " [],\n",
       " [],\n",
       " ['27-August-1867'],\n",
       " ['4-June-67'],\n",
       " [],\n",
       " ['4-June-67'],\n",
       " [],\n",
       " ['1-June-67'],\n",
       " [],\n",
       " ['1-June-67'],\n",
       " [],\n",
       " [],\n",
       " [],\n",
       " [],\n",
       " [],\n",
       " ['24-Sept.-66'],\n",
       " [],\n",
       " ['22-August-67'],\n",
       " [],\n",
       " ['6-August-66'],\n",
       " [],\n",
       " [],\n",
       " [],\n",
       " ['19-June-1867'],\n",
       " [],\n",
       " [],\n",
       " ['21-January-1867'],\n",
       " [],\n",
       " [],\n",
       " [],\n",
       " [],\n",
       " [],\n",
       " [],\n",
       " [],\n",
       " [],\n",
       " ['28-March-1868'],\n",
       " [],\n",
       " ['28-March-1868'],\n",
       " ['29-January-1868'],\n",
       " ['2-July-1862'],\n",
       " ['15-January-1868'],\n",
       " ['2-July-1862'],\n",
       " ['31-July-67'],\n",
       " ['31-July-1868'],\n",
       " ['1-August-1868'],\n",
       " ['31-July-1867'],\n",
       " ['31-July-1867'],\n",
       " ['1-August-1867'],\n",
       " [],\n",
       " [],\n",
       " ['1-August-1867'],\n",
       " ['26-July-1867'],\n",
       " [],\n",
       " ['26-July-1867'],\n",
       " ['24-February-67'],\n",
       " [],\n",
       " [],\n",
       " ['2-July-1862'],\n",
       " [],\n",
       " [],\n",
       " ['21-Sept.-1868'],\n",
       " [],\n",
       " ['20-January-1868'],\n",
       " ['2-July-1862'],\n",
       " ['13-November-67'],\n",
       " [],\n",
       " ['26-November-67'],\n",
       " [],\n",
       " ['2-July-1862'],\n",
       " ['26-July-67'],\n",
       " [],\n",
       " ['18-May-1867'],\n",
       " [],\n",
       " ['1-February-67'],\n",
       " [],\n",
       " ['24-August-66'],\n",
       " [],\n",
       " [],\n",
       " [],\n",
       " ['6-June-68'],\n",
       " ['6-June-1868'],\n",
       " [],\n",
       " [],\n",
       " [],\n",
       " ['18-January-1868'],\n",
       " ['2-July-1862'],\n",
       " ['14-January-1868'],\n",
       " ['2-July-1862'],\n",
       " ['25-Dec.-67'],\n",
       " [],\n",
       " ['15-December-67'],\n",
       " [],\n",
       " [],\n",
       " ['15-December-1867'],\n",
       " [],\n",
       " ['15-December-1867'],\n",
       " ['17-July-67'],\n",
       " [],\n",
       " [],\n",
       " [],\n",
       " [],\n",
       " [],\n",
       " [],\n",
       " [],\n",
       " ['2-July-1862', '15-January-1868'],\n",
       " ['2-July-1862'],\n",
       " [],\n",
       " [],\n",
       " [],\n",
       " [],\n",
       " [],\n",
       " [],\n",
       " ['28-July-1868'],\n",
       " ['28-July-1868'],\n",
       " ['9-May-1868'],\n",
       " [],\n",
       " ['6-February-1868'],\n",
       " ['2-July-1862'],\n",
       " ['9-Septembre-67'],\n",
       " [],\n",
       " [],\n",
       " ['18-May-1867'],\n",
       " [],\n",
       " ['19-October-66'],\n",
       " [],\n",
       " [],\n",
       " [],\n",
       " ['15-August-66'],\n",
       " [],\n",
       " ['24-July-67'],\n",
       " [],\n",
       " ['18-May-1867'],\n",
       " [],\n",
       " ['1-October-66'],\n",
       " [],\n",
       " [],\n",
       " [],\n",
       " [],\n",
       " [],\n",
       " [],\n",
       " [],\n",
       " [],\n",
       " ['26-February-1868'],\n",
       " ['28-January-1868'],\n",
       " [],\n",
       " [],\n",
       " [],\n",
       " [],\n",
       " [],\n",
       " ['11-July-1868'],\n",
       " [],\n",
       " [],\n",
       " [],\n",
       " [],\n",
       " [],\n",
       " ['1-February-1868'],\n",
       " ['2-July-1862'],\n",
       " ['17-January-1868'],\n",
       " ['2-July-1862'],\n",
       " ['1-January-68'],\n",
       " ['2-July-1862'],\n",
       " ['29-July-1867'],\n",
       " [],\n",
       " [],\n",
       " [],\n",
       " [],\n",
       " ['2-July-1862'],\n",
       " [],\n",
       " [],\n",
       " ['31-July-1866'],\n",
       " [],\n",
       " ['31-July-66'],\n",
       " [],\n",
       " [],\n",
       " [],\n",
       " [],\n",
       " [],\n",
       " [],\n",
       " [],\n",
       " [],\n",
       " [],\n",
       " ['25-Sept.-1865', '25-Septembre-1865', '29-May-1865'],\n",
       " [],\n",
       " ['25-Septembre-1865'],\n",
       " ['31-July-1863'],\n",
       " ['31-July-1865', '20-May-1865', '31-July-1865'],\n",
       " ['1-July-1865', '1-July-1865'],\n",
       " ['26-August-1865', '26-August-1865'],\n",
       " ['31-August-1865'],\n",
       " ['12-July-1865'],\n",
       " ['8-July-1865', '8-July-1865'],\n",
       " ['13-April-1866', '13-April-1866'],\n",
       " [],\n",
       " ['8-November-1867', '8-November-1867'],\n",
       " ['18-June-1867'],\n",
       " ['17-June-1867'],\n",
       " ['3-Feb.-1868', '10-February-1868'],\n",
       " ['3-February-1868'],\n",
       " ['8-January-1868'],\n",
       " ['2-July-1862'],\n",
       " ['6-Oct.-1867'],\n",
       " ['6-October-1867'],\n",
       " [],\n",
       " [],\n",
       " ['25-April-1868', '25-April-1868'],\n",
       " ['25-April-1868'],\n",
       " [],\n",
       " [],\n",
       " ['22-June-1867'],\n",
       " ['7-January-1868'],\n",
       " ['7-January-1868'],\n",
       " ['2-July-1862'],\n",
       " [],\n",
       " ['11-Septembre-1867'],\n",
       " ['18-December-1867'],\n",
       " ['18-December-1867'],\n",
       " ['19-Dec.-1867'],\n",
       " ['19-December-1867'],\n",
       " [],\n",
       " ['2-July-1862'],\n",
       " ['31-July-1867'],\n",
       " ['31-July-1867'],\n",
       " [],\n",
       " ['13-January-1868'],\n",
       " ['11-April-1868', '20-April-1868'],\n",
       " ['11-April-1868'],\n",
       " ['12-August-1867'],\n",
       " ['12-August-1867'],\n",
       " [],\n",
       " ['2-July-1862', '25-January-1868'],\n",
       " [],\n",
       " ['6-February-1868'],\n",
       " [],\n",
       " ['10-June-1867'],\n",
       " [],\n",
       " ['28-July-1868'],\n",
       " ['8-November-1867', '8-November-1867'],\n",
       " ['8-November-1867'],\n",
       " ['16-Sept.-1868'],\n",
       " ['16-Septembre-1868'],\n",
       " [],\n",
       " ['11-Septembre-1867'],\n",
       " [],\n",
       " ['10-February-1868'],\n",
       " ['21-July-1867'],\n",
       " ['20-July-1867'],\n",
       " ['7-Aug.-1867'],\n",
       " ['7-August-1867'],\n",
       " ['1-October-1867'],\n",
       " [],\n",
       " ['1-October-1867'],\n",
       " [],\n",
       " ['30-November-1868'],\n",
       " [],\n",
       " ['25-February-1869'],\n",
       " ['11-July-1868'],\n",
       " ['11-July-1868'],\n",
       " ['12-June-1867'],\n",
       " [],\n",
       " ['8-June-1867'],\n",
       " ['8-June-1867'],\n",
       " ['4-July-1868'],\n",
       " ['4-July-1868'],\n",
       " ['3-Septembre-1867'],\n",
       " ['3-Septembre-1867'],\n",
       " ['3-January-1868'],\n",
       " ['3-January-1868'],\n",
       " ['7-August-1867', '10-August-1867'],\n",
       " ['7-August-1867'],\n",
       " ['25-Septembre-1867'],\n",
       " ['25-Septembre-1867'],\n",
       " ['7-Dec.-1868'],\n",
       " ['7-December-1868'],\n",
       " ['8-December-1868', '7-Dec.-1868'],\n",
       " ['1-August-1867'],\n",
       " ['1-August-1867'],\n",
       " ['16-Sept.-1867'],\n",
       " ['16-Septembre-1867'],\n",
       " ['13-January-1868'],\n",
       " ['13-January-1868'],\n",
       " ['7-Septembre-1867'],\n",
       " ['7-Septembre-1867'],\n",
       " [],\n",
       " ['5-Septembre-1867'],\n",
       " ['23-January-1868'],\n",
       " ['2-July-1862', '23-January-1868'],\n",
       " ['26-June-1867'],\n",
       " ['26-June-1867'],\n",
       " ['3-Sept.-1867', '4-Septembre-1867'],\n",
       " ['3-Septembre-1867'],\n",
       " ['12-June-1867'],\n",
       " ['2-June-1867'],\n",
       " ['25-June-1867'],\n",
       " ['25-June-1867'],\n",
       " ['22-May-1864'],\n",
       " ['22-May-1867', '1-June-1867'],\n",
       " ['22-May-1867'],\n",
       " ['18-January-1868'],\n",
       " ['2-July-1862', '18-January-1868'],\n",
       " [],\n",
       " ['13-June-1867'],\n",
       " [],\n",
       " ['29-April-1868'],\n",
       " ['9-Sept.-1867'],\n",
       " ['9-Septembre-1867'],\n",
       " ['18-April-1868', '18-April-1868'],\n",
       " ['18-April-1868'],\n",
       " ['27-June-1867'],\n",
       " ['27-June-1867'],\n",
       " ['27-June-1867'],\n",
       " [],\n",
       " ['22-February-1868'],\n",
       " [],\n",
       " ['3-Septembre-1867'],\n",
       " ['21-Septembre-1867', '9-August-1897'],\n",
       " ['21-Septembre-1867'],\n",
       " ['3-Septembre-1867', '4-Septembre-1867'],\n",
       " ['3-Septembre-1867'],\n",
       " ['18-June-1867', '18-June-1867'],\n",
       " ['18-June-1867'],\n",
       " [],\n",
       " ['2-July-1862'],\n",
       " [],\n",
       " ['9-July-1868'],\n",
       " ['20-Dec.-1867', '20-December-1868'],\n",
       " ['20-December-1867'],\n",
       " ['11-Sept.-1867', '12-Septembre-1867'],\n",
       " ['11-Septembre-1867'],\n",
       " ['22-July-1867'],\n",
       " ['22-July-1867'],\n",
       " ['7-Septembre-1867'],\n",
       " ['7-Septembre-1867'],\n",
       " ['28-July-1868'],\n",
       " ['2-July-1862'],\n",
       " ['6-Dec.-1866'],\n",
       " ['6-January-1865'],\n",
       " ['19-Septembre-1868'],\n",
       " ['19-Septembre-1868'],\n",
       " [],\n",
       " [],\n",
       " ['30-Septembre-1867'],\n",
       " ['28-Septembre-1867'],\n",
       " ['28-Septembre-1867'],\n",
       " ['26-August-1867'],\n",
       " ['26-August-1867'],\n",
       " ['6-July-1867'],\n",
       " ['6-July-1867'],\n",
       " ['26-August-1867'],\n",
       " ['3-Sept.-1867'],\n",
       " ['3-Septembre-1867'],\n",
       " [],\n",
       " ['17-August-1867'],\n",
       " ['10-July-1867', '13-July-1867'],\n",
       " ['10-July-1867'],\n",
       " ['17-January-1868'],\n",
       " ['2-July-1862', '15-January-1868'],\n",
       " [],\n",
       " ['26-August-1865', '26-August-1865', '26-August-1865'],\n",
       " ['14-Septembre-1865'],\n",
       " ['14-Septembre-1865', '14-Septembre-1865', '16-Septembre-1865'],\n",
       " ['26-Septembre-1865'],\n",
       " ['26-Septembre-1865', '26-Septembre-1865'],\n",
       " ['29-Septembre-1865'],\n",
       " ['29-Septembre-1865', '29-Septembre-1865', '29-Septembre-1865'],\n",
       " ['13-Septembre-1865'],\n",
       " ['13-Septembre-1805', '13-Septembre-1865', '13-Septembre-1865'],\n",
       " [],\n",
       " ['2-Septembre-1865', '2-Septembre-1865', '2-Septembre-1865'],\n",
       " ['20-Sept.-1865'],\n",
       " ['2-Septembre-1865', '2-Septembre-1865', '2-Septembre-1865'],\n",
       " [],\n",
       " ['2-Sept.-1865', '2-Septembre-1865', '2-Septembre-1865'],\n",
       " ['4-Septembre-1865'],\n",
       " ['4-Septembre-1865', '4-Septembre-1865', '4-Septembre-1865'],\n",
       " ['18-Septembre-1865'],\n",
       " ['22-Septembre-1865', '22-Septembre-1865'],\n",
       " ['14-Sept.-1865'],\n",
       " ['14-Septembre-1865', '14-Septembre-1865'],\n",
       " ['16-Sept.-1865'],\n",
       " ['16-Septembre-1865', '16-Septembre-1865', '16-Septembre-1865'],\n",
       " ['29-Septembre-1865'],\n",
       " ['29-Septembre-1865',\n",
       "  '29-Septembre-1865',\n",
       "  '29-Septembre-1865',\n",
       "  '29-Septembre-1865',\n",
       "  '29-Septembre-1865'],\n",
       " ['27-Septembre-1865'],\n",
       " ['27-Septembre-1865', '27-Septembre-1865', '27-Septembre-1865'],\n",
       " ['27-Septembre-1865'],\n",
       " ['27-Septembre-1865', '27-Septembre-1865', '27-Septembre-1865'],\n",
       " ['18-Septembre-1865'],\n",
       " ['22-Septembre-1865', '22-Septembre-1865', '22-Septembre-1865'],\n",
       " ['18-Septembre-1865'],\n",
       " ['18-Septembre-1865', '18-Septembre-1865'],\n",
       " ['18-Sept.-1865'],\n",
       " ['18-Septembre-1865', '18-Septembre-1865'],\n",
       " ['19-August-1865'],\n",
       " ['19-August-1865', '19-August-1865'],\n",
       " ['12-August-1865'],\n",
       " ['12-August-1805', '29-May-1865'],\n",
       " ['8-December-1863', '12-August-1865', '29-May-1865'],\n",
       " ['12-August-1865', '12-August-1865'],\n",
       " ['15-August-1865'],\n",
       " ['15-August-1865'],\n",
       " [],\n",
       " ['8-December-1863', '15-August-1865', '15-August-1865', '29-May-1865'],\n",
       " ['15-August-1865', '15-August-1865'],\n",
       " ['20-August-1865'],\n",
       " ['20-August-1865', '20-August-1865'],\n",
       " [],\n",
       " ['26-August-1865', '26-August-1865', '26-August-1865', '26-August-1865'],\n",
       " ['21-August-1865'],\n",
       " ['21-August-1865', '21-August-1865'],\n",
       " ['30-August-1865'],\n",
       " ['30-August-1865', '30-August-1865', '30-August-1865'],\n",
       " ['21-August-1865'],\n",
       " ['21-August-1865', '21-August-1865', '21-Agusut-1865'],\n",
       " ['21-August-1865'],\n",
       " ['21-August-1865', '21-August-1865'],\n",
       " ['21-August-1865'],\n",
       " ['26-August-1865', '26-August-1865'],\n",
       " ['20-August-1865'],\n",
       " ['29-May-1865'],\n",
       " ['8-December-1863', '21-August-1865', '20-August-1865', '29-May-1865'],\n",
       " ['20-August-1865', '20-August-1865', '20-August-1865'],\n",
       " ['1-Sept.-1865'],\n",
       " ['1-Septembre-1865', '1-Septembre-1865'],\n",
       " ['28-August-1865'],\n",
       " ['28-August-1865'],\n",
       " ['2-Sept.-1865'],\n",
       " ['31-Aug.-1865'],\n",
       " ['12-Septembre-1865'],\n",
       " ['12-Septembre-1865', '12-Septembre-1865'],\n",
       " ['14-Sept.-1865'],\n",
       " ['14-Septembre-1865', '14-Septembre-1865', '14-Septembre-1865'],\n",
       " ['18-Septembre-1865'],\n",
       " ['18-Septembre-1865', '18-Septembre-1865', '18-Septembre-1865'],\n",
       " ['18-Septembre-1865'],\n",
       " ['18-Septembre-1865', '18-Sept.-1865'],\n",
       " ['21-Sept.-1865'],\n",
       " ['21-Septembre-1865', '21-Septembre-1865', '21-Septembre-1865'],\n",
       " ['27-Septembre-1865'],\n",
       " ['27-Septembre-1865', '27-Septembre-1865', '27-Septembre-1865'],\n",
       " ['27-Septembre-1865'],\n",
       " ['27-Septembre-1865', '27-Sept.-1865'],\n",
       " ['28-Septembre-1865'],\n",
       " ['28-Septembre-1865', '28-Septembre-1865', '28-Septembre-1865'],\n",
       " ['9-August-1865'],\n",
       " ['9-August-1805', '29-May-1865'],\n",
       " ['8-December-1863',\n",
       "  '9-August-1865',\n",
       "  '9-August-1865',\n",
       "  '9-August-1865',\n",
       "  '29-May-1865'],\n",
       " ['9-August-1865',\n",
       "  '9-August-1865',\n",
       "  '9-August-1865',\n",
       "  '9-August-1865',\n",
       "  'Ninth . -August-1865'],\n",
       " ['9-August-1865'],\n",
       " ['9-August-1865', '29-May-1865'],\n",
       " ['8-December-1863', '9-August-1865', '9-August-1865', '29-May-1865'],\n",
       " ['9-August-1865', '9-August-1865', '9-August-1865', '9-August-1865'],\n",
       " [],\n",
       " ['29-May-1865'],\n",
       " ['8-December-1863', '29-May-1865'],\n",
       " ['12-August-1865', '12-August-1865'],\n",
       " ['13-August-1865'],\n",
       " ['12-August-1865', '29-May-1865'],\n",
       " ['8-December-1863', '12-August-1865', '12-August-1865', '29-May-1865'],\n",
       " ['12-August-1865'],\n",
       " ['13-August-1865'],\n",
       " ['15-August-1865', '29-May-1865'],\n",
       " ['8-December-1863', '15-August-1865', '15-August-1865', '29-May-1865'],\n",
       " ['15-August-1865', '15-August-1865'],\n",
       " ['15-August-1865'],\n",
       " ['29-May-1865'],\n",
       " ['8-December-1863', '15-August-1865', '15-August-1865', '29-May-1865'],\n",
       " ['15-August-1865', '15-August-1865'],\n",
       " ['21-August-1865'],\n",
       " ['21-August-1865', '21-August-1865', '21-August-1865', '21-August-1865'],\n",
       " ['15-August-1865'],\n",
       " ['15-August-1865', '29-May-1865'],\n",
       " ['15-August-1865', '15-August-1865', '29-May-1865'],\n",
       " ['15-August-1865', '15-August-1865'],\n",
       " ['4-Septembre-1865'],\n",
       " ['4-Sept.-1865', '4-Septembre-1865'],\n",
       " ['18-Septembre-1865'],\n",
       " ['18-Septembre-1865', '18-Septembre-1865', '18-Septembre-1865'],\n",
       " ['4-Sept.-1865'],\n",
       " ['4-Septembre-1865', '4-Septembre-1865', '4-Septembre-1865', '4-Sept.-1865'],\n",
       " ['29-August-1865'],\n",
       " ['29-August-1865', '29-August-1865', '29-August-1865'],\n",
       " ['23-August-1865'],\n",
       " ['23-August-1865', '23-August-1865', '23-August-1865', '23-August-1865'],\n",
       " ['14-Septembre-1865'],\n",
       " ['14-Septembre-1865',\n",
       "  '14-Septembre-1865',\n",
       "  '18-Septembre-1865',\n",
       "  '14-Septembre-1865',\n",
       "  '14-Septembre-1865'],\n",
       " ['16-Sept.-1865'],\n",
       " ['16-Septembre-1865', '16-Septembre-1865'],\n",
       " ['23-August-1865'],\n",
       " ['23-August-1865', '23-August-1865', '28-August-1865'],\n",
       " ['15-August-1865'],\n",
       " ['15-August-1865', '29-May-1865'],\n",
       " ['8-December-1863', '15-August-1865', '15-August-1865', '29-May-1865'],\n",
       " ['15-August-1865', '15-August-1865'],\n",
       " ['8-Septembre-1865'],\n",
       " ['8-Septembre-1865', '8-Septembre-1865', '8-Septembre-1865'],\n",
       " ['14-August-1865'],\n",
       " ['14-August-1865', '29-May-1865'],\n",
       " ['8-December-1863', '14-August-1865', '14-August-1865'],\n",
       " ['14-August-1865', '14-August-1865'],\n",
       " ['28-August-1865'],\n",
       " ['28-August-1865', '28-August-1865', '28-August-1865'],\n",
       " ['14-Sept.-1865'],\n",
       " ['14-Septembre-1865', '14-Septembre-1865', '14-Septembre-1865'],\n",
       " ['27-Septembre-1865'],\n",
       " ['27-Septembre-1865', '27-Septembre-1865', '27-Septembre-1865'],\n",
       " ['24-August-1865'],\n",
       " ['24-August-1865', '24-August-1865', '24-August-1865'],\n",
       " ['30-August-1865'],\n",
       " ['31-August-1865', '31-August-1865'],\n",
       " ['12-August-1865'],\n",
       " ['2-August-1865', '29-May-1865'],\n",
       " ['8-December-1863', '12-August-1865', '12-August-1865'],\n",
       " ['12-August-1865', '12-August-1865', '12-August-1865'],\n",
       " ['12-August-1865'],\n",
       " ['12-August-1865'],\n",
       " ['8-December-1863', '12-August-1865', '12-August-1865'],\n",
       " ['12-August-1865', '12-August-1865', '12-August-1865', '12-August-1865'],\n",
       " ['20-Sept.-1865'],\n",
       " ['2-Sept.-1805', '29-May-1865'],\n",
       " ['8-December-1863', '2-Septembre-1865', '29-May-1865'],\n",
       " ['2-Septembre-1865', '2-Septembre-1865', '2-Sept.-1865', '2-Septembre-1865'],\n",
       " ['14-Septembre-1865'],\n",
       " ['14-Septembre-1865', '14-Septembre-1865', '14-Septembre-1865'],\n",
       " ['18-Sept.-1865'],\n",
       " ['19-Septembre-1865', '19-Septembre-1865', '19-Septembre-1865'],\n",
       " ['23-Sept.-1865'],\n",
       " ['23-Sept.-1865',\n",
       "  '23-Septembre-1865',\n",
       "  '23-Septembre-1865',\n",
       "  '23-Septembre-1865'],\n",
       " ['27-Sept.-1865'],\n",
       " ['27-Septembre-1865', '27-Septembre-1865'],\n",
       " ['29-Septembre-1856'],\n",
       " ['29-Septembre-1865', '29-Septembre-1865', '29-Septembre-1865'],\n",
       " ['19-August-1865'],\n",
       " ['19-Aug.-1865', '19-August-1865', '19-August-1865'],\n",
       " ['19-August-1865'],\n",
       " ['19-Aug.-1865', '29-May-1865'],\n",
       " ['8-December-1863', '19-August-1865', '29-May-1865'],\n",
       " ['19-August-1865', '19-August-1865'],\n",
       " ['21-August-1865'],\n",
       " ['21-August-1865', '21-August-1865'],\n",
       " ['21-August-1865'],\n",
       " ['21-August-1865', '21-August-1865', '21-August-1865'],\n",
       " ['15-August-1865'],\n",
       " ['29-May-1865'],\n",
       " ['8-December-1863', '15-August-1865', '15-August-1865', '29-May-1865'],\n",
       " ['15-August-1865', '15-August-1865'],\n",
       " ['2-Sept.-1865'],\n",
       " ['2-Septembre-1865', '2-Septembre-1865', '2-Sept.-1865'],\n",
       " [],\n",
       " ['13-Septembre-1865', '13-Septembre-1865', '13-Septembre-1865'],\n",
       " ['13-Septembre-1865'],\n",
       " ['13-Septembre-1865', '13-Septembre-1865', '13-Septembre-1865'],\n",
       " ['14-Septembre-1865'],\n",
       " ['14-Septembre-1865', '14-Septembre-1865'],\n",
       " ['30-Septembre-1865'],\n",
       " ['30-Septembre-1865',\n",
       "  '30-Septembre-1865',\n",
       "  '30-Sept.-1865',\n",
       "  '30-Septembre-1865'],\n",
       " ['27-Septembre-1865'],\n",
       " ['27-Septembre-1865', '27-Septembre-1865', '27-Septembre-1865'],\n",
       " ['18-Septembre-1865'],\n",
       " ['18-Sept.-1865', '18-Sept.-1865', '18-Septembre-1865', '18-Septembre-1865'],\n",
       " ['26-Septembre-1865',\n",
       "  '26-Sep.-1865',\n",
       "  '26-This-1865',\n",
       "  '7-Sep.-1865',\n",
       "  'This 26th -Sep.-1865'],\n",
       " ['26-Septembre-1865', '26-Septembre-1865'],\n",
       " ['11-Septembre-1865'],\n",
       " ['11-Septembre-1865',\n",
       "  '11-Septembre-1865',\n",
       "  '18-Septembre-1865',\n",
       "  '11-Septembre-1865'],\n",
       " ['5-Septembre-1865'],\n",
       " ['5-Septembre-1865', '5-Septembre-1865'],\n",
       " ['12-Septembre-1865'],\n",
       " ['12-Septembre-1865', '12-Septembre-1865'],\n",
       " [],\n",
       " ['5-Septembre-1865', '5-Septembre-1865', '5-Septembre-1865'],\n",
       " ['14-Sept.-1865'],\n",
       " ['1-Septembre-1865',\n",
       "  '14-Septembre-1865',\n",
       "  '14-Septembre-1865',\n",
       "  '14-Septembre-1865'],\n",
       " ['15-Septembre-1865'],\n",
       " ['15-Septembre-1865', '15-Septembre-1865', '15-Septembre-1865'],\n",
       " ['19-August-1865'],\n",
       " ['19-August-1865', '19-August-1865'],\n",
       " [],\n",
       " ['20-Septembre-1865',\n",
       "  '28-Septembre-1865',\n",
       "  '28-Septembre-1865',\n",
       "  '28-Septembre-1865'],\n",
       " ['18-Septembre-1865'],\n",
       " ['18-Septembre-1865', '18-Septembre-1865', '18-Septembre-1865'],\n",
       " ['24-August-1865'],\n",
       " ['24-August-1865', '24-August-1865', '24-Aug.-1865'],\n",
       " ['12-August-1865'],\n",
       " ['12-August-1865', '29-May-1865'],\n",
       " ['8-December-1863', '12-August-1865', '12-Aug.-1865', '29-May-1865'],\n",
       " ['12-August-1865', '12-August-1865'],\n",
       " [],\n",
       " ['12-August-1865', '29-May-1865'],\n",
       " ['8-December-1863', '12-August-1865', '12-August-1865', '29-May-1865'],\n",
       " ['12-August-1865', '12-August-1865', '12-August-1865'],\n",
       " ['7-Septembre-1865'],\n",
       " ['7-Septembre-1865', '7-Septembre-1865', '7-Septembre-1865'],\n",
       " ['12-August-1865'],\n",
       " ['29-May-1865'],\n",
       " ['8-December-1863', '19-August-1865', '19-August-1865'],\n",
       " ['19-August-1865', '19-August-1865'],\n",
       " ['19-August-1865'],\n",
       " ['18-August-1865', '18-August-1865'],\n",
       " [],\n",
       " ['21-August-1865', '21-August-1865'],\n",
       " ['23-August-1865'],\n",
       " ['23-August-1865', '23-August-1865'],\n",
       " ['23-August-1865'],\n",
       " ['23-August-1865', '23-Agu-1865'],\n",
       " ['25-August-1865'],\n",
       " ['25-August-1865', '25-August-1865'],\n",
       " ['1-Septembre-1865'],\n",
       " ['1-Septembre-1865',\n",
       "  '1-Septembre-1865',\n",
       "  '13-Septembre-1865',\n",
       "  '13-Septembre-1865'],\n",
       " ['13-Sept.-1865'],\n",
       " ['13-Septembre-1865', '13-Septembre-1865', '13-Septembre-1865'],\n",
       " ['14-Septembre-1865'],\n",
       " ['14-Septembre-1865',\n",
       "  '14-Septembre-1865',\n",
       "  '14-Septembre-1865',\n",
       "  '14-Septembre-1865'],\n",
       " ['18-Septembre-1865'],\n",
       " ['18-Septembre-1865', '18-Septembre-1865'],\n",
       " ['19-Sept.-1865'],\n",
       " ['19-Septembre-1965', '19-Septembre-1865', '19-Septembre-1865'],\n",
       " ['19-Septembre-1865'],\n",
       " ['19-Septembre-1865'],\n",
       " ['19-Septembre-1865', '19-Septembre-1865', '19-Septembre-1865'],\n",
       " ['24-Septembre-1865'],\n",
       " ['24-Septembre-1865', '24-Septembre-1865', '24-Septembre-1865'],\n",
       " ['29-Septembre-1865'],\n",
       " ['29-Septembre-1865', '29-Septembre-1865', '29-Septembre-1865'],\n",
       " ['11-August-1865'],\n",
       " ['11-August-1865', '29-May-1865'],\n",
       " ['8-December-1863', '11-August-1865', '29-May-1865'],\n",
       " ['11-August-1865', '11-August-1865'],\n",
       " ['19-August-1865'],\n",
       " ['19-August-1865', '19-Aug.-1865'],\n",
       " ['20-August-1865'],\n",
       " ['20-August-1865', '20-August-1865', '20-August-1865'],\n",
       " ['29-Sept.-1865'],\n",
       " ['29-Septembre-1865', '29-Septembre-1865', '29-Septembre-1865'],\n",
       " ['29-Septembre-1865'],\n",
       " ['29-Septembre-1865',\n",
       "  '29-Septembre-1865',\n",
       "  '29-Septembre-1865',\n",
       "  '29-Sept.-1865'],\n",
       " ['27-Septembre-1865'],\n",
       " ['27-Sept.-1865', '27-Septembre-1865', '27-Septembre-1865'],\n",
       " ['18-Septembre-1865'],\n",
       " ['18-Septembre-1865', '18-Septembre-1865', '18-Septembre-1865'],\n",
       " [],\n",
       " ['18-Sept.-1865', '18-Septembre-1865', '18-Septembre-1865'],\n",
       " ['18-Sept.-1865'],\n",
       " ['18-Septembre-1865', '18-Sept.-1865', '18-Septembre-1865'],\n",
       " ['11-Sept.-1865'],\n",
       " ['11-Septembre-1865',\n",
       "  '11-Septembre-1865',\n",
       "  '11-Septembre-1865',\n",
       "  '11-Septembre-1865'],\n",
       " ['18-Septembre-1865'],\n",
       " ['18-Septembre-1865', '18-Septembre-1865'],\n",
       " ['19-August-1865'],\n",
       " ['19-Aug.-1865', '19-August-1865'],\n",
       " ['13-Septembre-1868'],\n",
       " ['13-Septembre-1865', '13-Septembre-1865', '13-Septembre-1865'],\n",
       " ['30-Septembre-1865'],\n",
       " ['30-Septembre-1865', '30-Septembre-1865', '30-Septembre-1865'],\n",
       " ['14-Septembre-1865'],\n",
       " ['14-Septembre-1865', '14-Septembre-1865', '14-Septembre-1865'],\n",
       " ['21-August-1865'],\n",
       " ['21-August-1865', '29-May-1865'],\n",
       " ['8-December-1863', '21-August-1865', '21-August-1865', '29-May-1865'],\n",
       " ['21-August-1865', '21-August-1865', '21-August-1865', '21-August-1865'],\n",
       " ['27-Septembre-1865'],\n",
       " ['27-Septembre-1865',\n",
       "  '27-Septembre-1865',\n",
       "  '27-Septembre-1865',\n",
       "  '27-Septembre-1865'],\n",
       " ['29-Septembre-1865'],\n",
       " ['29-Septembre-1865', '29-Septembre-1865', '29-Septembre-1865'],\n",
       " ['21-August-1865'],\n",
       " ['21-August-1865', '21-August-1865', '21-August-1865', '21-August-1865'],\n",
       " ['21-August-1865'],\n",
       " ['21-August-1865', '21-August-1865'],\n",
       " ['2-Septembre-1865'],\n",
       " ['2-Septembre-1865',\n",
       "  '2-Septembre-1865',\n",
       "  '18-Septembre-1865',\n",
       "  '2-Septembre-1865',\n",
       "  '2-Septembre-1865'],\n",
       " ['11-August-1865'],\n",
       " ['29-May-1865'],\n",
       " ['8-December-1863', '11-August-1865', '11-August-1865'],\n",
       " ['11-August-1865', '11-August-1865', '11-August-1865'],\n",
       " [],\n",
       " ['23-August-1865', '29-May-1865'],\n",
       " ['8-December-1863', '23-August-1865', '23-August-1865', '29-May-1865'],\n",
       " ['23-August-1865', '23-August-1865'],\n",
       " [],\n",
       " ['23-August-1865', '23-August-1865'],\n",
       " ['19-Sept.-1865'],\n",
       " ['19-Septembre-1865', '19-Septembre-1865', '19-Septembre-1865'],\n",
       " ['22-August-1865'],\n",
       " ['22-August-1865'],\n",
       " ['28-Septembre-1865'],\n",
       " ['28-Septembre-1865', '28-Septembre-1865'],\n",
       " ['9-August-1865'],\n",
       " ['9-August-1865'],\n",
       " ['8-December-1863', '9-August-1865', '9-August-1865', '9-August-1865'],\n",
       " ['9-August-1865', '9-August-1865', '9-August-1865'],\n",
       " ['8-August-1865'],\n",
       " ['29-May-1865'],\n",
       " ['8-December-1863',\n",
       "  '8-August-1865',\n",
       "  '8-August-1865',\n",
       "  '8-August-1865',\n",
       "  '29-May-1865'],\n",
       " ['8-August-1865', '8-August-1865', '8-August-1865', '8-August-1865'],\n",
       " ['10-August-1865'],\n",
       " ['10-August-1865', '29-May-1865'],\n",
       " ['8-December-1863',\n",
       "  '10-August-1865',\n",
       "  '10-August-1865',\n",
       "  '10-August-1865',\n",
       "  '29-May-1865'],\n",
       " ['10-August-1865', '10-August-1865', '10-August-1865'],\n",
       " ['12-August-1865'],\n",
       " ['12-August-1865', '29-May-1865'],\n",
       " ['8-December-1863', '12-August-1865', '29-May-1865'],\n",
       " ['12-August-1865'],\n",
       " ['12-August-1865'],\n",
       " ['12-August-1865', '12-August-1865'],\n",
       " ['15-August-1865'],\n",
       " ['15-August-1865', '29-May-1865'],\n",
       " ['8-December-1863', '15-August-1865', '15-August-1865', '28-May-1865'],\n",
       " ['15-August-1865', '15-August-1865'],\n",
       " ['15-August-1865'],\n",
       " ['9-May-1865'],\n",
       " ['8-December-1863', '15-August-1865', '29-May-1865'],\n",
       " ['15-August-1865', '15-August-1865'],\n",
       " ['19-August-1865'],\n",
       " ['19-August-1865', '19-August-1865'],\n",
       " ['19-August-1865'],\n",
       " ['19-August-1865'],\n",
       " ['20-August-1865'],\n",
       " ['20-August-1865', '20-August-1865', '20-August-1865'],\n",
       " ['20-August-1865'],\n",
       " ['20-August-1865', '20-August-1865', '20-August-1865'],\n",
       " ['21-August-1865'],\n",
       " ['21-August-1865', '21-August-1865'],\n",
       " ['23-August-1865'],\n",
       " ['23-August-1865', '23-August-1865'],\n",
       " ['26-August-1865'],\n",
       " ['26-August-1865'],\n",
       " ['23-August-1865'],\n",
       " ['23-August-1865', '23-August-1865'],\n",
       " ['26-August-1865'],\n",
       " ['26-August-1865', '26-August-1865', '26-Aug.-1865', '26-August-1865'],\n",
       " ['13-August-1865'],\n",
       " ['15-August-1865', '29-May-1865'],\n",
       " ['8-December-1863', '13-August-1865', '15-August-1865', '29-May-1865'],\n",
       " ['15-August-1865', '15-August-1865'],\n",
       " ['15-August-1865'],\n",
       " ['29-May-1865'],\n",
       " ['8-December-1863', '15-August-1865', '15-August-1865', '29-May-1865'],\n",
       " ['15-August-1865', '15-August-1865'],\n",
       " ['8-Sept.-1865'],\n",
       " ['8-Septembre-1865', '8-Septembre-1865'],\n",
       " ['26-August-1865'],\n",
       " ['26-August-1865', '26-August-1865', '26-August-1865'],\n",
       " [],\n",
       " ['4-Septembre-1865', '4-Septembre-1865', '4-Septembre-1865'],\n",
       " ['4-Septembre-1865'],\n",
       " ['4-Septembre-1865', '4-Sep.-1865', '4-Septembre-1865', '4-Septembre-1865'],\n",
       " ['4-Septembre-1865'],\n",
       " ['4-Septembre-1865', '4-Septembre-1865', '4-Septembre-1865'],\n",
       " ['18-Septembre-1865'],\n",
       " ['18-Septembre-1865', '18-Septembre-1865'],\n",
       " ['18-Septembre-1865'],\n",
       " ['18-Septembre-1865',\n",
       "  '18-Septembre-1865',\n",
       "  '18-Septembre-1865',\n",
       "  '18-Septembre-1865'],\n",
       " ['18-Septembre-1865'],\n",
       " ['18-Septembre-1865', '18-Septembre-1865', '18-Septembre-1865'],\n",
       " ['18-Septembre-1865'],\n",
       " ['18-Sept.-1865', '18-Septembre-1865'],\n",
       " ['18-Septembre-1865'],\n",
       " ['18-Sept.-1865', '18-Septembre-1865', '18-Septembre-1865'],\n",
       " ['18-Sept.-1865'],\n",
       " ['18-Sept.-1865', '18-Sept.-1865', '18-Septembre-1865'],\n",
       " ['19-Sept.-1865'],\n",
       " ['18-Septembre-1865',\n",
       "  '18-Septembre-1865',\n",
       "  '19-Septembre-1865',\n",
       "  '19-Septembre-1865'],\n",
       " ['19-Septembre-1865'],\n",
       " ['19-Septembre-1865', '19-Septembre-1865'],\n",
       " ['23-Septembre-1865'],\n",
       " ['23-Sept.-1865',\n",
       "  '23-Septembre-1865',\n",
       "  '23-Septembre-1865',\n",
       "  '23-Septembre-1865'],\n",
       " ['25-Sept.-1865'],\n",
       " ['25-Septembre-1865', '25-Septembre-1865', '25-Septembre-1865'],\n",
       " ['25-Septembre-1865'],\n",
       " ['25-Septembre-1865', '25-Septembre-1865', '25-Septembre-1865'],\n",
       " ['27-Septembre-1865'],\n",
       " ['27-Septembre-1865',\n",
       "  '27-Septembre-1865',\n",
       "  '27-Septembre-1865',\n",
       "  '27-Septembre-1865'],\n",
       " ['27-Septembre-1865'],\n",
       " ['27-Septembre-1865', '27-Septembre-1865', '27-Septembre-1865'],\n",
       " ['8-August-1865'],\n",
       " ['29-May-1865'],\n",
       " ['8-December-1863', '8-August-1865', '8-August-1865', '29-May-1865'],\n",
       " ['8-August-1865', '8-August-1865', '8-August-1865', '8-August-1865'],\n",
       " ['12-August-1865'],\n",
       " ['12-August-1865', '29-May-1865'],\n",
       " ['8-December-1863', '12-August-1865', '12-August-1865'],\n",
       " ['12-August-1865', '12-August-1865', '12-August-1865'],\n",
       " ['21-August-1865'],\n",
       " ['21-August-1865', '21-August-1865', '21-August-1865', '21-August-1865'],\n",
       " ['23-Aug.-1865'],\n",
       " ['28-August-1865', '28-August-1865', '28-August-1865', '28-August-1865'],\n",
       " ['18-Septembre-1865'],\n",
       " ['18-Septembre-1865', '18-Septembre-1865', '18-Septembre-1865'],\n",
       " ['19-Septembre-1865'],\n",
       " ['19-Septembre-1865', '19-Septembre-1865'],\n",
       " ['23-Septembre-1865'],\n",
       " ['23-Septembre-1865',\n",
       "  '23-Septembre-1865',\n",
       "  '23-Septembre-1865',\n",
       "  '23-Septembre-1865'],\n",
       " ['27-Septembre-1865'],\n",
       " ['27-Septembre-1865', '27-Septembre-1865', '27-Septembre-1865'],\n",
       " ['29-Septembre-1865'],\n",
       " ['29-Sept.-1865', '29-Septembre-1865', '29-Septembre-1865'],\n",
       " ['27-Septembre-1865'],\n",
       " ['27-Septembre-1865', '27-Septembre-1865', '27-Septembre-1865'],\n",
       " ['27-Septembre-1865'],\n",
       " ['27-Sept.-1865', '27-Septembre-1865', '27-Septembre-1865'],\n",
       " ['2-Sept.-1865'],\n",
       " ['2-Septembre-1865', '2-Septembre-1865', '2-Septembre-1865'],\n",
       " ['2-Sept.-1865'],\n",
       " ['2-Septembre-1865', '2-Septembre-1865', '2-Septembre-1865'],\n",
       " ['12-Septembre-1865'],\n",
       " ['12-Septembre-1865', '12-Septembre-1865'],\n",
       " ['18-Sept.-1865'],\n",
       " ['18-Septembre-1865', '18-Septembre-1865', '18-Septembre-1865'],\n",
       " ['30-Septembre-1865'],\n",
       " ['30-Septembre-1865', '30-Septembre-1865', '30-Septembre-1865'],\n",
       " ['8-August-1865'],\n",
       " ['29-May-1865'],\n",
       " ['8-December-1863',\n",
       "  '8-August-1865',\n",
       "  '8-August-1865',\n",
       "  '8-August-1865',\n",
       "  '29-May-1865'],\n",
       " ['8-August-1865', '8-August-1865', '8-August-1865'],\n",
       " ['10-August-1865'],\n",
       " ['29-May-1865'],\n",
       " ['8-December-1863', '10-August-1865', '10-August-1865', '29-May-1865'],\n",
       " ['10-August-1865', '10-August-1865', '10-Aug.-1865'],\n",
       " ['23-Aug.-1865'],\n",
       " ['23-August-1865', '23-August-1865', '23-August-1865'],\n",
       " ['18-Septembre-1865'],\n",
       " ['18-Septembre-1865', '18-Septembre-1865'],\n",
       " ['25-Septembre-1865'],\n",
       " ['25-Septembre-1865',\n",
       "  '25-Septembre-1865',\n",
       "  '25-Septembre-1865',\n",
       "  '25-Septembre-1865'],\n",
       " ['30-Septembre-1865'],\n",
       " ['30-Septembre-1865', '30-Septembre-1865', '30-Septembre-1865'],\n",
       " ['18-Sept.-1865'],\n",
       " ['18-Sept.-1865',\n",
       "  '18-Septembre-1865',\n",
       "  '18-Septembre-1865',\n",
       "  '18-Septembre-1865'],\n",
       " ['29-July-1865', '29-July-1865'],\n",
       " ['22-March-1865', '8-December-1863'],\n",
       " [],\n",
       " ['17-June-1865', '29-May-1865'],\n",
       " [],\n",
       " ['29-May-1865'],\n",
       " ['29-August-1865'],\n",
       " [],\n",
       " ['29-May-1865'],\n",
       " ['29-August-1865'],\n",
       " ['29-May-1865', '23-Septembre-1865'],\n",
       " ['29-May-1865', '14-Septembre-1865'],\n",
       " [],\n",
       " ['29-May-1865'],\n",
       " ['20-August-1865', '29-August-1865'],\n",
       " [],\n",
       " ['29-May-1865'],\n",
       " ['20-August-1865', '29-August-1865'],\n",
       " [],\n",
       " ['29-May-1865'],\n",
       " ['20-August-1865', '29-August-1865'],\n",
       " ['20-Septembre-1865', '5-Septembre-1865', '5-Septembre-1865'],\n",
       " ['20-Septembre-1865', '5-Septembre-1865', '5-Septembre-1865'],\n",
       " ['30-August-1865', '30-August-1865'],\n",
       " ['1-Septembre-1865', '1-Septembre-1865'],\n",
       " [],\n",
       " ['29-May-1865'],\n",
       " ['20-August-1865', '29-August-1865'],\n",
       " ['29-May-1865', '29-Septembre-1865', '29-Septembre-1865'],\n",
       " ['29-May-1865', '18-October-1865'],\n",
       " ['29-May-1865', '4-December-1865'],\n",
       " ['29-May-1865', '23-October-1865', '23-October-1865'],\n",
       " ['29-May-1865', '23-October-1865'],\n",
       " ['29-May-1865', '3-Nov.-1865'],\n",
       " ['29-May-1865', '28-November-1865'],\n",
       " ['29-May-1865', '8-December-1865'],\n",
       " ['29-May-1865', 'thirteenth -December-1865'],\n",
       " ['29-May-1865', '5-January-1866', '5-January-1866'],\n",
       " ['26-August-1865',\n",
       "  '26-August-1865',\n",
       "  '7-June-1865',\n",
       "  '8-December-1865',\n",
       "  '2-Dec.-1865'],\n",
       " ['29-May-1865', '11-January-1866', '11-January-1866'],\n",
       " ['11-January-1866'],\n",
       " ['29-May-1865', '18-January-186'],\n",
       " ['11-June-1865', '8-December-1863'],\n",
       " ['29-May-1865'],\n",
       " ['30-January-1866', '31-January-1866'],\n",
       " ['29-May-1865', '8-November-1865'],\n",
       " ['29-May-1865', '6-October-1865'],\n",
       " ['7-October-1865'],\n",
       " ['10-August-1865'],\n",
       " ['2-June-1865', '8-December-1863', '2-June-1865'],\n",
       " ['29-May-1865', '7-October-1865'],\n",
       " ['3-October-1865'],\n",
       " ['29-May-1865', '4-October-1865'],\n",
       " ['29-May-1865', '4-October-1865'],\n",
       " ['29-Septembre-1865', '29-Septembre-1865'],\n",
       " ['29-May-1865', '4-October-1865', '4-October-1865'],\n",
       " ['29-Septembre-1865', '29-Septembre-1865'],\n",
       " ['29-May-1865', '30-August-1865'],\n",
       " ['29-May-1865', '5-October-1865'],\n",
       " ['29-May-1865', '9-August-1865', '9-August-1865'],\n",
       " ['29-May-1865', '5-August-1865'],\n",
       " ['29-May-1865', '28-Septembre-1865'],\n",
       " ['29-May-1865', '8-Septembre-1865'],\n",
       " [],\n",
       " ['23-Septembre-1865', '23-Septembre-1865'],\n",
       " ['10-June-1865', '8-December-1863'],\n",
       " ['10-August-1865', '10-August-1865'],\n",
       " ['29-May-1865', '28-Septembre-1865'],\n",
       " ['29-May-1865', '8-Septembre-1865'],\n",
       " ['13-Aug.-1865', '13-Aug.-1865', '13-Aug.-1865'],\n",
       " ['29-May-1865', '4-October-1865', '10-October-1865'],\n",
       " ['29-May-1965', '2-Septembre-1865', '20-Septembre-1865'],\n",
       " ['29-May-1865', '7-October-1865'],\n",
       " ['29-May-1865', '10-October-1865', '10-October-1865'],\n",
       " ['29-May-1865', '8-Septembre-1865', '28-Septembre-1865'],\n",
       " ['29-May-1865', '24-August-1865'],\n",
       " ['29-May-1865', '15-August-1865'],\n",
       " ['5-Septembre-1865', '6-October-1865'],\n",
       " ['29-May-1865', '7-October-1865'],\n",
       " ['29-May-1865', '7-October-1865', '7-October-1865'],\n",
       " ['29-May-1865', '28-October-1865'],\n",
       " ['29-May-1865', '28-October-1865'],\n",
       " ['3-November-1865', '3-November-1865'],\n",
       " ['29-May-1864', '13-October-1865'],\n",
       " ['29-May-1865', '13-August-1865'],\n",
       " [],\n",
       " ['20-Septembre-1865', '27-Septembre-1865'],\n",
       " ['29-May-1865', '29-August-1865'],\n",
       " ['29-May-1865', '24-October-1865', '24-October-1865'],\n",
       " ['29-May-1865', '26-October-1865'],\n",
       " ['29-May-1865', '4-October-1865'],\n",
       " ['2-Septembre-1865'],\n",
       " ['29-May-1865', '26-October-1865'],\n",
       " ['29-May-1865', '20-October-1865', '20-October-1865'],\n",
       " ['29-May-1865', '2-November-1865'],\n",
       " ['29-May-1865', '30-October-1865', '30-October-1865'],\n",
       " ['27-June-1865', '29-May-1865', '27-June-1865'],\n",
       " ['29-May-1865', '30-October-1865'],\n",
       " ['29-May-1865', '26-October-1865'],\n",
       " ['29-May-1865', '7-November-1865'],\n",
       " ['29-May-1865', '7-November-1865'],\n",
       " ['29-May-1865', '30-October-1865'],\n",
       " ...]"
      ]
     },
     "execution_count": 48,
     "metadata": {},
     "output_type": "execute_result"
    }
   ],
   "source": [
    "NG"
   ]
  },
  {
   "cell_type": "code",
   "execution_count": null,
   "id": "ed05779f",
   "metadata": {
    "papermill": {
     "duration": 0.049418,
     "end_time": "2022-06-11T01:34:14.058744",
     "exception": false,
     "start_time": "2022-06-11T01:34:14.009326",
     "status": "completed"
    },
    "tags": []
   },
   "outputs": [],
   "source": []
  }
 ],
 "metadata": {
  "kernelspec": {
   "display_name": "Python 3",
   "language": "python",
   "name": "python3"
  },
  "language_info": {
   "codemirror_mode": {
    "name": "ipython",
    "version": 3
   },
   "file_extension": ".py",
   "mimetype": "text/x-python",
   "name": "python",
   "nbconvert_exporter": "python",
   "pygments_lexer": "ipython3",
   "version": "3.7.12"
  },
  "papermill": {
   "default_parameters": {},
   "duration": 584.588461,
   "end_time": "2022-06-11T01:34:16.940826",
   "environment_variables": {},
   "exception": null,
   "input_path": "__notebook__.ipynb",
   "output_path": "__notebook__.ipynb",
   "parameters": {},
   "start_time": "2022-06-11T01:24:32.352365",
   "version": "2.3.4"
  },
  "widgets": {
   "application/vnd.jupyter.widget-state+json": {
    "state": {
     "0057c1f157fa4ba9821e37df36f46b76": {
      "model_module": "@jupyter-widgets/base",
      "model_module_version": "1.2.0",
      "model_name": "LayoutModel",
      "state": {
       "_model_module": "@jupyter-widgets/base",
       "_model_module_version": "1.2.0",
       "_model_name": "LayoutModel",
       "_view_count": null,
       "_view_module": "@jupyter-widgets/base",
       "_view_module_version": "1.2.0",
       "_view_name": "LayoutView",
       "align_content": null,
       "align_items": null,
       "align_self": null,
       "border": null,
       "bottom": null,
       "display": null,
       "flex": null,
       "flex_flow": null,
       "grid_area": null,
       "grid_auto_columns": null,
       "grid_auto_flow": null,
       "grid_auto_rows": null,
       "grid_column": null,
       "grid_gap": null,
       "grid_row": null,
       "grid_template_areas": null,
       "grid_template_columns": null,
       "grid_template_rows": null,
       "height": null,
       "justify_content": null,
       "justify_items": null,
       "left": null,
       "margin": null,
       "max_height": null,
       "max_width": null,
       "min_height": null,
       "min_width": null,
       "object_fit": null,
       "object_position": null,
       "order": null,
       "overflow": null,
       "overflow_x": null,
       "overflow_y": null,
       "padding": null,
       "right": null,
       "top": null,
       "visibility": null,
       "width": null
      }
     },
     "028e763b5e9b41ef9f1c5fb528972387": {
      "model_module": "@jupyter-widgets/base",
      "model_module_version": "1.2.0",
      "model_name": "LayoutModel",
      "state": {
       "_model_module": "@jupyter-widgets/base",
       "_model_module_version": "1.2.0",
       "_model_name": "LayoutModel",
       "_view_count": null,
       "_view_module": "@jupyter-widgets/base",
       "_view_module_version": "1.2.0",
       "_view_name": "LayoutView",
       "align_content": null,
       "align_items": null,
       "align_self": null,
       "border": null,
       "bottom": null,
       "display": null,
       "flex": null,
       "flex_flow": null,
       "grid_area": null,
       "grid_auto_columns": null,
       "grid_auto_flow": null,
       "grid_auto_rows": null,
       "grid_column": null,
       "grid_gap": null,
       "grid_row": null,
       "grid_template_areas": null,
       "grid_template_columns": null,
       "grid_template_rows": null,
       "height": null,
       "justify_content": null,
       "justify_items": null,
       "left": null,
       "margin": null,
       "max_height": null,
       "max_width": null,
       "min_height": null,
       "min_width": null,
       "object_fit": null,
       "object_position": null,
       "order": null,
       "overflow": null,
       "overflow_x": null,
       "overflow_y": null,
       "padding": null,
       "right": null,
       "top": null,
       "visibility": null,
       "width": null
      }
     },
     "130606bcab6c4c039445586bf63356f5": {
      "model_module": "@jupyter-widgets/base",
      "model_module_version": "1.2.0",
      "model_name": "LayoutModel",
      "state": {
       "_model_module": "@jupyter-widgets/base",
       "_model_module_version": "1.2.0",
       "_model_name": "LayoutModel",
       "_view_count": null,
       "_view_module": "@jupyter-widgets/base",
       "_view_module_version": "1.2.0",
       "_view_name": "LayoutView",
       "align_content": null,
       "align_items": null,
       "align_self": null,
       "border": null,
       "bottom": null,
       "display": null,
       "flex": null,
       "flex_flow": null,
       "grid_area": null,
       "grid_auto_columns": null,
       "grid_auto_flow": null,
       "grid_auto_rows": null,
       "grid_column": null,
       "grid_gap": null,
       "grid_row": null,
       "grid_template_areas": null,
       "grid_template_columns": null,
       "grid_template_rows": null,
       "height": null,
       "justify_content": null,
       "justify_items": null,
       "left": null,
       "margin": null,
       "max_height": null,
       "max_width": null,
       "min_height": null,
       "min_width": null,
       "object_fit": null,
       "object_position": null,
       "order": null,
       "overflow": null,
       "overflow_x": null,
       "overflow_y": null,
       "padding": null,
       "right": null,
       "top": null,
       "visibility": null,
       "width": null
      }
     },
     "14f531ce7f814f1eaec93ed159a6f536": {
      "model_module": "@jupyter-widgets/controls",
      "model_module_version": "1.5.0",
      "model_name": "HBoxModel",
      "state": {
       "_dom_classes": [],
       "_model_module": "@jupyter-widgets/controls",
       "_model_module_version": "1.5.0",
       "_model_name": "HBoxModel",
       "_view_count": null,
       "_view_module": "@jupyter-widgets/controls",
       "_view_module_version": "1.5.0",
       "_view_name": "HBoxView",
       "box_style": "",
       "children": [
        "IPY_MODEL_ee0ec1f4567b47a996b39166cada7bab",
        "IPY_MODEL_2424b301a1d042f2ab0776497dabb549",
        "IPY_MODEL_83b42f11f47e4bcd8798f805924f3f67"
       ],
       "layout": "IPY_MODEL_cd00d541953840da919ab732aefd868f"
      }
     },
     "1af17cbd9359441f870789b8d9f8a8fa": {
      "model_module": "@jupyter-widgets/base",
      "model_module_version": "1.2.0",
      "model_name": "LayoutModel",
      "state": {
       "_model_module": "@jupyter-widgets/base",
       "_model_module_version": "1.2.0",
       "_model_name": "LayoutModel",
       "_view_count": null,
       "_view_module": "@jupyter-widgets/base",
       "_view_module_version": "1.2.0",
       "_view_name": "LayoutView",
       "align_content": null,
       "align_items": null,
       "align_self": null,
       "border": null,
       "bottom": null,
       "display": null,
       "flex": null,
       "flex_flow": null,
       "grid_area": null,
       "grid_auto_columns": null,
       "grid_auto_flow": null,
       "grid_auto_rows": null,
       "grid_column": null,
       "grid_gap": null,
       "grid_row": null,
       "grid_template_areas": null,
       "grid_template_columns": null,
       "grid_template_rows": null,
       "height": null,
       "justify_content": null,
       "justify_items": null,
       "left": null,
       "margin": null,
       "max_height": null,
       "max_width": null,
       "min_height": null,
       "min_width": null,
       "object_fit": null,
       "object_position": null,
       "order": null,
       "overflow": null,
       "overflow_x": null,
       "overflow_y": null,
       "padding": null,
       "right": null,
       "top": null,
       "visibility": null,
       "width": null
      }
     },
     "1b739786104147abb582a229b9f5cb11": {
      "model_module": "@jupyter-widgets/base",
      "model_module_version": "1.2.0",
      "model_name": "LayoutModel",
      "state": {
       "_model_module": "@jupyter-widgets/base",
       "_model_module_version": "1.2.0",
       "_model_name": "LayoutModel",
       "_view_count": null,
       "_view_module": "@jupyter-widgets/base",
       "_view_module_version": "1.2.0",
       "_view_name": "LayoutView",
       "align_content": null,
       "align_items": null,
       "align_self": null,
       "border": null,
       "bottom": null,
       "display": null,
       "flex": null,
       "flex_flow": null,
       "grid_area": null,
       "grid_auto_columns": null,
       "grid_auto_flow": null,
       "grid_auto_rows": null,
       "grid_column": null,
       "grid_gap": null,
       "grid_row": null,
       "grid_template_areas": null,
       "grid_template_columns": null,
       "grid_template_rows": null,
       "height": null,
       "justify_content": null,
       "justify_items": null,
       "left": null,
       "margin": null,
       "max_height": null,
       "max_width": null,
       "min_height": null,
       "min_width": null,
       "object_fit": null,
       "object_position": null,
       "order": null,
       "overflow": null,
       "overflow_x": null,
       "overflow_y": null,
       "padding": null,
       "right": null,
       "top": null,
       "visibility": null,
       "width": null
      }
     },
     "1f577ced42f3418c8a8ae16537f06666": {
      "model_module": "@jupyter-widgets/controls",
      "model_module_version": "1.5.0",
      "model_name": "DescriptionStyleModel",
      "state": {
       "_model_module": "@jupyter-widgets/controls",
       "_model_module_version": "1.5.0",
       "_model_name": "DescriptionStyleModel",
       "_view_count": null,
       "_view_module": "@jupyter-widgets/base",
       "_view_module_version": "1.2.0",
       "_view_name": "StyleView",
       "description_width": ""
      }
     },
     "239a58e3305f4238bf69403ce4dbc333": {
      "model_module": "@jupyter-widgets/controls",
      "model_module_version": "1.5.0",
      "model_name": "FloatProgressModel",
      "state": {
       "_dom_classes": [],
       "_model_module": "@jupyter-widgets/controls",
       "_model_module_version": "1.5.0",
       "_model_name": "FloatProgressModel",
       "_view_count": null,
       "_view_module": "@jupyter-widgets/controls",
       "_view_module_version": "1.5.0",
       "_view_name": "ProgressView",
       "bar_style": "success",
       "description": "",
       "description_tooltip": null,
       "layout": "IPY_MODEL_d347e8d3c38e433fb677d503e1e96ecc",
       "max": 616.0,
       "min": 0.0,
       "orientation": "horizontal",
       "style": "IPY_MODEL_a60df12b22334568b38f7becc9f1eb1e",
       "value": 616.0
      }
     },
     "2424b301a1d042f2ab0776497dabb549": {
      "model_module": "@jupyter-widgets/controls",
      "model_module_version": "1.5.0",
      "model_name": "FloatProgressModel",
      "state": {
       "_dom_classes": [],
       "_model_module": "@jupyter-widgets/controls",
       "_model_module_version": "1.5.0",
       "_model_name": "FloatProgressModel",
       "_view_count": null,
       "_view_module": "@jupyter-widgets/controls",
       "_view_module_version": "1.5.0",
       "_view_name": "ProgressView",
       "bar_style": "success",
       "description": "",
       "description_tooltip": null,
       "layout": "IPY_MODEL_f0e23d2ccbf24b6d9a55eb17fad06f2f",
       "max": 9096718.0,
       "min": 0.0,
       "orientation": "horizontal",
       "style": "IPY_MODEL_7deea8fbc70f4308adcfe14b8442eb00",
       "value": 9096718.0
      }
     },
     "25542dea4508495893e0fb8a29194f97": {
      "model_module": "@jupyter-widgets/base",
      "model_module_version": "1.2.0",
      "model_name": "LayoutModel",
      "state": {
       "_model_module": "@jupyter-widgets/base",
       "_model_module_version": "1.2.0",
       "_model_name": "LayoutModel",
       "_view_count": null,
       "_view_module": "@jupyter-widgets/base",
       "_view_module_version": "1.2.0",
       "_view_name": "LayoutView",
       "align_content": null,
       "align_items": null,
       "align_self": null,
       "border": null,
       "bottom": null,
       "display": null,
       "flex": null,
       "flex_flow": null,
       "grid_area": null,
       "grid_auto_columns": null,
       "grid_auto_flow": null,
       "grid_auto_rows": null,
       "grid_column": null,
       "grid_gap": null,
       "grid_row": null,
       "grid_template_areas": null,
       "grid_template_columns": null,
       "grid_template_rows": null,
       "height": null,
       "justify_content": null,
       "justify_items": null,
       "left": null,
       "margin": null,
       "max_height": null,
       "max_width": null,
       "min_height": null,
       "min_width": null,
       "object_fit": null,
       "object_position": null,
       "order": null,
       "overflow": null,
       "overflow_x": null,
       "overflow_y": null,
       "padding": null,
       "right": null,
       "top": null,
       "visibility": null,
       "width": null
      }
     },
     "2975a223f02240339a6068c52b1d2d04": {
      "model_module": "@jupyter-widgets/controls",
      "model_module_version": "1.5.0",
      "model_name": "ProgressStyleModel",
      "state": {
       "_model_module": "@jupyter-widgets/controls",
       "_model_module_version": "1.5.0",
       "_model_name": "ProgressStyleModel",
       "_view_count": null,
       "_view_module": "@jupyter-widgets/base",
       "_view_module_version": "1.2.0",
       "_view_name": "StyleView",
       "bar_color": null,
       "description_width": ""
      }
     },
     "345853c2e3b842e1a2fac31b472c485e": {
      "model_module": "@jupyter-widgets/controls",
      "model_module_version": "1.5.0",
      "model_name": "HTMLModel",
      "state": {
       "_dom_classes": [],
       "_model_module": "@jupyter-widgets/controls",
       "_model_module_version": "1.5.0",
       "_model_name": "HTMLModel",
       "_view_count": null,
       "_view_module": "@jupyter-widgets/controls",
       "_view_module_version": "1.5.0",
       "_view_name": "HTMLView",
       "description": "",
       "description_tooltip": null,
       "layout": "IPY_MODEL_130606bcab6c4c039445586bf63356f5",
       "placeholder": "​",
       "style": "IPY_MODEL_80c0d7244430448993bb045d5197be58",
       "value": "Downloading: 100%"
      }
     },
     "39791e56a62d4305874eef69b1a8381f": {
      "model_module": "@jupyter-widgets/controls",
      "model_module_version": "1.5.0",
      "model_name": "DescriptionStyleModel",
      "state": {
       "_model_module": "@jupyter-widgets/controls",
       "_model_module_version": "1.5.0",
       "_model_name": "DescriptionStyleModel",
       "_view_count": null,
       "_view_module": "@jupyter-widgets/base",
       "_view_module_version": "1.2.0",
       "_view_name": "StyleView",
       "description_width": ""
      }
     },
     "53eef18466cd47cfb6476251fed35a1e": {
      "model_module": "@jupyter-widgets/base",
      "model_module_version": "1.2.0",
      "model_name": "LayoutModel",
      "state": {
       "_model_module": "@jupyter-widgets/base",
       "_model_module_version": "1.2.0",
       "_model_name": "LayoutModel",
       "_view_count": null,
       "_view_module": "@jupyter-widgets/base",
       "_view_module_version": "1.2.0",
       "_view_name": "LayoutView",
       "align_content": null,
       "align_items": null,
       "align_self": null,
       "border": null,
       "bottom": null,
       "display": null,
       "flex": null,
       "flex_flow": null,
       "grid_area": null,
       "grid_auto_columns": null,
       "grid_auto_flow": null,
       "grid_auto_rows": null,
       "grid_column": null,
       "grid_gap": null,
       "grid_row": null,
       "grid_template_areas": null,
       "grid_template_columns": null,
       "grid_template_rows": null,
       "height": null,
       "justify_content": null,
       "justify_items": null,
       "left": null,
       "margin": null,
       "max_height": null,
       "max_width": null,
       "min_height": null,
       "min_width": null,
       "object_fit": null,
       "object_position": null,
       "order": null,
       "overflow": null,
       "overflow_x": null,
       "overflow_y": null,
       "padding": null,
       "right": null,
       "top": null,
       "visibility": null,
       "width": null
      }
     },
     "5629ebfa80c74ca4a9e5131e22ddaec4": {
      "model_module": "@jupyter-widgets/base",
      "model_module_version": "1.2.0",
      "model_name": "LayoutModel",
      "state": {
       "_model_module": "@jupyter-widgets/base",
       "_model_module_version": "1.2.0",
       "_model_name": "LayoutModel",
       "_view_count": null,
       "_view_module": "@jupyter-widgets/base",
       "_view_module_version": "1.2.0",
       "_view_name": "LayoutView",
       "align_content": null,
       "align_items": null,
       "align_self": null,
       "border": null,
       "bottom": null,
       "display": null,
       "flex": null,
       "flex_flow": null,
       "grid_area": null,
       "grid_auto_columns": null,
       "grid_auto_flow": null,
       "grid_auto_rows": null,
       "grid_column": null,
       "grid_gap": null,
       "grid_row": null,
       "grid_template_areas": null,
       "grid_template_columns": null,
       "grid_template_rows": null,
       "height": null,
       "justify_content": null,
       "justify_items": null,
       "left": null,
       "margin": null,
       "max_height": null,
       "max_width": null,
       "min_height": null,
       "min_width": null,
       "object_fit": null,
       "object_position": null,
       "order": null,
       "overflow": null,
       "overflow_x": null,
       "overflow_y": null,
       "padding": null,
       "right": null,
       "top": null,
       "visibility": null,
       "width": null
      }
     },
     "5966f06c46ca416aacae2159d0a23fec": {
      "model_module": "@jupyter-widgets/base",
      "model_module_version": "1.2.0",
      "model_name": "LayoutModel",
      "state": {
       "_model_module": "@jupyter-widgets/base",
       "_model_module_version": "1.2.0",
       "_model_name": "LayoutModel",
       "_view_count": null,
       "_view_module": "@jupyter-widgets/base",
       "_view_module_version": "1.2.0",
       "_view_name": "LayoutView",
       "align_content": null,
       "align_items": null,
       "align_self": null,
       "border": null,
       "bottom": null,
       "display": null,
       "flex": null,
       "flex_flow": null,
       "grid_area": null,
       "grid_auto_columns": null,
       "grid_auto_flow": null,
       "grid_auto_rows": null,
       "grid_column": null,
       "grid_gap": null,
       "grid_row": null,
       "grid_template_areas": null,
       "grid_template_columns": null,
       "grid_template_rows": null,
       "height": null,
       "justify_content": null,
       "justify_items": null,
       "left": null,
       "margin": null,
       "max_height": null,
       "max_width": null,
       "min_height": null,
       "min_width": null,
       "object_fit": null,
       "object_position": null,
       "order": null,
       "overflow": null,
       "overflow_x": null,
       "overflow_y": null,
       "padding": null,
       "right": null,
       "top": null,
       "visibility": null,
       "width": null
      }
     },
     "62a6bb3a621a485eb1051762f6e72035": {
      "model_module": "@jupyter-widgets/controls",
      "model_module_version": "1.5.0",
      "model_name": "HTMLModel",
      "state": {
       "_dom_classes": [],
       "_model_module": "@jupyter-widgets/controls",
       "_model_module_version": "1.5.0",
       "_model_name": "HTMLModel",
       "_view_count": null,
       "_view_module": "@jupyter-widgets/controls",
       "_view_module_version": "1.5.0",
       "_view_name": "HTMLView",
       "description": "",
       "description_tooltip": null,
       "layout": "IPY_MODEL_febfbc9d72ee4238a79e37fc003f9050",
       "placeholder": "​",
       "style": "IPY_MODEL_f73cbc3c79e14443aabb8a79c46f0142",
       "value": " 2.24G/2.24G [01:38&lt;00:00, 23.7MB/s]"
      }
     },
     "72effd1b3e5c4271ae4bffec2b2339f6": {
      "model_module": "@jupyter-widgets/controls",
      "model_module_version": "1.5.0",
      "model_name": "HBoxModel",
      "state": {
       "_dom_classes": [],
       "_model_module": "@jupyter-widgets/controls",
       "_model_module_version": "1.5.0",
       "_model_name": "HBoxModel",
       "_view_count": null,
       "_view_module": "@jupyter-widgets/controls",
       "_view_module_version": "1.5.0",
       "_view_name": "HBoxView",
       "box_style": "",
       "children": [
        "IPY_MODEL_b4ac15db53df4bc585babbbca32c860b",
        "IPY_MODEL_f855f2759e3847e99cbf0e5971c4b807",
        "IPY_MODEL_e13f32330b1d4c92a5787a6f5a2f7c33"
       ],
       "layout": "IPY_MODEL_f2219b6f2a05461b830d98a42c690626"
      }
     },
     "7b4c8be917b94eeab8a3020bed42c65b": {
      "model_module": "@jupyter-widgets/controls",
      "model_module_version": "1.5.0",
      "model_name": "FloatProgressModel",
      "state": {
       "_dom_classes": [],
       "_model_module": "@jupyter-widgets/controls",
       "_model_module_version": "1.5.0",
       "_model_name": "FloatProgressModel",
       "_view_count": null,
       "_view_module": "@jupyter-widgets/controls",
       "_view_module_version": "1.5.0",
       "_view_name": "ProgressView",
       "bar_style": "success",
       "description": "",
       "description_tooltip": null,
       "layout": "IPY_MODEL_1af17cbd9359441f870789b8d9f8a8fa",
       "max": 5069051.0,
       "min": 0.0,
       "orientation": "horizontal",
       "style": "IPY_MODEL_2975a223f02240339a6068c52b1d2d04",
       "value": 5069051.0
      }
     },
     "7deea8fbc70f4308adcfe14b8442eb00": {
      "model_module": "@jupyter-widgets/controls",
      "model_module_version": "1.5.0",
      "model_name": "ProgressStyleModel",
      "state": {
       "_model_module": "@jupyter-widgets/controls",
       "_model_module_version": "1.5.0",
       "_model_name": "ProgressStyleModel",
       "_view_count": null,
       "_view_module": "@jupyter-widgets/base",
       "_view_module_version": "1.2.0",
       "_view_name": "StyleView",
       "bar_color": null,
       "description_width": ""
      }
     },
     "7efa33b2a3034705bc6b28309046e2af": {
      "model_module": "@jupyter-widgets/controls",
      "model_module_version": "1.5.0",
      "model_name": "HTMLModel",
      "state": {
       "_dom_classes": [],
       "_model_module": "@jupyter-widgets/controls",
       "_model_module_version": "1.5.0",
       "_model_name": "HTMLModel",
       "_view_count": null,
       "_view_module": "@jupyter-widgets/controls",
       "_view_module_version": "1.5.0",
       "_view_name": "HTMLView",
       "description": "",
       "description_tooltip": null,
       "layout": "IPY_MODEL_d1c66dfd6c5c4f49bb256c7b807e4281",
       "placeholder": "​",
       "style": "IPY_MODEL_d5d4cf3c30aa4c00b8efdf6321617454",
       "value": " 4.83M/4.83M [00:00&lt;00:00, 12.6MB/s]"
      }
     },
     "80c0d7244430448993bb045d5197be58": {
      "model_module": "@jupyter-widgets/controls",
      "model_module_version": "1.5.0",
      "model_name": "DescriptionStyleModel",
      "state": {
       "_model_module": "@jupyter-widgets/controls",
       "_model_module_version": "1.5.0",
       "_model_name": "DescriptionStyleModel",
       "_view_count": null,
       "_view_module": "@jupyter-widgets/base",
       "_view_module_version": "1.2.0",
       "_view_name": "StyleView",
       "description_width": ""
      }
     },
     "83b42f11f47e4bcd8798f805924f3f67": {
      "model_module": "@jupyter-widgets/controls",
      "model_module_version": "1.5.0",
      "model_name": "HTMLModel",
      "state": {
       "_dom_classes": [],
       "_model_module": "@jupyter-widgets/controls",
       "_model_module_version": "1.5.0",
       "_model_name": "HTMLModel",
       "_view_count": null,
       "_view_module": "@jupyter-widgets/controls",
       "_view_module_version": "1.5.0",
       "_view_name": "HTMLView",
       "description": "",
       "description_tooltip": null,
       "layout": "IPY_MODEL_9f1ead95c38f4ee29c2fb04c48d95b90",
       "placeholder": "​",
       "style": "IPY_MODEL_39791e56a62d4305874eef69b1a8381f",
       "value": " 8.68M/8.68M [00:00&lt;00:00, 21.0MB/s]"
      }
     },
     "868822ffea4b40b8aa0e5cce378cb207": {
      "model_module": "@jupyter-widgets/controls",
      "model_module_version": "1.5.0",
      "model_name": "ProgressStyleModel",
      "state": {
       "_model_module": "@jupyter-widgets/controls",
       "_model_module_version": "1.5.0",
       "_model_name": "ProgressStyleModel",
       "_view_count": null,
       "_view_module": "@jupyter-widgets/base",
       "_view_module_version": "1.2.0",
       "_view_name": "StyleView",
       "bar_color": null,
       "description_width": ""
      }
     },
     "8a1be98308a145f8b7e0f958c61ecf0f": {
      "model_module": "@jupyter-widgets/controls",
      "model_module_version": "1.5.0",
      "model_name": "DescriptionStyleModel",
      "state": {
       "_model_module": "@jupyter-widgets/controls",
       "_model_module_version": "1.5.0",
       "_model_name": "DescriptionStyleModel",
       "_view_count": null,
       "_view_module": "@jupyter-widgets/base",
       "_view_module_version": "1.2.0",
       "_view_name": "StyleView",
       "description_width": ""
      }
     },
     "901ca45577524aaeb0275348f966bf75": {
      "model_module": "@jupyter-widgets/controls",
      "model_module_version": "1.5.0",
      "model_name": "HTMLModel",
      "state": {
       "_dom_classes": [],
       "_model_module": "@jupyter-widgets/controls",
       "_model_module_version": "1.5.0",
       "_model_name": "HTMLModel",
       "_view_count": null,
       "_view_module": "@jupyter-widgets/controls",
       "_view_module_version": "1.5.0",
       "_view_name": "HTMLView",
       "description": "",
       "description_tooltip": null,
       "layout": "IPY_MODEL_5629ebfa80c74ca4a9e5131e22ddaec4",
       "placeholder": "​",
       "style": "IPY_MODEL_b11bdb292a2f4e4b871cd7b7bfa01de5",
       "value": "Downloading: 100%"
      }
     },
     "901d611cc8fe4d078d517a8bd543ef15": {
      "model_module": "@jupyter-widgets/base",
      "model_module_version": "1.2.0",
      "model_name": "LayoutModel",
      "state": {
       "_model_module": "@jupyter-widgets/base",
       "_model_module_version": "1.2.0",
       "_model_name": "LayoutModel",
       "_view_count": null,
       "_view_module": "@jupyter-widgets/base",
       "_view_module_version": "1.2.0",
       "_view_name": "LayoutView",
       "align_content": null,
       "align_items": null,
       "align_self": null,
       "border": null,
       "bottom": null,
       "display": null,
       "flex": null,
       "flex_flow": null,
       "grid_area": null,
       "grid_auto_columns": null,
       "grid_auto_flow": null,
       "grid_auto_rows": null,
       "grid_column": null,
       "grid_gap": null,
       "grid_row": null,
       "grid_template_areas": null,
       "grid_template_columns": null,
       "grid_template_rows": null,
       "height": null,
       "justify_content": null,
       "justify_items": null,
       "left": null,
       "margin": null,
       "max_height": null,
       "max_width": null,
       "min_height": null,
       "min_width": null,
       "object_fit": null,
       "object_position": null,
       "order": null,
       "overflow": null,
       "overflow_x": null,
       "overflow_y": null,
       "padding": null,
       "right": null,
       "top": null,
       "visibility": null,
       "width": null
      }
     },
     "9182163471274cd68820bcbcc5e62992": {
      "model_module": "@jupyter-widgets/base",
      "model_module_version": "1.2.0",
      "model_name": "LayoutModel",
      "state": {
       "_model_module": "@jupyter-widgets/base",
       "_model_module_version": "1.2.0",
       "_model_name": "LayoutModel",
       "_view_count": null,
       "_view_module": "@jupyter-widgets/base",
       "_view_module_version": "1.2.0",
       "_view_name": "LayoutView",
       "align_content": null,
       "align_items": null,
       "align_self": null,
       "border": null,
       "bottom": null,
       "display": null,
       "flex": null,
       "flex_flow": null,
       "grid_area": null,
       "grid_auto_columns": null,
       "grid_auto_flow": null,
       "grid_auto_rows": null,
       "grid_column": null,
       "grid_gap": null,
       "grid_row": null,
       "grid_template_areas": null,
       "grid_template_columns": null,
       "grid_template_rows": null,
       "height": null,
       "justify_content": null,
       "justify_items": null,
       "left": null,
       "margin": null,
       "max_height": null,
       "max_width": null,
       "min_height": null,
       "min_width": null,
       "object_fit": null,
       "object_position": null,
       "order": null,
       "overflow": null,
       "overflow_x": null,
       "overflow_y": null,
       "padding": null,
       "right": null,
       "top": null,
       "visibility": null,
       "width": null
      }
     },
     "918a8309f5f548b8983bd343f5228b9b": {
      "model_module": "@jupyter-widgets/controls",
      "model_module_version": "1.5.0",
      "model_name": "HTMLModel",
      "state": {
       "_dom_classes": [],
       "_model_module": "@jupyter-widgets/controls",
       "_model_module_version": "1.5.0",
       "_model_name": "HTMLModel",
       "_view_count": null,
       "_view_module": "@jupyter-widgets/controls",
       "_view_module_version": "1.5.0",
       "_view_name": "HTMLView",
       "description": "",
       "description_tooltip": null,
       "layout": "IPY_MODEL_25542dea4508495893e0fb8a29194f97",
       "placeholder": "​",
       "style": "IPY_MODEL_b12271df533f477d9ba671797a0f2192",
       "value": " 616/616 [00:00&lt;00:00, 23.9kB/s]"
      }
     },
     "95b11aaf6ba64ad59dc41124178ccaf7": {
      "model_module": "@jupyter-widgets/controls",
      "model_module_version": "1.5.0",
      "model_name": "HBoxModel",
      "state": {
       "_dom_classes": [],
       "_model_module": "@jupyter-widgets/controls",
       "_model_module_version": "1.5.0",
       "_model_name": "HBoxModel",
       "_view_count": null,
       "_view_module": "@jupyter-widgets/controls",
       "_view_module_version": "1.5.0",
       "_view_name": "HBoxView",
       "box_style": "",
       "children": [
        "IPY_MODEL_901ca45577524aaeb0275348f966bf75",
        "IPY_MODEL_afa996beda934e3cae1271ccc052006f",
        "IPY_MODEL_62a6bb3a621a485eb1051762f6e72035"
       ],
       "layout": "IPY_MODEL_1b739786104147abb582a229b9f5cb11"
      }
     },
     "9f1ead95c38f4ee29c2fb04c48d95b90": {
      "model_module": "@jupyter-widgets/base",
      "model_module_version": "1.2.0",
      "model_name": "LayoutModel",
      "state": {
       "_model_module": "@jupyter-widgets/base",
       "_model_module_version": "1.2.0",
       "_model_name": "LayoutModel",
       "_view_count": null,
       "_view_module": "@jupyter-widgets/base",
       "_view_module_version": "1.2.0",
       "_view_name": "LayoutView",
       "align_content": null,
       "align_items": null,
       "align_self": null,
       "border": null,
       "bottom": null,
       "display": null,
       "flex": null,
       "flex_flow": null,
       "grid_area": null,
       "grid_auto_columns": null,
       "grid_auto_flow": null,
       "grid_auto_rows": null,
       "grid_column": null,
       "grid_gap": null,
       "grid_row": null,
       "grid_template_areas": null,
       "grid_template_columns": null,
       "grid_template_rows": null,
       "height": null,
       "justify_content": null,
       "justify_items": null,
       "left": null,
       "margin": null,
       "max_height": null,
       "max_width": null,
       "min_height": null,
       "min_width": null,
       "object_fit": null,
       "object_position": null,
       "order": null,
       "overflow": null,
       "overflow_x": null,
       "overflow_y": null,
       "padding": null,
       "right": null,
       "top": null,
       "visibility": null,
       "width": null
      }
     },
     "a60df12b22334568b38f7becc9f1eb1e": {
      "model_module": "@jupyter-widgets/controls",
      "model_module_version": "1.5.0",
      "model_name": "ProgressStyleModel",
      "state": {
       "_model_module": "@jupyter-widgets/controls",
       "_model_module_version": "1.5.0",
       "_model_name": "ProgressStyleModel",
       "_view_count": null,
       "_view_module": "@jupyter-widgets/base",
       "_view_module_version": "1.2.0",
       "_view_name": "StyleView",
       "bar_color": null,
       "description_width": ""
      }
     },
     "afa996beda934e3cae1271ccc052006f": {
      "model_module": "@jupyter-widgets/controls",
      "model_module_version": "1.5.0",
      "model_name": "FloatProgressModel",
      "state": {
       "_dom_classes": [],
       "_model_module": "@jupyter-widgets/controls",
       "_model_module_version": "1.5.0",
       "_model_name": "FloatProgressModel",
       "_view_count": null,
       "_view_module": "@jupyter-widgets/controls",
       "_view_module_version": "1.5.0",
       "_view_name": "ProgressView",
       "bar_style": "success",
       "description": "",
       "description_tooltip": null,
       "layout": "IPY_MODEL_028e763b5e9b41ef9f1c5fb528972387",
       "max": 2239866761.0,
       "min": 0.0,
       "orientation": "horizontal",
       "style": "IPY_MODEL_f3fb92b849424776beae742702f7e881",
       "value": 2239866761.0
      }
     },
     "b11bdb292a2f4e4b871cd7b7bfa01de5": {
      "model_module": "@jupyter-widgets/controls",
      "model_module_version": "1.5.0",
      "model_name": "DescriptionStyleModel",
      "state": {
       "_model_module": "@jupyter-widgets/controls",
       "_model_module_version": "1.5.0",
       "_model_name": "DescriptionStyleModel",
       "_view_count": null,
       "_view_module": "@jupyter-widgets/base",
       "_view_module_version": "1.2.0",
       "_view_name": "StyleView",
       "description_width": ""
      }
     },
     "b12271df533f477d9ba671797a0f2192": {
      "model_module": "@jupyter-widgets/controls",
      "model_module_version": "1.5.0",
      "model_name": "DescriptionStyleModel",
      "state": {
       "_model_module": "@jupyter-widgets/controls",
       "_model_module_version": "1.5.0",
       "_model_name": "DescriptionStyleModel",
       "_view_count": null,
       "_view_module": "@jupyter-widgets/base",
       "_view_module_version": "1.2.0",
       "_view_name": "StyleView",
       "description_width": ""
      }
     },
     "b2a8ca366ff1432091722161b2e19055": {
      "model_module": "@jupyter-widgets/base",
      "model_module_version": "1.2.0",
      "model_name": "LayoutModel",
      "state": {
       "_model_module": "@jupyter-widgets/base",
       "_model_module_version": "1.2.0",
       "_model_name": "LayoutModel",
       "_view_count": null,
       "_view_module": "@jupyter-widgets/base",
       "_view_module_version": "1.2.0",
       "_view_name": "LayoutView",
       "align_content": null,
       "align_items": null,
       "align_self": null,
       "border": null,
       "bottom": null,
       "display": null,
       "flex": null,
       "flex_flow": null,
       "grid_area": null,
       "grid_auto_columns": null,
       "grid_auto_flow": null,
       "grid_auto_rows": null,
       "grid_column": null,
       "grid_gap": null,
       "grid_row": null,
       "grid_template_areas": null,
       "grid_template_columns": null,
       "grid_template_rows": null,
       "height": null,
       "justify_content": null,
       "justify_items": null,
       "left": null,
       "margin": null,
       "max_height": null,
       "max_width": null,
       "min_height": null,
       "min_width": null,
       "object_fit": null,
       "object_position": null,
       "order": null,
       "overflow": null,
       "overflow_x": null,
       "overflow_y": null,
       "padding": null,
       "right": null,
       "top": null,
       "visibility": null,
       "width": null
      }
     },
     "b4ac15db53df4bc585babbbca32c860b": {
      "model_module": "@jupyter-widgets/controls",
      "model_module_version": "1.5.0",
      "model_name": "HTMLModel",
      "state": {
       "_dom_classes": [],
       "_model_module": "@jupyter-widgets/controls",
       "_model_module_version": "1.5.0",
       "_model_name": "HTMLModel",
       "_view_count": null,
       "_view_module": "@jupyter-widgets/controls",
       "_view_module_version": "1.5.0",
       "_view_name": "HTMLView",
       "description": "",
       "description_tooltip": null,
       "layout": "IPY_MODEL_901d611cc8fe4d078d517a8bd543ef15",
       "placeholder": "​",
       "style": "IPY_MODEL_8a1be98308a145f8b7e0f958c61ecf0f",
       "value": "Downloading: 100%"
      }
     },
     "bfe5513357ae49f4a0b174cc2b26a1bc": {
      "model_module": "@jupyter-widgets/controls",
      "model_module_version": "1.5.0",
      "model_name": "HBoxModel",
      "state": {
       "_dom_classes": [],
       "_model_module": "@jupyter-widgets/controls",
       "_model_module_version": "1.5.0",
       "_model_name": "HBoxModel",
       "_view_count": null,
       "_view_module": "@jupyter-widgets/controls",
       "_view_module_version": "1.5.0",
       "_view_name": "HBoxView",
       "box_style": "",
       "children": [
        "IPY_MODEL_c52eb02820e741fc87633a4524f36ef9",
        "IPY_MODEL_7b4c8be917b94eeab8a3020bed42c65b",
        "IPY_MODEL_7efa33b2a3034705bc6b28309046e2af"
       ],
       "layout": "IPY_MODEL_53eef18466cd47cfb6476251fed35a1e"
      }
     },
     "c52eb02820e741fc87633a4524f36ef9": {
      "model_module": "@jupyter-widgets/controls",
      "model_module_version": "1.5.0",
      "model_name": "HTMLModel",
      "state": {
       "_dom_classes": [],
       "_model_module": "@jupyter-widgets/controls",
       "_model_module_version": "1.5.0",
       "_model_name": "HTMLModel",
       "_view_count": null,
       "_view_module": "@jupyter-widgets/controls",
       "_view_module_version": "1.5.0",
       "_view_name": "HTMLView",
       "description": "",
       "description_tooltip": null,
       "layout": "IPY_MODEL_5966f06c46ca416aacae2159d0a23fec",
       "placeholder": "​",
       "style": "IPY_MODEL_fb140ac299c5463ebc1054d42a7ca29c",
       "value": "Downloading: 100%"
      }
     },
     "cd00d541953840da919ab732aefd868f": {
      "model_module": "@jupyter-widgets/base",
      "model_module_version": "1.2.0",
      "model_name": "LayoutModel",
      "state": {
       "_model_module": "@jupyter-widgets/base",
       "_model_module_version": "1.2.0",
       "_model_name": "LayoutModel",
       "_view_count": null,
       "_view_module": "@jupyter-widgets/base",
       "_view_module_version": "1.2.0",
       "_view_name": "LayoutView",
       "align_content": null,
       "align_items": null,
       "align_self": null,
       "border": null,
       "bottom": null,
       "display": null,
       "flex": null,
       "flex_flow": null,
       "grid_area": null,
       "grid_auto_columns": null,
       "grid_auto_flow": null,
       "grid_auto_rows": null,
       "grid_column": null,
       "grid_gap": null,
       "grid_row": null,
       "grid_template_areas": null,
       "grid_template_columns": null,
       "grid_template_rows": null,
       "height": null,
       "justify_content": null,
       "justify_items": null,
       "left": null,
       "margin": null,
       "max_height": null,
       "max_width": null,
       "min_height": null,
       "min_width": null,
       "object_fit": null,
       "object_position": null,
       "order": null,
       "overflow": null,
       "overflow_x": null,
       "overflow_y": null,
       "padding": null,
       "right": null,
       "top": null,
       "visibility": null,
       "width": null
      }
     },
     "cf251f09c2994296ba7dee5f3cc25538": {
      "model_module": "@jupyter-widgets/base",
      "model_module_version": "1.2.0",
      "model_name": "LayoutModel",
      "state": {
       "_model_module": "@jupyter-widgets/base",
       "_model_module_version": "1.2.0",
       "_model_name": "LayoutModel",
       "_view_count": null,
       "_view_module": "@jupyter-widgets/base",
       "_view_module_version": "1.2.0",
       "_view_name": "LayoutView",
       "align_content": null,
       "align_items": null,
       "align_self": null,
       "border": null,
       "bottom": null,
       "display": null,
       "flex": null,
       "flex_flow": null,
       "grid_area": null,
       "grid_auto_columns": null,
       "grid_auto_flow": null,
       "grid_auto_rows": null,
       "grid_column": null,
       "grid_gap": null,
       "grid_row": null,
       "grid_template_areas": null,
       "grid_template_columns": null,
       "grid_template_rows": null,
       "height": null,
       "justify_content": null,
       "justify_items": null,
       "left": null,
       "margin": null,
       "max_height": null,
       "max_width": null,
       "min_height": null,
       "min_width": null,
       "object_fit": null,
       "object_position": null,
       "order": null,
       "overflow": null,
       "overflow_x": null,
       "overflow_y": null,
       "padding": null,
       "right": null,
       "top": null,
       "visibility": null,
       "width": null
      }
     },
     "d1c66dfd6c5c4f49bb256c7b807e4281": {
      "model_module": "@jupyter-widgets/base",
      "model_module_version": "1.2.0",
      "model_name": "LayoutModel",
      "state": {
       "_model_module": "@jupyter-widgets/base",
       "_model_module_version": "1.2.0",
       "_model_name": "LayoutModel",
       "_view_count": null,
       "_view_module": "@jupyter-widgets/base",
       "_view_module_version": "1.2.0",
       "_view_name": "LayoutView",
       "align_content": null,
       "align_items": null,
       "align_self": null,
       "border": null,
       "bottom": null,
       "display": null,
       "flex": null,
       "flex_flow": null,
       "grid_area": null,
       "grid_auto_columns": null,
       "grid_auto_flow": null,
       "grid_auto_rows": null,
       "grid_column": null,
       "grid_gap": null,
       "grid_row": null,
       "grid_template_areas": null,
       "grid_template_columns": null,
       "grid_template_rows": null,
       "height": null,
       "justify_content": null,
       "justify_items": null,
       "left": null,
       "margin": null,
       "max_height": null,
       "max_width": null,
       "min_height": null,
       "min_width": null,
       "object_fit": null,
       "object_position": null,
       "order": null,
       "overflow": null,
       "overflow_x": null,
       "overflow_y": null,
       "padding": null,
       "right": null,
       "top": null,
       "visibility": null,
       "width": null
      }
     },
     "d347e8d3c38e433fb677d503e1e96ecc": {
      "model_module": "@jupyter-widgets/base",
      "model_module_version": "1.2.0",
      "model_name": "LayoutModel",
      "state": {
       "_model_module": "@jupyter-widgets/base",
       "_model_module_version": "1.2.0",
       "_model_name": "LayoutModel",
       "_view_count": null,
       "_view_module": "@jupyter-widgets/base",
       "_view_module_version": "1.2.0",
       "_view_name": "LayoutView",
       "align_content": null,
       "align_items": null,
       "align_self": null,
       "border": null,
       "bottom": null,
       "display": null,
       "flex": null,
       "flex_flow": null,
       "grid_area": null,
       "grid_auto_columns": null,
       "grid_auto_flow": null,
       "grid_auto_rows": null,
       "grid_column": null,
       "grid_gap": null,
       "grid_row": null,
       "grid_template_areas": null,
       "grid_template_columns": null,
       "grid_template_rows": null,
       "height": null,
       "justify_content": null,
       "justify_items": null,
       "left": null,
       "margin": null,
       "max_height": null,
       "max_width": null,
       "min_height": null,
       "min_width": null,
       "object_fit": null,
       "object_position": null,
       "order": null,
       "overflow": null,
       "overflow_x": null,
       "overflow_y": null,
       "padding": null,
       "right": null,
       "top": null,
       "visibility": null,
       "width": null
      }
     },
     "d3d7a999e47c4b359e21bfcd0bcc3748": {
      "model_module": "@jupyter-widgets/controls",
      "model_module_version": "1.5.0",
      "model_name": "HBoxModel",
      "state": {
       "_dom_classes": [],
       "_model_module": "@jupyter-widgets/controls",
       "_model_module_version": "1.5.0",
       "_model_name": "HBoxModel",
       "_view_count": null,
       "_view_module": "@jupyter-widgets/controls",
       "_view_module_version": "1.5.0",
       "_view_name": "HBoxView",
       "box_style": "",
       "children": [
        "IPY_MODEL_345853c2e3b842e1a2fac31b472c485e",
        "IPY_MODEL_239a58e3305f4238bf69403ce4dbc333",
        "IPY_MODEL_918a8309f5f548b8983bd343f5228b9b"
       ],
       "layout": "IPY_MODEL_9182163471274cd68820bcbcc5e62992"
      }
     },
     "d5d4cf3c30aa4c00b8efdf6321617454": {
      "model_module": "@jupyter-widgets/controls",
      "model_module_version": "1.5.0",
      "model_name": "DescriptionStyleModel",
      "state": {
       "_model_module": "@jupyter-widgets/controls",
       "_model_module_version": "1.5.0",
       "_model_name": "DescriptionStyleModel",
       "_view_count": null,
       "_view_module": "@jupyter-widgets/base",
       "_view_module_version": "1.2.0",
       "_view_name": "StyleView",
       "description_width": ""
      }
     },
     "e13f32330b1d4c92a5787a6f5a2f7c33": {
      "model_module": "@jupyter-widgets/controls",
      "model_module_version": "1.5.0",
      "model_name": "HTMLModel",
      "state": {
       "_dom_classes": [],
       "_model_module": "@jupyter-widgets/controls",
       "_model_module_version": "1.5.0",
       "_model_name": "HTMLModel",
       "_view_count": null,
       "_view_module": "@jupyter-widgets/controls",
       "_view_module_version": "1.5.0",
       "_view_name": "HTMLView",
       "description": "",
       "description_tooltip": null,
       "layout": "IPY_MODEL_cf251f09c2994296ba7dee5f3cc25538",
       "placeholder": "​",
       "style": "IPY_MODEL_1f577ced42f3418c8a8ae16537f06666",
       "value": " 2.24G/2.24G [01:38&lt;00:00, 23.8MB/s]"
      }
     },
     "e6b223cde286419889a0f72979b5ee0e": {
      "model_module": "@jupyter-widgets/controls",
      "model_module_version": "1.5.0",
      "model_name": "DescriptionStyleModel",
      "state": {
       "_model_module": "@jupyter-widgets/controls",
       "_model_module_version": "1.5.0",
       "_model_name": "DescriptionStyleModel",
       "_view_count": null,
       "_view_module": "@jupyter-widgets/base",
       "_view_module_version": "1.2.0",
       "_view_name": "StyleView",
       "description_width": ""
      }
     },
     "ee0ec1f4567b47a996b39166cada7bab": {
      "model_module": "@jupyter-widgets/controls",
      "model_module_version": "1.5.0",
      "model_name": "HTMLModel",
      "state": {
       "_dom_classes": [],
       "_model_module": "@jupyter-widgets/controls",
       "_model_module_version": "1.5.0",
       "_model_name": "HTMLModel",
       "_view_count": null,
       "_view_module": "@jupyter-widgets/controls",
       "_view_module_version": "1.5.0",
       "_view_name": "HTMLView",
       "description": "",
       "description_tooltip": null,
       "layout": "IPY_MODEL_0057c1f157fa4ba9821e37df36f46b76",
       "placeholder": "​",
       "style": "IPY_MODEL_e6b223cde286419889a0f72979b5ee0e",
       "value": "Downloading: 100%"
      }
     },
     "f0e23d2ccbf24b6d9a55eb17fad06f2f": {
      "model_module": "@jupyter-widgets/base",
      "model_module_version": "1.2.0",
      "model_name": "LayoutModel",
      "state": {
       "_model_module": "@jupyter-widgets/base",
       "_model_module_version": "1.2.0",
       "_model_name": "LayoutModel",
       "_view_count": null,
       "_view_module": "@jupyter-widgets/base",
       "_view_module_version": "1.2.0",
       "_view_name": "LayoutView",
       "align_content": null,
       "align_items": null,
       "align_self": null,
       "border": null,
       "bottom": null,
       "display": null,
       "flex": null,
       "flex_flow": null,
       "grid_area": null,
       "grid_auto_columns": null,
       "grid_auto_flow": null,
       "grid_auto_rows": null,
       "grid_column": null,
       "grid_gap": null,
       "grid_row": null,
       "grid_template_areas": null,
       "grid_template_columns": null,
       "grid_template_rows": null,
       "height": null,
       "justify_content": null,
       "justify_items": null,
       "left": null,
       "margin": null,
       "max_height": null,
       "max_width": null,
       "min_height": null,
       "min_width": null,
       "object_fit": null,
       "object_position": null,
       "order": null,
       "overflow": null,
       "overflow_x": null,
       "overflow_y": null,
       "padding": null,
       "right": null,
       "top": null,
       "visibility": null,
       "width": null
      }
     },
     "f2219b6f2a05461b830d98a42c690626": {
      "model_module": "@jupyter-widgets/base",
      "model_module_version": "1.2.0",
      "model_name": "LayoutModel",
      "state": {
       "_model_module": "@jupyter-widgets/base",
       "_model_module_version": "1.2.0",
       "_model_name": "LayoutModel",
       "_view_count": null,
       "_view_module": "@jupyter-widgets/base",
       "_view_module_version": "1.2.0",
       "_view_name": "LayoutView",
       "align_content": null,
       "align_items": null,
       "align_self": null,
       "border": null,
       "bottom": null,
       "display": null,
       "flex": null,
       "flex_flow": null,
       "grid_area": null,
       "grid_auto_columns": null,
       "grid_auto_flow": null,
       "grid_auto_rows": null,
       "grid_column": null,
       "grid_gap": null,
       "grid_row": null,
       "grid_template_areas": null,
       "grid_template_columns": null,
       "grid_template_rows": null,
       "height": null,
       "justify_content": null,
       "justify_items": null,
       "left": null,
       "margin": null,
       "max_height": null,
       "max_width": null,
       "min_height": null,
       "min_width": null,
       "object_fit": null,
       "object_position": null,
       "order": null,
       "overflow": null,
       "overflow_x": null,
       "overflow_y": null,
       "padding": null,
       "right": null,
       "top": null,
       "visibility": null,
       "width": null
      }
     },
     "f3fb92b849424776beae742702f7e881": {
      "model_module": "@jupyter-widgets/controls",
      "model_module_version": "1.5.0",
      "model_name": "ProgressStyleModel",
      "state": {
       "_model_module": "@jupyter-widgets/controls",
       "_model_module_version": "1.5.0",
       "_model_name": "ProgressStyleModel",
       "_view_count": null,
       "_view_module": "@jupyter-widgets/base",
       "_view_module_version": "1.2.0",
       "_view_name": "StyleView",
       "bar_color": null,
       "description_width": ""
      }
     },
     "f73cbc3c79e14443aabb8a79c46f0142": {
      "model_module": "@jupyter-widgets/controls",
      "model_module_version": "1.5.0",
      "model_name": "DescriptionStyleModel",
      "state": {
       "_model_module": "@jupyter-widgets/controls",
       "_model_module_version": "1.5.0",
       "_model_name": "DescriptionStyleModel",
       "_view_count": null,
       "_view_module": "@jupyter-widgets/base",
       "_view_module_version": "1.2.0",
       "_view_name": "StyleView",
       "description_width": ""
      }
     },
     "f855f2759e3847e99cbf0e5971c4b807": {
      "model_module": "@jupyter-widgets/controls",
      "model_module_version": "1.5.0",
      "model_name": "FloatProgressModel",
      "state": {
       "_dom_classes": [],
       "_model_module": "@jupyter-widgets/controls",
       "_model_module_version": "1.5.0",
       "_model_name": "FloatProgressModel",
       "_view_count": null,
       "_view_module": "@jupyter-widgets/controls",
       "_view_module_version": "1.5.0",
       "_view_name": "ProgressView",
       "bar_style": "success",
       "description": "",
       "description_tooltip": null,
       "layout": "IPY_MODEL_b2a8ca366ff1432091722161b2e19055",
       "max": 2240097289.0,
       "min": 0.0,
       "orientation": "horizontal",
       "style": "IPY_MODEL_868822ffea4b40b8aa0e5cce378cb207",
       "value": 2240097289.0
      }
     },
     "fb140ac299c5463ebc1054d42a7ca29c": {
      "model_module": "@jupyter-widgets/controls",
      "model_module_version": "1.5.0",
      "model_name": "DescriptionStyleModel",
      "state": {
       "_model_module": "@jupyter-widgets/controls",
       "_model_module_version": "1.5.0",
       "_model_name": "DescriptionStyleModel",
       "_view_count": null,
       "_view_module": "@jupyter-widgets/base",
       "_view_module_version": "1.2.0",
       "_view_name": "StyleView",
       "description_width": ""
      }
     },
     "febfbc9d72ee4238a79e37fc003f9050": {
      "model_module": "@jupyter-widgets/base",
      "model_module_version": "1.2.0",
      "model_name": "LayoutModel",
      "state": {
       "_model_module": "@jupyter-widgets/base",
       "_model_module_version": "1.2.0",
       "_model_name": "LayoutModel",
       "_view_count": null,
       "_view_module": "@jupyter-widgets/base",
       "_view_module_version": "1.2.0",
       "_view_name": "LayoutView",
       "align_content": null,
       "align_items": null,
       "align_self": null,
       "border": null,
       "bottom": null,
       "display": null,
       "flex": null,
       "flex_flow": null,
       "grid_area": null,
       "grid_auto_columns": null,
       "grid_auto_flow": null,
       "grid_auto_rows": null,
       "grid_column": null,
       "grid_gap": null,
       "grid_row": null,
       "grid_template_areas": null,
       "grid_template_columns": null,
       "grid_template_rows": null,
       "height": null,
       "justify_content": null,
       "justify_items": null,
       "left": null,
       "margin": null,
       "max_height": null,
       "max_width": null,
       "min_height": null,
       "min_width": null,
       "object_fit": null,
       "object_position": null,
       "order": null,
       "overflow": null,
       "overflow_x": null,
       "overflow_y": null,
       "padding": null,
       "right": null,
       "top": null,
       "visibility": null,
       "width": null
      }
     }
    },
    "version_major": 2,
    "version_minor": 0
   }
  }
 },
 "nbformat": 4,
 "nbformat_minor": 5
}
